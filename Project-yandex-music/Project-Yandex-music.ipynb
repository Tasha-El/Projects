{
 "cells": [
  {
   "cell_type": "markdown",
   "metadata": {
    "id": "E0vqbgi9ay0H"
   },
   "source": [
    "# Яндекс.Музыка"
   ]
  },
  {
   "cell_type": "markdown",
   "metadata": {
    "id": "Ml1hmfXC_Zcs"
   },
   "source": [
    "## Обзор данных"
   ]
  },
  {
   "cell_type": "code",
   "execution_count": 1,
   "metadata": {
    "id": "AXN7PHPN_Zcs"
   },
   "outputs": [],
   "source": [
    "import pandas as pd"
   ]
  },
  {
   "cell_type": "code",
   "execution_count": 2,
   "metadata": {
    "id": "fFVu7vqh_Zct"
   },
   "outputs": [],
   "source": [
    "df = pd.read_csv('/datasets/yandex_music_project.csv')"
   ]
  },
  {
   "cell_type": "code",
   "execution_count": 3,
   "metadata": {
    "id": "oWTVX3gW_Zct",
    "scrolled": true
   },
   "outputs": [
    {
     "data": {
      "text/html": [
       "<div>\n",
       "<style scoped>\n",
       "    .dataframe tbody tr th:only-of-type {\n",
       "        vertical-align: middle;\n",
       "    }\n",
       "\n",
       "    .dataframe tbody tr th {\n",
       "        vertical-align: top;\n",
       "    }\n",
       "\n",
       "    .dataframe thead th {\n",
       "        text-align: right;\n",
       "    }\n",
       "</style>\n",
       "<table border=\"1\" class=\"dataframe\">\n",
       "  <thead>\n",
       "    <tr style=\"text-align: right;\">\n",
       "      <th></th>\n",
       "      <th>userID</th>\n",
       "      <th>Track</th>\n",
       "      <th>artist</th>\n",
       "      <th>genre</th>\n",
       "      <th>City</th>\n",
       "      <th>time</th>\n",
       "      <th>Day</th>\n",
       "    </tr>\n",
       "  </thead>\n",
       "  <tbody>\n",
       "    <tr>\n",
       "      <th>0</th>\n",
       "      <td>FFB692EC</td>\n",
       "      <td>Kamigata To Boots</td>\n",
       "      <td>The Mass Missile</td>\n",
       "      <td>rock</td>\n",
       "      <td>Saint-Petersburg</td>\n",
       "      <td>20:28:33</td>\n",
       "      <td>Wednesday</td>\n",
       "    </tr>\n",
       "    <tr>\n",
       "      <th>1</th>\n",
       "      <td>55204538</td>\n",
       "      <td>Delayed Because of Accident</td>\n",
       "      <td>Andreas Rönnberg</td>\n",
       "      <td>rock</td>\n",
       "      <td>Moscow</td>\n",
       "      <td>14:07:09</td>\n",
       "      <td>Friday</td>\n",
       "    </tr>\n",
       "    <tr>\n",
       "      <th>2</th>\n",
       "      <td>20EC38</td>\n",
       "      <td>Funiculì funiculà</td>\n",
       "      <td>Mario Lanza</td>\n",
       "      <td>pop</td>\n",
       "      <td>Saint-Petersburg</td>\n",
       "      <td>20:58:07</td>\n",
       "      <td>Wednesday</td>\n",
       "    </tr>\n",
       "    <tr>\n",
       "      <th>3</th>\n",
       "      <td>A3DD03C9</td>\n",
       "      <td>Dragons in the Sunset</td>\n",
       "      <td>Fire + Ice</td>\n",
       "      <td>folk</td>\n",
       "      <td>Saint-Petersburg</td>\n",
       "      <td>08:37:09</td>\n",
       "      <td>Monday</td>\n",
       "    </tr>\n",
       "    <tr>\n",
       "      <th>4</th>\n",
       "      <td>E2DC1FAE</td>\n",
       "      <td>Soul People</td>\n",
       "      <td>Space Echo</td>\n",
       "      <td>dance</td>\n",
       "      <td>Moscow</td>\n",
       "      <td>08:34:34</td>\n",
       "      <td>Monday</td>\n",
       "    </tr>\n",
       "    <tr>\n",
       "      <th>5</th>\n",
       "      <td>842029A1</td>\n",
       "      <td>Преданная</td>\n",
       "      <td>IMPERVTOR</td>\n",
       "      <td>rusrap</td>\n",
       "      <td>Saint-Petersburg</td>\n",
       "      <td>13:09:41</td>\n",
       "      <td>Friday</td>\n",
       "    </tr>\n",
       "    <tr>\n",
       "      <th>6</th>\n",
       "      <td>4CB90AA5</td>\n",
       "      <td>True</td>\n",
       "      <td>Roman Messer</td>\n",
       "      <td>dance</td>\n",
       "      <td>Moscow</td>\n",
       "      <td>13:00:07</td>\n",
       "      <td>Wednesday</td>\n",
       "    </tr>\n",
       "    <tr>\n",
       "      <th>7</th>\n",
       "      <td>F03E1C1F</td>\n",
       "      <td>Feeling This Way</td>\n",
       "      <td>Polina Griffith</td>\n",
       "      <td>dance</td>\n",
       "      <td>Moscow</td>\n",
       "      <td>20:47:49</td>\n",
       "      <td>Wednesday</td>\n",
       "    </tr>\n",
       "    <tr>\n",
       "      <th>8</th>\n",
       "      <td>8FA1D3BE</td>\n",
       "      <td>И вновь продолжается бой</td>\n",
       "      <td>NaN</td>\n",
       "      <td>ruspop</td>\n",
       "      <td>Moscow</td>\n",
       "      <td>09:17:40</td>\n",
       "      <td>Friday</td>\n",
       "    </tr>\n",
       "    <tr>\n",
       "      <th>9</th>\n",
       "      <td>E772D5C0</td>\n",
       "      <td>Pessimist</td>\n",
       "      <td>NaN</td>\n",
       "      <td>dance</td>\n",
       "      <td>Saint-Petersburg</td>\n",
       "      <td>21:20:49</td>\n",
       "      <td>Wednesday</td>\n",
       "    </tr>\n",
       "  </tbody>\n",
       "</table>\n",
       "</div>"
      ],
      "text/plain": [
       "     userID                        Track            artist   genre  \\\n",
       "0  FFB692EC            Kamigata To Boots  The Mass Missile    rock   \n",
       "1  55204538  Delayed Because of Accident  Andreas Rönnberg    rock   \n",
       "2    20EC38            Funiculì funiculà       Mario Lanza     pop   \n",
       "3  A3DD03C9        Dragons in the Sunset        Fire + Ice    folk   \n",
       "4  E2DC1FAE                  Soul People        Space Echo   dance   \n",
       "5  842029A1                    Преданная         IMPERVTOR  rusrap   \n",
       "6  4CB90AA5                         True      Roman Messer   dance   \n",
       "7  F03E1C1F             Feeling This Way   Polina Griffith   dance   \n",
       "8  8FA1D3BE     И вновь продолжается бой               NaN  ruspop   \n",
       "9  E772D5C0                    Pessimist               NaN   dance   \n",
       "\n",
       "             City        time        Day  \n",
       "0  Saint-Petersburg  20:28:33  Wednesday  \n",
       "1            Moscow  14:07:09     Friday  \n",
       "2  Saint-Petersburg  20:58:07  Wednesday  \n",
       "3  Saint-Petersburg  08:37:09     Monday  \n",
       "4            Moscow  08:34:34     Monday  \n",
       "5  Saint-Petersburg  13:09:41     Friday  \n",
       "6            Moscow  13:00:07  Wednesday  \n",
       "7            Moscow  20:47:49  Wednesday  \n",
       "8            Moscow  09:17:40     Friday  \n",
       "9  Saint-Petersburg  21:20:49  Wednesday  "
      ]
     },
     "metadata": {},
     "output_type": "display_data"
    }
   ],
   "source": [
    "display(df.head(10))"
   ]
  },
  {
   "cell_type": "code",
   "execution_count": 4,
   "metadata": {
    "id": "DSf2kIb-_Zct"
   },
   "outputs": [
    {
     "name": "stdout",
     "output_type": "stream",
     "text": [
      "<class 'pandas.core.frame.DataFrame'>\n",
      "RangeIndex: 65079 entries, 0 to 65078\n",
      "Data columns (total 7 columns):\n",
      " #   Column    Non-Null Count  Dtype \n",
      "---  ------    --------------  ----- \n",
      " 0     userID  65079 non-null  object\n",
      " 1   Track     63848 non-null  object\n",
      " 2   artist    57876 non-null  object\n",
      " 3   genre     63881 non-null  object\n",
      " 4     City    65079 non-null  object\n",
      " 5   time      65079 non-null  object\n",
      " 6   Day       65079 non-null  object\n",
      "dtypes: object(7)\n",
      "memory usage: 3.5+ MB\n"
     ]
    }
   ],
   "source": [
    "df.info()"
   ]
  },
  {
   "cell_type": "markdown",
   "metadata": {
    "id": "TaQ2Iwbr_Zct"
   },
   "source": [
    "Итак, в таблице семь столбцов. Тип данных во всех столбцах — `object`.\n",
    "\n",
    "Согласно документации к данным:\n",
    "* `userID` — идентификатор пользователя;\n",
    "* `Track` — название трека;  \n",
    "* `artist` — имя исполнителя;\n",
    "* `genre` — название жанра;\n",
    "* `City` — город пользователя;\n",
    "* `time` — время начала прослушивания;\n",
    "* `Day` — день недели.\n",
    "\n",
    "В названиях колонок видны три нарушения стиля:\n",
    "1. Строчные буквы сочетаются с прописными.\n",
    "2. Встречаются пробелы.\n",
    "3. Слова не разделены подчёркиванием.\n",
    "\n",
    "\n",
    "\n",
    "Количество значений в столбцах различается. Значит, в данных есть пропущенные значения.\n"
   ]
  },
  {
   "cell_type": "markdown",
   "metadata": {
    "id": "MCB6-dXG_Zct"
   },
   "source": [
    "**Выводы**\n",
    "\n",
    "В каждой строке таблицы — данные о прослушанном треке. Часть колонок описывает саму композицию: название, исполнителя и жанр. Остальные данные рассказывают о пользователе: из какого он города, когда он слушал музыку. \n",
    "\n",
    "Предварительно можно утверждать, что, данных достаточно для проверки гипотез. Но встречаются пропуски в данных, а в названиях колонок — расхождения с хорошим стилем.\n",
    "\n",
    "Чтобы двигаться дальше, нужно устранить проблемы в данных."
   ]
  },
  {
   "cell_type": "markdown",
   "metadata": {
    "id": "SjYF6Ub9_Zct"
   },
   "source": [
    "## Предобработка данных"
   ]
  },
  {
   "cell_type": "markdown",
   "metadata": {
    "id": "dIaKXr29_Zct"
   },
   "source": [
    "### Стиль заголовков"
   ]
  },
  {
   "cell_type": "code",
   "execution_count": 5,
   "metadata": {
    "id": "oKOTdF_Q_Zct"
   },
   "outputs": [
    {
     "data": {
      "text/plain": [
       "Index(['  userID', 'Track', 'artist', 'genre', '  City  ', 'time', 'Day'], dtype='object')"
      ]
     },
     "execution_count": 5,
     "metadata": {},
     "output_type": "execute_result"
    }
   ],
   "source": [
    "df.columns"
   ]
  },
  {
   "cell_type": "code",
   "execution_count": 6,
   "metadata": {
    "id": "ISlFqs5y_Zct"
   },
   "outputs": [],
   "source": [
    "df = df.rename(columns={'  userID':'user_id','Track':'track','  City  ':'city','Day':'day'})"
   ]
  },
  {
   "cell_type": "code",
   "execution_count": 7,
   "metadata": {
    "id": "d4NOAmTW_Zct"
   },
   "outputs": [
    {
     "data": {
      "text/plain": [
       "Index(['user_id', 'track', 'artist', 'genre', 'city', 'time', 'day'], dtype='object')"
      ]
     },
     "metadata": {},
     "output_type": "display_data"
    }
   ],
   "source": [
    "display(df.columns)"
   ]
  },
  {
   "cell_type": "markdown",
   "metadata": {
    "id": "5ISfbcfY_Zct"
   },
   "source": [
    "### Пропуски значений"
   ]
  },
  {
   "cell_type": "code",
   "execution_count": 8,
   "metadata": {
    "id": "RskX29qr_Zct"
   },
   "outputs": [
    {
     "name": "stdout",
     "output_type": "stream",
     "text": [
      "user_id       0\n",
      "track      1231\n",
      "artist     7203\n",
      "genre      1198\n",
      "city          0\n",
      "time          0\n",
      "day           0\n",
      "dtype: int64\n"
     ]
    }
   ],
   "source": [
    "print(df.isna().sum())"
   ]
  },
  {
   "cell_type": "markdown",
   "metadata": {
    "id": "qubhgnlO_Zct"
   },
   "source": [
    "Не все пропущенные значения влияют на исследование. Так в `track` и `artist` пропуски не важны для нашей работы. Достаточно заменить их явными обозначениями.\n",
    "\n",
    "Но пропуски в `genre` могут помешать сравнению музыкальных вкусов в Москве и Санкт-Петербурге. "
   ]
  },
  {
   "cell_type": "code",
   "execution_count": 9,
   "metadata": {
    "id": "KplB5qWs_Zct"
   },
   "outputs": [],
   "source": [
    "columns_to_replace = ['track','artist','genre']\n",
    "for column in columns_to_replace:\n",
    "    df[column] = df[column].fillna('unknown')"
   ]
  },
  {
   "cell_type": "code",
   "execution_count": 10,
   "metadata": {
    "id": "Tq4nYRX4_Zct"
   },
   "outputs": [
    {
     "name": "stdout",
     "output_type": "stream",
     "text": [
      "user_id    0\n",
      "track      0\n",
      "artist     0\n",
      "genre      0\n",
      "city       0\n",
      "time       0\n",
      "day        0\n",
      "dtype: int64\n"
     ]
    }
   ],
   "source": [
    "print(df.isna().sum())"
   ]
  },
  {
   "cell_type": "markdown",
   "metadata": {
    "id": "BWKRtBJ3_Zct"
   },
   "source": [
    "### Дубликаты"
   ]
  },
  {
   "cell_type": "code",
   "execution_count": 11,
   "metadata": {
    "id": "36eES_S0_Zct"
   },
   "outputs": [
    {
     "name": "stdout",
     "output_type": "stream",
     "text": [
      "3826\n"
     ]
    }
   ],
   "source": [
    "print(df.duplicated().sum())"
   ]
  },
  {
   "cell_type": "code",
   "execution_count": 12,
   "metadata": {
    "id": "exFHq6tt_Zct"
   },
   "outputs": [],
   "source": [
    "df = df.drop_duplicates().reset_index(drop=True)"
   ]
  },
  {
   "cell_type": "code",
   "execution_count": 13,
   "metadata": {
    "id": "-8PuNWQ0_Zct"
   },
   "outputs": [
    {
     "name": "stdout",
     "output_type": "stream",
     "text": [
      "0\n"
     ]
    }
   ],
   "source": [
    "print(df.duplicated().sum())"
   ]
  },
  {
   "cell_type": "code",
   "execution_count": 14,
   "metadata": {
    "id": "JIUcqzZN_Zct"
   },
   "outputs": [
    {
     "name": "stdout",
     "output_type": "stream",
     "text": [
      "['acid', 'acoustic', 'action', 'adult', 'africa', 'afrikaans', 'alternative', 'alternativepunk', 'ambient', 'americana', 'animated', 'anime', 'arabesk', 'arabic', 'arena', 'argentinetango', 'art', 'audiobook', 'author', 'avantgarde', 'axé', 'baile', 'balkan', 'beats', 'bigroom', 'black', 'bluegrass', 'blues', 'bollywood', 'bossa', 'brazilian', 'breakbeat', 'breaks', 'broadway', 'cantautori', 'cantopop', 'canzone', 'caribbean', 'caucasian', 'celtic', 'chamber', 'chanson', 'children', 'chill', 'chinese', 'choral', 'christian', 'christmas', 'classical', 'classicmetal', 'club', 'colombian', 'comedy', 'conjazz', 'contemporary', 'country', 'cuban', 'dance', 'dancehall', 'dancepop', 'dark', 'death', 'deep', 'deutschrock', 'deutschspr', 'dirty', 'disco', 'dnb', 'documentary', 'downbeat', 'downtempo', 'drum', 'dub', 'dubstep', 'eastern', 'easy', 'electronic', 'electropop', 'emo', 'entehno', 'epicmetal', 'estrada', 'ethnic', 'eurofolk', 'european', 'experimental', 'extrememetal', 'fado', 'fairytail', 'film', 'fitness', 'flamenco', 'folk', 'folklore', 'folkmetal', 'folkrock', 'folktronica', 'forró', 'frankreich', 'französisch', 'french', 'funk', 'future', 'gangsta', 'garage', 'german', 'ghazal', 'gitarre', 'glitch', 'gospel', 'gothic', 'grime', 'grunge', 'gypsy', 'handsup', \"hard'n'heavy\", 'hardcore', 'hardstyle', 'hardtechno', 'hip', 'hip-hop', 'hiphop', 'historisch', 'holiday', 'hop', 'horror', 'house', 'hymn', 'idm', 'independent', 'indian', 'indie', 'indipop', 'industrial', 'inspirational', 'instrumental', 'international', 'irish', 'jam', 'japanese', 'jazz', 'jewish', 'jpop', 'jungle', 'k-pop', 'karadeniz', 'karaoke', 'kayokyoku', 'korean', 'laiko', 'latin', 'latino', 'leftfield', 'local', 'lounge', 'loungeelectronic', 'lovers', 'malaysian', 'mandopop', 'marschmusik', 'meditative', 'mediterranean', 'melodic', 'metal', 'metalcore', 'mexican', 'middle', 'minimal', 'miscellaneous', 'modern', 'mood', 'mpb', 'muslim', 'native', 'neoklassik', 'neue', 'new', 'newage', 'newwave', 'nu', 'nujazz', 'numetal', 'oceania', 'old', 'opera', 'orchestral', 'other', 'piano', 'podcasts', 'pop', 'popdance', 'popelectronic', 'popeurodance', 'poprussian', 'post', 'posthardcore', 'postrock', 'power', 'progmetal', 'progressive', 'psychedelic', 'punjabi', 'punk', 'quebecois', 'ragga', 'ram', 'rancheras', 'rap', 'rave', 'reggae', 'reggaeton', 'regional', 'relax', 'religious', 'retro', 'rhythm', 'rnb', 'rnr', 'rock', 'rockabilly', 'rockalternative', 'rockindie', 'rockother', 'romance', 'roots', 'ruspop', 'rusrap', 'rusrock', 'russian', 'salsa', 'samba', 'scenic', 'schlager', 'self', 'sertanejo', 'shanson', 'shoegazing', 'showtunes', 'singer', 'ska', 'skarock', 'slow', 'smooth', 'soft', 'soul', 'soulful', 'sound', 'soundtrack', 'southern', 'specialty', 'speech', 'spiritual', 'sport', 'stonerrock', 'surf', 'swing', 'synthpop', 'synthrock', 'sängerportrait', 'tango', 'tanzorchester', 'taraftar', 'tatar', 'tech', 'techno', 'teen', 'thrash', 'top', 'traditional', 'tradjazz', 'trance', 'tribal', 'trip', 'triphop', 'tropical', 'türk', 'türkçe', 'ukrrock', 'unknown', 'urban', 'uzbek', 'variété', 'vi', 'videogame', 'vocal', 'western', 'world', 'worldbeat', 'ïîï', 'электроника']\n"
     ]
    }
   ],
   "source": [
    "print(sorted(df['genre'].unique()))"
   ]
  },
  {
   "cell_type": "code",
   "execution_count": 15,
   "metadata": {
    "id": "ErNDkmns_Zct"
   },
   "outputs": [],
   "source": [
    "def replace_wrong_genres(wrong_genres,correct_genre):\n",
    "    for wrong_genre in wrong_genres:\n",
    "        df['genre'] = df['genre'].replace(wrong_genre,correct_genre)"
   ]
  },
  {
   "cell_type": "code",
   "execution_count": 16,
   "metadata": {
    "id": "YN5i2hpmSo09"
   },
   "outputs": [],
   "source": [
    "duplicates = ['hip','hop','hip-hop']\n",
    "genre = 'hiphop'\n",
    "replace_wrong_genres(duplicates,genre)"
   ]
  },
  {
   "cell_type": "code",
   "execution_count": 17,
   "metadata": {
    "id": "wvixALnFG15m"
   },
   "outputs": [
    {
     "name": "stdout",
     "output_type": "stream",
     "text": [
      "['acid', 'acoustic', 'action', 'adult', 'africa', 'afrikaans', 'alternative', 'alternativepunk', 'ambient', 'americana', 'animated', 'anime', 'arabesk', 'arabic', 'arena', 'argentinetango', 'art', 'audiobook', 'author', 'avantgarde', 'axé', 'baile', 'balkan', 'beats', 'bigroom', 'black', 'bluegrass', 'blues', 'bollywood', 'bossa', 'brazilian', 'breakbeat', 'breaks', 'broadway', 'cantautori', 'cantopop', 'canzone', 'caribbean', 'caucasian', 'celtic', 'chamber', 'chanson', 'children', 'chill', 'chinese', 'choral', 'christian', 'christmas', 'classical', 'classicmetal', 'club', 'colombian', 'comedy', 'conjazz', 'contemporary', 'country', 'cuban', 'dance', 'dancehall', 'dancepop', 'dark', 'death', 'deep', 'deutschrock', 'deutschspr', 'dirty', 'disco', 'dnb', 'documentary', 'downbeat', 'downtempo', 'drum', 'dub', 'dubstep', 'eastern', 'easy', 'electronic', 'electropop', 'emo', 'entehno', 'epicmetal', 'estrada', 'ethnic', 'eurofolk', 'european', 'experimental', 'extrememetal', 'fado', 'fairytail', 'film', 'fitness', 'flamenco', 'folk', 'folklore', 'folkmetal', 'folkrock', 'folktronica', 'forró', 'frankreich', 'französisch', 'french', 'funk', 'future', 'gangsta', 'garage', 'german', 'ghazal', 'gitarre', 'glitch', 'gospel', 'gothic', 'grime', 'grunge', 'gypsy', 'handsup', \"hard'n'heavy\", 'hardcore', 'hardstyle', 'hardtechno', 'hiphop', 'historisch', 'holiday', 'horror', 'house', 'hymn', 'idm', 'independent', 'indian', 'indie', 'indipop', 'industrial', 'inspirational', 'instrumental', 'international', 'irish', 'jam', 'japanese', 'jazz', 'jewish', 'jpop', 'jungle', 'k-pop', 'karadeniz', 'karaoke', 'kayokyoku', 'korean', 'laiko', 'latin', 'latino', 'leftfield', 'local', 'lounge', 'loungeelectronic', 'lovers', 'malaysian', 'mandopop', 'marschmusik', 'meditative', 'mediterranean', 'melodic', 'metal', 'metalcore', 'mexican', 'middle', 'minimal', 'miscellaneous', 'modern', 'mood', 'mpb', 'muslim', 'native', 'neoklassik', 'neue', 'new', 'newage', 'newwave', 'nu', 'nujazz', 'numetal', 'oceania', 'old', 'opera', 'orchestral', 'other', 'piano', 'podcasts', 'pop', 'popdance', 'popelectronic', 'popeurodance', 'poprussian', 'post', 'posthardcore', 'postrock', 'power', 'progmetal', 'progressive', 'psychedelic', 'punjabi', 'punk', 'quebecois', 'ragga', 'ram', 'rancheras', 'rap', 'rave', 'reggae', 'reggaeton', 'regional', 'relax', 'religious', 'retro', 'rhythm', 'rnb', 'rnr', 'rock', 'rockabilly', 'rockalternative', 'rockindie', 'rockother', 'romance', 'roots', 'ruspop', 'rusrap', 'rusrock', 'russian', 'salsa', 'samba', 'scenic', 'schlager', 'self', 'sertanejo', 'shanson', 'shoegazing', 'showtunes', 'singer', 'ska', 'skarock', 'slow', 'smooth', 'soft', 'soul', 'soulful', 'sound', 'soundtrack', 'southern', 'specialty', 'speech', 'spiritual', 'sport', 'stonerrock', 'surf', 'swing', 'synthpop', 'synthrock', 'sängerportrait', 'tango', 'tanzorchester', 'taraftar', 'tatar', 'tech', 'techno', 'teen', 'thrash', 'top', 'traditional', 'tradjazz', 'trance', 'tribal', 'trip', 'triphop', 'tropical', 'türk', 'türkçe', 'ukrrock', 'unknown', 'urban', 'uzbek', 'variété', 'vi', 'videogame', 'vocal', 'western', 'world', 'worldbeat', 'ïîï', 'электроника']\n"
     ]
    }
   ],
   "source": [
    "print(sorted(df['genre'].unique()))"
   ]
  },
  {
   "cell_type": "markdown",
   "metadata": {
    "id": "jz6a9-7HQUDd"
   },
   "source": [
    "**Выводы**\n",
    "\n",
    "Предобработка обнаружила три проблемы в данных:\n",
    "\n",
    "- нарушения в стиле заголовков,\n",
    "- пропущенные значения,\n",
    "- дубликаты — явные и неявные.\n",
    "\n",
    "Вы исправили заголовки, чтобы упростить работу с таблицей. Без дубликатов исследование станет более точным.\n",
    "\n",
    "Пропущенные значения вы заменили на `'unknown'`. Ещё предстоит увидеть, не повредят ли исследованию пропуски в колонке `genre`.\n",
    "\n",
    "Теперь можно перейти к проверке гипотез. "
   ]
  },
  {
   "cell_type": "markdown",
   "metadata": {
    "id": "WttZHXH0SqKk"
   },
   "source": [
    "## Проверка гипотез"
   ]
  },
  {
   "cell_type": "markdown",
   "metadata": {
    "id": "Im936VVi_Zcu"
   },
   "source": [
    "### Сравнение поведения пользователей двух столиц"
   ]
  },
  {
   "cell_type": "code",
   "execution_count": 18,
   "metadata": {
    "id": "0_Qs96oh_Zcu"
   },
   "outputs": [
    {
     "name": "stdout",
     "output_type": "stream",
     "text": [
      "city\n",
      "Moscow              42741\n",
      "Saint-Petersburg    18512\n",
      "Name: genre, dtype: int64\n"
     ]
    }
   ],
   "source": [
    "print(df.groupby('city')['genre'].count())"
   ]
  },
  {
   "cell_type": "markdown",
   "metadata": {
    "id": "dzli3w8o_Zcu"
   },
   "source": [
    "В Москве прослушиваний больше, чем в Петербурге. Из этого не следует, что московские пользователи чаще слушают музыку. Просто самих пользователей в Москве больше."
   ]
  },
  {
   "cell_type": "code",
   "execution_count": 19,
   "metadata": {
    "id": "uZMKjiJz_Zcu"
   },
   "outputs": [
    {
     "name": "stdout",
     "output_type": "stream",
     "text": [
      "day\n",
      "Friday       21840\n",
      "Monday       21354\n",
      "Wednesday    18059\n",
      "Name: genre, dtype: int64\n"
     ]
    }
   ],
   "source": [
    "print(df.groupby('day')['genre'].count())"
   ]
  },
  {
   "cell_type": "markdown",
   "metadata": {
    "id": "cC2tNrlL_Zcu"
   },
   "source": [
    "В среднем пользователи из двух городов менее активны по средам. Но картина может измениться, если рассмотреть каждый город в отдельности."
   ]
  },
  {
   "cell_type": "code",
   "execution_count": 20,
   "metadata": {
    "id": "Nz3GdQB1_Zcu"
   },
   "outputs": [],
   "source": [
    "def number_tracks(day,city):\n",
    "    track_list = df[(df['day'] == day) & (df['city'] == city)]\n",
    "    track_list_count = track_list['user_id'].count()\n",
    "    return track_list_count"
   ]
  },
  {
   "cell_type": "code",
   "execution_count": 21,
   "metadata": {
    "id": "rJcRATNQ_Zcu"
   },
   "outputs": [
    {
     "data": {
      "text/plain": [
       "15740"
      ]
     },
     "execution_count": 21,
     "metadata": {},
     "output_type": "execute_result"
    }
   ],
   "source": [
    "number_tracks('Monday', 'Moscow')"
   ]
  },
  {
   "cell_type": "code",
   "execution_count": 22,
   "metadata": {
    "id": "hq_ncZ5T_Zcu"
   },
   "outputs": [
    {
     "data": {
      "text/plain": [
       "5614"
      ]
     },
     "execution_count": 22,
     "metadata": {},
     "output_type": "execute_result"
    }
   ],
   "source": [
    "number_tracks('Monday', 'Saint-Petersburg')"
   ]
  },
  {
   "cell_type": "code",
   "execution_count": 23,
   "metadata": {
    "id": "_NTy2VPU_Zcu"
   },
   "outputs": [
    {
     "data": {
      "text/plain": [
       "11056"
      ]
     },
     "execution_count": 23,
     "metadata": {},
     "output_type": "execute_result"
    }
   ],
   "source": [
    "number_tracks('Wednesday','Moscow')"
   ]
  },
  {
   "cell_type": "code",
   "execution_count": 24,
   "metadata": {
    "id": "j2y3TAwo_Zcu"
   },
   "outputs": [
    {
     "data": {
      "text/plain": [
       "7003"
      ]
     },
     "execution_count": 24,
     "metadata": {},
     "output_type": "execute_result"
    }
   ],
   "source": [
    "number_tracks('Wednesday','Saint-Petersburg')"
   ]
  },
  {
   "cell_type": "code",
   "execution_count": 25,
   "metadata": {
    "id": "vYDw5u_K_Zcu"
   },
   "outputs": [
    {
     "data": {
      "text/plain": [
       "15945"
      ]
     },
     "execution_count": 25,
     "metadata": {},
     "output_type": "execute_result"
    }
   ],
   "source": [
    "number_tracks('Friday','Moscow')"
   ]
  },
  {
   "cell_type": "code",
   "execution_count": 26,
   "metadata": {
    "id": "8_yzFtW3_Zcu"
   },
   "outputs": [
    {
     "data": {
      "text/plain": [
       "5895"
      ]
     },
     "execution_count": 26,
     "metadata": {},
     "output_type": "execute_result"
    }
   ],
   "source": [
    "number_tracks('Friday','Saint-Petersburg')"
   ]
  },
  {
   "cell_type": "code",
   "execution_count": 27,
   "metadata": {
    "id": "APAcLpOr_Zcu"
   },
   "outputs": [
    {
     "data": {
      "text/html": [
       "<div>\n",
       "<style scoped>\n",
       "    .dataframe tbody tr th:only-of-type {\n",
       "        vertical-align: middle;\n",
       "    }\n",
       "\n",
       "    .dataframe tbody tr th {\n",
       "        vertical-align: top;\n",
       "    }\n",
       "\n",
       "    .dataframe thead th {\n",
       "        text-align: right;\n",
       "    }\n",
       "</style>\n",
       "<table border=\"1\" class=\"dataframe\">\n",
       "  <thead>\n",
       "    <tr style=\"text-align: right;\">\n",
       "      <th></th>\n",
       "      <th>city</th>\n",
       "      <th>monday</th>\n",
       "      <th>wednesday</th>\n",
       "      <th>friday</th>\n",
       "    </tr>\n",
       "  </thead>\n",
       "  <tbody>\n",
       "    <tr>\n",
       "      <th>0</th>\n",
       "      <td>Moscow</td>\n",
       "      <td>15740</td>\n",
       "      <td>11056</td>\n",
       "      <td>15945</td>\n",
       "    </tr>\n",
       "    <tr>\n",
       "      <th>1</th>\n",
       "      <td>Saint-Petersburg</td>\n",
       "      <td>5614</td>\n",
       "      <td>7003</td>\n",
       "      <td>5895</td>\n",
       "    </tr>\n",
       "  </tbody>\n",
       "</table>\n",
       "</div>"
      ],
      "text/plain": [
       "               city  monday  wednesday  friday\n",
       "0            Moscow   15740      11056   15945\n",
       "1  Saint-Petersburg    5614       7003    5895"
      ]
     },
     "execution_count": 27,
     "metadata": {},
     "output_type": "execute_result"
    }
   ],
   "source": [
    "data = [['Moscow',15740,11056,15945],['Saint-Petersburg',5614,7003,5895]]\n",
    "columns = ['city', 'monday', 'wednesday', 'friday']\n",
    "pd.DataFrame(data=data, columns=columns)# Таблица с результатами"
   ]
  },
  {
   "cell_type": "markdown",
   "metadata": {
    "id": "-EgPIHYu_Zcu"
   },
   "source": [
    "**Выводы**\n",
    "\n",
    "Данные показывают разницу поведения пользователей:\n",
    "\n",
    "- В Москве пик прослушиваний приходится на понедельник и пятницу, а в среду заметен спад.\n",
    "- В Петербурге, наоборот, больше слушают музыку по средам. Активность в понедельник и пятницу здесь почти в равной мере уступает среде.\n",
    "\n",
    "Значит, данные говорят в пользу первой гипотезы."
   ]
  },
  {
   "cell_type": "markdown",
   "metadata": {
    "id": "atZAxtq4_Zcu"
   },
   "source": [
    "### Музыка в начале и в конце недели"
   ]
  },
  {
   "cell_type": "code",
   "execution_count": 28,
   "metadata": {
    "id": "qeaFfM_P_Zcu"
   },
   "outputs": [],
   "source": [
    "moscow_general = df[df['city'] == 'Moscow']"
   ]
  },
  {
   "cell_type": "code",
   "execution_count": 29,
   "metadata": {
    "id": "ORaVRKto_Zcu"
   },
   "outputs": [],
   "source": [
    "spb_general = df[df['city'] == 'Saint-Petersburg']"
   ]
  },
  {
   "cell_type": "code",
   "execution_count": 30,
   "metadata": {
    "id": "laJT9BYl_Zcu"
   },
   "outputs": [],
   "source": [
    "def genre_weekday(table, day, time1, time2):\n",
    "    genre_df = table[table['day']==day]\n",
    "    genre_df = genre_df[genre_df['time'] > time1]\n",
    "    genre_df = genre_df[genre_df['time'] < time2]\n",
    "    genre_df_count = genre_df.groupby('genre')['genre'].count()\n",
    "    genre_df_sorted = genre_df_count.sort_values(ascending=False)\n",
    "    return genre_df_sorted.head(10)"
   ]
  },
  {
   "cell_type": "code",
   "execution_count": 31,
   "metadata": {
    "id": "yz7itPUQ_Zcu"
   },
   "outputs": [
    {
     "data": {
      "text/plain": [
       "genre\n",
       "pop            781\n",
       "dance          549\n",
       "electronic     480\n",
       "rock           474\n",
       "hiphop         286\n",
       "ruspop         186\n",
       "world          181\n",
       "rusrap         175\n",
       "alternative    164\n",
       "unknown        161\n",
       "Name: genre, dtype: int64"
      ]
     },
     "execution_count": 31,
     "metadata": {},
     "output_type": "execute_result"
    }
   ],
   "source": [
    "genre_weekday(moscow_general, 'Monday', '07:00', '11:00')"
   ]
  },
  {
   "cell_type": "code",
   "execution_count": 32,
   "metadata": {
    "id": "kwUcHPdy_Zcu"
   },
   "outputs": [
    {
     "data": {
      "text/plain": [
       "genre\n",
       "pop            218\n",
       "dance          182\n",
       "rock           162\n",
       "electronic     147\n",
       "hiphop          80\n",
       "ruspop          64\n",
       "alternative     58\n",
       "rusrap          55\n",
       "jazz            44\n",
       "classical       40\n",
       "Name: genre, dtype: int64"
      ]
     },
     "execution_count": 32,
     "metadata": {},
     "output_type": "execute_result"
    }
   ],
   "source": [
    "genre_weekday(spb_general, 'Monday', '07:00', '11:00')"
   ]
  },
  {
   "cell_type": "code",
   "execution_count": 33,
   "metadata": {
    "id": "EzXVRE1o_Zcu"
   },
   "outputs": [
    {
     "data": {
      "text/plain": [
       "genre\n",
       "pop            713\n",
       "rock           517\n",
       "dance          495\n",
       "electronic     482\n",
       "hiphop         273\n",
       "world          208\n",
       "ruspop         170\n",
       "alternative    163\n",
       "classical      163\n",
       "rusrap         142\n",
       "Name: genre, dtype: int64"
      ]
     },
     "execution_count": 33,
     "metadata": {},
     "output_type": "execute_result"
    }
   ],
   "source": [
    "genre_weekday(moscow_general, 'Friday', '17:00', '23:00')"
   ]
  },
  {
   "cell_type": "code",
   "execution_count": 34,
   "metadata": {
    "id": "JZaEKu5v_Zcu"
   },
   "outputs": [
    {
     "data": {
      "text/plain": [
       "genre\n",
       "pop            256\n",
       "electronic     216\n",
       "rock           216\n",
       "dance          210\n",
       "hiphop          97\n",
       "alternative     63\n",
       "jazz            61\n",
       "classical       60\n",
       "rusrap          59\n",
       "world           54\n",
       "Name: genre, dtype: int64"
      ]
     },
     "execution_count": 34,
     "metadata": {},
     "output_type": "execute_result"
    }
   ],
   "source": [
    "genre_weekday(spb_general, 'Friday', '17:00', '23:00')"
   ]
  },
  {
   "cell_type": "markdown",
   "metadata": {
    "id": "wrCe4MNX_Zcu"
   },
   "source": [
    "**Выводы**\n",
    "\n",
    "Если сравнить топ-10 жанров в понедельник утром, можно сделать такие выводы:\n",
    "\n",
    "1. В Москве и Петербурге слушают похожую музыку. Единственное отличие — в московский рейтинг вошёл жанр “world”, а в петербургский — джаз и классика.\n",
    "\n",
    "2. В Москве пропущенных значений оказалось так много, что значение `'unknown'` заняло десятое место среди самых популярных жанров. Значит, пропущенные значения занимают существенную долю в данных и угрожают достоверности исследования.\n",
    "\n",
    "Вечер пятницы не меняет эту картину. Некоторые жанры поднимаются немного выше, другие спускаются, но в целом топ-10 остаётся тем же самым.\n",
    "\n",
    "Таким образом, вторая гипотеза подтвердилась лишь частично:\n",
    "* Пользователи слушают похожую музыку в начале недели и в конце.\n",
    "* Разница между Москвой и Петербургом не слишком выражена. В Москве чаще слушают русскую популярную музыку, в Петербурге — джаз.\n",
    "\n",
    "Однако пропуски в данных ставят под сомнение этот результат. В Москве их так много, что рейтинг топ-10 мог бы выглядеть иначе, если бы не утерянные  данные о жанрах."
   ]
  },
  {
   "cell_type": "markdown",
   "metadata": {
    "id": "JolODAqr_Zcu"
   },
   "source": [
    "### Жанровые предпочтения в Москве и Петербурге\n",
    "\n",
    "Гипотеза: Петербург — столица рэпа, музыку этого жанра там слушают чаще, чем в Москве.  А Москва — город контрастов, в котором, тем не менее, преобладает поп-музыка."
   ]
  },
  {
   "cell_type": "code",
   "execution_count": 35,
   "metadata": {
    "id": "r19lIPke_Zcu"
   },
   "outputs": [],
   "source": [
    "moscow_genres = moscow_general.groupby('genre')['user_id'].count().sort_values(ascending=False)"
   ]
  },
  {
   "cell_type": "code",
   "execution_count": 36,
   "metadata": {
    "id": "WhCSooF8_Zcv"
   },
   "outputs": [
    {
     "data": {
      "text/plain": [
       "genre\n",
       "pop            5892\n",
       "dance          4435\n",
       "rock           3965\n",
       "electronic     3786\n",
       "hiphop         2096\n",
       "classical      1616\n",
       "world          1432\n",
       "alternative    1379\n",
       "ruspop         1372\n",
       "rusrap         1161\n",
       "Name: user_id, dtype: int64"
      ]
     },
     "execution_count": 36,
     "metadata": {},
     "output_type": "execute_result"
    }
   ],
   "source": [
    "moscow_genres.head(10)"
   ]
  },
  {
   "cell_type": "code",
   "execution_count": 37,
   "metadata": {
    "id": "gluLIpE7_Zcv"
   },
   "outputs": [],
   "source": [
    "spb_genres = spb_general.groupby('genre')['user_id'].count().sort_values(ascending=False)"
   ]
  },
  {
   "cell_type": "code",
   "execution_count": 38,
   "metadata": {
    "id": "uaGJHjVU_Zcv"
   },
   "outputs": [
    {
     "data": {
      "text/plain": [
       "genre\n",
       "pop            2431\n",
       "dance          1932\n",
       "rock           1879\n",
       "electronic     1736\n",
       "hiphop          960\n",
       "alternative     649\n",
       "classical       646\n",
       "rusrap          564\n",
       "ruspop          538\n",
       "world           515\n",
       "Name: user_id, dtype: int64"
      ]
     },
     "execution_count": 38,
     "metadata": {},
     "output_type": "execute_result"
    }
   ],
   "source": [
    "spb_genres.head(10)"
   ]
  },
  {
   "cell_type": "markdown",
   "metadata": {
    "id": "RY51YJYu_Zcv"
   },
   "source": [
    "**Выводы**"
   ]
  },
  {
   "cell_type": "markdown",
   "metadata": {
    "id": "nVhnJEm__Zcv"
   },
   "source": [
    "Гипотеза частично подтвердилась:\n",
    "* Поп-музыка — самый популярный жанр в Москве, как и предполагала гипотеза. Более того, в топ-10 жанров встречается близкий жанр — русская популярная музыка.\n",
    "* Вопреки ожиданиям, рэп одинаково популярен в Москве и Петербурге. \n"
   ]
  },
  {
   "cell_type": "markdown",
   "metadata": {
    "id": "ykKQ0N65_Zcv"
   },
   "source": [
    "## Итоги исследования"
   ]
  },
  {
   "cell_type": "markdown",
   "metadata": {
    "id": "tjUwbHb3_Zcv"
   },
   "source": [
    "Мы проверили три гипотезы и установили:\n",
    "\n",
    "1. День недели по-разному влияет на активность пользователей в Москве и Петербурге. \n",
    "\n",
    "Первая гипотеза полностью подтвердилась.\n",
    "\n",
    "2. Музыкальные предпочтения не сильно меняются в течение недели — будь то Москва или Петербург. Небольшие различия заметны в начале недели, по понедельникам:\n",
    "* в Москве слушают музыку жанра “world”,\n",
    "* в Петербурге — джаз и классику.\n",
    "\n",
    "Таким образом, вторая гипотеза подтвердилась лишь отчасти. Этот результат мог оказаться иным, если бы не пропуски в данных.\n",
    "\n",
    "3. Во вкусах пользователей Москвы и Петербурга больше общего чем различий. Вопреки ожиданиям, предпочтения жанров в Петербурге напоминают московские.\n",
    "\n",
    "Третья гипотеза не подтвердилась. Если различия в предпочтениях и существуют, на основной массе пользователей они незаметны."
   ]
  }
 ],
 "metadata": {
  "ExecuteTimeLog": [
   {
    "duration": 425,
    "start_time": "2022-03-29T09:29:15.160Z"
   },
   {
    "duration": 426,
    "start_time": "2022-03-29T09:31:08.138Z"
   },
   {
    "duration": 280,
    "start_time": "2022-03-29T09:32:53.962Z"
   },
   {
    "duration": 191,
    "start_time": "2022-03-29T09:33:02.929Z"
   },
   {
    "duration": 218,
    "start_time": "2022-03-29T09:33:15.242Z"
   },
   {
    "duration": 176,
    "start_time": "2022-03-29T09:33:56.565Z"
   },
   {
    "duration": 16,
    "start_time": "2022-03-29T09:36:04.718Z"
   },
   {
    "duration": 12,
    "start_time": "2022-03-29T09:36:26.395Z"
   },
   {
    "duration": 29,
    "start_time": "2022-03-29T09:37:31.445Z"
   },
   {
    "duration": 3,
    "start_time": "2022-03-29T09:54:39.892Z"
   },
   {
    "duration": 49,
    "start_time": "2022-03-29T10:03:16.804Z"
   },
   {
    "duration": 8,
    "start_time": "2022-03-29T10:04:35.769Z"
   },
   {
    "duration": 5,
    "start_time": "2022-03-29T10:05:16.930Z"
   },
   {
    "duration": 47,
    "start_time": "2022-03-29T10:07:58.646Z"
   },
   {
    "duration": 6,
    "start_time": "2022-03-29T10:08:08.251Z"
   },
   {
    "duration": 52,
    "start_time": "2022-03-29T10:09:12.016Z"
   },
   {
    "duration": 6,
    "start_time": "2022-03-29T10:09:17.352Z"
   },
   {
    "duration": 361,
    "start_time": "2022-03-29T10:09:25.467Z"
   },
   {
    "duration": 155,
    "start_time": "2022-03-29T10:09:28.344Z"
   },
   {
    "duration": 17,
    "start_time": "2022-03-29T10:09:31.655Z"
   },
   {
    "duration": 30,
    "start_time": "2022-03-29T10:09:36.572Z"
   },
   {
    "duration": 4,
    "start_time": "2022-03-29T10:09:42.907Z"
   },
   {
    "duration": 14,
    "start_time": "2022-03-29T10:11:22.539Z"
   },
   {
    "duration": 74,
    "start_time": "2022-03-29T10:12:04.461Z"
   },
   {
    "duration": 3,
    "start_time": "2022-03-29T10:12:14.364Z"
   },
   {
    "duration": 10,
    "start_time": "2022-03-29T10:13:18.699Z"
   },
   {
    "duration": 24,
    "start_time": "2022-03-29T10:15:30.761Z"
   },
   {
    "duration": 4,
    "start_time": "2022-03-29T10:15:45.634Z"
   },
   {
    "duration": 4,
    "start_time": "2022-03-29T10:16:08.005Z"
   },
   {
    "duration": 19,
    "start_time": "2022-03-29T10:25:14.233Z"
   },
   {
    "duration": 23,
    "start_time": "2022-03-29T10:25:53.526Z"
   },
   {
    "duration": 64,
    "start_time": "2022-03-29T10:28:21.228Z"
   },
   {
    "duration": 71,
    "start_time": "2022-03-29T10:31:32.820Z"
   },
   {
    "duration": 68,
    "start_time": "2022-03-29T10:32:06.287Z"
   },
   {
    "duration": 56,
    "start_time": "2022-03-29T10:32:21.467Z"
   },
   {
    "duration": 8,
    "start_time": "2022-03-29T10:42:07.674Z"
   },
   {
    "duration": 3,
    "start_time": "2022-03-29T10:56:06.970Z"
   },
   {
    "duration": 30,
    "start_time": "2022-03-29T10:58:44.559Z"
   },
   {
    "duration": 24,
    "start_time": "2022-03-29T10:59:05.009Z"
   },
   {
    "duration": 10,
    "start_time": "2022-03-29T10:59:45.426Z"
   },
   {
    "duration": 11,
    "start_time": "2022-03-29T11:05:37.393Z"
   },
   {
    "duration": 64,
    "start_time": "2022-03-29T11:07:54.791Z"
   },
   {
    "duration": 64,
    "start_time": "2022-03-29T11:09:12.571Z"
   },
   {
    "duration": 77,
    "start_time": "2022-03-29T11:09:22.096Z"
   },
   {
    "duration": 46,
    "start_time": "2022-03-29T11:11:43.611Z"
   },
   {
    "duration": 6,
    "start_time": "2022-03-29T11:11:58.339Z"
   },
   {
    "duration": 411,
    "start_time": "2022-03-29T11:12:07.980Z"
   },
   {
    "duration": 158,
    "start_time": "2022-03-29T11:12:10.565Z"
   },
   {
    "duration": 16,
    "start_time": "2022-03-29T11:12:13.103Z"
   },
   {
    "duration": 30,
    "start_time": "2022-03-29T11:12:16.317Z"
   },
   {
    "duration": 4,
    "start_time": "2022-03-29T11:12:21.024Z"
   },
   {
    "duration": 13,
    "start_time": "2022-03-29T11:12:27.882Z"
   },
   {
    "duration": 4,
    "start_time": "2022-03-29T11:12:30.741Z"
   },
   {
    "duration": 25,
    "start_time": "2022-03-29T11:12:33.705Z"
   },
   {
    "duration": 17,
    "start_time": "2022-03-29T11:12:36.982Z"
   },
   {
    "duration": 24,
    "start_time": "2022-03-29T11:12:40.466Z"
   },
   {
    "duration": 62,
    "start_time": "2022-03-29T11:12:45.030Z"
   },
   {
    "duration": 72,
    "start_time": "2022-03-29T11:12:47.958Z"
   },
   {
    "duration": 58,
    "start_time": "2022-03-29T11:12:50.635Z"
   },
   {
    "duration": 6,
    "start_time": "2022-03-29T11:12:53.382Z"
   },
   {
    "duration": 3,
    "start_time": "2022-03-29T11:12:58.860Z"
   },
   {
    "duration": 23,
    "start_time": "2022-03-29T11:13:02.099Z"
   },
   {
    "duration": 7,
    "start_time": "2022-03-29T11:13:04.540Z"
   },
   {
    "duration": 12,
    "start_time": "2022-03-29T11:13:13.323Z"
   },
   {
    "duration": 10,
    "start_time": "2022-03-29T11:13:17.100Z"
   },
   {
    "duration": 12,
    "start_time": "2022-03-30T08:09:48.538Z"
   },
   {
    "duration": 72,
    "start_time": "2022-03-30T08:11:14.602Z"
   },
   {
    "duration": 11,
    "start_time": "2022-03-30T08:12:08.863Z"
   },
   {
    "duration": 9,
    "start_time": "2022-03-30T08:12:14.340Z"
   },
   {
    "duration": 539,
    "start_time": "2022-03-30T08:12:23.280Z"
   },
   {
    "duration": 219,
    "start_time": "2022-03-30T08:12:25.200Z"
   },
   {
    "duration": 28,
    "start_time": "2022-03-30T08:12:27.625Z"
   },
   {
    "duration": 47,
    "start_time": "2022-03-30T08:12:31.465Z"
   },
   {
    "duration": 6,
    "start_time": "2022-03-30T08:12:35.597Z"
   },
   {
    "duration": 18,
    "start_time": "2022-03-30T08:12:38.709Z"
   },
   {
    "duration": 5,
    "start_time": "2022-03-30T08:12:41.319Z"
   },
   {
    "duration": 39,
    "start_time": "2022-03-30T08:12:44.960Z"
   },
   {
    "duration": 34,
    "start_time": "2022-03-30T08:12:47.690Z"
   },
   {
    "duration": 33,
    "start_time": "2022-03-30T08:12:49.996Z"
   },
   {
    "duration": 107,
    "start_time": "2022-03-30T08:12:53.508Z"
   },
   {
    "duration": 128,
    "start_time": "2022-03-30T08:12:56.051Z"
   },
   {
    "duration": 101,
    "start_time": "2022-03-30T08:12:59.391Z"
   },
   {
    "duration": 10,
    "start_time": "2022-03-30T08:13:04.499Z"
   },
   {
    "duration": 4,
    "start_time": "2022-03-30T08:13:08.220Z"
   },
   {
    "duration": 37,
    "start_time": "2022-03-30T08:13:10.000Z"
   },
   {
    "duration": 10,
    "start_time": "2022-03-30T08:13:13.065Z"
   },
   {
    "duration": 16,
    "start_time": "2022-03-30T08:13:20.196Z"
   },
   {
    "duration": 14,
    "start_time": "2022-03-30T08:13:23.267Z"
   },
   {
    "duration": 6,
    "start_time": "2022-03-30T08:13:27.951Z"
   },
   {
    "duration": 49,
    "start_time": "2022-03-30T08:13:31.835Z"
   },
   {
    "duration": 6,
    "start_time": "2022-03-30T08:15:14.452Z"
   },
   {
    "duration": 5,
    "start_time": "2022-03-30T08:15:17.918Z"
   },
   {
    "duration": 19,
    "start_time": "2022-03-30T08:15:23.370Z"
   },
   {
    "duration": 5,
    "start_time": "2022-03-30T08:18:31.898Z"
   },
   {
    "duration": 18,
    "start_time": "2022-03-30T08:18:35.057Z"
   },
   {
    "duration": 5,
    "start_time": "2022-03-30T08:19:01.907Z"
   },
   {
    "duration": 19,
    "start_time": "2022-03-30T08:19:04.660Z"
   },
   {
    "duration": 174,
    "start_time": "2022-03-30T08:22:01.919Z"
   },
   {
    "duration": 1143,
    "start_time": "2022-03-30T08:22:15.126Z"
   },
   {
    "duration": 6,
    "start_time": "2022-03-30T08:22:34.648Z"
   },
   {
    "duration": 16,
    "start_time": "2022-03-30T08:22:41.708Z"
   },
   {
    "duration": 22,
    "start_time": "2022-03-30T08:23:05.975Z"
   },
   {
    "duration": 6,
    "start_time": "2022-03-30T08:23:09.696Z"
   },
   {
    "duration": 3,
    "start_time": "2022-03-30T08:24:31.376Z"
   },
   {
    "duration": 25,
    "start_time": "2022-03-30T08:25:45.078Z"
   },
   {
    "duration": 18,
    "start_time": "2022-03-30T08:26:09.697Z"
   },
   {
    "duration": 5,
    "start_time": "2022-03-30T08:26:18.937Z"
   },
   {
    "duration": 18,
    "start_time": "2022-03-30T08:26:30.947Z"
   },
   {
    "duration": 46,
    "start_time": "2022-03-30T08:36:05.144Z"
   },
   {
    "duration": 7,
    "start_time": "2022-03-30T08:36:27.552Z"
   },
   {
    "duration": 407,
    "start_time": "2022-03-30T08:36:33.105Z"
   },
   {
    "duration": 163,
    "start_time": "2022-03-30T08:36:43.972Z"
   },
   {
    "duration": 18,
    "start_time": "2022-03-30T08:36:47.703Z"
   },
   {
    "duration": 30,
    "start_time": "2022-03-30T08:36:54.166Z"
   },
   {
    "duration": 4,
    "start_time": "2022-03-30T08:37:00.979Z"
   },
   {
    "duration": 13,
    "start_time": "2022-03-30T08:37:03.585Z"
   },
   {
    "duration": 4,
    "start_time": "2022-03-30T08:37:07.603Z"
   },
   {
    "duration": 26,
    "start_time": "2022-03-30T08:37:10.209Z"
   },
   {
    "duration": 19,
    "start_time": "2022-03-30T08:37:14.381Z"
   },
   {
    "duration": 26,
    "start_time": "2022-03-30T08:37:17.701Z"
   },
   {
    "duration": 62,
    "start_time": "2022-03-30T08:37:21.160Z"
   },
   {
    "duration": 73,
    "start_time": "2022-03-30T08:37:23.209Z"
   },
   {
    "duration": 58,
    "start_time": "2022-03-30T08:37:26.202Z"
   },
   {
    "duration": 7,
    "start_time": "2022-03-30T08:37:29.261Z"
   },
   {
    "duration": 3,
    "start_time": "2022-03-30T08:37:33.382Z"
   },
   {
    "duration": 24,
    "start_time": "2022-03-30T08:37:36.428Z"
   },
   {
    "duration": 6,
    "start_time": "2022-03-30T08:37:39.985Z"
   },
   {
    "duration": 11,
    "start_time": "2022-03-30T08:37:45.972Z"
   },
   {
    "duration": 11,
    "start_time": "2022-03-30T08:38:29.848Z"
   },
   {
    "duration": 3,
    "start_time": "2022-03-30T08:38:34.855Z"
   },
   {
    "duration": 33,
    "start_time": "2022-03-30T08:38:38.393Z"
   },
   {
    "duration": 4,
    "start_time": "2022-03-30T08:38:47.385Z"
   },
   {
    "duration": 15,
    "start_time": "2022-03-30T08:38:53.680Z"
   },
   {
    "duration": 18,
    "start_time": "2022-03-30T08:43:48.604Z"
   },
   {
    "duration": 168,
    "start_time": "2022-03-30T08:46:05.550Z"
   },
   {
    "duration": 3,
    "start_time": "2022-03-30T08:46:11.929Z"
   },
   {
    "duration": 3,
    "start_time": "2022-03-30T08:46:18.364Z"
   },
   {
    "duration": 174,
    "start_time": "2022-03-30T08:46:20.285Z"
   },
   {
    "duration": 11,
    "start_time": "2022-03-30T08:46:22.507Z"
   },
   {
    "duration": 30,
    "start_time": "2022-03-30T08:46:25.517Z"
   },
   {
    "duration": 5,
    "start_time": "2022-03-30T08:46:29.522Z"
   },
   {
    "duration": 9,
    "start_time": "2022-03-30T08:46:32.616Z"
   },
   {
    "duration": 4,
    "start_time": "2022-03-30T08:46:34.724Z"
   },
   {
    "duration": 25,
    "start_time": "2022-03-30T08:46:38.291Z"
   },
   {
    "duration": 20,
    "start_time": "2022-03-30T08:46:41.243Z"
   },
   {
    "duration": 25,
    "start_time": "2022-03-30T08:46:43.546Z"
   },
   {
    "duration": 60,
    "start_time": "2022-03-30T08:46:46.443Z"
   },
   {
    "duration": 88,
    "start_time": "2022-03-30T08:46:49.029Z"
   },
   {
    "duration": 54,
    "start_time": "2022-03-30T08:46:54.094Z"
   },
   {
    "duration": 56,
    "start_time": "2022-03-30T08:47:00.062Z"
   },
   {
    "duration": 61,
    "start_time": "2022-03-30T08:47:12.628Z"
   },
   {
    "duration": 42,
    "start_time": "2022-03-30T08:47:16.548Z"
   },
   {
    "duration": 90,
    "start_time": "2022-03-30T08:47:20.703Z"
   },
   {
    "duration": 68,
    "start_time": "2022-03-30T08:47:22.725Z"
   },
   {
    "duration": 57,
    "start_time": "2022-03-30T08:47:24.903Z"
   },
   {
    "duration": 8,
    "start_time": "2022-03-30T08:47:27.815Z"
   },
   {
    "duration": 24,
    "start_time": "2022-03-30T08:47:31.722Z"
   },
   {
    "duration": 7,
    "start_time": "2022-03-30T08:47:35.207Z"
   },
   {
    "duration": 11,
    "start_time": "2022-03-30T08:47:40.669Z"
   },
   {
    "duration": 11,
    "start_time": "2022-03-30T08:47:43.753Z"
   },
   {
    "duration": 5,
    "start_time": "2022-03-30T08:47:47.622Z"
   },
   {
    "duration": 15,
    "start_time": "2022-03-30T08:47:50.691Z"
   },
   {
    "duration": 13,
    "start_time": "2022-03-30T08:47:53.432Z"
   },
   {
    "duration": 13,
    "start_time": "2022-03-30T08:55:57.169Z"
   },
   {
    "duration": 4,
    "start_time": "2022-03-30T08:56:44.306Z"
   },
   {
    "duration": 15,
    "start_time": "2022-03-30T08:56:47.492Z"
   },
   {
    "duration": 3,
    "start_time": "2022-03-30T08:59:51.449Z"
   },
   {
    "duration": 168,
    "start_time": "2022-03-30T08:59:51.460Z"
   },
   {
    "duration": 10,
    "start_time": "2022-03-30T08:59:51.630Z"
   },
   {
    "duration": 36,
    "start_time": "2022-03-30T08:59:51.641Z"
   },
   {
    "duration": 22,
    "start_time": "2022-03-30T08:59:51.679Z"
   },
   {
    "duration": 8,
    "start_time": "2022-03-30T08:59:51.704Z"
   },
   {
    "duration": 11,
    "start_time": "2022-03-30T08:59:51.714Z"
   },
   {
    "duration": 29,
    "start_time": "2022-03-30T08:59:51.727Z"
   },
   {
    "duration": 46,
    "start_time": "2022-03-30T08:59:51.758Z"
   },
   {
    "duration": 24,
    "start_time": "2022-03-30T08:59:51.806Z"
   },
   {
    "duration": 78,
    "start_time": "2022-03-30T08:59:51.832Z"
   },
   {
    "duration": 68,
    "start_time": "2022-03-30T08:59:51.911Z"
   },
   {
    "duration": 69,
    "start_time": "2022-03-30T08:59:51.981Z"
   },
   {
    "duration": 6,
    "start_time": "2022-03-30T08:59:52.052Z"
   },
   {
    "duration": 10,
    "start_time": "2022-03-30T08:59:52.062Z"
   },
   {
    "duration": 60,
    "start_time": "2022-03-30T08:59:52.073Z"
   },
   {
    "duration": 10,
    "start_time": "2022-03-30T08:59:52.135Z"
   },
   {
    "duration": 33,
    "start_time": "2022-03-30T08:59:52.147Z"
   },
   {
    "duration": 19,
    "start_time": "2022-03-30T08:59:52.182Z"
   },
   {
    "duration": 7,
    "start_time": "2022-03-30T08:59:52.203Z"
   },
   {
    "duration": 26,
    "start_time": "2022-03-30T08:59:52.212Z"
   },
   {
    "duration": 0,
    "start_time": "2022-03-30T08:59:52.240Z"
   },
   {
    "duration": 0,
    "start_time": "2022-03-30T08:59:52.241Z"
   },
   {
    "duration": 0,
    "start_time": "2022-03-30T08:59:52.243Z"
   },
   {
    "duration": 0,
    "start_time": "2022-03-30T08:59:52.244Z"
   },
   {
    "duration": 0,
    "start_time": "2022-03-30T08:59:52.245Z"
   },
   {
    "duration": 0,
    "start_time": "2022-03-30T08:59:52.247Z"
   },
   {
    "duration": 0,
    "start_time": "2022-03-30T08:59:52.248Z"
   },
   {
    "duration": 0,
    "start_time": "2022-03-30T08:59:52.249Z"
   },
   {
    "duration": 0,
    "start_time": "2022-03-30T08:59:52.251Z"
   },
   {
    "duration": 0,
    "start_time": "2022-03-30T08:59:52.253Z"
   },
   {
    "duration": 0,
    "start_time": "2022-03-30T08:59:52.254Z"
   },
   {
    "duration": 0,
    "start_time": "2022-03-30T08:59:52.255Z"
   },
   {
    "duration": 0,
    "start_time": "2022-03-30T08:59:52.256Z"
   },
   {
    "duration": 0,
    "start_time": "2022-03-30T08:59:52.257Z"
   },
   {
    "duration": 0,
    "start_time": "2022-03-30T08:59:52.258Z"
   },
   {
    "duration": 0,
    "start_time": "2022-03-30T08:59:52.301Z"
   },
   {
    "duration": 0,
    "start_time": "2022-03-30T08:59:52.303Z"
   },
   {
    "duration": 4,
    "start_time": "2022-03-30T09:06:09.963Z"
   },
   {
    "duration": 13,
    "start_time": "2022-03-30T09:06:13.169Z"
   },
   {
    "duration": 3,
    "start_time": "2022-03-30T09:07:13.251Z"
   },
   {
    "duration": 151,
    "start_time": "2022-03-30T09:07:42.716Z"
   },
   {
    "duration": 32,
    "start_time": "2022-03-30T09:08:15.418Z"
   },
   {
    "duration": 3,
    "start_time": "2022-03-30T09:08:46.295Z"
   },
   {
    "duration": 10,
    "start_time": "2022-03-30T09:09:17.255Z"
   },
   {
    "duration": 5,
    "start_time": "2022-03-30T09:09:20.085Z"
   },
   {
    "duration": 26,
    "start_time": "2022-03-30T09:09:24.978Z"
   },
   {
    "duration": 19,
    "start_time": "2022-03-30T09:09:29.307Z"
   },
   {
    "duration": 25,
    "start_time": "2022-03-30T09:09:35.110Z"
   },
   {
    "duration": 62,
    "start_time": "2022-03-30T09:09:40.257Z"
   },
   {
    "duration": 66,
    "start_time": "2022-03-30T09:09:43.540Z"
   },
   {
    "duration": 67,
    "start_time": "2022-03-30T09:09:47.019Z"
   },
   {
    "duration": 7,
    "start_time": "2022-03-30T09:09:52.023Z"
   },
   {
    "duration": 4,
    "start_time": "2022-03-30T09:09:56.312Z"
   },
   {
    "duration": 40,
    "start_time": "2022-03-30T09:09:58.693Z"
   },
   {
    "duration": 7,
    "start_time": "2022-03-30T09:10:02.642Z"
   },
   {
    "duration": 11,
    "start_time": "2022-03-30T09:10:08.010Z"
   },
   {
    "duration": 11,
    "start_time": "2022-03-30T09:10:11.688Z"
   },
   {
    "duration": 5,
    "start_time": "2022-03-30T09:10:16.260Z"
   },
   {
    "duration": 15,
    "start_time": "2022-03-30T09:10:24.915Z"
   },
   {
    "duration": 13,
    "start_time": "2022-03-30T09:13:18.632Z"
   },
   {
    "duration": 14,
    "start_time": "2022-03-30T09:16:08.110Z"
   },
   {
    "duration": 6,
    "start_time": "2022-03-30T09:16:13.328Z"
   },
   {
    "duration": 15,
    "start_time": "2022-03-30T09:16:16.709Z"
   },
   {
    "duration": 15,
    "start_time": "2022-03-30T09:16:28.717Z"
   },
   {
    "duration": 13,
    "start_time": "2022-03-30T09:17:15.500Z"
   },
   {
    "duration": 4,
    "start_time": "2022-03-30T09:26:48.752Z"
   },
   {
    "duration": 18,
    "start_time": "2022-03-30T09:26:52.203Z"
   },
   {
    "duration": 23,
    "start_time": "2022-03-30T09:26:55.934Z"
   },
   {
    "duration": 15,
    "start_time": "2022-03-30T09:27:37.603Z"
   },
   {
    "duration": 18,
    "start_time": "2022-03-30T09:27:39.545Z"
   },
   {
    "duration": 15,
    "start_time": "2022-03-30T09:27:42.564Z"
   },
   {
    "duration": 16,
    "start_time": "2022-03-30T09:27:44.977Z"
   },
   {
    "duration": 215,
    "start_time": "2022-03-30T09:27:53.977Z"
   },
   {
    "duration": 205,
    "start_time": "2022-03-30T09:30:32.547Z"
   },
   {
    "duration": 9,
    "start_time": "2022-03-30T09:32:22.521Z"
   },
   {
    "duration": 11,
    "start_time": "2022-03-30T09:34:27.667Z"
   },
   {
    "duration": 12,
    "start_time": "2022-03-30T09:34:51.010Z"
   },
   {
    "duration": 6,
    "start_time": "2022-03-30T09:42:43.410Z"
   },
   {
    "duration": 22,
    "start_time": "2022-03-30T09:46:24.953Z"
   },
   {
    "duration": 13,
    "start_time": "2022-03-30T09:47:23.390Z"
   },
   {
    "duration": 18,
    "start_time": "2022-03-30T09:47:53.921Z"
   },
   {
    "duration": 19,
    "start_time": "2022-03-30T09:48:20.857Z"
   },
   {
    "duration": 50,
    "start_time": "2022-03-30T17:08:39.271Z"
   },
   {
    "duration": 375,
    "start_time": "2022-03-30T17:08:54.698Z"
   },
   {
    "duration": 149,
    "start_time": "2022-03-30T17:08:55.075Z"
   },
   {
    "duration": 17,
    "start_time": "2022-03-30T17:08:55.225Z"
   },
   {
    "duration": 48,
    "start_time": "2022-03-30T17:08:55.243Z"
   },
   {
    "duration": 3,
    "start_time": "2022-03-30T17:08:55.293Z"
   },
   {
    "duration": 13,
    "start_time": "2022-03-30T17:08:55.298Z"
   },
   {
    "duration": 6,
    "start_time": "2022-03-30T17:08:55.313Z"
   },
   {
    "duration": 45,
    "start_time": "2022-03-30T17:08:55.321Z"
   },
   {
    "duration": 33,
    "start_time": "2022-03-30T17:08:55.368Z"
   },
   {
    "duration": 24,
    "start_time": "2022-03-30T17:08:55.403Z"
   },
   {
    "duration": 73,
    "start_time": "2022-03-30T17:08:55.429Z"
   },
   {
    "duration": 88,
    "start_time": "2022-03-30T17:08:55.505Z"
   },
   {
    "duration": 52,
    "start_time": "2022-03-30T17:08:55.595Z"
   },
   {
    "duration": 10,
    "start_time": "2022-03-30T17:08:55.666Z"
   },
   {
    "duration": 5,
    "start_time": "2022-03-30T17:08:55.678Z"
   },
   {
    "duration": 33,
    "start_time": "2022-03-30T17:08:55.684Z"
   },
   {
    "duration": 6,
    "start_time": "2022-03-30T17:08:55.719Z"
   },
   {
    "duration": 12,
    "start_time": "2022-03-30T17:08:55.727Z"
   },
   {
    "duration": 24,
    "start_time": "2022-03-30T17:08:55.740Z"
   },
   {
    "duration": 6,
    "start_time": "2022-03-30T17:08:55.765Z"
   },
   {
    "duration": 26,
    "start_time": "2022-03-30T17:08:55.773Z"
   },
   {
    "duration": 21,
    "start_time": "2022-03-30T17:08:55.800Z"
   },
   {
    "duration": 16,
    "start_time": "2022-03-30T17:08:55.823Z"
   },
   {
    "duration": 24,
    "start_time": "2022-03-30T17:08:55.840Z"
   },
   {
    "duration": 21,
    "start_time": "2022-03-30T17:08:55.866Z"
   },
   {
    "duration": 12,
    "start_time": "2022-03-30T17:08:55.889Z"
   },
   {
    "duration": 8,
    "start_time": "2022-03-30T17:08:55.903Z"
   },
   {
    "duration": 14,
    "start_time": "2022-03-30T17:08:55.912Z"
   },
   {
    "duration": 45,
    "start_time": "2022-03-30T17:08:55.927Z"
   },
   {
    "duration": 9,
    "start_time": "2022-03-30T17:08:55.975Z"
   },
   {
    "duration": 24,
    "start_time": "2022-03-30T17:08:55.985Z"
   },
   {
    "duration": 13,
    "start_time": "2022-03-30T17:08:56.010Z"
   },
   {
    "duration": 17,
    "start_time": "2022-03-30T17:08:56.024Z"
   },
   {
    "duration": 33,
    "start_time": "2022-03-30T17:08:56.042Z"
   },
   {
    "duration": 30,
    "start_time": "2022-03-30T17:08:56.077Z"
   },
   {
    "duration": 3,
    "start_time": "2022-03-30T17:08:56.109Z"
   },
   {
    "duration": 4,
    "start_time": "2022-03-30T17:08:56.114Z"
   },
   {
    "duration": 4,
    "start_time": "2022-03-30T17:08:56.119Z"
   },
   {
    "duration": 49,
    "start_time": "2022-03-30T17:11:57.131Z"
   },
   {
    "duration": 22,
    "start_time": "2022-03-30T17:12:15.814Z"
   },
   {
    "duration": 8,
    "start_time": "2022-03-30T17:12:46.083Z"
   },
   {
    "duration": 14,
    "start_time": "2022-03-30T17:13:40.164Z"
   },
   {
    "duration": 8,
    "start_time": "2022-03-30T17:14:01.515Z"
   },
   {
    "duration": 412,
    "start_time": "2022-04-10T15:41:37.135Z"
   },
   {
    "duration": 135,
    "start_time": "2022-04-10T15:41:37.549Z"
   },
   {
    "duration": 16,
    "start_time": "2022-04-10T15:41:37.686Z"
   },
   {
    "duration": 29,
    "start_time": "2022-04-10T15:41:37.703Z"
   },
   {
    "duration": 4,
    "start_time": "2022-04-10T15:41:37.734Z"
   },
   {
    "duration": 29,
    "start_time": "2022-04-10T15:41:37.739Z"
   },
   {
    "duration": 5,
    "start_time": "2022-04-10T15:41:37.770Z"
   },
   {
    "duration": 24,
    "start_time": "2022-04-10T15:41:37.777Z"
   },
   {
    "duration": 17,
    "start_time": "2022-04-10T15:41:37.802Z"
   },
   {
    "duration": 42,
    "start_time": "2022-04-10T15:41:37.821Z"
   },
   {
    "duration": 63,
    "start_time": "2022-04-10T15:41:37.864Z"
   },
   {
    "duration": 82,
    "start_time": "2022-04-10T15:41:37.929Z"
   },
   {
    "duration": 65,
    "start_time": "2022-04-10T15:41:38.012Z"
   },
   {
    "duration": 6,
    "start_time": "2022-04-10T15:41:38.083Z"
   },
   {
    "duration": 4,
    "start_time": "2022-04-10T15:41:38.091Z"
   },
   {
    "duration": 24,
    "start_time": "2022-04-10T15:41:38.096Z"
   },
   {
    "duration": 7,
    "start_time": "2022-04-10T15:41:38.122Z"
   },
   {
    "duration": 39,
    "start_time": "2022-04-10T15:41:38.130Z"
   },
   {
    "duration": 11,
    "start_time": "2022-04-10T15:41:38.171Z"
   },
   {
    "duration": 4,
    "start_time": "2022-04-10T15:41:38.184Z"
   },
   {
    "duration": 20,
    "start_time": "2022-04-10T15:41:38.189Z"
   },
   {
    "duration": 13,
    "start_time": "2022-04-10T15:41:38.211Z"
   },
   {
    "duration": 43,
    "start_time": "2022-04-10T15:41:38.226Z"
   },
   {
    "duration": 15,
    "start_time": "2022-04-10T15:41:38.270Z"
   },
   {
    "duration": 14,
    "start_time": "2022-04-10T15:41:38.286Z"
   },
   {
    "duration": 13,
    "start_time": "2022-04-10T15:41:38.301Z"
   },
   {
    "duration": 7,
    "start_time": "2022-04-10T15:41:38.316Z"
   },
   {
    "duration": 41,
    "start_time": "2022-04-10T15:41:38.325Z"
   },
   {
    "duration": 8,
    "start_time": "2022-04-10T15:41:38.368Z"
   },
   {
    "duration": 4,
    "start_time": "2022-04-10T15:41:38.378Z"
   },
   {
    "duration": 27,
    "start_time": "2022-04-10T15:41:38.383Z"
   },
   {
    "duration": 11,
    "start_time": "2022-04-10T15:41:38.412Z"
   },
   {
    "duration": 15,
    "start_time": "2022-04-10T15:41:38.424Z"
   },
   {
    "duration": 10,
    "start_time": "2022-04-10T15:41:38.458Z"
   },
   {
    "duration": 21,
    "start_time": "2022-04-10T15:41:38.470Z"
   },
   {
    "duration": 8,
    "start_time": "2022-04-10T15:41:38.492Z"
   },
   {
    "duration": 18,
    "start_time": "2022-04-10T15:41:38.501Z"
   },
   {
    "duration": 10,
    "start_time": "2022-04-10T15:41:38.520Z"
   },
   {
    "duration": 405,
    "start_time": "2022-04-10T15:59:21.732Z"
   },
   {
    "duration": 145,
    "start_time": "2022-04-10T15:59:22.139Z"
   },
   {
    "duration": 16,
    "start_time": "2022-04-10T15:59:22.285Z"
   },
   {
    "duration": 29,
    "start_time": "2022-04-10T15:59:22.302Z"
   },
   {
    "duration": 3,
    "start_time": "2022-04-10T15:59:22.334Z"
   },
   {
    "duration": 13,
    "start_time": "2022-04-10T15:59:22.358Z"
   },
   {
    "duration": 9,
    "start_time": "2022-04-10T15:59:22.372Z"
   },
   {
    "duration": 32,
    "start_time": "2022-04-10T15:59:22.382Z"
   },
   {
    "duration": 17,
    "start_time": "2022-04-10T15:59:22.416Z"
   },
   {
    "duration": 35,
    "start_time": "2022-04-10T15:59:22.435Z"
   },
   {
    "duration": 62,
    "start_time": "2022-04-10T15:59:22.472Z"
   },
   {
    "duration": 83,
    "start_time": "2022-04-10T15:59:22.536Z"
   },
   {
    "duration": 62,
    "start_time": "2022-04-10T15:59:22.621Z"
   },
   {
    "duration": 6,
    "start_time": "2022-04-10T15:59:22.687Z"
   },
   {
    "duration": 4,
    "start_time": "2022-04-10T15:59:22.695Z"
   },
   {
    "duration": 24,
    "start_time": "2022-04-10T15:59:22.700Z"
   },
   {
    "duration": 6,
    "start_time": "2022-04-10T15:59:22.726Z"
   },
   {
    "duration": 31,
    "start_time": "2022-04-10T15:59:22.733Z"
   },
   {
    "duration": 9,
    "start_time": "2022-04-10T15:59:22.766Z"
   },
   {
    "duration": 3,
    "start_time": "2022-04-10T15:59:22.777Z"
   },
   {
    "duration": 20,
    "start_time": "2022-04-10T15:59:22.781Z"
   },
   {
    "duration": 13,
    "start_time": "2022-04-10T15:59:22.803Z"
   },
   {
    "duration": 43,
    "start_time": "2022-04-10T15:59:22.817Z"
   },
   {
    "duration": 13,
    "start_time": "2022-04-10T15:59:22.861Z"
   },
   {
    "duration": 18,
    "start_time": "2022-04-10T15:59:22.876Z"
   },
   {
    "duration": 13,
    "start_time": "2022-04-10T15:59:22.895Z"
   },
   {
    "duration": 8,
    "start_time": "2022-04-10T15:59:22.910Z"
   },
   {
    "duration": 12,
    "start_time": "2022-04-10T15:59:22.919Z"
   },
   {
    "duration": 9,
    "start_time": "2022-04-10T15:59:22.957Z"
   },
   {
    "duration": 5,
    "start_time": "2022-04-10T15:59:22.967Z"
   },
   {
    "duration": 24,
    "start_time": "2022-04-10T15:59:22.973Z"
   },
   {
    "duration": 12,
    "start_time": "2022-04-10T15:59:22.998Z"
   },
   {
    "duration": 16,
    "start_time": "2022-04-10T15:59:23.012Z"
   },
   {
    "duration": 36,
    "start_time": "2022-04-10T15:59:23.030Z"
   },
   {
    "duration": 24,
    "start_time": "2022-04-10T15:59:23.068Z"
   },
   {
    "duration": 8,
    "start_time": "2022-04-10T15:59:23.094Z"
   },
   {
    "duration": 17,
    "start_time": "2022-04-10T15:59:23.104Z"
   },
   {
    "duration": 8,
    "start_time": "2022-04-10T15:59:23.122Z"
   },
   {
    "duration": 385,
    "start_time": "2022-04-10T16:00:07.265Z"
   },
   {
    "duration": 134,
    "start_time": "2022-04-10T16:00:07.652Z"
   },
   {
    "duration": 16,
    "start_time": "2022-04-10T16:00:07.787Z"
   },
   {
    "duration": 30,
    "start_time": "2022-04-10T16:00:07.805Z"
   },
   {
    "duration": 3,
    "start_time": "2022-04-10T16:00:07.836Z"
   },
   {
    "duration": 27,
    "start_time": "2022-04-10T16:00:07.841Z"
   },
   {
    "duration": 11,
    "start_time": "2022-04-10T16:00:07.869Z"
   },
   {
    "duration": 29,
    "start_time": "2022-04-10T16:00:07.881Z"
   },
   {
    "duration": 16,
    "start_time": "2022-04-10T16:00:07.912Z"
   },
   {
    "duration": 31,
    "start_time": "2022-04-10T16:00:07.930Z"
   },
   {
    "duration": 58,
    "start_time": "2022-04-10T16:00:07.962Z"
   },
   {
    "duration": 85,
    "start_time": "2022-04-10T16:00:08.022Z"
   },
   {
    "duration": 60,
    "start_time": "2022-04-10T16:00:08.109Z"
   },
   {
    "duration": 6,
    "start_time": "2022-04-10T16:00:08.171Z"
   },
   {
    "duration": 5,
    "start_time": "2022-04-10T16:00:08.178Z"
   },
   {
    "duration": 25,
    "start_time": "2022-04-10T16:00:08.184Z"
   },
   {
    "duration": 11,
    "start_time": "2022-04-10T16:00:08.211Z"
   },
   {
    "duration": 14,
    "start_time": "2022-04-10T16:00:08.223Z"
   },
   {
    "duration": 27,
    "start_time": "2022-04-10T16:00:08.238Z"
   },
   {
    "duration": 3,
    "start_time": "2022-04-10T16:00:08.266Z"
   },
   {
    "duration": 21,
    "start_time": "2022-04-10T16:00:08.270Z"
   },
   {
    "duration": 12,
    "start_time": "2022-04-10T16:00:08.292Z"
   },
   {
    "duration": 19,
    "start_time": "2022-04-10T16:00:08.306Z"
   },
   {
    "duration": 19,
    "start_time": "2022-04-10T16:00:08.326Z"
   },
   {
    "duration": 15,
    "start_time": "2022-04-10T16:00:08.358Z"
   },
   {
    "duration": 13,
    "start_time": "2022-04-10T16:00:08.374Z"
   },
   {
    "duration": 10,
    "start_time": "2022-04-10T16:00:08.388Z"
   },
   {
    "duration": 14,
    "start_time": "2022-04-10T16:00:08.401Z"
   },
   {
    "duration": 8,
    "start_time": "2022-04-10T16:00:08.416Z"
   },
   {
    "duration": 5,
    "start_time": "2022-04-10T16:00:08.426Z"
   },
   {
    "duration": 40,
    "start_time": "2022-04-10T16:00:08.433Z"
   },
   {
    "duration": 11,
    "start_time": "2022-04-10T16:00:08.475Z"
   },
   {
    "duration": 14,
    "start_time": "2022-04-10T16:00:08.487Z"
   },
   {
    "duration": 10,
    "start_time": "2022-04-10T16:00:08.502Z"
   },
   {
    "duration": 50,
    "start_time": "2022-04-10T16:00:08.514Z"
   },
   {
    "duration": 7,
    "start_time": "2022-04-10T16:00:08.566Z"
   },
   {
    "duration": 18,
    "start_time": "2022-04-10T16:00:08.575Z"
   },
   {
    "duration": 7,
    "start_time": "2022-04-10T16:00:08.594Z"
   },
   {
    "duration": 7,
    "start_time": "2022-04-11T10:35:57.747Z"
   },
   {
    "duration": 3,
    "start_time": "2022-04-11T10:36:03.626Z"
   },
   {
    "duration": 3,
    "start_time": "2022-04-11T10:36:56.071Z"
   },
   {
    "duration": 2,
    "start_time": "2022-04-11T10:38:41.739Z"
   },
   {
    "duration": 37,
    "start_time": "2022-04-11T10:39:17.337Z"
   },
   {
    "duration": 331,
    "start_time": "2022-04-11T10:39:22.222Z"
   },
   {
    "duration": 127,
    "start_time": "2022-04-11T10:39:22.555Z"
   },
   {
    "duration": 16,
    "start_time": "2022-04-11T10:39:22.683Z"
   },
   {
    "duration": 26,
    "start_time": "2022-04-11T10:39:22.702Z"
   },
   {
    "duration": 9,
    "start_time": "2022-04-11T10:39:22.730Z"
   },
   {
    "duration": 29,
    "start_time": "2022-04-11T10:39:22.742Z"
   },
   {
    "duration": 10,
    "start_time": "2022-04-11T10:39:22.772Z"
   },
   {
    "duration": 21,
    "start_time": "2022-04-11T10:39:22.783Z"
   },
   {
    "duration": 22,
    "start_time": "2022-04-11T10:39:22.806Z"
   },
   {
    "duration": 26,
    "start_time": "2022-04-11T10:39:22.831Z"
   },
   {
    "duration": 64,
    "start_time": "2022-04-11T10:39:22.858Z"
   },
   {
    "duration": 76,
    "start_time": "2022-04-11T10:39:22.924Z"
   },
   {
    "duration": 56,
    "start_time": "2022-04-11T10:39:23.002Z"
   },
   {
    "duration": 5,
    "start_time": "2022-04-11T10:39:23.070Z"
   },
   {
    "duration": 5,
    "start_time": "2022-04-11T10:39:23.076Z"
   },
   {
    "duration": 10,
    "start_time": "2022-04-11T10:39:23.082Z"
   },
   {
    "duration": 5,
    "start_time": "2022-04-11T10:39:23.094Z"
   },
   {
    "duration": 9,
    "start_time": "2022-04-11T10:39:23.101Z"
   },
   {
    "duration": 10,
    "start_time": "2022-04-11T10:39:23.112Z"
   },
   {
    "duration": 4,
    "start_time": "2022-04-11T10:39:23.123Z"
   },
   {
    "duration": 51,
    "start_time": "2022-04-11T10:39:23.128Z"
   },
   {
    "duration": 11,
    "start_time": "2022-04-11T10:39:23.181Z"
   },
   {
    "duration": 13,
    "start_time": "2022-04-11T10:39:23.193Z"
   },
   {
    "duration": 13,
    "start_time": "2022-04-11T10:39:23.207Z"
   },
   {
    "duration": 15,
    "start_time": "2022-04-11T10:39:23.222Z"
   },
   {
    "duration": 41,
    "start_time": "2022-04-11T10:39:23.238Z"
   },
   {
    "duration": 7,
    "start_time": "2022-04-11T10:39:23.281Z"
   },
   {
    "duration": 9,
    "start_time": "2022-04-11T10:39:23.290Z"
   },
   {
    "duration": 8,
    "start_time": "2022-04-11T10:39:23.300Z"
   },
   {
    "duration": 4,
    "start_time": "2022-04-11T10:39:23.309Z"
   },
   {
    "duration": 24,
    "start_time": "2022-04-11T10:39:23.315Z"
   },
   {
    "duration": 38,
    "start_time": "2022-04-11T10:39:23.341Z"
   },
   {
    "duration": 8,
    "start_time": "2022-04-11T10:39:23.380Z"
   },
   {
    "duration": 12,
    "start_time": "2022-04-11T10:39:23.389Z"
   },
   {
    "duration": 22,
    "start_time": "2022-04-11T10:39:23.402Z"
   },
   {
    "duration": 8,
    "start_time": "2022-04-11T10:39:23.426Z"
   },
   {
    "duration": 41,
    "start_time": "2022-04-11T10:39:23.435Z"
   },
   {
    "duration": 7,
    "start_time": "2022-04-11T10:39:23.478Z"
   },
   {
    "duration": 15,
    "start_time": "2022-04-11T10:39:32.363Z"
   },
   {
    "duration": 11,
    "start_time": "2022-04-11T10:39:47.266Z"
   },
   {
    "duration": 42,
    "start_time": "2022-04-11T10:43:22.458Z"
   },
   {
    "duration": 28,
    "start_time": "2022-04-11T10:46:13.081Z"
   },
   {
    "duration": 4,
    "start_time": "2022-04-11T10:46:34.096Z"
   },
   {
    "duration": 14,
    "start_time": "2022-04-11T10:47:32.860Z"
   },
   {
    "duration": 4,
    "start_time": "2022-04-11T10:47:39.281Z"
   },
   {
    "duration": 10,
    "start_time": "2022-04-11T10:49:20.680Z"
   },
   {
    "duration": 5,
    "start_time": "2022-04-11T10:49:22.641Z"
   },
   {
    "duration": 6,
    "start_time": "2022-04-11T10:51:50.691Z"
   },
   {
    "duration": 4,
    "start_time": "2022-04-11T10:51:56.281Z"
   },
   {
    "duration": 8,
    "start_time": "2022-04-11T10:52:05.187Z"
   },
   {
    "duration": 4,
    "start_time": "2022-04-11T10:52:06.063Z"
   },
   {
    "duration": 4,
    "start_time": "2022-04-11T10:53:04.129Z"
   },
   {
    "duration": 3,
    "start_time": "2022-04-11T10:53:08.918Z"
   },
   {
    "duration": 139,
    "start_time": "2022-04-11T10:53:08.923Z"
   },
   {
    "duration": 14,
    "start_time": "2022-04-11T10:53:09.064Z"
   },
   {
    "duration": 27,
    "start_time": "2022-04-11T10:53:09.079Z"
   },
   {
    "duration": 3,
    "start_time": "2022-04-11T10:53:09.108Z"
   },
   {
    "duration": 11,
    "start_time": "2022-04-11T10:53:09.113Z"
   },
   {
    "duration": 4,
    "start_time": "2022-04-11T10:53:09.125Z"
   },
   {
    "duration": 42,
    "start_time": "2022-04-11T10:53:09.131Z"
   },
   {
    "duration": 16,
    "start_time": "2022-04-11T10:53:09.175Z"
   },
   {
    "duration": 23,
    "start_time": "2022-04-11T10:53:09.192Z"
   },
   {
    "duration": 72,
    "start_time": "2022-04-11T10:53:09.216Z"
   },
   {
    "duration": 63,
    "start_time": "2022-04-11T10:53:09.289Z"
   },
   {
    "duration": 62,
    "start_time": "2022-04-11T10:53:09.355Z"
   },
   {
    "duration": 6,
    "start_time": "2022-04-11T10:53:09.418Z"
   },
   {
    "duration": 3,
    "start_time": "2022-04-11T10:53:09.425Z"
   },
   {
    "duration": 10,
    "start_time": "2022-04-11T10:53:09.430Z"
   },
   {
    "duration": 6,
    "start_time": "2022-04-11T10:53:09.441Z"
   },
   {
    "duration": 8,
    "start_time": "2022-04-11T10:53:09.471Z"
   },
   {
    "duration": 9,
    "start_time": "2022-04-11T10:53:09.481Z"
   },
   {
    "duration": 3,
    "start_time": "2022-04-11T10:53:09.491Z"
   },
   {
    "duration": 17,
    "start_time": "2022-04-11T10:53:09.496Z"
   },
   {
    "duration": 13,
    "start_time": "2022-04-11T10:53:09.515Z"
   },
   {
    "duration": 43,
    "start_time": "2022-04-11T10:53:09.530Z"
   },
   {
    "duration": 12,
    "start_time": "2022-04-11T10:53:09.575Z"
   },
   {
    "duration": 12,
    "start_time": "2022-04-11T10:53:09.588Z"
   },
   {
    "duration": 11,
    "start_time": "2022-04-11T10:53:09.602Z"
   },
   {
    "duration": 8,
    "start_time": "2022-04-11T10:53:09.614Z"
   },
   {
    "duration": 13,
    "start_time": "2022-04-11T10:53:09.623Z"
   },
   {
    "duration": 39,
    "start_time": "2022-04-11T10:53:09.637Z"
   },
   {
    "duration": 4,
    "start_time": "2022-04-11T10:53:09.678Z"
   },
   {
    "duration": 20,
    "start_time": "2022-04-11T10:53:09.683Z"
   },
   {
    "duration": 12,
    "start_time": "2022-04-11T10:53:09.704Z"
   },
   {
    "duration": 15,
    "start_time": "2022-04-11T10:53:09.717Z"
   },
   {
    "duration": 10,
    "start_time": "2022-04-11T10:53:09.733Z"
   },
   {
    "duration": 29,
    "start_time": "2022-04-11T10:53:09.744Z"
   },
   {
    "duration": 5,
    "start_time": "2022-04-11T10:53:09.774Z"
   },
   {
    "duration": 9,
    "start_time": "2022-04-11T10:53:09.782Z"
   },
   {
    "duration": 7,
    "start_time": "2022-04-11T10:53:09.792Z"
   },
   {
    "duration": 436,
    "start_time": "2022-04-12T07:10:41.531Z"
   },
   {
    "duration": 188,
    "start_time": "2022-04-12T07:10:41.969Z"
   },
   {
    "duration": 19,
    "start_time": "2022-04-12T07:10:42.159Z"
   },
   {
    "duration": 35,
    "start_time": "2022-04-12T07:10:42.179Z"
   },
   {
    "duration": 5,
    "start_time": "2022-04-12T07:10:42.216Z"
   },
   {
    "duration": 14,
    "start_time": "2022-04-12T07:10:42.234Z"
   },
   {
    "duration": 7,
    "start_time": "2022-04-12T07:10:42.250Z"
   },
   {
    "duration": 32,
    "start_time": "2022-04-12T07:10:42.259Z"
   },
   {
    "duration": 48,
    "start_time": "2022-04-12T07:10:42.294Z"
   },
   {
    "duration": 44,
    "start_time": "2022-04-12T07:10:42.344Z"
   },
   {
    "duration": 111,
    "start_time": "2022-04-12T07:10:42.390Z"
   },
   {
    "duration": 95,
    "start_time": "2022-04-12T07:10:42.502Z"
   },
   {
    "duration": 78,
    "start_time": "2022-04-12T07:10:42.599Z"
   },
   {
    "duration": 7,
    "start_time": "2022-04-12T07:10:42.682Z"
   },
   {
    "duration": 5,
    "start_time": "2022-04-12T07:10:42.691Z"
   },
   {
    "duration": 15,
    "start_time": "2022-04-12T07:10:42.698Z"
   },
   {
    "duration": 24,
    "start_time": "2022-04-12T07:10:42.715Z"
   },
   {
    "duration": 19,
    "start_time": "2022-04-12T07:10:42.742Z"
   },
   {
    "duration": 17,
    "start_time": "2022-04-12T07:10:42.763Z"
   },
   {
    "duration": 4,
    "start_time": "2022-04-12T07:10:42.782Z"
   },
   {
    "duration": 25,
    "start_time": "2022-04-12T07:10:42.788Z"
   },
   {
    "duration": 21,
    "start_time": "2022-04-12T07:10:42.834Z"
   },
   {
    "duration": 17,
    "start_time": "2022-04-12T07:10:42.857Z"
   },
   {
    "duration": 15,
    "start_time": "2022-04-12T07:10:42.875Z"
   },
   {
    "duration": 49,
    "start_time": "2022-04-12T07:10:42.892Z"
   },
   {
    "duration": 15,
    "start_time": "2022-04-12T07:10:42.943Z"
   },
   {
    "duration": 10,
    "start_time": "2022-04-12T07:10:42.959Z"
   },
   {
    "duration": 14,
    "start_time": "2022-04-12T07:10:42.971Z"
   },
   {
    "duration": 12,
    "start_time": "2022-04-12T07:10:42.987Z"
   },
   {
    "duration": 5,
    "start_time": "2022-04-12T07:10:43.033Z"
   },
   {
    "duration": 27,
    "start_time": "2022-04-12T07:10:43.040Z"
   },
   {
    "duration": 14,
    "start_time": "2022-04-12T07:10:43.069Z"
   },
   {
    "duration": 18,
    "start_time": "2022-04-12T07:10:43.084Z"
   },
   {
    "duration": 41,
    "start_time": "2022-04-12T07:10:43.104Z"
   },
   {
    "duration": 12,
    "start_time": "2022-04-12T07:10:43.146Z"
   },
   {
    "duration": 11,
    "start_time": "2022-04-12T07:10:43.159Z"
   },
   {
    "duration": 10,
    "start_time": "2022-04-12T07:10:43.172Z"
   },
   {
    "duration": 7,
    "start_time": "2022-04-12T07:10:43.184Z"
   }
  ],
  "colab": {
   "collapsed_sections": [
    "E0vqbgi9ay0H",
    "VUC88oWjTJw2"
   ],
   "name": "yandex_music_project.ipynb",
   "provenance": []
  },
  "kernelspec": {
   "display_name": "Python 3 (ipykernel)",
   "language": "python",
   "name": "python3"
  },
  "language_info": {
   "codemirror_mode": {
    "name": "ipython",
    "version": 3
   },
   "file_extension": ".py",
   "mimetype": "text/x-python",
   "name": "python",
   "nbconvert_exporter": "python",
   "pygments_lexer": "ipython3",
   "version": "3.9.7"
  },
  "toc": {
   "base_numbering": 1,
   "nav_menu": {},
   "number_sections": true,
   "sideBar": true,
   "skip_h1_title": true,
   "title_cell": "Table of Contents",
   "title_sidebar": "Contents",
   "toc_cell": false,
   "toc_position": {
    "height": "calc(100% - 180px)",
    "left": "10px",
    "top": "150px",
    "width": "165px"
   },
   "toc_section_display": true,
   "toc_window_display": false
  }
 },
 "nbformat": 4,
 "nbformat_minor": 1
}
