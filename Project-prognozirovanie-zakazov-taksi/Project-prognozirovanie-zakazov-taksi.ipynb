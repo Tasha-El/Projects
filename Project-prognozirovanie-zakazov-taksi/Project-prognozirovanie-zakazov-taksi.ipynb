{
 "cells": [
  {
   "cell_type": "markdown",
   "id": "33e2ca20",
   "metadata": {},
   "source": [
    "# Прогнозирование заказов такси "
   ]
  },
  {
   "cell_type": "code",
   "execution_count": 1,
   "id": "509763f7",
   "metadata": {},
   "outputs": [],
   "source": [
    "import pandas as pd \n",
    "from statsmodels.tsa.seasonal import seasonal_decompose\n",
    "import matplotlib.pyplot as plt\n",
    "from sklearn.model_selection import train_test_split\n",
    "from sklearn.linear_model import LinearRegression\n",
    "import numpy as np\n",
    "import time\n",
    "from sklearn.metrics import make_scorer\n",
    "from sklearn.metrics import mean_squared_error\n",
    "from sklearn.model_selection import TimeSeriesSplit\n",
    "from sklearn.model_selection import GridSearchCV, RandomizedSearchCV\n",
    "from sklearn.model_selection import cross_val_score\n",
    "from catboost import CatBoostRegressor\n",
    "import warnings\n",
    "warnings.simplefilter('ignore')\n",
    "from lightgbm import LGBMRegressor\n",
    "from sklearn.ensemble import RandomForestRegressor\n",
    "from sklearn.dummy import DummyRegressor"
   ]
  },
  {
   "cell_type": "code",
   "execution_count": 2,
   "id": "c8790b99",
   "metadata": {},
   "outputs": [],
   "source": [
    "df = pd.read_csv('/datasets/taxi.csv')"
   ]
  },
  {
   "cell_type": "code",
   "execution_count": 3,
   "id": "ca4936f4",
   "metadata": {},
   "outputs": [
    {
     "data": {
      "text/html": [
       "<div>\n",
       "<style scoped>\n",
       "    .dataframe tbody tr th:only-of-type {\n",
       "        vertical-align: middle;\n",
       "    }\n",
       "\n",
       "    .dataframe tbody tr th {\n",
       "        vertical-align: top;\n",
       "    }\n",
       "\n",
       "    .dataframe thead th {\n",
       "        text-align: right;\n",
       "    }\n",
       "</style>\n",
       "<table border=\"1\" class=\"dataframe\">\n",
       "  <thead>\n",
       "    <tr style=\"text-align: right;\">\n",
       "      <th></th>\n",
       "      <th>datetime</th>\n",
       "      <th>num_orders</th>\n",
       "    </tr>\n",
       "  </thead>\n",
       "  <tbody>\n",
       "    <tr>\n",
       "      <th>0</th>\n",
       "      <td>2018-03-01 00:00:00</td>\n",
       "      <td>9</td>\n",
       "    </tr>\n",
       "    <tr>\n",
       "      <th>1</th>\n",
       "      <td>2018-03-01 00:10:00</td>\n",
       "      <td>14</td>\n",
       "    </tr>\n",
       "    <tr>\n",
       "      <th>2</th>\n",
       "      <td>2018-03-01 00:20:00</td>\n",
       "      <td>28</td>\n",
       "    </tr>\n",
       "    <tr>\n",
       "      <th>3</th>\n",
       "      <td>2018-03-01 00:30:00</td>\n",
       "      <td>20</td>\n",
       "    </tr>\n",
       "    <tr>\n",
       "      <th>4</th>\n",
       "      <td>2018-03-01 00:40:00</td>\n",
       "      <td>32</td>\n",
       "    </tr>\n",
       "  </tbody>\n",
       "</table>\n",
       "</div>"
      ],
      "text/plain": [
       "              datetime  num_orders\n",
       "0  2018-03-01 00:00:00           9\n",
       "1  2018-03-01 00:10:00          14\n",
       "2  2018-03-01 00:20:00          28\n",
       "3  2018-03-01 00:30:00          20\n",
       "4  2018-03-01 00:40:00          32"
      ]
     },
     "execution_count": 3,
     "metadata": {},
     "output_type": "execute_result"
    }
   ],
   "source": [
    "df.head()"
   ]
  },
  {
   "cell_type": "code",
   "execution_count": 4,
   "id": "2d14376e",
   "metadata": {},
   "outputs": [
    {
     "name": "stdout",
     "output_type": "stream",
     "text": [
      "<class 'pandas.core.frame.DataFrame'>\n",
      "RangeIndex: 26496 entries, 0 to 26495\n",
      "Data columns (total 2 columns):\n",
      " #   Column      Non-Null Count  Dtype \n",
      "---  ------      --------------  ----- \n",
      " 0   datetime    26496 non-null  object\n",
      " 1   num_orders  26496 non-null  int64 \n",
      "dtypes: int64(1), object(1)\n",
      "memory usage: 414.1+ KB\n"
     ]
    }
   ],
   "source": [
    "df.info()"
   ]
  },
  {
   "cell_type": "code",
   "execution_count": 5,
   "id": "a4fe23eb",
   "metadata": {},
   "outputs": [
    {
     "data": {
      "text/html": [
       "<div>\n",
       "<style scoped>\n",
       "    .dataframe tbody tr th:only-of-type {\n",
       "        vertical-align: middle;\n",
       "    }\n",
       "\n",
       "    .dataframe tbody tr th {\n",
       "        vertical-align: top;\n",
       "    }\n",
       "\n",
       "    .dataframe thead th {\n",
       "        text-align: right;\n",
       "    }\n",
       "</style>\n",
       "<table border=\"1\" class=\"dataframe\">\n",
       "  <thead>\n",
       "    <tr style=\"text-align: right;\">\n",
       "      <th></th>\n",
       "      <th>num_orders</th>\n",
       "    </tr>\n",
       "  </thead>\n",
       "  <tbody>\n",
       "    <tr>\n",
       "      <th>count</th>\n",
       "      <td>26496.000000</td>\n",
       "    </tr>\n",
       "    <tr>\n",
       "      <th>mean</th>\n",
       "      <td>14.070463</td>\n",
       "    </tr>\n",
       "    <tr>\n",
       "      <th>std</th>\n",
       "      <td>9.211330</td>\n",
       "    </tr>\n",
       "    <tr>\n",
       "      <th>min</th>\n",
       "      <td>0.000000</td>\n",
       "    </tr>\n",
       "    <tr>\n",
       "      <th>25%</th>\n",
       "      <td>8.000000</td>\n",
       "    </tr>\n",
       "    <tr>\n",
       "      <th>50%</th>\n",
       "      <td>13.000000</td>\n",
       "    </tr>\n",
       "    <tr>\n",
       "      <th>75%</th>\n",
       "      <td>19.000000</td>\n",
       "    </tr>\n",
       "    <tr>\n",
       "      <th>max</th>\n",
       "      <td>119.000000</td>\n",
       "    </tr>\n",
       "  </tbody>\n",
       "</table>\n",
       "</div>"
      ],
      "text/plain": [
       "         num_orders\n",
       "count  26496.000000\n",
       "mean      14.070463\n",
       "std        9.211330\n",
       "min        0.000000\n",
       "25%        8.000000\n",
       "50%       13.000000\n",
       "75%       19.000000\n",
       "max      119.000000"
      ]
     },
     "execution_count": 5,
     "metadata": {},
     "output_type": "execute_result"
    }
   ],
   "source": [
    "df.describe()"
   ]
  },
  {
   "cell_type": "code",
   "execution_count": 6,
   "id": "01371da4",
   "metadata": {},
   "outputs": [],
   "source": [
    "# Изменим тип данных в столбце datetime\n",
    "df['datetime'] = df['datetime'].apply(pd.to_datetime)"
   ]
  },
  {
   "cell_type": "code",
   "execution_count": 7,
   "id": "70c2f237",
   "metadata": {},
   "outputs": [],
   "source": [
    "# Установим индекс таблицы равным столбцу datetime\n",
    "df = df.set_index('datetime')"
   ]
  },
  {
   "cell_type": "code",
   "execution_count": 8,
   "id": "8f11c2cd",
   "metadata": {},
   "outputs": [
    {
     "data": {
      "text/plain": [
       "True"
      ]
     },
     "execution_count": 8,
     "metadata": {},
     "output_type": "execute_result"
    }
   ],
   "source": [
    "# Посмотрим атрибут индекса таблицы is_monotonic, чтобы проверить,\n",
    "# в хронологическом ли порядке расположены даты и время  \n",
    "df.index.is_monotonic"
   ]
  },
  {
   "cell_type": "markdown",
   "id": "3999dd9f",
   "metadata": {},
   "source": [
    "Даты и время расположены в хронологическом порядке. "
   ]
  },
  {
   "cell_type": "code",
   "execution_count": 9,
   "id": "fb0c5446",
   "metadata": {},
   "outputs": [
    {
     "name": "stdout",
     "output_type": "stream",
     "text": [
      "<class 'pandas.core.frame.DataFrame'>\n",
      "DatetimeIndex: 26496 entries, 2018-03-01 00:00:00 to 2018-08-31 23:50:00\n",
      "Data columns (total 1 columns):\n",
      " #   Column      Non-Null Count  Dtype\n",
      "---  ------      --------------  -----\n",
      " 0   num_orders  26496 non-null  int64\n",
      "dtypes: int64(1)\n",
      "memory usage: 414.0 KB\n"
     ]
    }
   ],
   "source": [
    "df.info()"
   ]
  },
  {
   "cell_type": "markdown",
   "id": "9d41ff73",
   "metadata": {},
   "source": [
    "У нас есть данные с 1-го марта 2018 года по 31-ое августа этого же года. "
   ]
  },
  {
   "cell_type": "code",
   "execution_count": 10,
   "id": "19dec628",
   "metadata": {},
   "outputs": [
    {
     "data": {
      "image/png": "[encoded data removed]",
      "text/plain": [
       "<Figure size 432x288 with 1 Axes>"
      ]
     },
     "metadata": {
      "needs_background": "light"
     },
     "output_type": "display_data"
    }
   ],
   "source": [
    "# Выполним ресемплирование данных по одному часу\n",
    "df = df.resample('1H').sum()\n",
    "df.plot()\n",
    "plt.title('Заказы такси в аэрапортах')\n",
    "plt.xlabel('Месяцы')\n",
    "plt.ylabel('Кол-во заказов в час')\n",
    "plt.show()"
   ]
  },
  {
   "cell_type": "markdown",
   "id": "7f4edf54",
   "metadata": {},
   "source": [
    "Из графика ничего непонятно. Лучше выбрать более короткий промежуток для рассмотрения, возьмем последнюю неделю августа.  "
   ]
  },
  {
   "cell_type": "code",
   "execution_count": 11,
   "id": "6f31a6ba",
   "metadata": {},
   "outputs": [
    {
     "data": {
      "text/plain": [
       "<AxesSubplot:xlabel='datetime'>"
      ]
     },
     "execution_count": 11,
     "metadata": {},
     "output_type": "execute_result"
    },
    {
     "data": {
      "image/png": "[encoded data removed]",
      "text/plain": [
       "<Figure size 432x288 with 1 Axes>"
      ]
     },
     "metadata": {
      "needs_background": "light"
     },
     "output_type": "display_data"
    }
   ],
   "source": [
    "# Посмотрим на неделю \n",
    "srez = df['2018-08-25':'2018-08-31']\n",
    "srez.plot()"
   ]
  },
  {
   "cell_type": "markdown",
   "id": "ee907a5a",
   "metadata": {},
   "source": [
    "Все равно много колебаний. Из графика ничего не понятно. Разложим на тренд и сезонную компоненту. "
   ]
  },
  {
   "cell_type": "code",
   "execution_count": 12,
   "id": "19c9e3eb",
   "metadata": {},
   "outputs": [
    {
     "data": {
      "image/png": "[encoded data removed]",
      "text/plain": [
       "<Figure size 432x576 with 3 Axes>"
      ]
     },
     "metadata": {
      "needs_background": "light"
     },
     "output_type": "display_data"
    }
   ],
   "source": [
    "# Разложим временной ряд на тренд и сезонную компоненту\n",
    "decomposed = seasonal_decompose(df) \n",
    "\n",
    "plt.figure(figsize=(6, 8))\n",
    "plt.subplot(311)\n",
    "\n",
    "decomposed.trend.plot(ax=plt.gca())\n",
    "plt.title('Trend')\n",
    "plt.subplot(312)\n",
    "decomposed.seasonal.plot(ax=plt.gca())\n",
    "plt.title('Seasonality')\n",
    "plt.subplot(313)\n",
    "decomposed.resid.plot(ax=plt.gca())\n",
    "plt.title('Residuals')\n",
    "plt.tight_layout()"
   ]
  },
  {
   "cell_type": "markdown",
   "id": "872ff147",
   "metadata": {},
   "source": [
    "Тренд показывает рост заказов с мая. К сожалению сезонность слишком плотная на таком графике, лучше использовать более короткий период для рассмотрения. "
   ]
  },
  {
   "cell_type": "code",
   "execution_count": 13,
   "id": "9537941b",
   "metadata": {},
   "outputs": [
    {
     "data": {
      "image/png": "[encoded data removed]",
      "text/plain": [
       "<Figure size 432x576 with 3 Axes>"
      ]
     },
     "metadata": {
      "needs_background": "light"
     },
     "output_type": "display_data"
    }
   ],
   "source": [
    "# Разложим временной ряд последней недели агуста на тренд и сезонную компоненту \n",
    "decomposed = seasonal_decompose(df['2018-08-25':'2018-08-31']) \n",
    "\n",
    "plt.figure(figsize=(6, 8))\n",
    "plt.subplot(311)\n",
    "\n",
    "decomposed.trend.plot(ax=plt.gca())\n",
    "plt.title('Trend')\n",
    "plt.subplot(312)\n",
    "decomposed.seasonal.plot(ax=plt.gca())\n",
    "plt.title('Seasonality')\n",
    "plt.subplot(313)\n",
    "decomposed.resid.plot(ax=plt.gca())\n",
    "plt.title('Residuals')\n",
    "plt.tight_layout()"
   ]
  },
  {
   "cell_type": "markdown",
   "id": "bf54fcaf",
   "metadata": {},
   "source": [
    "Теперь мы хорошо видим сезонность, стоит рассмотреть на примере двух дней. "
   ]
  },
  {
   "cell_type": "code",
   "execution_count": 14,
   "id": "633a10ff",
   "metadata": {},
   "outputs": [
    {
     "data": {
      "text/plain": [
       "<AxesSubplot:xlabel='datetime'>"
      ]
     },
     "execution_count": 14,
     "metadata": {},
     "output_type": "execute_result"
    },
    {
     "data": {
      "image/png": "[encoded data removed]",
      "text/plain": [
       "<Figure size 432x288 with 1 Axes>"
      ]
     },
     "metadata": {
      "needs_background": "light"
     },
     "output_type": "display_data"
    }
   ],
   "source": [
    "# Посмотрим на сезонную компоненту двух дней. \n",
    "decomposed = seasonal_decompose(df)\n",
    "decomposed.seasonal['2018-08-25':'2018-08-26'].plot()"
   ]
  },
  {
   "cell_type": "markdown",
   "id": "387bea4f",
   "metadata": {},
   "source": [
    "Мы наблюдаем рост тренда за последние 3 дня, соотвественно кол-во заказов растет. Сезонность показывает нам, что ранним утром, в районе 06.00 утра кол-во заказов минимальное, а в промежутке с 18.00 наблюдается постепенный рост заказов вплоть до полуночи, затем снижение до 06.00 утра. "
   ]
  },
  {
   "cell_type": "code",
   "execution_count": 15,
   "id": "ee35b914",
   "metadata": {},
   "outputs": [
    {
     "data": {
      "image/png": "[encoded data removed]",
      "text/plain": [
       "<Figure size 432x288 with 1 Axes>"
      ]
     },
     "metadata": {
      "needs_background": "light"
     },
     "output_type": "display_data"
    }
   ],
   "source": [
    "# Найдём скользящее стандартное отклонение\n",
    "qw = df['num_orders'].rolling(24).mean()\n",
    "er = df['num_orders'].rolling(24).std()\n",
    "fig, ax = plt.subplots()\n",
    "ax.plot(qw, label='Mean') \n",
    "ax.plot(er, label='Std')\n",
    "plt.title('Скользящее стандартное отклонение')\n",
    "plt.legend()\n",
    "plt.show() "
   ]
  },
  {
   "cell_type": "code",
   "execution_count": 16,
   "id": "b4888efb",
   "metadata": {},
   "outputs": [
    {
     "name": "stdout",
     "output_type": "stream",
     "text": [
      "Если значение с индексом 1 меньше P-Value, заданное нами (обычно берут 0.05), то ряд стационарный\n",
      "Наш ряд стационарный\n"
     ]
    }
   ],
   "source": [
    "from statsmodels.tsa.stattools import adfuller\n",
    "\n",
    "ts = df['num_orders']\n",
    "st_test = adfuller(ts, regression='ctt')\n",
    "\n",
    "print('Если значение с индексом 1 меньше P-Value, заданное нами (обычно берут 0.05), то ряд стационарный')\n",
    "if st_test[1] < 0.05:\n",
    "    print('Наш ряд стационарный')\n",
    "else:\n",
    "    print('Ряд нестационарный')"
   ]
  },
  {
   "cell_type": "markdown",
   "id": "960e43f7",
   "metadata": {},
   "source": [
    "## Прогнозирование "
   ]
  },
  {
   "cell_type": "code",
   "execution_count": 17,
   "id": "0e4015bb",
   "metadata": {},
   "outputs": [],
   "source": [
    "# Создадим признаки\n",
    "def make_features(data, max_lag, rolling_mean_size):\n",
    "    \n",
    "    df['dayofweek'] = df.index.dayofweek\n",
    "    \n",
    "    df['hour'] = df.index.hour\n",
    "    \n",
    "    for lag in range(1, max_lag + 1):\n",
    "        df['lag_{}'.format(lag)] = df['num_orders'].shift(lag)\n",
    "\n",
    "\n",
    "    df['rolling_mean'] = df['num_orders'].shift().rolling(rolling_mean_size).mean()"
   ]
  },
  {
   "cell_type": "code",
   "execution_count": 18,
   "id": "42945837",
   "metadata": {},
   "outputs": [
    {
     "name": "stdout",
     "output_type": "stream",
     "text": [
      "2018-03-03 00:00:00 2018-08-13 13:00:00\n",
      "2018-08-13 14:00:00 2018-08-31 23:00:00\n",
      "(3926, 28)\n",
      "(442, 28)\n"
     ]
    }
   ],
   "source": [
    "# Разделим выборку на обучающую и тестовую (тестовая составит 10% от исходных данных).\n",
    "make_features(df, 24, 48)\n",
    "\n",
    "train, test = train_test_split(df, shuffle=False, test_size=0.1)\n",
    "train = train.dropna()\n",
    "\n",
    "# Проверим корректность деления \n",
    "print(train.index.min(), train.index.max())\n",
    "print(test.index.min(), test.index.max())\n",
    "print(train.shape)\n",
    "print(test.shape)"
   ]
  },
  {
   "cell_type": "code",
   "execution_count": 19,
   "id": "47c92b3a",
   "metadata": {},
   "outputs": [],
   "source": [
    "# объявим переменные features и target для каждой выборки\n",
    "features_train = train.drop(['num_orders'], axis=1)\n",
    "target_train = train['num_orders']\n",
    "features_test = test.drop(['num_orders'], axis=1)\n",
    "target_test = test['num_orders']"
   ]
  },
  {
   "cell_type": "code",
   "execution_count": 20,
   "id": "b83b9898",
   "metadata": {},
   "outputs": [],
   "source": [
    "# функция для вычисления rmse\n",
    "def rmse(predict, actual):\n",
    "    predict = np.array(predict)\n",
    "    actual = np.array(actual)\n",
    "\n",
    "    difference = predict - actual\n",
    "    square_diff = np.square(difference)\n",
    "    mean_square_diff = square_diff.mean()\n",
    "    score = np.sqrt(mean_square_diff)\n",
    "    return score"
   ]
  },
  {
   "cell_type": "code",
   "execution_count": 21,
   "id": "082396b4",
   "metadata": {},
   "outputs": [],
   "source": [
    "# Для тестирования моделей кросс-валидацией необходимо создать собственный scorer, который будет высчитывать RMSE.\n",
    "rmse_score = make_scorer(rmse, greater_is_better = False)"
   ]
  },
  {
   "cell_type": "code",
   "execution_count": 22,
   "id": "41d4e200",
   "metadata": {},
   "outputs": [],
   "source": [
    "tscv = TimeSeriesSplit(n_splits=10)"
   ]
  },
  {
   "cell_type": "markdown",
   "id": "5d34a38d",
   "metadata": {},
   "source": [
    "### RandomForestRegressor"
   ]
  },
  {
   "cell_type": "code",
   "execution_count": 23,
   "id": "e58c2669",
   "metadata": {},
   "outputs": [
    {
     "name": "stdout",
     "output_type": "stream",
     "text": [
      "Fitting 10 folds for each of 10 candidates, totalling 100 fits\n",
      "-24.584780099786467\n",
      "{'n_estimators': 12, 'min_samples_leaf': 3}\n",
      "CPU times: user 1.03 s, sys: 324 ms, total: 1.36 s\n",
      "Wall time: 6.49 s\n"
     ]
    }
   ],
   "source": [
    "%%time\n",
    "model = RandomForestRegressor()\n",
    "params = { 'n_estimators': range(10,15,1),\n",
    "          'min_samples_leaf': range(1,6,2)}\n",
    "model_rfr = RandomizedSearchCV(model, params, verbose=5, scoring=rmse_score, cv=tscv, n_jobs=-1, random_state=12345)\n",
    "model_rfr.fit(features_train, target_train) \n",
    "print(model_rfr.best_score_)\n",
    "print(model_rfr.best_params_)"
   ]
  },
  {
   "cell_type": "markdown",
   "id": "a66ac1e6",
   "metadata": {},
   "source": [
    "### LinearRegression"
   ]
  },
  {
   "cell_type": "code",
   "execution_count": 24,
   "id": "74002e13",
   "metadata": {},
   "outputs": [
    {
     "name": "stdout",
     "output_type": "stream",
     "text": [
      "Fitting 10 folds for each of 2 candidates, totalling 20 fits\n",
      "-26.576380667585575\n",
      "{'fit_intercept': 'True'}\n",
      "CPU times: user 73.4 ms, sys: 16.1 ms, total: 89.5 ms\n",
      "Wall time: 101 ms\n"
     ]
    }
   ],
   "source": [
    "%%time\n",
    "model = LinearRegression()\n",
    "params = { 'fit_intercept': ['True', 'False']}\n",
    "\n",
    "model_lr = RandomizedSearchCV(model, params, verbose=5, scoring=rmse_score, cv=tscv, n_jobs=-1)\n",
    "model_lr.fit(features_train, target_train) \n",
    "print(model_lr.best_score_)\n",
    "print(model_lr.best_params_)"
   ]
  },
  {
   "cell_type": "markdown",
   "id": "9ff2c63c",
   "metadata": {},
   "source": [
    "### CatBoostRegressor"
   ]
  },
  {
   "cell_type": "code",
   "execution_count": 25,
   "id": "8897f64c",
   "metadata": {},
   "outputs": [
    {
     "name": "stdout",
     "output_type": "stream",
     "text": [
      "Fitting 10 folds for each of 3 candidates, totalling 30 fits\n",
      "-23.524294849767465\n",
      "{'verbose': False, 'random_state': 12345, 'learning_rate': 0.1}\n",
      "CPU times: user 6.18 s, sys: 1.51 s, total: 7.69 s\n",
      "Wall time: 23.7 s\n"
     ]
    }
   ],
   "source": [
    "%%time\n",
    "model = CatBoostRegressor()\n",
    "params = {'learning_rate':[0.1, 0.2, 0.3],\n",
    "                'random_state':[12345],\n",
    "                'verbose':[False]}\n",
    "\n",
    "model_CBR = RandomizedSearchCV(model, params, verbose=5, scoring=rmse_score, cv=tscv, n_jobs=-1)\n",
    "model_CBR.fit(features_train, target_train) \n",
    "print(model_CBR.best_score_)\n",
    "print(model_CBR.best_params_)"
   ]
  },
  {
   "cell_type": "markdown",
   "id": "1ed28436",
   "metadata": {},
   "source": [
    "### LGBMRegressor"
   ]
  },
  {
   "cell_type": "code",
   "execution_count": 26,
   "id": "03310ec1",
   "metadata": {},
   "outputs": [
    {
     "name": "stdout",
     "output_type": "stream",
     "text": [
      "Fitting 10 folds for each of 5 candidates, totalling 50 fits\n",
      "-24.038078396849393\n",
      "{'random_state': 12345, 'learning_rate': 0.1}\n",
      "CPU times: user 916 ms, sys: 91.8 ms, total: 1.01 s\n",
      "Wall time: 2.43 s\n"
     ]
    }
   ],
   "source": [
    "%%time\n",
    "model = LGBMRegressor() \n",
    "params = {'learning_rate':[x/10 for x in range(1, 6)],\n",
    "                'random_state':[12345]}\n",
    "model_LGBM = RandomizedSearchCV(model, params, verbose=5, scoring=rmse_score, cv=tscv, n_jobs=-1)\n",
    "model_LGBM.fit(features_train, target_train) \n",
    "print(model_LGBM.best_score_)\n",
    "print(model_LGBM.best_params_)"
   ]
  },
  {
   "cell_type": "code",
   "execution_count": 27,
   "id": "df286b99",
   "metadata": {},
   "outputs": [
    {
     "data": {
      "text/plain": [
       "40.37319006187771"
      ]
     },
     "execution_count": 27,
     "metadata": {},
     "output_type": "execute_result"
    }
   ],
   "source": [
    "# Лучший показатель у модели CatBoostRegressor. Проверим  rmse на тестовой выборке. \n",
    "pred_CBR = model_CBR.predict(features_test)\n",
    "rmse_CBR = rmse(target_test, pred_CBR)\n",
    "rmse_CBR"
   ]
  },
  {
   "cell_type": "markdown",
   "id": "fe4df0f5",
   "metadata": {},
   "source": [
    "### Проверка на адекватность"
   ]
  },
  {
   "cell_type": "code",
   "execution_count": 28,
   "id": "ece7746c",
   "metadata": {},
   "outputs": [
    {
     "data": {
      "text/plain": [
       "84.5807770460722"
      ]
     },
     "execution_count": 28,
     "metadata": {},
     "output_type": "execute_result"
    },
    {
     "name": "stdout",
     "output_type": "stream",
     "text": [
      "[CV 5/10] END min_samples_leaf=1, n_estimators=10;, score=-24.138 total time=   0.3s\n",
      "[CV 4/10] END min_samples_leaf=5, n_estimators=11;, score=-22.255 total time=   0.2s\n",
      "[CV 9/10] END min_samples_leaf=5, n_estimators=11;, score=-29.929 total time=   0.4s\n",
      "[CV 1/10] END min_samples_leaf=3, n_estimators=13;, score=-19.686 total time=   0.1s\n",
      "[CV 4/10] END min_samples_leaf=3, n_estimators=13;, score=-22.288 total time=   0.2s\n",
      "[CV 10/10] END min_samples_leaf=3, n_estimators=13;, score=-33.395 total time=   0.6s\n",
      "[CV 3/10] END min_samples_leaf=3, n_estimators=11;, score=-25.248 total time=   0.2s\n",
      "[CV 7/10] END min_samples_leaf=3, n_estimators=11;, score=-24.703 total time=   0.4s\n",
      "[CV 6/10] END min_samples_leaf=5, n_estimators=12;, score=-23.802 total time=   0.3s\n",
      "[CV 6/10] END min_samples_leaf=5, n_estimators=10;, score=-22.939 total time=   0.2s\n",
      "[CV 4/10] END min_samples_leaf=5, n_estimators=14;, score=-22.410 total time=   0.2s\n",
      "[CV 10/10] END min_samples_leaf=5, n_estimators=14;, score=-32.939 total time=   0.5s\n",
      "[CV 8/10] END learning_rate=0.1, random_state=12345, verbose=False;, score=-24.089 total time=   5.8s\n",
      "[CV 4/10] END learning_rate=0.2, random_state=12345, verbose=False;, score=-22.396 total time=   8.2s\n",
      "[CV 5/10] END learning_rate=0.3, random_state=12345, verbose=False;, score=-23.857 total time=   5.2s\n",
      "[CV 6/10] END learning_rate=0.1, random_state=12345;, score=-21.642 total time=   0.2s\n",
      "[CV 5/10] END learning_rate=0.2, random_state=12345;, score=-24.395 total time=   0.2s\n",
      "[CV 5/10] END learning_rate=0.3, random_state=12345;, score=-26.250 total time=   0.2s\n",
      "[CV 3/10] END learning_rate=0.4, random_state=12345;, score=-25.324 total time=   0.2s\n",
      "[CV 1/10] END learning_rate=0.5, random_state=12345;, score=-21.822 total time=   0.1s\n",
      "[CV 4/10] END learning_rate=0.5, random_state=12345;, score=-24.574 total time=   0.2s\n",
      "[CV 4/10] END min_samples_leaf=1, n_estimators=10;, score=-22.431 total time=   0.2s\n",
      "[CV 3/10] END min_samples_leaf=5, n_estimators=11;, score=-24.252 total time=   0.1s\n",
      "[CV 7/10] END min_samples_leaf=5, n_estimators=11;, score=-24.741 total time=   0.3s\n",
      "[CV 6/10] END min_samples_leaf=3, n_estimators=12;, score=-23.469 total time=   0.3s\n",
      "[CV 5/10] END min_samples_leaf=3, n_estimators=13;, score=-23.689 total time=   0.3s\n",
      "[CV 2/10] END min_samples_leaf=1, n_estimators=13;, score=-20.567 total time=   0.1s\n",
      "[CV 5/10] END min_samples_leaf=1, n_estimators=13;, score=-25.418 total time=   0.4s\n",
      "[CV 2/10] END min_samples_leaf=3, n_estimators=11;, score=-19.883 total time=   0.1s\n",
      "[CV 5/10] END min_samples_leaf=3, n_estimators=11;, score=-24.125 total time=   0.3s\n",
      "[CV 10/10] END min_samples_leaf=3, n_estimators=11;, score=-33.551 total time=   0.5s\n",
      "[CV 4/10] END min_samples_leaf=5, n_estimators=10;, score=-22.629 total time=   0.2s\n",
      "[CV 9/10] END min_samples_leaf=5, n_estimators=10;, score=-29.898 total time=   0.4s\n",
      "[CV 3/10] END min_samples_leaf=5, n_estimators=13;, score=-23.867 total time=   0.1s\n",
      "[CV 8/10] END min_samples_leaf=5, n_estimators=13;, score=-25.614 total time=   0.3s\n",
      "[CV 4/10] END learning_rate=0.1, random_state=12345, verbose=False;, score=-21.756 total time=   5.9s\n",
      "[CV 5/10] END learning_rate=0.2, random_state=12345, verbose=False;, score=-23.729 total time=   4.4s\n",
      "[CV 10/10] END learning_rate=0.2, random_state=12345, verbose=False;, score=-31.844 total time=   6.9s\n",
      "[CV 10/10] END learning_rate=0.3, random_state=12345, verbose=False;, score=-32.041 total time=   4.1s\n",
      "[CV 5/10] END learning_rate=0.1, random_state=12345;, score=-24.051 total time=   0.2s\n",
      "[CV 9/10] END learning_rate=0.2, random_state=12345;, score=-29.273 total time=   0.2s\n",
      "[CV 8/10] END learning_rate=0.3, random_state=12345;, score=-26.309 total time=   0.2s\n",
      "[CV 7/10] END learning_rate=0.4, random_state=12345;, score=-27.405 total time=   0.2s\n",
      "[CV 9/10] END learning_rate=0.5, random_state=12345;, score=-31.641 total time=   0.1s\n",
      "[CV 1/10] END min_samples_leaf=1, n_estimators=10;, score=-20.347 total time=   0.1s\n",
      "[CV 9/10] END min_samples_leaf=1, n_estimators=10;, score=-30.894 total time=   0.5s\n",
      "[CV 2/10] END min_samples_leaf=3, n_estimators=12;, score=-19.709 total time=   0.1s\n",
      "[CV 5/10] END min_samples_leaf=3, n_estimators=12;, score=-24.457 total time=   0.3s\n",
      "[CV 3/10] END min_samples_leaf=3, n_estimators=13;, score=-25.508 total time=   0.2s\n",
      "[CV 8/10] END min_samples_leaf=3, n_estimators=13;, score=-25.437 total time=   0.5s\n",
      "[CV 9/10] END min_samples_leaf=1, n_estimators=13;, score=-30.115 total time=   0.7s\n",
      "[CV 5/10] END min_samples_leaf=5, n_estimators=12;, score=-24.638 total time=   0.2s\n",
      "[CV 2/10] END min_samples_leaf=5, n_estimators=10;, score=-20.707 total time=   0.1s\n",
      "[CV 5/10] END min_samples_leaf=5, n_estimators=10;, score=-24.408 total time=   0.2s\n",
      "[CV 10/10] END min_samples_leaf=5, n_estimators=10;, score=-32.955 total time=   0.3s\n",
      "[CV 1/10] END min_samples_leaf=5, n_estimators=13;, score=-19.427 total time=   0.1s\n",
      "[CV 4/10] END min_samples_leaf=5, n_estimators=13;, score=-21.671 total time=   0.2s\n",
      "[CV 9/10] END min_samples_leaf=5, n_estimators=13;, score=-30.311 total time=   0.4s\n",
      "[CV 2/10] END .............fit_intercept=True;, score=-22.043 total time=   0.0s\n",
      "[CV 8/10] END ............fit_intercept=False;, score=-28.070 total time=   0.0s\n",
      "[CV 2/10] END learning_rate=0.1, random_state=12345, verbose=False;, score=-18.585 total time=   4.0s\n",
      "[CV 9/10] END learning_rate=0.1, random_state=12345, verbose=False;, score=-28.050 total time=   5.6s\n",
      "[CV 9/10] END learning_rate=0.2, random_state=12345, verbose=False;, score=-28.870 total time=   6.2s\n",
      "[CV 8/10] END learning_rate=0.3, random_state=12345, verbose=False;, score=-24.792 total time=   4.9s\n",
      "[CV 8/10] END learning_rate=0.1, random_state=12345;, score=-24.459 total time=   0.2s\n",
      "[CV 4/10] END learning_rate=0.2, random_state=12345;, score=-22.574 total time=   0.2s\n",
      "[CV 3/10] END learning_rate=0.3, random_state=12345;, score=-25.427 total time=   0.1s\n",
      "[CV 10/10] END learning_rate=0.3, random_state=12345;, score=-32.674 total time=   0.2s\n",
      "[CV 10/10] END learning_rate=0.4, random_state=12345;, score=-33.559 total time=   0.2s\n",
      "[CV 8/10] END learning_rate=0.5, random_state=12345;, score=-26.068 total time=   0.2s\n",
      "[CV 3/10] END min_samples_leaf=1, n_estimators=10;, score=-24.171 total time=   0.2s\n",
      "[CV 1/10] END min_samples_leaf=5, n_estimators=11;, score=-20.269 total time=   0.1s\n",
      "[CV 2/10] END min_samples_leaf=5, n_estimators=11;, score=-20.168 total time=   0.1s\n",
      "[CV 6/10] END min_samples_leaf=5, n_estimators=11;, score=-23.555 total time=   0.3s\n",
      "[CV 4/10] END min_samples_leaf=3, n_estimators=12;, score=-22.576 total time=   0.2s\n",
      "[CV 10/10] END min_samples_leaf=3, n_estimators=12;, score=-32.749 total time=   0.6s\n",
      "[CV 6/10] END min_samples_leaf=1, n_estimators=13;, score=-23.945 total time=   0.4s\n",
      "[CV 6/10] END min_samples_leaf=3, n_estimators=11;, score=-23.570 total time=   0.3s\n",
      "[CV 3/10] END min_samples_leaf=5, n_estimators=12;, score=-23.616 total time=   0.1s\n",
      "[CV 7/10] END min_samples_leaf=5, n_estimators=12;, score=-24.954 total time=   0.3s\n",
      "[CV 8/10] END min_samples_leaf=5, n_estimators=10;, score=-25.433 total time=   0.3s\n",
      "[CV 8/10] END min_samples_leaf=5, n_estimators=14;, score=-25.539 total time=   0.4s\n",
      "[CV 10/10] END min_samples_leaf=5, n_estimators=13;, score=-32.756 total time=   0.4s\n",
      "[CV 5/10] END learning_rate=0.1, random_state=12345, verbose=False;, score=-23.415 total time=   4.8s\n",
      "[CV 1/10] END learning_rate=0.2, random_state=12345, verbose=False;, score=-20.503 total time=   3.2s\n",
      "[CV 7/10] END learning_rate=0.2, random_state=12345, verbose=False;, score=-24.008 total time=   5.7s\n",
      "[CV 4/10] END learning_rate=0.3, random_state=12345, verbose=False;, score=-22.424 total time=   5.1s\n",
      "[CV 2/10] END learning_rate=0.1, random_state=12345;, score=-19.314 total time=   0.1s\n",
      "[CV 1/10] END learning_rate=0.2, random_state=12345;, score=-20.932 total time=   0.1s\n",
      "[CV 7/10] END learning_rate=0.2, random_state=12345;, score=-25.556 total time=   0.2s\n",
      "[CV 6/10] END learning_rate=0.3, random_state=12345;, score=-23.368 total time=   0.2s\n",
      "[CV 6/10] END learning_rate=0.4, random_state=12345;, score=-24.516 total time=   0.2s\n",
      "[CV 5/10] END learning_rate=0.5, random_state=12345;, score=-26.469 total time=   0.1s\n",
      "[CV 6/10] END min_samples_leaf=1, n_estimators=10;, score=-23.411 total time=   0.3s\n",
      "[CV 5/10] END min_samples_leaf=5, n_estimators=11;, score=-24.429 total time=   0.2s\n",
      "[CV 1/10] END min_samples_leaf=3, n_estimators=12;, score=-19.493 total time=   0.1s\n",
      "[CV 3/10] END min_samples_leaf=3, n_estimators=12;, score=-23.707 total time=   0.2s\n",
      "[CV 9/10] END min_samples_leaf=3, n_estimators=12;, score=-30.227 total time=   0.5s\n",
      "[CV 1/10] END min_samples_leaf=1, n_estimators=13;, score=-19.957 total time=   0.1s\n",
      "[CV 3/10] END min_samples_leaf=1, n_estimators=13;, score=-24.652 total time=   0.3s\n",
      "[CV 8/10] END min_samples_leaf=1, n_estimators=13;, score=-25.350 total time=   0.6s\n",
      "[CV 1/10] END min_samples_leaf=5, n_estimators=12;, score=-19.835 total time=   0.0s\n",
      "[CV 2/10] END min_samples_leaf=5, n_estimators=12;, score=-19.471 total time=   0.1s\n",
      "[CV 4/10] END min_samples_leaf=5, n_estimators=12;, score=-22.504 total time=   0.2s\n",
      "[CV 10/10] END min_samples_leaf=5, n_estimators=12;, score=-33.429 total time=   0.5s\n",
      "[CV 6/10] END min_samples_leaf=5, n_estimators=14;, score=-22.945 total time=   0.3s\n",
      "[CV 5/10] END min_samples_leaf=5, n_estimators=13;, score=-24.936 total time=   0.2s\n",
      "[CV 1/10] END .............fit_intercept=True;, score=-22.789 total time=   0.0s\n",
      "[CV 5/10] END .............fit_intercept=True;, score=-26.470 total time=   0.0s\n",
      "[CV 8/10] END .............fit_intercept=True;, score=-28.070 total time=   0.0s\n",
      "[CV 3/10] END ............fit_intercept=False;, score=-25.204 total time=   0.0s\n",
      "[CV 7/10] END ............fit_intercept=False;, score=-25.651 total time=   0.0s\n",
      "[CV 10/10] END ...........fit_intercept=False;, score=-34.491 total time=   0.0s\n",
      "[CV 3/10] END learning_rate=0.1, random_state=12345, verbose=False;, score=-23.199 total time=   5.2s\n",
      "[CV 2/10] END learning_rate=0.2, random_state=12345, verbose=False;, score=-19.134 total time=   3.8s\n",
      "[CV 8/10] END learning_rate=0.2, random_state=12345, verbose=False;, score=-25.053 total time=   5.8s\n",
      "[CV 7/10] END learning_rate=0.3, random_state=12345, verbose=False;, score=-24.508 total time=   5.3s\n",
      "[CV 7/10] END learning_rate=0.1, random_state=12345;, score=-24.607 total time=   0.2s\n",
      "[CV 2/10] END learning_rate=0.2, random_state=12345;, score=-19.550 total time=   0.1s\n",
      "[CV 10/10] END learning_rate=0.2, random_state=12345;, score=-32.348 total time=   0.2s\n",
      "[CV 1/10] END learning_rate=0.4, random_state=12345;, score=-22.081 total time=   0.1s\n",
      "[CV 4/10] END learning_rate=0.4, random_state=12345;, score=-23.888 total time=   0.2s\n",
      "[CV 2/10] END learning_rate=0.5, random_state=12345;, score=-21.552 total time=   0.1s\n",
      "[CV 6/10] END learning_rate=0.5, random_state=12345;, score=-24.723 total time=   0.2s\n",
      "[CV 8/10] END min_samples_leaf=1, n_estimators=10;, score=-26.258 total time=   0.4s\n",
      "[CV 10/10] END min_samples_leaf=5, n_estimators=11;, score=-33.093 total time=   0.4s\n",
      "[CV 2/10] END min_samples_leaf=3, n_estimators=13;, score=-20.396 total time=   0.1s\n",
      "[CV 6/10] END min_samples_leaf=3, n_estimators=13;, score=-23.394 total time=   0.3s\n",
      "[CV 4/10] END min_samples_leaf=1, n_estimators=13;, score=-22.057 total time=   0.3s\n",
      "[CV 10/10] END min_samples_leaf=1, n_estimators=13;, score=-32.807 total time=   0.7s\n",
      "[CV 9/10] END min_samples_leaf=5, n_estimators=12;, score=-30.637 total time=   0.4s\n",
      "[CV 2/10] END min_samples_leaf=5, n_estimators=14;, score=-19.761 total time=   0.1s\n",
      "[CV 5/10] END min_samples_leaf=5, n_estimators=14;, score=-24.477 total time=   0.2s\n",
      "[CV 2/10] END min_samples_leaf=5, n_estimators=13;, score=-20.155 total time=   0.1s\n",
      "[CV 6/10] END min_samples_leaf=5, n_estimators=13;, score=-23.283 total time=   0.3s\n",
      "[CV 7/10] END learning_rate=0.1, random_state=12345, verbose=False;, score=-23.821 total time=   6.3s\n",
      "[CV 6/10] END learning_rate=0.2, random_state=12345, verbose=False;, score=-21.955 total time=   4.7s\n",
      "[CV 1/10] END learning_rate=0.3, random_state=12345, verbose=False;, score=-20.056 total time=   3.8s\n",
      "[CV 6/10] END learning_rate=0.3, random_state=12345, verbose=False;, score=-23.025 total time=   5.2s\n",
      "[CV 3/10] END learning_rate=0.1, random_state=12345;, score=-23.810 total time=   0.1s\n",
      "[CV 9/10] END learning_rate=0.1, random_state=12345;, score=-28.558 total time=   0.2s\n",
      "[CV 6/10] END learning_rate=0.2, random_state=12345;, score=-22.685 total time=   0.2s\n",
      "[CV 2/10] END learning_rate=0.3, random_state=12345;, score=-20.026 total time=   0.1s\n",
      "[CV 9/10] END learning_rate=0.3, random_state=12345;, score=-28.880 total time=   0.2s\n",
      "[CV 9/10] END learning_rate=0.4, random_state=12345;, score=-29.672 total time=   0.2s\n",
      "[CV 7/10] END learning_rate=0.5, random_state=12345;, score=-26.766 total time=   0.2s\n",
      "[CV 2/10] END min_samples_leaf=1, n_estimators=10;, score=-20.417 total time=   0.1s\n",
      "[CV 10/10] END min_samples_leaf=1, n_estimators=10;, score=-32.763 total time=   0.6s\n",
      "[CV 7/10] END min_samples_leaf=3, n_estimators=12;, score=-24.201 total time=   0.4s\n",
      "[CV 7/10] END min_samples_leaf=3, n_estimators=13;, score=-25.524 total time=   0.5s\n",
      "[CV 7/10] END min_samples_leaf=1, n_estimators=13;, score=-25.544 total time=   0.5s\n",
      "[CV 9/10] END min_samples_leaf=3, n_estimators=11;, score=-30.836 total time=   0.4s\n",
      "[CV 1/10] END min_samples_leaf=5, n_estimators=10;, score=-19.589 total time=   0.0s\n",
      "[CV 3/10] END min_samples_leaf=5, n_estimators=10;, score=-23.459 total time=   0.1s\n",
      "[CV 7/10] END min_samples_leaf=5, n_estimators=10;, score=-25.402 total time=   0.3s\n",
      "[CV 7/10] END min_samples_leaf=5, n_estimators=14;, score=-24.333 total time=   0.3s\n",
      "[CV 7/10] END min_samples_leaf=5, n_estimators=13;, score=-25.384 total time=   0.3s\n",
      "[CV 3/10] END .............fit_intercept=True;, score=-25.204 total time=   0.0s\n",
      "[CV 6/10] END .............fit_intercept=True;, score=-25.042 total time=   0.0s\n",
      "[CV 9/10] END .............fit_intercept=True;, score=-32.182 total time=   0.0s\n",
      "[CV 1/10] END ............fit_intercept=False;, score=-22.789 total time=   0.0s\n",
      "[CV 4/10] END ............fit_intercept=False;, score=-23.822 total time=   0.0s\n",
      "[CV 6/10] END ............fit_intercept=False;, score=-25.042 total time=   0.0s\n",
      "[CV 9/10] END ............fit_intercept=False;, score=-32.182 total time=   0.0s\n",
      "[CV 6/10] END learning_rate=0.1, random_state=12345, verbose=False;, score=-21.559 total time=   5.3s\n",
      "[CV 3/10] END learning_rate=0.2, random_state=12345, verbose=False;, score=-23.600 total time=   7.9s\n",
      "[CV 3/10] END learning_rate=0.3, random_state=12345, verbose=False;, score=-23.423 total time=   4.6s\n",
      "[CV 1/10] END learning_rate=0.1, random_state=12345;, score=-20.404 total time=   0.1s\n",
      "[CV 10/10] END learning_rate=0.1, random_state=12345;, score=-31.338 total time=   0.2s\n",
      "[CV 8/10] END learning_rate=0.2, random_state=12345;, score=-25.041 total time=   0.2s\n",
      "[CV 7/10] END learning_rate=0.3, random_state=12345;, score=-24.901 total time=   0.2s\n",
      "[CV 5/10] END learning_rate=0.4, random_state=12345;, score=-25.902 total time=   0.2s\n",
      "[CV 3/10] END learning_rate=0.5, random_state=12345;, score=-25.913 total time=   0.2s\n",
      "[CV 10/10] END learning_rate=0.5, random_state=12345;, score=-33.469 total time=   0.1s\n"
     ]
    }
   ],
   "source": [
    "model_dr = DummyRegressor().fit(features_train, target_train)\n",
    "pred_dr = model_dr.predict(features_test)\n",
    "rmse_dr = rmse(target_test, pred_dr)\n",
    "rmse_dr"
   ]
  },
  {
   "cell_type": "markdown",
   "id": "f6f0725f",
   "metadata": {},
   "source": [
    "# Вывод\n",
    "Нами были получены данные о заказах такси в аэропортах за пол года: с 1-го марта по 31-ое августа 2018 года. С мая наблюдается рост кол-ва заказов, скорее всего связано с сезонностью отпусков. Что касается кол-ва заказов по дню, то здесь наблюдается следующая тенденция: кол-во заказов растет с утра до полуночи, затем постепенно снижается. Самое малое кол-во заказов наблюдается в районе 6 утра.\n",
    "Перед нами стояла задача построить модель для предсказания кол-ва заказов такси на следующий час. \n",
    "Мы обучили несколько моделей, самый лучший показатель дала модель CatBoostRegressor, но не самый быстрый. Проверив ее на тестовой выборке получили неплохой результат. "
   ]
  }
 ],
 "metadata": {
  "ExecuteTimeLog": [
   {
    "duration": 1431,
    "start_time": "2022-08-24T09:53:41.681Z"
   },
   {
    "duration": 0,
    "start_time": "2022-08-24T09:53:43.115Z"
   },
   {
    "duration": 0,
    "start_time": "2022-08-24T09:53:43.116Z"
   },
   {
    "duration": 1562,
    "start_time": "2022-08-24T09:53:56.862Z"
   },
   {
    "duration": 114,
    "start_time": "2022-08-24T09:54:00.125Z"
   },
   {
    "duration": 11,
    "start_time": "2022-08-24T09:54:01.105Z"
   },
   {
    "duration": 13,
    "start_time": "2022-08-24T09:54:02.066Z"
   },
   {
    "duration": 16,
    "start_time": "2022-08-24T09:54:02.639Z"
   },
   {
    "duration": 1583,
    "start_time": "2022-08-24T09:54:09.958Z"
   },
   {
    "duration": 4,
    "start_time": "2022-08-24T09:54:11.543Z"
   },
   {
    "duration": 4,
    "start_time": "2022-08-24T09:54:11.878Z"
   },
   {
    "duration": 11,
    "start_time": "2022-08-24T09:54:13.212Z"
   },
   {
    "duration": 319,
    "start_time": "2022-08-24T09:54:15.739Z"
   },
   {
    "duration": 185,
    "start_time": "2022-08-24T09:54:39.054Z"
   },
   {
    "duration": 1763,
    "start_time": "2022-08-24T10:08:36.620Z"
   },
   {
    "duration": 44,
    "start_time": "2022-08-24T10:08:38.385Z"
   },
   {
    "duration": 12,
    "start_time": "2022-08-24T10:08:38.431Z"
   },
   {
    "duration": 14,
    "start_time": "2022-08-24T10:08:38.445Z"
   },
   {
    "duration": 13,
    "start_time": "2022-08-24T10:08:38.461Z"
   },
   {
    "duration": 1663,
    "start_time": "2022-08-24T10:08:38.476Z"
   },
   {
    "duration": 4,
    "start_time": "2022-08-24T10:08:40.141Z"
   },
   {
    "duration": 27,
    "start_time": "2022-08-24T10:08:40.146Z"
   },
   {
    "duration": 18,
    "start_time": "2022-08-24T10:08:40.175Z"
   },
   {
    "duration": 344,
    "start_time": "2022-08-24T10:08:40.195Z"
   },
   {
    "duration": 178,
    "start_time": "2022-08-24T10:08:40.540Z"
   },
   {
    "duration": 715,
    "start_time": "2022-08-24T10:08:40.719Z"
   },
   {
    "duration": 460,
    "start_time": "2022-08-24T10:08:41.435Z"
   },
   {
    "duration": 154,
    "start_time": "2022-08-24T10:08:41.904Z"
   },
   {
    "duration": 385,
    "start_time": "2022-08-24T10:08:42.059Z"
   },
   {
    "duration": 316,
    "start_time": "2022-08-24T10:08:42.445Z"
   },
   {
    "duration": 5,
    "start_time": "2022-08-24T10:08:42.762Z"
   },
   {
    "duration": 43,
    "start_time": "2022-08-24T10:08:42.768Z"
   },
   {
    "duration": 5,
    "start_time": "2022-08-24T10:08:42.813Z"
   },
   {
    "duration": 34,
    "start_time": "2022-08-24T10:09:34.575Z"
   },
   {
    "duration": 4,
    "start_time": "2022-08-24T10:12:25.084Z"
   },
   {
    "duration": 3,
    "start_time": "2022-08-24T10:12:25.426Z"
   },
   {
    "duration": 3,
    "start_time": "2022-08-24T10:12:25.679Z"
   },
   {
    "duration": 576,
    "start_time": "2022-08-24T10:14:01.255Z"
   },
   {
    "duration": 159,
    "start_time": "2022-08-24T10:14:16.541Z"
   },
   {
    "duration": 20,
    "start_time": "2022-08-24T10:14:20.044Z"
   },
   {
    "duration": 23,
    "start_time": "2022-08-24T10:14:38.436Z"
   },
   {
    "duration": 18,
    "start_time": "2022-08-24T10:14:44.790Z"
   },
   {
    "duration": 28129,
    "start_time": "2022-08-24T10:17:10.523Z"
   },
   {
    "duration": 5,
    "start_time": "2022-08-24T10:18:05.851Z"
   },
   {
    "duration": 28804,
    "start_time": "2022-08-24T10:18:28.345Z"
   },
   {
    "duration": 3359,
    "start_time": "2022-08-24T10:19:37.350Z"
   },
   {
    "duration": 219529,
    "start_time": "2022-08-24T10:19:42.707Z"
   },
   {
    "duration": 45,
    "start_time": "2022-08-24T10:24:38.998Z"
   },
   {
    "duration": 7,
    "start_time": "2022-08-24T10:24:45.919Z"
   },
   {
    "duration": 35,
    "start_time": "2022-08-24T10:29:53.262Z"
   },
   {
    "duration": 8,
    "start_time": "2022-08-24T10:30:07.394Z"
   },
   {
    "duration": 33,
    "start_time": "2022-08-24T10:30:13.007Z"
   },
   {
    "duration": 48,
    "start_time": "2022-08-24T10:30:35.802Z"
   },
   {
    "duration": 2335,
    "start_time": "2022-08-24T10:33:22.743Z"
   },
   {
    "duration": 46,
    "start_time": "2022-08-24T10:33:25.081Z"
   },
   {
    "duration": 11,
    "start_time": "2022-08-24T10:33:25.129Z"
   },
   {
    "duration": 17,
    "start_time": "2022-08-24T10:33:25.142Z"
   },
   {
    "duration": 14,
    "start_time": "2022-08-24T10:33:25.160Z"
   },
   {
    "duration": 1639,
    "start_time": "2022-08-24T10:33:25.175Z"
   },
   {
    "duration": 4,
    "start_time": "2022-08-24T10:33:26.815Z"
   },
   {
    "duration": 7,
    "start_time": "2022-08-24T10:33:26.821Z"
   },
   {
    "duration": 16,
    "start_time": "2022-08-24T10:33:26.829Z"
   },
   {
    "duration": 342,
    "start_time": "2022-08-24T10:33:26.848Z"
   },
   {
    "duration": 226,
    "start_time": "2022-08-24T10:33:27.193Z"
   },
   {
    "duration": 786,
    "start_time": "2022-08-24T10:33:27.422Z"
   },
   {
    "duration": 509,
    "start_time": "2022-08-24T10:33:28.210Z"
   },
   {
    "duration": 176,
    "start_time": "2022-08-24T10:33:28.721Z"
   },
   {
    "duration": 433,
    "start_time": "2022-08-24T10:33:28.902Z"
   },
   {
    "duration": 303,
    "start_time": "2022-08-24T10:33:29.338Z"
   },
   {
    "duration": 4,
    "start_time": "2022-08-24T10:33:29.643Z"
   },
   {
    "duration": 40,
    "start_time": "2022-08-24T10:33:29.649Z"
   },
   {
    "duration": 14,
    "start_time": "2022-08-24T10:33:29.692Z"
   },
   {
    "duration": 46,
    "start_time": "2022-08-24T10:33:29.708Z"
   },
   {
    "duration": 53,
    "start_time": "2022-08-24T10:33:29.756Z"
   },
   {
    "duration": 4,
    "start_time": "2022-08-24T10:33:29.811Z"
   },
   {
    "duration": 12,
    "start_time": "2022-08-24T10:33:29.817Z"
   },
   {
    "duration": 9,
    "start_time": "2022-08-24T10:33:29.831Z"
   },
   {
    "duration": 3599,
    "start_time": "2022-08-24T10:33:37.506Z"
   },
   {
    "duration": 29155,
    "start_time": "2022-08-24T10:33:55.288Z"
   },
   {
    "duration": 6,
    "start_time": "2022-08-24T10:35:14.937Z"
   },
   {
    "duration": 8,
    "start_time": "2022-08-24T10:35:19.124Z"
   },
   {
    "duration": 5,
    "start_time": "2022-08-24T10:35:20.798Z"
   },
   {
    "duration": 11,
    "start_time": "2022-08-24T10:36:01.956Z"
   },
   {
    "duration": 174,
    "start_time": "2022-08-24T10:37:30.929Z"
   },
   {
    "duration": 6,
    "start_time": "2022-08-24T10:37:37.582Z"
   },
   {
    "duration": 11,
    "start_time": "2022-08-24T10:37:44.254Z"
   },
   {
    "duration": 40,
    "start_time": "2022-08-24T10:37:56.995Z"
   },
   {
    "duration": 5,
    "start_time": "2022-08-24T10:38:04.836Z"
   },
   {
    "duration": 5,
    "start_time": "2022-08-24T10:38:34.985Z"
   },
   {
    "duration": 7,
    "start_time": "2022-08-24T10:38:59.240Z"
   },
   {
    "duration": 8,
    "start_time": "2022-08-24T10:39:06.767Z"
   },
   {
    "duration": 9,
    "start_time": "2022-08-24T10:39:23.439Z"
   },
   {
    "duration": 8,
    "start_time": "2022-08-24T10:39:33.395Z"
   },
   {
    "duration": 100,
    "start_time": "2022-08-24T10:41:05.425Z"
   },
   {
    "duration": 14,
    "start_time": "2022-08-24T10:41:09.247Z"
   },
   {
    "duration": 1569,
    "start_time": "2022-08-24T10:42:50.151Z"
   },
   {
    "duration": 44,
    "start_time": "2022-08-24T10:42:51.722Z"
   },
   {
    "duration": 11,
    "start_time": "2022-08-24T10:42:51.768Z"
   },
   {
    "duration": 14,
    "start_time": "2022-08-24T10:42:51.781Z"
   },
   {
    "duration": 17,
    "start_time": "2022-08-24T10:42:51.797Z"
   },
   {
    "duration": 1656,
    "start_time": "2022-08-24T10:42:51.816Z"
   },
   {
    "duration": 5,
    "start_time": "2022-08-24T10:42:53.473Z"
   },
   {
    "duration": 12,
    "start_time": "2022-08-24T10:42:53.479Z"
   },
   {
    "duration": 18,
    "start_time": "2022-08-24T10:42:53.493Z"
   },
   {
    "duration": 353,
    "start_time": "2022-08-24T10:42:53.514Z"
   },
   {
    "duration": 192,
    "start_time": "2022-08-24T10:42:53.869Z"
   },
   {
    "duration": 761,
    "start_time": "2022-08-24T10:42:54.063Z"
   },
   {
    "duration": 481,
    "start_time": "2022-08-24T10:42:54.825Z"
   },
   {
    "duration": 169,
    "start_time": "2022-08-24T10:42:55.308Z"
   },
   {
    "duration": 385,
    "start_time": "2022-08-24T10:42:55.479Z"
   },
   {
    "duration": 340,
    "start_time": "2022-08-24T10:42:55.866Z"
   },
   {
    "duration": 4,
    "start_time": "2022-08-24T10:43:10.069Z"
   },
   {
    "duration": 20,
    "start_time": "2022-08-24T10:43:28.965Z"
   },
   {
    "duration": 4,
    "start_time": "2022-08-24T10:44:16.990Z"
   },
   {
    "duration": 35,
    "start_time": "2022-08-24T10:44:18.686Z"
   },
   {
    "duration": 6,
    "start_time": "2022-08-24T10:44:21.269Z"
   },
   {
    "duration": 281,
    "start_time": "2022-08-24T10:44:29.130Z"
   },
   {
    "duration": 4,
    "start_time": "2022-08-24T10:44:33.820Z"
   },
   {
    "duration": 64,
    "start_time": "2022-08-24T10:44:36.247Z"
   },
   {
    "duration": 1691,
    "start_time": "2022-08-24T10:46:19.082Z"
   },
   {
    "duration": 50,
    "start_time": "2022-08-24T10:46:20.776Z"
   },
   {
    "duration": 11,
    "start_time": "2022-08-24T10:46:20.828Z"
   },
   {
    "duration": 32,
    "start_time": "2022-08-24T10:46:20.841Z"
   },
   {
    "duration": 20,
    "start_time": "2022-08-24T10:46:20.875Z"
   },
   {
    "duration": 1702,
    "start_time": "2022-08-24T10:46:20.897Z"
   },
   {
    "duration": 4,
    "start_time": "2022-08-24T10:46:22.602Z"
   },
   {
    "duration": 22,
    "start_time": "2022-08-24T10:46:22.608Z"
   },
   {
    "duration": 13,
    "start_time": "2022-08-24T10:46:22.631Z"
   },
   {
    "duration": 346,
    "start_time": "2022-08-24T10:46:22.647Z"
   },
   {
    "duration": 199,
    "start_time": "2022-08-24T10:46:22.994Z"
   },
   {
    "duration": 765,
    "start_time": "2022-08-24T10:46:23.196Z"
   },
   {
    "duration": 535,
    "start_time": "2022-08-24T10:46:23.963Z"
   },
   {
    "duration": 174,
    "start_time": "2022-08-24T10:46:24.503Z"
   },
   {
    "duration": 386,
    "start_time": "2022-08-24T10:46:24.679Z"
   },
   {
    "duration": 345,
    "start_time": "2022-08-24T10:46:25.067Z"
   },
   {
    "duration": 4,
    "start_time": "2022-08-24T10:46:25.414Z"
   },
   {
    "duration": 37,
    "start_time": "2022-08-24T10:46:25.421Z"
   },
   {
    "duration": 6,
    "start_time": "2022-08-24T10:46:33.219Z"
   },
   {
    "duration": 3,
    "start_time": "2022-08-24T10:46:37.423Z"
   },
   {
    "duration": 148,
    "start_time": "2022-08-24T10:46:40.956Z"
   },
   {
    "duration": 12,
    "start_time": "2022-08-24T10:46:41.162Z"
   },
   {
    "duration": 1629,
    "start_time": "2022-08-24T10:55:44.511Z"
   },
   {
    "duration": 45,
    "start_time": "2022-08-24T10:55:46.142Z"
   },
   {
    "duration": 12,
    "start_time": "2022-08-24T10:55:46.189Z"
   },
   {
    "duration": 12,
    "start_time": "2022-08-24T10:55:46.203Z"
   },
   {
    "duration": 15,
    "start_time": "2022-08-24T10:55:46.217Z"
   },
   {
    "duration": 1672,
    "start_time": "2022-08-24T10:55:46.233Z"
   },
   {
    "duration": 4,
    "start_time": "2022-08-24T10:55:47.907Z"
   },
   {
    "duration": 9,
    "start_time": "2022-08-24T10:55:47.912Z"
   },
   {
    "duration": 18,
    "start_time": "2022-08-24T10:55:47.923Z"
   },
   {
    "duration": 343,
    "start_time": "2022-08-24T10:55:47.942Z"
   },
   {
    "duration": 190,
    "start_time": "2022-08-24T10:55:48.287Z"
   },
   {
    "duration": 801,
    "start_time": "2022-08-24T10:55:48.478Z"
   },
   {
    "duration": 505,
    "start_time": "2022-08-24T10:55:49.280Z"
   },
   {
    "duration": 164,
    "start_time": "2022-08-24T10:55:49.788Z"
   },
   {
    "duration": 390,
    "start_time": "2022-08-24T10:55:49.954Z"
   },
   {
    "duration": 334,
    "start_time": "2022-08-24T10:55:50.346Z"
   },
   {
    "duration": 4,
    "start_time": "2022-08-24T10:55:50.683Z"
   },
   {
    "duration": 43,
    "start_time": "2022-08-24T10:55:50.689Z"
   },
   {
    "duration": 6,
    "start_time": "2022-08-24T10:55:50.734Z"
   },
   {
    "duration": 8,
    "start_time": "2022-08-24T10:55:50.742Z"
   },
   {
    "duration": 7,
    "start_time": "2022-08-24T10:55:50.752Z"
   },
   {
    "duration": 6,
    "start_time": "2022-08-24T10:55:50.761Z"
   },
   {
    "duration": 27884,
    "start_time": "2022-08-24T10:55:50.769Z"
   },
   {
    "duration": 3852,
    "start_time": "2022-08-24T10:56:18.654Z"
   },
   {
    "duration": 204905,
    "start_time": "2022-08-24T10:56:22.508Z"
   },
   {
    "duration": 84290,
    "start_time": "2022-08-24T10:59:47.415Z"
   },
   {
    "duration": 10,
    "start_time": "2022-08-24T11:01:11.707Z"
   },
   {
    "duration": 89,
    "start_time": "2022-08-24T11:01:11.719Z"
   },
   {
    "duration": 1621,
    "start_time": "2022-08-25T00:51:02.180Z"
   },
   {
    "duration": 0,
    "start_time": "2022-08-25T00:51:03.803Z"
   },
   {
    "duration": 0,
    "start_time": "2022-08-25T00:51:03.804Z"
   },
   {
    "duration": 0,
    "start_time": "2022-08-25T00:51:03.806Z"
   },
   {
    "duration": 0,
    "start_time": "2022-08-25T00:51:03.808Z"
   },
   {
    "duration": 0,
    "start_time": "2022-08-25T00:51:03.809Z"
   },
   {
    "duration": 0,
    "start_time": "2022-08-25T00:51:03.810Z"
   },
   {
    "duration": 0,
    "start_time": "2022-08-25T00:51:03.811Z"
   },
   {
    "duration": 0,
    "start_time": "2022-08-25T00:51:03.812Z"
   },
   {
    "duration": 0,
    "start_time": "2022-08-25T00:51:03.813Z"
   },
   {
    "duration": 0,
    "start_time": "2022-08-25T00:51:03.814Z"
   },
   {
    "duration": 0,
    "start_time": "2022-08-25T00:51:03.815Z"
   },
   {
    "duration": 0,
    "start_time": "2022-08-25T00:51:03.816Z"
   },
   {
    "duration": 0,
    "start_time": "2022-08-25T00:51:03.817Z"
   },
   {
    "duration": 0,
    "start_time": "2022-08-25T00:51:03.819Z"
   },
   {
    "duration": 0,
    "start_time": "2022-08-25T00:51:03.820Z"
   },
   {
    "duration": 0,
    "start_time": "2022-08-25T00:51:03.821Z"
   },
   {
    "duration": 1502,
    "start_time": "2022-08-25T00:51:31.260Z"
   },
   {
    "duration": 189,
    "start_time": "2022-08-25T00:51:32.763Z"
   },
   {
    "duration": 10,
    "start_time": "2022-08-25T00:51:33.576Z"
   },
   {
    "duration": 12,
    "start_time": "2022-08-25T00:51:33.803Z"
   },
   {
    "duration": 13,
    "start_time": "2022-08-25T00:51:33.950Z"
   },
   {
    "duration": 1462,
    "start_time": "2022-08-25T00:51:34.122Z"
   },
   {
    "duration": 5,
    "start_time": "2022-08-25T00:51:35.586Z"
   },
   {
    "duration": 4,
    "start_time": "2022-08-25T00:51:35.600Z"
   },
   {
    "duration": 18,
    "start_time": "2022-08-25T00:51:35.607Z"
   },
   {
    "duration": 310,
    "start_time": "2022-08-25T00:51:35.627Z"
   },
   {
    "duration": 150,
    "start_time": "2022-08-25T00:51:36.342Z"
   },
   {
    "duration": 604,
    "start_time": "2022-08-25T00:51:37.655Z"
   },
   {
    "duration": 460,
    "start_time": "2022-08-25T00:51:39.302Z"
   },
   {
    "duration": 152,
    "start_time": "2022-08-25T00:51:40.965Z"
   },
   {
    "duration": 230,
    "start_time": "2022-08-25T00:51:44.258Z"
   },
   {
    "duration": 2,
    "start_time": "2022-08-25T00:51:45.499Z"
   },
   {
    "duration": 3645,
    "start_time": "2022-08-25T00:51:47.354Z"
   }
  ],
  "kernelspec": {
   "display_name": "Python 3 (ipykernel)",
   "language": "python",
   "name": "python3"
  },
  "language_info": {
   "codemirror_mode": {
    "name": "ipython",
    "version": 3
   },
   "file_extension": ".py",
   "mimetype": "text/x-python",
   "name": "python",
   "nbconvert_exporter": "python",
   "pygments_lexer": "ipython3",
   "version": "3.9.7"
  },
  "toc": {
   "base_numbering": 1,
   "nav_menu": {},
   "number_sections": true,
   "sideBar": true,
   "skip_h1_title": true,
   "title_cell": "Table of Contents",
   "title_sidebar": "Contents",
   "toc_cell": false,
   "toc_position": {},
   "toc_section_display": true,
   "toc_window_display": false
  }
 },
 "nbformat": 4,
 "nbformat_minor": 5
}
