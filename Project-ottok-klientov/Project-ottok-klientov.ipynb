{
 "cells": [
  {
   "cell_type": "markdown",
   "id": "37ac3c43",
   "metadata": {},
   "source": [
    "# Пргнозирование отттока клиентов "
   ]
  },
  {
   "cell_type": "markdown",
   "id": "915af29e",
   "metadata": {},
   "source": [
    "# Обзор данных "
   ]
  },
  {
   "cell_type": "code",
   "execution_count": 1,
   "id": "069ac4d3",
   "metadata": {},
   "outputs": [],
   "source": [
    "import pandas as pd\n",
    "import numpy as np\n",
    "from sklearn.model_selection import train_test_split\n",
    "from sklearn.linear_model import LogisticRegression\n",
    "from sklearn.tree import DecisionTreeClassifier\n",
    "from sklearn.preprocessing import OrdinalEncoder\n",
    "from sklearn.preprocessing import StandardScaler\n",
    "from sklearn.metrics import f1_score\n",
    "from sklearn.ensemble import RandomForestClassifier\n",
    "from sklearn.utils import shuffle\n",
    "from sklearn.metrics import roc_auc_score\n",
    "import matplotlib.pyplot as plt\n",
    "from sklearn.metrics import roc_curve"
   ]
  },
  {
   "cell_type": "code",
   "execution_count": 2,
   "id": "5a619f17",
   "metadata": {},
   "outputs": [],
   "source": [
    "data = pd.read_csv('/datasets/Churn.csv')"
   ]
  },
  {
   "cell_type": "code",
   "execution_count": 3,
   "id": "4661aa2c",
   "metadata": {},
   "outputs": [
    {
     "data": {
      "text/html": [
       "<div>\n",
       "<style scoped>\n",
       "    .dataframe tbody tr th:only-of-type {\n",
       "        vertical-align: middle;\n",
       "    }\n",
       "\n",
       "    .dataframe tbody tr th {\n",
       "        vertical-align: top;\n",
       "    }\n",
       "\n",
       "    .dataframe thead th {\n",
       "        text-align: right;\n",
       "    }\n",
       "</style>\n",
       "<table border=\"1\" class=\"dataframe\">\n",
       "  <thead>\n",
       "    <tr style=\"text-align: right;\">\n",
       "      <th></th>\n",
       "      <th>RowNumber</th>\n",
       "      <th>CustomerId</th>\n",
       "      <th>Surname</th>\n",
       "      <th>CreditScore</th>\n",
       "      <th>Geography</th>\n",
       "      <th>Gender</th>\n",
       "      <th>Age</th>\n",
       "      <th>Tenure</th>\n",
       "      <th>Balance</th>\n",
       "      <th>NumOfProducts</th>\n",
       "      <th>HasCrCard</th>\n",
       "      <th>IsActiveMember</th>\n",
       "      <th>EstimatedSalary</th>\n",
       "      <th>Exited</th>\n",
       "    </tr>\n",
       "  </thead>\n",
       "  <tbody>\n",
       "    <tr>\n",
       "      <th>0</th>\n",
       "      <td>1</td>\n",
       "      <td>15634602</td>\n",
       "      <td>Hargrave</td>\n",
       "      <td>619</td>\n",
       "      <td>France</td>\n",
       "      <td>Female</td>\n",
       "      <td>42</td>\n",
       "      <td>2.0</td>\n",
       "      <td>0.00</td>\n",
       "      <td>1</td>\n",
       "      <td>1</td>\n",
       "      <td>1</td>\n",
       "      <td>101348.88</td>\n",
       "      <td>1</td>\n",
       "    </tr>\n",
       "    <tr>\n",
       "      <th>1</th>\n",
       "      <td>2</td>\n",
       "      <td>15647311</td>\n",
       "      <td>Hill</td>\n",
       "      <td>608</td>\n",
       "      <td>Spain</td>\n",
       "      <td>Female</td>\n",
       "      <td>41</td>\n",
       "      <td>1.0</td>\n",
       "      <td>83807.86</td>\n",
       "      <td>1</td>\n",
       "      <td>0</td>\n",
       "      <td>1</td>\n",
       "      <td>112542.58</td>\n",
       "      <td>0</td>\n",
       "    </tr>\n",
       "    <tr>\n",
       "      <th>2</th>\n",
       "      <td>3</td>\n",
       "      <td>15619304</td>\n",
       "      <td>Onio</td>\n",
       "      <td>502</td>\n",
       "      <td>France</td>\n",
       "      <td>Female</td>\n",
       "      <td>42</td>\n",
       "      <td>8.0</td>\n",
       "      <td>159660.80</td>\n",
       "      <td>3</td>\n",
       "      <td>1</td>\n",
       "      <td>0</td>\n",
       "      <td>113931.57</td>\n",
       "      <td>1</td>\n",
       "    </tr>\n",
       "    <tr>\n",
       "      <th>3</th>\n",
       "      <td>4</td>\n",
       "      <td>15701354</td>\n",
       "      <td>Boni</td>\n",
       "      <td>699</td>\n",
       "      <td>France</td>\n",
       "      <td>Female</td>\n",
       "      <td>39</td>\n",
       "      <td>1.0</td>\n",
       "      <td>0.00</td>\n",
       "      <td>2</td>\n",
       "      <td>0</td>\n",
       "      <td>0</td>\n",
       "      <td>93826.63</td>\n",
       "      <td>0</td>\n",
       "    </tr>\n",
       "    <tr>\n",
       "      <th>4</th>\n",
       "      <td>5</td>\n",
       "      <td>15737888</td>\n",
       "      <td>Mitchell</td>\n",
       "      <td>850</td>\n",
       "      <td>Spain</td>\n",
       "      <td>Female</td>\n",
       "      <td>43</td>\n",
       "      <td>2.0</td>\n",
       "      <td>125510.82</td>\n",
       "      <td>1</td>\n",
       "      <td>1</td>\n",
       "      <td>1</td>\n",
       "      <td>79084.10</td>\n",
       "      <td>0</td>\n",
       "    </tr>\n",
       "  </tbody>\n",
       "</table>\n",
       "</div>"
      ],
      "text/plain": [
       "   RowNumber  CustomerId   Surname  CreditScore Geography  Gender  Age  \\\n",
       "0          1    15634602  Hargrave          619    France  Female   42   \n",
       "1          2    15647311      Hill          608     Spain  Female   41   \n",
       "2          3    15619304      Onio          502    France  Female   42   \n",
       "3          4    15701354      Boni          699    France  Female   39   \n",
       "4          5    15737888  Mitchell          850     Spain  Female   43   \n",
       "\n",
       "   Tenure    Balance  NumOfProducts  HasCrCard  IsActiveMember  \\\n",
       "0     2.0       0.00              1          1               1   \n",
       "1     1.0   83807.86              1          0               1   \n",
       "2     8.0  159660.80              3          1               0   \n",
       "3     1.0       0.00              2          0               0   \n",
       "4     2.0  125510.82              1          1               1   \n",
       "\n",
       "   EstimatedSalary  Exited  \n",
       "0        101348.88       1  \n",
       "1        112542.58       0  \n",
       "2        113931.57       1  \n",
       "3         93826.63       0  \n",
       "4         79084.10       0  "
      ]
     },
     "execution_count": 3,
     "metadata": {},
     "output_type": "execute_result"
    }
   ],
   "source": [
    "data.head()"
   ]
  },
  {
   "cell_type": "code",
   "execution_count": 4,
   "id": "0aee806c",
   "metadata": {},
   "outputs": [
    {
     "name": "stdout",
     "output_type": "stream",
     "text": [
      "<class 'pandas.core.frame.DataFrame'>\n",
      "RangeIndex: 10000 entries, 0 to 9999\n",
      "Data columns (total 14 columns):\n",
      " #   Column           Non-Null Count  Dtype  \n",
      "---  ------           --------------  -----  \n",
      " 0   RowNumber        10000 non-null  int64  \n",
      " 1   CustomerId       10000 non-null  int64  \n",
      " 2   Surname          10000 non-null  object \n",
      " 3   CreditScore      10000 non-null  int64  \n",
      " 4   Geography        10000 non-null  object \n",
      " 5   Gender           10000 non-null  object \n",
      " 6   Age              10000 non-null  int64  \n",
      " 7   Tenure           9091 non-null   float64\n",
      " 8   Balance          10000 non-null  float64\n",
      " 9   NumOfProducts    10000 non-null  int64  \n",
      " 10  HasCrCard        10000 non-null  int64  \n",
      " 11  IsActiveMember   10000 non-null  int64  \n",
      " 12  EstimatedSalary  10000 non-null  float64\n",
      " 13  Exited           10000 non-null  int64  \n",
      "dtypes: float64(3), int64(8), object(3)\n",
      "memory usage: 1.1+ MB\n"
     ]
    }
   ],
   "source": [
    "data.info()"
   ]
  },
  {
   "cell_type": "markdown",
   "id": "b6a49d76",
   "metadata": {},
   "source": [
    "Есть пропуски в столбце Tenure (сколько лет человек является клиентом банка). Нужно заполнить пропуски и исправиить тип данных на int. Возможно пропуски образовались в виду того, что клиент банка является таковым меньше года. \n",
    "Также для дальнейшей работы нам не понадобятся следующие столбцы: RowNumber, CustomerId, Surname - их можно удалить. "
   ]
  },
  {
   "cell_type": "code",
   "execution_count": 5,
   "id": "5b155ec5",
   "metadata": {},
   "outputs": [
    {
     "data": {
      "text/html": [
       "<div>\n",
       "<style scoped>\n",
       "    .dataframe tbody tr th:only-of-type {\n",
       "        vertical-align: middle;\n",
       "    }\n",
       "\n",
       "    .dataframe tbody tr th {\n",
       "        vertical-align: top;\n",
       "    }\n",
       "\n",
       "    .dataframe thead th {\n",
       "        text-align: right;\n",
       "    }\n",
       "</style>\n",
       "<table border=\"1\" class=\"dataframe\">\n",
       "  <thead>\n",
       "    <tr style=\"text-align: right;\">\n",
       "      <th></th>\n",
       "      <th>CreditScore</th>\n",
       "      <th>Geography</th>\n",
       "      <th>Gender</th>\n",
       "      <th>Age</th>\n",
       "      <th>Tenure</th>\n",
       "      <th>Balance</th>\n",
       "      <th>NumOfProducts</th>\n",
       "      <th>HasCrCard</th>\n",
       "      <th>IsActiveMember</th>\n",
       "      <th>EstimatedSalary</th>\n",
       "      <th>Exited</th>\n",
       "    </tr>\n",
       "  </thead>\n",
       "  <tbody>\n",
       "    <tr>\n",
       "      <th>0</th>\n",
       "      <td>619</td>\n",
       "      <td>France</td>\n",
       "      <td>Female</td>\n",
       "      <td>42</td>\n",
       "      <td>2.0</td>\n",
       "      <td>0.00</td>\n",
       "      <td>1</td>\n",
       "      <td>1</td>\n",
       "      <td>1</td>\n",
       "      <td>101348.88</td>\n",
       "      <td>1</td>\n",
       "    </tr>\n",
       "    <tr>\n",
       "      <th>1</th>\n",
       "      <td>608</td>\n",
       "      <td>Spain</td>\n",
       "      <td>Female</td>\n",
       "      <td>41</td>\n",
       "      <td>1.0</td>\n",
       "      <td>83807.86</td>\n",
       "      <td>1</td>\n",
       "      <td>0</td>\n",
       "      <td>1</td>\n",
       "      <td>112542.58</td>\n",
       "      <td>0</td>\n",
       "    </tr>\n",
       "    <tr>\n",
       "      <th>2</th>\n",
       "      <td>502</td>\n",
       "      <td>France</td>\n",
       "      <td>Female</td>\n",
       "      <td>42</td>\n",
       "      <td>8.0</td>\n",
       "      <td>159660.80</td>\n",
       "      <td>3</td>\n",
       "      <td>1</td>\n",
       "      <td>0</td>\n",
       "      <td>113931.57</td>\n",
       "      <td>1</td>\n",
       "    </tr>\n",
       "    <tr>\n",
       "      <th>3</th>\n",
       "      <td>699</td>\n",
       "      <td>France</td>\n",
       "      <td>Female</td>\n",
       "      <td>39</td>\n",
       "      <td>1.0</td>\n",
       "      <td>0.00</td>\n",
       "      <td>2</td>\n",
       "      <td>0</td>\n",
       "      <td>0</td>\n",
       "      <td>93826.63</td>\n",
       "      <td>0</td>\n",
       "    </tr>\n",
       "    <tr>\n",
       "      <th>4</th>\n",
       "      <td>850</td>\n",
       "      <td>Spain</td>\n",
       "      <td>Female</td>\n",
       "      <td>43</td>\n",
       "      <td>2.0</td>\n",
       "      <td>125510.82</td>\n",
       "      <td>1</td>\n",
       "      <td>1</td>\n",
       "      <td>1</td>\n",
       "      <td>79084.10</td>\n",
       "      <td>0</td>\n",
       "    </tr>\n",
       "  </tbody>\n",
       "</table>\n",
       "</div>"
      ],
      "text/plain": [
       "   CreditScore Geography  Gender  Age  Tenure    Balance  NumOfProducts  \\\n",
       "0          619    France  Female   42     2.0       0.00              1   \n",
       "1          608     Spain  Female   41     1.0   83807.86              1   \n",
       "2          502    France  Female   42     8.0  159660.80              3   \n",
       "3          699    France  Female   39     1.0       0.00              2   \n",
       "4          850     Spain  Female   43     2.0  125510.82              1   \n",
       "\n",
       "   HasCrCard  IsActiveMember  EstimatedSalary  Exited  \n",
       "0          1               1        101348.88       1  \n",
       "1          0               1        112542.58       0  \n",
       "2          1               0        113931.57       1  \n",
       "3          0               0         93826.63       0  \n",
       "4          1               1         79084.10       0  "
      ]
     },
     "execution_count": 5,
     "metadata": {},
     "output_type": "execute_result"
    }
   ],
   "source": [
    "# удаляем ненужные столбцы\n",
    "for_drop = ['RowNumber','CustomerId', 'Surname']\n",
    "data = data.drop(for_drop, axis=1)\n",
    "data.head()"
   ]
  },
  {
   "cell_type": "code",
   "execution_count": 6,
   "id": "8948a5ba",
   "metadata": {},
   "outputs": [
    {
     "data": {
      "text/plain": [
       "(10000, 11)"
      ]
     },
     "execution_count": 6,
     "metadata": {},
     "output_type": "execute_result"
    }
   ],
   "source": [
    "data.shape"
   ]
  },
  {
   "cell_type": "code",
   "execution_count": 7,
   "id": "ed49abba",
   "metadata": {},
   "outputs": [
    {
     "name": "stdout",
     "output_type": "stream",
     "text": [
      "[ 2.  1.  8.  7.  4.  6.  3. 10.  5.  9.  0. nan]\n"
     ]
    }
   ],
   "source": [
    "# проверим уникальные значения в столбце Tenure\n",
    "print(data['Tenure'].unique()) "
   ]
  },
  {
   "cell_type": "code",
   "execution_count": 8,
   "id": "6b0b15bf",
   "metadata": {},
   "outputs": [
    {
     "data": {
      "text/html": [
       "<div>\n",
       "<style scoped>\n",
       "    .dataframe tbody tr th:only-of-type {\n",
       "        vertical-align: middle;\n",
       "    }\n",
       "\n",
       "    .dataframe tbody tr th {\n",
       "        vertical-align: top;\n",
       "    }\n",
       "\n",
       "    .dataframe thead th {\n",
       "        text-align: right;\n",
       "    }\n",
       "</style>\n",
       "<table border=\"1\" class=\"dataframe\">\n",
       "  <thead>\n",
       "    <tr style=\"text-align: right;\">\n",
       "      <th></th>\n",
       "      <th>CreditScore</th>\n",
       "      <th>Geography</th>\n",
       "      <th>Gender</th>\n",
       "      <th>Age</th>\n",
       "      <th>Tenure</th>\n",
       "      <th>Balance</th>\n",
       "      <th>NumOfProducts</th>\n",
       "      <th>HasCrCard</th>\n",
       "      <th>IsActiveMember</th>\n",
       "      <th>EstimatedSalary</th>\n",
       "      <th>Exited</th>\n",
       "    </tr>\n",
       "  </thead>\n",
       "  <tbody>\n",
       "    <tr>\n",
       "      <th>30</th>\n",
       "      <td>591</td>\n",
       "      <td>Spain</td>\n",
       "      <td>Female</td>\n",
       "      <td>39</td>\n",
       "      <td>NaN</td>\n",
       "      <td>0.00</td>\n",
       "      <td>3</td>\n",
       "      <td>1</td>\n",
       "      <td>0</td>\n",
       "      <td>140469.38</td>\n",
       "      <td>1</td>\n",
       "    </tr>\n",
       "    <tr>\n",
       "      <th>48</th>\n",
       "      <td>550</td>\n",
       "      <td>Germany</td>\n",
       "      <td>Male</td>\n",
       "      <td>38</td>\n",
       "      <td>NaN</td>\n",
       "      <td>103391.38</td>\n",
       "      <td>1</td>\n",
       "      <td>0</td>\n",
       "      <td>1</td>\n",
       "      <td>90878.13</td>\n",
       "      <td>0</td>\n",
       "    </tr>\n",
       "    <tr>\n",
       "      <th>51</th>\n",
       "      <td>585</td>\n",
       "      <td>Germany</td>\n",
       "      <td>Male</td>\n",
       "      <td>36</td>\n",
       "      <td>NaN</td>\n",
       "      <td>146050.97</td>\n",
       "      <td>2</td>\n",
       "      <td>0</td>\n",
       "      <td>0</td>\n",
       "      <td>86424.57</td>\n",
       "      <td>0</td>\n",
       "    </tr>\n",
       "    <tr>\n",
       "      <th>53</th>\n",
       "      <td>655</td>\n",
       "      <td>Germany</td>\n",
       "      <td>Male</td>\n",
       "      <td>41</td>\n",
       "      <td>NaN</td>\n",
       "      <td>125561.97</td>\n",
       "      <td>1</td>\n",
       "      <td>0</td>\n",
       "      <td>0</td>\n",
       "      <td>164040.94</td>\n",
       "      <td>1</td>\n",
       "    </tr>\n",
       "    <tr>\n",
       "      <th>60</th>\n",
       "      <td>742</td>\n",
       "      <td>Germany</td>\n",
       "      <td>Male</td>\n",
       "      <td>35</td>\n",
       "      <td>NaN</td>\n",
       "      <td>136857.00</td>\n",
       "      <td>1</td>\n",
       "      <td>0</td>\n",
       "      <td>0</td>\n",
       "      <td>84509.57</td>\n",
       "      <td>0</td>\n",
       "    </tr>\n",
       "  </tbody>\n",
       "</table>\n",
       "</div>"
      ],
      "text/plain": [
       "    CreditScore Geography  Gender  Age  Tenure    Balance  NumOfProducts  \\\n",
       "30          591     Spain  Female   39     NaN       0.00              3   \n",
       "48          550   Germany    Male   38     NaN  103391.38              1   \n",
       "51          585   Germany    Male   36     NaN  146050.97              2   \n",
       "53          655   Germany    Male   41     NaN  125561.97              1   \n",
       "60          742   Germany    Male   35     NaN  136857.00              1   \n",
       "\n",
       "    HasCrCard  IsActiveMember  EstimatedSalary  Exited  \n",
       "30          1               0        140469.38       1  \n",
       "48          0               1         90878.13       0  \n",
       "51          0               0         86424.57       0  \n",
       "53          0               0        164040.94       1  \n",
       "60          0               0         84509.57       0  "
      ]
     },
     "metadata": {},
     "output_type": "display_data"
    }
   ],
   "source": [
    "display(data[data['Tenure'].isna()].head()) "
   ]
  },
  {
   "cell_type": "markdown",
   "id": "5745e072",
   "metadata": {},
   "source": [
    "Пропуски не обусловлены какой-то зависимостью, поэтому лучше удалить строки с пропущенными значениями, тем более, что их кол-во составляет всего 9%. "
   ]
  },
  {
   "cell_type": "code",
   "execution_count": 9,
   "id": "364ee56a",
   "metadata": {},
   "outputs": [],
   "source": [
    "# удалим строки с пропусками \n",
    "data = data.dropna().reset_index(drop=True)"
   ]
  },
  {
   "cell_type": "code",
   "execution_count": 10,
   "id": "c323f1c8",
   "metadata": {},
   "outputs": [
    {
     "data": {
      "text/plain": [
       "(9091, 11)"
      ]
     },
     "execution_count": 10,
     "metadata": {},
     "output_type": "execute_result"
    }
   ],
   "source": [
    "data.shape"
   ]
  },
  {
   "cell_type": "code",
   "execution_count": 11,
   "id": "7c1c96cd",
   "metadata": {},
   "outputs": [
    {
     "data": {
      "text/html": [
       "<div>\n",
       "<style scoped>\n",
       "    .dataframe tbody tr th:only-of-type {\n",
       "        vertical-align: middle;\n",
       "    }\n",
       "\n",
       "    .dataframe tbody tr th {\n",
       "        vertical-align: top;\n",
       "    }\n",
       "\n",
       "    .dataframe thead th {\n",
       "        text-align: right;\n",
       "    }\n",
       "</style>\n",
       "<table border=\"1\" class=\"dataframe\">\n",
       "  <thead>\n",
       "    <tr style=\"text-align: right;\">\n",
       "      <th></th>\n",
       "      <th>CreditScore</th>\n",
       "      <th>Age</th>\n",
       "      <th>Tenure</th>\n",
       "      <th>Balance</th>\n",
       "      <th>NumOfProducts</th>\n",
       "      <th>HasCrCard</th>\n",
       "      <th>IsActiveMember</th>\n",
       "      <th>EstimatedSalary</th>\n",
       "      <th>Exited</th>\n",
       "    </tr>\n",
       "  </thead>\n",
       "  <tbody>\n",
       "    <tr>\n",
       "      <th>CreditScore</th>\n",
       "      <td>0.00</td>\n",
       "      <td>-0.00</td>\n",
       "      <td>-0.00</td>\n",
       "      <td>0.00</td>\n",
       "      <td>0.01</td>\n",
       "      <td>-0.00</td>\n",
       "      <td>0.03</td>\n",
       "      <td>0.01</td>\n",
       "      <td>-0.02</td>\n",
       "    </tr>\n",
       "    <tr>\n",
       "      <th>Age</th>\n",
       "      <td>-0.00</td>\n",
       "      <td>0.00</td>\n",
       "      <td>-0.01</td>\n",
       "      <td>0.03</td>\n",
       "      <td>-0.03</td>\n",
       "      <td>-0.01</td>\n",
       "      <td>0.08</td>\n",
       "      <td>-0.01</td>\n",
       "      <td>0.28</td>\n",
       "    </tr>\n",
       "    <tr>\n",
       "      <th>Tenure</th>\n",
       "      <td>-0.00</td>\n",
       "      <td>-0.01</td>\n",
       "      <td>0.00</td>\n",
       "      <td>-0.01</td>\n",
       "      <td>0.01</td>\n",
       "      <td>0.03</td>\n",
       "      <td>-0.03</td>\n",
       "      <td>0.01</td>\n",
       "      <td>-0.02</td>\n",
       "    </tr>\n",
       "    <tr>\n",
       "      <th>Balance</th>\n",
       "      <td>0.00</td>\n",
       "      <td>0.03</td>\n",
       "      <td>-0.01</td>\n",
       "      <td>0.00</td>\n",
       "      <td>-0.30</td>\n",
       "      <td>-0.02</td>\n",
       "      <td>-0.00</td>\n",
       "      <td>0.01</td>\n",
       "      <td>0.12</td>\n",
       "    </tr>\n",
       "    <tr>\n",
       "      <th>NumOfProducts</th>\n",
       "      <td>0.01</td>\n",
       "      <td>-0.03</td>\n",
       "      <td>0.01</td>\n",
       "      <td>-0.30</td>\n",
       "      <td>0.00</td>\n",
       "      <td>0.01</td>\n",
       "      <td>0.01</td>\n",
       "      <td>0.01</td>\n",
       "      <td>-0.05</td>\n",
       "    </tr>\n",
       "    <tr>\n",
       "      <th>HasCrCard</th>\n",
       "      <td>-0.00</td>\n",
       "      <td>-0.01</td>\n",
       "      <td>0.03</td>\n",
       "      <td>-0.02</td>\n",
       "      <td>0.01</td>\n",
       "      <td>0.00</td>\n",
       "      <td>-0.01</td>\n",
       "      <td>-0.01</td>\n",
       "      <td>-0.01</td>\n",
       "    </tr>\n",
       "    <tr>\n",
       "      <th>IsActiveMember</th>\n",
       "      <td>0.03</td>\n",
       "      <td>0.08</td>\n",
       "      <td>-0.03</td>\n",
       "      <td>-0.00</td>\n",
       "      <td>0.01</td>\n",
       "      <td>-0.01</td>\n",
       "      <td>0.00</td>\n",
       "      <td>-0.02</td>\n",
       "      <td>-0.16</td>\n",
       "    </tr>\n",
       "    <tr>\n",
       "      <th>EstimatedSalary</th>\n",
       "      <td>0.01</td>\n",
       "      <td>-0.01</td>\n",
       "      <td>0.01</td>\n",
       "      <td>0.01</td>\n",
       "      <td>0.01</td>\n",
       "      <td>-0.01</td>\n",
       "      <td>-0.02</td>\n",
       "      <td>0.00</td>\n",
       "      <td>0.02</td>\n",
       "    </tr>\n",
       "    <tr>\n",
       "      <th>Exited</th>\n",
       "      <td>-0.02</td>\n",
       "      <td>0.28</td>\n",
       "      <td>-0.02</td>\n",
       "      <td>0.12</td>\n",
       "      <td>-0.05</td>\n",
       "      <td>-0.01</td>\n",
       "      <td>-0.16</td>\n",
       "      <td>0.02</td>\n",
       "      <td>0.00</td>\n",
       "    </tr>\n",
       "  </tbody>\n",
       "</table>\n",
       "</div>"
      ],
      "text/plain": [
       "                 CreditScore   Age  Tenure  Balance  NumOfProducts  HasCrCard  \\\n",
       "CreditScore             0.00 -0.00   -0.00     0.00           0.01      -0.00   \n",
       "Age                    -0.00  0.00   -0.01     0.03          -0.03      -0.01   \n",
       "Tenure                 -0.00 -0.01    0.00    -0.01           0.01       0.03   \n",
       "Balance                 0.00  0.03   -0.01     0.00          -0.30      -0.02   \n",
       "NumOfProducts           0.01 -0.03    0.01    -0.30           0.00       0.01   \n",
       "HasCrCard              -0.00 -0.01    0.03    -0.02           0.01       0.00   \n",
       "IsActiveMember          0.03  0.08   -0.03    -0.00           0.01      -0.01   \n",
       "EstimatedSalary         0.01 -0.01    0.01     0.01           0.01      -0.01   \n",
       "Exited                 -0.02  0.28   -0.02     0.12          -0.05      -0.01   \n",
       "\n",
       "                 IsActiveMember  EstimatedSalary  Exited  \n",
       "CreditScore                0.03             0.01   -0.02  \n",
       "Age                        0.08            -0.01    0.28  \n",
       "Tenure                    -0.03             0.01   -0.02  \n",
       "Balance                   -0.00             0.01    0.12  \n",
       "NumOfProducts              0.01             0.01   -0.05  \n",
       "HasCrCard                 -0.01            -0.01   -0.01  \n",
       "IsActiveMember             0.00            -0.02   -0.16  \n",
       "EstimatedSalary           -0.02             0.00    0.02  \n",
       "Exited                    -0.16             0.02    0.00  "
      ]
     },
     "execution_count": 11,
     "metadata": {},
     "output_type": "execute_result"
    }
   ],
   "source": [
    "# посмотрим на матрицу коррелаций, чтобы убедиться, что нет линейных зависимостей \n",
    "corr_mat = round(data.corr(),2)\n",
    "for x in range(corr_mat.shape[0]):\n",
    "    corr_mat.iloc[x,x] = 0.0\n",
    "corr_mat"
   ]
  },
  {
   "cell_type": "code",
   "execution_count": 12,
   "id": "eeaf22dc",
   "metadata": {},
   "outputs": [
    {
     "name": "stdout",
     "output_type": "stream",
     "text": [
      "<class 'pandas.core.frame.DataFrame'>\n",
      "RangeIndex: 9091 entries, 0 to 9090\n",
      "Data columns (total 11 columns):\n",
      " #   Column           Non-Null Count  Dtype  \n",
      "---  ------           --------------  -----  \n",
      " 0   CreditScore      9091 non-null   int64  \n",
      " 1   Geography        9091 non-null   object \n",
      " 2   Gender           9091 non-null   object \n",
      " 3   Age              9091 non-null   int64  \n",
      " 4   Tenure           9091 non-null   float64\n",
      " 5   Balance          9091 non-null   float64\n",
      " 6   NumOfProducts    9091 non-null   int64  \n",
      " 7   HasCrCard        9091 non-null   int64  \n",
      " 8   IsActiveMember   9091 non-null   int64  \n",
      " 9   EstimatedSalary  9091 non-null   float64\n",
      " 10  Exited           9091 non-null   int64  \n",
      "dtypes: float64(3), int64(6), object(2)\n",
      "memory usage: 781.4+ KB\n"
     ]
    }
   ],
   "source": [
    "data.info()"
   ]
  },
  {
   "cell_type": "code",
   "execution_count": 13,
   "id": "617034d3",
   "metadata": {},
   "outputs": [
    {
     "data": {
      "text/html": [
       "<div>\n",
       "<style scoped>\n",
       "    .dataframe tbody tr th:only-of-type {\n",
       "        vertical-align: middle;\n",
       "    }\n",
       "\n",
       "    .dataframe tbody tr th {\n",
       "        vertical-align: top;\n",
       "    }\n",
       "\n",
       "    .dataframe thead th {\n",
       "        text-align: right;\n",
       "    }\n",
       "</style>\n",
       "<table border=\"1\" class=\"dataframe\">\n",
       "  <thead>\n",
       "    <tr style=\"text-align: right;\">\n",
       "      <th></th>\n",
       "      <th>CreditScore</th>\n",
       "      <th>Geography</th>\n",
       "      <th>Gender</th>\n",
       "      <th>Age</th>\n",
       "      <th>Tenure</th>\n",
       "      <th>Balance</th>\n",
       "      <th>NumOfProducts</th>\n",
       "      <th>HasCrCard</th>\n",
       "      <th>IsActiveMember</th>\n",
       "      <th>EstimatedSalary</th>\n",
       "      <th>Exited</th>\n",
       "    </tr>\n",
       "  </thead>\n",
       "  <tbody>\n",
       "    <tr>\n",
       "      <th>0</th>\n",
       "      <td>619</td>\n",
       "      <td>France</td>\n",
       "      <td>Female</td>\n",
       "      <td>42</td>\n",
       "      <td>2.0</td>\n",
       "      <td>0.00</td>\n",
       "      <td>1</td>\n",
       "      <td>1</td>\n",
       "      <td>1</td>\n",
       "      <td>101348.88</td>\n",
       "      <td>1</td>\n",
       "    </tr>\n",
       "    <tr>\n",
       "      <th>1</th>\n",
       "      <td>608</td>\n",
       "      <td>Spain</td>\n",
       "      <td>Female</td>\n",
       "      <td>41</td>\n",
       "      <td>1.0</td>\n",
       "      <td>83807.86</td>\n",
       "      <td>1</td>\n",
       "      <td>0</td>\n",
       "      <td>1</td>\n",
       "      <td>112542.58</td>\n",
       "      <td>0</td>\n",
       "    </tr>\n",
       "    <tr>\n",
       "      <th>2</th>\n",
       "      <td>502</td>\n",
       "      <td>France</td>\n",
       "      <td>Female</td>\n",
       "      <td>42</td>\n",
       "      <td>8.0</td>\n",
       "      <td>159660.80</td>\n",
       "      <td>3</td>\n",
       "      <td>1</td>\n",
       "      <td>0</td>\n",
       "      <td>113931.57</td>\n",
       "      <td>1</td>\n",
       "    </tr>\n",
       "    <tr>\n",
       "      <th>3</th>\n",
       "      <td>699</td>\n",
       "      <td>France</td>\n",
       "      <td>Female</td>\n",
       "      <td>39</td>\n",
       "      <td>1.0</td>\n",
       "      <td>0.00</td>\n",
       "      <td>2</td>\n",
       "      <td>0</td>\n",
       "      <td>0</td>\n",
       "      <td>93826.63</td>\n",
       "      <td>0</td>\n",
       "    </tr>\n",
       "    <tr>\n",
       "      <th>4</th>\n",
       "      <td>850</td>\n",
       "      <td>Spain</td>\n",
       "      <td>Female</td>\n",
       "      <td>43</td>\n",
       "      <td>2.0</td>\n",
       "      <td>125510.82</td>\n",
       "      <td>1</td>\n",
       "      <td>1</td>\n",
       "      <td>1</td>\n",
       "      <td>79084.10</td>\n",
       "      <td>0</td>\n",
       "    </tr>\n",
       "  </tbody>\n",
       "</table>\n",
       "</div>"
      ],
      "text/plain": [
       "   CreditScore Geography  Gender  Age  Tenure    Balance  NumOfProducts  \\\n",
       "0          619    France  Female   42     2.0       0.00              1   \n",
       "1          608     Spain  Female   41     1.0   83807.86              1   \n",
       "2          502    France  Female   42     8.0  159660.80              3   \n",
       "3          699    France  Female   39     1.0       0.00              2   \n",
       "4          850     Spain  Female   43     2.0  125510.82              1   \n",
       "\n",
       "   HasCrCard  IsActiveMember  EstimatedSalary  Exited  \n",
       "0          1               1        101348.88       1  \n",
       "1          0               1        112542.58       0  \n",
       "2          1               0        113931.57       1  \n",
       "3          0               0         93826.63       0  \n",
       "4          1               1         79084.10       0  "
      ]
     },
     "execution_count": 13,
     "metadata": {},
     "output_type": "execute_result"
    }
   ],
   "source": [
    "data.head()"
   ]
  },
  {
   "cell_type": "code",
   "execution_count": 14,
   "id": "f5ba42a7",
   "metadata": {},
   "outputs": [
    {
     "data": {
      "text/plain": [
       "0    7237\n",
       "1    1854\n",
       "Name: Exited, dtype: int64"
      ]
     },
     "execution_count": 14,
     "metadata": {},
     "output_type": "execute_result"
    }
   ],
   "source": [
    "# посмотрим на распределение ушедших и оставшихся клиентов по датасету \n",
    "data['Exited'].value_counts()"
   ]
  },
  {
   "cell_type": "code",
   "execution_count": 15,
   "id": "cae43d73",
   "metadata": {},
   "outputs": [
    {
     "name": "stdout",
     "output_type": "stream",
     "text": [
      "0    0.796062\n",
      "1    0.203938\n",
      "Name: Exited, dtype: float64\n"
     ]
    },
    {
     "data": {
      "text/plain": [
       "<AxesSubplot:title={'center':'Соотношение оставшихся клиентов и ушедших'}>"
      ]
     },
     "execution_count": 15,
     "metadata": {},
     "output_type": "execute_result"
    },
    {
     "data": {
      "image/png": "[encoded data removed]",
      "text/plain": [
       "<Figure size 432x288 with 1 Axes>"
      ]
     },
     "metadata": {
      "needs_background": "light"
     },
     "output_type": "display_data"
    }
   ],
   "source": [
    "# Построим диаграмму подсчета классов\n",
    "class_frequency = data['Exited'].value_counts(normalize=True)\n",
    "print(class_frequency)\n",
    "class_frequency.plot(kind='bar', title='Соотношение оставшихся клиентов и ушедших') "
   ]
  },
  {
   "cell_type": "markdown",
   "id": "c153ecd3",
   "metadata": {},
   "source": [
    "Большая разница, ушедших клиентов - 2037, оставшихся - 7963. "
   ]
  },
  {
   "cell_type": "code",
   "execution_count": 16,
   "id": "7293d26d",
   "metadata": {},
   "outputs": [
    {
     "data": {
      "text/html": [
       "<div>\n",
       "<style scoped>\n",
       "    .dataframe tbody tr th:only-of-type {\n",
       "        vertical-align: middle;\n",
       "    }\n",
       "\n",
       "    .dataframe tbody tr th {\n",
       "        vertical-align: top;\n",
       "    }\n",
       "\n",
       "    .dataframe thead th {\n",
       "        text-align: right;\n",
       "    }\n",
       "</style>\n",
       "<table border=\"1\" class=\"dataframe\">\n",
       "  <thead>\n",
       "    <tr style=\"text-align: right;\">\n",
       "      <th></th>\n",
       "      <th>CreditScore</th>\n",
       "      <th>Age</th>\n",
       "      <th>Tenure</th>\n",
       "      <th>Balance</th>\n",
       "      <th>NumOfProducts</th>\n",
       "      <th>HasCrCard</th>\n",
       "      <th>IsActiveMember</th>\n",
       "      <th>EstimatedSalary</th>\n",
       "      <th>Exited</th>\n",
       "      <th>Geography_Germany</th>\n",
       "      <th>Geography_Spain</th>\n",
       "      <th>Gender_Male</th>\n",
       "    </tr>\n",
       "  </thead>\n",
       "  <tbody>\n",
       "    <tr>\n",
       "      <th>0</th>\n",
       "      <td>619</td>\n",
       "      <td>42</td>\n",
       "      <td>2.0</td>\n",
       "      <td>0.00</td>\n",
       "      <td>1</td>\n",
       "      <td>1</td>\n",
       "      <td>1</td>\n",
       "      <td>101348.88</td>\n",
       "      <td>1</td>\n",
       "      <td>0</td>\n",
       "      <td>0</td>\n",
       "      <td>0</td>\n",
       "    </tr>\n",
       "    <tr>\n",
       "      <th>1</th>\n",
       "      <td>608</td>\n",
       "      <td>41</td>\n",
       "      <td>1.0</td>\n",
       "      <td>83807.86</td>\n",
       "      <td>1</td>\n",
       "      <td>0</td>\n",
       "      <td>1</td>\n",
       "      <td>112542.58</td>\n",
       "      <td>0</td>\n",
       "      <td>0</td>\n",
       "      <td>1</td>\n",
       "      <td>0</td>\n",
       "    </tr>\n",
       "    <tr>\n",
       "      <th>2</th>\n",
       "      <td>502</td>\n",
       "      <td>42</td>\n",
       "      <td>8.0</td>\n",
       "      <td>159660.80</td>\n",
       "      <td>3</td>\n",
       "      <td>1</td>\n",
       "      <td>0</td>\n",
       "      <td>113931.57</td>\n",
       "      <td>1</td>\n",
       "      <td>0</td>\n",
       "      <td>0</td>\n",
       "      <td>0</td>\n",
       "    </tr>\n",
       "    <tr>\n",
       "      <th>3</th>\n",
       "      <td>699</td>\n",
       "      <td>39</td>\n",
       "      <td>1.0</td>\n",
       "      <td>0.00</td>\n",
       "      <td>2</td>\n",
       "      <td>0</td>\n",
       "      <td>0</td>\n",
       "      <td>93826.63</td>\n",
       "      <td>0</td>\n",
       "      <td>0</td>\n",
       "      <td>0</td>\n",
       "      <td>0</td>\n",
       "    </tr>\n",
       "    <tr>\n",
       "      <th>4</th>\n",
       "      <td>850</td>\n",
       "      <td>43</td>\n",
       "      <td>2.0</td>\n",
       "      <td>125510.82</td>\n",
       "      <td>1</td>\n",
       "      <td>1</td>\n",
       "      <td>1</td>\n",
       "      <td>79084.10</td>\n",
       "      <td>0</td>\n",
       "      <td>0</td>\n",
       "      <td>1</td>\n",
       "      <td>0</td>\n",
       "    </tr>\n",
       "  </tbody>\n",
       "</table>\n",
       "</div>"
      ],
      "text/plain": [
       "   CreditScore  Age  Tenure    Balance  NumOfProducts  HasCrCard  \\\n",
       "0          619   42     2.0       0.00              1          1   \n",
       "1          608   41     1.0   83807.86              1          0   \n",
       "2          502   42     8.0  159660.80              3          1   \n",
       "3          699   39     1.0       0.00              2          0   \n",
       "4          850   43     2.0  125510.82              1          1   \n",
       "\n",
       "   IsActiveMember  EstimatedSalary  Exited  Geography_Germany  \\\n",
       "0               1        101348.88       1                  0   \n",
       "1               1        112542.58       0                  0   \n",
       "2               0        113931.57       1                  0   \n",
       "3               0         93826.63       0                  0   \n",
       "4               1         79084.10       0                  0   \n",
       "\n",
       "   Geography_Spain  Gender_Male  \n",
       "0                0            0  \n",
       "1                1            0  \n",
       "2                0            0  \n",
       "3                0            0  \n",
       "4                1            0  "
      ]
     },
     "execution_count": 16,
     "metadata": {},
     "output_type": "execute_result"
    }
   ],
   "source": [
    " # Применим прямое кодирование ко всему датафрейму. \n",
    "data_ohe = pd.get_dummies(data, drop_first=True) # Сохраним таблицу в переменной data_ohe.\n",
    "data_ohe.head()"
   ]
  },
  {
   "cell_type": "code",
   "execution_count": 17,
   "id": "95015f8c",
   "metadata": {},
   "outputs": [
    {
     "data": {
      "text/plain": [
       "(9091, 11)"
      ]
     },
     "execution_count": 17,
     "metadata": {},
     "output_type": "execute_result"
    }
   ],
   "source": [
    "data.shape"
   ]
  },
  {
   "cell_type": "code",
   "execution_count": 18,
   "id": "eafab0db",
   "metadata": {},
   "outputs": [
    {
     "name": "stdout",
     "output_type": "stream",
     "text": [
      "(5454, 12)\n",
      "(1818, 12)\n",
      "(1819, 12)\n"
     ]
    }
   ],
   "source": [
    "# Разобъем данные после OHE \n",
    "target = data_ohe['Exited']\n",
    "features = data_ohe.drop('Exited', axis=1)\n",
    "train, check = train_test_split(data_ohe, train_size=0.6, random_state=12345, stratify = data_ohe['Exited'])\n",
    "valid, test = train_test_split(check, test_size=0.5, random_state=12345)\n",
    "print(train.shape)\n",
    "print(valid.shape)\n",
    "print(test.shape)"
   ]
  },
  {
   "cell_type": "code",
   "execution_count": 19,
   "id": "10ffe9ba",
   "metadata": {},
   "outputs": [],
   "source": [
    "# объявим переменные features и target для каждой выборки\n",
    "features_train = train.drop(['Exited'], axis=1)\n",
    "target_train = train['Exited']\n",
    "\n",
    "features_valid = valid.drop(['Exited'], axis=1)\n",
    "target_valid = valid['Exited']\n",
    "\n",
    "features_test = test.drop(['Exited'], axis=1)\n",
    "target_test = test['Exited']"
   ]
  },
  {
   "cell_type": "code",
   "execution_count": 20,
   "id": "6041c4fb",
   "metadata": {},
   "outputs": [
    {
     "data": {
      "text/html": [
       "<div>\n",
       "<style scoped>\n",
       "    .dataframe tbody tr th:only-of-type {\n",
       "        vertical-align: middle;\n",
       "    }\n",
       "\n",
       "    .dataframe tbody tr th {\n",
       "        vertical-align: top;\n",
       "    }\n",
       "\n",
       "    .dataframe thead th {\n",
       "        text-align: right;\n",
       "    }\n",
       "</style>\n",
       "<table border=\"1\" class=\"dataframe\">\n",
       "  <thead>\n",
       "    <tr style=\"text-align: right;\">\n",
       "      <th></th>\n",
       "      <th>CreditScore</th>\n",
       "      <th>Age</th>\n",
       "      <th>Tenure</th>\n",
       "      <th>Balance</th>\n",
       "      <th>NumOfProducts</th>\n",
       "      <th>HasCrCard</th>\n",
       "      <th>IsActiveMember</th>\n",
       "      <th>EstimatedSalary</th>\n",
       "      <th>Geography_Germany</th>\n",
       "      <th>Geography_Spain</th>\n",
       "      <th>Gender_Male</th>\n",
       "    </tr>\n",
       "  </thead>\n",
       "  <tbody>\n",
       "    <tr>\n",
       "      <th>8837</th>\n",
       "      <td>-1.292898</td>\n",
       "      <td>-0.660843</td>\n",
       "      <td>0.686341</td>\n",
       "      <td>0.786636</td>\n",
       "      <td>-0.910943</td>\n",
       "      <td>0</td>\n",
       "      <td>0</td>\n",
       "      <td>86786.41</td>\n",
       "      <td>0</td>\n",
       "      <td>0</td>\n",
       "      <td>1</td>\n",
       "    </tr>\n",
       "    <tr>\n",
       "      <th>1090</th>\n",
       "      <td>-1.563714</td>\n",
       "      <td>0.778434</td>\n",
       "      <td>1.034232</td>\n",
       "      <td>0.833795</td>\n",
       "      <td>-0.910943</td>\n",
       "      <td>1</td>\n",
       "      <td>0</td>\n",
       "      <td>179227.12</td>\n",
       "      <td>0</td>\n",
       "      <td>1</td>\n",
       "      <td>0</td>\n",
       "    </tr>\n",
       "    <tr>\n",
       "      <th>7609</th>\n",
       "      <td>1.581914</td>\n",
       "      <td>0.106771</td>\n",
       "      <td>-0.357331</td>\n",
       "      <td>-1.222967</td>\n",
       "      <td>0.789359</td>\n",
       "      <td>1</td>\n",
       "      <td>1</td>\n",
       "      <td>81908.09</td>\n",
       "      <td>0</td>\n",
       "      <td>1</td>\n",
       "      <td>1</td>\n",
       "    </tr>\n",
       "    <tr>\n",
       "      <th>7279</th>\n",
       "      <td>0.842379</td>\n",
       "      <td>0.010820</td>\n",
       "      <td>-1.053112</td>\n",
       "      <td>0.807063</td>\n",
       "      <td>-0.910943</td>\n",
       "      <td>1</td>\n",
       "      <td>1</td>\n",
       "      <td>74850.93</td>\n",
       "      <td>0</td>\n",
       "      <td>1</td>\n",
       "      <td>0</td>\n",
       "    </tr>\n",
       "    <tr>\n",
       "      <th>2245</th>\n",
       "      <td>-0.397123</td>\n",
       "      <td>-1.236554</td>\n",
       "      <td>-0.357331</td>\n",
       "      <td>-1.222967</td>\n",
       "      <td>0.789359</td>\n",
       "      <td>1</td>\n",
       "      <td>1</td>\n",
       "      <td>179780.74</td>\n",
       "      <td>0</td>\n",
       "      <td>1</td>\n",
       "      <td>0</td>\n",
       "    </tr>\n",
       "  </tbody>\n",
       "</table>\n",
       "</div>"
      ],
      "text/plain": [
       "      CreditScore       Age    Tenure   Balance  NumOfProducts  HasCrCard  \\\n",
       "8837    -1.292898 -0.660843  0.686341  0.786636      -0.910943          0   \n",
       "1090    -1.563714  0.778434  1.034232  0.833795      -0.910943          1   \n",
       "7609     1.581914  0.106771 -0.357331 -1.222967       0.789359          1   \n",
       "7279     0.842379  0.010820 -1.053112  0.807063      -0.910943          1   \n",
       "2245    -0.397123 -1.236554 -0.357331 -1.222967       0.789359          1   \n",
       "\n",
       "      IsActiveMember  EstimatedSalary  Geography_Germany  Geography_Spain  \\\n",
       "8837               0         86786.41                  0                0   \n",
       "1090               0        179227.12                  0                1   \n",
       "7609               1         81908.09                  0                1   \n",
       "7279               1         74850.93                  0                1   \n",
       "2245               1        179780.74                  0                1   \n",
       "\n",
       "      Gender_Male  \n",
       "8837            1  \n",
       "1090            0  \n",
       "7609            1  \n",
       "7279            0  \n",
       "2245            0  "
      ]
     },
     "metadata": {},
     "output_type": "display_data"
    }
   ],
   "source": [
    "pd.options.mode.chained_assignment = None # добавляем код, чтобы не появлялось предупреждение\n",
    "\n",
    "numeric = ['CreditScore', 'Age', 'Tenure', 'Balance', 'NumOfProducts']\n",
    "scaler = StandardScaler() # создадим объект этой структуры данных\n",
    "scaler.fit(features_train[numeric]) # настроим объект на обучающих данных \n",
    "features_train[numeric] = scaler.transform(features_train[numeric]) # проеобразуем обучающую выборку\n",
    "features_valid[numeric] = scaler.transform(features_valid[numeric]) # преобразуем валидационную выборку \n",
    "\n",
    "display(features_train.head(5))"
   ]
  },
  {
   "cell_type": "markdown",
   "id": "8def6061",
   "metadata": {},
   "source": [
    "Мы разбили данные к измерению качества и обучению. "
   ]
  },
  {
   "cell_type": "markdown",
   "id": "740c7d68",
   "metadata": {},
   "source": [
    "## Построение моделей без учета баланса "
   ]
  },
  {
   "cell_type": "code",
   "execution_count": 21,
   "id": "8623e72b",
   "metadata": {},
   "outputs": [
    {
     "name": "stdout",
     "output_type": "stream",
     "text": [
      "max_depth: 1 F1: 0.0\n",
      "max_depth: 2 F1: 0.5215946843853821\n",
      "max_depth: 3 F1: 0.5266666666666666\n",
      "max_depth: 4 F1: 0.5223613595706619\n",
      "max_depth: 5 F1: 0.581081081081081\n",
      "max_depth: 6 F1: 0.598984771573604\n",
      "max_depth: 7 F1: 0.6046511627906976\n",
      "max_depth: 8 F1: 0.5845648604269293\n",
      "max_depth: 9 F1: 0.580542264752791\n",
      "max_depth: 10 F1: 0.5767441860465116\n",
      "max_depth: 11 F1: 0.5647743813682679\n",
      "max_depth: 12 F1: 0.5446685878962536\n",
      "max_depth: 13 F1: 0.5306704707560628\n",
      "max_depth: 14 F1: 0.5281980742778543\n",
      "max_depth: 15 F1: 0.516914749661705\n"
     ]
    }
   ],
   "source": [
    "# Дерево решений \n",
    "# Найдем лучший гиперпораметр max_depth\n",
    "\n",
    "for depth in range(1,16,1):\n",
    "    model_tree=DecisionTreeClassifier(max_depth=depth,random_state=1234).fit(features_train,target_train)\n",
    "    prediction=model_tree.predict(features_valid)\n",
    "    \n",
    "    print('max_depth:',depth,'F1:',f1_score(target_valid,prediction))"
   ]
  },
  {
   "cell_type": "code",
   "execution_count": 22,
   "id": "fce131f0",
   "metadata": {},
   "outputs": [],
   "source": [
    "# сохраним модель Дерево решений с лучшим гиперпараметром\n",
    "model_tree=DecisionTreeClassifier(max_depth=7,random_state=1234).fit(features_train,target_train)"
   ]
  },
  {
   "cell_type": "code",
   "execution_count": 23,
   "id": "c0373b97",
   "metadata": {},
   "outputs": [
    {
     "name": "stdout",
     "output_type": "stream",
     "text": [
      "метрика AUC-ROC-Tree_before = 0.8256484176484176\n"
     ]
    }
   ],
   "source": [
    "# рассчитаем AUC-ROC модели Дерево решений \n",
    "probabilities_valid = model_tree.predict_proba(features_valid) \n",
    "probabilities_one_valid = probabilities_valid[:, 1]    \n",
    "auc_roc_tree = roc_auc_score(target_valid, probabilities_one_valid) #применяем функцию roc_auc_score \n",
    "print('метрика AUC-ROC-Tree_before =',auc_roc_tree)"
   ]
  },
  {
   "cell_type": "markdown",
   "id": "6f1647cc",
   "metadata": {},
   "source": [
    "Лучший параметр max_depth: 7, при котором F1: 0.6046, а метрика AUC-ROC = 0.8256"
   ]
  },
  {
   "cell_type": "code",
   "execution_count": 24,
   "id": "7103727f",
   "metadata": {},
   "outputs": [],
   "source": [
    "# случайный лес\n",
    "f1_list = []\n",
    "max_depth_list = []\n",
    "estim_list = []\n",
    "\n",
    "for md in range(1, 17):\n",
    "    for est in range(2, 50):\n",
    "        model_rf = RandomForestClassifier(random_state=12345, max_depth=md, n_estimators=est)\n",
    "        \n",
    "        model_rf.fit(features_train, target_train)\n",
    "        \n",
    "        predictions_rf = model_rf.predict(features_valid)\n",
    "        \n",
    "        f1_rf = round(f1_score(target_valid, predictions_rf), 4)\n",
    "        \n",
    "        f1_list.append(f1_rf)\n",
    "        max_depth_list.append(md)\n",
    "        estim_list.append(est)"
   ]
  },
  {
   "cell_type": "code",
   "execution_count": 25,
   "id": "aec2fe94",
   "metadata": {},
   "outputs": [
    {
     "data": {
      "text/html": [
       "<div>\n",
       "<style scoped>\n",
       "    .dataframe tbody tr th:only-of-type {\n",
       "        vertical-align: middle;\n",
       "    }\n",
       "\n",
       "    .dataframe tbody tr th {\n",
       "        vertical-align: top;\n",
       "    }\n",
       "\n",
       "    .dataframe thead th {\n",
       "        text-align: right;\n",
       "    }\n",
       "</style>\n",
       "<table border=\"1\" class=\"dataframe\">\n",
       "  <thead>\n",
       "    <tr style=\"text-align: right;\">\n",
       "      <th></th>\n",
       "      <th>max_depth</th>\n",
       "      <th>n_estimators</th>\n",
       "      <th>f1</th>\n",
       "    </tr>\n",
       "  </thead>\n",
       "  <tbody>\n",
       "    <tr>\n",
       "      <th>688</th>\n",
       "      <td>15</td>\n",
       "      <td>18</td>\n",
       "      <td>0.62</td>\n",
       "    </tr>\n",
       "  </tbody>\n",
       "</table>\n",
       "</div>"
      ],
      "text/plain": [
       "     max_depth  n_estimators    f1\n",
       "688         15            18  0.62"
      ]
     },
     "metadata": {},
     "output_type": "display_data"
    }
   ],
   "source": [
    "# собираем все списки в один\n",
    "result_list = [max_depth_list, estim_list, f1_list]\n",
    "\n",
    "# создаем датафрейм\n",
    "df_random_forest = pd.DataFrame({'max_depth':max_depth_list, 'n_estimators':estim_list, 'f1':f1_list})\n",
    "\n",
    "# из которого теперь легко вычленить интересующую нас информацию\n",
    "# ввиду строки с максимальным значением accuracy и соответствующих гиперпараметров\n",
    "display(df_random_forest[df_random_forest['f1']==df_random_forest['f1'].max()])"
   ]
  },
  {
   "cell_type": "code",
   "execution_count": 26,
   "id": "242e0cb4",
   "metadata": {},
   "outputs": [],
   "source": [
    "# сохраним модель случайный лес с лучшими гиперпараметром\n",
    "model_rf = RandomForestClassifier(random_state=12345, max_depth=15, n_estimators=18).fit(features_train, target_train)"
   ]
  },
  {
   "cell_type": "code",
   "execution_count": 27,
   "id": "b2eb06b5",
   "metadata": {},
   "outputs": [
    {
     "name": "stdout",
     "output_type": "stream",
     "text": [
      "метрика AUC-ROC-rf_before = 0.8471074151074152\n"
     ]
    }
   ],
   "source": [
    "probabilities_valid = model_rf.predict_proba(features_valid) \n",
    "probabilities_one_valid = probabilities_valid[:, 1]    \n",
    "auc_roc_tree = roc_auc_score(target_valid, probabilities_one_valid) #применяем функцию roc_auc_score \n",
    "print('метрика AUC-ROC-rf_before =',auc_roc_tree)"
   ]
  },
  {
   "cell_type": "markdown",
   "id": "af6496ba",
   "metadata": {},
   "source": [
    "Лучшее значение при max_depth=15, n_estimators=18, f1=0.62, а метрика AUC-ROC = 0.8471"
   ]
  },
  {
   "cell_type": "code",
   "execution_count": 28,
   "id": "f388b78a",
   "metadata": {},
   "outputs": [
    {
     "name": "stdout",
     "output_type": "stream",
     "text": [
      "F1: 0.0\n"
     ]
    }
   ],
   "source": [
    "# модель логистической регрессии\n",
    "model_logistic=LogisticRegression().fit(features_train,target_train)\n",
    "prediction=model_logistic.predict(features_valid)\n",
    "print('F1:',f1_score(target_valid,prediction))"
   ]
  },
  {
   "cell_type": "code",
   "execution_count": 29,
   "id": "ab8bc4ba",
   "metadata": {},
   "outputs": [
    {
     "name": "stdout",
     "output_type": "stream",
     "text": [
      "метрика AUC-ROC-logistic_before = 0.49366042966042967\n"
     ]
    }
   ],
   "source": [
    "probabilities_valid = model_logistic.predict_proba(features_valid) \n",
    "probabilities_one_valid = probabilities_valid[:, 1]    \n",
    "auc_roc_tree = roc_auc_score(target_valid, probabilities_one_valid) #применяем функцию roc_auc_score \n",
    "print('метрика AUC-ROC-logistic_before =',auc_roc_tree)"
   ]
  },
  {
   "cell_type": "markdown",
   "id": "5e12ec61",
   "metadata": {},
   "source": [
    "В модели логистической регрессии f1=0.0, а метрика AUC-ROC = 0.4936"
   ]
  },
  {
   "cell_type": "markdown",
   "id": "93929b34",
   "metadata": {},
   "source": [
    "Рассматривая данные с дисбалансом и обучив три модели, можно сделать вывод, что самая лучшая модель - дерево решений, при max_depth=15, n_estimators=18, f1=0.62, а метрика AUC-ROC = 0.8471 "
   ]
  },
  {
   "cell_type": "markdown",
   "id": "24e6f699",
   "metadata": {},
   "source": [
    "## Исправим дисбаланс"
   ]
  },
  {
   "cell_type": "code",
   "execution_count": 30,
   "id": "dde48615",
   "metadata": {},
   "outputs": [
    {
     "name": "stdout",
     "output_type": "stream",
     "text": [
      "(8790, 11)\n",
      "(8790,)\n"
     ]
    }
   ],
   "source": [
    "def upsample(features, target, repeat):\n",
    "    features_zeros = features[target == 0]\n",
    "    features_ones = features[target == 1]\n",
    "    target_zeros = target[target == 0]\n",
    "    target_ones = target[target == 1]\n",
    "\n",
    "    features_upsampled = pd.concat([features_zeros] + [features_ones] * repeat)\n",
    "    target_upsampled = pd.concat([target_zeros] + [target_ones] * repeat)\n",
    "    \n",
    "    features_upsampled, target_upsampled = shuffle(\n",
    "        features_upsampled, target_upsampled, random_state=12345)\n",
    "    \n",
    "    return features_upsampled, target_upsampled\n",
    "\n",
    "\n",
    "features_upsampled, target_upsampled = upsample(features_train, target_train, 4)\n",
    "\n",
    "print(features_upsampled.shape)\n",
    "print(target_upsampled.shape)"
   ]
  },
  {
   "cell_type": "code",
   "execution_count": 31,
   "id": "8c3b19c7",
   "metadata": {},
   "outputs": [
    {
     "name": "stdout",
     "output_type": "stream",
     "text": [
      "max_depth: 1 F1: 0.5191313340227508\n",
      "max_depth: 2 F1: 0.5463709677419355\n",
      "max_depth: 3 F1: 0.5463709677419355\n",
      "max_depth: 4 F1: 0.5630676084762866\n",
      "max_depth: 5 F1: 0.5626242544731611\n",
      "max_depth: 6 F1: 0.5728643216080402\n",
      "max_depth: 7 F1: 0.55859375\n",
      "max_depth: 8 F1: 0.5810663764961914\n",
      "max_depth: 9 F1: 0.5502183406113538\n",
      "max_depth: 10 F1: 0.5382131324004304\n",
      "max_depth: 11 F1: 0.5450450450450449\n",
      "max_depth: 12 F1: 0.5294797687861271\n",
      "max_depth: 13 F1: 0.5240893066980024\n",
      "max_depth: 14 F1: 0.5317365269461077\n",
      "max_depth: 15 F1: 0.5238678090575275\n",
      "CPU times: user 380 ms, sys: 11.9 ms, total: 392 ms\n",
      "Wall time: 403 ms\n"
     ]
    }
   ],
   "source": [
    "%%time\n",
    "# модель Дерево Решений \n",
    "for depth in range(1,16,1):\n",
    "    model_tree=DecisionTreeClassifier(max_depth=depth,random_state=12345).fit(features_upsampled,target_upsampled)\n",
    "    prediction=model_tree.predict(features_valid)\n",
    "    print('max_depth:',depth,'F1:',f1_score(target_valid,prediction))"
   ]
  },
  {
   "cell_type": "code",
   "execution_count": 32,
   "id": "89977207",
   "metadata": {},
   "outputs": [],
   "source": [
    "# сохраним модель дерево решений с лучшим гиперпараметром\n",
    "model_tree = DecisionTreeClassifier(max_depth=8,random_state=12345).fit(features_upsampled,target_upsampled)"
   ]
  },
  {
   "cell_type": "code",
   "execution_count": 33,
   "id": "32236210",
   "metadata": {},
   "outputs": [
    {
     "name": "stdout",
     "output_type": "stream",
     "text": [
      "метрика AUC-ROC-tree_after = 0.49366042966042967\n"
     ]
    }
   ],
   "source": [
    "probabilities_valid_tree = model_tree.predict_proba(features_valid) \n",
    "probabilities_one_valid_tree = probabilities_valid_tree[:, 1]    \n",
    "auc_roc_tree = roc_auc_score(target_valid, probabilities_one_valid) #применяем функцию roc_auc_score \n",
    "print('метрика AUC-ROC-tree_after =',auc_roc_tree)\n",
    "fpr_tree,tpr_tree,thresholds=roc_curve(target_valid,probabilities_one_valid_tree)"
   ]
  },
  {
   "cell_type": "markdown",
   "id": "d3b6df54",
   "metadata": {},
   "source": [
    "При max_depth = 8, F1 = 0.5810, AUC-ROC = 0.49"
   ]
  },
  {
   "cell_type": "code",
   "execution_count": 34,
   "id": "31e56389",
   "metadata": {},
   "outputs": [
    {
     "name": "stdout",
     "output_type": "stream",
     "text": [
      "CPU times: user 2min 19s, sys: 1.03 s, total: 2min 20s\n",
      "Wall time: 2min 21s\n"
     ]
    }
   ],
   "source": [
    "%%time\n",
    "# Случайный Лес\n",
    "f1_list = []\n",
    "max_depth_list = []\n",
    "estim_list = []\n",
    "\n",
    "for md in range(1, 17):\n",
    "    for est in range(2, 50):\n",
    "        model_rf = RandomForestClassifier(random_state=12345, max_depth=md, n_estimators=est)\n",
    "        \n",
    "        model_rf.fit(features_upsampled, target_upsampled)\n",
    "        \n",
    "        predictions_rf = model_rf.predict(features_valid)\n",
    "        \n",
    "        f1_rf = round(f1_score(target_valid, predictions_rf), 4)\n",
    "        \n",
    "        f1_list.append(f1_rf)\n",
    "        max_depth_list.append(md)\n",
    "        estim_list.append(est)"
   ]
  },
  {
   "cell_type": "code",
   "execution_count": 35,
   "id": "4a5a6277",
   "metadata": {},
   "outputs": [
    {
     "data": {
      "text/html": [
       "<div>\n",
       "<style scoped>\n",
       "    .dataframe tbody tr th:only-of-type {\n",
       "        vertical-align: middle;\n",
       "    }\n",
       "\n",
       "    .dataframe tbody tr th {\n",
       "        vertical-align: top;\n",
       "    }\n",
       "\n",
       "    .dataframe thead th {\n",
       "        text-align: right;\n",
       "    }\n",
       "</style>\n",
       "<table border=\"1\" class=\"dataframe\">\n",
       "  <thead>\n",
       "    <tr style=\"text-align: right;\">\n",
       "      <th></th>\n",
       "      <th>max_depth</th>\n",
       "      <th>n_estimators</th>\n",
       "      <th>f1</th>\n",
       "    </tr>\n",
       "  </thead>\n",
       "  <tbody>\n",
       "    <tr>\n",
       "      <th>562</th>\n",
       "      <td>12</td>\n",
       "      <td>36</td>\n",
       "      <td>0.6365</td>\n",
       "    </tr>\n",
       "  </tbody>\n",
       "</table>\n",
       "</div>"
      ],
      "text/plain": [
       "     max_depth  n_estimators      f1\n",
       "562         12            36  0.6365"
      ]
     },
     "metadata": {},
     "output_type": "display_data"
    }
   ],
   "source": [
    "# собираем все списки в один\n",
    "result_list = [max_depth_list, estim_list, f1_list]\n",
    "\n",
    "# создаем датафрейм\n",
    "df_random_forest = pd.DataFrame({'max_depth':max_depth_list, 'n_estimators':estim_list, 'f1':f1_list})\n",
    "\n",
    "# из которого теперь легко вычленить интересующую нас информацию\n",
    "# ввиду строки с максимальным значением accuracy и соответствующих гиперпараметров\n",
    "display(df_random_forest[df_random_forest['f1']==df_random_forest['f1'].max()])"
   ]
  },
  {
   "cell_type": "code",
   "execution_count": 36,
   "id": "3beb14fc",
   "metadata": {},
   "outputs": [],
   "source": [
    "# сохраним модель случайный лес с лучшими гиперпараметрами \n",
    "model_rf = RandomForestClassifier(random_state=12345, max_depth=12, n_estimators=36).fit(features_upsampled, target_upsampled)"
   ]
  },
  {
   "cell_type": "code",
   "execution_count": 37,
   "id": "c391f614",
   "metadata": {},
   "outputs": [
    {
     "name": "stdout",
     "output_type": "stream",
     "text": [
      "метрика AUC-ROC-rf_after = 0.8595518595518595\n"
     ]
    }
   ],
   "source": [
    "probabilities_valid_rf = model_rf.predict_proba(features_valid) \n",
    "probabilities_one_valid_rf = probabilities_valid_rf[:, 1]    \n",
    "auc_roc_rf_after = roc_auc_score(target_valid, probabilities_one_valid_rf) #применяем функцию roc_auc_score \n",
    "print('метрика AUC-ROC-rf_after =',auc_roc_rf_after)\n",
    "fpr_rf,tpr_rf,thresholds=roc_curve(target_valid,probabilities_one_valid_rf)"
   ]
  },
  {
   "cell_type": "markdown",
   "id": "80540d28",
   "metadata": {},
   "source": [
    "При гиперпараметрах max_depth=12, n_estimators=36, f1=0,6018, AUC-ROC=0.8595"
   ]
  },
  {
   "cell_type": "code",
   "execution_count": 38,
   "id": "3f67924c",
   "metadata": {},
   "outputs": [
    {
     "name": "stdout",
     "output_type": "stream",
     "text": [
      "F1: 0.34199726402188785\n",
      "CPU times: user 59.5 ms, sys: 28 ms, total: 87.5 ms\n",
      "Wall time: 93.7 ms\n"
     ]
    }
   ],
   "source": [
    "%%time\n",
    "# Логистическая Регрессия \n",
    "model_logistic=LogisticRegression().fit(features_upsampled,target_upsampled)\n",
    "prediction=model_logistic.predict(features_valid)\n",
    "print('F1:',f1_score(target_valid,prediction))"
   ]
  },
  {
   "cell_type": "code",
   "execution_count": 39,
   "id": "ef5372c5",
   "metadata": {},
   "outputs": [
    {
     "name": "stdout",
     "output_type": "stream",
     "text": [
      "метрика AUC-ROC-logistic_after = 0.5063395703395703\n"
     ]
    }
   ],
   "source": [
    "probabilities_valid_log = model_logistic.predict_proba(features_valid) \n",
    "probabilities_one_valid_log = probabilities_valid_log[:, 1]    \n",
    "auc_roc_logistic_after = roc_auc_score(target_valid, probabilities_one_valid_log) #применяем функцию roc_auc_score \n",
    "print('метрика AUC-ROC-logistic_after =', auc_roc_logistic_after)\n",
    "fpr_log,tpr_log,thresholds=roc_curve(target_valid,probabilities_one_valid_log)"
   ]
  },
  {
   "cell_type": "code",
   "execution_count": 40,
   "id": "125c27e9",
   "metadata": {},
   "outputs": [
    {
     "data": {
      "text/plain": [
       "<Figure size 432x288 with 0 Axes>"
      ]
     },
     "metadata": {},
     "output_type": "display_data"
    },
    {
     "data": {
      "image/png": "[encoded data removed]",
      "text/plain": [
       "<Figure size 720x504 with 1 Axes>"
      ]
     },
     "metadata": {
      "needs_background": "light"
     },
     "output_type": "display_data"
    }
   ],
   "source": [
    "plt.figure()\n",
    "\n",
    "plt.figure(figsize=(10,7))\n",
    "plt.plot([0, 1], [0, 1], linestyle='--')\n",
    "plt.xlim([0.0, 1.0])\n",
    "plt.ylim([0.0, 1.0])\n",
    "plt.plot(fpr_log,tpr_log)\n",
    "plt.plot(fpr_tree,tpr_tree)\n",
    "plt.plot(fpr_rf,tpr_rf)\n",
    "plt.xlabel('False Positive Rate')\n",
    "plt.ylabel('True Positive Rate')\n",
    "plt.title('ROC-кривая')\n",
    "plt.legend(('Random Model','logistic Reression','Decision Tree','Random Forest'),\n",
    "           loc= 'upper left') \n",
    "plt.show()"
   ]
  },
  {
   "cell_type": "code",
   "execution_count": 41,
   "id": "0cd68111",
   "metadata": {},
   "outputs": [
    {
     "data": {
      "text/html": [
       "<div>\n",
       "<style scoped>\n",
       "    .dataframe tbody tr th:only-of-type {\n",
       "        vertical-align: middle;\n",
       "    }\n",
       "\n",
       "    .dataframe tbody tr th {\n",
       "        vertical-align: top;\n",
       "    }\n",
       "\n",
       "    .dataframe thead th {\n",
       "        text-align: right;\n",
       "    }\n",
       "</style>\n",
       "<table border=\"1\" class=\"dataframe\">\n",
       "  <thead>\n",
       "    <tr style=\"text-align: right;\">\n",
       "      <th></th>\n",
       "      <th>Дерево Решения</th>\n",
       "      <th>Случайный лес</th>\n",
       "      <th>Логистическая регрессия</th>\n",
       "    </tr>\n",
       "  </thead>\n",
       "  <tbody>\n",
       "    <tr>\n",
       "      <th>F1-мера</th>\n",
       "      <td>0.5810</td>\n",
       "      <td>0.6365</td>\n",
       "      <td>0.3419</td>\n",
       "    </tr>\n",
       "    <tr>\n",
       "      <th>AUC-ROC</th>\n",
       "      <td>0.4936</td>\n",
       "      <td>0.8595</td>\n",
       "      <td>0.5063</td>\n",
       "    </tr>\n",
       "  </tbody>\n",
       "</table>\n",
       "</div>"
      ],
      "text/plain": [
       "         Дерево Решения  Случайный лес  Логистическая регрессия\n",
       "F1-мера          0.5810         0.6365                   0.3419\n",
       "AUC-ROC          0.4936         0.8595                   0.5063"
      ]
     },
     "execution_count": 41,
     "metadata": {},
     "output_type": "execute_result"
    }
   ],
   "source": [
    "rezult={'Дерево Решения':np.array([0.5810,0.4936]),'Случайный лес':np.array([0.6365,0.8595]),'Логистическая регрессия':np.array([0.3419,0.5063])}\n",
    "rezult_df=pd.DataFrame(rezult,index=['F1-мера','AUC-ROC'])\n",
    "rezult_df"
   ]
  },
  {
   "cell_type": "code",
   "execution_count": 42,
   "id": "fb4b1e57",
   "metadata": {},
   "outputs": [
    {
     "name": "stdout",
     "output_type": "stream",
     "text": [
      "(2198, 11)\n",
      "(2198,)\n"
     ]
    }
   ],
   "source": [
    "# выполним downsampling\n",
    "def downsample(features, target, fraction):\n",
    "    features_zeros = features[target == 0]\n",
    "    features_ones = features[target == 1]\n",
    "    target_zeros = target[target == 0]\n",
    "    target_ones = target[target == 1]\n",
    "    \n",
    "    features_downsampled = pd.concat(\n",
    "        [features_zeros.sample(frac=fraction, random_state=12345)] + [features_ones])\n",
    "    target_downsampled = pd.concat(\n",
    "        [target_zeros.sample(frac=fraction, random_state=12345)] + [target_ones])\n",
    "    \n",
    "    features_downsampled, target_downsampled = shuffle(\n",
    "        features_downsampled, target_downsampled, random_state=12345)\n",
    "    \n",
    "    return features_downsampled, target_downsampled\n",
    "\n",
    "\n",
    "features_downsampled, target_downsampled = downsample(features_train, target_train, 0.25)\n",
    "\n",
    "print(features_downsampled.shape)\n",
    "print(target_downsampled.shape)"
   ]
  },
  {
   "cell_type": "code",
   "execution_count": 43,
   "id": "1d1ea683",
   "metadata": {},
   "outputs": [
    {
     "name": "stdout",
     "output_type": "stream",
     "text": [
      "max_depth: 1 F1: 0.5191313340227508\n",
      "max_depth: 2 F1: 0.5463709677419355\n",
      "max_depth: 3 F1: 0.5463709677419355\n",
      "max_depth: 4 F1: 0.5668341708542713\n",
      "max_depth: 5 F1: 0.5593719332679097\n",
      "max_depth: 6 F1: 0.5685279187817259\n",
      "max_depth: 7 F1: 0.5588822355289421\n",
      "max_depth: 8 F1: 0.5702479338842975\n",
      "max_depth: 9 F1: 0.5250255362614914\n",
      "max_depth: 10 F1: 0.5401174168297456\n",
      "max_depth: 11 F1: 0.5166340508806262\n",
      "max_depth: 12 F1: 0.5196548418024928\n",
      "max_depth: 13 F1: 0.5161904761904762\n",
      "max_depth: 14 F1: 0.5046040515653776\n",
      "max_depth: 15 F1: 0.5106382978723405\n",
      "CPU times: user 169 ms, sys: 4.05 ms, total: 173 ms\n",
      "Wall time: 188 ms\n"
     ]
    }
   ],
   "source": [
    "%%time\n",
    "# модель Дерево Решений \n",
    "for depth in range(1,16,1):\n",
    "    model_tree=DecisionTreeClassifier(max_depth=depth,random_state=12345).fit(features_downsampled,target_downsampled)\n",
    "    prediction=model_tree.predict(features_valid)\n",
    "    print('max_depth:',depth,'F1:',f1_score(target_valid,prediction))"
   ]
  },
  {
   "cell_type": "code",
   "execution_count": 44,
   "id": "966d42d3",
   "metadata": {},
   "outputs": [],
   "source": [
    "# сохраним модель дерево решений с лучшим гиперпараметром\n",
    "model_tree = DecisionTreeClassifier(max_depth=8,random_state=12345).fit(features_downsampled,target_downsampled)"
   ]
  },
  {
   "cell_type": "code",
   "execution_count": 45,
   "id": "a384d42d",
   "metadata": {},
   "outputs": [
    {
     "name": "stdout",
     "output_type": "stream",
     "text": [
      "метрика AUC-ROC-tree_after = 0.49366042966042967\n"
     ]
    }
   ],
   "source": [
    "probabilities_valid_tree = model_tree.predict_proba(features_valid) \n",
    "probabilities_one_valid_tree = probabilities_valid_tree[:, 1]    \n",
    "auc_roc_tree = roc_auc_score(target_valid, probabilities_one_valid) #применяем функцию roc_auc_score \n",
    "print('метрика AUC-ROC-tree_after =',auc_roc_tree)\n",
    "fpr_tree,tpr_tree,thresholds=roc_curve(target_valid,probabilities_one_valid_tree)"
   ]
  },
  {
   "cell_type": "code",
   "execution_count": 46,
   "id": "ff98ad96",
   "metadata": {},
   "outputs": [
    {
     "name": "stdout",
     "output_type": "stream",
     "text": [
      "CPU times: user 1min 2s, sys: 580 ms, total: 1min 3s\n",
      "Wall time: 1min 3s\n"
     ]
    }
   ],
   "source": [
    "%%time\n",
    "# Случайный Лес\n",
    "f1_list = []\n",
    "max_depth_list = []\n",
    "estim_list = []\n",
    "\n",
    "for md in range(1, 17):\n",
    "    for est in range(2, 50):\n",
    "        model_rf = RandomForestClassifier(random_state=12345, max_depth=md, n_estimators=est)\n",
    "        \n",
    "        model_rf.fit(features_downsampled, target_downsampled)\n",
    "        \n",
    "        predictions_rf = model_rf.predict(features_valid)\n",
    "        \n",
    "        f1_rf = round(f1_score(target_valid, predictions_rf), 4)\n",
    "        \n",
    "        f1_list.append(f1_rf)\n",
    "        max_depth_list.append(md)\n",
    "        estim_list.append(est)"
   ]
  },
  {
   "cell_type": "code",
   "execution_count": 47,
   "id": "2e63e871",
   "metadata": {},
   "outputs": [
    {
     "data": {
      "text/html": [
       "<div>\n",
       "<style scoped>\n",
       "    .dataframe tbody tr th:only-of-type {\n",
       "        vertical-align: middle;\n",
       "    }\n",
       "\n",
       "    .dataframe tbody tr th {\n",
       "        vertical-align: top;\n",
       "    }\n",
       "\n",
       "    .dataframe thead th {\n",
       "        text-align: right;\n",
       "    }\n",
       "</style>\n",
       "<table border=\"1\" class=\"dataframe\">\n",
       "  <thead>\n",
       "    <tr style=\"text-align: right;\">\n",
       "      <th></th>\n",
       "      <th>max_depth</th>\n",
       "      <th>n_estimators</th>\n",
       "      <th>f1</th>\n",
       "    </tr>\n",
       "  </thead>\n",
       "  <tbody>\n",
       "    <tr>\n",
       "      <th>415</th>\n",
       "      <td>9</td>\n",
       "      <td>33</td>\n",
       "      <td>0.6092</td>\n",
       "    </tr>\n",
       "  </tbody>\n",
       "</table>\n",
       "</div>"
      ],
      "text/plain": [
       "     max_depth  n_estimators      f1\n",
       "415          9            33  0.6092"
      ]
     },
     "metadata": {},
     "output_type": "display_data"
    }
   ],
   "source": [
    "# собираем все списки в один\n",
    "result_list = [max_depth_list, estim_list, f1_list]\n",
    "\n",
    "# создаем датафрейм\n",
    "df_random_forest = pd.DataFrame({'max_depth':max_depth_list, 'n_estimators':estim_list, 'f1':f1_list})\n",
    "\n",
    "# из которого теперь легко вычленить интересующую нас информацию\n",
    "# ввиду строки с максимальным значением accuracy и соответствующих гиперпараметров\n",
    "display(df_random_forest[df_random_forest['f1']==df_random_forest['f1'].max()])"
   ]
  },
  {
   "cell_type": "code",
   "execution_count": 48,
   "id": "860ec112",
   "metadata": {},
   "outputs": [],
   "source": [
    "# сохраним модель случайный лес с лучшими гиперпараметрами \n",
    "model_rf = RandomForestClassifier(random_state=12345, max_depth=9, n_estimators=33).fit(features_upsampled, target_upsampled)"
   ]
  },
  {
   "cell_type": "code",
   "execution_count": 49,
   "id": "adc52754",
   "metadata": {},
   "outputs": [
    {
     "name": "stdout",
     "output_type": "stream",
     "text": [
      "метрика AUC-ROC-rf_after = 0.8624790944790945\n"
     ]
    }
   ],
   "source": [
    "probabilities_valid_rf = model_rf.predict_proba(features_valid) \n",
    "probabilities_one_valid_rf = probabilities_valid_rf[:, 1]    \n",
    "auc_roc_rf_after = roc_auc_score(target_valid, probabilities_one_valid_rf) #применяем функцию roc_auc_score \n",
    "print('метрика AUC-ROC-rf_after =',auc_roc_rf_after)\n",
    "fpr_rf,tpr_rf,thresholds=roc_curve(target_valid,probabilities_one_valid_rf)"
   ]
  },
  {
   "cell_type": "code",
   "execution_count": 50,
   "id": "a4705da1",
   "metadata": {},
   "outputs": [
    {
     "name": "stdout",
     "output_type": "stream",
     "text": [
      "F1: 0.34199726402188785\n",
      "CPU times: user 33.1 ms, sys: 28.1 ms, total: 61.2 ms\n",
      "Wall time: 44.7 ms\n"
     ]
    }
   ],
   "source": [
    "%%time\n",
    "# Логистическая Регрессия \n",
    "model_logistic=LogisticRegression().fit(features_downsampled,target_downsampled)\n",
    "prediction=model_logistic.predict(features_valid)\n",
    "print('F1:',f1_score(target_valid,prediction))"
   ]
  },
  {
   "cell_type": "code",
   "execution_count": 51,
   "id": "2aafa15f",
   "metadata": {},
   "outputs": [
    {
     "name": "stdout",
     "output_type": "stream",
     "text": [
      "метрика AUC-ROC-logistic_after = 0.5063395703395703\n"
     ]
    }
   ],
   "source": [
    "probabilities_valid_log = model_logistic.predict_proba(features_valid) \n",
    "probabilities_one_valid_log = probabilities_valid_log[:, 1]    \n",
    "auc_roc_logistic_after = roc_auc_score(target_valid, probabilities_one_valid_log) #применяем функцию roc_auc_score \n",
    "print('метрика AUC-ROC-logistic_after =', auc_roc_logistic_after)\n",
    "fpr_log,tpr_log,thresholds=roc_curve(target_valid,probabilities_one_valid_log)"
   ]
  },
  {
   "cell_type": "code",
   "execution_count": 52,
   "id": "41a494c2",
   "metadata": {},
   "outputs": [
    {
     "data": {
      "text/plain": [
       "<Figure size 432x288 with 0 Axes>"
      ]
     },
     "metadata": {},
     "output_type": "display_data"
    },
    {
     "data": {
      "image/png": "[encoded data removed]",
      "text/plain": [
       "<Figure size 720x504 with 1 Axes>"
      ]
     },
     "metadata": {
      "needs_background": "light"
     },
     "output_type": "display_data"
    }
   ],
   "source": [
    "plt.figure()\n",
    "\n",
    "plt.figure(figsize=(10,7))\n",
    "plt.plot([0, 1], [0, 1], linestyle='--')\n",
    "plt.xlim([0.0, 1.0])\n",
    "plt.ylim([0.0, 1.0])\n",
    "plt.plot(fpr_log,tpr_log)\n",
    "plt.plot(fpr_tree,tpr_tree)\n",
    "plt.plot(fpr_rf,tpr_rf)\n",
    "plt.xlabel('False Positive Rate')\n",
    "plt.ylabel('True Positive Rate')\n",
    "plt.title('ROC-кривая')\n",
    "plt.legend(('Random Model','Logistic Regression','Decision Tree','Random Forest'),\n",
    "           loc= 'upper left') \n",
    "plt.show()"
   ]
  },
  {
   "cell_type": "code",
   "execution_count": 53,
   "id": "b15142bf",
   "metadata": {},
   "outputs": [
    {
     "data": {
      "text/html": [
       "<div>\n",
       "<style scoped>\n",
       "    .dataframe tbody tr th:only-of-type {\n",
       "        vertical-align: middle;\n",
       "    }\n",
       "\n",
       "    .dataframe tbody tr th {\n",
       "        vertical-align: top;\n",
       "    }\n",
       "\n",
       "    .dataframe thead th {\n",
       "        text-align: right;\n",
       "    }\n",
       "</style>\n",
       "<table border=\"1\" class=\"dataframe\">\n",
       "  <thead>\n",
       "    <tr style=\"text-align: right;\">\n",
       "      <th></th>\n",
       "      <th>Дерево Решения</th>\n",
       "      <th>Случайный лес</th>\n",
       "      <th>Логистическая регрессия</th>\n",
       "    </tr>\n",
       "  </thead>\n",
       "  <tbody>\n",
       "    <tr>\n",
       "      <th>F1-мера</th>\n",
       "      <td>0.5702</td>\n",
       "      <td>0.6092</td>\n",
       "      <td>0.3419</td>\n",
       "    </tr>\n",
       "    <tr>\n",
       "      <th>AUC-ROC</th>\n",
       "      <td>0.4936</td>\n",
       "      <td>0.8624</td>\n",
       "      <td>0.5063</td>\n",
       "    </tr>\n",
       "  </tbody>\n",
       "</table>\n",
       "</div>"
      ],
      "text/plain": [
       "         Дерево Решения  Случайный лес  Логистическая регрессия\n",
       "F1-мера          0.5702         0.6092                   0.3419\n",
       "AUC-ROC          0.4936         0.8624                   0.5063"
      ]
     },
     "execution_count": 53,
     "metadata": {},
     "output_type": "execute_result"
    }
   ],
   "source": [
    "rezult={'Дерево Решения':np.array([0.5702,0.4936]),'Случайный лес':np.array([0.6092,0.8624]),'Логистическая регрессия':np.array([0.3419,0.5063])}\n",
    "rezult_df=pd.DataFrame(rezult,index=['F1-мера','AUC-ROC'])\n",
    "rezult_df"
   ]
  },
  {
   "cell_type": "markdown",
   "id": "5079e93f",
   "metadata": {},
   "source": [
    "## Финальное тестирование "
   ]
  },
  {
   "cell_type": "code",
   "execution_count": 54,
   "id": "c39aa5ad",
   "metadata": {},
   "outputs": [],
   "source": [
    "features_test[numeric] = scaler.transform(features_test[numeric]) # преобразуем тестовую выборку "
   ]
  },
  {
   "cell_type": "code",
   "execution_count": 55,
   "id": "f1ff2488",
   "metadata": {},
   "outputs": [
    {
     "name": "stdout",
     "output_type": "stream",
     "text": [
      "F1: 0.6055488540410133\n"
     ]
    }
   ],
   "source": [
    "prediction_test = model_rf.predict(features_test)\n",
    "\n",
    "print('F1:',f1_score(target_test,prediction_test))"
   ]
  },
  {
   "cell_type": "markdown",
   "id": "049a7655",
   "metadata": {},
   "source": [
    "F1-мера на тестовой выборке дала результат в 0,606. "
   ]
  },
  {
   "cell_type": "code",
   "execution_count": 56,
   "id": "7103d27c",
   "metadata": {},
   "outputs": [
    {
     "data": {
      "text/html": [
       "<div>\n",
       "<style scoped>\n",
       "    .dataframe tbody tr th:only-of-type {\n",
       "        vertical-align: middle;\n",
       "    }\n",
       "\n",
       "    .dataframe tbody tr th {\n",
       "        vertical-align: top;\n",
       "    }\n",
       "\n",
       "    .dataframe thead th {\n",
       "        text-align: right;\n",
       "    }\n",
       "</style>\n",
       "<table border=\"1\" class=\"dataframe\">\n",
       "  <thead>\n",
       "    <tr style=\"text-align: right;\">\n",
       "      <th></th>\n",
       "      <th>CreditScore</th>\n",
       "      <th>Age</th>\n",
       "      <th>Tenure</th>\n",
       "      <th>Balance</th>\n",
       "      <th>NumOfProducts</th>\n",
       "      <th>HasCrCard</th>\n",
       "      <th>IsActiveMember</th>\n",
       "      <th>EstimatedSalary</th>\n",
       "      <th>Geography_Germany</th>\n",
       "      <th>Geography_Spain</th>\n",
       "      <th>Gender_Male</th>\n",
       "    </tr>\n",
       "  </thead>\n",
       "  <tbody>\n",
       "    <tr>\n",
       "      <th>1946</th>\n",
       "      <td>-0.459619</td>\n",
       "      <td>2.505566</td>\n",
       "      <td>1.730013</td>\n",
       "      <td>0.798907</td>\n",
       "      <td>2.489660</td>\n",
       "      <td>0</td>\n",
       "      <td>0</td>\n",
       "      <td>7861.68</td>\n",
       "      <td>1</td>\n",
       "      <td>0</td>\n",
       "      <td>1</td>\n",
       "    </tr>\n",
       "    <tr>\n",
       "      <th>1459</th>\n",
       "      <td>0.404908</td>\n",
       "      <td>-0.085132</td>\n",
       "      <td>-0.009440</td>\n",
       "      <td>-0.021190</td>\n",
       "      <td>-0.910943</td>\n",
       "      <td>1</td>\n",
       "      <td>1</td>\n",
       "      <td>8651.92</td>\n",
       "      <td>0</td>\n",
       "      <td>1</td>\n",
       "      <td>1</td>\n",
       "    </tr>\n",
       "    <tr>\n",
       "      <th>869</th>\n",
       "      <td>1.040283</td>\n",
       "      <td>-0.277036</td>\n",
       "      <td>1.034232</td>\n",
       "      <td>0.584939</td>\n",
       "      <td>-0.910943</td>\n",
       "      <td>0</td>\n",
       "      <td>1</td>\n",
       "      <td>9855.81</td>\n",
       "      <td>0</td>\n",
       "      <td>1</td>\n",
       "      <td>0</td>\n",
       "    </tr>\n",
       "    <tr>\n",
       "      <th>7634</th>\n",
       "      <td>-0.699187</td>\n",
       "      <td>0.106771</td>\n",
       "      <td>-0.705222</td>\n",
       "      <td>-1.222967</td>\n",
       "      <td>0.789359</td>\n",
       "      <td>1</td>\n",
       "      <td>0</td>\n",
       "      <td>47728.00</td>\n",
       "      <td>0</td>\n",
       "      <td>0</td>\n",
       "      <td>1</td>\n",
       "    </tr>\n",
       "    <tr>\n",
       "      <th>533</th>\n",
       "      <td>-0.407539</td>\n",
       "      <td>0.202723</td>\n",
       "      <td>-1.053112</td>\n",
       "      <td>0.605217</td>\n",
       "      <td>-0.910943</td>\n",
       "      <td>1</td>\n",
       "      <td>0</td>\n",
       "      <td>164061.60</td>\n",
       "      <td>1</td>\n",
       "      <td>0</td>\n",
       "      <td>0</td>\n",
       "    </tr>\n",
       "  </tbody>\n",
       "</table>\n",
       "</div>"
      ],
      "text/plain": [
       "      CreditScore       Age    Tenure   Balance  NumOfProducts  HasCrCard  \\\n",
       "1946    -0.459619  2.505566  1.730013  0.798907       2.489660          0   \n",
       "1459     0.404908 -0.085132 -0.009440 -0.021190      -0.910943          1   \n",
       "869      1.040283 -0.277036  1.034232  0.584939      -0.910943          0   \n",
       "7634    -0.699187  0.106771 -0.705222 -1.222967       0.789359          1   \n",
       "533     -0.407539  0.202723 -1.053112  0.605217      -0.910943          1   \n",
       "\n",
       "      IsActiveMember  EstimatedSalary  Geography_Germany  Geography_Spain  \\\n",
       "1946               0          7861.68                  1                0   \n",
       "1459               1          8651.92                  0                1   \n",
       "869                1          9855.81                  0                1   \n",
       "7634               0         47728.00                  0                0   \n",
       "533                0        164061.60                  1                0   \n",
       "\n",
       "      Gender_Male  \n",
       "1946            1  \n",
       "1459            1  \n",
       "869             0  \n",
       "7634            1  \n",
       "533             0  "
      ]
     },
     "execution_count": 56,
     "metadata": {},
     "output_type": "execute_result"
    }
   ],
   "source": [
    "features_test.head()"
   ]
  },
  {
   "cell_type": "markdown",
   "id": "4f690f5f",
   "metadata": {},
   "source": [
    "## Общий вывод\n",
    "В ходе исследования данные были изучены и обработаны. \n",
    "Были обучены три модели без учета дисбаланса классов, затем с учетом дисбаланса. Качество после исправления дисбаланса улучшилось. \n",
    "Но F1-мера на тестовой выборке всего-лишь 0.185. "
   ]
  }
 ],
 "metadata": {
  "ExecuteTimeLog": [
   {
    "duration": 55,
    "start_time": "2022-06-25T08:24:53.231Z"
   },
   {
    "duration": 1840,
    "start_time": "2022-06-25T08:26:33.222Z"
   },
   {
    "duration": 88,
    "start_time": "2022-06-25T08:26:35.066Z"
   },
   {
    "duration": 28,
    "start_time": "2022-06-25T08:26:35.156Z"
   },
   {
    "duration": 20,
    "start_time": "2022-06-25T08:26:35.186Z"
   },
   {
    "duration": 29,
    "start_time": "2022-06-25T08:26:35.209Z"
   },
   {
    "duration": 11,
    "start_time": "2022-06-25T08:26:35.240Z"
   },
   {
    "duration": 14,
    "start_time": "2022-06-25T08:26:35.253Z"
   },
   {
    "duration": 25,
    "start_time": "2022-06-25T08:26:35.269Z"
   },
   {
    "duration": 29,
    "start_time": "2022-06-25T08:26:35.299Z"
   },
   {
    "duration": 11,
    "start_time": "2022-06-25T08:26:35.331Z"
   },
   {
    "duration": 206,
    "start_time": "2022-06-25T08:26:35.345Z"
   },
   {
    "duration": 26,
    "start_time": "2022-06-25T08:26:35.553Z"
   },
   {
    "duration": 16,
    "start_time": "2022-06-25T08:26:35.581Z"
   },
   {
    "duration": 155,
    "start_time": "2022-06-25T08:26:35.599Z"
   },
   {
    "duration": 0,
    "start_time": "2022-06-25T08:26:35.757Z"
   },
   {
    "duration": 0,
    "start_time": "2022-06-25T08:26:35.759Z"
   },
   {
    "duration": 0,
    "start_time": "2022-06-25T08:26:35.761Z"
   },
   {
    "duration": 1,
    "start_time": "2022-06-25T08:26:35.762Z"
   },
   {
    "duration": 0,
    "start_time": "2022-06-25T08:26:35.764Z"
   },
   {
    "duration": 0,
    "start_time": "2022-06-25T08:26:35.766Z"
   },
   {
    "duration": 0,
    "start_time": "2022-06-25T08:26:35.767Z"
   },
   {
    "duration": 0,
    "start_time": "2022-06-25T08:26:35.769Z"
   },
   {
    "duration": 0,
    "start_time": "2022-06-25T08:26:35.770Z"
   },
   {
    "duration": 0,
    "start_time": "2022-06-25T08:26:35.772Z"
   },
   {
    "duration": 0,
    "start_time": "2022-06-25T08:26:35.773Z"
   },
   {
    "duration": 0,
    "start_time": "2022-06-25T08:26:35.775Z"
   },
   {
    "duration": 0,
    "start_time": "2022-06-25T08:26:35.776Z"
   },
   {
    "duration": 0,
    "start_time": "2022-06-25T08:26:35.778Z"
   },
   {
    "duration": 0,
    "start_time": "2022-06-25T08:26:35.779Z"
   },
   {
    "duration": 0,
    "start_time": "2022-06-25T08:26:35.781Z"
   },
   {
    "duration": 0,
    "start_time": "2022-06-25T08:26:35.782Z"
   },
   {
    "duration": 0,
    "start_time": "2022-06-25T08:26:35.826Z"
   },
   {
    "duration": 0,
    "start_time": "2022-06-25T08:26:35.828Z"
   },
   {
    "duration": 0,
    "start_time": "2022-06-25T08:26:35.830Z"
   },
   {
    "duration": 0,
    "start_time": "2022-06-25T08:26:35.832Z"
   },
   {
    "duration": 0,
    "start_time": "2022-06-25T08:26:35.833Z"
   },
   {
    "duration": 1211,
    "start_time": "2022-07-02T02:14:39.289Z"
   },
   {
    "duration": 29,
    "start_time": "2022-07-02T02:14:40.502Z"
   },
   {
    "duration": 17,
    "start_time": "2022-07-02T02:14:40.532Z"
   },
   {
    "duration": 11,
    "start_time": "2022-07-02T02:14:40.551Z"
   },
   {
    "duration": 12,
    "start_time": "2022-07-02T02:14:40.563Z"
   },
   {
    "duration": 5,
    "start_time": "2022-07-02T02:14:40.576Z"
   },
   {
    "duration": 6,
    "start_time": "2022-07-02T02:14:40.582Z"
   },
   {
    "duration": 13,
    "start_time": "2022-07-02T02:14:40.590Z"
   },
   {
    "duration": 7,
    "start_time": "2022-07-02T02:14:40.604Z"
   },
   {
    "duration": 3,
    "start_time": "2022-07-02T02:14:40.614Z"
   },
   {
    "duration": 33,
    "start_time": "2022-07-02T02:14:40.619Z"
   },
   {
    "duration": 12,
    "start_time": "2022-07-02T02:14:40.654Z"
   },
   {
    "duration": 7,
    "start_time": "2022-07-02T02:14:40.667Z"
   },
   {
    "duration": 214,
    "start_time": "2022-07-02T02:14:40.675Z"
   },
   {
    "duration": 18,
    "start_time": "2022-07-02T02:14:40.891Z"
   },
   {
    "duration": 4,
    "start_time": "2022-07-02T02:14:40.911Z"
   },
   {
    "duration": 45,
    "start_time": "2022-07-02T02:14:40.916Z"
   },
   {
    "duration": 9,
    "start_time": "2022-07-02T02:14:40.963Z"
   },
   {
    "duration": 29,
    "start_time": "2022-07-02T02:14:40.973Z"
   },
   {
    "duration": 297,
    "start_time": "2022-07-02T02:14:41.004Z"
   },
   {
    "duration": 20,
    "start_time": "2022-07-02T02:14:41.303Z"
   },
   {
    "duration": 8,
    "start_time": "2022-07-02T02:14:41.325Z"
   },
   {
    "duration": 85180,
    "start_time": "2022-07-02T02:14:41.334Z"
   },
   {
    "duration": 9,
    "start_time": "2022-07-02T02:16:06.516Z"
   },
   {
    "duration": 106,
    "start_time": "2022-07-02T02:16:06.526Z"
   },
   {
    "duration": 22,
    "start_time": "2022-07-02T02:16:06.633Z"
   },
   {
    "duration": 96,
    "start_time": "2022-07-02T02:16:06.657Z"
   },
   {
    "duration": 108,
    "start_time": "2022-07-02T02:16:06.757Z"
   },
   {
    "duration": 95,
    "start_time": "2022-07-02T02:16:06.866Z"
   },
   {
    "duration": 435,
    "start_time": "2022-07-02T02:16:06.962Z"
   },
   {
    "duration": 22,
    "start_time": "2022-07-02T02:16:07.399Z"
   },
   {
    "duration": 8,
    "start_time": "2022-07-02T02:16:07.423Z"
   },
   {
    "duration": 1175,
    "start_time": "2022-07-02T02:16:40.440Z"
   },
   {
    "duration": 50,
    "start_time": "2022-07-02T02:16:41.617Z"
   },
   {
    "duration": 20,
    "start_time": "2022-07-02T02:16:41.671Z"
   },
   {
    "duration": 12,
    "start_time": "2022-07-02T02:16:41.693Z"
   },
   {
    "duration": 59,
    "start_time": "2022-07-02T02:16:41.707Z"
   },
   {
    "duration": 5,
    "start_time": "2022-07-02T02:16:41.768Z"
   },
   {
    "duration": 6,
    "start_time": "2022-07-02T02:16:41.775Z"
   },
   {
    "duration": 13,
    "start_time": "2022-07-02T02:16:41.783Z"
   },
   {
    "duration": 55,
    "start_time": "2022-07-02T02:16:41.798Z"
   },
   {
    "duration": 4,
    "start_time": "2022-07-02T02:16:41.854Z"
   },
   {
    "duration": 12,
    "start_time": "2022-07-02T02:16:41.860Z"
   },
   {
    "duration": 11,
    "start_time": "2022-07-02T02:16:41.874Z"
   },
   {
    "duration": 5,
    "start_time": "2022-07-02T02:16:41.889Z"
   },
   {
    "duration": 164,
    "start_time": "2022-07-02T02:16:41.896Z"
   },
   {
    "duration": 19,
    "start_time": "2022-07-02T02:16:42.062Z"
   },
   {
    "duration": 4,
    "start_time": "2022-07-02T02:16:42.083Z"
   },
   {
    "duration": 15,
    "start_time": "2022-07-02T02:16:42.088Z"
   },
   {
    "duration": 8,
    "start_time": "2022-07-02T02:16:42.105Z"
   },
   {
    "duration": 60,
    "start_time": "2022-07-02T02:16:42.114Z"
   },
   {
    "duration": 297,
    "start_time": "2022-07-02T02:16:42.176Z"
   },
   {
    "duration": 20,
    "start_time": "2022-07-02T02:16:42.475Z"
   },
   {
    "duration": 9,
    "start_time": "2022-07-02T02:16:42.497Z"
   },
   {
    "duration": 84403,
    "start_time": "2022-07-02T02:16:42.508Z"
   },
   {
    "duration": 9,
    "start_time": "2022-07-02T02:18:06.913Z"
   },
   {
    "duration": 108,
    "start_time": "2022-07-02T02:18:06.923Z"
   },
   {
    "duration": 21,
    "start_time": "2022-07-02T02:18:07.033Z"
   },
   {
    "duration": 97,
    "start_time": "2022-07-02T02:18:07.055Z"
   },
   {
    "duration": 98,
    "start_time": "2022-07-02T02:18:07.157Z"
   },
   {
    "duration": 102,
    "start_time": "2022-07-02T02:18:07.257Z"
   },
   {
    "duration": 350,
    "start_time": "2022-07-02T02:18:07.361Z"
   },
   {
    "duration": 22,
    "start_time": "2022-07-02T02:18:07.712Z"
   },
   {
    "duration": 22,
    "start_time": "2022-07-02T02:18:07.735Z"
   },
   {
    "duration": 112247,
    "start_time": "2022-07-02T02:18:07.758Z"
   },
   {
    "duration": 10,
    "start_time": "2022-07-02T02:20:00.007Z"
   },
   {
    "duration": 283,
    "start_time": "2022-07-02T02:20:00.019Z"
   },
   {
    "duration": 24,
    "start_time": "2022-07-02T02:20:00.304Z"
   },
   {
    "duration": 125,
    "start_time": "2022-07-02T02:20:00.329Z"
   },
   {
    "duration": 101,
    "start_time": "2022-07-02T02:20:00.456Z"
   },
   {
    "duration": 281,
    "start_time": "2022-07-02T02:20:00.559Z"
   },
   {
    "duration": 15,
    "start_time": "2022-07-02T02:20:00.844Z"
   },
   {
    "duration": 133,
    "start_time": "2022-07-02T02:20:00.860Z"
   },
   {
    "duration": 8,
    "start_time": "2022-07-02T02:20:00.994Z"
   },
   {
    "duration": 18,
    "start_time": "2022-07-02T02:20:01.004Z"
   },
   {
    "duration": 40922,
    "start_time": "2022-07-02T02:20:01.024Z"
   },
   {
    "duration": 11,
    "start_time": "2022-07-02T02:20:41.947Z"
   },
   {
    "duration": 31,
    "start_time": "2022-07-02T02:20:41.960Z"
   },
   {
    "duration": 8,
    "start_time": "2022-07-02T02:20:41.993Z"
   },
   {
    "duration": 58,
    "start_time": "2022-07-02T02:20:42.003Z"
   },
   {
    "duration": 102,
    "start_time": "2022-07-02T02:20:42.151Z"
   },
   {
    "duration": 281,
    "start_time": "2022-07-02T02:20:42.255Z"
   },
   {
    "duration": 14,
    "start_time": "2022-07-02T02:20:42.538Z"
   },
   {
    "duration": 11,
    "start_time": "2022-07-02T02:36:06.417Z"
   },
   {
    "duration": 1608,
    "start_time": "2022-07-04T15:19:24.845Z"
   },
   {
    "duration": 58,
    "start_time": "2022-07-04T15:19:26.455Z"
   },
   {
    "duration": 19,
    "start_time": "2022-07-04T15:19:26.515Z"
   },
   {
    "duration": 15,
    "start_time": "2022-07-04T15:19:26.536Z"
   },
   {
    "duration": 15,
    "start_time": "2022-07-04T15:19:26.552Z"
   },
   {
    "duration": 6,
    "start_time": "2022-07-04T15:19:26.569Z"
   },
   {
    "duration": 15,
    "start_time": "2022-07-04T15:19:26.577Z"
   },
   {
    "duration": 38,
    "start_time": "2022-07-04T15:19:26.593Z"
   },
   {
    "duration": 10,
    "start_time": "2022-07-04T15:19:26.633Z"
   },
   {
    "duration": 4,
    "start_time": "2022-07-04T15:19:26.646Z"
   },
   {
    "duration": 29,
    "start_time": "2022-07-04T15:19:26.651Z"
   },
   {
    "duration": 47,
    "start_time": "2022-07-04T15:19:26.682Z"
   },
   {
    "duration": 20,
    "start_time": "2022-07-04T15:19:26.731Z"
   },
   {
    "duration": 11,
    "start_time": "2022-07-04T15:19:26.753Z"
   },
   {
    "duration": 182,
    "start_time": "2022-07-04T15:19:26.765Z"
   },
   {
    "duration": 30,
    "start_time": "2022-07-04T15:19:26.949Z"
   },
   {
    "duration": 5,
    "start_time": "2022-07-04T15:19:26.981Z"
   },
   {
    "duration": 39,
    "start_time": "2022-07-04T15:19:26.987Z"
   },
   {
    "duration": 9,
    "start_time": "2022-07-04T15:19:27.027Z"
   },
   {
    "duration": 31,
    "start_time": "2022-07-04T15:19:27.039Z"
   },
   {
    "duration": 340,
    "start_time": "2022-07-04T15:19:27.072Z"
   },
   {
    "duration": 33,
    "start_time": "2022-07-04T15:19:27.414Z"
   },
   {
    "duration": 10,
    "start_time": "2022-07-04T15:19:27.450Z"
   },
   {
    "duration": 101858,
    "start_time": "2022-07-04T15:19:27.462Z"
   },
   {
    "duration": 12,
    "start_time": "2022-07-04T15:21:09.323Z"
   },
   {
    "duration": 158,
    "start_time": "2022-07-04T15:21:09.337Z"
   },
   {
    "duration": 30,
    "start_time": "2022-07-04T15:21:09.497Z"
   },
   {
    "duration": 93,
    "start_time": "2022-07-04T15:21:09.532Z"
   },
   {
    "duration": 101,
    "start_time": "2022-07-04T15:21:09.630Z"
   },
   {
    "duration": 191,
    "start_time": "2022-07-04T15:21:09.733Z"
   },
   {
    "duration": 410,
    "start_time": "2022-07-04T15:21:09.926Z"
   },
   {
    "duration": 27,
    "start_time": "2022-07-04T15:21:10.338Z"
   },
   {
    "duration": 11,
    "start_time": "2022-07-04T15:21:10.367Z"
   },
   {
    "duration": 141249,
    "start_time": "2022-07-04T15:21:10.380Z"
   },
   {
    "duration": 12,
    "start_time": "2022-07-04T15:23:31.630Z"
   },
   {
    "duration": 344,
    "start_time": "2022-07-04T15:23:31.643Z"
   },
   {
    "duration": 34,
    "start_time": "2022-07-04T15:23:31.990Z"
   },
   {
    "duration": 98,
    "start_time": "2022-07-04T15:23:32.026Z"
   },
   {
    "duration": 115,
    "start_time": "2022-07-04T15:23:32.126Z"
   },
   {
    "duration": 298,
    "start_time": "2022-07-04T15:23:32.330Z"
   },
   {
    "duration": 11,
    "start_time": "2022-07-04T15:23:32.630Z"
   },
   {
    "duration": 16,
    "start_time": "2022-07-04T15:23:32.643Z"
   },
   {
    "duration": 195,
    "start_time": "2022-07-04T15:23:32.661Z"
   },
   {
    "duration": 12,
    "start_time": "2022-07-04T15:23:32.857Z"
   },
   {
    "duration": 10,
    "start_time": "2022-07-04T15:23:32.871Z"
   },
   {
    "duration": 63127,
    "start_time": "2022-07-04T15:23:32.883Z"
   },
   {
    "duration": 13,
    "start_time": "2022-07-04T15:24:36.012Z"
   },
   {
    "duration": 228,
    "start_time": "2022-07-04T15:24:36.027Z"
   },
   {
    "duration": 23,
    "start_time": "2022-07-04T15:24:36.257Z"
   },
   {
    "duration": 48,
    "start_time": "2022-07-04T15:24:36.282Z"
   },
   {
    "duration": 94,
    "start_time": "2022-07-04T15:24:36.333Z"
   },
   {
    "duration": 272,
    "start_time": "2022-07-04T15:24:36.429Z"
   },
   {
    "duration": 19,
    "start_time": "2022-07-04T15:24:36.703Z"
   },
   {
    "duration": 10,
    "start_time": "2022-07-04T15:24:36.724Z"
   },
   {
    "duration": 23,
    "start_time": "2022-07-04T15:24:36.736Z"
   },
   {
    "duration": 19,
    "start_time": "2022-07-04T15:24:36.762Z"
   }
  ],
  "kernelspec": {
   "display_name": "Python 3 (ipykernel)",
   "language": "python",
   "name": "python3"
  },
  "language_info": {
   "codemirror_mode": {
    "name": "ipython",
    "version": 3
   },
   "file_extension": ".py",
   "mimetype": "text/x-python",
   "name": "python",
   "nbconvert_exporter": "python",
   "pygments_lexer": "ipython3",
   "version": "3.9.7"
  },
  "toc": {
   "base_numbering": 1,
   "nav_menu": {},
   "number_sections": true,
   "sideBar": true,
   "skip_h1_title": true,
   "title_cell": "Table of Contents",
   "title_sidebar": "Contents",
   "toc_cell": false,
   "toc_position": {},
   "toc_section_display": true,
   "toc_window_display": false
  }
 },
 "nbformat": 4,
 "nbformat_minor": 5
}
