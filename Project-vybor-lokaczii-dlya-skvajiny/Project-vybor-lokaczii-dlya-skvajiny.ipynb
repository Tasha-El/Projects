{
 "cells": [
  {
   "cell_type": "markdown",
   "id": "f3745366",
   "metadata": {},
   "source": [
    "# Выбор локации для скважины"
   ]
  },
  {
   "cell_type": "markdown",
   "id": "b146bf3c",
   "metadata": {},
   "source": [
    "## Обзор данных"
   ]
  },
  {
   "cell_type": "code",
   "execution_count": 1,
   "id": "ffb1d30e",
   "metadata": {},
   "outputs": [],
   "source": [
    "import pandas as pd\n",
    "import numpy as np\n",
    "from sklearn.model_selection import train_test_split\n",
    "from sklearn.linear_model import LinearRegression\n",
    "from sklearn.metrics import mean_squared_error\n",
    "from sklearn.preprocessing import StandardScaler"
   ]
  },
  {
   "cell_type": "code",
   "execution_count": 2,
   "id": "637ad8cf",
   "metadata": {},
   "outputs": [],
   "source": [
    "data_0 = pd.read_csv('/datasets/geo_data_0.csv')"
   ]
  },
  {
   "cell_type": "code",
   "execution_count": 3,
   "id": "bce9a46b",
   "metadata": {},
   "outputs": [],
   "source": [
    "data_1 = pd.read_csv('/datasets/geo_data_1.csv')"
   ]
  },
  {
   "cell_type": "code",
   "execution_count": 4,
   "id": "cdf0f4c2",
   "metadata": {},
   "outputs": [],
   "source": [
    "data_2 = pd.read_csv('/datasets/geo_data_2.csv')"
   ]
  },
  {
   "cell_type": "code",
   "execution_count": 5,
   "id": "7047e600",
   "metadata": {},
   "outputs": [
    {
     "name": "stdout",
     "output_type": "stream",
     "text": [
      "<class 'pandas.core.frame.DataFrame'>\n",
      "RangeIndex: 100000 entries, 0 to 99999\n",
      "Data columns (total 5 columns):\n",
      " #   Column   Non-Null Count   Dtype  \n",
      "---  ------   --------------   -----  \n",
      " 0   id       100000 non-null  object \n",
      " 1   f0       100000 non-null  float64\n",
      " 2   f1       100000 non-null  float64\n",
      " 3   f2       100000 non-null  float64\n",
      " 4   product  100000 non-null  float64\n",
      "dtypes: float64(4), object(1)\n",
      "memory usage: 3.8+ MB\n"
     ]
    },
    {
     "data": {
      "text/html": [
       "<div>\n",
       "<style scoped>\n",
       "    .dataframe tbody tr th:only-of-type {\n",
       "        vertical-align: middle;\n",
       "    }\n",
       "\n",
       "    .dataframe tbody tr th {\n",
       "        vertical-align: top;\n",
       "    }\n",
       "\n",
       "    .dataframe thead th {\n",
       "        text-align: right;\n",
       "    }\n",
       "</style>\n",
       "<table border=\"1\" class=\"dataframe\">\n",
       "  <thead>\n",
       "    <tr style=\"text-align: right;\">\n",
       "      <th></th>\n",
       "      <th>f0</th>\n",
       "      <th>f1</th>\n",
       "      <th>f2</th>\n",
       "      <th>product</th>\n",
       "    </tr>\n",
       "  </thead>\n",
       "  <tbody>\n",
       "    <tr>\n",
       "      <th>count</th>\n",
       "      <td>100000.000000</td>\n",
       "      <td>100000.000000</td>\n",
       "      <td>100000.000000</td>\n",
       "      <td>100000.000000</td>\n",
       "    </tr>\n",
       "    <tr>\n",
       "      <th>mean</th>\n",
       "      <td>0.500419</td>\n",
       "      <td>0.250143</td>\n",
       "      <td>2.502647</td>\n",
       "      <td>92.500000</td>\n",
       "    </tr>\n",
       "    <tr>\n",
       "      <th>std</th>\n",
       "      <td>0.871832</td>\n",
       "      <td>0.504433</td>\n",
       "      <td>3.248248</td>\n",
       "      <td>44.288691</td>\n",
       "    </tr>\n",
       "    <tr>\n",
       "      <th>min</th>\n",
       "      <td>-1.408605</td>\n",
       "      <td>-0.848218</td>\n",
       "      <td>-12.088328</td>\n",
       "      <td>0.000000</td>\n",
       "    </tr>\n",
       "    <tr>\n",
       "      <th>25%</th>\n",
       "      <td>-0.072580</td>\n",
       "      <td>-0.200881</td>\n",
       "      <td>0.287748</td>\n",
       "      <td>56.497507</td>\n",
       "    </tr>\n",
       "    <tr>\n",
       "      <th>50%</th>\n",
       "      <td>0.502360</td>\n",
       "      <td>0.250252</td>\n",
       "      <td>2.515969</td>\n",
       "      <td>91.849972</td>\n",
       "    </tr>\n",
       "    <tr>\n",
       "      <th>75%</th>\n",
       "      <td>1.073581</td>\n",
       "      <td>0.700646</td>\n",
       "      <td>4.715088</td>\n",
       "      <td>128.564089</td>\n",
       "    </tr>\n",
       "    <tr>\n",
       "      <th>max</th>\n",
       "      <td>2.362331</td>\n",
       "      <td>1.343769</td>\n",
       "      <td>16.003790</td>\n",
       "      <td>185.364347</td>\n",
       "    </tr>\n",
       "  </tbody>\n",
       "</table>\n",
       "</div>"
      ],
      "text/plain": [
       "                  f0             f1             f2        product\n",
       "count  100000.000000  100000.000000  100000.000000  100000.000000\n",
       "mean        0.500419       0.250143       2.502647      92.500000\n",
       "std         0.871832       0.504433       3.248248      44.288691\n",
       "min        -1.408605      -0.848218     -12.088328       0.000000\n",
       "25%        -0.072580      -0.200881       0.287748      56.497507\n",
       "50%         0.502360       0.250252       2.515969      91.849972\n",
       "75%         1.073581       0.700646       4.715088     128.564089\n",
       "max         2.362331       1.343769      16.003790     185.364347"
      ]
     },
     "execution_count": 5,
     "metadata": {},
     "output_type": "execute_result"
    }
   ],
   "source": [
    "data_0.info()\n",
    "data_0.shape\n",
    "data_0.describe()"
   ]
  },
  {
   "cell_type": "code",
   "execution_count": 6,
   "id": "28f1718a",
   "metadata": {},
   "outputs": [
    {
     "data": {
      "text/plain": [
       "10"
      ]
     },
     "execution_count": 6,
     "metadata": {},
     "output_type": "execute_result"
    }
   ],
   "source": [
    "data_0['id'].duplicated().sum()"
   ]
  },
  {
   "cell_type": "code",
   "execution_count": 7,
   "id": "4eaddec8",
   "metadata": {},
   "outputs": [
    {
     "name": "stdout",
     "output_type": "stream",
     "text": [
      "<class 'pandas.core.frame.DataFrame'>\n",
      "RangeIndex: 100000 entries, 0 to 99999\n",
      "Data columns (total 5 columns):\n",
      " #   Column   Non-Null Count   Dtype  \n",
      "---  ------   --------------   -----  \n",
      " 0   id       100000 non-null  object \n",
      " 1   f0       100000 non-null  float64\n",
      " 2   f1       100000 non-null  float64\n",
      " 3   f2       100000 non-null  float64\n",
      " 4   product  100000 non-null  float64\n",
      "dtypes: float64(4), object(1)\n",
      "memory usage: 3.8+ MB\n"
     ]
    },
    {
     "data": {
      "text/html": [
       "<div>\n",
       "<style scoped>\n",
       "    .dataframe tbody tr th:only-of-type {\n",
       "        vertical-align: middle;\n",
       "    }\n",
       "\n",
       "    .dataframe tbody tr th {\n",
       "        vertical-align: top;\n",
       "    }\n",
       "\n",
       "    .dataframe thead th {\n",
       "        text-align: right;\n",
       "    }\n",
       "</style>\n",
       "<table border=\"1\" class=\"dataframe\">\n",
       "  <thead>\n",
       "    <tr style=\"text-align: right;\">\n",
       "      <th></th>\n",
       "      <th>f0</th>\n",
       "      <th>f1</th>\n",
       "      <th>f2</th>\n",
       "      <th>product</th>\n",
       "    </tr>\n",
       "  </thead>\n",
       "  <tbody>\n",
       "    <tr>\n",
       "      <th>count</th>\n",
       "      <td>100000.000000</td>\n",
       "      <td>100000.000000</td>\n",
       "      <td>100000.000000</td>\n",
       "      <td>100000.000000</td>\n",
       "    </tr>\n",
       "    <tr>\n",
       "      <th>mean</th>\n",
       "      <td>1.141296</td>\n",
       "      <td>-4.796579</td>\n",
       "      <td>2.494541</td>\n",
       "      <td>68.825000</td>\n",
       "    </tr>\n",
       "    <tr>\n",
       "      <th>std</th>\n",
       "      <td>8.965932</td>\n",
       "      <td>5.119872</td>\n",
       "      <td>1.703572</td>\n",
       "      <td>45.944423</td>\n",
       "    </tr>\n",
       "    <tr>\n",
       "      <th>min</th>\n",
       "      <td>-31.609576</td>\n",
       "      <td>-26.358598</td>\n",
       "      <td>-0.018144</td>\n",
       "      <td>0.000000</td>\n",
       "    </tr>\n",
       "    <tr>\n",
       "      <th>25%</th>\n",
       "      <td>-6.298551</td>\n",
       "      <td>-8.267985</td>\n",
       "      <td>1.000021</td>\n",
       "      <td>26.953261</td>\n",
       "    </tr>\n",
       "    <tr>\n",
       "      <th>50%</th>\n",
       "      <td>1.153055</td>\n",
       "      <td>-4.813172</td>\n",
       "      <td>2.011479</td>\n",
       "      <td>57.085625</td>\n",
       "    </tr>\n",
       "    <tr>\n",
       "      <th>75%</th>\n",
       "      <td>8.621015</td>\n",
       "      <td>-1.332816</td>\n",
       "      <td>3.999904</td>\n",
       "      <td>107.813044</td>\n",
       "    </tr>\n",
       "    <tr>\n",
       "      <th>max</th>\n",
       "      <td>29.421755</td>\n",
       "      <td>18.734063</td>\n",
       "      <td>5.019721</td>\n",
       "      <td>137.945408</td>\n",
       "    </tr>\n",
       "  </tbody>\n",
       "</table>\n",
       "</div>"
      ],
      "text/plain": [
       "                  f0             f1             f2        product\n",
       "count  100000.000000  100000.000000  100000.000000  100000.000000\n",
       "mean        1.141296      -4.796579       2.494541      68.825000\n",
       "std         8.965932       5.119872       1.703572      45.944423\n",
       "min       -31.609576     -26.358598      -0.018144       0.000000\n",
       "25%        -6.298551      -8.267985       1.000021      26.953261\n",
       "50%         1.153055      -4.813172       2.011479      57.085625\n",
       "75%         8.621015      -1.332816       3.999904     107.813044\n",
       "max        29.421755      18.734063       5.019721     137.945408"
      ]
     },
     "execution_count": 7,
     "metadata": {},
     "output_type": "execute_result"
    }
   ],
   "source": [
    "data_1.info()\n",
    "data_1.shape\n",
    "data_1.describe()"
   ]
  },
  {
   "cell_type": "code",
   "execution_count": 8,
   "id": "7a07fd6f",
   "metadata": {},
   "outputs": [
    {
     "data": {
      "text/plain": [
       "4"
      ]
     },
     "execution_count": 8,
     "metadata": {},
     "output_type": "execute_result"
    }
   ],
   "source": [
    "data_1['id'].duplicated().sum()"
   ]
  },
  {
   "cell_type": "code",
   "execution_count": 9,
   "id": "64e3b6c2",
   "metadata": {},
   "outputs": [
    {
     "name": "stdout",
     "output_type": "stream",
     "text": [
      "<class 'pandas.core.frame.DataFrame'>\n",
      "RangeIndex: 100000 entries, 0 to 99999\n",
      "Data columns (total 5 columns):\n",
      " #   Column   Non-Null Count   Dtype  \n",
      "---  ------   --------------   -----  \n",
      " 0   id       100000 non-null  object \n",
      " 1   f0       100000 non-null  float64\n",
      " 2   f1       100000 non-null  float64\n",
      " 3   f2       100000 non-null  float64\n",
      " 4   product  100000 non-null  float64\n",
      "dtypes: float64(4), object(1)\n",
      "memory usage: 3.8+ MB\n"
     ]
    },
    {
     "data": {
      "text/html": [
       "<div>\n",
       "<style scoped>\n",
       "    .dataframe tbody tr th:only-of-type {\n",
       "        vertical-align: middle;\n",
       "    }\n",
       "\n",
       "    .dataframe tbody tr th {\n",
       "        vertical-align: top;\n",
       "    }\n",
       "\n",
       "    .dataframe thead th {\n",
       "        text-align: right;\n",
       "    }\n",
       "</style>\n",
       "<table border=\"1\" class=\"dataframe\">\n",
       "  <thead>\n",
       "    <tr style=\"text-align: right;\">\n",
       "      <th></th>\n",
       "      <th>f0</th>\n",
       "      <th>f1</th>\n",
       "      <th>f2</th>\n",
       "      <th>product</th>\n",
       "    </tr>\n",
       "  </thead>\n",
       "  <tbody>\n",
       "    <tr>\n",
       "      <th>count</th>\n",
       "      <td>100000.000000</td>\n",
       "      <td>100000.000000</td>\n",
       "      <td>100000.000000</td>\n",
       "      <td>100000.000000</td>\n",
       "    </tr>\n",
       "    <tr>\n",
       "      <th>mean</th>\n",
       "      <td>0.002023</td>\n",
       "      <td>-0.002081</td>\n",
       "      <td>2.495128</td>\n",
       "      <td>95.000000</td>\n",
       "    </tr>\n",
       "    <tr>\n",
       "      <th>std</th>\n",
       "      <td>1.732045</td>\n",
       "      <td>1.730417</td>\n",
       "      <td>3.473445</td>\n",
       "      <td>44.749921</td>\n",
       "    </tr>\n",
       "    <tr>\n",
       "      <th>min</th>\n",
       "      <td>-8.760004</td>\n",
       "      <td>-7.084020</td>\n",
       "      <td>-11.970335</td>\n",
       "      <td>0.000000</td>\n",
       "    </tr>\n",
       "    <tr>\n",
       "      <th>25%</th>\n",
       "      <td>-1.162288</td>\n",
       "      <td>-1.174820</td>\n",
       "      <td>0.130359</td>\n",
       "      <td>59.450441</td>\n",
       "    </tr>\n",
       "    <tr>\n",
       "      <th>50%</th>\n",
       "      <td>0.009424</td>\n",
       "      <td>-0.009482</td>\n",
       "      <td>2.484236</td>\n",
       "      <td>94.925613</td>\n",
       "    </tr>\n",
       "    <tr>\n",
       "      <th>75%</th>\n",
       "      <td>1.158535</td>\n",
       "      <td>1.163678</td>\n",
       "      <td>4.858794</td>\n",
       "      <td>130.595027</td>\n",
       "    </tr>\n",
       "    <tr>\n",
       "      <th>max</th>\n",
       "      <td>7.238262</td>\n",
       "      <td>7.844801</td>\n",
       "      <td>16.739402</td>\n",
       "      <td>190.029838</td>\n",
       "    </tr>\n",
       "  </tbody>\n",
       "</table>\n",
       "</div>"
      ],
      "text/plain": [
       "                  f0             f1             f2        product\n",
       "count  100000.000000  100000.000000  100000.000000  100000.000000\n",
       "mean        0.002023      -0.002081       2.495128      95.000000\n",
       "std         1.732045       1.730417       3.473445      44.749921\n",
       "min        -8.760004      -7.084020     -11.970335       0.000000\n",
       "25%        -1.162288      -1.174820       0.130359      59.450441\n",
       "50%         0.009424      -0.009482       2.484236      94.925613\n",
       "75%         1.158535       1.163678       4.858794     130.595027\n",
       "max         7.238262       7.844801      16.739402     190.029838"
      ]
     },
     "execution_count": 9,
     "metadata": {},
     "output_type": "execute_result"
    }
   ],
   "source": [
    "data_2.info()\n",
    "data_2.shape\n",
    "data_2.describe()"
   ]
  },
  {
   "cell_type": "code",
   "execution_count": 10,
   "id": "1435d485",
   "metadata": {},
   "outputs": [
    {
     "data": {
      "text/plain": [
       "4"
      ]
     },
     "execution_count": 10,
     "metadata": {},
     "output_type": "execute_result"
    }
   ],
   "source": [
    "data_2['id'].duplicated().sum()"
   ]
  },
  {
   "cell_type": "code",
   "execution_count": 11,
   "id": "c6c737a5",
   "metadata": {},
   "outputs": [],
   "source": [
    "# id не несет нужной для расчетов информации, можно удалить\n",
    "data_0 = data_0.drop(['id'], axis=1)\n",
    "data_1 = data_1.drop(['id'], axis=1)\n",
    "data_2 = data_2.drop(['id'], axis=1)"
   ]
  },
  {
   "cell_type": "markdown",
   "id": "0cdd42cb",
   "metadata": {},
   "source": [
    "## Обучение моделей для каждого региона"
   ]
  },
  {
   "cell_type": "markdown",
   "id": "94af69fe",
   "metadata": {},
   "source": [
    "Целевой признак в данном случае 'Product'"
   ]
  },
  {
   "cell_type": "code",
   "execution_count": 12,
   "id": "eeded00e",
   "metadata": {},
   "outputs": [],
   "source": [
    "pd.options.mode.chained_assignment = None # добавляем код, чтобы не появлялось предупреждение\n",
    "def region_prediction(data):\n",
    "    features = data.drop([\"product\"], axis=1)\n",
    "    target = data[\"product\"]\n",
    "    features_train, features_valid, target_train, target_valid = train_test_split(features, target, train_size=0.75, random_state=12345)\n",
    "    scaler = StandardScaler()\n",
    "    numeric = ['f0', 'f1', 'f2']\n",
    "    scaler = StandardScaler() # создадим объект этой структуры данных\n",
    "    scaler.fit(features_train[numeric]) # настроим объект на обучающих данных \n",
    "    features_train[numeric] = scaler.transform(features_train[numeric]) # проеобразуем обучающую выборку\n",
    "    features_valid[numeric] = scaler.transform(features_valid[numeric]) # преобразуем валидационную выборку \n",
    "    \n",
    "    lr = LinearRegression(normalize=False)\n",
    "    lr.fit(features_train, target_train)\n",
    "    predictions = lr.predict(features_valid)\n",
    "    predictions = pd.Series(predictions)\n",
    "    rmse = mean_squared_error(target_valid, predictions)**0.5\n",
    "    stock_mean = data['product'].mean() # средний фактический запас сырья в регионе\n",
    "    stock_mean_pred = predictions.mean() # средний запас предсказанного сырья в регионе\n",
    "    return predictions, rmse, stock_mean, stock_mean_pred, target_valid.reset_index(drop=True)"
   ]
  },
  {
   "cell_type": "code",
   "execution_count": 13,
   "id": "438a9d09",
   "metadata": {},
   "outputs": [
    {
     "name": "stdout",
     "output_type": "stream",
     "text": [
      "RMSE модели в регионе 0 = 37.579\n",
      "Средний запас предсказанного сырья 0 = 92.593 т. баррелей\n"
     ]
    },
    {
     "name": "stderr",
     "output_type": "stream",
     "text": [
      "/Users/zenazujkova/opt/anaconda3/lib/python3.9/site-packages/sklearn/linear_model/_base.py:148: FutureWarning: 'normalize' was deprecated in version 1.0 and will be removed in 1.2. Please leave the normalize parameter to its default value to silence this warning. The default behavior of this estimator is to not do any normalization. If normalization is needed please use sklearn.preprocessing.StandardScaler instead.\n",
      "  warnings.warn(\n"
     ]
    }
   ],
   "source": [
    "pred_0, rmse_0, stock_mean_0, stock_mean_pred_0, target_valid_0 = region_prediction(data_0)\n",
    "print('RMSE модели в регионе 0 = {:.3f}'.format(rmse_0))\n",
    "print('Средний запас предсказанного сырья 0 = {:.3f} т. баррелей'.format(stock_mean_pred_0))"
   ]
  },
  {
   "cell_type": "code",
   "execution_count": 14,
   "id": "245b634a",
   "metadata": {},
   "outputs": [
    {
     "name": "stdout",
     "output_type": "stream",
     "text": [
      "RMSE модели в регионе 1 = 0.893\n",
      "Средний запас предсказанного сырья 1 = 68.729 т. баррелей\n"
     ]
    },
    {
     "name": "stderr",
     "output_type": "stream",
     "text": [
      "/Users/zenazujkova/opt/anaconda3/lib/python3.9/site-packages/sklearn/linear_model/_base.py:148: FutureWarning: 'normalize' was deprecated in version 1.0 and will be removed in 1.2. Please leave the normalize parameter to its default value to silence this warning. The default behavior of this estimator is to not do any normalization. If normalization is needed please use sklearn.preprocessing.StandardScaler instead.\n",
      "  warnings.warn(\n"
     ]
    }
   ],
   "source": [
    "pred_1, rmse_1, stock_mean_1, stock_mean_pred_1, target_valid_1 = region_prediction(data_1)\n",
    "print('RMSE модели в регионе 1 = {:.3f}'.format(rmse_1))\n",
    "print('Средний запас предсказанного сырья 1 = {:.3f} т. баррелей'.format(stock_mean_pred_1))"
   ]
  },
  {
   "cell_type": "code",
   "execution_count": 15,
   "id": "dc808697",
   "metadata": {},
   "outputs": [
    {
     "name": "stdout",
     "output_type": "stream",
     "text": [
      "RMSE модели в регионе 2 = 40.030\n",
      "Средний запас предсказанного сырья 2 = 94.965 т. баррелей\n"
     ]
    },
    {
     "name": "stderr",
     "output_type": "stream",
     "text": [
      "/Users/zenazujkova/opt/anaconda3/lib/python3.9/site-packages/sklearn/linear_model/_base.py:148: FutureWarning: 'normalize' was deprecated in version 1.0 and will be removed in 1.2. Please leave the normalize parameter to its default value to silence this warning. The default behavior of this estimator is to not do any normalization. If normalization is needed please use sklearn.preprocessing.StandardScaler instead.\n",
      "  warnings.warn(\n"
     ]
    }
   ],
   "source": [
    "pred_2, rmse_2, stock_mean_2, stock_mean_pred_2, target_valid_2 = region_prediction(data_2)\n",
    "print('RMSE модели в регионе 2 = {:.3f}'.format(rmse_2))\n",
    "print('Средний запас предсказанного сырья 2 = {:.3f} т. баррелей'.format(stock_mean_pred_2))"
   ]
  },
  {
   "cell_type": "markdown",
   "id": "eb08207e",
   "metadata": {},
   "source": [
    "### Вывод:\n",
    "Лучший показатель RMSE модели в Регионе 1 (RMSE = 0.893), этот регион наиболее предсказуем. \n",
    "\n",
    "Средний запас предсказанного сырья 1 = 68.729 т. баррелей, что меньше чем в двух других регионах(92.593 и 94.965)\n",
    "\n",
    "В регионах 0 и 2 высокий показатель RMSE, значит предсказания модели хуже. Но средний запас предсказанного сырья выше.\n"
   ]
  },
  {
   "cell_type": "markdown",
   "id": "1524c0ab",
   "metadata": {},
   "source": [
    "## Подготовка к расчету прибыли"
   ]
  },
  {
   "cell_type": "code",
   "execution_count": 17,
   "id": "c61737a2",
   "metadata": {},
   "outputs": [
    {
     "name": "stdout",
     "output_type": "stream",
     "text": [
      "Выделяемый бюджет для разработки: 10000000000\n",
      "Кол-во скважин для разработки: 200\n",
      "Бюджет на каждую скважину: 50000000.0\n",
      "Кол-во тысяч баррелей с одной скважины для безубыточности: 111.111\n"
     ]
    }
   ],
   "source": [
    "BUDGET = 10_000_000_000 #выделяемый бюджет\n",
    "BOREHOLE_NUMBER = 200 #кол-во скважин для разработки\n",
    "INCOME_UNIT = 450_000 #доход с единицы сырья\n",
    "BOREHOLE_BUDGET = BUDGET/BOREHOLE_NUMBER #бюджет на каждую скважину\n",
    "QUANTITY_BARREL = BOREHOLE_BUDGET/INCOME_UNIT #кол-во тысяч баррелей с одной скважины для окупаемости\n",
    "print('Выделяемый бюджет для разработки:',BUDGET)\n",
    "print('Кол-во скважин для разработки:',BOREHOLE_NUMBER)\n",
    "print('Бюджет на каждую скважину:',BOREHOLE_BUDGET)\n",
    "print('Кол-во тысяч баррелей с одной скважины для безубыточности: {:.3f}'.format(QUANTITY_BARREL))"
   ]
  },
  {
   "cell_type": "code",
   "execution_count": 18,
   "id": "c7edbb5a",
   "metadata": {},
   "outputs": [
    {
     "name": "stdout",
     "output_type": "stream",
     "text": [
      "Средний запас сырья региона 0 = 92.500 т. баррелей\n",
      "Средний запас сырья региона 1 = 68.825 т. баррелей\n",
      "Средний запас сырья региона 2 = 95.000 т. баррелей\n"
     ]
    }
   ],
   "source": [
    "# выведем на экран средний запас сырья в регионах\n",
    "print('Средний запас сырья региона 0 = {:.3f} т. баррелей'.format(stock_mean_0))\n",
    "print('Средний запас сырья региона 1 = {:.3f} т. баррелей'.format(stock_mean_1))\n",
    "print('Средний запас сырья региона 2 = {:.3f} т. баррелей'.format(stock_mean_2))"
   ]
  },
  {
   "cell_type": "markdown",
   "id": "33e0eec2",
   "metadata": {},
   "source": [
    "### Вывод: \n",
    "Среднее кол-во тысяч барреллей для безубыточности составляет около 111, что превышает средний фактический запас в каждом регионе. Самый маленький запас в Месторождении 1.  "
   ]
  },
  {
   "cell_type": "code",
   "execution_count": 23,
   "id": "7c576751",
   "metadata": {},
   "outputs": [],
   "source": [
    "# функция для расчёта прибыли по выбранным скважинам и предсказаниям модели\n",
    "def profit(prediction, target):\n",
    "    data = pd.concat([prediction, target],axis=1)\n",
    "    data.columns = ['prediction','target']\n",
    "    data = data.sort_values(by = 'prediction', ascending = False)[:BOREHOLE_NUMBER]\n",
    "    return (data['target'].sum() * INCOME_UNIT - BUDGET)"
   ]
  },
  {
   "cell_type": "code",
   "execution_count": 24,
   "id": "b107e1d4",
   "metadata": {},
   "outputs": [
    {
     "name": "stdout",
     "output_type": "stream",
     "text": [
      "Прибыль для полученного объёма сырья региона 0 = 332.0826043139851 млн. руб\n"
     ]
    }
   ],
   "source": [
    "# расчет прибыли для региона 0\n",
    "revenue_0 = profit(pred_0, target_valid_0)\n",
    "\n",
    "print('Прибыль для полученного объёма сырья региона 0 = {} млн. руб'.format(revenue_0/ 10e6))"
   ]
  },
  {
   "cell_type": "code",
   "execution_count": 25,
   "id": "7f91a40b",
   "metadata": {},
   "outputs": [
    {
     "name": "stdout",
     "output_type": "stream",
     "text": [
      "Прибыль для полученного объёма сырья региона 1 = 241.5086696681511 млн. руб\n"
     ]
    }
   ],
   "source": [
    "# расчет прибыли для региона 1\n",
    "revenue_1 = profit(pred_1, target_valid_1)\n",
    "\n",
    "print('Прибыль для полученного объёма сырья региона 1 = {} млн. руб'.format(revenue_1 / 10e6))"
   ]
  },
  {
   "cell_type": "code",
   "execution_count": 26,
   "id": "40e0d403",
   "metadata": {},
   "outputs": [
    {
     "name": "stdout",
     "output_type": "stream",
     "text": [
      "Прибыль для полученного объёма сырья региона 2 = 271.03499635998327 млн. руб\n"
     ]
    }
   ],
   "source": [
    "# расчет прибыли для региона 2\n",
    "revenue_2 = profit(pred_2, target_valid_2)\n",
    "\n",
    "print('Прибыль для полученного объёма сырья региона 2 = {} млн. руб'.format(revenue_2 / 10e6))"
   ]
  },
  {
   "cell_type": "markdown",
   "id": "ab35a5ed",
   "metadata": {},
   "source": [
    "## Функция для расчетов прибыли и рисков для каждого региона с применением техники Bootstrap"
   ]
  },
  {
   "cell_type": "code",
   "execution_count": 27,
   "id": "5b4c12d2",
   "metadata": {},
   "outputs": [],
   "source": [
    "def estimate(prediction, target):\n",
    "    state = np.random.RandomState(12345)\n",
    "    values = []\n",
    "    for i in range(1000):\n",
    "        target_subsample = target.sample(n=500, replace=True, random_state=state)\n",
    "        pred_subsample = prediction[target_subsample.index]\n",
    "        values.append(profit(pred_subsample, target_subsample))\n",
    "    values = pd.Series(values)\n",
    "    mean = np.mean(values) / 10e6\n",
    "    lower = values.quantile(0.025) / 10e6\n",
    "    upper = values.quantile(0.975) / 10e6\n",
    "    confidence_interval = (lower, upper)\n",
    "    risk_of_loss = (values < 0).mean()\n",
    "    \n",
    "    print('Средняя прибыль = {:.2f} млн.руб.'.format(mean))\n",
    "    print('95% доверительный интервал от {:.2f} до {:.2f} млн.руб.'.format(lower, upper))\n",
    "    print('Процент риска {:.1%}'.format(risk_of_loss))"
   ]
  },
  {
   "cell_type": "code",
   "execution_count": 28,
   "id": "b139a7b4",
   "metadata": {},
   "outputs": [
    {
     "name": "stdout",
     "output_type": "stream",
     "text": [
      "Средняя прибыль = 39.62 млн.руб.\n",
      "95% доверительный интервал от -11.12 до 90.98 млн.руб.\n",
      "Процент риска 6.9%\n"
     ]
    }
   ],
   "source": [
    "region_0 = estimate(pred_0, target_valid_0)"
   ]
  },
  {
   "cell_type": "code",
   "execution_count": 29,
   "id": "a7416f66",
   "metadata": {},
   "outputs": [
    {
     "name": "stdout",
     "output_type": "stream",
     "text": [
      "Средняя прибыль = 45.60 млн.руб.\n",
      "95% доверительный интервал от 3.38 до 85.23 млн.руб.\n",
      "Процент риска 1.5%\n"
     ]
    }
   ],
   "source": [
    "region_1 = estimate(pred_1, target_valid_1)"
   ]
  },
  {
   "cell_type": "code",
   "execution_count": 30,
   "id": "2bbf19bf",
   "metadata": {},
   "outputs": [
    {
     "name": "stdout",
     "output_type": "stream",
     "text": [
      "Средняя прибыль = 40.44 млн.руб.\n",
      "95% доверительный интервал от -16.34 до 95.04 млн.руб.\n",
      "Процент риска 7.6%\n"
     ]
    }
   ],
   "source": [
    "region_2 = estimate(pred_2, target_valid_2)"
   ]
  },
  {
   "cell_type": "markdown",
   "id": "e47d4a12",
   "metadata": {},
   "source": [
    "## Общий вывод\n",
    "Изучили данные трех регионов. На основании предоставленных данных обучили модель линейной регрессии. \n",
    "Рассчитали прибыль и риски для каждого региона. \n",
    "Не смотря на то, что средний запас предсказанного сырья в регионе 1 = 68.729 т. баррелей, данный регион является наиболее перспективным. Добыча нефти в этом регионе связана с наименьшим риском и предполагается получить наибольшую среднюю прибыль в размере 45.60 млн.руб.\n",
    "\n",
    "Регион 0 и регион 2 имеют вероятность риска в 6.9% и 7.6% соответственно. В регионе 1 данный процент составляет лишь 1.5. "
   ]
  }
 ],
 "metadata": {
  "ExecuteTimeLog": [
   {
    "duration": 5826,
    "start_time": "2022-07-08T10:56:01.275Z"
   },
   {
    "duration": 452,
    "start_time": "2022-07-08T10:56:07.104Z"
   },
   {
    "duration": 223,
    "start_time": "2022-07-08T10:56:07.558Z"
   },
   {
    "duration": 206,
    "start_time": "2022-07-08T10:56:07.784Z"
   },
   {
    "duration": 64,
    "start_time": "2022-07-08T10:56:07.992Z"
   },
   {
    "duration": 25,
    "start_time": "2022-07-08T10:56:08.058Z"
   },
   {
    "duration": 70,
    "start_time": "2022-07-08T10:56:08.085Z"
   },
   {
    "duration": 31,
    "start_time": "2022-07-08T10:56:08.159Z"
   },
   {
    "duration": 63,
    "start_time": "2022-07-08T10:56:08.192Z"
   },
   {
    "duration": 23,
    "start_time": "2022-07-08T10:56:08.257Z"
   },
   {
    "duration": 27,
    "start_time": "2022-07-08T10:56:08.281Z"
   },
   {
    "duration": 103,
    "start_time": "2022-07-08T10:56:10.664Z"
   },
   {
    "duration": 20903,
    "start_time": "2022-07-08T10:56:20.955Z"
   },
   {
    "duration": 96,
    "start_time": "2022-07-08T10:57:05.601Z"
   },
   {
    "duration": 14,
    "start_time": "2022-07-08T10:57:11.010Z"
   },
   {
    "duration": 5,
    "start_time": "2022-07-08T10:57:13.545Z"
   },
   {
    "duration": 9090,
    "start_time": "2022-07-08T10:57:18.718Z"
   }
  ],
  "kernelspec": {
   "display_name": "Python 3 (ipykernel)",
   "language": "python",
   "name": "python3"
  },
  "language_info": {
   "codemirror_mode": {
    "name": "ipython",
    "version": 3
   },
   "file_extension": ".py",
   "mimetype": "text/x-python",
   "name": "python",
   "nbconvert_exporter": "python",
   "pygments_lexer": "ipython3",
   "version": "3.9.7"
  },
  "toc": {
   "base_numbering": 1,
   "nav_menu": {},
   "number_sections": true,
   "sideBar": true,
   "skip_h1_title": true,
   "title_cell": "Table of Contents",
   "title_sidebar": "Contents",
   "toc_cell": false,
   "toc_position": {},
   "toc_section_display": true,
   "toc_window_display": false
  }
 },
 "nbformat": 4,
 "nbformat_minor": 5
}
