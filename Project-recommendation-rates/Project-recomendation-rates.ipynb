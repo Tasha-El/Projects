{
 "cells": [
  {
   "cell_type": "markdown",
   "id": "d5877b58",
   "metadata": {},
   "source": [
    "# Рекомендация тарифов"
   ]
  },
  {
   "cell_type": "markdown",
   "id": "5049254e",
   "metadata": {},
   "source": [
    "## Обзор данных"
   ]
  },
  {
   "cell_type": "code",
   "execution_count": 1,
   "id": "edc5a9b3",
   "metadata": {},
   "outputs": [],
   "source": [
    "import pandas as pd\n",
    "import numpy as np\n",
    "from sklearn.metrics import accuracy_score\n",
    "from sklearn.model_selection import train_test_split\n",
    "from sklearn.tree import DecisionTreeClassifier \n",
    "from sklearn.ensemble import RandomForestClassifier\n",
    "from joblib import dump\n",
    "from sklearn.linear_model import LogisticRegression \n",
    "from sklearn.datasets import load_iris"
   ]
  },
  {
   "cell_type": "code",
   "execution_count": 2,
   "id": "a8a13451",
   "metadata": {},
   "outputs": [],
   "source": [
    "df = pd.read_csv('/datasets/users_behavior.csv')"
   ]
  },
  {
   "cell_type": "code",
   "execution_count": 3,
   "id": "6e6c938a",
   "metadata": {},
   "outputs": [
    {
     "data": {
      "text/html": [
       "<div>\n",
       "<style scoped>\n",
       "    .dataframe tbody tr th:only-of-type {\n",
       "        vertical-align: middle;\n",
       "    }\n",
       "\n",
       "    .dataframe tbody tr th {\n",
       "        vertical-align: top;\n",
       "    }\n",
       "\n",
       "    .dataframe thead th {\n",
       "        text-align: right;\n",
       "    }\n",
       "</style>\n",
       "<table border=\"1\" class=\"dataframe\">\n",
       "  <thead>\n",
       "    <tr style=\"text-align: right;\">\n",
       "      <th></th>\n",
       "      <th>calls</th>\n",
       "      <th>minutes</th>\n",
       "      <th>messages</th>\n",
       "      <th>mb_used</th>\n",
       "      <th>is_ultra</th>\n",
       "    </tr>\n",
       "  </thead>\n",
       "  <tbody>\n",
       "    <tr>\n",
       "      <th>0</th>\n",
       "      <td>40.0</td>\n",
       "      <td>311.90</td>\n",
       "      <td>83.0</td>\n",
       "      <td>19915.42</td>\n",
       "      <td>0</td>\n",
       "    </tr>\n",
       "    <tr>\n",
       "      <th>1</th>\n",
       "      <td>85.0</td>\n",
       "      <td>516.75</td>\n",
       "      <td>56.0</td>\n",
       "      <td>22696.96</td>\n",
       "      <td>0</td>\n",
       "    </tr>\n",
       "    <tr>\n",
       "      <th>2</th>\n",
       "      <td>77.0</td>\n",
       "      <td>467.66</td>\n",
       "      <td>86.0</td>\n",
       "      <td>21060.45</td>\n",
       "      <td>0</td>\n",
       "    </tr>\n",
       "    <tr>\n",
       "      <th>3</th>\n",
       "      <td>106.0</td>\n",
       "      <td>745.53</td>\n",
       "      <td>81.0</td>\n",
       "      <td>8437.39</td>\n",
       "      <td>1</td>\n",
       "    </tr>\n",
       "    <tr>\n",
       "      <th>4</th>\n",
       "      <td>66.0</td>\n",
       "      <td>418.74</td>\n",
       "      <td>1.0</td>\n",
       "      <td>14502.75</td>\n",
       "      <td>0</td>\n",
       "    </tr>\n",
       "  </tbody>\n",
       "</table>\n",
       "</div>"
      ],
      "text/plain": [
       "   calls  minutes  messages   mb_used  is_ultra\n",
       "0   40.0   311.90      83.0  19915.42         0\n",
       "1   85.0   516.75      56.0  22696.96         0\n",
       "2   77.0   467.66      86.0  21060.45         0\n",
       "3  106.0   745.53      81.0   8437.39         1\n",
       "4   66.0   418.74       1.0  14502.75         0"
      ]
     },
     "execution_count": 3,
     "metadata": {},
     "output_type": "execute_result"
    }
   ],
   "source": [
    "df.head()"
   ]
  },
  {
   "cell_type": "code",
   "execution_count": 4,
   "id": "9a3a9341",
   "metadata": {
    "scrolled": true
   },
   "outputs": [
    {
     "name": "stdout",
     "output_type": "stream",
     "text": [
      "<class 'pandas.core.frame.DataFrame'>\n",
      "RangeIndex: 3214 entries, 0 to 3213\n",
      "Data columns (total 5 columns):\n",
      " #   Column    Non-Null Count  Dtype  \n",
      "---  ------    --------------  -----  \n",
      " 0   calls     3214 non-null   float64\n",
      " 1   minutes   3214 non-null   float64\n",
      " 2   messages  3214 non-null   float64\n",
      " 3   mb_used   3214 non-null   float64\n",
      " 4   is_ultra  3214 non-null   int64  \n",
      "dtypes: float64(4), int64(1)\n",
      "memory usage: 125.7 KB\n"
     ]
    }
   ],
   "source": [
    "df.info()"
   ]
  },
  {
   "cell_type": "code",
   "execution_count": 5,
   "id": "396cf8af",
   "metadata": {},
   "outputs": [
    {
     "data": {
      "text/plain": [
       "0    2229\n",
       "1     985\n",
       "Name: is_ultra, dtype: int64"
      ]
     },
     "execution_count": 5,
     "metadata": {},
     "output_type": "execute_result"
    }
   ],
   "source": [
    "# посмотрим на распределение тарифов по датасету\n",
    "df['is_ultra'].value_counts()"
   ]
  },
  {
   "cell_type": "code",
   "execution_count": 6,
   "id": "b0ce3772",
   "metadata": {},
   "outputs": [
    {
     "data": {
      "text/plain": [
       "2.2629441624365483"
      ]
     },
     "execution_count": 6,
     "metadata": {},
     "output_type": "execute_result"
    }
   ],
   "source": [
    "# посмотрим отношение количества строк с 0 к 1 is_ultra\n",
    "rat = len(df.loc[df['is_ultra']==0])/len(df.loc[df['is_ultra']==1])\n",
    "rat"
   ]
  },
  {
   "cell_type": "markdown",
   "id": "14338253",
   "metadata": {},
   "source": [
    "Строк с тарифом Ультра (0) гораздо больше, чем строк с тарифом Смарт (1)."
   ]
  },
  {
   "cell_type": "code",
   "execution_count": 7,
   "id": "e9356abd",
   "metadata": {},
   "outputs": [],
   "source": [
    "# Данные нужно разбить на три части: обучающую, валидационную и тестовую в соотношении 3:1:1.\n",
    "# обучающая выборка 60%, валидационная выборка 20%, тестовая выборка 20%\n",
    "train, check = train_test_split(df, train_size=0.6, random_state=12345, stratify = df['is_ultra'])"
   ]
  },
  {
   "cell_type": "code",
   "execution_count": 8,
   "id": "45a3eb1d",
   "metadata": {},
   "outputs": [],
   "source": [
    "valid, test = train_test_split(check, test_size=0.5, random_state=12345, stratify = check['is_ultra'])"
   ]
  },
  {
   "cell_type": "code",
   "execution_count": 9,
   "id": "cd7d119c",
   "metadata": {},
   "outputs": [
    {
     "data": {
      "text/plain": [
       "0    1337\n",
       "1     591\n",
       "Name: is_ultra, dtype: int64"
      ]
     },
     "execution_count": 9,
     "metadata": {},
     "output_type": "execute_result"
    }
   ],
   "source": [
    "train['is_ultra'].value_counts()"
   ]
  },
  {
   "cell_type": "code",
   "execution_count": 10,
   "id": "7f56e102",
   "metadata": {
    "scrolled": true
   },
   "outputs": [
    {
     "data": {
      "text/plain": [
       "(1928, 5)"
      ]
     },
     "metadata": {},
     "output_type": "display_data"
    },
    {
     "data": {
      "text/plain": [
       "(643, 5)"
      ]
     },
     "metadata": {},
     "output_type": "display_data"
    },
    {
     "data": {
      "text/plain": [
       "(643, 5)"
      ]
     },
     "metadata": {},
     "output_type": "display_data"
    }
   ],
   "source": [
    "# проверим как разбили датасет\n",
    "display(train.shape)\n",
    "display(valid.shape)\n",
    "display(test.shape)"
   ]
  },
  {
   "cell_type": "markdown",
   "id": "49800a87",
   "metadata": {},
   "source": [
    "Целевым признаком в нашем случае является столбец 'is_ultra'. В нем содержится информация, каким тарифным планом пользуется клиент. Данный признак является категориальным. \n",
    "В исследовании будем использовать следующие модели машинного обучения:\n",
    "\n",
    "- Решающее дерево\n",
    "- Случайный лес \n",
    "- Логистическая регрессия\n",
    "\n",
    "Каждую модель обучим на обучающем наборе и проверим на валидационной выборке. Таким образом определим лучшую модель."
   ]
  },
  {
   "cell_type": "code",
   "execution_count": 11,
   "id": "e2c19551",
   "metadata": {},
   "outputs": [],
   "source": [
    "# объявим переменные features и target для каждой выборки\n",
    "features_train = train.drop(['is_ultra'], axis=1)\n",
    "target_train = train['is_ultra']\n",
    "\n",
    "features_valid = valid.drop(['is_ultra'], axis=1)\n",
    "target_valid = valid['is_ultra']\n",
    "\n",
    "features_test = test.drop(['is_ultra'], axis=1)\n",
    "target_test = test['is_ultra']"
   ]
  },
  {
   "cell_type": "markdown",
   "id": "fa2b848b",
   "metadata": {},
   "source": [
    "## Модель решающее дерево"
   ]
  },
  {
   "cell_type": "markdown",
   "id": "b1d0fa74",
   "metadata": {},
   "source": [
    "Построим модель \"Решающего дерева\". Гиперпараметр max_depth(максимальная глубина) будем изменять в пределах от 1 до 10 в цикле, для того, чтобы подобрать наилучшую модель. "
   ]
  },
  {
   "cell_type": "code",
   "execution_count": 12,
   "id": "33e9158b",
   "metadata": {},
   "outputs": [
    {
     "name": "stdout",
     "output_type": "stream",
     "text": [
      "max_depth = 1 : 0.7402799377916018\n",
      "max_depth = 2 : 0.7729393468118196\n",
      "max_depth = 3 : 0.7776049766718507\n",
      "max_depth = 4 : 0.7542768273716952\n",
      "max_depth = 5 : 0.7853810264385692\n",
      "max_depth = 6 : 0.7744945567651633\n",
      "max_depth = 7 : 0.7869362363919129\n",
      "max_depth = 8 : 0.80248833592535\n",
      "max_depth = 9 : 0.7822706065318819\n",
      "max_depth = 10 : 0.7729393468118196\n"
     ]
    }
   ],
   "source": [
    "for depth in range(1, 11):\n",
    "    model = DecisionTreeClassifier(random_state=12345, max_depth=depth) # создаем модель\n",
    "    model.fit(features_train, target_train) # обучаем модель\n",
    "    predictions_valid = model.predict(features_valid) #находим предсказания по валидационной выборке. \n",
    "    \n",
    "    \n",
    "    print(\"max_depth =\", depth, \": \", end='')\n",
    "    print(accuracy_score(target_valid, predictions_valid))"
   ]
  },
  {
   "cell_type": "markdown",
   "id": "b7e58a31",
   "metadata": {},
   "source": [
    "Максимальная доля правильных ответов составляет 80% при max_depth=8. "
   ]
  },
  {
   "cell_type": "code",
   "execution_count": 13,
   "id": "2a16d269",
   "metadata": {},
   "outputs": [],
   "source": [
    "model_dt = DecisionTreeClassifier(random_state=12345, max_depth=8) # сохраним модель решающего дерева"
   ]
  },
  {
   "cell_type": "code",
   "execution_count": 14,
   "id": "2fd50d1a",
   "metadata": {},
   "outputs": [
    {
     "data": {
      "image/png": "[encoded data removed]",
      "text/plain": [
       "<Figure size 432x288 with 1 Axes>"
      ]
     },
     "metadata": {
      "needs_background": "light"
     },
     "output_type": "display_data"
    }
   ],
   "source": [
    "train_acc = []\n",
    "valid_acc = []\n",
    "\n",
    "for depth in range(1, 11):\n",
    "    model = DecisionTreeClassifier(random_state=12345, max_depth=depth) \n",
    "    model.fit(features_train, target_train)\n",
    "    predictions_valid = model.predict(features_valid) \n",
    "    \n",
    "\n",
    "    predictions_train = model.predict(features_train)\n",
    "\n",
    "    acc_valid = accuracy_score(target_valid, predictions_valid)\n",
    "    acc_train = accuracy_score(target_train, predictions_train)\n",
    "  \n",
    "    train_acc.append(acc_train)\n",
    "    valid_acc.append(acc_valid)\n",
    "    \n",
    "\n",
    "import matplotlib.pyplot as plt\n",
    "plt.plot(train_acc)\n",
    "plt.plot(valid_acc)\n",
    "plt.show()"
   ]
  },
  {
   "cell_type": "markdown",
   "id": "609353a5",
   "metadata": {},
   "source": [
    "## Модель случайный лес"
   ]
  },
  {
   "cell_type": "code",
   "execution_count": 15,
   "id": "9ab97426",
   "metadata": {},
   "outputs": [],
   "source": [
    "# соберем значения accuracy и гиперпараметров в списки, из которых потом создадим датафрейм\n",
    "accuracy_list = []\n",
    "max_depth_list = []\n",
    "estim_list = []\n",
    "\n",
    "for md in range(1, 17):\n",
    "    for est in range(2, 50):\n",
    "        model_rf = RandomForestClassifier(random_state=12345, max_depth=md, n_estimators=est)\n",
    "        \n",
    "        model_rf.fit(features_train, target_train)\n",
    "        \n",
    "        predictions_rf = model_rf.predict(features_valid)\n",
    "        \n",
    "        accuracy_rf = round(accuracy_score(target_valid, predictions_rf), 4)\n",
    "        \n",
    "        accuracy_list.append(accuracy_rf)\n",
    "        max_depth_list.append(md)\n",
    "        estim_list.append(est)"
   ]
  },
  {
   "cell_type": "code",
   "execution_count": 16,
   "id": "cbceb322",
   "metadata": {},
   "outputs": [
    {
     "data": {
      "text/html": [
       "<div>\n",
       "<style scoped>\n",
       "    .dataframe tbody tr th:only-of-type {\n",
       "        vertical-align: middle;\n",
       "    }\n",
       "\n",
       "    .dataframe tbody tr th {\n",
       "        vertical-align: top;\n",
       "    }\n",
       "\n",
       "    .dataframe thead th {\n",
       "        text-align: right;\n",
       "    }\n",
       "</style>\n",
       "<table border=\"1\" class=\"dataframe\">\n",
       "  <thead>\n",
       "    <tr style=\"text-align: right;\">\n",
       "      <th></th>\n",
       "      <th>max_depth</th>\n",
       "      <th>n_estimators</th>\n",
       "      <th>accuracy</th>\n",
       "    </tr>\n",
       "  </thead>\n",
       "  <tbody>\n",
       "    <tr>\n",
       "      <th>421</th>\n",
       "      <td>9</td>\n",
       "      <td>39</td>\n",
       "      <td>0.8227</td>\n",
       "    </tr>\n",
       "  </tbody>\n",
       "</table>\n",
       "</div>"
      ],
      "text/plain": [
       "     max_depth  n_estimators  accuracy\n",
       "421          9            39    0.8227"
      ]
     },
     "metadata": {},
     "output_type": "display_data"
    }
   ],
   "source": [
    "# собираем все списки в один\n",
    "result_list = [max_depth_list, estim_list, accuracy_list]\n",
    "\n",
    "# создаем датафрейм\n",
    "df_random_forest = pd.DataFrame({'max_depth':max_depth_list, 'n_estimators':estim_list, 'accuracy':accuracy_list})\n",
    "\n",
    "# из которого теперь легко вычленить интересующую нас информацию\n",
    "# ввиду строки с максимальным значением accuracy и соответствующих гиперпараметров\n",
    "display(df_random_forest[df_random_forest['accuracy']==df_random_forest['accuracy'].max()])"
   ]
  },
  {
   "cell_type": "markdown",
   "id": "1c609f1d",
   "metadata": {},
   "source": [
    "Максимальная доля правильных ответов составила 82%, при max_depth=9, n_etimators=39. "
   ]
  },
  {
   "cell_type": "code",
   "execution_count": 17,
   "id": "4a009edf",
   "metadata": {},
   "outputs": [
    {
     "data": {
      "text/plain": [
       "RandomForestClassifier(max_depth=9, n_estimators=39, random_state=12345)"
      ]
     },
     "execution_count": 17,
     "metadata": {},
     "output_type": "execute_result"
    }
   ],
   "source": [
    "best_model = RandomForestClassifier(random_state=12345, max_depth=9, n_estimators=39) # сохраним лучшу модель RF\n",
    "best_model.fit(features_train, target_train)"
   ]
  },
  {
   "cell_type": "code",
   "execution_count": 18,
   "id": "a72471b9",
   "metadata": {},
   "outputs": [
    {
     "data": {
      "text/plain": [
       "{'max_depth': 5,\n",
       " 'min_samples_leaf': 1,\n",
       " 'min_samples_split': 2,\n",
       " 'n_estimators': 10}"
      ]
     },
     "execution_count": 18,
     "metadata": {},
     "output_type": "execute_result"
    }
   ],
   "source": [
    "from sklearn.ensemble import RandomForestClassifier\n",
    "    \n",
    "from sklearn.model_selection import GridSearchCV\n",
    "    \n",
    "X_train = df.drop('is_ultra', axis=1)\n",
    "    \n",
    "y_train = df['is_ultra']\n",
    "    \n",
    "clf = RandomForestClassifier() \n",
    "    \n",
    "parametrs = { 'n_estimators': range (10, 11, 1), \n",
    "    \n",
    "              'max_depth': range (1,6, 2), \n",
    "    \n",
    "              'min_samples_leaf': range (1,2), \n",
    "    \n",
    "              'min_samples_split': range (2,4,2) } \n",
    "    \n",
    "grid = GridSearchCV(clf, parametrs, cv=5) \n",
    "    \n",
    "grid.fit(X_train, y_train) \n",
    "    \n",
    "grid.best_params_ "
   ]
  },
  {
   "cell_type": "markdown",
   "id": "8fb6a723",
   "metadata": {},
   "source": [
    "## Модель логистическая регрессия "
   ]
  },
  {
   "cell_type": "code",
   "execution_count": 19,
   "id": "f5ad8469",
   "metadata": {},
   "outputs": [
    {
     "data": {
      "text/plain": [
       "0.7387"
      ]
     },
     "execution_count": 19,
     "metadata": {},
     "output_type": "execute_result"
    }
   ],
   "source": [
    "model_lr = LogisticRegression(random_state=12345, solver='lbfgs', max_iter=1000) \n",
    "model_lr.fit(features_train, target_train) \n",
    "predictions_lr = model_lr.predict(features_valid)\n",
    "accuracy_lr = round(accuracy_score(target_valid, predictions_lr), 4)\n",
    "accuracy_lr"
   ]
  },
  {
   "cell_type": "markdown",
   "id": "aca7d972",
   "metadata": {},
   "source": [
    "Модель логистической регрессии показывает самый худший результат, почти 74% правильных ответов."
   ]
  },
  {
   "cell_type": "markdown",
   "id": "47813934",
   "metadata": {},
   "source": [
    "## Проверка качества модели на тестовой выборке"
   ]
  },
  {
   "cell_type": "markdown",
   "id": "d74ea1f9",
   "metadata": {},
   "source": [
    "Проверим как ведет себя лучшая модель случайного леса на тестовой выборке."
   ]
  },
  {
   "cell_type": "code",
   "execution_count": 20,
   "id": "c5c8ff5b",
   "metadata": {},
   "outputs": [
    {
     "data": {
      "text/plain": [
       "0.8118195956454122"
      ]
     },
     "execution_count": 20,
     "metadata": {},
     "output_type": "execute_result"
    }
   ],
   "source": [
    "predictions_test = best_model.predict(features_test)\n",
    "\n",
    "accuracy_test = accuracy_score(target_test, predictions_test)\n",
    "accuracy_test"
   ]
  },
  {
   "cell_type": "markdown",
   "id": "f6f1ff49",
   "metadata": {},
   "source": [
    "81% правильных ответов. "
   ]
  },
  {
   "cell_type": "code",
   "execution_count": 21,
   "id": "c4cbefc6",
   "metadata": {},
   "outputs": [
    {
     "data": {
      "text/plain": [
       "RandomForestClassifier(max_depth=9, n_estimators=39, random_state=12345)"
      ]
     },
     "execution_count": 21,
     "metadata": {},
     "output_type": "execute_result"
    }
   ],
   "source": [
    "best_model.fit(pd.concat([features_valid, features_train]), pd.concat([target_valid, target_train]))"
   ]
  },
  {
   "cell_type": "code",
   "execution_count": 22,
   "id": "7618bf34",
   "metadata": {},
   "outputs": [
    {
     "data": {
      "text/plain": [
       "0.838258164852255"
      ]
     },
     "execution_count": 22,
     "metadata": {},
     "output_type": "execute_result"
    }
   ],
   "source": [
    "predictions_test = best_model.predict(features_test)\n",
    "\n",
    "accuracy_test = accuracy_score(target_test, predictions_test)\n",
    "accuracy_test"
   ]
  },
  {
   "cell_type": "markdown",
   "id": "b94b3455",
   "metadata": {},
   "source": [
    "## Проверка модели на вменяемость"
   ]
  },
  {
   "cell_type": "markdown",
   "id": "782bec28",
   "metadata": {},
   "source": [
    "Чтобы проверить модель на вменяемость в задачах классификации, нужно сравнить её со случайной. "
   ]
  },
  {
   "cell_type": "code",
   "execution_count": 23,
   "id": "14b826cc",
   "metadata": {},
   "outputs": [],
   "source": [
    "from sklearn.dummy import DummyClassifier"
   ]
  },
  {
   "cell_type": "code",
   "execution_count": 24,
   "id": "d29db547",
   "metadata": {},
   "outputs": [
    {
     "data": {
      "text/plain": [
       "0.6936236391912908"
      ]
     },
     "metadata": {},
     "output_type": "display_data"
    }
   ],
   "source": [
    "model_dc = DummyClassifier().fit(features_train, target_train)\n",
    "display(model_dc.score(features_test, target_test))"
   ]
  },
  {
   "cell_type": "markdown",
   "id": "7a97c451",
   "metadata": {},
   "source": [
    "# Общий вывод"
   ]
  },
  {
   "cell_type": "markdown",
   "id": "af8afc82",
   "metadata": {},
   "source": [
    "Данные были разделены на ри выборки: обучающую, валидационную и тестовую в соотношении 60% 20% 20% соответственно. \n",
    "На основании выборок были обучены три модели: решющее дерево, случайный лес и логистическая регрессия. У модели решающий лес самый большой показатель правильных ответов, который составляет 82%. Проверка модели на тестовой выборке дала результат в 81%.  Самый низкий показатель у модели логистической регрессии, процент правильных ответов составил почти 74%. \n",
    "Соответственно модель случайного леса лучше подходит для задачи заказчика. "
   ]
  }
 ],
 "metadata": {
  "ExecuteTimeLog": [
   {
    "duration": 64,
    "start_time": "2022-06-06T13:08:52.661Z"
   },
   {
    "duration": 990,
    "start_time": "2022-06-06T13:08:58.565Z"
   },
   {
    "duration": 67,
    "start_time": "2022-06-06T13:08:59.557Z"
   },
   {
    "duration": 17,
    "start_time": "2022-06-06T13:08:59.625Z"
   },
   {
    "duration": 11,
    "start_time": "2022-06-06T13:08:59.644Z"
   },
   {
    "duration": 4,
    "start_time": "2022-06-06T13:08:59.657Z"
   },
   {
    "duration": 9,
    "start_time": "2022-06-06T13:08:59.663Z"
   },
   {
    "duration": 9,
    "start_time": "2022-06-06T13:08:59.673Z"
   },
   {
    "duration": 9,
    "start_time": "2022-06-06T13:08:59.683Z"
   },
   {
    "duration": 65,
    "start_time": "2022-06-06T13:08:59.724Z"
   },
   {
    "duration": 4284,
    "start_time": "2022-06-06T13:08:59.791Z"
   },
   {
    "duration": 32,
    "start_time": "2022-06-06T13:09:04.077Z"
   },
   {
    "duration": 25,
    "start_time": "2022-06-06T13:09:04.111Z"
   },
   {
    "duration": 5,
    "start_time": "2022-06-06T13:09:04.138Z"
   },
   {
    "duration": 5,
    "start_time": "2022-06-06T13:09:08.964Z"
   },
   {
    "duration": 965,
    "start_time": "2022-06-06T13:09:17.196Z"
   },
   {
    "duration": 31,
    "start_time": "2022-06-06T13:09:18.163Z"
   },
   {
    "duration": 17,
    "start_time": "2022-06-06T13:09:18.195Z"
   },
   {
    "duration": 11,
    "start_time": "2022-06-06T13:09:18.214Z"
   },
   {
    "duration": 6,
    "start_time": "2022-06-06T13:09:18.226Z"
   },
   {
    "duration": 5,
    "start_time": "2022-06-06T13:09:18.233Z"
   },
   {
    "duration": 10,
    "start_time": "2022-06-06T13:09:18.240Z"
   },
   {
    "duration": 8,
    "start_time": "2022-06-06T13:09:18.252Z"
   },
   {
    "duration": 95,
    "start_time": "2022-06-06T13:09:18.262Z"
   },
   {
    "duration": 4104,
    "start_time": "2022-06-06T13:09:18.360Z"
   },
   {
    "duration": 26,
    "start_time": "2022-06-06T13:09:22.466Z"
   },
   {
    "duration": 12,
    "start_time": "2022-06-06T13:09:22.494Z"
   },
   {
    "duration": 20,
    "start_time": "2022-06-06T13:09:22.507Z"
   },
   {
    "duration": 956,
    "start_time": "2022-06-08T06:58:27.208Z"
   },
   {
    "duration": 31,
    "start_time": "2022-06-08T06:58:28.166Z"
   },
   {
    "duration": 16,
    "start_time": "2022-06-08T06:58:28.198Z"
   },
   {
    "duration": 18,
    "start_time": "2022-06-08T06:58:28.215Z"
   },
   {
    "duration": 32,
    "start_time": "2022-06-08T06:58:28.234Z"
   },
   {
    "duration": 17,
    "start_time": "2022-06-08T06:58:28.267Z"
   },
   {
    "duration": 11,
    "start_time": "2022-06-08T06:58:28.285Z"
   },
   {
    "duration": 16,
    "start_time": "2022-06-08T06:58:28.297Z"
   },
   {
    "duration": 17,
    "start_time": "2022-06-08T06:58:28.314Z"
   },
   {
    "duration": 11,
    "start_time": "2022-06-08T06:58:28.334Z"
   },
   {
    "duration": 13,
    "start_time": "2022-06-08T06:58:28.346Z"
   },
   {
    "duration": 91,
    "start_time": "2022-06-08T06:58:28.361Z"
   },
   {
    "duration": 3,
    "start_time": "2022-06-08T06:58:28.454Z"
   },
   {
    "duration": 58268,
    "start_time": "2022-06-08T06:58:28.458Z"
   },
   {
    "duration": 9,
    "start_time": "2022-06-08T06:59:26.728Z"
   },
   {
    "duration": 141,
    "start_time": "2022-06-08T06:59:26.738Z"
   },
   {
    "duration": 36,
    "start_time": "2022-06-08T06:59:26.880Z"
   },
   {
    "duration": 19,
    "start_time": "2022-06-08T06:59:26.918Z"
   },
   {
    "duration": 183,
    "start_time": "2022-06-08T06:59:26.938Z"
   },
   {
    "duration": 12,
    "start_time": "2022-06-08T06:59:27.125Z"
   },
   {
    "duration": 7,
    "start_time": "2022-06-08T06:59:27.138Z"
   },
   {
    "duration": 14,
    "start_time": "2022-06-08T06:59:27.146Z"
   },
   {
    "duration": 93,
    "start_time": "2022-06-08T07:08:02.390Z"
   },
   {
    "duration": 186,
    "start_time": "2022-06-08T07:08:36.059Z"
   },
   {
    "duration": 2349,
    "start_time": "2022-06-08T07:08:51.235Z"
   },
   {
    "duration": 6,
    "start_time": "2022-06-08T07:09:06.332Z"
   },
   {
    "duration": 133,
    "start_time": "2022-06-08T07:11:13.796Z"
   },
   {
    "duration": 165,
    "start_time": "2022-06-08T07:11:25.724Z"
   },
   {
    "duration": 172,
    "start_time": "2022-06-08T07:11:36.658Z"
   },
   {
    "duration": 283,
    "start_time": "2022-06-08T07:11:46.602Z"
   },
   {
    "duration": 214,
    "start_time": "2022-06-08T07:12:21.362Z"
   },
   {
    "duration": 254,
    "start_time": "2022-06-08T07:12:35.265Z"
   },
   {
    "duration": 287,
    "start_time": "2022-06-08T07:12:53.938Z"
   },
   {
    "duration": 7394,
    "start_time": "2022-06-08T07:13:42.273Z"
   },
   {
    "duration": 510,
    "start_time": "2022-06-08T07:14:38.924Z"
   },
   {
    "duration": 538,
    "start_time": "2022-06-08T07:14:45.368Z"
   },
   {
    "duration": 471,
    "start_time": "2022-06-08T07:16:00.480Z"
   },
   {
    "duration": 520,
    "start_time": "2022-06-08T07:16:46.576Z"
   },
   {
    "duration": 9,
    "start_time": "2022-06-08T07:25:00.860Z"
   },
   {
    "duration": 11,
    "start_time": "2022-06-08T07:25:05.888Z"
   },
   {
    "duration": 7,
    "start_time": "2022-06-08T07:25:08.960Z"
   },
   {
    "duration": 7,
    "start_time": "2022-06-08T07:25:44.526Z"
   },
   {
    "duration": 28,
    "start_time": "2022-06-08T07:26:42.661Z"
   },
   {
    "duration": 1016,
    "start_time": "2022-06-08T07:38:25.947Z"
   },
   {
    "duration": 36,
    "start_time": "2022-06-08T07:38:26.966Z"
   },
   {
    "duration": 20,
    "start_time": "2022-06-08T07:38:27.004Z"
   },
   {
    "duration": 39,
    "start_time": "2022-06-08T07:38:27.027Z"
   },
   {
    "duration": 15,
    "start_time": "2022-06-08T07:38:27.069Z"
   },
   {
    "duration": 26,
    "start_time": "2022-06-08T07:38:27.086Z"
   },
   {
    "duration": 8,
    "start_time": "2022-06-08T07:38:27.115Z"
   },
   {
    "duration": 24,
    "start_time": "2022-06-08T07:38:27.125Z"
   },
   {
    "duration": 0,
    "start_time": "2022-06-08T07:38:27.151Z"
   },
   {
    "duration": 0,
    "start_time": "2022-06-08T07:38:27.153Z"
   },
   {
    "duration": 0,
    "start_time": "2022-06-08T07:38:27.155Z"
   },
   {
    "duration": 0,
    "start_time": "2022-06-08T07:38:27.157Z"
   },
   {
    "duration": 0,
    "start_time": "2022-06-08T07:38:27.158Z"
   },
   {
    "duration": 0,
    "start_time": "2022-06-08T07:38:27.160Z"
   },
   {
    "duration": 0,
    "start_time": "2022-06-08T07:38:27.162Z"
   },
   {
    "duration": 0,
    "start_time": "2022-06-08T07:38:27.163Z"
   },
   {
    "duration": 0,
    "start_time": "2022-06-08T07:38:27.165Z"
   },
   {
    "duration": 0,
    "start_time": "2022-06-08T07:38:27.166Z"
   },
   {
    "duration": 0,
    "start_time": "2022-06-08T07:38:27.168Z"
   },
   {
    "duration": 0,
    "start_time": "2022-06-08T07:38:27.169Z"
   },
   {
    "duration": 0,
    "start_time": "2022-06-08T07:38:27.170Z"
   },
   {
    "duration": 0,
    "start_time": "2022-06-08T07:38:27.172Z"
   },
   {
    "duration": 0,
    "start_time": "2022-06-08T07:38:27.172Z"
   },
   {
    "duration": 0,
    "start_time": "2022-06-08T07:38:27.173Z"
   },
   {
    "duration": 1210,
    "start_time": "2022-06-08T16:48:11.197Z"
   },
   {
    "duration": 43,
    "start_time": "2022-06-08T16:48:12.410Z"
   },
   {
    "duration": 25,
    "start_time": "2022-06-08T16:48:12.455Z"
   },
   {
    "duration": 18,
    "start_time": "2022-06-08T16:48:12.483Z"
   },
   {
    "duration": 10,
    "start_time": "2022-06-08T16:48:12.504Z"
   },
   {
    "duration": 34,
    "start_time": "2022-06-08T16:48:12.516Z"
   },
   {
    "duration": 11,
    "start_time": "2022-06-08T16:48:12.553Z"
   },
   {
    "duration": 9,
    "start_time": "2022-06-08T16:48:12.567Z"
   },
   {
    "duration": 9,
    "start_time": "2022-06-08T16:48:12.580Z"
   },
   {
    "duration": 36,
    "start_time": "2022-06-08T16:48:12.592Z"
   },
   {
    "duration": 18,
    "start_time": "2022-06-08T16:48:12.636Z"
   },
   {
    "duration": 106,
    "start_time": "2022-06-08T16:48:12.657Z"
   },
   {
    "duration": 3,
    "start_time": "2022-06-08T16:48:12.766Z"
   },
   {
    "duration": 523,
    "start_time": "2022-06-08T16:48:12.771Z"
   },
   {
    "duration": 59786,
    "start_time": "2022-06-08T16:48:13.297Z"
   },
   {
    "duration": 14,
    "start_time": "2022-06-08T16:49:13.085Z"
   },
   {
    "duration": 149,
    "start_time": "2022-06-08T16:49:13.102Z"
   },
   {
    "duration": 497,
    "start_time": "2022-06-08T16:49:13.252Z"
   },
   {
    "duration": 42,
    "start_time": "2022-06-08T16:49:13.751Z"
   },
   {
    "duration": 19,
    "start_time": "2022-06-08T16:49:13.795Z"
   },
   {
    "duration": 222,
    "start_time": "2022-06-08T16:49:13.816Z"
   },
   {
    "duration": 24,
    "start_time": "2022-06-08T16:49:14.040Z"
   },
   {
    "duration": 3,
    "start_time": "2022-06-08T16:49:14.066Z"
   },
   {
    "duration": 22,
    "start_time": "2022-06-08T16:49:14.071Z"
   }
  ],
  "kernelspec": {
   "display_name": "Python 3 (ipykernel)",
   "language": "python",
   "name": "python3"
  },
  "language_info": {
   "codemirror_mode": {
    "name": "ipython",
    "version": 3
   },
   "file_extension": ".py",
   "mimetype": "text/x-python",
   "name": "python",
   "nbconvert_exporter": "python",
   "pygments_lexer": "ipython3",
   "version": "3.9.7"
  },
  "toc": {
   "base_numbering": 1,
   "nav_menu": {},
   "number_sections": true,
   "sideBar": true,
   "skip_h1_title": true,
   "title_cell": "Table of Contents",
   "title_sidebar": "Contents",
   "toc_cell": false,
   "toc_position": {},
   "toc_section_display": true,
   "toc_window_display": false
  }
 },
 "nbformat": 4,
 "nbformat_minor": 5
}
