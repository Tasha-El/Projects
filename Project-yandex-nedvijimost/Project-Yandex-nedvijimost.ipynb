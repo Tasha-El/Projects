{
 "cells": [
  {
   "cell_type": "markdown",
   "id": "859c122d",
   "metadata": {},
   "source": [
    "# Yandex Недвижимость"
   ]
  },
  {
   "cell_type": "code",
   "execution_count": 1,
   "id": "0d964b01",
   "metadata": {},
   "outputs": [],
   "source": [
    "import pandas as pd\n",
    "import numpy as np\n",
    "import matplotlib.pyplot as plt "
   ]
  },
  {
   "cell_type": "code",
   "execution_count": 2,
   "id": "3e5966e7",
   "metadata": {},
   "outputs": [],
   "source": [
    "data = pd.read_csv('/datasets/real_estate_data.csv',sep='\\t')"
   ]
  },
  {
   "cell_type": "code",
   "execution_count": 3,
   "id": "d03fa008",
   "metadata": {},
   "outputs": [
    {
     "data": {
      "text/html": [
       "<div>\n",
       "<style scoped>\n",
       "    .dataframe tbody tr th:only-of-type {\n",
       "        vertical-align: middle;\n",
       "    }\n",
       "\n",
       "    .dataframe tbody tr th {\n",
       "        vertical-align: top;\n",
       "    }\n",
       "\n",
       "    .dataframe thead th {\n",
       "        text-align: right;\n",
       "    }\n",
       "</style>\n",
       "<table border=\"1\" class=\"dataframe\">\n",
       "  <thead>\n",
       "    <tr style=\"text-align: right;\">\n",
       "      <th></th>\n",
       "      <th>total_images</th>\n",
       "      <th>last_price</th>\n",
       "      <th>total_area</th>\n",
       "      <th>first_day_exposition</th>\n",
       "      <th>rooms</th>\n",
       "      <th>ceiling_height</th>\n",
       "      <th>floors_total</th>\n",
       "      <th>living_area</th>\n",
       "      <th>floor</th>\n",
       "      <th>is_apartment</th>\n",
       "      <th>...</th>\n",
       "      <th>kitchen_area</th>\n",
       "      <th>balcony</th>\n",
       "      <th>locality_name</th>\n",
       "      <th>airports_nearest</th>\n",
       "      <th>cityCenters_nearest</th>\n",
       "      <th>parks_around3000</th>\n",
       "      <th>parks_nearest</th>\n",
       "      <th>ponds_around3000</th>\n",
       "      <th>ponds_nearest</th>\n",
       "      <th>days_exposition</th>\n",
       "    </tr>\n",
       "  </thead>\n",
       "  <tbody>\n",
       "    <tr>\n",
       "      <th>0</th>\n",
       "      <td>20</td>\n",
       "      <td>13000000.0</td>\n",
       "      <td>108.00</td>\n",
       "      <td>2019-03-07T00:00:00</td>\n",
       "      <td>3</td>\n",
       "      <td>2.70</td>\n",
       "      <td>16.0</td>\n",
       "      <td>51.00</td>\n",
       "      <td>8</td>\n",
       "      <td>NaN</td>\n",
       "      <td>...</td>\n",
       "      <td>25.00</td>\n",
       "      <td>NaN</td>\n",
       "      <td>Санкт-Петербург</td>\n",
       "      <td>18863.0</td>\n",
       "      <td>16028.0</td>\n",
       "      <td>1.0</td>\n",
       "      <td>482.0</td>\n",
       "      <td>2.0</td>\n",
       "      <td>755.0</td>\n",
       "      <td>NaN</td>\n",
       "    </tr>\n",
       "    <tr>\n",
       "      <th>1</th>\n",
       "      <td>7</td>\n",
       "      <td>3350000.0</td>\n",
       "      <td>40.40</td>\n",
       "      <td>2018-12-04T00:00:00</td>\n",
       "      <td>1</td>\n",
       "      <td>NaN</td>\n",
       "      <td>11.0</td>\n",
       "      <td>18.60</td>\n",
       "      <td>1</td>\n",
       "      <td>NaN</td>\n",
       "      <td>...</td>\n",
       "      <td>11.00</td>\n",
       "      <td>2.0</td>\n",
       "      <td>посёлок Шушары</td>\n",
       "      <td>12817.0</td>\n",
       "      <td>18603.0</td>\n",
       "      <td>0.0</td>\n",
       "      <td>NaN</td>\n",
       "      <td>0.0</td>\n",
       "      <td>NaN</td>\n",
       "      <td>81.0</td>\n",
       "    </tr>\n",
       "    <tr>\n",
       "      <th>2</th>\n",
       "      <td>10</td>\n",
       "      <td>5196000.0</td>\n",
       "      <td>56.00</td>\n",
       "      <td>2015-08-20T00:00:00</td>\n",
       "      <td>2</td>\n",
       "      <td>NaN</td>\n",
       "      <td>5.0</td>\n",
       "      <td>34.30</td>\n",
       "      <td>4</td>\n",
       "      <td>NaN</td>\n",
       "      <td>...</td>\n",
       "      <td>8.30</td>\n",
       "      <td>0.0</td>\n",
       "      <td>Санкт-Петербург</td>\n",
       "      <td>21741.0</td>\n",
       "      <td>13933.0</td>\n",
       "      <td>1.0</td>\n",
       "      <td>90.0</td>\n",
       "      <td>2.0</td>\n",
       "      <td>574.0</td>\n",
       "      <td>558.0</td>\n",
       "    </tr>\n",
       "    <tr>\n",
       "      <th>3</th>\n",
       "      <td>0</td>\n",
       "      <td>64900000.0</td>\n",
       "      <td>159.00</td>\n",
       "      <td>2015-07-24T00:00:00</td>\n",
       "      <td>3</td>\n",
       "      <td>NaN</td>\n",
       "      <td>14.0</td>\n",
       "      <td>NaN</td>\n",
       "      <td>9</td>\n",
       "      <td>NaN</td>\n",
       "      <td>...</td>\n",
       "      <td>NaN</td>\n",
       "      <td>0.0</td>\n",
       "      <td>Санкт-Петербург</td>\n",
       "      <td>28098.0</td>\n",
       "      <td>6800.0</td>\n",
       "      <td>2.0</td>\n",
       "      <td>84.0</td>\n",
       "      <td>3.0</td>\n",
       "      <td>234.0</td>\n",
       "      <td>424.0</td>\n",
       "    </tr>\n",
       "    <tr>\n",
       "      <th>4</th>\n",
       "      <td>2</td>\n",
       "      <td>10000000.0</td>\n",
       "      <td>100.00</td>\n",
       "      <td>2018-06-19T00:00:00</td>\n",
       "      <td>2</td>\n",
       "      <td>3.03</td>\n",
       "      <td>14.0</td>\n",
       "      <td>32.00</td>\n",
       "      <td>13</td>\n",
       "      <td>NaN</td>\n",
       "      <td>...</td>\n",
       "      <td>41.00</td>\n",
       "      <td>NaN</td>\n",
       "      <td>Санкт-Петербург</td>\n",
       "      <td>31856.0</td>\n",
       "      <td>8098.0</td>\n",
       "      <td>2.0</td>\n",
       "      <td>112.0</td>\n",
       "      <td>1.0</td>\n",
       "      <td>48.0</td>\n",
       "      <td>121.0</td>\n",
       "    </tr>\n",
       "    <tr>\n",
       "      <th>5</th>\n",
       "      <td>10</td>\n",
       "      <td>2890000.0</td>\n",
       "      <td>30.40</td>\n",
       "      <td>2018-09-10T00:00:00</td>\n",
       "      <td>1</td>\n",
       "      <td>NaN</td>\n",
       "      <td>12.0</td>\n",
       "      <td>14.40</td>\n",
       "      <td>5</td>\n",
       "      <td>NaN</td>\n",
       "      <td>...</td>\n",
       "      <td>9.10</td>\n",
       "      <td>NaN</td>\n",
       "      <td>городской посёлок Янино-1</td>\n",
       "      <td>NaN</td>\n",
       "      <td>NaN</td>\n",
       "      <td>NaN</td>\n",
       "      <td>NaN</td>\n",
       "      <td>NaN</td>\n",
       "      <td>NaN</td>\n",
       "      <td>55.0</td>\n",
       "    </tr>\n",
       "    <tr>\n",
       "      <th>6</th>\n",
       "      <td>6</td>\n",
       "      <td>3700000.0</td>\n",
       "      <td>37.30</td>\n",
       "      <td>2017-11-02T00:00:00</td>\n",
       "      <td>1</td>\n",
       "      <td>NaN</td>\n",
       "      <td>26.0</td>\n",
       "      <td>10.60</td>\n",
       "      <td>6</td>\n",
       "      <td>NaN</td>\n",
       "      <td>...</td>\n",
       "      <td>14.40</td>\n",
       "      <td>1.0</td>\n",
       "      <td>посёлок Парголово</td>\n",
       "      <td>52996.0</td>\n",
       "      <td>19143.0</td>\n",
       "      <td>0.0</td>\n",
       "      <td>NaN</td>\n",
       "      <td>0.0</td>\n",
       "      <td>NaN</td>\n",
       "      <td>155.0</td>\n",
       "    </tr>\n",
       "    <tr>\n",
       "      <th>7</th>\n",
       "      <td>5</td>\n",
       "      <td>7915000.0</td>\n",
       "      <td>71.60</td>\n",
       "      <td>2019-04-18T00:00:00</td>\n",
       "      <td>2</td>\n",
       "      <td>NaN</td>\n",
       "      <td>24.0</td>\n",
       "      <td>NaN</td>\n",
       "      <td>22</td>\n",
       "      <td>NaN</td>\n",
       "      <td>...</td>\n",
       "      <td>18.90</td>\n",
       "      <td>2.0</td>\n",
       "      <td>Санкт-Петербург</td>\n",
       "      <td>23982.0</td>\n",
       "      <td>11634.0</td>\n",
       "      <td>0.0</td>\n",
       "      <td>NaN</td>\n",
       "      <td>0.0</td>\n",
       "      <td>NaN</td>\n",
       "      <td>NaN</td>\n",
       "    </tr>\n",
       "    <tr>\n",
       "      <th>8</th>\n",
       "      <td>20</td>\n",
       "      <td>2900000.0</td>\n",
       "      <td>33.16</td>\n",
       "      <td>2018-05-23T00:00:00</td>\n",
       "      <td>1</td>\n",
       "      <td>NaN</td>\n",
       "      <td>27.0</td>\n",
       "      <td>15.43</td>\n",
       "      <td>26</td>\n",
       "      <td>NaN</td>\n",
       "      <td>...</td>\n",
       "      <td>8.81</td>\n",
       "      <td>NaN</td>\n",
       "      <td>посёлок Мурино</td>\n",
       "      <td>NaN</td>\n",
       "      <td>NaN</td>\n",
       "      <td>NaN</td>\n",
       "      <td>NaN</td>\n",
       "      <td>NaN</td>\n",
       "      <td>NaN</td>\n",
       "      <td>189.0</td>\n",
       "    </tr>\n",
       "    <tr>\n",
       "      <th>9</th>\n",
       "      <td>18</td>\n",
       "      <td>5400000.0</td>\n",
       "      <td>61.00</td>\n",
       "      <td>2017-02-26T00:00:00</td>\n",
       "      <td>3</td>\n",
       "      <td>2.50</td>\n",
       "      <td>9.0</td>\n",
       "      <td>43.60</td>\n",
       "      <td>7</td>\n",
       "      <td>NaN</td>\n",
       "      <td>...</td>\n",
       "      <td>6.50</td>\n",
       "      <td>2.0</td>\n",
       "      <td>Санкт-Петербург</td>\n",
       "      <td>50898.0</td>\n",
       "      <td>15008.0</td>\n",
       "      <td>0.0</td>\n",
       "      <td>NaN</td>\n",
       "      <td>0.0</td>\n",
       "      <td>NaN</td>\n",
       "      <td>289.0</td>\n",
       "    </tr>\n",
       "  </tbody>\n",
       "</table>\n",
       "<p>10 rows × 22 columns</p>\n",
       "</div>"
      ],
      "text/plain": [
       "   total_images  last_price  total_area first_day_exposition  rooms  \\\n",
       "0            20  13000000.0      108.00  2019-03-07T00:00:00      3   \n",
       "1             7   3350000.0       40.40  2018-12-04T00:00:00      1   \n",
       "2            10   5196000.0       56.00  2015-08-20T00:00:00      2   \n",
       "3             0  64900000.0      159.00  2015-07-24T00:00:00      3   \n",
       "4             2  10000000.0      100.00  2018-06-19T00:00:00      2   \n",
       "5            10   2890000.0       30.40  2018-09-10T00:00:00      1   \n",
       "6             6   3700000.0       37.30  2017-11-02T00:00:00      1   \n",
       "7             5   7915000.0       71.60  2019-04-18T00:00:00      2   \n",
       "8            20   2900000.0       33.16  2018-05-23T00:00:00      1   \n",
       "9            18   5400000.0       61.00  2017-02-26T00:00:00      3   \n",
       "\n",
       "   ceiling_height  floors_total  living_area  floor is_apartment  ...  \\\n",
       "0            2.70          16.0        51.00      8          NaN  ...   \n",
       "1             NaN          11.0        18.60      1          NaN  ...   \n",
       "2             NaN           5.0        34.30      4          NaN  ...   \n",
       "3             NaN          14.0          NaN      9          NaN  ...   \n",
       "4            3.03          14.0        32.00     13          NaN  ...   \n",
       "5             NaN          12.0        14.40      5          NaN  ...   \n",
       "6             NaN          26.0        10.60      6          NaN  ...   \n",
       "7             NaN          24.0          NaN     22          NaN  ...   \n",
       "8             NaN          27.0        15.43     26          NaN  ...   \n",
       "9            2.50           9.0        43.60      7          NaN  ...   \n",
       "\n",
       "   kitchen_area  balcony              locality_name  airports_nearest  \\\n",
       "0         25.00      NaN            Санкт-Петербург           18863.0   \n",
       "1         11.00      2.0             посёлок Шушары           12817.0   \n",
       "2          8.30      0.0            Санкт-Петербург           21741.0   \n",
       "3           NaN      0.0            Санкт-Петербург           28098.0   \n",
       "4         41.00      NaN            Санкт-Петербург           31856.0   \n",
       "5          9.10      NaN  городской посёлок Янино-1               NaN   \n",
       "6         14.40      1.0          посёлок Парголово           52996.0   \n",
       "7         18.90      2.0            Санкт-Петербург           23982.0   \n",
       "8          8.81      NaN             посёлок Мурино               NaN   \n",
       "9          6.50      2.0            Санкт-Петербург           50898.0   \n",
       "\n",
       "  cityCenters_nearest  parks_around3000  parks_nearest  ponds_around3000  \\\n",
       "0             16028.0               1.0          482.0               2.0   \n",
       "1             18603.0               0.0            NaN               0.0   \n",
       "2             13933.0               1.0           90.0               2.0   \n",
       "3              6800.0               2.0           84.0               3.0   \n",
       "4              8098.0               2.0          112.0               1.0   \n",
       "5                 NaN               NaN            NaN               NaN   \n",
       "6             19143.0               0.0            NaN               0.0   \n",
       "7             11634.0               0.0            NaN               0.0   \n",
       "8                 NaN               NaN            NaN               NaN   \n",
       "9             15008.0               0.0            NaN               0.0   \n",
       "\n",
       "   ponds_nearest  days_exposition  \n",
       "0          755.0              NaN  \n",
       "1            NaN             81.0  \n",
       "2          574.0            558.0  \n",
       "3          234.0            424.0  \n",
       "4           48.0            121.0  \n",
       "5            NaN             55.0  \n",
       "6            NaN            155.0  \n",
       "7            NaN              NaN  \n",
       "8            NaN            189.0  \n",
       "9            NaN            289.0  \n",
       "\n",
       "[10 rows x 22 columns]"
      ]
     },
     "execution_count": 3,
     "metadata": {},
     "output_type": "execute_result"
    }
   ],
   "source": [
    "data.head(10)"
   ]
  },
  {
   "cell_type": "markdown",
   "id": "19ffa765",
   "metadata": {},
   "source": [
    "# Предобработка данных"
   ]
  },
  {
   "cell_type": "code",
   "execution_count": 4,
   "id": "03794b27",
   "metadata": {},
   "outputs": [
    {
     "name": "stdout",
     "output_type": "stream",
     "text": [
      "<class 'pandas.core.frame.DataFrame'>\n",
      "RangeIndex: 23699 entries, 0 to 23698\n",
      "Data columns (total 22 columns):\n",
      " #   Column                Non-Null Count  Dtype  \n",
      "---  ------                --------------  -----  \n",
      " 0   total_images          23699 non-null  int64  \n",
      " 1   last_price            23699 non-null  float64\n",
      " 2   total_area            23699 non-null  float64\n",
      " 3   first_day_exposition  23699 non-null  object \n",
      " 4   rooms                 23699 non-null  int64  \n",
      " 5   ceiling_height        14504 non-null  float64\n",
      " 6   floors_total          23613 non-null  float64\n",
      " 7   living_area           21796 non-null  float64\n",
      " 8   floor                 23699 non-null  int64  \n",
      " 9   is_apartment          2775 non-null   object \n",
      " 10  studio                23699 non-null  bool   \n",
      " 11  open_plan             23699 non-null  bool   \n",
      " 12  kitchen_area          21421 non-null  float64\n",
      " 13  balcony               12180 non-null  float64\n",
      " 14  locality_name         23650 non-null  object \n",
      " 15  airports_nearest      18157 non-null  float64\n",
      " 16  cityCenters_nearest   18180 non-null  float64\n",
      " 17  parks_around3000      18181 non-null  float64\n",
      " 18  parks_nearest         8079 non-null   float64\n",
      " 19  ponds_around3000      18181 non-null  float64\n",
      " 20  ponds_nearest         9110 non-null   float64\n",
      " 21  days_exposition       20518 non-null  float64\n",
      "dtypes: bool(2), float64(14), int64(3), object(3)\n",
      "memory usage: 3.7+ MB\n"
     ]
    }
   ],
   "source": [
    "data.info()"
   ]
  },
  {
   "cell_type": "code",
   "execution_count": 5,
   "id": "4ca572e3",
   "metadata": {},
   "outputs": [
    {
     "data": {
      "text/html": [
       "<style  type=\"text/css\" >\n",
       "#T_a4d6f_row0_col0{\n",
       "            background-color:  #b40426;\n",
       "            color:  #f1f1f1;\n",
       "        }#T_a4d6f_row1_col0{\n",
       "            background-color:  #f49a7b;\n",
       "            color:  #000000;\n",
       "        }#T_a4d6f_row2_col0{\n",
       "            background-color:  #f7ad90;\n",
       "            color:  #000000;\n",
       "        }#T_a4d6f_row3_col0{\n",
       "            background-color:  #e9d5cb;\n",
       "            color:  #000000;\n",
       "        }#T_a4d6f_row4_col0{\n",
       "            background-color:  #ccd9ed;\n",
       "            color:  #000000;\n",
       "        }#T_a4d6f_row5_col0,#T_a4d6f_row6_col0,#T_a4d6f_row7_col0,#T_a4d6f_row8_col0{\n",
       "            background-color:  #92b4fe;\n",
       "            color:  #000000;\n",
       "        }#T_a4d6f_row9_col0{\n",
       "            background-color:  #6a8bef;\n",
       "            color:  #000000;\n",
       "        }#T_a4d6f_row10_col0{\n",
       "            background-color:  #5b7ae5;\n",
       "            color:  #000000;\n",
       "        }#T_a4d6f_row11_col0{\n",
       "            background-color:  #5673e0;\n",
       "            color:  #000000;\n",
       "        }#T_a4d6f_row12_col0{\n",
       "            background-color:  #3c4ec2;\n",
       "            color:  #f1f1f1;\n",
       "        }#T_a4d6f_row13_col0,#T_a4d6f_row14_col0,#T_a4d6f_row15_col0,#T_a4d6f_row16_col0,#T_a4d6f_row17_col0,#T_a4d6f_row18_col0,#T_a4d6f_row19_col0,#T_a4d6f_row20_col0,#T_a4d6f_row21_col0{\n",
       "            background-color:  #3b4cc0;\n",
       "            color:  #f1f1f1;\n",
       "        }</style><table id=\"T_a4d6f_\" ><thead>    <tr>        <th class=\"blank level0\" ></th>        <th class=\"col_heading level0 col0\" >0</th>    </tr></thead><tbody>\n",
       "                <tr>\n",
       "                        <th id=\"T_a4d6f_level0_row0\" class=\"row_heading level0 row0\" >is_apartment</th>\n",
       "                        <td id=\"T_a4d6f_row0_col0\" class=\"data row0 col0\" >88.290000</td>\n",
       "            </tr>\n",
       "            <tr>\n",
       "                        <th id=\"T_a4d6f_level0_row1\" class=\"row_heading level0 row1\" >parks_nearest</th>\n",
       "                        <td id=\"T_a4d6f_row1_col0\" class=\"data row1 col0\" >65.910000</td>\n",
       "            </tr>\n",
       "            <tr>\n",
       "                        <th id=\"T_a4d6f_level0_row2\" class=\"row_heading level0 row2\" >ponds_nearest</th>\n",
       "                        <td id=\"T_a4d6f_row2_col0\" class=\"data row2 col0\" >61.560000</td>\n",
       "            </tr>\n",
       "            <tr>\n",
       "                        <th id=\"T_a4d6f_level0_row3\" class=\"row_heading level0 row3\" >balcony</th>\n",
       "                        <td id=\"T_a4d6f_row3_col0\" class=\"data row3 col0\" >48.610000</td>\n",
       "            </tr>\n",
       "            <tr>\n",
       "                        <th id=\"T_a4d6f_level0_row4\" class=\"row_heading level0 row4\" >ceiling_height</th>\n",
       "                        <td id=\"T_a4d6f_row4_col0\" class=\"data row4 col0\" >38.800000</td>\n",
       "            </tr>\n",
       "            <tr>\n",
       "                        <th id=\"T_a4d6f_level0_row5\" class=\"row_heading level0 row5\" >airports_nearest</th>\n",
       "                        <td id=\"T_a4d6f_row5_col0\" class=\"data row5 col0\" >23.380000</td>\n",
       "            </tr>\n",
       "            <tr>\n",
       "                        <th id=\"T_a4d6f_level0_row6\" class=\"row_heading level0 row6\" >cityCenters_nearest</th>\n",
       "                        <td id=\"T_a4d6f_row6_col0\" class=\"data row6 col0\" >23.290000</td>\n",
       "            </tr>\n",
       "            <tr>\n",
       "                        <th id=\"T_a4d6f_level0_row7\" class=\"row_heading level0 row7\" >parks_around3000</th>\n",
       "                        <td id=\"T_a4d6f_row7_col0\" class=\"data row7 col0\" >23.280000</td>\n",
       "            </tr>\n",
       "            <tr>\n",
       "                        <th id=\"T_a4d6f_level0_row8\" class=\"row_heading level0 row8\" >ponds_around3000</th>\n",
       "                        <td id=\"T_a4d6f_row8_col0\" class=\"data row8 col0\" >23.280000</td>\n",
       "            </tr>\n",
       "            <tr>\n",
       "                        <th id=\"T_a4d6f_level0_row9\" class=\"row_heading level0 row9\" >days_exposition</th>\n",
       "                        <td id=\"T_a4d6f_row9_col0\" class=\"data row9 col0\" >13.420000</td>\n",
       "            </tr>\n",
       "            <tr>\n",
       "                        <th id=\"T_a4d6f_level0_row10\" class=\"row_heading level0 row10\" >kitchen_area</th>\n",
       "                        <td id=\"T_a4d6f_row10_col0\" class=\"data row10 col0\" >9.610000</td>\n",
       "            </tr>\n",
       "            <tr>\n",
       "                        <th id=\"T_a4d6f_level0_row11\" class=\"row_heading level0 row11\" >living_area</th>\n",
       "                        <td id=\"T_a4d6f_row11_col0\" class=\"data row11 col0\" >8.030000</td>\n",
       "            </tr>\n",
       "            <tr>\n",
       "                        <th id=\"T_a4d6f_level0_row12\" class=\"row_heading level0 row12\" >floors_total</th>\n",
       "                        <td id=\"T_a4d6f_row12_col0\" class=\"data row12 col0\" >0.360000</td>\n",
       "            </tr>\n",
       "            <tr>\n",
       "                        <th id=\"T_a4d6f_level0_row13\" class=\"row_heading level0 row13\" >locality_name</th>\n",
       "                        <td id=\"T_a4d6f_row13_col0\" class=\"data row13 col0\" >0.210000</td>\n",
       "            </tr>\n",
       "            <tr>\n",
       "                        <th id=\"T_a4d6f_level0_row14\" class=\"row_heading level0 row14\" >first_day_exposition</th>\n",
       "                        <td id=\"T_a4d6f_row14_col0\" class=\"data row14 col0\" >0.000000</td>\n",
       "            </tr>\n",
       "            <tr>\n",
       "                        <th id=\"T_a4d6f_level0_row15\" class=\"row_heading level0 row15\" >last_price</th>\n",
       "                        <td id=\"T_a4d6f_row15_col0\" class=\"data row15 col0\" >0.000000</td>\n",
       "            </tr>\n",
       "            <tr>\n",
       "                        <th id=\"T_a4d6f_level0_row16\" class=\"row_heading level0 row16\" >total_area</th>\n",
       "                        <td id=\"T_a4d6f_row16_col0\" class=\"data row16 col0\" >0.000000</td>\n",
       "            </tr>\n",
       "            <tr>\n",
       "                        <th id=\"T_a4d6f_level0_row17\" class=\"row_heading level0 row17\" >studio</th>\n",
       "                        <td id=\"T_a4d6f_row17_col0\" class=\"data row17 col0\" >0.000000</td>\n",
       "            </tr>\n",
       "            <tr>\n",
       "                        <th id=\"T_a4d6f_level0_row18\" class=\"row_heading level0 row18\" >rooms</th>\n",
       "                        <td id=\"T_a4d6f_row18_col0\" class=\"data row18 col0\" >0.000000</td>\n",
       "            </tr>\n",
       "            <tr>\n",
       "                        <th id=\"T_a4d6f_level0_row19\" class=\"row_heading level0 row19\" >floor</th>\n",
       "                        <td id=\"T_a4d6f_row19_col0\" class=\"data row19 col0\" >0.000000</td>\n",
       "            </tr>\n",
       "            <tr>\n",
       "                        <th id=\"T_a4d6f_level0_row20\" class=\"row_heading level0 row20\" >open_plan</th>\n",
       "                        <td id=\"T_a4d6f_row20_col0\" class=\"data row20 col0\" >0.000000</td>\n",
       "            </tr>\n",
       "            <tr>\n",
       "                        <th id=\"T_a4d6f_level0_row21\" class=\"row_heading level0 row21\" >total_images</th>\n",
       "                        <td id=\"T_a4d6f_row21_col0\" class=\"data row21 col0\" >0.000000</td>\n",
       "            </tr>\n",
       "    </tbody></table>"
      ],
      "text/plain": [
       "<pandas.io.formats.style.Styler at 0x7fcbe2776e80>"
      ]
     },
     "execution_count": 5,
     "metadata": {},
     "output_type": "execute_result"
    }
   ],
   "source": [
    "pd.DataFrame(data.isna().mean().round(4)*100).sort_values(by=0)[::-1].style.background_gradient('coolwarm')"
   ]
  },
  {
   "cell_type": "markdown",
   "id": "4423c5a4",
   "metadata": {},
   "source": [
    "Есть пропуски в ceiling_height(высота потолков) - эти данные понадобяться для анализа сегмента квартир в центре. Среднее или медиану лучше не применять, так как в центре высокие потолки, что нельзя сказать о квартирах удаленных от центра. И медиана или среднее могут повлиять на качество анализа. \n",
    "\n",
    "floors_total(всего этажей в доме). Здесь пропуски также не заполнить медианным или средним значением, так как в центре этажность составляет около 3-5 этажей, а на окраине высокоэтажки от 12 этажей и выше. \n",
    "\n",
    "living_area(жилая площадь) - здесь пропуски могут быть обусловлены тем, что если это апартаменты, то невозможно указать жилую площадь, так как это нежилые помещения, но имеют необходимые условия для проживания. Если не апартаменты, то пропуски также могут быть связаны с тем, что квартира может быть по типу евро, когда кухня объеденена с гостиной. Гостиная относится к жилой, а вот кухня нет.\n",
    "\n",
    "is_apartment(апартаменты) - логически, если это апартаменты то True, если нет, то может быть пропуск (не отметили как апартаменты), либо False. Считаю правильным заполнить пропуски значением False. \n",
    "\n",
    "kitchen_area(площадь кухни) - также может быть пропуск если речь идет о апартаментах, студии или евро-планировки(где гостиная совмещена с кухней). Не стоит заполнять эти пропуски. \n",
    "\n",
    "balcony(число балконов) - пропуск может быть обусловлен тем, что отсутствует вовсе. Поэтому можно заменить все пропуски на 0. \n",
    "\n",
    "locality_name(название населенного пункта) - таких пропусков всего 49 шт. лучше избавиться от пропущенных значений. \n",
    "\n",
    "airports_nearest(расстояние до ближайшего аэрапорта в метрах), parks_around3000(число парков в радиусе 3 км), parks_nearest(расстояние до ближайшего парка), ponds_around3000(число водоемов в радиусе 3 км.), ponds_nearest(расстояние до ближайшего водоема) - эти данные не нужны для анализа.\n",
    "\n",
    "cityCenters_nearest(расстояние до центра города) - возможно недвижимость находится очень далеко от центра и нет смысла указывать в метрах расстояние. Здесь логически ничем не заменить пропуски. \n",
    "\n",
    "days_exposition(сколько дней было размещено объявление) - возможно объявление было размещено всего пару часов и удалено в связи с доработкой. Думаю стоит заменить пропуски на 0 и привести к целому числу. "
   ]
  },
  {
   "cell_type": "code",
   "execution_count": 6,
   "id": "ab6917a7",
   "metadata": {},
   "outputs": [
    {
     "data": {
      "text/html": [
       "<div>\n",
       "<style scoped>\n",
       "    .dataframe tbody tr th:only-of-type {\n",
       "        vertical-align: middle;\n",
       "    }\n",
       "\n",
       "    .dataframe tbody tr th {\n",
       "        vertical-align: top;\n",
       "    }\n",
       "\n",
       "    .dataframe thead th {\n",
       "        text-align: right;\n",
       "    }\n",
       "</style>\n",
       "<table border=\"1\" class=\"dataframe\">\n",
       "  <thead>\n",
       "    <tr style=\"text-align: right;\">\n",
       "      <th></th>\n",
       "      <th>total_images</th>\n",
       "      <th>last_price</th>\n",
       "      <th>total_area</th>\n",
       "      <th>first_day_exposition</th>\n",
       "      <th>rooms</th>\n",
       "      <th>ceiling_height</th>\n",
       "      <th>floors_total</th>\n",
       "      <th>living_area</th>\n",
       "      <th>floor</th>\n",
       "      <th>is_apartment</th>\n",
       "      <th>...</th>\n",
       "      <th>kitchen_area</th>\n",
       "      <th>balcony</th>\n",
       "      <th>locality_name</th>\n",
       "      <th>airports_nearest</th>\n",
       "      <th>cityCenters_nearest</th>\n",
       "      <th>parks_around3000</th>\n",
       "      <th>parks_nearest</th>\n",
       "      <th>ponds_around3000</th>\n",
       "      <th>ponds_nearest</th>\n",
       "      <th>days_exposition</th>\n",
       "    </tr>\n",
       "  </thead>\n",
       "  <tbody>\n",
       "    <tr>\n",
       "      <th>0</th>\n",
       "      <td>20</td>\n",
       "      <td>13000000.0</td>\n",
       "      <td>108.00</td>\n",
       "      <td>2019-03-07T00:00:00</td>\n",
       "      <td>3</td>\n",
       "      <td>2.70</td>\n",
       "      <td>16.0</td>\n",
       "      <td>51.0</td>\n",
       "      <td>8</td>\n",
       "      <td>NaN</td>\n",
       "      <td>...</td>\n",
       "      <td>25.00</td>\n",
       "      <td>NaN</td>\n",
       "      <td>Санкт-Петербург</td>\n",
       "      <td>18863.0</td>\n",
       "      <td>16028.0</td>\n",
       "      <td>1.0</td>\n",
       "      <td>482.0</td>\n",
       "      <td>2.0</td>\n",
       "      <td>755.0</td>\n",
       "      <td>NaN</td>\n",
       "    </tr>\n",
       "    <tr>\n",
       "      <th>1</th>\n",
       "      <td>7</td>\n",
       "      <td>3350000.0</td>\n",
       "      <td>40.40</td>\n",
       "      <td>2018-12-04T00:00:00</td>\n",
       "      <td>1</td>\n",
       "      <td>NaN</td>\n",
       "      <td>11.0</td>\n",
       "      <td>18.6</td>\n",
       "      <td>1</td>\n",
       "      <td>NaN</td>\n",
       "      <td>...</td>\n",
       "      <td>11.00</td>\n",
       "      <td>2.0</td>\n",
       "      <td>посёлок Шушары</td>\n",
       "      <td>12817.0</td>\n",
       "      <td>18603.0</td>\n",
       "      <td>0.0</td>\n",
       "      <td>NaN</td>\n",
       "      <td>0.0</td>\n",
       "      <td>NaN</td>\n",
       "      <td>81.0</td>\n",
       "    </tr>\n",
       "    <tr>\n",
       "      <th>2</th>\n",
       "      <td>10</td>\n",
       "      <td>5196000.0</td>\n",
       "      <td>56.00</td>\n",
       "      <td>2015-08-20T00:00:00</td>\n",
       "      <td>2</td>\n",
       "      <td>NaN</td>\n",
       "      <td>5.0</td>\n",
       "      <td>34.3</td>\n",
       "      <td>4</td>\n",
       "      <td>NaN</td>\n",
       "      <td>...</td>\n",
       "      <td>8.30</td>\n",
       "      <td>0.0</td>\n",
       "      <td>Санкт-Петербург</td>\n",
       "      <td>21741.0</td>\n",
       "      <td>13933.0</td>\n",
       "      <td>1.0</td>\n",
       "      <td>90.0</td>\n",
       "      <td>2.0</td>\n",
       "      <td>574.0</td>\n",
       "      <td>558.0</td>\n",
       "    </tr>\n",
       "    <tr>\n",
       "      <th>3</th>\n",
       "      <td>0</td>\n",
       "      <td>64900000.0</td>\n",
       "      <td>159.00</td>\n",
       "      <td>2015-07-24T00:00:00</td>\n",
       "      <td>3</td>\n",
       "      <td>NaN</td>\n",
       "      <td>14.0</td>\n",
       "      <td>NaN</td>\n",
       "      <td>9</td>\n",
       "      <td>NaN</td>\n",
       "      <td>...</td>\n",
       "      <td>NaN</td>\n",
       "      <td>0.0</td>\n",
       "      <td>Санкт-Петербург</td>\n",
       "      <td>28098.0</td>\n",
       "      <td>6800.0</td>\n",
       "      <td>2.0</td>\n",
       "      <td>84.0</td>\n",
       "      <td>3.0</td>\n",
       "      <td>234.0</td>\n",
       "      <td>424.0</td>\n",
       "    </tr>\n",
       "    <tr>\n",
       "      <th>4</th>\n",
       "      <td>2</td>\n",
       "      <td>10000000.0</td>\n",
       "      <td>100.00</td>\n",
       "      <td>2018-06-19T00:00:00</td>\n",
       "      <td>2</td>\n",
       "      <td>3.03</td>\n",
       "      <td>14.0</td>\n",
       "      <td>32.0</td>\n",
       "      <td>13</td>\n",
       "      <td>NaN</td>\n",
       "      <td>...</td>\n",
       "      <td>41.00</td>\n",
       "      <td>NaN</td>\n",
       "      <td>Санкт-Петербург</td>\n",
       "      <td>31856.0</td>\n",
       "      <td>8098.0</td>\n",
       "      <td>2.0</td>\n",
       "      <td>112.0</td>\n",
       "      <td>1.0</td>\n",
       "      <td>48.0</td>\n",
       "      <td>121.0</td>\n",
       "    </tr>\n",
       "    <tr>\n",
       "      <th>...</th>\n",
       "      <td>...</td>\n",
       "      <td>...</td>\n",
       "      <td>...</td>\n",
       "      <td>...</td>\n",
       "      <td>...</td>\n",
       "      <td>...</td>\n",
       "      <td>...</td>\n",
       "      <td>...</td>\n",
       "      <td>...</td>\n",
       "      <td>...</td>\n",
       "      <td>...</td>\n",
       "      <td>...</td>\n",
       "      <td>...</td>\n",
       "      <td>...</td>\n",
       "      <td>...</td>\n",
       "      <td>...</td>\n",
       "      <td>...</td>\n",
       "      <td>...</td>\n",
       "      <td>...</td>\n",
       "      <td>...</td>\n",
       "      <td>...</td>\n",
       "    </tr>\n",
       "    <tr>\n",
       "      <th>23694</th>\n",
       "      <td>9</td>\n",
       "      <td>9700000.0</td>\n",
       "      <td>133.81</td>\n",
       "      <td>2017-03-21T00:00:00</td>\n",
       "      <td>3</td>\n",
       "      <td>3.70</td>\n",
       "      <td>5.0</td>\n",
       "      <td>73.3</td>\n",
       "      <td>3</td>\n",
       "      <td>NaN</td>\n",
       "      <td>...</td>\n",
       "      <td>13.83</td>\n",
       "      <td>NaN</td>\n",
       "      <td>Санкт-Петербург</td>\n",
       "      <td>24665.0</td>\n",
       "      <td>4232.0</td>\n",
       "      <td>1.0</td>\n",
       "      <td>796.0</td>\n",
       "      <td>3.0</td>\n",
       "      <td>381.0</td>\n",
       "      <td>NaN</td>\n",
       "    </tr>\n",
       "    <tr>\n",
       "      <th>23695</th>\n",
       "      <td>14</td>\n",
       "      <td>3100000.0</td>\n",
       "      <td>59.00</td>\n",
       "      <td>2018-01-15T00:00:00</td>\n",
       "      <td>3</td>\n",
       "      <td>NaN</td>\n",
       "      <td>5.0</td>\n",
       "      <td>38.0</td>\n",
       "      <td>4</td>\n",
       "      <td>NaN</td>\n",
       "      <td>...</td>\n",
       "      <td>8.50</td>\n",
       "      <td>NaN</td>\n",
       "      <td>Тосно</td>\n",
       "      <td>NaN</td>\n",
       "      <td>NaN</td>\n",
       "      <td>NaN</td>\n",
       "      <td>NaN</td>\n",
       "      <td>NaN</td>\n",
       "      <td>NaN</td>\n",
       "      <td>45.0</td>\n",
       "    </tr>\n",
       "    <tr>\n",
       "      <th>23696</th>\n",
       "      <td>18</td>\n",
       "      <td>2500000.0</td>\n",
       "      <td>56.70</td>\n",
       "      <td>2018-02-11T00:00:00</td>\n",
       "      <td>2</td>\n",
       "      <td>NaN</td>\n",
       "      <td>3.0</td>\n",
       "      <td>29.7</td>\n",
       "      <td>1</td>\n",
       "      <td>NaN</td>\n",
       "      <td>...</td>\n",
       "      <td>NaN</td>\n",
       "      <td>NaN</td>\n",
       "      <td>село Рождествено</td>\n",
       "      <td>NaN</td>\n",
       "      <td>NaN</td>\n",
       "      <td>NaN</td>\n",
       "      <td>NaN</td>\n",
       "      <td>NaN</td>\n",
       "      <td>NaN</td>\n",
       "      <td>NaN</td>\n",
       "    </tr>\n",
       "    <tr>\n",
       "      <th>23697</th>\n",
       "      <td>13</td>\n",
       "      <td>11475000.0</td>\n",
       "      <td>76.75</td>\n",
       "      <td>2017-03-28T00:00:00</td>\n",
       "      <td>2</td>\n",
       "      <td>3.00</td>\n",
       "      <td>17.0</td>\n",
       "      <td>NaN</td>\n",
       "      <td>12</td>\n",
       "      <td>NaN</td>\n",
       "      <td>...</td>\n",
       "      <td>23.30</td>\n",
       "      <td>2.0</td>\n",
       "      <td>Санкт-Петербург</td>\n",
       "      <td>39140.0</td>\n",
       "      <td>10364.0</td>\n",
       "      <td>2.0</td>\n",
       "      <td>173.0</td>\n",
       "      <td>3.0</td>\n",
       "      <td>196.0</td>\n",
       "      <td>602.0</td>\n",
       "    </tr>\n",
       "    <tr>\n",
       "      <th>23698</th>\n",
       "      <td>4</td>\n",
       "      <td>1350000.0</td>\n",
       "      <td>32.30</td>\n",
       "      <td>2017-07-21T00:00:00</td>\n",
       "      <td>1</td>\n",
       "      <td>2.50</td>\n",
       "      <td>5.0</td>\n",
       "      <td>12.3</td>\n",
       "      <td>1</td>\n",
       "      <td>NaN</td>\n",
       "      <td>...</td>\n",
       "      <td>9.00</td>\n",
       "      <td>NaN</td>\n",
       "      <td>поселок Новый Учхоз</td>\n",
       "      <td>NaN</td>\n",
       "      <td>NaN</td>\n",
       "      <td>NaN</td>\n",
       "      <td>NaN</td>\n",
       "      <td>NaN</td>\n",
       "      <td>NaN</td>\n",
       "      <td>NaN</td>\n",
       "    </tr>\n",
       "  </tbody>\n",
       "</table>\n",
       "<p>23650 rows × 22 columns</p>\n",
       "</div>"
      ],
      "text/plain": [
       "       total_images  last_price  total_area first_day_exposition  rooms  \\\n",
       "0                20  13000000.0      108.00  2019-03-07T00:00:00      3   \n",
       "1                 7   3350000.0       40.40  2018-12-04T00:00:00      1   \n",
       "2                10   5196000.0       56.00  2015-08-20T00:00:00      2   \n",
       "3                 0  64900000.0      159.00  2015-07-24T00:00:00      3   \n",
       "4                 2  10000000.0      100.00  2018-06-19T00:00:00      2   \n",
       "...             ...         ...         ...                  ...    ...   \n",
       "23694             9   9700000.0      133.81  2017-03-21T00:00:00      3   \n",
       "23695            14   3100000.0       59.00  2018-01-15T00:00:00      3   \n",
       "23696            18   2500000.0       56.70  2018-02-11T00:00:00      2   \n",
       "23697            13  11475000.0       76.75  2017-03-28T00:00:00      2   \n",
       "23698             4   1350000.0       32.30  2017-07-21T00:00:00      1   \n",
       "\n",
       "       ceiling_height  floors_total  living_area  floor is_apartment  ...  \\\n",
       "0                2.70          16.0         51.0      8          NaN  ...   \n",
       "1                 NaN          11.0         18.6      1          NaN  ...   \n",
       "2                 NaN           5.0         34.3      4          NaN  ...   \n",
       "3                 NaN          14.0          NaN      9          NaN  ...   \n",
       "4                3.03          14.0         32.0     13          NaN  ...   \n",
       "...               ...           ...          ...    ...          ...  ...   \n",
       "23694            3.70           5.0         73.3      3          NaN  ...   \n",
       "23695             NaN           5.0         38.0      4          NaN  ...   \n",
       "23696             NaN           3.0         29.7      1          NaN  ...   \n",
       "23697            3.00          17.0          NaN     12          NaN  ...   \n",
       "23698            2.50           5.0         12.3      1          NaN  ...   \n",
       "\n",
       "       kitchen_area  balcony        locality_name  airports_nearest  \\\n",
       "0             25.00      NaN      Санкт-Петербург           18863.0   \n",
       "1             11.00      2.0       посёлок Шушары           12817.0   \n",
       "2              8.30      0.0      Санкт-Петербург           21741.0   \n",
       "3               NaN      0.0      Санкт-Петербург           28098.0   \n",
       "4             41.00      NaN      Санкт-Петербург           31856.0   \n",
       "...             ...      ...                  ...               ...   \n",
       "23694         13.83      NaN      Санкт-Петербург           24665.0   \n",
       "23695          8.50      NaN                Тосно               NaN   \n",
       "23696           NaN      NaN     село Рождествено               NaN   \n",
       "23697         23.30      2.0      Санкт-Петербург           39140.0   \n",
       "23698          9.00      NaN  поселок Новый Учхоз               NaN   \n",
       "\n",
       "      cityCenters_nearest  parks_around3000  parks_nearest  ponds_around3000  \\\n",
       "0                 16028.0               1.0          482.0               2.0   \n",
       "1                 18603.0               0.0            NaN               0.0   \n",
       "2                 13933.0               1.0           90.0               2.0   \n",
       "3                  6800.0               2.0           84.0               3.0   \n",
       "4                  8098.0               2.0          112.0               1.0   \n",
       "...                   ...               ...            ...               ...   \n",
       "23694              4232.0               1.0          796.0               3.0   \n",
       "23695                 NaN               NaN            NaN               NaN   \n",
       "23696                 NaN               NaN            NaN               NaN   \n",
       "23697             10364.0               2.0          173.0               3.0   \n",
       "23698                 NaN               NaN            NaN               NaN   \n",
       "\n",
       "       ponds_nearest  days_exposition  \n",
       "0              755.0              NaN  \n",
       "1                NaN             81.0  \n",
       "2              574.0            558.0  \n",
       "3              234.0            424.0  \n",
       "4               48.0            121.0  \n",
       "...              ...              ...  \n",
       "23694          381.0              NaN  \n",
       "23695            NaN             45.0  \n",
       "23696            NaN              NaN  \n",
       "23697          196.0            602.0  \n",
       "23698            NaN              NaN  \n",
       "\n",
       "[23650 rows x 22 columns]"
      ]
     },
     "execution_count": 6,
     "metadata": {},
     "output_type": "execute_result"
    }
   ],
   "source": [
    "data.dropna(subset=['locality_name'])"
   ]
  },
  {
   "cell_type": "code",
   "execution_count": 7,
   "id": "a89af34e",
   "metadata": {},
   "outputs": [],
   "source": [
    "data['locality_name'] = data['locality_name'].astype('str')"
   ]
  },
  {
   "cell_type": "markdown",
   "id": "58814012",
   "metadata": {},
   "source": [
    "## Заполнение пропусков"
   ]
  },
  {
   "cell_type": "code",
   "execution_count": 8,
   "id": "caea3c57",
   "metadata": {},
   "outputs": [],
   "source": [
    "data['is_apartment'] = data['is_apartment'].fillna('False')"
   ]
  },
  {
   "cell_type": "code",
   "execution_count": 9,
   "id": "8cfbdb36",
   "metadata": {},
   "outputs": [],
   "source": [
    "data['balcony'] = data['balcony'].fillna(0).astype('int')"
   ]
  },
  {
   "cell_type": "code",
   "execution_count": 10,
   "id": "2865c21b",
   "metadata": {},
   "outputs": [],
   "source": [
    "data['days_exposition'] = data['days_exposition'].fillna(0).astype('int')"
   ]
  },
  {
   "cell_type": "markdown",
   "id": "c4a6a5ff",
   "metadata": {},
   "source": [
    "## Поиск явных и неявнях дубликатов"
   ]
  },
  {
   "cell_type": "code",
   "execution_count": 11,
   "id": "8ff3bd8c",
   "metadata": {},
   "outputs": [
    {
     "name": "stdout",
     "output_type": "stream",
     "text": [
      "0\n"
     ]
    }
   ],
   "source": [
    "print(data.duplicated().sum()) "
   ]
  },
  {
   "cell_type": "code",
   "execution_count": 12,
   "id": "17ad1e45",
   "metadata": {
    "scrolled": true
   },
   "outputs": [
    {
     "name": "stdout",
     "output_type": "stream",
     "text": [
      "['nan', 'Бокситогорск', 'Волосово', 'Волхов', 'Всеволожск', 'Выборг', 'Высоцк', 'Гатчина', 'Зеленогорск', 'Ивангород', 'Каменногорск', 'Кингисепп', 'Кириши', 'Кировск', 'Колпино', 'Коммунар', 'Красное Село', 'Кронштадт', 'Кудрово', 'Лодейное Поле', 'Ломоносов', 'Луга', 'Любань', 'Мурино', 'Никольское', 'Новая Ладога', 'Отрадное', 'Павловск', 'Петергоф', 'Пикалёво', 'Подпорожье', 'Приморск', 'Приозерск', 'Пушкин', 'Санкт-Петербург', 'Светогорск', 'Сертолово', 'Сестрорецк', 'Сланцы', 'Сосновый Бор', 'Сясьстрой', 'Тихвин', 'Тосно', 'Шлиссельбург', 'городской поселок Большая Ижора', 'городской поселок Янино-1', 'городской посёлок Будогощь', 'городской посёлок Виллози', 'городской посёлок Лесогорский', 'городской посёлок Мга', 'городской посёлок Назия', 'городской посёлок Новоселье', 'городской посёлок Павлово', 'городской посёлок Рощино', 'городской посёлок Свирьстрой', 'городской посёлок Советский', 'городской посёлок Фёдоровское', 'городской посёлок Янино-1', 'деревня Агалатово', 'деревня Аро', 'деревня Батово', 'деревня Бегуницы', 'деревня Белогорка', 'деревня Большая Вруда', 'деревня Большая Пустомержа', 'деревня Большие Колпаны', 'деревня Большое Рейзино', 'деревня Большой Сабск', 'деревня Бор', 'деревня Борисова Грива', 'деревня Ваганово', 'деревня Вартемяги', 'деревня Вахнова Кара', 'деревня Выскатка', 'деревня Гарболово', 'деревня Глинка', 'деревня Горбунки', 'деревня Гостилицы', 'деревня Заклинье', 'деревня Заневка', 'деревня Зимитицы', 'деревня Извара', 'деревня Иссад', 'деревня Калитино', 'деревня Кальтино', 'деревня Камышовка', 'деревня Каськово', 'деревня Келози', 'деревня Кипень', 'деревня Кисельня', 'деревня Колтуши', 'деревня Коркино', 'деревня Котлы', 'деревня Кривко', 'деревня Кудрово', 'деревня Кузьмолово', 'деревня Курковицы', 'деревня Куровицы', 'деревня Куттузи', 'деревня Лаврики', 'деревня Лаголово', 'деревня Лампово', 'деревня Лесколово', 'деревня Лопухинка', 'деревня Лупполово', 'деревня Малая Романовка', 'деревня Малое Верево', 'деревня Малое Карлино', 'деревня Малые Колпаны', 'деревня Мануйлово', 'деревня Меньково', 'деревня Мины', 'деревня Мистолово', 'деревня Ненимяки', 'деревня Нижние Осельки', 'деревня Нижняя', 'деревня Низино', 'деревня Новое Девяткино', 'деревня Новолисино', 'деревня Нурма', 'деревня Оржицы', 'деревня Парицы', 'деревня Пельгора', 'деревня Пеники', 'деревня Пижма', 'деревня Пикколово', 'деревня Пудомяги', 'деревня Пустынка', 'деревня Пчева', 'деревня Рабитицы', 'деревня Разбегаево', 'деревня Раздолье', 'деревня Разметелево', 'деревня Рапполово', 'деревня Реброво', 'деревня Русско', 'деревня Сижно', 'деревня Снегирёвка', 'деревня Старая', 'деревня Старая Пустошь', 'деревня Старое Хинколово', 'деревня Старополье', 'деревня Старосиверская', 'деревня Старые Бегуницы', 'деревня Суоранда', 'деревня Сяськелево', 'деревня Тарасово', 'деревня Терпилицы', 'деревня Тихковицы', 'деревня Тойворово', 'деревня Торосово', 'деревня Торошковичи', 'деревня Трубников Бор', 'деревня Фалилеево', 'деревня Фёдоровское', 'деревня Хапо-Ое', 'деревня Хязельки', 'деревня Чудской Бор', 'деревня Шпаньково', 'деревня Щеглово', 'деревня Юкки', 'деревня Ялгино', 'деревня Яльгелево', 'деревня Ям-Тесово', 'коттеджный поселок Кивеннапа Север', 'коттеджный поселок Счастье', 'коттеджный посёлок Лесное', 'поселок Аннино', 'поселок Барышево', 'поселок Бугры', 'поселок Возрождение', 'поселок Войсковицы', 'поселок Володарское', 'поселок Гаврилово', 'поселок Гарболово', 'поселок Гладкое', 'поселок Глажево', 'поселок Глебычево', 'поселок Гончарово', 'поселок Громово', 'поселок Дружноселье', 'поселок Елизаветино', 'поселок Жилгородок', 'поселок Жилпосёлок', 'поселок Житково', 'поселок Заводской', 'поселок Запорожское', 'поселок Зимитицы', 'поселок Ильичёво', 'поселок Калитино', 'поселок Каложицы', 'поселок Кингисеппский', 'поселок Кирпичное', 'поселок Кобралово', 'поселок Кобринское', 'поселок Коммунары', 'поселок Коробицыно', 'поселок Котельский', 'поселок Красная Долина', 'поселок Красносельское', 'поселок Лесное', 'поселок Лисий Нос', 'поселок Лукаши', 'поселок Любань', 'поселок Мельниково', 'поселок Мичуринское', 'поселок Молодцово', 'поселок Мурино', 'поселок Новый Свет', 'поселок Новый Учхоз', 'поселок Оредеж', 'поселок Пансионат Зелёный Бор', 'поселок Первомайское', 'поселок Перово', 'поселок Петровское', 'поселок Победа', 'поселок Поляны', 'поселок Почап', 'поселок Починок', 'поселок Пушное', 'поселок Пчевжа', 'поселок Рабитицы', 'поселок Романовка', 'поселок Ромашки', 'поселок Рябово', 'поселок Севастьяново', 'поселок Селезнёво', 'поселок Сельцо', 'поселок Семиозерье', 'поселок Семрино', 'поселок Серебрянский', 'поселок Совхозный', 'поселок Старая Малукса', 'поселок Стеклянный', 'поселок Сумино', 'поселок Суходолье', 'поселок Тельмана', 'поселок Терволово', 'поселок Торковичи', 'поселок Тёсово-4', 'поселок Углово', 'поселок Усть-Луга', 'поселок Ушаки', 'поселок Цвелодубово', 'поселок Цвылёво', 'поселок городского типа Большая Ижора', 'поселок городского типа Вырица', 'поселок городского типа Дружная Горка', 'поселок городского типа Дубровка', 'поселок городского типа Ефимовский', 'поселок городского типа Кондратьево', 'поселок городского типа Красный Бор', 'поселок городского типа Кузьмоловский', 'поселок городского типа Лебяжье', 'поселок городского типа Лесогорский', 'поселок городского типа Назия', 'поселок городского типа Никольский', 'поселок городского типа Приладожский', 'поселок городского типа Рахья', 'поселок городского типа Рощино', 'поселок городского типа Рябово', 'поселок городского типа Синявино', 'поселок городского типа Советский', 'поселок городского типа Токсово', 'поселок городского типа Форносово', 'поселок городского типа имени Свердлова', 'поселок станции Вещево', 'поселок станции Корнево', 'поселок станции Лужайка', 'поселок станции Приветнинское', 'посёлок Александровская', 'посёлок Алексеевка', 'посёлок Аннино', 'посёлок Белоостров', 'посёлок Бугры', 'посёлок Возрождение', 'посёлок Войскорово', 'посёлок Высокоключевой', 'посёлок Гаврилово', 'посёлок Дзержинского', 'посёлок Жилгородок', 'посёлок Ильичёво', 'посёлок Кикерино', 'посёлок Кобралово', 'посёлок Коробицыно', 'посёлок Левашово', 'посёлок Ленинское', 'посёлок Лисий Нос', 'посёлок Мельниково', 'посёлок Металлострой', 'посёлок Мичуринское', 'посёлок Молодёжное', 'посёлок Мурино', 'посёлок Мыза-Ивановка', 'посёлок Новогорелово', 'посёлок Новый Свет', 'посёлок Пансионат Зелёный Бор', 'посёлок Парголово', 'посёлок Перово', 'посёлок Песочный', 'посёлок Петро-Славянка', 'посёлок Петровское', 'посёлок Платформа 69-й километр', 'посёлок Плодовое', 'посёлок Плоское', 'посёлок Победа', 'посёлок Поляны', 'посёлок Понтонный', 'посёлок Пригородный', 'посёлок Пудость', 'посёлок Репино', 'посёлок Ропша', 'посёлок Сапёрное', 'посёлок Сапёрный', 'посёлок Сосново', 'посёлок Старая Малукса', 'посёлок Стеклянный', 'посёлок Стрельна', 'посёлок Суйда', 'посёлок Сумино', 'посёлок Тельмана', 'посёлок Терволово', 'посёлок Торфяное', 'посёлок Усть-Ижора', 'посёлок Усть-Луга', 'посёлок Форт Красная Горка', 'посёлок Шугозеро', 'посёлок Шушары', 'посёлок Щеглово', 'посёлок городского типа Важины', 'посёлок городского типа Вознесенье', 'посёлок городского типа Вырица', 'посёлок городского типа Красный Бор', 'посёлок городского типа Кузнечное', 'посёлок городского типа Кузьмоловский', 'посёлок городского типа Лебяжье', 'посёлок городского типа Мга', 'посёлок городского типа Павлово', 'посёлок городского типа Рощино', 'посёлок городского типа Рябово', 'посёлок городского типа Сиверский', 'посёлок городского типа Тайцы', 'посёлок городского типа Токсово', 'посёлок городского типа Ульяновка', 'посёлок городского типа Форносово', 'посёлок городского типа имени Морозова', 'посёлок городского типа имени Свердлова', 'посёлок при железнодорожной станции Вещево', 'посёлок при железнодорожной станции Приветнинское', 'посёлок станции Громово', 'посёлок станции Свирь', 'садоводческое некоммерческое товарищество Лесная Поляна', 'садовое товарищество Новая Ропша', 'садовое товарищество Приладожский', 'садовое товарищество Рахья', 'садовое товарищество Садко', 'село Копорье', 'село Никольское', 'село Павлово', 'село Паша', 'село Путилово', 'село Рождествено', 'село Русско-Высоцкое', 'село Старая Ладога', 'село Шум']\n"
     ]
    }
   ],
   "source": [
    "print(sorted(data['locality_name'].unique()))"
   ]
  },
  {
   "cell_type": "code",
   "execution_count": 13,
   "id": "1cad8b00",
   "metadata": {},
   "outputs": [],
   "source": [
    "data['locality_name'] = data['locality_name'].str.replace('ё', 'е')\n",
    "words_to_delete = ['городской поселок', 'деревня', 'городской','поселок', 'городского типа','садовое товарищество','село','станции','при железнодорожной','садовое товарищество','коттеджный','Пансионат','садоводческое некоммерческое товарищество','садовое товарищество']\n",
    "for word in words_to_delete:\n",
    "    data['locality_name'] = data['locality_name'].str.replace(word,'')\n",
    "data['locality_name'] = data['locality_name'].str.replace('О', 'о')"
   ]
  },
  {
   "cell_type": "markdown",
   "id": "527e05e1",
   "metadata": {},
   "source": [
    "## Добавляем столбцы для расчетов"
   ]
  },
  {
   "cell_type": "code",
   "execution_count": 14,
   "id": "6136a25e",
   "metadata": {},
   "outputs": [],
   "source": [
    "data['price_square_meter'] = data['last_price'] / data['total_area']"
   ]
  },
  {
   "cell_type": "code",
   "execution_count": 15,
   "id": "7e195572",
   "metadata": {},
   "outputs": [],
   "source": [
    "data['first_day_exposition'] = pd.to_datetime(data['first_day_exposition'], format='%Y%m%dT%H:%M:%S')"
   ]
  },
  {
   "cell_type": "code",
   "execution_count": 16,
   "id": "6a1d8de1",
   "metadata": {},
   "outputs": [],
   "source": [
    "data['weekday'] = data['first_day_exposition'].dt.weekday\n",
    "data['year'] = data['first_day_exposition'].dt.year \n",
    "data['month'] = data['first_day_exposition'].dt.month"
   ]
  },
  {
   "cell_type": "code",
   "execution_count": 17,
   "id": "19b7b676",
   "metadata": {},
   "outputs": [],
   "source": [
    "def wich_floor(row):\n",
    "    floor=row['floor']\n",
    "    floors_total=row['floors_total']\n",
    "    if floor == 1:\n",
    "        return 'первый'\n",
    "    elif floor == floors_total:\n",
    "        return 'последний'\n",
    "    return 'другой'\n",
    "data['wich_floor'] = data.apply(wich_floor,axis=1)"
   ]
  },
  {
   "cell_type": "code",
   "execution_count": 18,
   "id": "62bc6c23",
   "metadata": {},
   "outputs": [],
   "source": [
    "data['useful_area_ratio'] = data['living_area'] / data['total_area']"
   ]
  },
  {
   "cell_type": "code",
   "execution_count": 19,
   "id": "2864d7f8",
   "metadata": {},
   "outputs": [],
   "source": [
    "data['kitchen_area_ratio'] = data['kitchen_area'] / data['total_area']"
   ]
  },
  {
   "cell_type": "code",
   "execution_count": 20,
   "id": "213b98bd",
   "metadata": {},
   "outputs": [
    {
     "data": {
      "text/html": [
       "<div>\n",
       "<style scoped>\n",
       "    .dataframe tbody tr th:only-of-type {\n",
       "        vertical-align: middle;\n",
       "    }\n",
       "\n",
       "    .dataframe tbody tr th {\n",
       "        vertical-align: top;\n",
       "    }\n",
       "\n",
       "    .dataframe thead th {\n",
       "        text-align: right;\n",
       "    }\n",
       "</style>\n",
       "<table border=\"1\" class=\"dataframe\">\n",
       "  <thead>\n",
       "    <tr style=\"text-align: right;\">\n",
       "      <th></th>\n",
       "      <th>total_images</th>\n",
       "      <th>last_price</th>\n",
       "      <th>total_area</th>\n",
       "      <th>first_day_exposition</th>\n",
       "      <th>rooms</th>\n",
       "      <th>ceiling_height</th>\n",
       "      <th>floors_total</th>\n",
       "      <th>living_area</th>\n",
       "      <th>floor</th>\n",
       "      <th>is_apartment</th>\n",
       "      <th>...</th>\n",
       "      <th>ponds_around3000</th>\n",
       "      <th>ponds_nearest</th>\n",
       "      <th>days_exposition</th>\n",
       "      <th>price_square_meter</th>\n",
       "      <th>weekday</th>\n",
       "      <th>year</th>\n",
       "      <th>month</th>\n",
       "      <th>wich_floor</th>\n",
       "      <th>useful_area_ratio</th>\n",
       "      <th>kitchen_area_ratio</th>\n",
       "    </tr>\n",
       "  </thead>\n",
       "  <tbody>\n",
       "    <tr>\n",
       "      <th>0</th>\n",
       "      <td>20</td>\n",
       "      <td>13000000.0</td>\n",
       "      <td>108.0</td>\n",
       "      <td>2019-03-07</td>\n",
       "      <td>3</td>\n",
       "      <td>2.70</td>\n",
       "      <td>16.0</td>\n",
       "      <td>51.0</td>\n",
       "      <td>8</td>\n",
       "      <td>False</td>\n",
       "      <td>...</td>\n",
       "      <td>2.0</td>\n",
       "      <td>755.0</td>\n",
       "      <td>0</td>\n",
       "      <td>120370.370370</td>\n",
       "      <td>3</td>\n",
       "      <td>2019</td>\n",
       "      <td>3</td>\n",
       "      <td>другой</td>\n",
       "      <td>0.472222</td>\n",
       "      <td>0.231481</td>\n",
       "    </tr>\n",
       "    <tr>\n",
       "      <th>1</th>\n",
       "      <td>7</td>\n",
       "      <td>3350000.0</td>\n",
       "      <td>40.4</td>\n",
       "      <td>2018-12-04</td>\n",
       "      <td>1</td>\n",
       "      <td>NaN</td>\n",
       "      <td>11.0</td>\n",
       "      <td>18.6</td>\n",
       "      <td>1</td>\n",
       "      <td>False</td>\n",
       "      <td>...</td>\n",
       "      <td>0.0</td>\n",
       "      <td>NaN</td>\n",
       "      <td>81</td>\n",
       "      <td>82920.792079</td>\n",
       "      <td>1</td>\n",
       "      <td>2018</td>\n",
       "      <td>12</td>\n",
       "      <td>первый</td>\n",
       "      <td>0.460396</td>\n",
       "      <td>0.272277</td>\n",
       "    </tr>\n",
       "    <tr>\n",
       "      <th>2</th>\n",
       "      <td>10</td>\n",
       "      <td>5196000.0</td>\n",
       "      <td>56.0</td>\n",
       "      <td>2015-08-20</td>\n",
       "      <td>2</td>\n",
       "      <td>NaN</td>\n",
       "      <td>5.0</td>\n",
       "      <td>34.3</td>\n",
       "      <td>4</td>\n",
       "      <td>False</td>\n",
       "      <td>...</td>\n",
       "      <td>2.0</td>\n",
       "      <td>574.0</td>\n",
       "      <td>558</td>\n",
       "      <td>92785.714286</td>\n",
       "      <td>3</td>\n",
       "      <td>2015</td>\n",
       "      <td>8</td>\n",
       "      <td>другой</td>\n",
       "      <td>0.612500</td>\n",
       "      <td>0.148214</td>\n",
       "    </tr>\n",
       "    <tr>\n",
       "      <th>3</th>\n",
       "      <td>0</td>\n",
       "      <td>64900000.0</td>\n",
       "      <td>159.0</td>\n",
       "      <td>2015-07-24</td>\n",
       "      <td>3</td>\n",
       "      <td>NaN</td>\n",
       "      <td>14.0</td>\n",
       "      <td>NaN</td>\n",
       "      <td>9</td>\n",
       "      <td>False</td>\n",
       "      <td>...</td>\n",
       "      <td>3.0</td>\n",
       "      <td>234.0</td>\n",
       "      <td>424</td>\n",
       "      <td>408176.100629</td>\n",
       "      <td>4</td>\n",
       "      <td>2015</td>\n",
       "      <td>7</td>\n",
       "      <td>другой</td>\n",
       "      <td>NaN</td>\n",
       "      <td>NaN</td>\n",
       "    </tr>\n",
       "    <tr>\n",
       "      <th>4</th>\n",
       "      <td>2</td>\n",
       "      <td>10000000.0</td>\n",
       "      <td>100.0</td>\n",
       "      <td>2018-06-19</td>\n",
       "      <td>2</td>\n",
       "      <td>3.03</td>\n",
       "      <td>14.0</td>\n",
       "      <td>32.0</td>\n",
       "      <td>13</td>\n",
       "      <td>False</td>\n",
       "      <td>...</td>\n",
       "      <td>1.0</td>\n",
       "      <td>48.0</td>\n",
       "      <td>121</td>\n",
       "      <td>100000.000000</td>\n",
       "      <td>1</td>\n",
       "      <td>2018</td>\n",
       "      <td>6</td>\n",
       "      <td>другой</td>\n",
       "      <td>0.320000</td>\n",
       "      <td>0.410000</td>\n",
       "    </tr>\n",
       "  </tbody>\n",
       "</table>\n",
       "<p>5 rows × 29 columns</p>\n",
       "</div>"
      ],
      "text/plain": [
       "   total_images  last_price  total_area first_day_exposition  rooms  \\\n",
       "0            20  13000000.0       108.0           2019-03-07      3   \n",
       "1             7   3350000.0        40.4           2018-12-04      1   \n",
       "2            10   5196000.0        56.0           2015-08-20      2   \n",
       "3             0  64900000.0       159.0           2015-07-24      3   \n",
       "4             2  10000000.0       100.0           2018-06-19      2   \n",
       "\n",
       "   ceiling_height  floors_total  living_area  floor is_apartment  ...  \\\n",
       "0            2.70          16.0         51.0      8        False  ...   \n",
       "1             NaN          11.0         18.6      1        False  ...   \n",
       "2             NaN           5.0         34.3      4        False  ...   \n",
       "3             NaN          14.0          NaN      9        False  ...   \n",
       "4            3.03          14.0         32.0     13        False  ...   \n",
       "\n",
       "   ponds_around3000  ponds_nearest  days_exposition  price_square_meter  \\\n",
       "0               2.0          755.0                0       120370.370370   \n",
       "1               0.0            NaN               81        82920.792079   \n",
       "2               2.0          574.0              558        92785.714286   \n",
       "3               3.0          234.0              424       408176.100629   \n",
       "4               1.0           48.0              121       100000.000000   \n",
       "\n",
       "  weekday  year  month  wich_floor  useful_area_ratio  kitchen_area_ratio  \n",
       "0       3  2019      3      другой           0.472222            0.231481  \n",
       "1       1  2018     12      первый           0.460396            0.272277  \n",
       "2       3  2015      8      другой           0.612500            0.148214  \n",
       "3       4  2015      7      другой                NaN                 NaN  \n",
       "4       1  2018      6      другой           0.320000            0.410000  \n",
       "\n",
       "[5 rows x 29 columns]"
      ]
     },
     "execution_count": 20,
     "metadata": {},
     "output_type": "execute_result"
    }
   ],
   "source": [
    "data.head()"
   ]
  },
  {
   "cell_type": "markdown",
   "id": "c4a93c96",
   "metadata": {},
   "source": [
    "## Исследовательский анализ"
   ]
  },
  {
   "cell_type": "code",
   "execution_count": 21,
   "id": "e4e8775c",
   "metadata": {},
   "outputs": [
    {
     "data": {
      "text/plain": [
       "count    23699.000000\n",
       "mean        60.348651\n",
       "std         35.654083\n",
       "min         12.000000\n",
       "25%         40.000000\n",
       "50%         52.000000\n",
       "75%         69.900000\n",
       "max        900.000000\n",
       "Name: total_area, dtype: float64"
      ]
     },
     "execution_count": 21,
     "metadata": {},
     "output_type": "execute_result"
    },
    {
     "data": {
      "image/png": "[encoded data removed]",
      "text/plain": [
       "<Figure size 360x216 with 1 Axes>"
      ]
     },
     "metadata": {
      "needs_background": "light"
     },
     "output_type": "display_data"
    }
   ],
   "source": [
    "data.plot(y = 'total_area', kind = 'hist', bins = 100, grid=True, figsize = (5,3), range = (0,300))\n",
    "plt.title('Общая площадь')\n",
    "plt.xlabel('Площадь в м2')\n",
    "plt.ylabel('Кол-во объектов')\n",
    "data['total_area'].describe()"
   ]
  },
  {
   "cell_type": "markdown",
   "id": "18267b8d",
   "metadata": {},
   "source": [
    "Общая площадь колеблится в пределах 12 и 900 м2. Среднее значение составляет 60, а медиана 52. Соответствует нормальному распределению. "
   ]
  },
  {
   "cell_type": "code",
   "execution_count": 22,
   "id": "3ca169c8",
   "metadata": {},
   "outputs": [
    {
     "data": {
      "text/plain": [
       "count    2.369900e+04\n",
       "mean     6.541549e+06\n",
       "std      1.088701e+07\n",
       "min      1.219000e+04\n",
       "25%      3.400000e+06\n",
       "50%      4.650000e+06\n",
       "75%      6.800000e+06\n",
       "max      7.630000e+08\n",
       "Name: last_price, dtype: float64"
      ]
     },
     "execution_count": 22,
     "metadata": {},
     "output_type": "execute_result"
    },
    {
     "data": {
      "image/png": "[encoded data removed]",
      "text/plain": [
       "<Figure size 360x216 with 1 Axes>"
      ]
     },
     "metadata": {
      "needs_background": "light"
     },
     "output_type": "display_data"
    }
   ],
   "source": [
    "data.plot(y = 'last_price', kind = 'hist', bins = 100, grid=True, range = (0,15000000), figsize = (5,3))\n",
    "plt.title('Стоимость на момент продажи')\n",
    "plt.xlabel('Стоимость')\n",
    "plt.ylabel('Кол-во объектов')\n",
    "data['last_price'].describe()"
   ]
  },
  {
   "cell_type": "markdown",
   "id": "50c6efa1",
   "metadata": {},
   "source": [
    "Цены на недвижимость имеют среднее значение в 6,5 млн руб., а медиана составляет 4,6 млн руб, что тоже является нормальным распределением. "
   ]
  },
  {
   "cell_type": "code",
   "execution_count": 23,
   "id": "e5b7672d",
   "metadata": {},
   "outputs": [
    {
     "data": {
      "text/plain": [
       "count    23699.000000\n",
       "mean         2.070636\n",
       "std          1.078405\n",
       "min          0.000000\n",
       "25%          1.000000\n",
       "50%          2.000000\n",
       "75%          3.000000\n",
       "max         19.000000\n",
       "Name: rooms, dtype: float64"
      ]
     },
     "execution_count": 23,
     "metadata": {},
     "output_type": "execute_result"
    },
    {
     "data": {
      "image/png": "[encoded data removed]",
      "text/plain": [
       "<Figure size 360x216 with 1 Axes>"
      ]
     },
     "metadata": {
      "needs_background": "light"
     },
     "output_type": "display_data"
    }
   ],
   "source": [
    "data.plot(y = 'rooms', kind = 'hist', bins = 30, grid=True, figsize = (5,3))\n",
    "plt.title('Кол-во комнат')\n",
    "plt.xlabel('Кол-во комнат')\n",
    "plt.ylabel('Кол-во объектов')\n",
    "data['rooms'].describe()"
   ]
  },
  {
   "cell_type": "markdown",
   "id": "2014724c",
   "metadata": {},
   "source": [
    "Большая доля у однокомнатных и двухкомнатных квартир."
   ]
  },
  {
   "cell_type": "code",
   "execution_count": 24,
   "id": "3da08083",
   "metadata": {},
   "outputs": [
    {
     "data": {
      "text/plain": [
       "count    14504.000000\n",
       "mean         2.771499\n",
       "std          1.261056\n",
       "min          1.000000\n",
       "25%          2.520000\n",
       "50%          2.650000\n",
       "75%          2.800000\n",
       "max        100.000000\n",
       "Name: ceiling_height, dtype: float64"
      ]
     },
     "execution_count": 24,
     "metadata": {},
     "output_type": "execute_result"
    },
    {
     "data": {
      "image/png": "[encoded data removed]",
      "text/plain": [
       "<Figure size 360x216 with 1 Axes>"
      ]
     },
     "metadata": {
      "needs_background": "light"
     },
     "output_type": "display_data"
    }
   ],
   "source": [
    "data.plot(y = 'ceiling_height', kind = 'hist', bins = 30, range = (2,5), grid=True, figsize = (5,3))\n",
    "plt.title('Высота потолков')\n",
    "plt.xlabel('Высота потолков')\n",
    "plt.ylabel('Кол-во объектов')\n",
    "data['ceiling_height'].describe()"
   ]
  },
  {
   "cell_type": "markdown",
   "id": "7da9dd8d",
   "metadata": {},
   "source": [
    "Высота потолков в среднем составляет 2,77 м. "
   ]
  },
  {
   "cell_type": "code",
   "execution_count": 25,
   "id": "8329a0c4",
   "metadata": {},
   "outputs": [
    {
     "data": {
      "text/plain": [
       "count    20518.000000\n",
       "mean       180.888634\n",
       "std        219.727988\n",
       "min          1.000000\n",
       "25%         45.000000\n",
       "50%         95.000000\n",
       "75%        232.000000\n",
       "max       1580.000000\n",
       "Name: days_exposition, dtype: float64"
      ]
     },
     "execution_count": 25,
     "metadata": {},
     "output_type": "execute_result"
    },
    {
     "data": {
      "image/png": "[encoded data removed]",
      "text/plain": [
       "<Figure size 432x288 with 1 Axes>"
      ]
     },
     "metadata": {
      "needs_background": "light"
     },
     "output_type": "display_data"
    }
   ],
   "source": [
    "plt.boxplot(data[data['days_exposition']!=0]['days_exposition'])\n",
    "plt.ylim(1,1000)\n",
    "data[data['days_exposition']!=0]['days_exposition'].describe()"
   ]
  },
  {
   "cell_type": "markdown",
   "id": "9684ef95",
   "metadata": {},
   "source": [
    "Средняя продолжительность продажи квартиры составляет 180 дней, медианное значение 95 дней."
   ]
  },
  {
   "cell_type": "code",
   "execution_count": 26,
   "id": "2d93e6ef",
   "metadata": {
    "scrolled": false
   },
   "outputs": [
    {
     "data": {
      "text/plain": [
       "<AxesSubplot:ylabel='Frequency'>"
      ]
     },
     "execution_count": 26,
     "metadata": {},
     "output_type": "execute_result"
    },
    {
     "data": {
      "image/png": "[encoded data removed]",
      "text/plain": [
       "<Figure size 432x288 with 1 Axes>"
      ]
     },
     "metadata": {
      "needs_background": "light"
     },
     "output_type": "display_data"
    },
    {
     "data": {
      "image/png": "[encoded data removed]",
      "text/plain": [
       "<Figure size 432x288 with 1 Axes>"
      ]
     },
     "metadata": {
      "needs_background": "light"
     },
     "output_type": "display_data"
    }
   ],
   "source": [
    "data.plot(y = 'days_exposition', kind = 'hist', bins = 30, grid = True, range = (1,1600))\n",
    "data.plot(y = 'days_exposition', kind = 'hist', bins = 100, grid = True, range = (1,200))"
   ]
  },
  {
   "cell_type": "code",
   "execution_count": 27,
   "id": "0f47cba3",
   "metadata": {},
   "outputs": [
    {
     "data": {
      "text/plain": [
       "45      880\n",
       "60      538\n",
       "7       234\n",
       "30      208\n",
       "90      204\n",
       "       ... \n",
       "1112      1\n",
       "1080      1\n",
       "1064      1\n",
       "1032      1\n",
       "1391      1\n",
       "Name: days_exposition, Length: 1141, dtype: int64"
      ]
     },
     "execution_count": 27,
     "metadata": {},
     "output_type": "execute_result"
    }
   ],
   "source": [
    "data[data['days_exposition']!=0]['days_exposition'].value_counts()"
   ]
  },
  {
   "cell_type": "markdown",
   "id": "b0e36e32",
   "metadata": {},
   "source": [
    "Мы обнаружили выбивающиеся значения методом value_counts. Выявила следующие аномалии: 45, 60, 7, 30, 90 днях - это наиболее популярное количество дней до снятия объявления. Возможно стоит автоматическое снятие объявления с продажи.\n",
    "Продажа обычно занимает от 7 до 200 дней. Считаю что можно считать слишком быстрыми продажи до 7 дней, а слишком долгими больше 800 дней. "
   ]
  },
  {
   "cell_type": "code",
   "execution_count": 28,
   "id": "e98678dc",
   "metadata": {},
   "outputs": [],
   "source": [
    "def quartile_range(df, column):\n",
    "    q1 = df[column].quantile(0.25)\n",
    "    q3 = df[column].quantile(0.75)\n",
    "    iqr = q3 - q1\n",
    "    dfq = df.loc[(df[column] < q3 + 1.5*iqr) & (df[column] > q1 - 1.5*iqr), column]\n",
    "    return dfq\n",
    "#столбцы с выбросами\n",
    "list_features = ['last_price', 'total_area', 'kitchen_area', 'living_area', 'days_exposition', 'ceiling_height', 'rooms']\n",
    "for col in list_features:\n",
    "    data[col] = quartile_range(data, col)\n"
   ]
  },
  {
   "cell_type": "code",
   "execution_count": 29,
   "id": "fbf42247",
   "metadata": {},
   "outputs": [
    {
     "data": {
      "text/html": [
       "<div>\n",
       "<style scoped>\n",
       "    .dataframe tbody tr th:only-of-type {\n",
       "        vertical-align: middle;\n",
       "    }\n",
       "\n",
       "    .dataframe tbody tr th {\n",
       "        vertical-align: top;\n",
       "    }\n",
       "\n",
       "    .dataframe thead th {\n",
       "        text-align: right;\n",
       "    }\n",
       "</style>\n",
       "<table border=\"1\" class=\"dataframe\">\n",
       "  <thead>\n",
       "    <tr style=\"text-align: right;\">\n",
       "      <th></th>\n",
       "      <th>last_price</th>\n",
       "      <th>total_area</th>\n",
       "      <th>kitchen_area</th>\n",
       "      <th>living_area</th>\n",
       "      <th>days_exposition</th>\n",
       "      <th>ceiling_height</th>\n",
       "      <th>rooms</th>\n",
       "    </tr>\n",
       "  </thead>\n",
       "  <tbody>\n",
       "    <tr>\n",
       "      <th>min</th>\n",
       "      <td>12190.0</td>\n",
       "      <td>12.0</td>\n",
       "      <td>1.30</td>\n",
       "      <td>2.0</td>\n",
       "      <td>0.0</td>\n",
       "      <td>2.20</td>\n",
       "      <td>0.0</td>\n",
       "    </tr>\n",
       "    <tr>\n",
       "      <th>max</th>\n",
       "      <td>11894400.0</td>\n",
       "      <td>114.6</td>\n",
       "      <td>19.45</td>\n",
       "      <td>77.8</td>\n",
       "      <td>464.0</td>\n",
       "      <td>3.21</td>\n",
       "      <td>5.0</td>\n",
       "    </tr>\n",
       "  </tbody>\n",
       "</table>\n",
       "</div>"
      ],
      "text/plain": [
       "     last_price  total_area  kitchen_area  living_area  days_exposition  \\\n",
       "min     12190.0        12.0          1.30          2.0              0.0   \n",
       "max  11894400.0       114.6         19.45         77.8            464.0   \n",
       "\n",
       "     ceiling_height  rooms  \n",
       "min            2.20    0.0  \n",
       "max            3.21    5.0  "
      ]
     },
     "execution_count": 29,
     "metadata": {},
     "output_type": "execute_result"
    }
   ],
   "source": [
    "data[['last_price', 'total_area', 'kitchen_area', 'living_area', 'days_exposition', 'ceiling_height', 'rooms']].describe().loc[['min', 'max']]"
   ]
  },
  {
   "cell_type": "code",
   "execution_count": 30,
   "id": "cba7d2e7",
   "metadata": {},
   "outputs": [
    {
     "data": {
      "text/plain": [
       "0.11734902421601591"
      ]
     },
     "execution_count": 30,
     "metadata": {},
     "output_type": "execute_result"
    },
    {
     "data": {
      "image/png": "[encoded data removed]",
      "text/plain": [
       "<Figure size 432x288 with 1 Axes>"
      ]
     },
     "metadata": {
      "needs_background": "light"
     },
     "output_type": "display_data"
    }
   ],
   "source": [
    "data.pivot_table(index = 'total_area', values = 'price_square_meter', aggfunc = ['median']).plot(y = 'median', style = 'o')\n",
    "plt.title('Влияние на стоимость площади объекта')\n",
    "plt.xlabel('Общая площадь')\n",
    "plt.ylabel('Стоимость за м2')\n",
    "data['total_area'].corr(data['price_square_meter'])"
   ]
  },
  {
   "cell_type": "markdown",
   "id": "bedd9154",
   "metadata": {},
   "source": [
    "Стоимость квадратного метра не сильно зависит от размера общей площади. "
   ]
  },
  {
   "cell_type": "code",
   "execution_count": 31,
   "id": "a096d825",
   "metadata": {},
   "outputs": [
    {
     "data": {
      "text/plain": [
       "0.022575230090428174"
      ]
     },
     "execution_count": 31,
     "metadata": {},
     "output_type": "execute_result"
    },
    {
     "data": {
      "image/png": "[encoded data removed]",
      "text/plain": [
       "<Figure size 432x288 with 1 Axes>"
      ]
     },
     "metadata": {
      "needs_background": "light"
     },
     "output_type": "display_data"
    }
   ],
   "source": [
    "data.pivot_table(index = 'rooms', values = 'price_square_meter', aggfunc = ['median']).plot(y = 'median')\n",
    "plt.title('Влияние кол-ва комнат на стоимость')\n",
    "plt.xlabel('Кол-во комнат')\n",
    "plt.ylabel('Стоимость за м2')\n",
    "data['rooms'].corr(data['price_square_meter'])"
   ]
  },
  {
   "cell_type": "markdown",
   "id": "22236382",
   "metadata": {},
   "source": [
    "3-х комнатные квартиры стоят дешевле. В трехкомнатных квартирах больше коридоров или есть проходные комнаты, возможно это влияет на цену. Также это может быть связано с апартаментами и евро-планировкой, такие квартиры в связи с тенденцией стоят дороже. Так же большое кол-во комнат в бывших коммунальных квартирах, а это старый фонд и неудобная планировка, что тоже влияет на цену. "
   ]
  },
  {
   "cell_type": "code",
   "execution_count": 32,
   "id": "334625f0",
   "metadata": {},
   "outputs": [
    {
     "data": {
      "text/plain": [
       "Text(0, 0.5, 'Стоимость за м2')"
      ]
     },
     "execution_count": 32,
     "metadata": {},
     "output_type": "execute_result"
    },
    {
     "data": {
      "image/png": "[encoded data removed]",
      "text/plain": [
       "<Figure size 432x288 with 1 Axes>"
      ]
     },
     "metadata": {
      "needs_background": "light"
     },
     "output_type": "display_data"
    }
   ],
   "source": [
    "data.pivot_table(\n",
    "    index = 'wich_floor', values = 'price_square_meter', aggfunc = ['median']\n",
    ").plot(y = 'median')\n",
    "plt.title('Влияние этажа объекта на стоимость')\n",
    "plt.xlabel('этаж')\n",
    "plt.ylabel('Стоимость за м2')"
   ]
  },
  {
   "cell_type": "markdown",
   "id": "cc8d5df3",
   "metadata": {},
   "source": [
    "Квартиры на первом этаже дешевле  "
   ]
  },
  {
   "cell_type": "code",
   "execution_count": 33,
   "id": "d90a146f",
   "metadata": {},
   "outputs": [
    {
     "data": {
      "text/plain": [
       "-0.31795076959343477"
      ]
     },
     "execution_count": 33,
     "metadata": {},
     "output_type": "execute_result"
    },
    {
     "data": {
      "image/png": "[encoded data removed]",
      "text/plain": [
       "<Figure size 432x288 with 1 Axes>"
      ]
     },
     "metadata": {
      "needs_background": "light"
     },
     "output_type": "display_data"
    }
   ],
   "source": [
    "data.plot(kind = 'scatter', y = 'price_square_meter', x = 'cityCenters_nearest', alpha = 0.3)\n",
    "plt.title('Влияние расстояние до центра на стоимость')\n",
    "plt.xlabel('расстояние до центра в м')\n",
    "plt.ylabel('Стоимость за м2')\n",
    "data['cityCenters_nearest'].corr(data['price_square_meter'])"
   ]
  },
  {
   "cell_type": "markdown",
   "id": "3f6b5e60",
   "metadata": {},
   "source": [
    "На графике видна явная зависимость: чем ближе к центру, тем дороже стоимость. "
   ]
  },
  {
   "cell_type": "code",
   "execution_count": 34,
   "id": "858a78ad",
   "metadata": {},
   "outputs": [
    {
     "data": {
      "text/plain": [
       "Text(0, 0.5, 'Стоимость за м2')"
      ]
     },
     "execution_count": 34,
     "metadata": {},
     "output_type": "execute_result"
    },
    {
     "data": {
      "image/png": "[encoded data removed]",
      "text/plain": [
       "<Figure size 432x288 with 1 Axes>"
      ]
     },
     "metadata": {
      "needs_background": "light"
     },
     "output_type": "display_data"
    }
   ],
   "source": [
    "data.pivot_table(index = 'weekday', values = 'price_square_meter', aggfunc = ['median']).plot(y = 'median')\n",
    "plt.title('зависимость от дня недели размещения объявления')\n",
    "plt.xlabel('День недели')\n",
    "plt.ylabel('Стоимость за м2')"
   ]
  },
  {
   "cell_type": "markdown",
   "id": "638029a7",
   "metadata": {},
   "source": [
    "В начале недели стоимость за квадратный метр выше, а ближе к выходным стоимость падает. "
   ]
  },
  {
   "cell_type": "code",
   "execution_count": 35,
   "id": "b3313afc",
   "metadata": {},
   "outputs": [
    {
     "data": {
      "text/plain": [
       "Text(0, 0.5, 'Стоимость за м2')"
      ]
     },
     "execution_count": 35,
     "metadata": {},
     "output_type": "execute_result"
    },
    {
     "data": {
      "image/png": "[encoded data removed]",
      "text/plain": [
       "<Figure size 432x288 with 1 Axes>"
      ]
     },
     "metadata": {
      "needs_background": "light"
     },
     "output_type": "display_data"
    }
   ],
   "source": [
    "data.pivot_table(index = 'month', values = 'price_square_meter', aggfunc = ['median']).plot(y = 'median')\n",
    "plt.title('Зависимость от месяца размещения объявления')\n",
    "plt.xlabel('месяц')\n",
    "plt.ylabel('Стоимость за м2')"
   ]
  },
  {
   "cell_type": "markdown",
   "id": "1d2538b6",
   "metadata": {},
   "source": [
    "Объявления размещенные в мае и июне самые дешевые, скорее всего связано с периодом отпусков. "
   ]
  },
  {
   "cell_type": "code",
   "execution_count": 36,
   "id": "a93c8e01",
   "metadata": {
    "scrolled": true
   },
   "outputs": [
    {
     "data": {
      "text/plain": [
       "Text(0, 0.5, 'Стоимость за м2')"
      ]
     },
     "execution_count": 36,
     "metadata": {},
     "output_type": "execute_result"
    },
    {
     "data": {
      "image/png": "[encoded data removed]",
      "text/plain": [
       "<Figure size 432x288 with 1 Axes>"
      ]
     },
     "metadata": {
      "needs_background": "light"
     },
     "output_type": "display_data"
    }
   ],
   "source": [
    "data.pivot_table(index = 'year', values = 'price_square_meter', aggfunc = ['median']).plot(y = 'median')\n",
    "plt.title('Зависимость от года размещения объявления')\n",
    "plt.xlabel('Год')\n",
    "plt.ylabel('Стоимость за м2')"
   ]
  },
  {
   "cell_type": "markdown",
   "id": "a17991e2",
   "metadata": {},
   "source": [
    "Видно проседание стоимости с 2014 по 2016 года. Псле 2016 года цены пошли вверх. "
   ]
  },
  {
   "cell_type": "code",
   "execution_count": 37,
   "id": "2809537f",
   "metadata": {},
   "outputs": [
    {
     "data": {
      "text/html": [
       "<div>\n",
       "<style scoped>\n",
       "    .dataframe tbody tr th:only-of-type {\n",
       "        vertical-align: middle;\n",
       "    }\n",
       "\n",
       "    .dataframe tbody tr th {\n",
       "        vertical-align: top;\n",
       "    }\n",
       "\n",
       "    .dataframe thead th {\n",
       "        text-align: right;\n",
       "    }\n",
       "</style>\n",
       "<table border=\"1\" class=\"dataframe\">\n",
       "  <thead>\n",
       "    <tr style=\"text-align: right;\">\n",
       "      <th></th>\n",
       "      <th>price_square_meter</th>\n",
       "    </tr>\n",
       "    <tr>\n",
       "      <th>locality_name</th>\n",
       "      <th></th>\n",
       "    </tr>\n",
       "  </thead>\n",
       "  <tbody>\n",
       "    <tr>\n",
       "      <th>Санкт-Петербург</th>\n",
       "      <td>114849</td>\n",
       "    </tr>\n",
       "    <tr>\n",
       "      <th>Пушкин</th>\n",
       "      <td>103125</td>\n",
       "    </tr>\n",
       "    <tr>\n",
       "      <th>Кудрово</th>\n",
       "      <td>92473</td>\n",
       "    </tr>\n",
       "    <tr>\n",
       "      <th>Парголово</th>\n",
       "      <td>90175</td>\n",
       "    </tr>\n",
       "    <tr>\n",
       "      <th>Мурино</th>\n",
       "      <td>85681</td>\n",
       "    </tr>\n",
       "    <tr>\n",
       "      <th>Шушары</th>\n",
       "      <td>78677</td>\n",
       "    </tr>\n",
       "    <tr>\n",
       "      <th>Колпино</th>\n",
       "      <td>75424</td>\n",
       "    </tr>\n",
       "    <tr>\n",
       "      <th>Гатчина</th>\n",
       "      <td>68746</td>\n",
       "    </tr>\n",
       "    <tr>\n",
       "      <th>Всеволожск</th>\n",
       "      <td>68654</td>\n",
       "    </tr>\n",
       "    <tr>\n",
       "      <th>Выборг</th>\n",
       "      <td>58141</td>\n",
       "    </tr>\n",
       "  </tbody>\n",
       "</table>\n",
       "</div>"
      ],
      "text/plain": [
       "                 price_square_meter\n",
       "locality_name                      \n",
       "Санкт-Петербург              114849\n",
       "Пушкин                       103125\n",
       " Кудрово                      92473\n",
       " Парголово                    90175\n",
       " Мурино                       85681\n",
       " Шушары                       78677\n",
       "Колпино                       75424\n",
       "Гатчина                       68746\n",
       "Всеволожск                    68654\n",
       "Выборг                        58141"
      ]
     },
     "execution_count": 37,
     "metadata": {},
     "output_type": "execute_result"
    }
   ],
   "source": [
    "city_ten = data['locality_name'].value_counts().head(10)\n",
    "city_sq_price = data.query('locality_name in (@city_ten.index)').pivot_table(values='price_square_meter', index='locality_name')\n",
    "city_sq_price = city_sq_price.astype(int)\n",
    "city_sq_price.sort_values('price_square_meter', ascending=False)"
   ]
  },
  {
   "cell_type": "markdown",
   "id": "ea680597",
   "metadata": {},
   "source": [
    "Самая высокая стоимость недвижимости в Санкт-Петербурге, а самая дешевая в Выборге. "
   ]
  },
  {
   "cell_type": "code",
   "execution_count": 38,
   "id": "b12169e4",
   "metadata": {},
   "outputs": [
    {
     "data": {
      "text/plain": [
       "Text(0, 0.5, 'Стоимость за м2')"
      ]
     },
     "execution_count": 38,
     "metadata": {},
     "output_type": "execute_result"
    },
    {
     "data": {
      "image/png": "[encoded data removed]",
      "text/plain": [
       "<Figure size 432x288 with 1 Axes>"
      ]
     },
     "metadata": {
      "needs_background": "light"
     },
     "output_type": "display_data"
    }
   ],
   "source": [
    "data['cityCenters_nearest_km'] = data['cityCenters_nearest']/1000\n",
    "data['cityCenters_nearest_km'] = data['cityCenters_nearest_km'].fillna(999999)\n",
    "data['cityCenters_nearest_km'] = data['cityCenters_nearest_km'].astype('int')\n",
    "data.query('locality_name == \"Санкт-Петербург\" and cityCenters_nearest_km !=999999').pivot_table(index = 'cityCenters_nearest_km', values = 'price_square_meter', aggfunc = 'mean').plot()\n",
    "plt.title('Расстояние до центра')\n",
    "plt.xlabel('Расстояние в км')\n",
    "plt.ylabel('Стоимость за м2')"
   ]
  },
  {
   "cell_type": "markdown",
   "id": "b60b481e",
   "metadata": {},
   "source": [
    "Исходя из графика, можно сказать что к центру относится радиус в 6-7 км. "
   ]
  },
  {
   "cell_type": "code",
   "execution_count": 39,
   "id": "55665f4e",
   "metadata": {
    "scrolled": true
   },
   "outputs": [
    {
     "data": {
      "text/plain": [
       "-0.019598136917309245"
      ]
     },
     "execution_count": 39,
     "metadata": {},
     "output_type": "execute_result"
    },
    {
     "data": {
      "image/png": "[encoded data removed]",
      "text/plain": [
       "<Figure size 432x288 with 1 Axes>"
      ]
     },
     "metadata": {
      "needs_background": "light"
     },
     "output_type": "display_data"
    }
   ],
   "source": [
    "#выделяю квартиры в центре (радиус 7 км)\n",
    "center_spb_data = data.query('cityCenters_nearest_km <= 7 and locality_name == \"Санкт-Петербург\"')\n",
    "#Зависимость стоимости квадратного метра от количества комнат\n",
    "center_spb_rooms = center_spb_data.pivot_table(index = 'rooms', values = 'price_square_meter', aggfunc = ['median']).plot(y = 'median')\n",
    "center_spb_data['rooms'].corr(center_spb_data['price_square_meter'])"
   ]
  },
  {
   "cell_type": "markdown",
   "id": "ccd88e4c",
   "metadata": {},
   "source": [
    "В цетре Спб стоимость за м2 зависит от кол-ва комнат. Чем больше комнат, тем дешевле. Видимо связано с бывшими коммунальными квартирами. "
   ]
  },
  {
   "cell_type": "code",
   "execution_count": 40,
   "id": "22ceb1f1",
   "metadata": {},
   "outputs": [
    {
     "data": {
      "text/plain": [
       "<AxesSubplot:xlabel='wich_floor'>"
      ]
     },
     "execution_count": 40,
     "metadata": {},
     "output_type": "execute_result"
    },
    {
     "data": {
      "image/png": "[encoded data removed]",
      "text/plain": [
       "<Figure size 432x288 with 1 Axes>"
      ]
     },
     "metadata": {
      "needs_background": "light"
     },
     "output_type": "display_data"
    }
   ],
   "source": [
    "#Зависимость стоимости квадратного метра от этажа\n",
    "center_spb_data.pivot_table(\n",
    "    index = 'wich_floor', values = 'price_square_meter', aggfunc = ['median']).plot(y = 'median')"
   ]
  },
  {
   "cell_type": "markdown",
   "id": "7ad97bee",
   "metadata": {},
   "source": [
    "На первом этаже стоимость ниже, с кол-вом этажей растет стоимость. "
   ]
  },
  {
   "cell_type": "code",
   "execution_count": 41,
   "id": "8a69c61c",
   "metadata": {},
   "outputs": [
    {
     "data": {
      "text/plain": [
       "-0.03093863923859851"
      ]
     },
     "execution_count": 41,
     "metadata": {},
     "output_type": "execute_result"
    },
    {
     "data": {
      "image/png": "[encoded data removed]",
      "text/plain": [
       "<Figure size 432x288 with 1 Axes>"
      ]
     },
     "metadata": {
      "needs_background": "light"
     },
     "output_type": "display_data"
    }
   ],
   "source": [
    "#Зависимость стоимости квадратного метра от удаленности от центра\n",
    "center_spb_data.plot(kind = 'scatter', y = 'price_square_meter', x = 'cityCenters_nearest', alpha = 0.3)\n",
    "center_spb_data['cityCenters_nearest'].corr(center_spb_data['price_square_meter'])"
   ]
  },
  {
   "cell_type": "markdown",
   "id": "f8d884fe",
   "metadata": {},
   "source": [
    "Нет четкой зависимости. "
   ]
  },
  {
   "cell_type": "code",
   "execution_count": 42,
   "id": "12c3a048",
   "metadata": {},
   "outputs": [
    {
     "data": {
      "text/plain": [
       "<AxesSubplot:xlabel='weekday'>"
      ]
     },
     "execution_count": 42,
     "metadata": {},
     "output_type": "execute_result"
    },
    {
     "data": {
      "image/png": "[encoded data removed]",
      "text/plain": [
       "<Figure size 432x288 with 1 Axes>"
      ]
     },
     "metadata": {
      "needs_background": "light"
     },
     "output_type": "display_data"
    }
   ],
   "source": [
    "#Зависимость стоимости квадратного метра от дня недели размещения объявления\n",
    "center_spb_data.pivot_table(\n",
    "    index = 'weekday', values = 'price_square_meter', aggfunc = ['median']).plot(y = 'median')"
   ]
  },
  {
   "cell_type": "markdown",
   "id": "bf9f3599",
   "metadata": {},
   "source": [
    "В данном случае серидина и конец недели самые дорогие. "
   ]
  },
  {
   "cell_type": "code",
   "execution_count": 43,
   "id": "881d3689",
   "metadata": {
    "scrolled": true
   },
   "outputs": [
    {
     "data": {
      "text/plain": [
       "<AxesSubplot:xlabel='month'>"
      ]
     },
     "execution_count": 43,
     "metadata": {},
     "output_type": "execute_result"
    },
    {
     "data": {
      "image/png": "[encoded data removed]",
      "text/plain": [
       "<Figure size 432x288 with 1 Axes>"
      ]
     },
     "metadata": {
      "needs_background": "light"
     },
     "output_type": "display_data"
    }
   ],
   "source": [
    "#Зависимость стоимости квадратного метра от месяца размещения объявления\n",
    "center_spb_data.pivot_table(\n",
    "    index = 'month', values = 'price_square_meter', aggfunc = ['median']).plot(y = 'median')"
   ]
  },
  {
   "cell_type": "markdown",
   "id": "07632e85",
   "metadata": {},
   "source": [
    "Самая высокая стоимость в марте и августе, а в июле самая дешевая. "
   ]
  },
  {
   "cell_type": "code",
   "execution_count": 44,
   "id": "587ef3d4",
   "metadata": {},
   "outputs": [
    {
     "data": {
      "text/plain": [
       "<AxesSubplot:xlabel='year'>"
      ]
     },
     "execution_count": 44,
     "metadata": {},
     "output_type": "execute_result"
    },
    {
     "data": {
      "image/png": "[encoded data removed]",
      "text/plain": [
       "<Figure size 432x288 with 1 Axes>"
      ]
     },
     "metadata": {
      "needs_background": "light"
     },
     "output_type": "display_data"
    }
   ],
   "source": [
    "#Зависимость стоимости квадратного метра от года размещения объявления\n",
    "center_spb_data.pivot_table(\n",
    "    index = 'year', values = 'price_square_meter', aggfunc = ['median']).plot(y = 'median')"
   ]
  },
  {
   "cell_type": "markdown",
   "id": "8be9cbcc",
   "metadata": {},
   "source": [
    "Здесь такая же ситуация. Большое проседание по соимости с 2014 по 2016 года. После 2016 года стоимость растет. "
   ]
  },
  {
   "cell_type": "markdown",
   "id": "08446125",
   "metadata": {},
   "source": [
    "## Общий вывод\n",
    "Данные были боработаны: удалены проруски, которые могли помешать расчету. Исправлены типы данных. \n",
    "Также были изучены площадь, число комнат, цена и высота потолков. Были выявлены аномалии в данных категориях.\n",
    "\n",
    "Среднее время продажи жилой недвижимости составляет от 7 до 200 дней. Аномальными считаю сроки до 7 дней и больше 800 дней. На стоимость м2 влиет кол-во комнат(2-х комнатные квартиры дороже, а чем больше комнат, тем цена ниже), также этаж влияет на стоимость(квартиры на первых этажах дешевле, а чем выше этаж, тем выше стоимость). И немаловажный факт: чем ближе к центру, тем выше цена( квартиры в радиусе 7 км относятця к центру). \n",
    "\n",
    "Что касается даты размещения. Наблюдается проседание в стоимости квартир с 2014 по 2016 года. В эти года и срок продажи увеличивается. Месяцы размещения также влияют на сооимость: чем ближе к лету, тем меньше стоимость. \n",
    "\n"
   ]
  }
 ],
 "metadata": {
  "ExecuteTimeLog": [
   {
    "duration": 422,
    "start_time": "2022-05-08T21:17:22.555Z"
   },
   {
    "duration": 2,
    "start_time": "2022-05-08T21:17:22.979Z"
   },
   {
    "duration": 474,
    "start_time": "2022-05-08T21:17:22.983Z"
   },
   {
    "duration": 79,
    "start_time": "2022-05-08T21:17:23.460Z"
   },
   {
    "duration": 13,
    "start_time": "2022-05-08T21:17:23.541Z"
   },
   {
    "duration": 20,
    "start_time": "2022-05-08T21:17:23.556Z"
   },
   {
    "duration": 17,
    "start_time": "2022-05-08T21:17:23.578Z"
   },
   {
    "duration": 71,
    "start_time": "2022-05-08T21:17:23.597Z"
   },
   {
    "duration": 99,
    "start_time": "2022-05-08T21:17:23.670Z"
   },
   {
    "duration": 0,
    "start_time": "2022-05-08T21:17:23.772Z"
   },
   {
    "duration": 0,
    "start_time": "2022-05-08T21:17:23.774Z"
   },
   {
    "duration": 0,
    "start_time": "2022-05-08T21:17:23.776Z"
   },
   {
    "duration": 0,
    "start_time": "2022-05-08T21:17:23.777Z"
   },
   {
    "duration": 0,
    "start_time": "2022-05-08T21:17:23.778Z"
   },
   {
    "duration": 0,
    "start_time": "2022-05-08T21:17:23.780Z"
   },
   {
    "duration": 1,
    "start_time": "2022-05-08T21:17:23.781Z"
   },
   {
    "duration": 0,
    "start_time": "2022-05-08T21:17:23.783Z"
   },
   {
    "duration": 0,
    "start_time": "2022-05-08T21:17:23.784Z"
   },
   {
    "duration": 0,
    "start_time": "2022-05-08T21:17:23.786Z"
   },
   {
    "duration": 0,
    "start_time": "2022-05-08T21:17:23.787Z"
   },
   {
    "duration": 0,
    "start_time": "2022-05-08T21:17:23.788Z"
   },
   {
    "duration": 0,
    "start_time": "2022-05-08T21:17:23.790Z"
   },
   {
    "duration": 0,
    "start_time": "2022-05-08T21:17:23.791Z"
   },
   {
    "duration": 0,
    "start_time": "2022-05-08T21:17:23.793Z"
   },
   {
    "duration": 0,
    "start_time": "2022-05-08T21:17:23.794Z"
   },
   {
    "duration": 0,
    "start_time": "2022-05-08T21:17:23.796Z"
   },
   {
    "duration": 0,
    "start_time": "2022-05-08T21:17:23.834Z"
   },
   {
    "duration": 0,
    "start_time": "2022-05-08T21:17:23.836Z"
   },
   {
    "duration": 0,
    "start_time": "2022-05-08T21:17:23.838Z"
   },
   {
    "duration": 0,
    "start_time": "2022-05-08T21:17:23.841Z"
   },
   {
    "duration": 0,
    "start_time": "2022-05-08T21:17:23.842Z"
   },
   {
    "duration": 0,
    "start_time": "2022-05-08T21:17:23.844Z"
   },
   {
    "duration": 0,
    "start_time": "2022-05-08T21:17:23.845Z"
   },
   {
    "duration": 0,
    "start_time": "2022-05-08T21:17:23.847Z"
   },
   {
    "duration": 0,
    "start_time": "2022-05-08T21:17:23.848Z"
   },
   {
    "duration": 0,
    "start_time": "2022-05-08T21:17:23.850Z"
   },
   {
    "duration": 0,
    "start_time": "2022-05-08T21:17:23.851Z"
   },
   {
    "duration": 0,
    "start_time": "2022-05-08T21:17:23.853Z"
   },
   {
    "duration": 0,
    "start_time": "2022-05-08T21:17:23.855Z"
   },
   {
    "duration": 1,
    "start_time": "2022-05-08T21:17:23.856Z"
   },
   {
    "duration": 0,
    "start_time": "2022-05-08T21:17:23.858Z"
   },
   {
    "duration": 0,
    "start_time": "2022-05-08T21:17:23.860Z"
   },
   {
    "duration": 0,
    "start_time": "2022-05-08T21:17:23.861Z"
   },
   {
    "duration": 0,
    "start_time": "2022-05-08T21:17:23.863Z"
   },
   {
    "duration": 0,
    "start_time": "2022-05-08T21:17:23.864Z"
   },
   {
    "duration": 0,
    "start_time": "2022-05-08T21:17:23.867Z"
   },
   {
    "duration": 0,
    "start_time": "2022-05-08T21:17:23.868Z"
   },
   {
    "duration": 0,
    "start_time": "2022-05-08T21:17:23.870Z"
   },
   {
    "duration": 426,
    "start_time": "2022-05-09T10:40:58.707Z"
   },
   {
    "duration": 2,
    "start_time": "2022-05-09T10:40:59.135Z"
   },
   {
    "duration": 497,
    "start_time": "2022-05-09T10:40:59.139Z"
   },
   {
    "duration": 83,
    "start_time": "2022-05-09T10:40:59.639Z"
   },
   {
    "duration": 32,
    "start_time": "2022-05-09T10:40:59.724Z"
   },
   {
    "duration": 15,
    "start_time": "2022-05-09T10:40:59.757Z"
   },
   {
    "duration": 9,
    "start_time": "2022-05-09T10:40:59.774Z"
   },
   {
    "duration": 80,
    "start_time": "2022-05-09T10:40:59.785Z"
   },
   {
    "duration": 15,
    "start_time": "2022-05-09T10:40:59.867Z"
   },
   {
    "duration": 5,
    "start_time": "2022-05-09T10:40:59.885Z"
   },
   {
    "duration": 8,
    "start_time": "2022-05-09T10:40:59.891Z"
   },
   {
    "duration": 22,
    "start_time": "2022-05-09T10:40:59.901Z"
   },
   {
    "duration": 23,
    "start_time": "2022-05-09T10:40:59.924Z"
   },
   {
    "duration": 5,
    "start_time": "2022-05-09T10:40:59.949Z"
   },
   {
    "duration": 197,
    "start_time": "2022-05-09T10:40:59.955Z"
   },
   {
    "duration": 4,
    "start_time": "2022-05-09T10:41:00.154Z"
   },
   {
    "duration": 16,
    "start_time": "2022-05-09T10:41:00.160Z"
   },
   {
    "duration": 11,
    "start_time": "2022-05-09T10:41:00.178Z"
   },
   {
    "duration": 24,
    "start_time": "2022-05-09T10:41:00.191Z"
   },
   {
    "duration": 30,
    "start_time": "2022-05-09T10:41:00.217Z"
   },
   {
    "duration": 334,
    "start_time": "2022-05-09T10:41:00.248Z"
   },
   {
    "duration": 4,
    "start_time": "2022-05-09T10:41:00.584Z"
   },
   {
    "duration": 26,
    "start_time": "2022-05-09T10:41:00.590Z"
   },
   {
    "duration": 27,
    "start_time": "2022-05-09T10:41:00.618Z"
   },
   {
    "duration": 328,
    "start_time": "2022-05-09T10:41:00.647Z"
   },
   {
    "duration": 276,
    "start_time": "2022-05-09T10:41:00.977Z"
   },
   {
    "duration": 278,
    "start_time": "2022-05-09T10:41:01.254Z"
   },
   {
    "duration": 184,
    "start_time": "2022-05-09T10:41:01.535Z"
   },
   {
    "duration": 85,
    "start_time": "2022-05-09T10:41:01.721Z"
   },
   {
    "duration": 469,
    "start_time": "2022-05-09T10:41:01.808Z"
   },
   {
    "duration": 10,
    "start_time": "2022-05-09T10:41:02.279Z"
   },
   {
    "duration": 48,
    "start_time": "2022-05-09T10:41:02.291Z"
   },
   {
    "duration": 148,
    "start_time": "2022-05-09T10:41:02.341Z"
   },
   {
    "duration": 223,
    "start_time": "2022-05-09T10:41:02.490Z"
   },
   {
    "duration": 138,
    "start_time": "2022-05-09T10:41:02.715Z"
   },
   {
    "duration": 180,
    "start_time": "2022-05-09T10:41:02.854Z"
   },
   {
    "duration": 157,
    "start_time": "2022-05-09T10:41:03.036Z"
   },
   {
    "duration": 144,
    "start_time": "2022-05-09T10:41:03.195Z"
   },
   {
    "duration": 145,
    "start_time": "2022-05-09T10:41:03.340Z"
   },
   {
    "duration": 24,
    "start_time": "2022-05-09T10:41:03.487Z"
   },
   {
    "duration": 160,
    "start_time": "2022-05-09T10:41:03.523Z"
   },
   {
    "duration": 155,
    "start_time": "2022-05-09T10:41:03.685Z"
   },
   {
    "duration": 116,
    "start_time": "2022-05-09T10:41:03.842Z"
   },
   {
    "duration": 171,
    "start_time": "2022-05-09T10:41:03.960Z"
   },
   {
    "duration": 171,
    "start_time": "2022-05-09T10:41:04.132Z"
   },
   {
    "duration": 222,
    "start_time": "2022-05-09T10:41:04.305Z"
   },
   {
    "duration": 137,
    "start_time": "2022-05-09T10:41:04.530Z"
   },
   {
    "duration": 18,
    "start_time": "2022-05-09T10:50:53.224Z"
   },
   {
    "duration": 3,
    "start_time": "2022-05-09T10:50:56.709Z"
   },
   {
    "duration": 6,
    "start_time": "2022-05-09T10:50:56.715Z"
   },
   {
    "duration": 4,
    "start_time": "2022-05-09T10:50:56.723Z"
   },
   {
    "duration": 100,
    "start_time": "2022-05-09T10:50:56.728Z"
   },
   {
    "duration": 26,
    "start_time": "2022-05-09T10:50:56.830Z"
   },
   {
    "duration": 20,
    "start_time": "2022-05-09T10:50:56.858Z"
   },
   {
    "duration": 10,
    "start_time": "2022-05-09T10:50:56.880Z"
   },
   {
    "duration": 42,
    "start_time": "2022-05-09T10:50:56.892Z"
   },
   {
    "duration": 13,
    "start_time": "2022-05-09T10:50:56.936Z"
   },
   {
    "duration": 4,
    "start_time": "2022-05-09T10:50:56.951Z"
   },
   {
    "duration": 7,
    "start_time": "2022-05-09T10:50:56.957Z"
   },
   {
    "duration": 5,
    "start_time": "2022-05-09T10:50:56.966Z"
   },
   {
    "duration": 51,
    "start_time": "2022-05-09T10:50:56.972Z"
   },
   {
    "duration": 5,
    "start_time": "2022-05-09T10:50:57.026Z"
   },
   {
    "duration": 57,
    "start_time": "2022-05-09T10:50:57.032Z"
   },
   {
    "duration": 4,
    "start_time": "2022-05-09T10:50:57.090Z"
   },
   {
    "duration": 30,
    "start_time": "2022-05-09T10:50:57.096Z"
   },
   {
    "duration": 7,
    "start_time": "2022-05-09T10:50:57.128Z"
   },
   {
    "duration": 5,
    "start_time": "2022-05-09T10:50:57.137Z"
   },
   {
    "duration": 10,
    "start_time": "2022-05-09T10:50:57.144Z"
   },
   {
    "duration": 403,
    "start_time": "2022-05-09T10:50:57.156Z"
   },
   {
    "duration": 4,
    "start_time": "2022-05-09T10:50:57.561Z"
   },
   {
    "duration": 6,
    "start_time": "2022-05-09T10:50:57.566Z"
   },
   {
    "duration": 28,
    "start_time": "2022-05-09T10:50:57.574Z"
   },
   {
    "duration": 270,
    "start_time": "2022-05-09T10:50:57.603Z"
   },
   {
    "duration": 278,
    "start_time": "2022-05-09T10:50:57.875Z"
   },
   {
    "duration": 176,
    "start_time": "2022-05-09T10:50:58.155Z"
   },
   {
    "duration": 192,
    "start_time": "2022-05-09T10:50:58.333Z"
   },
   {
    "duration": 187,
    "start_time": "2022-05-09T10:50:58.527Z"
   },
   {
    "duration": 469,
    "start_time": "2022-05-09T10:50:58.716Z"
   },
   {
    "duration": 10,
    "start_time": "2022-05-09T10:50:59.187Z"
   },
   {
    "duration": 50,
    "start_time": "2022-05-09T10:50:59.199Z"
   },
   {
    "duration": 159,
    "start_time": "2022-05-09T10:50:59.251Z"
   },
   {
    "duration": 163,
    "start_time": "2022-05-09T10:50:59.412Z"
   },
   {
    "duration": 150,
    "start_time": "2022-05-09T10:50:59.577Z"
   },
   {
    "duration": 208,
    "start_time": "2022-05-09T10:50:59.728Z"
   },
   {
    "duration": 169,
    "start_time": "2022-05-09T10:50:59.938Z"
   },
   {
    "duration": 172,
    "start_time": "2022-05-09T10:51:00.110Z"
   },
   {
    "duration": 164,
    "start_time": "2022-05-09T10:51:00.284Z"
   },
   {
    "duration": 95,
    "start_time": "2022-05-09T10:51:00.449Z"
   },
   {
    "duration": 0,
    "start_time": "2022-05-09T10:51:00.546Z"
   },
   {
    "duration": 0,
    "start_time": "2022-05-09T10:51:00.547Z"
   },
   {
    "duration": 0,
    "start_time": "2022-05-09T10:51:00.639Z"
   },
   {
    "duration": 0,
    "start_time": "2022-05-09T10:51:00.641Z"
   },
   {
    "duration": 0,
    "start_time": "2022-05-09T10:51:00.642Z"
   },
   {
    "duration": 0,
    "start_time": "2022-05-09T10:51:00.643Z"
   },
   {
    "duration": 0,
    "start_time": "2022-05-09T10:51:00.644Z"
   },
   {
    "duration": 9,
    "start_time": "2022-05-09T10:51:33.549Z"
   },
   {
    "duration": 2,
    "start_time": "2022-05-09T10:51:36.125Z"
   },
   {
    "duration": 8,
    "start_time": "2022-05-09T10:51:36.129Z"
   },
   {
    "duration": 7,
    "start_time": "2022-05-09T10:51:36.139Z"
   },
   {
    "duration": 98,
    "start_time": "2022-05-09T10:51:36.147Z"
   },
   {
    "duration": 27,
    "start_time": "2022-05-09T10:51:36.247Z"
   },
   {
    "duration": 19,
    "start_time": "2022-05-09T10:51:36.275Z"
   },
   {
    "duration": 28,
    "start_time": "2022-05-09T10:51:36.296Z"
   },
   {
    "duration": 18,
    "start_time": "2022-05-09T10:51:36.325Z"
   },
   {
    "duration": 13,
    "start_time": "2022-05-09T10:51:36.344Z"
   },
   {
    "duration": 5,
    "start_time": "2022-05-09T10:51:36.359Z"
   },
   {
    "duration": 5,
    "start_time": "2022-05-09T10:51:36.366Z"
   },
   {
    "duration": 4,
    "start_time": "2022-05-09T10:51:36.373Z"
   },
   {
    "duration": 58,
    "start_time": "2022-05-09T10:51:36.379Z"
   },
   {
    "duration": 4,
    "start_time": "2022-05-09T10:51:36.439Z"
   },
   {
    "duration": 188,
    "start_time": "2022-05-09T10:51:36.445Z"
   },
   {
    "duration": 4,
    "start_time": "2022-05-09T10:51:36.634Z"
   },
   {
    "duration": 9,
    "start_time": "2022-05-09T10:51:36.640Z"
   },
   {
    "duration": 7,
    "start_time": "2022-05-09T10:51:36.651Z"
   },
   {
    "duration": 6,
    "start_time": "2022-05-09T10:51:36.660Z"
   },
   {
    "duration": 12,
    "start_time": "2022-05-09T10:51:36.668Z"
   },
   {
    "duration": 291,
    "start_time": "2022-05-09T10:51:36.682Z"
   },
   {
    "duration": 4,
    "start_time": "2022-05-09T10:51:36.975Z"
   },
   {
    "duration": 6,
    "start_time": "2022-05-09T10:51:36.980Z"
   },
   {
    "duration": 34,
    "start_time": "2022-05-09T10:51:36.988Z"
   },
   {
    "duration": 270,
    "start_time": "2022-05-09T10:51:37.026Z"
   },
   {
    "duration": 266,
    "start_time": "2022-05-09T10:51:37.298Z"
   },
   {
    "duration": 178,
    "start_time": "2022-05-09T10:51:37.565Z"
   },
   {
    "duration": 178,
    "start_time": "2022-05-09T10:51:37.744Z"
   },
   {
    "duration": 84,
    "start_time": "2022-05-09T10:51:37.924Z"
   },
   {
    "duration": 644,
    "start_time": "2022-05-09T10:51:38.010Z"
   },
   {
    "duration": 9,
    "start_time": "2022-05-09T10:51:38.656Z"
   },
   {
    "duration": 30,
    "start_time": "2022-05-09T10:51:38.666Z"
   },
   {
    "duration": 161,
    "start_time": "2022-05-09T10:51:38.698Z"
   },
   {
    "duration": 141,
    "start_time": "2022-05-09T10:51:38.861Z"
   },
   {
    "duration": 150,
    "start_time": "2022-05-09T10:51:39.004Z"
   },
   {
    "duration": 195,
    "start_time": "2022-05-09T10:51:39.156Z"
   },
   {
    "duration": 160,
    "start_time": "2022-05-09T10:51:39.353Z"
   },
   {
    "duration": 144,
    "start_time": "2022-05-09T10:51:39.523Z"
   },
   {
    "duration": 157,
    "start_time": "2022-05-09T10:51:39.669Z"
   },
   {
    "duration": 23,
    "start_time": "2022-05-09T10:51:39.828Z"
   },
   {
    "duration": 162,
    "start_time": "2022-05-09T10:51:39.853Z"
   },
   {
    "duration": 158,
    "start_time": "2022-05-09T10:51:40.017Z"
   },
   {
    "duration": 121,
    "start_time": "2022-05-09T10:51:40.176Z"
   },
   {
    "duration": 180,
    "start_time": "2022-05-09T10:51:40.299Z"
   },
   {
    "duration": 245,
    "start_time": "2022-05-09T10:51:40.480Z"
   },
   {
    "duration": 147,
    "start_time": "2022-05-09T10:51:40.726Z"
   },
   {
    "duration": 129,
    "start_time": "2022-05-09T10:51:40.875Z"
   },
   {
    "duration": 46,
    "start_time": "2022-05-09T10:53:21.097Z"
   },
   {
    "duration": 3,
    "start_time": "2022-05-09T10:53:25.650Z"
   },
   {
    "duration": 4,
    "start_time": "2022-05-09T10:53:25.655Z"
   },
   {
    "duration": 4,
    "start_time": "2022-05-09T10:53:25.661Z"
   },
   {
    "duration": 80,
    "start_time": "2022-05-09T10:53:25.667Z"
   },
   {
    "duration": 28,
    "start_time": "2022-05-09T10:53:25.749Z"
   },
   {
    "duration": 22,
    "start_time": "2022-05-09T10:53:25.779Z"
   },
   {
    "duration": 27,
    "start_time": "2022-05-09T10:53:25.802Z"
   },
   {
    "duration": 18,
    "start_time": "2022-05-09T10:53:25.830Z"
   },
   {
    "duration": 45,
    "start_time": "2022-05-09T10:53:25.850Z"
   },
   {
    "duration": 27,
    "start_time": "2022-05-09T10:53:25.896Z"
   },
   {
    "duration": 5,
    "start_time": "2022-05-09T10:53:25.924Z"
   },
   {
    "duration": 4,
    "start_time": "2022-05-09T10:53:25.931Z"
   },
   {
    "duration": 24,
    "start_time": "2022-05-09T10:53:25.937Z"
   },
   {
    "duration": 8,
    "start_time": "2022-05-09T10:53:25.962Z"
   },
   {
    "duration": 0,
    "start_time": "2022-05-09T10:53:25.972Z"
   },
   {
    "duration": 0,
    "start_time": "2022-05-09T10:53:25.974Z"
   },
   {
    "duration": 0,
    "start_time": "2022-05-09T10:53:25.975Z"
   },
   {
    "duration": 0,
    "start_time": "2022-05-09T10:53:25.977Z"
   },
   {
    "duration": 0,
    "start_time": "2022-05-09T10:53:25.977Z"
   },
   {
    "duration": 0,
    "start_time": "2022-05-09T10:53:25.979Z"
   },
   {
    "duration": 0,
    "start_time": "2022-05-09T10:53:25.980Z"
   },
   {
    "duration": 0,
    "start_time": "2022-05-09T10:53:25.980Z"
   },
   {
    "duration": 0,
    "start_time": "2022-05-09T10:53:25.982Z"
   },
   {
    "duration": 0,
    "start_time": "2022-05-09T10:53:26.023Z"
   },
   {
    "duration": 0,
    "start_time": "2022-05-09T10:53:26.024Z"
   },
   {
    "duration": 0,
    "start_time": "2022-05-09T10:53:26.025Z"
   },
   {
    "duration": 0,
    "start_time": "2022-05-09T10:53:26.026Z"
   },
   {
    "duration": 0,
    "start_time": "2022-05-09T10:53:26.027Z"
   },
   {
    "duration": 0,
    "start_time": "2022-05-09T10:53:26.028Z"
   },
   {
    "duration": 0,
    "start_time": "2022-05-09T10:53:26.030Z"
   },
   {
    "duration": 0,
    "start_time": "2022-05-09T10:53:26.031Z"
   },
   {
    "duration": 0,
    "start_time": "2022-05-09T10:53:26.032Z"
   },
   {
    "duration": 0,
    "start_time": "2022-05-09T10:53:26.034Z"
   },
   {
    "duration": 0,
    "start_time": "2022-05-09T10:53:26.035Z"
   },
   {
    "duration": 0,
    "start_time": "2022-05-09T10:53:26.036Z"
   },
   {
    "duration": 0,
    "start_time": "2022-05-09T10:53:26.038Z"
   },
   {
    "duration": 0,
    "start_time": "2022-05-09T10:53:26.039Z"
   },
   {
    "duration": 0,
    "start_time": "2022-05-09T10:53:26.041Z"
   },
   {
    "duration": 0,
    "start_time": "2022-05-09T10:53:26.042Z"
   },
   {
    "duration": 0,
    "start_time": "2022-05-09T10:53:26.044Z"
   },
   {
    "duration": 0,
    "start_time": "2022-05-09T10:53:26.045Z"
   },
   {
    "duration": 0,
    "start_time": "2022-05-09T10:53:26.047Z"
   },
   {
    "duration": 0,
    "start_time": "2022-05-09T10:53:26.048Z"
   },
   {
    "duration": 0,
    "start_time": "2022-05-09T10:53:26.049Z"
   },
   {
    "duration": 0,
    "start_time": "2022-05-09T10:53:26.051Z"
   },
   {
    "duration": 0,
    "start_time": "2022-05-09T10:53:26.052Z"
   },
   {
    "duration": 1,
    "start_time": "2022-05-09T10:53:26.053Z"
   },
   {
    "duration": 10,
    "start_time": "2022-05-09T10:54:10.269Z"
   },
   {
    "duration": 5,
    "start_time": "2022-05-09T10:55:43.494Z"
   },
   {
    "duration": 2,
    "start_time": "2022-05-09T10:55:46.789Z"
   },
   {
    "duration": 14,
    "start_time": "2022-05-09T10:55:46.793Z"
   },
   {
    "duration": 6,
    "start_time": "2022-05-09T10:55:46.809Z"
   },
   {
    "duration": 81,
    "start_time": "2022-05-09T10:55:46.817Z"
   },
   {
    "duration": 36,
    "start_time": "2022-05-09T10:55:46.900Z"
   },
   {
    "duration": 15,
    "start_time": "2022-05-09T10:55:46.938Z"
   },
   {
    "duration": 8,
    "start_time": "2022-05-09T10:55:46.955Z"
   },
   {
    "duration": 15,
    "start_time": "2022-05-09T10:55:46.965Z"
   },
   {
    "duration": 70,
    "start_time": "2022-05-09T10:55:46.982Z"
   },
   {
    "duration": 4,
    "start_time": "2022-05-09T10:55:47.055Z"
   },
   {
    "duration": 7,
    "start_time": "2022-05-09T10:55:47.060Z"
   },
   {
    "duration": 5,
    "start_time": "2022-05-09T10:55:47.069Z"
   },
   {
    "duration": 4,
    "start_time": "2022-05-09T10:55:47.076Z"
   },
   {
    "duration": 48,
    "start_time": "2022-05-09T10:55:47.082Z"
   },
   {
    "duration": 4,
    "start_time": "2022-05-09T10:55:47.132Z"
   },
   {
    "duration": 188,
    "start_time": "2022-05-09T10:55:47.138Z"
   },
   {
    "duration": 4,
    "start_time": "2022-05-09T10:55:47.328Z"
   },
   {
    "duration": 12,
    "start_time": "2022-05-09T10:55:47.333Z"
   },
   {
    "duration": 10,
    "start_time": "2022-05-09T10:55:47.347Z"
   },
   {
    "duration": 6,
    "start_time": "2022-05-09T10:55:47.358Z"
   },
   {
    "duration": 9,
    "start_time": "2022-05-09T10:55:47.366Z"
   },
   {
    "duration": 310,
    "start_time": "2022-05-09T10:55:47.377Z"
   },
   {
    "duration": 4,
    "start_time": "2022-05-09T10:55:47.689Z"
   },
   {
    "duration": 6,
    "start_time": "2022-05-09T10:55:47.694Z"
   },
   {
    "duration": 35,
    "start_time": "2022-05-09T10:55:47.702Z"
   },
   {
    "duration": 265,
    "start_time": "2022-05-09T10:55:47.739Z"
   },
   {
    "duration": 272,
    "start_time": "2022-05-09T10:55:48.006Z"
   },
   {
    "duration": 182,
    "start_time": "2022-05-09T10:55:48.283Z"
   },
   {
    "duration": 284,
    "start_time": "2022-05-09T10:55:48.467Z"
   },
   {
    "duration": 100,
    "start_time": "2022-05-09T10:55:48.753Z"
   },
   {
    "duration": 439,
    "start_time": "2022-05-09T10:55:48.855Z"
   },
   {
    "duration": 11,
    "start_time": "2022-05-09T10:55:49.296Z"
   },
   {
    "duration": 44,
    "start_time": "2022-05-09T10:55:49.309Z"
   },
   {
    "duration": 156,
    "start_time": "2022-05-09T10:55:49.354Z"
   },
   {
    "duration": 157,
    "start_time": "2022-05-09T10:55:49.512Z"
   },
   {
    "duration": 141,
    "start_time": "2022-05-09T10:55:49.671Z"
   },
   {
    "duration": 187,
    "start_time": "2022-05-09T10:55:49.821Z"
   },
   {
    "duration": 138,
    "start_time": "2022-05-09T10:55:50.010Z"
   },
   {
    "duration": 136,
    "start_time": "2022-05-09T10:55:50.150Z"
   },
   {
    "duration": 150,
    "start_time": "2022-05-09T10:55:50.288Z"
   },
   {
    "duration": 26,
    "start_time": "2022-05-09T10:55:50.439Z"
   },
   {
    "duration": 171,
    "start_time": "2022-05-09T10:55:50.466Z"
   },
   {
    "duration": 154,
    "start_time": "2022-05-09T10:55:50.638Z"
   },
   {
    "duration": 230,
    "start_time": "2022-05-09T10:55:50.794Z"
   },
   {
    "duration": 164,
    "start_time": "2022-05-09T10:55:51.026Z"
   },
   {
    "duration": 141,
    "start_time": "2022-05-09T10:55:51.192Z"
   },
   {
    "duration": 138,
    "start_time": "2022-05-09T10:55:51.334Z"
   },
   {
    "duration": 135,
    "start_time": "2022-05-09T10:55:51.473Z"
   },
   {
    "duration": 12,
    "start_time": "2022-05-09T10:59:17.152Z"
   },
   {
    "duration": 283,
    "start_time": "2022-05-09T11:01:44.871Z"
   },
   {
    "duration": 278,
    "start_time": "2022-05-09T11:02:23.023Z"
   },
   {
    "duration": 279,
    "start_time": "2022-05-09T11:09:07.428Z"
   },
   {
    "duration": 193,
    "start_time": "2022-05-09T11:09:58.545Z"
   },
   {
    "duration": 550,
    "start_time": "2022-05-09T11:11:21.481Z"
   },
   {
    "duration": 2,
    "start_time": "2022-05-09T11:13:29.662Z"
   },
   {
    "duration": 8,
    "start_time": "2022-05-09T11:13:29.666Z"
   },
   {
    "duration": 20,
    "start_time": "2022-05-09T11:13:29.676Z"
   },
   {
    "duration": 87,
    "start_time": "2022-05-09T11:13:29.697Z"
   },
   {
    "duration": 54,
    "start_time": "2022-05-09T11:13:29.786Z"
   },
   {
    "duration": 14,
    "start_time": "2022-05-09T11:13:29.842Z"
   },
   {
    "duration": 16,
    "start_time": "2022-05-09T11:13:29.858Z"
   },
   {
    "duration": 20,
    "start_time": "2022-05-09T11:13:29.876Z"
   },
   {
    "duration": 47,
    "start_time": "2022-05-09T11:13:29.923Z"
   },
   {
    "duration": 5,
    "start_time": "2022-05-09T11:13:29.972Z"
   },
   {
    "duration": 16,
    "start_time": "2022-05-09T11:13:29.978Z"
   },
   {
    "duration": 32,
    "start_time": "2022-05-09T11:13:29.996Z"
   },
   {
    "duration": 18,
    "start_time": "2022-05-09T11:13:30.031Z"
   },
   {
    "duration": 42,
    "start_time": "2022-05-09T11:13:30.051Z"
   },
   {
    "duration": 6,
    "start_time": "2022-05-09T11:13:30.095Z"
   },
   {
    "duration": 194,
    "start_time": "2022-05-09T11:13:30.103Z"
   },
   {
    "duration": 5,
    "start_time": "2022-05-09T11:13:30.298Z"
   },
   {
    "duration": 24,
    "start_time": "2022-05-09T11:13:30.304Z"
   },
   {
    "duration": 32,
    "start_time": "2022-05-09T11:13:30.329Z"
   },
   {
    "duration": 286,
    "start_time": "2022-05-09T11:13:30.362Z"
   },
   {
    "duration": 5,
    "start_time": "2022-05-09T11:13:30.650Z"
   },
   {
    "duration": 83,
    "start_time": "2022-05-09T11:13:30.656Z"
   },
   {
    "duration": 59,
    "start_time": "2022-05-09T11:13:30.741Z"
   },
   {
    "duration": 525,
    "start_time": "2022-05-09T11:13:30.801Z"
   },
   {
    "duration": 518,
    "start_time": "2022-05-09T11:13:31.328Z"
   },
   {
    "duration": 278,
    "start_time": "2022-05-09T11:13:31.847Z"
   },
   {
    "duration": 311,
    "start_time": "2022-05-09T11:13:32.128Z"
   },
   {
    "duration": 155,
    "start_time": "2022-05-09T11:13:32.441Z"
   },
   {
    "duration": 623,
    "start_time": "2022-05-09T11:13:32.599Z"
   },
   {
    "duration": 11,
    "start_time": "2022-05-09T11:13:33.224Z"
   },
   {
    "duration": 32,
    "start_time": "2022-05-09T11:13:33.237Z"
   },
   {
    "duration": 167,
    "start_time": "2022-05-09T11:13:33.271Z"
   },
   {
    "duration": 153,
    "start_time": "2022-05-09T11:13:33.440Z"
   },
   {
    "duration": 148,
    "start_time": "2022-05-09T11:13:33.595Z"
   },
   {
    "duration": 204,
    "start_time": "2022-05-09T11:13:33.744Z"
   },
   {
    "duration": 160,
    "start_time": "2022-05-09T11:13:33.950Z"
   },
   {
    "duration": 160,
    "start_time": "2022-05-09T11:13:34.115Z"
   },
   {
    "duration": 214,
    "start_time": "2022-05-09T11:13:34.277Z"
   },
   {
    "duration": 45,
    "start_time": "2022-05-09T11:13:34.494Z"
   },
   {
    "duration": 248,
    "start_time": "2022-05-09T11:13:34.541Z"
   },
   {
    "duration": 238,
    "start_time": "2022-05-09T11:13:34.791Z"
   },
   {
    "duration": 197,
    "start_time": "2022-05-09T11:13:35.032Z"
   },
   {
    "duration": 329,
    "start_time": "2022-05-09T11:13:35.231Z"
   },
   {
    "duration": 146,
    "start_time": "2022-05-09T11:13:35.563Z"
   },
   {
    "duration": 157,
    "start_time": "2022-05-09T11:13:35.711Z"
   },
   {
    "duration": 159,
    "start_time": "2022-05-09T11:13:35.870Z"
   },
   {
    "duration": 434,
    "start_time": "2022-05-09T11:17:03.146Z"
   },
   {
    "duration": 4,
    "start_time": "2022-05-09T11:17:14.843Z"
   },
   {
    "duration": 14,
    "start_time": "2022-05-09T11:17:14.849Z"
   },
   {
    "duration": 12,
    "start_time": "2022-05-09T11:17:14.865Z"
   },
   {
    "duration": 104,
    "start_time": "2022-05-09T11:17:14.880Z"
   },
   {
    "duration": 42,
    "start_time": "2022-05-09T11:17:14.986Z"
   },
   {
    "duration": 33,
    "start_time": "2022-05-09T11:17:15.030Z"
   },
   {
    "duration": 16,
    "start_time": "2022-05-09T11:17:15.065Z"
   },
   {
    "duration": 60,
    "start_time": "2022-05-09T11:17:15.084Z"
   },
   {
    "duration": 48,
    "start_time": "2022-05-09T11:17:15.146Z"
   },
   {
    "duration": 5,
    "start_time": "2022-05-09T11:17:15.197Z"
   },
   {
    "duration": 25,
    "start_time": "2022-05-09T11:17:15.205Z"
   },
   {
    "duration": 11,
    "start_time": "2022-05-09T11:17:15.232Z"
   },
   {
    "duration": 16,
    "start_time": "2022-05-09T11:17:15.244Z"
   },
   {
    "duration": 38,
    "start_time": "2022-05-09T11:17:15.262Z"
   },
   {
    "duration": 5,
    "start_time": "2022-05-09T11:17:15.302Z"
   },
   {
    "duration": 214,
    "start_time": "2022-05-09T11:17:15.309Z"
   },
   {
    "duration": 6,
    "start_time": "2022-05-09T11:17:15.529Z"
   },
   {
    "duration": 15,
    "start_time": "2022-05-09T11:17:15.539Z"
   },
   {
    "duration": 22,
    "start_time": "2022-05-09T11:17:15.557Z"
   },
   {
    "duration": 556,
    "start_time": "2022-05-09T11:17:15.583Z"
   },
   {
    "duration": 7,
    "start_time": "2022-05-09T11:17:16.142Z"
   },
   {
    "duration": 8,
    "start_time": "2022-05-09T11:17:16.152Z"
   },
   {
    "duration": 44,
    "start_time": "2022-05-09T11:17:16.162Z"
   },
   {
    "duration": 550,
    "start_time": "2022-05-09T11:17:16.231Z"
   },
   {
    "duration": 319,
    "start_time": "2022-05-09T11:17:16.784Z"
   },
   {
    "duration": 210,
    "start_time": "2022-05-09T11:17:17.105Z"
   },
   {
    "duration": 335,
    "start_time": "2022-05-09T11:17:17.318Z"
   },
   {
    "duration": 431,
    "start_time": "2022-05-09T11:17:17.659Z"
   },
   {
    "duration": 529,
    "start_time": "2022-05-09T11:17:18.093Z"
   },
   {
    "duration": 23,
    "start_time": "2022-05-09T11:17:18.624Z"
   },
   {
    "duration": 33,
    "start_time": "2022-05-09T11:17:18.649Z"
   },
   {
    "duration": 175,
    "start_time": "2022-05-09T11:17:18.684Z"
   },
   {
    "duration": 169,
    "start_time": "2022-05-09T11:17:18.861Z"
   },
   {
    "duration": 171,
    "start_time": "2022-05-09T11:17:19.033Z"
   },
   {
    "duration": 219,
    "start_time": "2022-05-09T11:17:19.207Z"
   },
   {
    "duration": 163,
    "start_time": "2022-05-09T11:17:19.428Z"
   },
   {
    "duration": 247,
    "start_time": "2022-05-09T11:17:19.593Z"
   },
   {
    "duration": 215,
    "start_time": "2022-05-09T11:17:19.842Z"
   },
   {
    "duration": 28,
    "start_time": "2022-05-09T11:17:20.059Z"
   },
   {
    "duration": 185,
    "start_time": "2022-05-09T11:17:20.089Z"
   },
   {
    "duration": 179,
    "start_time": "2022-05-09T11:17:20.276Z"
   },
   {
    "duration": 144,
    "start_time": "2022-05-09T11:17:20.457Z"
   },
   {
    "duration": 317,
    "start_time": "2022-05-09T11:17:20.605Z"
   },
   {
    "duration": 263,
    "start_time": "2022-05-09T11:17:20.925Z"
   },
   {
    "duration": 166,
    "start_time": "2022-05-09T11:17:21.190Z"
   },
   {
    "duration": 155,
    "start_time": "2022-05-09T11:17:21.359Z"
   },
   {
    "duration": 188,
    "start_time": "2022-05-09T11:18:29.105Z"
   },
   {
    "duration": 536,
    "start_time": "2022-05-09T11:19:02.807Z"
   },
   {
    "duration": 118,
    "start_time": "2022-05-09T11:19:45.008Z"
   },
   {
    "duration": 92,
    "start_time": "2022-05-09T11:19:58.757Z"
   },
   {
    "duration": 3,
    "start_time": "2022-05-09T11:20:02.806Z"
   },
   {
    "duration": 7,
    "start_time": "2022-05-09T11:20:02.812Z"
   },
   {
    "duration": 9,
    "start_time": "2022-05-09T11:20:02.821Z"
   },
   {
    "duration": 105,
    "start_time": "2022-05-09T11:20:02.832Z"
   },
   {
    "duration": 28,
    "start_time": "2022-05-09T11:20:02.940Z"
   },
   {
    "duration": 16,
    "start_time": "2022-05-09T11:20:02.970Z"
   },
   {
    "duration": 10,
    "start_time": "2022-05-09T11:20:02.988Z"
   },
   {
    "duration": 44,
    "start_time": "2022-05-09T11:20:03.000Z"
   },
   {
    "duration": 46,
    "start_time": "2022-05-09T11:20:03.046Z"
   },
   {
    "duration": 4,
    "start_time": "2022-05-09T11:20:03.094Z"
   },
   {
    "duration": 8,
    "start_time": "2022-05-09T11:20:03.124Z"
   },
   {
    "duration": 32,
    "start_time": "2022-05-09T11:20:03.138Z"
   },
   {
    "duration": 27,
    "start_time": "2022-05-09T11:20:03.171Z"
   },
   {
    "duration": 34,
    "start_time": "2022-05-09T11:20:03.200Z"
   },
   {
    "duration": 7,
    "start_time": "2022-05-09T11:20:03.236Z"
   },
   {
    "duration": 221,
    "start_time": "2022-05-09T11:20:03.245Z"
   },
   {
    "duration": 5,
    "start_time": "2022-05-09T11:20:03.469Z"
   },
   {
    "duration": 11,
    "start_time": "2022-05-09T11:20:03.477Z"
   },
   {
    "duration": 38,
    "start_time": "2022-05-09T11:20:03.491Z"
   },
   {
    "duration": 473,
    "start_time": "2022-05-09T11:20:03.531Z"
   },
   {
    "duration": 5,
    "start_time": "2022-05-09T11:20:04.006Z"
   },
   {
    "duration": 12,
    "start_time": "2022-05-09T11:20:04.013Z"
   },
   {
    "duration": 41,
    "start_time": "2022-05-09T11:20:04.028Z"
   },
   {
    "duration": 545,
    "start_time": "2022-05-09T11:20:04.072Z"
   },
   {
    "duration": 541,
    "start_time": "2022-05-09T11:20:04.622Z"
   },
   {
    "duration": 337,
    "start_time": "2022-05-09T11:20:05.165Z"
   },
   {
    "duration": 329,
    "start_time": "2022-05-09T11:20:05.506Z"
   },
   {
    "duration": 115,
    "start_time": "2022-05-09T11:20:05.840Z"
   },
   {
    "duration": 696,
    "start_time": "2022-05-09T11:20:05.960Z"
   },
   {
    "duration": 10,
    "start_time": "2022-05-09T11:20:06.657Z"
   },
   {
    "duration": 44,
    "start_time": "2022-05-09T11:20:06.669Z"
   },
   {
    "duration": 173,
    "start_time": "2022-05-09T11:20:06.715Z"
   },
   {
    "duration": 164,
    "start_time": "2022-05-09T11:20:06.889Z"
   },
   {
    "duration": 156,
    "start_time": "2022-05-09T11:20:07.055Z"
   },
   {
    "duration": 325,
    "start_time": "2022-05-09T11:20:07.213Z"
   },
   {
    "duration": 162,
    "start_time": "2022-05-09T11:20:07.543Z"
   },
   {
    "duration": 160,
    "start_time": "2022-05-09T11:20:07.707Z"
   },
   {
    "duration": 173,
    "start_time": "2022-05-09T11:20:07.868Z"
   },
   {
    "duration": 28,
    "start_time": "2022-05-09T11:20:08.043Z"
   },
   {
    "duration": 188,
    "start_time": "2022-05-09T11:20:08.073Z"
   },
   {
    "duration": 176,
    "start_time": "2022-05-09T11:20:08.263Z"
   },
   {
    "duration": 192,
    "start_time": "2022-05-09T11:20:08.441Z"
   },
   {
    "duration": 182,
    "start_time": "2022-05-09T11:20:08.634Z"
   },
   {
    "duration": 149,
    "start_time": "2022-05-09T11:20:08.823Z"
   },
   {
    "duration": 152,
    "start_time": "2022-05-09T11:20:08.973Z"
   },
   {
    "duration": 152,
    "start_time": "2022-05-09T11:20:09.127Z"
   },
   {
    "duration": 4,
    "start_time": "2022-05-09T11:25:13.785Z"
   },
   {
    "duration": 3,
    "start_time": "2022-05-09T11:25:13.794Z"
   },
   {
    "duration": 4,
    "start_time": "2022-05-09T11:25:13.799Z"
   },
   {
    "duration": 96,
    "start_time": "2022-05-09T11:25:13.805Z"
   },
   {
    "duration": 53,
    "start_time": "2022-05-09T11:25:13.903Z"
   },
   {
    "duration": 17,
    "start_time": "2022-05-09T11:25:13.958Z"
   },
   {
    "duration": 11,
    "start_time": "2022-05-09T11:25:13.978Z"
   },
   {
    "duration": 51,
    "start_time": "2022-05-09T11:25:13.991Z"
   },
   {
    "duration": 52,
    "start_time": "2022-05-09T11:25:14.044Z"
   },
   {
    "duration": 5,
    "start_time": "2022-05-09T11:25:14.099Z"
   },
   {
    "duration": 9,
    "start_time": "2022-05-09T11:25:14.124Z"
   },
   {
    "duration": 6,
    "start_time": "2022-05-09T11:25:14.137Z"
   },
   {
    "duration": 6,
    "start_time": "2022-05-09T11:25:14.145Z"
   },
   {
    "duration": 69,
    "start_time": "2022-05-09T11:25:14.154Z"
   },
   {
    "duration": 9,
    "start_time": "2022-05-09T11:25:14.227Z"
   },
   {
    "duration": 238,
    "start_time": "2022-05-09T11:25:14.238Z"
   },
   {
    "duration": 5,
    "start_time": "2022-05-09T11:25:14.478Z"
   },
   {
    "duration": 32,
    "start_time": "2022-05-09T11:25:14.485Z"
   },
   {
    "duration": 39,
    "start_time": "2022-05-09T11:25:14.519Z"
   },
   {
    "duration": 305,
    "start_time": "2022-05-09T11:25:14.560Z"
   },
   {
    "duration": 5,
    "start_time": "2022-05-09T11:25:14.868Z"
   },
   {
    "duration": 8,
    "start_time": "2022-05-09T11:25:14.874Z"
   },
   {
    "duration": 39,
    "start_time": "2022-05-09T11:25:14.885Z"
   },
   {
    "duration": 732,
    "start_time": "2022-05-09T11:25:14.933Z"
   },
   {
    "duration": 431,
    "start_time": "2022-05-09T11:25:15.671Z"
   },
   {
    "duration": 323,
    "start_time": "2022-05-09T11:25:16.105Z"
   },
   {
    "duration": 217,
    "start_time": "2022-05-09T11:25:16.430Z"
   },
   {
    "duration": 111,
    "start_time": "2022-05-09T11:25:16.649Z"
   },
   {
    "duration": 527,
    "start_time": "2022-05-09T11:25:16.762Z"
   },
   {
    "duration": 11,
    "start_time": "2022-05-09T11:25:17.291Z"
   },
   {
    "duration": 53,
    "start_time": "2022-05-09T11:25:17.304Z"
   },
   {
    "duration": 161,
    "start_time": "2022-05-09T11:25:17.359Z"
   },
   {
    "duration": 158,
    "start_time": "2022-05-09T11:25:17.522Z"
   },
   {
    "duration": 162,
    "start_time": "2022-05-09T11:25:17.682Z"
   },
   {
    "duration": 210,
    "start_time": "2022-05-09T11:25:17.847Z"
   },
   {
    "duration": 155,
    "start_time": "2022-05-09T11:25:18.059Z"
   },
   {
    "duration": 169,
    "start_time": "2022-05-09T11:25:18.221Z"
   },
   {
    "duration": 172,
    "start_time": "2022-05-09T11:25:18.391Z"
   },
   {
    "duration": 27,
    "start_time": "2022-05-09T11:25:18.565Z"
   },
   {
    "duration": 189,
    "start_time": "2022-05-09T11:25:18.594Z"
   },
   {
    "duration": 173,
    "start_time": "2022-05-09T11:25:18.784Z"
   },
   {
    "duration": 140,
    "start_time": "2022-05-09T11:25:18.959Z"
   },
   {
    "duration": 186,
    "start_time": "2022-05-09T11:25:19.101Z"
   },
   {
    "duration": 153,
    "start_time": "2022-05-09T11:25:19.288Z"
   },
   {
    "duration": 155,
    "start_time": "2022-05-09T11:25:19.443Z"
   },
   {
    "duration": 349,
    "start_time": "2022-05-09T11:25:19.599Z"
   },
   {
    "duration": 266,
    "start_time": "2022-05-09T11:34:49.483Z"
   },
   {
    "duration": 252,
    "start_time": "2022-05-09T11:35:43.084Z"
   },
   {
    "duration": 194,
    "start_time": "2022-05-09T11:36:52.664Z"
   },
   {
    "duration": 216,
    "start_time": "2022-05-09T11:37:57.034Z"
   },
   {
    "duration": 161,
    "start_time": "2022-05-09T11:38:58.084Z"
   },
   {
    "duration": 175,
    "start_time": "2022-05-09T11:39:54.666Z"
   },
   {
    "duration": 271,
    "start_time": "2022-05-09T11:40:37.522Z"
   },
   {
    "duration": 162,
    "start_time": "2022-05-09T11:41:40.727Z"
   },
   {
    "duration": 3,
    "start_time": "2022-05-09T11:44:26.106Z"
   },
   {
    "duration": 3,
    "start_time": "2022-05-09T11:44:26.114Z"
   },
   {
    "duration": 22,
    "start_time": "2022-05-09T11:44:26.119Z"
   },
   {
    "duration": 113,
    "start_time": "2022-05-09T11:44:26.143Z"
   },
   {
    "duration": 31,
    "start_time": "2022-05-09T11:44:26.259Z"
   },
   {
    "duration": 32,
    "start_time": "2022-05-09T11:44:26.294Z"
   },
   {
    "duration": 17,
    "start_time": "2022-05-09T11:44:26.328Z"
   },
   {
    "duration": 21,
    "start_time": "2022-05-09T11:44:26.348Z"
   },
   {
    "duration": 83,
    "start_time": "2022-05-09T11:44:26.371Z"
   },
   {
    "duration": 5,
    "start_time": "2022-05-09T11:44:26.457Z"
   },
   {
    "duration": 9,
    "start_time": "2022-05-09T11:44:26.464Z"
   },
   {
    "duration": 8,
    "start_time": "2022-05-09T11:44:26.475Z"
   },
   {
    "duration": 9,
    "start_time": "2022-05-09T11:44:26.484Z"
   },
   {
    "duration": 48,
    "start_time": "2022-05-09T11:44:26.495Z"
   },
   {
    "duration": 7,
    "start_time": "2022-05-09T11:44:26.546Z"
   },
   {
    "duration": 365,
    "start_time": "2022-05-09T11:44:26.555Z"
   },
   {
    "duration": 9,
    "start_time": "2022-05-09T11:44:26.922Z"
   },
   {
    "duration": 13,
    "start_time": "2022-05-09T11:44:26.935Z"
   },
   {
    "duration": 16,
    "start_time": "2022-05-09T11:44:26.950Z"
   },
   {
    "duration": 354,
    "start_time": "2022-05-09T11:44:26.969Z"
   },
   {
    "duration": 8,
    "start_time": "2022-05-09T11:44:27.325Z"
   },
   {
    "duration": 7,
    "start_time": "2022-05-09T11:44:27.335Z"
   },
   {
    "duration": 28,
    "start_time": "2022-05-09T11:44:27.344Z"
   },
   {
    "duration": 479,
    "start_time": "2022-05-09T11:44:27.374Z"
   },
   {
    "duration": 390,
    "start_time": "2022-05-09T11:44:27.859Z"
   },
   {
    "duration": 375,
    "start_time": "2022-05-09T11:44:28.252Z"
   },
   {
    "duration": 220,
    "start_time": "2022-05-09T11:44:28.629Z"
   },
   {
    "duration": 113,
    "start_time": "2022-05-09T11:44:28.851Z"
   },
   {
    "duration": 705,
    "start_time": "2022-05-09T11:44:28.966Z"
   },
   {
    "duration": 10,
    "start_time": "2022-05-09T11:44:29.673Z"
   },
   {
    "duration": 58,
    "start_time": "2022-05-09T11:44:29.686Z"
   },
   {
    "duration": 168,
    "start_time": "2022-05-09T11:44:29.746Z"
   },
   {
    "duration": 174,
    "start_time": "2022-05-09T11:44:29.916Z"
   },
   {
    "duration": 172,
    "start_time": "2022-05-09T11:44:30.091Z"
   },
   {
    "duration": 220,
    "start_time": "2022-05-09T11:44:30.265Z"
   },
   {
    "duration": 174,
    "start_time": "2022-05-09T11:44:30.487Z"
   },
   {
    "duration": 191,
    "start_time": "2022-05-09T11:44:30.663Z"
   },
   {
    "duration": 193,
    "start_time": "2022-05-09T11:44:30.855Z"
   },
   {
    "duration": 27,
    "start_time": "2022-05-09T11:44:31.050Z"
   },
   {
    "duration": 195,
    "start_time": "2022-05-09T11:44:31.079Z"
   },
   {
    "duration": 192,
    "start_time": "2022-05-09T11:44:31.275Z"
   },
   {
    "duration": 135,
    "start_time": "2022-05-09T11:44:31.469Z"
   },
   {
    "duration": 179,
    "start_time": "2022-05-09T11:44:31.606Z"
   },
   {
    "duration": 162,
    "start_time": "2022-05-09T11:44:31.787Z"
   },
   {
    "duration": 159,
    "start_time": "2022-05-09T11:44:31.952Z"
   },
   {
    "duration": 168,
    "start_time": "2022-05-09T11:44:32.113Z"
   },
   {
    "duration": 3,
    "start_time": "2022-05-09T11:50:17.697Z"
   },
   {
    "duration": 5,
    "start_time": "2022-05-09T11:50:17.702Z"
   },
   {
    "duration": 3,
    "start_time": "2022-05-09T11:50:17.709Z"
   },
   {
    "duration": 95,
    "start_time": "2022-05-09T11:50:17.714Z"
   },
   {
    "duration": 41,
    "start_time": "2022-05-09T11:50:17.812Z"
   },
   {
    "duration": 17,
    "start_time": "2022-05-09T11:50:17.854Z"
   },
   {
    "duration": 10,
    "start_time": "2022-05-09T11:50:17.872Z"
   },
   {
    "duration": 54,
    "start_time": "2022-05-09T11:50:17.884Z"
   },
   {
    "duration": 47,
    "start_time": "2022-05-09T11:50:17.940Z"
   },
   {
    "duration": 5,
    "start_time": "2022-05-09T11:50:17.988Z"
   },
   {
    "duration": 5,
    "start_time": "2022-05-09T11:50:17.996Z"
   },
   {
    "duration": 27,
    "start_time": "2022-05-09T11:50:18.003Z"
   },
   {
    "duration": 11,
    "start_time": "2022-05-09T11:50:18.032Z"
   },
   {
    "duration": 26,
    "start_time": "2022-05-09T11:50:18.045Z"
   },
   {
    "duration": 7,
    "start_time": "2022-05-09T11:50:18.073Z"
   },
   {
    "duration": 230,
    "start_time": "2022-05-09T11:50:18.082Z"
   },
   {
    "duration": 11,
    "start_time": "2022-05-09T11:50:18.314Z"
   },
   {
    "duration": 15,
    "start_time": "2022-05-09T11:50:18.331Z"
   },
   {
    "duration": 18,
    "start_time": "2022-05-09T11:50:18.349Z"
   },
   {
    "duration": 519,
    "start_time": "2022-05-09T11:50:18.370Z"
   },
   {
    "duration": 6,
    "start_time": "2022-05-09T11:50:18.892Z"
   },
   {
    "duration": 6,
    "start_time": "2022-05-09T11:50:18.900Z"
   },
   {
    "duration": 44,
    "start_time": "2022-05-09T11:50:18.908Z"
   },
   {
    "duration": 319,
    "start_time": "2022-05-09T11:50:18.954Z"
   },
   {
    "duration": 324,
    "start_time": "2022-05-09T11:50:19.275Z"
   },
   {
    "duration": 553,
    "start_time": "2022-05-09T11:50:19.602Z"
   },
   {
    "duration": 215,
    "start_time": "2022-05-09T11:50:20.157Z"
   },
   {
    "duration": 116,
    "start_time": "2022-05-09T11:50:20.374Z"
   },
   {
    "duration": 529,
    "start_time": "2022-05-09T11:50:20.494Z"
   },
   {
    "duration": 16,
    "start_time": "2022-05-09T11:50:21.026Z"
   },
   {
    "duration": 38,
    "start_time": "2022-05-09T11:50:21.045Z"
   },
   {
    "duration": 192,
    "start_time": "2022-05-09T11:50:21.085Z"
   },
   {
    "duration": 175,
    "start_time": "2022-05-09T11:50:21.279Z"
   },
   {
    "duration": 173,
    "start_time": "2022-05-09T11:50:21.456Z"
   },
   {
    "duration": 215,
    "start_time": "2022-05-09T11:50:21.631Z"
   },
   {
    "duration": 164,
    "start_time": "2022-05-09T11:50:21.847Z"
   },
   {
    "duration": 254,
    "start_time": "2022-05-09T11:50:22.013Z"
   },
   {
    "duration": 273,
    "start_time": "2022-05-09T11:50:22.269Z"
   },
   {
    "duration": 30,
    "start_time": "2022-05-09T11:50:22.544Z"
   },
   {
    "duration": 268,
    "start_time": "2022-05-09T11:50:22.576Z"
   },
   {
    "duration": 249,
    "start_time": "2022-05-09T11:50:22.847Z"
   },
   {
    "duration": 168,
    "start_time": "2022-05-09T11:50:23.099Z"
   },
   {
    "duration": 182,
    "start_time": "2022-05-09T11:50:23.269Z"
   },
   {
    "duration": 149,
    "start_time": "2022-05-09T11:50:23.453Z"
   },
   {
    "duration": 156,
    "start_time": "2022-05-09T11:50:23.604Z"
   },
   {
    "duration": 161,
    "start_time": "2022-05-09T11:50:23.761Z"
   },
   {
    "duration": 407,
    "start_time": "2022-05-10T08:16:58.724Z"
   },
   {
    "duration": 3,
    "start_time": "2022-05-10T08:16:59.132Z"
   },
   {
    "duration": 376,
    "start_time": "2022-05-10T08:16:59.136Z"
   },
   {
    "duration": 740,
    "start_time": "2022-05-10T08:16:59.514Z"
   },
   {
    "duration": 37,
    "start_time": "2022-05-10T08:17:00.256Z"
   },
   {
    "duration": 66,
    "start_time": "2022-05-10T08:17:00.295Z"
   },
   {
    "duration": 13,
    "start_time": "2022-05-10T08:17:00.363Z"
   },
   {
    "duration": 115,
    "start_time": "2022-05-10T08:17:00.377Z"
   },
   {
    "duration": 100,
    "start_time": "2022-05-10T08:17:00.493Z"
   },
   {
    "duration": 5,
    "start_time": "2022-05-10T08:17:00.597Z"
   },
   {
    "duration": 14,
    "start_time": "2022-05-10T08:17:00.604Z"
   },
   {
    "duration": 33,
    "start_time": "2022-05-10T08:17:00.619Z"
   },
   {
    "duration": 16,
    "start_time": "2022-05-10T08:17:00.654Z"
   },
   {
    "duration": 38,
    "start_time": "2022-05-10T08:17:00.672Z"
   },
   {
    "duration": 6,
    "start_time": "2022-05-10T08:17:00.712Z"
   },
   {
    "duration": 174,
    "start_time": "2022-05-10T08:17:00.720Z"
   },
   {
    "duration": 4,
    "start_time": "2022-05-10T08:17:00.896Z"
   },
   {
    "duration": 18,
    "start_time": "2022-05-10T08:17:00.901Z"
   },
   {
    "duration": 14,
    "start_time": "2022-05-10T08:17:00.920Z"
   },
   {
    "duration": 354,
    "start_time": "2022-05-10T08:17:00.935Z"
   },
   {
    "duration": 5,
    "start_time": "2022-05-10T08:17:01.290Z"
   },
   {
    "duration": 15,
    "start_time": "2022-05-10T08:17:01.297Z"
   },
   {
    "duration": 39,
    "start_time": "2022-05-10T08:17:01.314Z"
   },
   {
    "duration": 458,
    "start_time": "2022-05-10T08:17:01.356Z"
   },
   {
    "duration": 370,
    "start_time": "2022-05-10T08:17:01.816Z"
   },
   {
    "duration": 173,
    "start_time": "2022-05-10T08:17:02.188Z"
   },
   {
    "duration": 177,
    "start_time": "2022-05-10T08:17:02.363Z"
   },
   {
    "duration": 87,
    "start_time": "2022-05-10T08:17:02.548Z"
   },
   {
    "duration": 443,
    "start_time": "2022-05-10T08:17:02.636Z"
   },
   {
    "duration": 9,
    "start_time": "2022-05-10T08:17:03.081Z"
   },
   {
    "duration": 29,
    "start_time": "2022-05-10T08:17:03.091Z"
   },
   {
    "duration": 226,
    "start_time": "2022-05-10T08:17:03.122Z"
   },
   {
    "duration": 141,
    "start_time": "2022-05-10T08:17:03.349Z"
   },
   {
    "duration": 132,
    "start_time": "2022-05-10T08:17:03.492Z"
   },
   {
    "duration": 186,
    "start_time": "2022-05-10T08:17:03.626Z"
   },
   {
    "duration": 143,
    "start_time": "2022-05-10T08:17:03.814Z"
   },
   {
    "duration": 143,
    "start_time": "2022-05-10T08:17:03.960Z"
   },
   {
    "duration": 144,
    "start_time": "2022-05-10T08:17:04.105Z"
   },
   {
    "duration": 22,
    "start_time": "2022-05-10T08:17:04.250Z"
   },
   {
    "duration": 157,
    "start_time": "2022-05-10T08:17:04.273Z"
   },
   {
    "duration": 137,
    "start_time": "2022-05-10T08:17:04.432Z"
   },
   {
    "duration": 116,
    "start_time": "2022-05-10T08:17:04.570Z"
   },
   {
    "duration": 161,
    "start_time": "2022-05-10T08:17:04.687Z"
   },
   {
    "duration": 184,
    "start_time": "2022-05-10T08:17:04.850Z"
   },
   {
    "duration": 128,
    "start_time": "2022-05-10T08:17:05.047Z"
   },
   {
    "duration": 132,
    "start_time": "2022-05-10T08:17:05.177Z"
   },
   {
    "duration": 20,
    "start_time": "2022-05-10T08:21:38.282Z"
   },
   {
    "duration": 32,
    "start_time": "2022-05-10T08:22:34.682Z"
   },
   {
    "duration": 65,
    "start_time": "2022-05-10T16:04:50.205Z"
   },
   {
    "duration": 410,
    "start_time": "2022-05-10T16:04:53.572Z"
   },
   {
    "duration": 3,
    "start_time": "2022-05-10T16:04:53.983Z"
   },
   {
    "duration": 485,
    "start_time": "2022-05-10T16:04:53.988Z"
   },
   {
    "duration": 98,
    "start_time": "2022-05-10T16:04:54.476Z"
   },
   {
    "duration": 44,
    "start_time": "2022-05-10T16:04:54.576Z"
   },
   {
    "duration": 25,
    "start_time": "2022-05-10T16:04:54.623Z"
   },
   {
    "duration": 27,
    "start_time": "2022-05-10T16:04:54.650Z"
   },
   {
    "duration": 81,
    "start_time": "2022-05-10T16:04:54.679Z"
   },
   {
    "duration": 69,
    "start_time": "2022-05-10T16:04:54.762Z"
   },
   {
    "duration": 5,
    "start_time": "2022-05-10T16:04:54.834Z"
   },
   {
    "duration": 13,
    "start_time": "2022-05-10T16:04:54.841Z"
   },
   {
    "duration": 11,
    "start_time": "2022-05-10T16:04:54.855Z"
   },
   {
    "duration": 12,
    "start_time": "2022-05-10T16:04:54.868Z"
   },
   {
    "duration": 39,
    "start_time": "2022-05-10T16:04:54.881Z"
   },
   {
    "duration": 11,
    "start_time": "2022-05-10T16:04:54.922Z"
   },
   {
    "duration": 227,
    "start_time": "2022-05-10T16:04:54.936Z"
   },
   {
    "duration": 4,
    "start_time": "2022-05-10T16:04:55.165Z"
   },
   {
    "duration": 12,
    "start_time": "2022-05-10T16:04:55.170Z"
   },
   {
    "duration": 13,
    "start_time": "2022-05-10T16:04:55.183Z"
   },
   {
    "duration": 347,
    "start_time": "2022-05-10T16:04:55.197Z"
   },
   {
    "duration": 5,
    "start_time": "2022-05-10T16:04:55.545Z"
   },
   {
    "duration": 9,
    "start_time": "2022-05-10T16:04:55.551Z"
   },
   {
    "duration": 26,
    "start_time": "2022-05-10T16:04:55.561Z"
   },
   {
    "duration": 434,
    "start_time": "2022-05-10T16:04:55.589Z"
   },
   {
    "duration": 356,
    "start_time": "2022-05-10T16:04:56.025Z"
   },
   {
    "duration": 227,
    "start_time": "2022-05-10T16:04:56.383Z"
   },
   {
    "duration": 240,
    "start_time": "2022-05-10T16:04:56.616Z"
   },
   {
    "duration": 122,
    "start_time": "2022-05-10T16:04:56.861Z"
   },
   {
    "duration": 581,
    "start_time": "2022-05-10T16:04:56.984Z"
   },
   {
    "duration": 9,
    "start_time": "2022-05-10T16:04:57.567Z"
   },
   {
    "duration": 44,
    "start_time": "2022-05-10T16:04:57.578Z"
   },
   {
    "duration": 49,
    "start_time": "2022-05-10T16:04:57.625Z"
   },
   {
    "duration": 192,
    "start_time": "2022-05-10T16:04:57.676Z"
   },
   {
    "duration": 282,
    "start_time": "2022-05-10T16:04:57.870Z"
   },
   {
    "duration": 83,
    "start_time": "2022-05-10T16:04:58.153Z"
   },
   {
    "duration": 0,
    "start_time": "2022-05-10T16:04:58.237Z"
   },
   {
    "duration": 0,
    "start_time": "2022-05-10T16:04:58.239Z"
   },
   {
    "duration": 0,
    "start_time": "2022-05-10T16:04:58.240Z"
   },
   {
    "duration": 0,
    "start_time": "2022-05-10T16:04:58.241Z"
   },
   {
    "duration": 0,
    "start_time": "2022-05-10T16:04:58.242Z"
   },
   {
    "duration": 0,
    "start_time": "2022-05-10T16:04:58.243Z"
   },
   {
    "duration": 0,
    "start_time": "2022-05-10T16:04:58.245Z"
   },
   {
    "duration": 0,
    "start_time": "2022-05-10T16:04:58.246Z"
   },
   {
    "duration": 0,
    "start_time": "2022-05-10T16:04:58.247Z"
   },
   {
    "duration": 0,
    "start_time": "2022-05-10T16:04:58.248Z"
   },
   {
    "duration": 0,
    "start_time": "2022-05-10T16:04:58.249Z"
   },
   {
    "duration": 0,
    "start_time": "2022-05-10T16:04:58.251Z"
   },
   {
    "duration": 217,
    "start_time": "2022-05-10T16:05:58.941Z"
   },
   {
    "duration": 75,
    "start_time": "2022-05-10T16:06:34.186Z"
   },
   {
    "duration": 12,
    "start_time": "2022-05-10T16:07:17.403Z"
   },
   {
    "duration": 7,
    "start_time": "2022-05-10T16:07:28.123Z"
   },
   {
    "duration": 4,
    "start_time": "2022-05-10T16:07:28.132Z"
   },
   {
    "duration": 4,
    "start_time": "2022-05-10T16:07:28.139Z"
   },
   {
    "duration": 103,
    "start_time": "2022-05-10T16:07:28.145Z"
   },
   {
    "duration": 30,
    "start_time": "2022-05-10T16:07:28.251Z"
   },
   {
    "duration": 47,
    "start_time": "2022-05-10T16:07:28.283Z"
   },
   {
    "duration": 12,
    "start_time": "2022-05-10T16:07:28.332Z"
   },
   {
    "duration": 17,
    "start_time": "2022-05-10T16:07:28.345Z"
   },
   {
    "duration": 62,
    "start_time": "2022-05-10T16:07:28.363Z"
   },
   {
    "duration": 7,
    "start_time": "2022-05-10T16:07:28.427Z"
   },
   {
    "duration": 5,
    "start_time": "2022-05-10T16:07:28.439Z"
   },
   {
    "duration": 5,
    "start_time": "2022-05-10T16:07:28.446Z"
   },
   {
    "duration": 4,
    "start_time": "2022-05-10T16:07:28.454Z"
   },
   {
    "duration": 70,
    "start_time": "2022-05-10T16:07:28.460Z"
   },
   {
    "duration": 8,
    "start_time": "2022-05-10T16:07:28.533Z"
   },
   {
    "duration": 218,
    "start_time": "2022-05-10T16:07:28.542Z"
   },
   {
    "duration": 4,
    "start_time": "2022-05-10T16:07:28.762Z"
   },
   {
    "duration": 9,
    "start_time": "2022-05-10T16:07:28.767Z"
   },
   {
    "duration": 13,
    "start_time": "2022-05-10T16:07:28.778Z"
   },
   {
    "duration": 362,
    "start_time": "2022-05-10T16:07:28.792Z"
   },
   {
    "duration": 4,
    "start_time": "2022-05-10T16:07:29.155Z"
   },
   {
    "duration": 6,
    "start_time": "2022-05-10T16:07:29.161Z"
   },
   {
    "duration": 25,
    "start_time": "2022-05-10T16:07:29.168Z"
   },
   {
    "duration": 365,
    "start_time": "2022-05-10T16:07:29.195Z"
   },
   {
    "duration": 376,
    "start_time": "2022-05-10T16:07:29.561Z"
   },
   {
    "duration": 231,
    "start_time": "2022-05-10T16:07:29.939Z"
   },
   {
    "duration": 220,
    "start_time": "2022-05-10T16:07:30.172Z"
   },
   {
    "duration": 194,
    "start_time": "2022-05-10T16:07:30.394Z"
   },
   {
    "duration": 592,
    "start_time": "2022-05-10T16:07:30.592Z"
   },
   {
    "duration": 10,
    "start_time": "2022-05-10T16:07:31.186Z"
   },
   {
    "duration": 47,
    "start_time": "2022-05-10T16:07:31.198Z"
   },
   {
    "duration": 38,
    "start_time": "2022-05-10T16:07:31.247Z"
   },
   {
    "duration": 189,
    "start_time": "2022-05-10T16:07:31.287Z"
   },
   {
    "duration": 205,
    "start_time": "2022-05-10T16:07:31.478Z"
   },
   {
    "duration": 192,
    "start_time": "2022-05-10T16:07:31.684Z"
   },
   {
    "duration": 252,
    "start_time": "2022-05-10T16:07:31.877Z"
   },
   {
    "duration": 171,
    "start_time": "2022-05-10T16:07:32.132Z"
   },
   {
    "duration": 192,
    "start_time": "2022-05-10T16:07:32.305Z"
   },
   {
    "duration": 193,
    "start_time": "2022-05-10T16:07:32.499Z"
   },
   {
    "duration": 124,
    "start_time": "2022-05-10T16:07:32.694Z"
   },
   {
    "duration": 225,
    "start_time": "2022-05-10T16:07:32.820Z"
   },
   {
    "duration": 192,
    "start_time": "2022-05-10T16:07:33.047Z"
   },
   {
    "duration": 202,
    "start_time": "2022-05-10T16:07:33.241Z"
   },
   {
    "duration": 210,
    "start_time": "2022-05-10T16:07:33.444Z"
   },
   {
    "duration": 181,
    "start_time": "2022-05-10T16:07:33.656Z"
   },
   {
    "duration": 219,
    "start_time": "2022-05-10T16:07:33.840Z"
   },
   {
    "duration": 180,
    "start_time": "2022-05-10T16:07:34.061Z"
   },
   {
    "duration": 354,
    "start_time": "2022-05-10T16:08:25.522Z"
   },
   {
    "duration": 3,
    "start_time": "2022-05-10T16:13:26.601Z"
   },
   {
    "duration": 15,
    "start_time": "2022-05-10T16:13:26.606Z"
   },
   {
    "duration": 8,
    "start_time": "2022-05-10T16:13:26.623Z"
   },
   {
    "duration": 119,
    "start_time": "2022-05-10T16:13:26.634Z"
   },
   {
    "duration": 61,
    "start_time": "2022-05-10T16:13:26.755Z"
   },
   {
    "duration": 23,
    "start_time": "2022-05-10T16:13:26.819Z"
   },
   {
    "duration": 10,
    "start_time": "2022-05-10T16:13:26.844Z"
   },
   {
    "duration": 19,
    "start_time": "2022-05-10T16:13:26.856Z"
   },
   {
    "duration": 93,
    "start_time": "2022-05-10T16:13:26.877Z"
   },
   {
    "duration": 4,
    "start_time": "2022-05-10T16:13:26.972Z"
   },
   {
    "duration": 7,
    "start_time": "2022-05-10T16:13:26.978Z"
   },
   {
    "duration": 28,
    "start_time": "2022-05-10T16:13:26.987Z"
   },
   {
    "duration": 6,
    "start_time": "2022-05-10T16:13:27.017Z"
   },
   {
    "duration": 32,
    "start_time": "2022-05-10T16:13:27.026Z"
   },
   {
    "duration": 7,
    "start_time": "2022-05-10T16:13:27.060Z"
   },
   {
    "duration": 283,
    "start_time": "2022-05-10T16:13:27.070Z"
   },
   {
    "duration": 4,
    "start_time": "2022-05-10T16:13:27.357Z"
   },
   {
    "duration": 14,
    "start_time": "2022-05-10T16:13:27.363Z"
   },
   {
    "duration": 31,
    "start_time": "2022-05-10T16:13:27.380Z"
   },
   {
    "duration": 358,
    "start_time": "2022-05-10T16:13:27.414Z"
   },
   {
    "duration": 6,
    "start_time": "2022-05-10T16:13:27.774Z"
   },
   {
    "duration": 5,
    "start_time": "2022-05-10T16:13:27.782Z"
   },
   {
    "duration": 52,
    "start_time": "2022-05-10T16:13:27.790Z"
   },
   {
    "duration": 448,
    "start_time": "2022-05-10T16:13:27.848Z"
   },
   {
    "duration": 358,
    "start_time": "2022-05-10T16:13:28.298Z"
   },
   {
    "duration": 220,
    "start_time": "2022-05-10T16:13:28.658Z"
   },
   {
    "duration": 241,
    "start_time": "2022-05-10T16:13:28.880Z"
   },
   {
    "duration": 140,
    "start_time": "2022-05-10T16:13:29.124Z"
   },
   {
    "duration": 595,
    "start_time": "2022-05-10T16:13:29.267Z"
   },
   {
    "duration": 11,
    "start_time": "2022-05-10T16:13:29.864Z"
   },
   {
    "duration": 56,
    "start_time": "2022-05-10T16:13:29.877Z"
   },
   {
    "duration": 42,
    "start_time": "2022-05-10T16:13:29.934Z"
   },
   {
    "duration": 231,
    "start_time": "2022-05-10T16:13:29.978Z"
   },
   {
    "duration": 182,
    "start_time": "2022-05-10T16:13:30.212Z"
   },
   {
    "duration": 296,
    "start_time": "2022-05-10T16:13:30.397Z"
   },
   {
    "duration": 264,
    "start_time": "2022-05-10T16:13:30.695Z"
   },
   {
    "duration": 196,
    "start_time": "2022-05-10T16:13:30.962Z"
   },
   {
    "duration": 202,
    "start_time": "2022-05-10T16:13:31.161Z"
   },
   {
    "duration": 212,
    "start_time": "2022-05-10T16:13:31.366Z"
   },
   {
    "duration": 36,
    "start_time": "2022-05-10T16:13:31.580Z"
   },
   {
    "duration": 209,
    "start_time": "2022-05-10T16:13:31.619Z"
   },
   {
    "duration": 175,
    "start_time": "2022-05-10T16:13:31.830Z"
   },
   {
    "duration": 185,
    "start_time": "2022-05-10T16:13:32.011Z"
   },
   {
    "duration": 197,
    "start_time": "2022-05-10T16:13:32.198Z"
   },
   {
    "duration": 166,
    "start_time": "2022-05-10T16:13:32.397Z"
   },
   {
    "duration": 184,
    "start_time": "2022-05-10T16:13:32.565Z"
   },
   {
    "duration": 173,
    "start_time": "2022-05-10T16:13:32.751Z"
   },
   {
    "duration": 125,
    "start_time": "2022-05-10T16:15:07.393Z"
   },
   {
    "duration": 5,
    "start_time": "2022-05-10T16:15:16.700Z"
   },
   {
    "duration": 4,
    "start_time": "2022-05-10T16:15:16.708Z"
   },
   {
    "duration": 5,
    "start_time": "2022-05-10T16:15:16.715Z"
   },
   {
    "duration": 154,
    "start_time": "2022-05-10T16:15:16.724Z"
   },
   {
    "duration": 55,
    "start_time": "2022-05-10T16:15:16.880Z"
   },
   {
    "duration": 16,
    "start_time": "2022-05-10T16:15:16.937Z"
   },
   {
    "duration": 15,
    "start_time": "2022-05-10T16:15:16.955Z"
   },
   {
    "duration": 55,
    "start_time": "2022-05-10T16:15:16.974Z"
   },
   {
    "duration": 55,
    "start_time": "2022-05-10T16:15:17.031Z"
   },
   {
    "duration": 36,
    "start_time": "2022-05-10T16:15:17.089Z"
   },
   {
    "duration": 7,
    "start_time": "2022-05-10T16:15:17.128Z"
   },
   {
    "duration": 8,
    "start_time": "2022-05-10T16:15:17.138Z"
   },
   {
    "duration": 5,
    "start_time": "2022-05-10T16:15:17.149Z"
   },
   {
    "duration": 25,
    "start_time": "2022-05-10T16:15:17.156Z"
   },
   {
    "duration": 14,
    "start_time": "2022-05-10T16:15:17.207Z"
   },
   {
    "duration": 286,
    "start_time": "2022-05-10T16:15:17.224Z"
   },
   {
    "duration": 6,
    "start_time": "2022-05-10T16:15:17.513Z"
   },
   {
    "duration": 16,
    "start_time": "2022-05-10T16:15:17.522Z"
   },
   {
    "duration": 13,
    "start_time": "2022-05-10T16:15:17.544Z"
   },
   {
    "duration": 522,
    "start_time": "2022-05-10T16:15:17.559Z"
   },
   {
    "duration": 4,
    "start_time": "2022-05-10T16:15:18.083Z"
   },
   {
    "duration": 8,
    "start_time": "2022-05-10T16:15:18.090Z"
   },
   {
    "duration": 39,
    "start_time": "2022-05-10T16:15:18.110Z"
   },
   {
    "duration": 451,
    "start_time": "2022-05-10T16:15:18.152Z"
   },
   {
    "duration": 577,
    "start_time": "2022-05-10T16:15:18.606Z"
   },
   {
    "duration": 254,
    "start_time": "2022-05-10T16:15:19.186Z"
   },
   {
    "duration": 294,
    "start_time": "2022-05-10T16:15:19.443Z"
   },
   {
    "duration": 160,
    "start_time": "2022-05-10T16:15:19.739Z"
   },
   {
    "duration": 816,
    "start_time": "2022-05-10T16:15:19.902Z"
   },
   {
    "duration": 15,
    "start_time": "2022-05-10T16:15:20.720Z"
   },
   {
    "duration": 37,
    "start_time": "2022-05-10T16:15:20.738Z"
   },
   {
    "duration": 79,
    "start_time": "2022-05-10T16:15:20.777Z"
   },
   {
    "duration": 197,
    "start_time": "2022-05-10T16:15:20.858Z"
   },
   {
    "duration": 200,
    "start_time": "2022-05-10T16:15:21.057Z"
   },
   {
    "duration": 196,
    "start_time": "2022-05-10T16:15:21.259Z"
   },
   {
    "duration": 270,
    "start_time": "2022-05-10T16:15:21.457Z"
   },
   {
    "duration": 216,
    "start_time": "2022-05-10T16:15:21.729Z"
   },
   {
    "duration": 279,
    "start_time": "2022-05-10T16:15:21.947Z"
   },
   {
    "duration": 258,
    "start_time": "2022-05-10T16:15:22.228Z"
   },
   {
    "duration": 40,
    "start_time": "2022-05-10T16:15:22.488Z"
   },
   {
    "duration": 213,
    "start_time": "2022-05-10T16:15:22.530Z"
   },
   {
    "duration": 199,
    "start_time": "2022-05-10T16:15:22.745Z"
   },
   {
    "duration": 187,
    "start_time": "2022-05-10T16:15:22.946Z"
   },
   {
    "duration": 244,
    "start_time": "2022-05-10T16:15:23.135Z"
   },
   {
    "duration": 181,
    "start_time": "2022-05-10T16:15:23.382Z"
   },
   {
    "duration": 189,
    "start_time": "2022-05-10T16:15:23.566Z"
   },
   {
    "duration": 189,
    "start_time": "2022-05-10T16:15:23.757Z"
   }
  ],
  "kernelspec": {
   "display_name": "Python 3 (ipykernel)",
   "language": "python",
   "name": "python3"
  },
  "language_info": {
   "codemirror_mode": {
    "name": "ipython",
    "version": 3
   },
   "file_extension": ".py",
   "mimetype": "text/x-python",
   "name": "python",
   "nbconvert_exporter": "python",
   "pygments_lexer": "ipython3",
   "version": "3.9.7"
  },
  "toc": {
   "base_numbering": 1,
   "nav_menu": {},
   "number_sections": true,
   "sideBar": true,
   "skip_h1_title": true,
   "title_cell": "Table of Contents",
   "title_sidebar": "Contents",
   "toc_cell": false,
   "toc_position": {
    "height": "calc(100% - 180px)",
    "left": "10px",
    "top": "150px",
    "width": "292px"
   },
   "toc_section_display": true,
   "toc_window_display": true
  }
 },
 "nbformat": 4,
 "nbformat_minor": 5
}
