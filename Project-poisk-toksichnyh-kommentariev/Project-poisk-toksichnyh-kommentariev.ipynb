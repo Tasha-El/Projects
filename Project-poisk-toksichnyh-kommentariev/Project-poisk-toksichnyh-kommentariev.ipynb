{
 "cells": [
  {
   "cell_type": "markdown",
   "id": "3a72781b",
   "metadata": {},
   "source": [
    "# Поиск токсичных комментариев"
   ]
  },
  {
   "cell_type": "code",
   "execution_count": 1,
   "id": "1c5a5f29",
   "metadata": {},
   "outputs": [],
   "source": [
    "import pandas as pd\n",
    "import numpy as np\n",
    "import re\n",
    "from tqdm import tqdm\n",
    "import nltk \n",
    "from nltk.stem import WordNetLemmatizer\n",
    "from sklearn.model_selection import train_test_split\n",
    "from nltk.corpus import stopwords as nltk_stopwords\n",
    "from sklearn.feature_extraction.text import TfidfVectorizer \n",
    "import time\n",
    "from sklearn.model_selection import cross_val_score, GridSearchCV, RandomizedSearchCV\n",
    "from sklearn.linear_model import LogisticRegression\n",
    "from lightgbm import LGBMClassifier\n",
    "from catboost import CatBoostClassifier\n",
    "from sklearn.ensemble import RandomForestClassifier\n",
    "from sklearn.metrics import accuracy_score\n",
    "from sklearn.metrics import f1_score\n",
    "from sklearn.dummy import DummyClassifier\n",
    "from sklearn.pipeline import Pipeline\n",
    "from sklearn.feature_extraction.text import CountVectorizer\n",
    "from sklearn.feature_extraction.text import TfidfTransformer\n",
    "import warnings\n",
    "warnings.simplefilter('ignore')\n",
    "from nltk.corpus import stopwords"
   ]
  },
  {
   "cell_type": "code",
   "execution_count": 2,
   "id": "b28ce859",
   "metadata": {},
   "outputs": [],
   "source": [
    "df = pd.read_csv('/datasets/toxic_comments.csv')"
   ]
  },
  {
   "cell_type": "code",
   "execution_count": 3,
   "id": "f288bc1c",
   "metadata": {},
   "outputs": [
    {
     "data": {
      "text/html": [
       "<div>\n",
       "<style scoped>\n",
       "    .dataframe tbody tr th:only-of-type {\n",
       "        vertical-align: middle;\n",
       "    }\n",
       "\n",
       "    .dataframe tbody tr th {\n",
       "        vertical-align: top;\n",
       "    }\n",
       "\n",
       "    .dataframe thead th {\n",
       "        text-align: right;\n",
       "    }\n",
       "</style>\n",
       "<table border=\"1\" class=\"dataframe\">\n",
       "  <thead>\n",
       "    <tr style=\"text-align: right;\">\n",
       "      <th></th>\n",
       "      <th>Unnamed: 0</th>\n",
       "      <th>text</th>\n",
       "      <th>toxic</th>\n",
       "    </tr>\n",
       "  </thead>\n",
       "  <tbody>\n",
       "    <tr>\n",
       "      <th>0</th>\n",
       "      <td>0</td>\n",
       "      <td>Explanation\\nWhy the edits made under my usern...</td>\n",
       "      <td>0</td>\n",
       "    </tr>\n",
       "    <tr>\n",
       "      <th>1</th>\n",
       "      <td>1</td>\n",
       "      <td>D'aww! He matches this background colour I'm s...</td>\n",
       "      <td>0</td>\n",
       "    </tr>\n",
       "    <tr>\n",
       "      <th>2</th>\n",
       "      <td>2</td>\n",
       "      <td>Hey man, I'm really not trying to edit war. It...</td>\n",
       "      <td>0</td>\n",
       "    </tr>\n",
       "    <tr>\n",
       "      <th>3</th>\n",
       "      <td>3</td>\n",
       "      <td>\"\\nMore\\nI can't make any real suggestions on ...</td>\n",
       "      <td>0</td>\n",
       "    </tr>\n",
       "    <tr>\n",
       "      <th>4</th>\n",
       "      <td>4</td>\n",
       "      <td>You, sir, are my hero. Any chance you remember...</td>\n",
       "      <td>0</td>\n",
       "    </tr>\n",
       "  </tbody>\n",
       "</table>\n",
       "</div>"
      ],
      "text/plain": [
       "   Unnamed: 0                                               text  toxic\n",
       "0           0  Explanation\\nWhy the edits made under my usern...      0\n",
       "1           1  D'aww! He matches this background colour I'm s...      0\n",
       "2           2  Hey man, I'm really not trying to edit war. It...      0\n",
       "3           3  \"\\nMore\\nI can't make any real suggestions on ...      0\n",
       "4           4  You, sir, are my hero. Any chance you remember...      0"
      ]
     },
     "execution_count": 3,
     "metadata": {},
     "output_type": "execute_result"
    }
   ],
   "source": [
    "df.head()"
   ]
  },
  {
   "cell_type": "code",
   "execution_count": 5,
   "id": "a0a88576",
   "metadata": {},
   "outputs": [],
   "source": [
    "# функция для очистки текста\n",
    "def clear_text(text):\n",
    "    clear_text = re.sub(r'[^a-zA-Z]', ' ', text)\n",
    "    clear_text = clear_text.split()\n",
    "    clear_text = \" \".join(clear_text)\n",
    "    return clear_text"
   ]
  },
  {
   "cell_type": "code",
   "execution_count": 6,
   "id": "65e21efa",
   "metadata": {},
   "outputs": [
    {
     "name": "stderr",
     "output_type": "stream",
     "text": [
      "100%|██████████| 159292/159292 [00:04<00:00, 39786.76it/s]\n"
     ]
    }
   ],
   "source": [
    "# цикл для очистки текста\n",
    "for i in tqdm(range(len(corpus))):\n",
    "    corpus[i] = clear_text(corpus[i])"
   ]
  },
  {
   "cell_type": "code",
   "execution_count": 7,
   "id": "279c75eb",
   "metadata": {},
   "outputs": [
    {
     "data": {
      "text/html": [
       "<div>\n",
       "<style scoped>\n",
       "    .dataframe tbody tr th:only-of-type {\n",
       "        vertical-align: middle;\n",
       "    }\n",
       "\n",
       "    .dataframe tbody tr th {\n",
       "        vertical-align: top;\n",
       "    }\n",
       "\n",
       "    .dataframe thead th {\n",
       "        text-align: right;\n",
       "    }\n",
       "</style>\n",
       "<table border=\"1\" class=\"dataframe\">\n",
       "  <thead>\n",
       "    <tr style=\"text-align: right;\">\n",
       "      <th></th>\n",
       "      <th>Unnamed: 0</th>\n",
       "      <th>text</th>\n",
       "      <th>toxic</th>\n",
       "      <th>clear_text</th>\n",
       "    </tr>\n",
       "  </thead>\n",
       "  <tbody>\n",
       "    <tr>\n",
       "      <th>0</th>\n",
       "      <td>0</td>\n",
       "      <td>explanation\\nwhy the edits made under my usern...</td>\n",
       "      <td>0</td>\n",
       "      <td>explanation why the edits made under my userna...</td>\n",
       "    </tr>\n",
       "    <tr>\n",
       "      <th>1</th>\n",
       "      <td>1</td>\n",
       "      <td>d'aww! he matches this background colour i'm s...</td>\n",
       "      <td>0</td>\n",
       "      <td>d aww he matches this background colour i m se...</td>\n",
       "    </tr>\n",
       "    <tr>\n",
       "      <th>2</th>\n",
       "      <td>2</td>\n",
       "      <td>hey man, i'm really not trying to edit war. it...</td>\n",
       "      <td>0</td>\n",
       "      <td>hey man i m really not trying to edit war it s...</td>\n",
       "    </tr>\n",
       "    <tr>\n",
       "      <th>3</th>\n",
       "      <td>3</td>\n",
       "      <td>\"\\nmore\\ni can't make any real suggestions on ...</td>\n",
       "      <td>0</td>\n",
       "      <td>more i can t make any real suggestions on impr...</td>\n",
       "    </tr>\n",
       "    <tr>\n",
       "      <th>4</th>\n",
       "      <td>4</td>\n",
       "      <td>you, sir, are my hero. any chance you remember...</td>\n",
       "      <td>0</td>\n",
       "      <td>you sir are my hero any chance you remember wh...</td>\n",
       "    </tr>\n",
       "    <tr>\n",
       "      <th>5</th>\n",
       "      <td>5</td>\n",
       "      <td>\"\\n\\ncongratulations from me as well, use the ...</td>\n",
       "      <td>0</td>\n",
       "      <td>congratulations from me as well use the tools ...</td>\n",
       "    </tr>\n",
       "    <tr>\n",
       "      <th>6</th>\n",
       "      <td>6</td>\n",
       "      <td>cocksucker before you piss around on my work</td>\n",
       "      <td>1</td>\n",
       "      <td>cocksucker before you piss around on my work</td>\n",
       "    </tr>\n",
       "    <tr>\n",
       "      <th>7</th>\n",
       "      <td>7</td>\n",
       "      <td>your vandalism to the matt shirvington article...</td>\n",
       "      <td>0</td>\n",
       "      <td>your vandalism to the matt shirvington article...</td>\n",
       "    </tr>\n",
       "    <tr>\n",
       "      <th>8</th>\n",
       "      <td>8</td>\n",
       "      <td>sorry if the word 'nonsense' was offensive to ...</td>\n",
       "      <td>0</td>\n",
       "      <td>sorry if the word nonsense was offensive to yo...</td>\n",
       "    </tr>\n",
       "    <tr>\n",
       "      <th>9</th>\n",
       "      <td>9</td>\n",
       "      <td>alignment on this subject and which are contra...</td>\n",
       "      <td>0</td>\n",
       "      <td>alignment on this subject and which are contra...</td>\n",
       "    </tr>\n",
       "  </tbody>\n",
       "</table>\n",
       "</div>"
      ],
      "text/plain": [
       "   Unnamed: 0                                               text  toxic  \\\n",
       "0           0  explanation\\nwhy the edits made under my usern...      0   \n",
       "1           1  d'aww! he matches this background colour i'm s...      0   \n",
       "2           2  hey man, i'm really not trying to edit war. it...      0   \n",
       "3           3  \"\\nmore\\ni can't make any real suggestions on ...      0   \n",
       "4           4  you, sir, are my hero. any chance you remember...      0   \n",
       "5           5  \"\\n\\ncongratulations from me as well, use the ...      0   \n",
       "6           6       cocksucker before you piss around on my work      1   \n",
       "7           7  your vandalism to the matt shirvington article...      0   \n",
       "8           8  sorry if the word 'nonsense' was offensive to ...      0   \n",
       "9           9  alignment on this subject and which are contra...      0   \n",
       "\n",
       "                                          clear_text  \n",
       "0  explanation why the edits made under my userna...  \n",
       "1  d aww he matches this background colour i m se...  \n",
       "2  hey man i m really not trying to edit war it s...  \n",
       "3  more i can t make any real suggestions on impr...  \n",
       "4  you sir are my hero any chance you remember wh...  \n",
       "5  congratulations from me as well use the tools ...  \n",
       "6       cocksucker before you piss around on my work  \n",
       "7  your vandalism to the matt shirvington article...  \n",
       "8  sorry if the word nonsense was offensive to yo...  \n",
       "9  alignment on this subject and which are contra...  "
      ]
     },
     "metadata": {},
     "output_type": "display_data"
    },
    {
     "name": "stdout",
     "output_type": "stream",
     "text": [
      "<class 'pandas.core.frame.DataFrame'>\n",
      "RangeIndex: 159292 entries, 0 to 159291\n",
      "Data columns (total 4 columns):\n",
      " #   Column      Non-Null Count   Dtype \n",
      "---  ------      --------------   ----- \n",
      " 0   Unnamed: 0  159292 non-null  int64 \n",
      " 1   text        159292 non-null  object\n",
      " 2   toxic       159292 non-null  int64 \n",
      " 3   clear_text  159292 non-null  object\n",
      "dtypes: int64(2), object(2)\n",
      "memory usage: 4.9+ MB\n"
     ]
    }
   ],
   "source": [
    "# создадим новый датафрейм и добавим столбец с очищенным текстом\n",
    "df_corpus = pd.DataFrame(corpus)\n",
    "df['clear_text'] = df_corpus[0]\n",
    "display(df.head(10))\n",
    "df.info()"
   ]
  },
  {
   "cell_type": "code",
   "execution_count": 8,
   "id": "709be203",
   "metadata": {},
   "outputs": [],
   "source": [
    "import spacy"
   ]
  },
  {
   "cell_type": "code",
   "execution_count": 9,
   "id": "94da8bee",
   "metadata": {},
   "outputs": [],
   "source": [
    "en_core = spacy.load('en_core_web_sm')"
   ]
  },
  {
   "cell_type": "code",
   "execution_count": 10,
   "id": "b7f92ea1",
   "metadata": {},
   "outputs": [],
   "source": [
    "stopwords = set(nltk_stopwords.words('english'))"
   ]
  },
  {
   "cell_type": "code",
   "execution_count": 11,
   "id": "87dadc6f",
   "metadata": {},
   "outputs": [
    {
     "name": "stdout",
     "output_type": "stream",
     "text": [
      "CPU times: user 36min 19s, sys: 17.6 s, total: 36min 37s\n",
      "Wall time: 36min 41s\n"
     ]
    }
   ],
   "source": [
    "%%time\n",
    "# запустим леммитизацию и добавим удаление стоп слов в функцию\n",
    "df[\"lemm_text\"] = df['clear_text'].apply(lambda x: \" \".join([y.lemma_ for y in en_core(x) if x not in stopwords]))"
   ]
  },
  {
   "cell_type": "code",
   "execution_count": 12,
   "id": "171954d4",
   "metadata": {},
   "outputs": [],
   "source": [
    "# удалим ненужный столбец \"Unnamed: 0\"\n",
    "df = df.drop('Unnamed: 0', axis=1)"
   ]
  },
  {
   "cell_type": "code",
   "execution_count": 13,
   "id": "3fdbf521",
   "metadata": {},
   "outputs": [],
   "source": [
    "# удалим также столбцы text и clear_text\n",
    "df = df.drop('text', axis=1)\n",
    "df = df.drop('clear_text', axis=1)"
   ]
  },
  {
   "cell_type": "code",
   "execution_count": 14,
   "id": "369d4500",
   "metadata": {
    "scrolled": true
   },
   "outputs": [
    {
     "data": {
      "text/html": [
       "<div>\n",
       "<style scoped>\n",
       "    .dataframe tbody tr th:only-of-type {\n",
       "        vertical-align: middle;\n",
       "    }\n",
       "\n",
       "    .dataframe tbody tr th {\n",
       "        vertical-align: top;\n",
       "    }\n",
       "\n",
       "    .dataframe thead th {\n",
       "        text-align: right;\n",
       "    }\n",
       "</style>\n",
       "<table border=\"1\" class=\"dataframe\">\n",
       "  <thead>\n",
       "    <tr style=\"text-align: right;\">\n",
       "      <th></th>\n",
       "      <th>toxic</th>\n",
       "      <th>lemm_text</th>\n",
       "    </tr>\n",
       "  </thead>\n",
       "  <tbody>\n",
       "    <tr>\n",
       "      <th>0</th>\n",
       "      <td>0</td>\n",
       "      <td>explanation why the edit make under my usernam...</td>\n",
       "    </tr>\n",
       "    <tr>\n",
       "      <th>1</th>\n",
       "      <td>0</td>\n",
       "      <td>d aww he match this background colour I m seem...</td>\n",
       "    </tr>\n",
       "    <tr>\n",
       "      <th>2</th>\n",
       "      <td>0</td>\n",
       "      <td>hey man I m really not try to edit war it s ju...</td>\n",
       "    </tr>\n",
       "    <tr>\n",
       "      <th>3</th>\n",
       "      <td>0</td>\n",
       "      <td>more I can t make any real suggestion on impro...</td>\n",
       "    </tr>\n",
       "    <tr>\n",
       "      <th>4</th>\n",
       "      <td>0</td>\n",
       "      <td>you sir be my hero any chance you remember wha...</td>\n",
       "    </tr>\n",
       "  </tbody>\n",
       "</table>\n",
       "</div>"
      ],
      "text/plain": [
       "   toxic                                          lemm_text\n",
       "0      0  explanation why the edit make under my usernam...\n",
       "1      0  d aww he match this background colour I m seem...\n",
       "2      0  hey man I m really not try to edit war it s ju...\n",
       "3      0  more I can t make any real suggestion on impro...\n",
       "4      0  you sir be my hero any chance you remember wha..."
      ]
     },
     "execution_count": 14,
     "metadata": {},
     "output_type": "execute_result"
    }
   ],
   "source": [
    "df.head()"
   ]
  },
  {
   "cell_type": "code",
   "execution_count": 15,
   "id": "2e7dc70b",
   "metadata": {},
   "outputs": [
    {
     "data": {
      "text/plain": [
       "0    143106\n",
       "1     16186\n",
       "Name: toxic, dtype: int64"
      ]
     },
     "execution_count": 15,
     "metadata": {},
     "output_type": "execute_result"
    }
   ],
   "source": [
    "# посмотрим на распределение toxic \n",
    "df['toxic'].value_counts()"
   ]
  },
  {
   "cell_type": "code",
   "execution_count": 16,
   "id": "d2740934",
   "metadata": {},
   "outputs": [
    {
     "data": {
      "text/plain": [
       "8.841344371679229"
      ]
     },
     "execution_count": 16,
     "metadata": {},
     "output_type": "execute_result"
    }
   ],
   "source": [
    "# посмотрим отношение количества строк с 0 к 1 \n",
    "rat = len(df.loc[df['toxic']==0])/len(df.loc[df['toxic']==1])\n",
    "rat"
   ]
  },
  {
   "cell_type": "code",
   "execution_count": 17,
   "id": "a6057a9b",
   "metadata": {},
   "outputs": [],
   "source": [
    "# разделим датасет на обучающую и тестовую выборки в соотношении 4/1 соответственно\n",
    "train, test = train_test_split(df, test_size=0.25, random_state=12345, stratify = df['toxic'])"
   ]
  },
  {
   "cell_type": "code",
   "execution_count": 18,
   "id": "48770e9e",
   "metadata": {},
   "outputs": [
    {
     "data": {
      "text/plain": [
       "(119469, 2)"
      ]
     },
     "metadata": {},
     "output_type": "display_data"
    },
    {
     "data": {
      "text/plain": [
       "(39823, 2)"
      ]
     },
     "metadata": {},
     "output_type": "display_data"
    }
   ],
   "source": [
    "# проверим как разбили датасет\n",
    "display(train.shape)\n",
    "display(test.shape)"
   ]
  },
  {
   "cell_type": "code",
   "execution_count": 19,
   "id": "fc3c927d",
   "metadata": {},
   "outputs": [],
   "source": [
    "# объявим переменные features и target для каждой выборки\n",
    "features_train = train['lemm_text']\n",
    "target_train = train['toxic']\n",
    "features_test = test['lemm_text']\n",
    "target_test = test['toxic']"
   ]
  },
  {
   "cell_type": "code",
   "execution_count": 20,
   "id": "dc52e7ad",
   "metadata": {},
   "outputs": [
    {
     "data": {
      "text/plain": [
       "(119469,)"
      ]
     },
     "metadata": {},
     "output_type": "display_data"
    },
    {
     "data": {
      "text/plain": [
       "(39823,)"
      ]
     },
     "metadata": {},
     "output_type": "display_data"
    },
    {
     "data": {
      "text/plain": [
       "(119469,)"
      ]
     },
     "metadata": {},
     "output_type": "display_data"
    },
    {
     "data": {
      "text/plain": [
       "(39823,)"
      ]
     },
     "metadata": {},
     "output_type": "display_data"
    }
   ],
   "source": [
    "display(features_train.shape)\n",
    "display(features_test.shape)\n",
    "display(target_train.shape)\n",
    "display(target_test.shape)"
   ]
  },
  {
   "cell_type": "code",
   "execution_count": null,
   "id": "265e3e07",
   "metadata": {},
   "outputs": [],
   "source": [
    "%%time\n",
    "# Обучим модель LogisticRegression\n",
    "param_range_fl = [1.0, 0.5]\n",
    "pipe_lr = Pipeline([('vect', CountVectorizer()),\n",
    "                   ('tfidf', TfidfTransformer()),\n",
    "                ('clf', LogisticRegression(random_state=12345))])\n",
    "\n",
    "params_lr = [{'clf__penalty': ['l1', 'l2'],\n",
    "        'clf__C': param_range_fl,\n",
    "        'clf__solver': ['liblinear']}] \n",
    "\n",
    "model_LR = GridSearchCV(estimator=pipe_lr,\n",
    "            param_grid=params_lr,\n",
    "            scoring='f1',\n",
    "            cv=4) \n",
    "model_LR.fit(features_train, target_train) \n",
    "print(model_LR.best_score_*100)\n",
    "print(model_LR.best_params_)"
   ]
  },
  {
   "cell_type": "code",
   "execution_count": 22,
   "id": "3ef443c2",
   "metadata": {},
   "outputs": [
    {
     "name": "stdout",
     "output_type": "stream",
     "text": [
      "32.12440344476139\n",
      "{'clf__criterion': 'entropy', 'clf__max_depth': 8, 'clf__min_samples_leaf': 3, 'clf__min_samples_split': 2, 'clf__n_estimators': 40}\n",
      "CPU times: user 11min 31s, sys: 9.97 s, total: 11min 41s\n",
      "Wall time: 11min 43s\n"
     ]
    }
   ],
   "source": [
    "%%time\n",
    "# Обучим модель RandomForestClassifier\n",
    "pipe_rf = Pipeline([('vect', CountVectorizer()),\n",
    "                   ('tfidf', TfidfTransformer()),\n",
    "            ('clf', RandomForestClassifier(random_state=12345, class_weight='balanced'))])\n",
    "\n",
    "params_RF = [{'clf__criterion': ['gini', 'entropy'],\n",
    "        'clf__max_depth': [7, 8],\n",
    "        'clf__n_estimators' : [35, 40],\n",
    "        'clf__min_samples_leaf': [3,5],      \n",
    "        'clf__min_samples_split': [1, 2]}]\n",
    "\n",
    "model_RF = GridSearchCV(estimator=pipe_rf,\n",
    "            param_grid=params_RF,\n",
    "            scoring='f1',\n",
    "            cv=4, \n",
    "            n_jobs=-1)\n",
    "model_RF.fit(features_train, target_train)\n",
    "\n",
    "print(model_RF.best_score_*100)\n",
    "print(model_RF.best_params_)"
   ]
  },
  {
   "cell_type": "code",
   "execution_count": 23,
   "id": "5c474568",
   "metadata": {},
   "outputs": [
    {
     "name": "stdout",
     "output_type": "stream",
     "text": [
      "72.33600342089431\n",
      "{'clf__learning_rate': 0.4, 'clf__n_estimators': 40}\n",
      "CPU times: user 20min 35s, sys: 6.41 s, total: 20min 41s\n",
      "Wall time: 20min 50s\n"
     ]
    }
   ],
   "source": [
    "%%time\n",
    "# Обучим модель LGBMClassifier\n",
    "\n",
    "pipe_LGBM = Pipeline([('vect', CountVectorizer()),\n",
    "                   ('tfidf', TfidfTransformer()),\n",
    "            ('clf', LGBMClassifier(random_state=12345, class_weight='balanced'))])\n",
    "\n",
    "params_LGBM = [{\n",
    "    'clf__n_estimators': [35, 40],\n",
    "    'clf__learning_rate': [0.3, 0.4]\n",
    "}]\n",
    "\n",
    "model_LGBM = GridSearchCV(estimator=pipe_LGBM,\n",
    "            param_grid=params_LGBM,\n",
    "            scoring='f1',\n",
    "            cv=3, \n",
    "            n_jobs=-1)\n",
    "model_LGBM.fit(features_train, target_train)\n",
    "\n",
    "print(model_LGBM.best_score_*100)\n",
    "print(model_LGBM.best_params_)"
   ]
  },
  {
   "cell_type": "code",
   "execution_count": 24,
   "id": "fdf637a0",
   "metadata": {},
   "outputs": [
    {
     "name": "stdout",
     "output_type": "stream",
     "text": [
      "0:\tlearn: 0.6637367\ttotal: 932ms\tremaining: 31.7s\n",
      "1:\tlearn: 0.6345804\ttotal: 1.88s\tremaining: 30.9s\n",
      "2:\tlearn: 0.6076040\ttotal: 2.82s\tremaining: 30.1s\n",
      "3:\tlearn: 0.5828112\ttotal: 3.78s\tremaining: 29.3s\n",
      "4:\tlearn: 0.5596925\ttotal: 4.76s\tremaining: 28.6s\n",
      "5:\tlearn: 0.5380504\ttotal: 5.79s\tremaining: 28s\n",
      "6:\tlearn: 0.5171351\ttotal: 6.8s\tremaining: 27.2s\n",
      "7:\tlearn: 0.4980839\ttotal: 7.79s\tremaining: 26.3s\n",
      "8:\tlearn: 0.4803949\ttotal: 8.75s\tremaining: 25.3s\n",
      "9:\tlearn: 0.4637500\ttotal: 9.76s\tremaining: 24.4s\n",
      "10:\tlearn: 0.4493705\ttotal: 10.7s\tremaining: 23.4s\n",
      "11:\tlearn: 0.4350483\ttotal: 11.7s\tremaining: 22.4s\n",
      "12:\tlearn: 0.4224568\ttotal: 12.6s\tremaining: 21.3s\n",
      "13:\tlearn: 0.4107546\ttotal: 13.5s\tremaining: 20.3s\n",
      "14:\tlearn: 0.3995080\ttotal: 14.5s\tremaining: 19.4s\n",
      "15:\tlearn: 0.3893122\ttotal: 15.5s\tremaining: 18.4s\n",
      "16:\tlearn: 0.3795088\ttotal: 16.5s\tremaining: 17.4s\n",
      "17:\tlearn: 0.3702465\ttotal: 17.4s\tremaining: 16.5s\n",
      "18:\tlearn: 0.3621154\ttotal: 18.4s\tremaining: 15.5s\n",
      "19:\tlearn: 0.3545409\ttotal: 19.4s\tremaining: 14.5s\n",
      "20:\tlearn: 0.3471909\ttotal: 20.4s\tremaining: 13.6s\n",
      "21:\tlearn: 0.3403808\ttotal: 21.3s\tremaining: 12.6s\n",
      "22:\tlearn: 0.3333711\ttotal: 22.3s\tremaining: 11.7s\n",
      "23:\tlearn: 0.3273539\ttotal: 23.3s\tremaining: 10.7s\n",
      "24:\tlearn: 0.3219102\ttotal: 24.2s\tremaining: 9.69s\n",
      "25:\tlearn: 0.3167271\ttotal: 25.2s\tremaining: 8.73s\n",
      "26:\tlearn: 0.3119271\ttotal: 26.2s\tremaining: 7.76s\n",
      "27:\tlearn: 0.3067900\ttotal: 27.2s\tremaining: 6.79s\n",
      "28:\tlearn: 0.3021387\ttotal: 28.2s\tremaining: 5.83s\n",
      "29:\tlearn: 0.2980509\ttotal: 29.1s\tremaining: 4.85s\n",
      "30:\tlearn: 0.2945318\ttotal: 30.1s\tremaining: 3.88s\n",
      "31:\tlearn: 0.2905232\ttotal: 31.2s\tremaining: 2.92s\n",
      "32:\tlearn: 0.2867575\ttotal: 32.3s\tremaining: 1.96s\n",
      "33:\tlearn: 0.2836320\ttotal: 33.3s\tremaining: 980ms\n",
      "34:\tlearn: 0.2800787\ttotal: 34.5s\tremaining: 0us\n",
      "0:\tlearn: 0.6618204\ttotal: 917ms\tremaining: 31.2s\n",
      "1:\tlearn: 0.6333417\ttotal: 1.84s\tremaining: 30.4s\n",
      "2:\tlearn: 0.6074045\ttotal: 2.76s\tremaining: 29.4s\n",
      "3:\tlearn: 0.5827397\ttotal: 3.71s\tremaining: 28.8s\n",
      "4:\tlearn: 0.5588130\ttotal: 4.66s\tremaining: 27.9s\n",
      "5:\tlearn: 0.5372392\ttotal: 5.55s\tremaining: 26.8s\n",
      "6:\tlearn: 0.5175367\ttotal: 6.55s\tremaining: 26.2s\n",
      "7:\tlearn: 0.4984831\ttotal: 7.48s\tremaining: 25.2s\n",
      "8:\tlearn: 0.4821600\ttotal: 8.41s\tremaining: 24.3s\n",
      "9:\tlearn: 0.4658074\ttotal: 9.35s\tremaining: 23.4s\n",
      "10:\tlearn: 0.4516385\ttotal: 10.3s\tremaining: 22.5s\n",
      "11:\tlearn: 0.4380319\ttotal: 11.3s\tremaining: 21.6s\n",
      "12:\tlearn: 0.4250904\ttotal: 12.2s\tremaining: 20.7s\n",
      "13:\tlearn: 0.4130022\ttotal: 13.2s\tremaining: 19.8s\n",
      "14:\tlearn: 0.4014557\ttotal: 14.2s\tremaining: 18.9s\n",
      "15:\tlearn: 0.3909503\ttotal: 15.1s\tremaining: 17.9s\n",
      "16:\tlearn: 0.3812399\ttotal: 16.1s\tremaining: 17s\n",
      "17:\tlearn: 0.3720641\ttotal: 17s\tremaining: 16.1s\n",
      "18:\tlearn: 0.3637745\ttotal: 18s\tremaining: 15.1s\n",
      "19:\tlearn: 0.3547178\ttotal: 19s\tremaining: 14.2s\n",
      "20:\tlearn: 0.3474413\ttotal: 19.9s\tremaining: 13.3s\n",
      "21:\tlearn: 0.3404681\ttotal: 20.9s\tremaining: 12.3s\n",
      "22:\tlearn: 0.3341363\ttotal: 21.8s\tremaining: 11.4s\n",
      "23:\tlearn: 0.3281711\ttotal: 22.8s\tremaining: 10.4s\n",
      "24:\tlearn: 0.3224696\ttotal: 23.7s\tremaining: 9.48s\n",
      "25:\tlearn: 0.3173845\ttotal: 24.6s\tremaining: 8.53s\n",
      "26:\tlearn: 0.3116898\ttotal: 25.6s\tremaining: 7.58s\n",
      "27:\tlearn: 0.3070665\ttotal: 26.6s\tremaining: 6.64s\n",
      "28:\tlearn: 0.3019590\ttotal: 27.6s\tremaining: 5.71s\n",
      "29:\tlearn: 0.2973954\ttotal: 28.6s\tremaining: 4.76s\n",
      "30:\tlearn: 0.2937676\ttotal: 29.5s\tremaining: 3.81s\n",
      "31:\tlearn: 0.2903096\ttotal: 30.5s\tremaining: 2.85s\n",
      "32:\tlearn: 0.2869664\ttotal: 31.4s\tremaining: 1.9s\n",
      "33:\tlearn: 0.2836085\ttotal: 32.4s\tremaining: 954ms\n",
      "34:\tlearn: 0.2806145\ttotal: 33.4s\tremaining: 0us\n",
      "0:\tlearn: 0.6625312\ttotal: 839ms\tremaining: 28.5s\n",
      "1:\tlearn: 0.6336746\ttotal: 1.74s\tremaining: 28.8s\n",
      "2:\tlearn: 0.6068370\ttotal: 2.7s\tremaining: 28.8s\n",
      "3:\tlearn: 0.5808662\ttotal: 3.7s\tremaining: 28.7s\n",
      "4:\tlearn: 0.5570375\ttotal: 4.65s\tremaining: 27.9s\n",
      "5:\tlearn: 0.5353864\ttotal: 5.6s\tremaining: 27.1s\n",
      "6:\tlearn: 0.5161109\ttotal: 6.49s\tremaining: 26s\n",
      "7:\tlearn: 0.4975383\ttotal: 7.4s\tremaining: 25s\n",
      "8:\tlearn: 0.4797355\ttotal: 8.32s\tremaining: 24s\n",
      "9:\tlearn: 0.4630497\ttotal: 9.26s\tremaining: 23.1s\n",
      "10:\tlearn: 0.4478280\ttotal: 10.2s\tremaining: 22.4s\n",
      "11:\tlearn: 0.4336072\ttotal: 11.2s\tremaining: 21.4s\n",
      "12:\tlearn: 0.4205305\ttotal: 12.1s\tremaining: 20.5s\n",
      "13:\tlearn: 0.4083734\ttotal: 13s\tremaining: 19.6s\n",
      "14:\tlearn: 0.3968709\ttotal: 14s\tremaining: 18.7s\n",
      "15:\tlearn: 0.3863362\ttotal: 14.9s\tremaining: 17.7s\n",
      "16:\tlearn: 0.3765962\ttotal: 15.9s\tremaining: 16.8s\n",
      "17:\tlearn: 0.3669737\ttotal: 16.8s\tremaining: 15.9s\n",
      "18:\tlearn: 0.3584747\ttotal: 17.8s\tremaining: 15s\n",
      "19:\tlearn: 0.3506893\ttotal: 18.7s\tremaining: 14s\n",
      "20:\tlearn: 0.3436738\ttotal: 19.7s\tremaining: 13.1s\n",
      "21:\tlearn: 0.3367544\ttotal: 20.6s\tremaining: 12.2s\n",
      "22:\tlearn: 0.3295677\ttotal: 21.6s\tremaining: 11.3s\n",
      "23:\tlearn: 0.3237045\ttotal: 22.6s\tremaining: 10.3s\n",
      "24:\tlearn: 0.3181892\ttotal: 23.5s\tremaining: 9.39s\n",
      "25:\tlearn: 0.3129922\ttotal: 24.4s\tremaining: 8.46s\n",
      "26:\tlearn: 0.3074582\ttotal: 25.5s\tremaining: 7.54s\n",
      "27:\tlearn: 0.3028714\ttotal: 26.4s\tremaining: 6.59s\n",
      "28:\tlearn: 0.2987095\ttotal: 27.3s\tremaining: 5.65s\n",
      "29:\tlearn: 0.2947132\ttotal: 28.3s\tremaining: 4.71s\n",
      "30:\tlearn: 0.2907988\ttotal: 29.2s\tremaining: 3.76s\n",
      "31:\tlearn: 0.2871652\ttotal: 30.1s\tremaining: 2.83s\n",
      "32:\tlearn: 0.2838325\ttotal: 31.1s\tremaining: 1.88s\n",
      "33:\tlearn: 0.2803975\ttotal: 32s\tremaining: 942ms\n",
      "34:\tlearn: 0.2774010\ttotal: 33s\tremaining: 0us\n",
      "0:\tlearn: 0.6540268\ttotal: 961ms\tremaining: 32.7s\n",
      "1:\tlearn: 0.6165053\ttotal: 1.98s\tremaining: 32.6s\n",
      "2:\tlearn: 0.5815863\ttotal: 2.96s\tremaining: 31.5s\n",
      "3:\tlearn: 0.5509300\ttotal: 3.91s\tremaining: 30.3s\n",
      "4:\tlearn: 0.5235821\ttotal: 4.83s\tremaining: 29s\n",
      "5:\tlearn: 0.4972216\ttotal: 5.75s\tremaining: 27.8s\n",
      "6:\tlearn: 0.4735355\ttotal: 6.67s\tremaining: 26.7s\n",
      "7:\tlearn: 0.4527112\ttotal: 7.62s\tremaining: 25.7s\n",
      "8:\tlearn: 0.4335393\ttotal: 8.58s\tremaining: 24.8s\n",
      "9:\tlearn: 0.4149957\ttotal: 9.58s\tremaining: 24s\n",
      "10:\tlearn: 0.4004172\ttotal: 10.5s\tremaining: 23s\n",
      "11:\tlearn: 0.3864835\ttotal: 11.4s\tremaining: 21.9s\n",
      "12:\tlearn: 0.3742037\ttotal: 12.4s\tremaining: 20.9s\n",
      "13:\tlearn: 0.3629546\ttotal: 13.3s\tremaining: 20s\n",
      "14:\tlearn: 0.3523396\ttotal: 14.3s\tremaining: 19s\n",
      "15:\tlearn: 0.3431267\ttotal: 15.2s\tremaining: 18.1s\n",
      "16:\tlearn: 0.3340822\ttotal: 16.2s\tremaining: 17.1s\n",
      "17:\tlearn: 0.3260592\ttotal: 17.1s\tremaining: 16.1s\n",
      "18:\tlearn: 0.3182582\ttotal: 18.1s\tremaining: 15.2s\n",
      "19:\tlearn: 0.3118596\ttotal: 19.1s\tremaining: 14.3s\n",
      "20:\tlearn: 0.3058406\ttotal: 20.1s\tremaining: 13.4s\n",
      "21:\tlearn: 0.3002638\ttotal: 21s\tremaining: 12.4s\n",
      "22:\tlearn: 0.2944398\ttotal: 22s\tremaining: 11.5s\n",
      "23:\tlearn: 0.2896265\ttotal: 23s\tremaining: 10.6s\n",
      "24:\tlearn: 0.2854274\ttotal: 24s\tremaining: 9.59s\n",
      "25:\tlearn: 0.2814565\ttotal: 25s\tremaining: 8.65s\n",
      "26:\tlearn: 0.2778371\ttotal: 25.9s\tremaining: 7.69s\n",
      "27:\tlearn: 0.2739568\ttotal: 26.9s\tremaining: 6.73s\n",
      "28:\tlearn: 0.2709055\ttotal: 27.9s\tremaining: 5.78s\n",
      "29:\tlearn: 0.2677837\ttotal: 28.9s\tremaining: 4.81s\n",
      "30:\tlearn: 0.2651275\ttotal: 29.9s\tremaining: 3.85s\n",
      "31:\tlearn: 0.2621189\ttotal: 30.8s\tremaining: 2.89s\n",
      "32:\tlearn: 0.2588889\ttotal: 31.8s\tremaining: 1.93s\n",
      "33:\tlearn: 0.2566365\ttotal: 32.8s\tremaining: 965ms\n",
      "34:\tlearn: 0.2539312\ttotal: 33.8s\tremaining: 0us\n",
      "0:\tlearn: 0.6514433\ttotal: 893ms\tremaining: 30.3s\n",
      "1:\tlearn: 0.6149923\ttotal: 1.82s\tremaining: 30.1s\n",
      "2:\tlearn: 0.5826102\ttotal: 2.81s\tremaining: 30s\n",
      "3:\tlearn: 0.5522617\ttotal: 3.83s\tremaining: 29.7s\n",
      "4:\tlearn: 0.5234731\ttotal: 4.79s\tremaining: 28.7s\n",
      "5:\tlearn: 0.4977058\ttotal: 5.76s\tremaining: 27.9s\n",
      "6:\tlearn: 0.4752827\ttotal: 6.67s\tremaining: 26.7s\n",
      "7:\tlearn: 0.4540414\ttotal: 7.6s\tremaining: 25.7s\n",
      "8:\tlearn: 0.4358926\ttotal: 8.52s\tremaining: 24.6s\n",
      "9:\tlearn: 0.4188734\ttotal: 9.44s\tremaining: 23.6s\n",
      "10:\tlearn: 0.4043499\ttotal: 10.4s\tremaining: 22.6s\n",
      "11:\tlearn: 0.3905423\ttotal: 11.3s\tremaining: 21.6s\n",
      "12:\tlearn: 0.3780662\ttotal: 12.2s\tremaining: 20.6s\n",
      "13:\tlearn: 0.3663041\ttotal: 13.2s\tremaining: 19.7s\n",
      "14:\tlearn: 0.3558201\ttotal: 14.1s\tremaining: 18.8s\n",
      "15:\tlearn: 0.3459848\ttotal: 15s\tremaining: 17.8s\n",
      "16:\tlearn: 0.3370510\ttotal: 16s\tremaining: 17s\n",
      "17:\tlearn: 0.3288142\ttotal: 16.9s\tremaining: 16s\n",
      "18:\tlearn: 0.3203880\ttotal: 17.9s\tremaining: 15s\n",
      "19:\tlearn: 0.3129510\ttotal: 18.9s\tremaining: 14.2s\n",
      "20:\tlearn: 0.3066291\ttotal: 19.8s\tremaining: 13.2s\n",
      "21:\tlearn: 0.3009414\ttotal: 20.8s\tremaining: 12.3s\n",
      "22:\tlearn: 0.2958865\ttotal: 21.7s\tremaining: 11.3s\n",
      "23:\tlearn: 0.2908242\ttotal: 22.7s\tremaining: 10.4s\n",
      "24:\tlearn: 0.2862385\ttotal: 23.7s\tremaining: 9.47s\n",
      "25:\tlearn: 0.2822577\ttotal: 24.6s\tremaining: 8.51s\n",
      "26:\tlearn: 0.2780874\ttotal: 25.6s\tremaining: 7.58s\n",
      "27:\tlearn: 0.2744493\ttotal: 26.5s\tremaining: 6.63s\n",
      "28:\tlearn: 0.2701972\ttotal: 27.6s\tremaining: 5.71s\n",
      "29:\tlearn: 0.2666221\ttotal: 28.6s\tremaining: 4.77s\n",
      "30:\tlearn: 0.2638876\ttotal: 29.5s\tremaining: 3.81s\n",
      "31:\tlearn: 0.2612770\ttotal: 30.5s\tremaining: 2.86s\n",
      "32:\tlearn: 0.2588923\ttotal: 31.5s\tremaining: 1.91s\n",
      "33:\tlearn: 0.2565975\ttotal: 32.4s\tremaining: 952ms\n",
      "34:\tlearn: 0.2543571\ttotal: 33.3s\tremaining: 0us\n",
      "0:\tlearn: 0.6526104\ttotal: 841ms\tremaining: 28.6s\n",
      "1:\tlearn: 0.6155764\ttotal: 1.74s\tremaining: 28.6s\n",
      "2:\tlearn: 0.5817175\ttotal: 2.66s\tremaining: 28.4s\n",
      "3:\tlearn: 0.5497400\ttotal: 3.58s\tremaining: 27.8s\n",
      "4:\tlearn: 0.5213376\ttotal: 4.49s\tremaining: 27s\n",
      "5:\tlearn: 0.4961119\ttotal: 5.48s\tremaining: 26.5s\n",
      "6:\tlearn: 0.4738815\ttotal: 6.5s\tremaining: 26s\n",
      "7:\tlearn: 0.4535065\ttotal: 7.49s\tremaining: 25.3s\n",
      "8:\tlearn: 0.4343636\ttotal: 8.48s\tremaining: 24.5s\n",
      "9:\tlearn: 0.4168296\ttotal: 9.43s\tremaining: 23.6s\n",
      "10:\tlearn: 0.4009003\ttotal: 10.3s\tremaining: 22.6s\n",
      "11:\tlearn: 0.3867489\ttotal: 11.3s\tremaining: 21.6s\n",
      "12:\tlearn: 0.3737783\ttotal: 12.2s\tremaining: 20.7s\n",
      "13:\tlearn: 0.3624921\ttotal: 13.1s\tremaining: 19.7s\n",
      "14:\tlearn: 0.3517475\ttotal: 14.1s\tremaining: 18.8s\n",
      "15:\tlearn: 0.3411618\ttotal: 15.1s\tremaining: 17.9s\n",
      "16:\tlearn: 0.3322488\ttotal: 16s\tremaining: 17s\n",
      "17:\tlearn: 0.3245299\ttotal: 17s\tremaining: 16s\n",
      "18:\tlearn: 0.3173470\ttotal: 17.9s\tremaining: 15.1s\n",
      "19:\tlearn: 0.3105887\ttotal: 18.9s\tremaining: 14.2s\n",
      "20:\tlearn: 0.3044024\ttotal: 19.9s\tremaining: 13.2s\n",
      "21:\tlearn: 0.2985351\ttotal: 20.8s\tremaining: 12.3s\n",
      "22:\tlearn: 0.2922917\ttotal: 21.8s\tremaining: 11.4s\n",
      "23:\tlearn: 0.2874747\ttotal: 22.8s\tremaining: 10.4s\n",
      "24:\tlearn: 0.2830956\ttotal: 23.7s\tremaining: 9.47s\n",
      "25:\tlearn: 0.2783739\ttotal: 24.7s\tremaining: 8.54s\n",
      "26:\tlearn: 0.2738141\ttotal: 25.7s\tremaining: 7.62s\n",
      "27:\tlearn: 0.2701908\ttotal: 26.6s\tremaining: 6.66s\n",
      "28:\tlearn: 0.2670606\ttotal: 27.6s\tremaining: 5.71s\n",
      "29:\tlearn: 0.2640511\ttotal: 28.5s\tremaining: 4.75s\n",
      "30:\tlearn: 0.2611069\ttotal: 29.5s\tremaining: 3.8s\n",
      "31:\tlearn: 0.2584699\ttotal: 30.4s\tremaining: 2.85s\n",
      "32:\tlearn: 0.2560795\ttotal: 31.3s\tremaining: 1.9s\n",
      "33:\tlearn: 0.2535118\ttotal: 32.3s\tremaining: 949ms\n",
      "34:\tlearn: 0.2511890\ttotal: 33.3s\tremaining: 0us\n",
      "0:\tlearn: 0.6637367\ttotal: 868ms\tremaining: 33.9s\n",
      "1:\tlearn: 0.6345804\ttotal: 1.81s\tremaining: 34.4s\n",
      "2:\tlearn: 0.6076040\ttotal: 2.75s\tremaining: 34s\n",
      "3:\tlearn: 0.5828112\ttotal: 3.72s\tremaining: 33.5s\n",
      "4:\tlearn: 0.5596925\ttotal: 4.63s\tremaining: 32.4s\n",
      "5:\tlearn: 0.5380504\ttotal: 5.57s\tremaining: 31.5s\n",
      "6:\tlearn: 0.5171351\ttotal: 6.5s\tremaining: 30.7s\n",
      "7:\tlearn: 0.4980839\ttotal: 7.45s\tremaining: 29.8s\n",
      "8:\tlearn: 0.4803949\ttotal: 8.43s\tremaining: 29s\n",
      "9:\tlearn: 0.4637500\ttotal: 9.48s\tremaining: 28.4s\n",
      "10:\tlearn: 0.4493705\ttotal: 10.5s\tremaining: 27.7s\n",
      "11:\tlearn: 0.4350483\ttotal: 11.5s\tremaining: 26.8s\n",
      "12:\tlearn: 0.4224568\ttotal: 12.5s\tremaining: 25.9s\n",
      "13:\tlearn: 0.4107546\ttotal: 13.4s\tremaining: 25s\n",
      "14:\tlearn: 0.3995080\ttotal: 14.4s\tremaining: 24s\n",
      "15:\tlearn: 0.3893122\ttotal: 15.3s\tremaining: 23s\n",
      "16:\tlearn: 0.3795088\ttotal: 16.3s\tremaining: 22s\n",
      "17:\tlearn: 0.3702465\ttotal: 17.2s\tremaining: 21s\n",
      "18:\tlearn: 0.3621154\ttotal: 18.1s\tremaining: 20.1s\n",
      "19:\tlearn: 0.3545409\ttotal: 19.1s\tremaining: 19.1s\n",
      "20:\tlearn: 0.3471909\ttotal: 20s\tremaining: 18.1s\n",
      "21:\tlearn: 0.3403808\ttotal: 21s\tremaining: 17.2s\n",
      "22:\tlearn: 0.3333711\ttotal: 22s\tremaining: 16.3s\n",
      "23:\tlearn: 0.3273539\ttotal: 23s\tremaining: 15.3s\n",
      "24:\tlearn: 0.3219102\ttotal: 24s\tremaining: 14.4s\n",
      "25:\tlearn: 0.3167271\ttotal: 24.9s\tremaining: 13.4s\n",
      "26:\tlearn: 0.3119271\ttotal: 25.9s\tremaining: 12.5s\n",
      "27:\tlearn: 0.3067900\ttotal: 26.9s\tremaining: 11.5s\n",
      "28:\tlearn: 0.3021387\ttotal: 27.9s\tremaining: 10.6s\n",
      "29:\tlearn: 0.2980509\ttotal: 28.9s\tremaining: 9.65s\n",
      "30:\tlearn: 0.2945318\ttotal: 29.9s\tremaining: 8.68s\n",
      "31:\tlearn: 0.2905232\ttotal: 30.9s\tremaining: 7.73s\n",
      "32:\tlearn: 0.2867575\ttotal: 32.1s\tremaining: 6.8s\n",
      "33:\tlearn: 0.2836320\ttotal: 33s\tremaining: 5.83s\n",
      "34:\tlearn: 0.2800787\ttotal: 34.1s\tremaining: 4.88s\n",
      "35:\tlearn: 0.2772296\ttotal: 35.1s\tremaining: 3.9s\n",
      "36:\tlearn: 0.2746750\ttotal: 36.1s\tremaining: 2.93s\n",
      "37:\tlearn: 0.2721725\ttotal: 37.1s\tremaining: 1.95s\n",
      "38:\tlearn: 0.2695135\ttotal: 38.1s\tremaining: 977ms\n",
      "39:\tlearn: 0.2674290\ttotal: 39.1s\tremaining: 0us\n",
      "0:\tlearn: 0.6618204\ttotal: 908ms\tremaining: 35.4s\n",
      "1:\tlearn: 0.6333417\ttotal: 1.85s\tremaining: 35.2s\n",
      "2:\tlearn: 0.6074045\ttotal: 2.81s\tremaining: 34.6s\n",
      "3:\tlearn: 0.5827397\ttotal: 3.79s\tremaining: 34.1s\n",
      "4:\tlearn: 0.5588130\ttotal: 4.72s\tremaining: 33s\n",
      "5:\tlearn: 0.5372392\ttotal: 5.66s\tremaining: 32.1s\n",
      "6:\tlearn: 0.5175367\ttotal: 6.71s\tremaining: 31.6s\n",
      "7:\tlearn: 0.4984831\ttotal: 7.74s\tremaining: 31s\n",
      "8:\tlearn: 0.4821600\ttotal: 8.67s\tremaining: 29.9s\n",
      "9:\tlearn: 0.4658074\ttotal: 9.69s\tremaining: 29.1s\n",
      "10:\tlearn: 0.4516385\ttotal: 10.6s\tremaining: 28s\n",
      "11:\tlearn: 0.4380319\ttotal: 11.6s\tremaining: 27s\n",
      "12:\tlearn: 0.4250904\ttotal: 12.5s\tremaining: 26s\n",
      "13:\tlearn: 0.4130022\ttotal: 13.5s\tremaining: 25s\n",
      "14:\tlearn: 0.4014557\ttotal: 14.4s\tremaining: 24.1s\n",
      "15:\tlearn: 0.3909503\ttotal: 15.4s\tremaining: 23.1s\n",
      "16:\tlearn: 0.3812399\ttotal: 16.3s\tremaining: 22.1s\n",
      "17:\tlearn: 0.3720641\ttotal: 17.3s\tremaining: 21.1s\n",
      "18:\tlearn: 0.3637745\ttotal: 18.2s\tremaining: 20.1s\n",
      "19:\tlearn: 0.3547178\ttotal: 19.2s\tremaining: 19.2s\n",
      "20:\tlearn: 0.3474413\ttotal: 20.3s\tremaining: 18.3s\n",
      "21:\tlearn: 0.3404681\ttotal: 21.2s\tremaining: 17.4s\n",
      "22:\tlearn: 0.3341363\ttotal: 22.2s\tremaining: 16.4s\n",
      "23:\tlearn: 0.3281711\ttotal: 23.1s\tremaining: 15.4s\n",
      "24:\tlearn: 0.3224696\ttotal: 24.1s\tremaining: 14.5s\n",
      "25:\tlearn: 0.3173845\ttotal: 25.1s\tremaining: 13.5s\n",
      "26:\tlearn: 0.3116898\ttotal: 26s\tremaining: 12.5s\n",
      "27:\tlearn: 0.3070665\ttotal: 27s\tremaining: 11.6s\n",
      "28:\tlearn: 0.3019590\ttotal: 28s\tremaining: 10.6s\n",
      "29:\tlearn: 0.2973954\ttotal: 29s\tremaining: 9.67s\n",
      "30:\tlearn: 0.2937676\ttotal: 30s\tremaining: 8.71s\n",
      "31:\tlearn: 0.2903096\ttotal: 30.9s\tremaining: 7.74s\n",
      "32:\tlearn: 0.2869664\ttotal: 31.9s\tremaining: 6.77s\n",
      "33:\tlearn: 0.2836085\ttotal: 32.9s\tremaining: 5.8s\n",
      "34:\tlearn: 0.2806145\ttotal: 33.9s\tremaining: 4.83s\n",
      "35:\tlearn: 0.2774963\ttotal: 34.9s\tremaining: 3.88s\n",
      "36:\tlearn: 0.2747313\ttotal: 35.8s\tremaining: 2.9s\n",
      "37:\tlearn: 0.2717964\ttotal: 36.8s\tremaining: 1.94s\n",
      "38:\tlearn: 0.2694439\ttotal: 37.7s\tremaining: 967ms\n",
      "39:\tlearn: 0.2672997\ttotal: 38.7s\tremaining: 0us\n",
      "0:\tlearn: 0.6625312\ttotal: 849ms\tremaining: 33.1s\n",
      "1:\tlearn: 0.6336746\ttotal: 1.78s\tremaining: 33.7s\n",
      "2:\tlearn: 0.6068370\ttotal: 2.77s\tremaining: 34.1s\n",
      "3:\tlearn: 0.5808662\ttotal: 3.78s\tremaining: 34s\n",
      "4:\tlearn: 0.5570375\ttotal: 4.8s\tremaining: 33.6s\n",
      "5:\tlearn: 0.5353864\ttotal: 5.82s\tremaining: 33s\n",
      "6:\tlearn: 0.5161109\ttotal: 6.73s\tremaining: 31.7s\n",
      "7:\tlearn: 0.4975383\ttotal: 7.69s\tremaining: 30.8s\n",
      "8:\tlearn: 0.4797355\ttotal: 8.65s\tremaining: 29.8s\n",
      "9:\tlearn: 0.4630497\ttotal: 9.63s\tremaining: 28.9s\n",
      "10:\tlearn: 0.4478280\ttotal: 10.6s\tremaining: 27.9s\n",
      "11:\tlearn: 0.4336072\ttotal: 11.5s\tremaining: 26.9s\n",
      "12:\tlearn: 0.4205305\ttotal: 12.5s\tremaining: 25.9s\n",
      "13:\tlearn: 0.4083734\ttotal: 13.4s\tremaining: 24.9s\n",
      "14:\tlearn: 0.3968709\ttotal: 14.4s\tremaining: 24s\n",
      "15:\tlearn: 0.3863362\ttotal: 15.4s\tremaining: 23.1s\n",
      "16:\tlearn: 0.3765962\ttotal: 16.4s\tremaining: 22.2s\n",
      "17:\tlearn: 0.3669737\ttotal: 17.4s\tremaining: 21.3s\n",
      "18:\tlearn: 0.3584747\ttotal: 18.4s\tremaining: 20.3s\n",
      "19:\tlearn: 0.3506893\ttotal: 19.4s\tremaining: 19.4s\n",
      "20:\tlearn: 0.3436738\ttotal: 20.3s\tremaining: 18.4s\n",
      "21:\tlearn: 0.3367544\ttotal: 21.3s\tremaining: 17.4s\n",
      "22:\tlearn: 0.3295677\ttotal: 22.4s\tremaining: 16.5s\n",
      "23:\tlearn: 0.3237045\ttotal: 23.4s\tremaining: 15.6s\n",
      "24:\tlearn: 0.3181892\ttotal: 24.4s\tremaining: 14.6s\n",
      "25:\tlearn: 0.3129922\ttotal: 25.3s\tremaining: 13.6s\n",
      "26:\tlearn: 0.3074582\ttotal: 26.4s\tremaining: 12.7s\n",
      "27:\tlearn: 0.3028714\ttotal: 27.3s\tremaining: 11.7s\n",
      "28:\tlearn: 0.2987095\ttotal: 28.3s\tremaining: 10.7s\n",
      "29:\tlearn: 0.2947132\ttotal: 29.2s\tremaining: 9.75s\n",
      "30:\tlearn: 0.2907988\ttotal: 30.2s\tremaining: 8.77s\n",
      "31:\tlearn: 0.2871652\ttotal: 31.2s\tremaining: 7.79s\n",
      "32:\tlearn: 0.2838325\ttotal: 32.2s\tremaining: 6.82s\n",
      "33:\tlearn: 0.2803975\ttotal: 33.2s\tremaining: 5.86s\n",
      "34:\tlearn: 0.2774010\ttotal: 34.2s\tremaining: 4.88s\n",
      "35:\tlearn: 0.2745312\ttotal: 35.1s\tremaining: 3.9s\n",
      "36:\tlearn: 0.2716580\ttotal: 36.1s\tremaining: 2.93s\n",
      "37:\tlearn: 0.2690672\ttotal: 37.1s\tremaining: 1.95s\n",
      "38:\tlearn: 0.2667286\ttotal: 38.1s\tremaining: 976ms\n",
      "39:\tlearn: 0.2641055\ttotal: 39.1s\tremaining: 0us\n",
      "0:\tlearn: 0.6540268\ttotal: 948ms\tremaining: 37s\n",
      "1:\tlearn: 0.6165053\ttotal: 2.01s\tremaining: 38.2s\n",
      "2:\tlearn: 0.5815863\ttotal: 3.04s\tremaining: 37.5s\n",
      "3:\tlearn: 0.5509300\ttotal: 3.98s\tremaining: 35.9s\n",
      "4:\tlearn: 0.5235821\ttotal: 4.93s\tremaining: 34.5s\n",
      "5:\tlearn: 0.4972216\ttotal: 5.87s\tremaining: 33.3s\n",
      "6:\tlearn: 0.4735355\ttotal: 6.81s\tremaining: 32.1s\n",
      "7:\tlearn: 0.4527112\ttotal: 7.75s\tremaining: 31s\n",
      "8:\tlearn: 0.4335393\ttotal: 8.68s\tremaining: 29.9s\n",
      "9:\tlearn: 0.4149957\ttotal: 9.69s\tremaining: 29.1s\n",
      "10:\tlearn: 0.4004172\ttotal: 10.6s\tremaining: 28s\n",
      "11:\tlearn: 0.3864835\ttotal: 11.6s\tremaining: 27s\n",
      "12:\tlearn: 0.3742037\ttotal: 12.5s\tremaining: 25.9s\n",
      "13:\tlearn: 0.3629546\ttotal: 13.4s\tremaining: 24.9s\n",
      "14:\tlearn: 0.3523396\ttotal: 14.4s\tremaining: 24s\n",
      "15:\tlearn: 0.3431267\ttotal: 15.4s\tremaining: 23.1s\n",
      "16:\tlearn: 0.3340822\ttotal: 16.3s\tremaining: 22.1s\n",
      "17:\tlearn: 0.3260592\ttotal: 17.3s\tremaining: 21.2s\n",
      "18:\tlearn: 0.3182582\ttotal: 18.3s\tremaining: 20.2s\n",
      "19:\tlearn: 0.3118596\ttotal: 19.3s\tremaining: 19.3s\n",
      "20:\tlearn: 0.3058406\ttotal: 20.3s\tremaining: 18.3s\n",
      "21:\tlearn: 0.3002638\ttotal: 21.3s\tremaining: 17.4s\n",
      "22:\tlearn: 0.2944398\ttotal: 22.4s\tremaining: 16.5s\n",
      "23:\tlearn: 0.2896265\ttotal: 23.3s\tremaining: 15.5s\n",
      "24:\tlearn: 0.2854274\ttotal: 24.3s\tremaining: 14.6s\n",
      "25:\tlearn: 0.2814565\ttotal: 25.2s\tremaining: 13.6s\n",
      "26:\tlearn: 0.2778371\ttotal: 26.2s\tremaining: 12.6s\n",
      "27:\tlearn: 0.2739568\ttotal: 27.2s\tremaining: 11.6s\n",
      "28:\tlearn: 0.2709055\ttotal: 28.1s\tremaining: 10.7s\n",
      "29:\tlearn: 0.2677837\ttotal: 29.1s\tremaining: 9.7s\n",
      "30:\tlearn: 0.2651275\ttotal: 30.1s\tremaining: 8.73s\n",
      "31:\tlearn: 0.2621189\ttotal: 31s\tremaining: 7.75s\n",
      "32:\tlearn: 0.2588889\ttotal: 32.1s\tremaining: 6.8s\n",
      "33:\tlearn: 0.2566365\ttotal: 33s\tremaining: 5.83s\n",
      "34:\tlearn: 0.2539312\ttotal: 34s\tremaining: 4.86s\n",
      "35:\tlearn: 0.2519970\ttotal: 35s\tremaining: 3.89s\n",
      "36:\tlearn: 0.2501335\ttotal: 36s\tremaining: 2.92s\n",
      "37:\tlearn: 0.2484297\ttotal: 36.9s\tremaining: 1.94s\n",
      "38:\tlearn: 0.2464362\ttotal: 37.9s\tremaining: 973ms\n",
      "39:\tlearn: 0.2449176\ttotal: 39s\tremaining: 0us\n",
      "0:\tlearn: 0.6514433\ttotal: 964ms\tremaining: 37.6s\n",
      "1:\tlearn: 0.6149923\ttotal: 1.93s\tremaining: 36.7s\n",
      "2:\tlearn: 0.5826102\ttotal: 2.85s\tremaining: 35.1s\n",
      "3:\tlearn: 0.5522617\ttotal: 3.81s\tremaining: 34.2s\n",
      "4:\tlearn: 0.5234731\ttotal: 4.74s\tremaining: 33.2s\n",
      "5:\tlearn: 0.4977058\ttotal: 5.67s\tremaining: 32.1s\n",
      "6:\tlearn: 0.4752827\ttotal: 6.6s\tremaining: 31.1s\n",
      "7:\tlearn: 0.4540414\ttotal: 7.55s\tremaining: 30.2s\n",
      "8:\tlearn: 0.4358926\ttotal: 8.49s\tremaining: 29.2s\n",
      "9:\tlearn: 0.4188734\ttotal: 9.45s\tremaining: 28.3s\n",
      "10:\tlearn: 0.4043499\ttotal: 10.4s\tremaining: 27.4s\n",
      "11:\tlearn: 0.3905423\ttotal: 11.4s\tremaining: 26.6s\n",
      "12:\tlearn: 0.3780662\ttotal: 12.4s\tremaining: 25.7s\n",
      "13:\tlearn: 0.3663041\ttotal: 13.3s\tremaining: 24.8s\n",
      "14:\tlearn: 0.3558201\ttotal: 14.3s\tremaining: 23.8s\n",
      "15:\tlearn: 0.3459848\ttotal: 15.3s\tremaining: 22.9s\n",
      "16:\tlearn: 0.3370510\ttotal: 16.2s\tremaining: 22s\n",
      "17:\tlearn: 0.3288142\ttotal: 17.2s\tremaining: 21s\n",
      "18:\tlearn: 0.3203880\ttotal: 18.1s\tremaining: 20.1s\n",
      "19:\tlearn: 0.3129510\ttotal: 19.1s\tremaining: 19.1s\n",
      "20:\tlearn: 0.3066291\ttotal: 20.1s\tremaining: 18.2s\n",
      "21:\tlearn: 0.3009414\ttotal: 21s\tremaining: 17.2s\n",
      "22:\tlearn: 0.2958865\ttotal: 22s\tremaining: 16.2s\n",
      "23:\tlearn: 0.2908242\ttotal: 22.9s\tremaining: 15.3s\n",
      "24:\tlearn: 0.2862385\ttotal: 23.9s\tremaining: 14.3s\n",
      "25:\tlearn: 0.2822577\ttotal: 24.8s\tremaining: 13.4s\n",
      "26:\tlearn: 0.2780874\ttotal: 25.8s\tremaining: 12.4s\n",
      "27:\tlearn: 0.2744493\ttotal: 26.8s\tremaining: 11.5s\n",
      "28:\tlearn: 0.2701972\ttotal: 27.8s\tremaining: 10.5s\n",
      "29:\tlearn: 0.2666221\ttotal: 28.8s\tremaining: 9.61s\n",
      "30:\tlearn: 0.2638876\ttotal: 29.8s\tremaining: 8.64s\n",
      "31:\tlearn: 0.2612770\ttotal: 30.7s\tremaining: 7.67s\n",
      "32:\tlearn: 0.2588923\ttotal: 31.7s\tremaining: 6.73s\n",
      "33:\tlearn: 0.2565975\ttotal: 32.6s\tremaining: 5.76s\n",
      "34:\tlearn: 0.2543571\ttotal: 33.6s\tremaining: 4.8s\n",
      "35:\tlearn: 0.2520860\ttotal: 34.6s\tremaining: 3.84s\n",
      "36:\tlearn: 0.2501483\ttotal: 35.5s\tremaining: 2.88s\n",
      "37:\tlearn: 0.2479833\ttotal: 36.5s\tremaining: 1.92s\n",
      "38:\tlearn: 0.2462784\ttotal: 37.5s\tremaining: 961ms\n",
      "39:\tlearn: 0.2447582\ttotal: 38.5s\tremaining: 0us\n",
      "0:\tlearn: 0.6526104\ttotal: 877ms\tremaining: 34.2s\n",
      "1:\tlearn: 0.6155764\ttotal: 1.8s\tremaining: 34.2s\n",
      "2:\tlearn: 0.5817175\ttotal: 2.74s\tremaining: 33.8s\n",
      "3:\tlearn: 0.5497400\ttotal: 3.68s\tremaining: 33.2s\n",
      "4:\tlearn: 0.5213376\ttotal: 4.65s\tremaining: 32.5s\n",
      "5:\tlearn: 0.4961119\ttotal: 5.6s\tremaining: 31.7s\n",
      "6:\tlearn: 0.4738815\ttotal: 6.54s\tremaining: 30.8s\n",
      "7:\tlearn: 0.4535065\ttotal: 7.46s\tremaining: 29.8s\n",
      "8:\tlearn: 0.4343636\ttotal: 8.38s\tremaining: 28.9s\n",
      "9:\tlearn: 0.4168296\ttotal: 9.38s\tremaining: 28.1s\n",
      "10:\tlearn: 0.4009003\ttotal: 10.3s\tremaining: 27.3s\n",
      "11:\tlearn: 0.3867489\ttotal: 11.3s\tremaining: 26.4s\n",
      "12:\tlearn: 0.3737783\ttotal: 12.3s\tremaining: 25.5s\n",
      "13:\tlearn: 0.3624921\ttotal: 13.2s\tremaining: 24.5s\n",
      "14:\tlearn: 0.3517475\ttotal: 14.1s\tremaining: 23.6s\n",
      "15:\tlearn: 0.3411618\ttotal: 15.1s\tremaining: 22.7s\n",
      "16:\tlearn: 0.3322488\ttotal: 16.1s\tremaining: 21.8s\n",
      "17:\tlearn: 0.3245299\ttotal: 17.1s\tremaining: 20.8s\n",
      "18:\tlearn: 0.3173470\ttotal: 18s\tremaining: 19.9s\n",
      "19:\tlearn: 0.3105887\ttotal: 18.9s\tremaining: 18.9s\n",
      "20:\tlearn: 0.3044024\ttotal: 19.9s\tremaining: 18s\n",
      "21:\tlearn: 0.2985351\ttotal: 20.8s\tremaining: 17s\n",
      "22:\tlearn: 0.2922917\ttotal: 21.8s\tremaining: 16.1s\n",
      "23:\tlearn: 0.2874747\ttotal: 22.8s\tremaining: 15.2s\n",
      "24:\tlearn: 0.2830956\ttotal: 23.7s\tremaining: 14.2s\n",
      "25:\tlearn: 0.2783739\ttotal: 24.7s\tremaining: 13.3s\n",
      "26:\tlearn: 0.2738141\ttotal: 25.7s\tremaining: 12.4s\n",
      "27:\tlearn: 0.2701908\ttotal: 26.6s\tremaining: 11.4s\n",
      "28:\tlearn: 0.2670606\ttotal: 27.6s\tremaining: 10.5s\n",
      "29:\tlearn: 0.2640511\ttotal: 28.5s\tremaining: 9.51s\n",
      "30:\tlearn: 0.2611069\ttotal: 29.5s\tremaining: 8.56s\n",
      "31:\tlearn: 0.2584699\ttotal: 30.4s\tremaining: 7.61s\n",
      "32:\tlearn: 0.2560795\ttotal: 31.4s\tremaining: 6.66s\n",
      "33:\tlearn: 0.2535118\ttotal: 32.4s\tremaining: 5.72s\n",
      "34:\tlearn: 0.2511890\ttotal: 33.3s\tremaining: 4.76s\n",
      "35:\tlearn: 0.2488320\ttotal: 34.3s\tremaining: 3.82s\n",
      "36:\tlearn: 0.2470261\ttotal: 35.4s\tremaining: 2.87s\n",
      "37:\tlearn: 0.2451627\ttotal: 36.4s\tremaining: 1.91s\n",
      "38:\tlearn: 0.2435158\ttotal: 37.4s\tremaining: 958ms\n",
      "39:\tlearn: 0.2414101\ttotal: 38.5s\tremaining: 0us\n",
      "0:\tlearn: 0.6626231\ttotal: 1.98s\tremaining: 1m 7s\n",
      "1:\tlearn: 0.6327897\ttotal: 4.02s\tremaining: 1m 6s\n",
      "2:\tlearn: 0.6050665\ttotal: 6.05s\tremaining: 1m 4s\n",
      "3:\tlearn: 0.5793459\ttotal: 8.13s\tremaining: 1m 3s\n",
      "4:\tlearn: 0.5557944\ttotal: 10.2s\tremaining: 1m 1s\n",
      "5:\tlearn: 0.5337176\ttotal: 12.4s\tremaining: 59.9s\n",
      "6:\tlearn: 0.5141096\ttotal: 14.5s\tremaining: 58s\n",
      "7:\tlearn: 0.4950112\ttotal: 16.5s\tremaining: 55.7s\n",
      "8:\tlearn: 0.4769225\ttotal: 18.6s\tremaining: 53.6s\n",
      "9:\tlearn: 0.4603991\ttotal: 20.6s\tremaining: 51.5s\n",
      "10:\tlearn: 0.4435343\ttotal: 22.8s\tremaining: 49.7s\n",
      "11:\tlearn: 0.4288745\ttotal: 24.8s\tremaining: 47.6s\n",
      "12:\tlearn: 0.4157475\ttotal: 26.9s\tremaining: 45.5s\n",
      "13:\tlearn: 0.4034416\ttotal: 29s\tremaining: 43.5s\n",
      "14:\tlearn: 0.3919622\ttotal: 31.1s\tremaining: 41.4s\n",
      "15:\tlearn: 0.3813733\ttotal: 33.2s\tremaining: 39.4s\n",
      "16:\tlearn: 0.3711711\ttotal: 35.4s\tremaining: 37.4s\n",
      "17:\tlearn: 0.3615892\ttotal: 37.6s\tremaining: 35.5s\n",
      "18:\tlearn: 0.3531801\ttotal: 39.8s\tremaining: 33.5s\n",
      "19:\tlearn: 0.3442802\ttotal: 41.9s\tremaining: 31.4s\n",
      "20:\tlearn: 0.3362112\ttotal: 44.1s\tremaining: 29.4s\n",
      "21:\tlearn: 0.3296815\ttotal: 46.1s\tremaining: 27.3s\n",
      "22:\tlearn: 0.3229303\ttotal: 48.3s\tremaining: 25.2s\n",
      "23:\tlearn: 0.3168610\ttotal: 50.4s\tremaining: 23.1s\n",
      "24:\tlearn: 0.3106007\ttotal: 52.5s\tremaining: 21s\n",
      "25:\tlearn: 0.3053339\ttotal: 54.8s\tremaining: 19s\n",
      "26:\tlearn: 0.3005548\ttotal: 56.9s\tremaining: 16.9s\n",
      "27:\tlearn: 0.2949611\ttotal: 59.1s\tremaining: 14.8s\n",
      "28:\tlearn: 0.2906361\ttotal: 1m 1s\tremaining: 12.6s\n",
      "29:\tlearn: 0.2865918\ttotal: 1m 3s\tremaining: 10.5s\n",
      "30:\tlearn: 0.2827066\ttotal: 1m 5s\tremaining: 8.42s\n",
      "31:\tlearn: 0.2789469\ttotal: 1m 7s\tremaining: 6.32s\n",
      "32:\tlearn: 0.2751007\ttotal: 1m 9s\tremaining: 4.21s\n",
      "33:\tlearn: 0.2720381\ttotal: 1m 11s\tremaining: 2.1s\n",
      "34:\tlearn: 0.2691038\ttotal: 1m 13s\tremaining: 0us\n",
      "0:\tlearn: 0.6617919\ttotal: 1.98s\tremaining: 1m 7s\n",
      "1:\tlearn: 0.6319302\ttotal: 4.03s\tremaining: 1m 6s\n",
      "2:\tlearn: 0.6045512\ttotal: 6.06s\tremaining: 1m 4s\n",
      "3:\tlearn: 0.5795506\ttotal: 8.22s\tremaining: 1m 3s\n",
      "4:\tlearn: 0.5563659\ttotal: 10.3s\tremaining: 1m 1s\n",
      "5:\tlearn: 0.5352555\ttotal: 12.3s\tremaining: 59.5s\n",
      "6:\tlearn: 0.5144838\ttotal: 14.4s\tremaining: 57.5s\n",
      "7:\tlearn: 0.4957699\ttotal: 16.5s\tremaining: 55.7s\n",
      "8:\tlearn: 0.4778433\ttotal: 18.8s\tremaining: 54.4s\n",
      "9:\tlearn: 0.4616381\ttotal: 21s\tremaining: 52.4s\n",
      "10:\tlearn: 0.4462115\ttotal: 23.1s\tremaining: 50.3s\n",
      "11:\tlearn: 0.4316894\ttotal: 25.2s\tremaining: 48.4s\n",
      "12:\tlearn: 0.4179233\ttotal: 27.4s\tremaining: 46.4s\n",
      "13:\tlearn: 0.4046665\ttotal: 29.5s\tremaining: 44.2s\n",
      "14:\tlearn: 0.3928292\ttotal: 31.6s\tremaining: 42.2s\n",
      "15:\tlearn: 0.3812201\ttotal: 33.7s\tremaining: 40.1s\n",
      "16:\tlearn: 0.3711611\ttotal: 35.8s\tremaining: 38s\n",
      "17:\tlearn: 0.3607714\ttotal: 38.1s\tremaining: 35.9s\n",
      "18:\tlearn: 0.3519396\ttotal: 40.2s\tremaining: 33.9s\n",
      "19:\tlearn: 0.3426580\ttotal: 42.4s\tremaining: 31.8s\n",
      "20:\tlearn: 0.3339768\ttotal: 44.7s\tremaining: 29.8s\n",
      "21:\tlearn: 0.3268745\ttotal: 46.8s\tremaining: 27.6s\n",
      "22:\tlearn: 0.3206729\ttotal: 48.9s\tremaining: 25.5s\n",
      "23:\tlearn: 0.3148203\ttotal: 51s\tremaining: 23.4s\n",
      "24:\tlearn: 0.3081578\ttotal: 53.2s\tremaining: 21.3s\n",
      "25:\tlearn: 0.3028857\ttotal: 55.3s\tremaining: 19.2s\n",
      "26:\tlearn: 0.2979261\ttotal: 57.6s\tremaining: 17.1s\n",
      "27:\tlearn: 0.2931952\ttotal: 60s\tremaining: 15s\n",
      "28:\tlearn: 0.2888900\ttotal: 1m 2s\tremaining: 12.9s\n",
      "29:\tlearn: 0.2847569\ttotal: 1m 4s\tremaining: 10.7s\n",
      "30:\tlearn: 0.2804774\ttotal: 1m 6s\tremaining: 8.6s\n",
      "31:\tlearn: 0.2768440\ttotal: 1m 8s\tremaining: 6.45s\n",
      "32:\tlearn: 0.2734899\ttotal: 1m 10s\tremaining: 4.3s\n",
      "33:\tlearn: 0.2698418\ttotal: 1m 13s\tremaining: 2.15s\n",
      "34:\tlearn: 0.2662328\ttotal: 1m 15s\tremaining: 0us\n",
      "0:\tlearn: 0.6615820\ttotal: 2.02s\tremaining: 1m 8s\n",
      "1:\tlearn: 0.6320496\ttotal: 4.06s\tremaining: 1m 7s\n",
      "2:\tlearn: 0.6050526\ttotal: 6.25s\tremaining: 1m 6s\n",
      "3:\tlearn: 0.5795722\ttotal: 8.33s\tremaining: 1m 4s\n",
      "4:\tlearn: 0.5555410\ttotal: 10.5s\tremaining: 1m 3s\n",
      "5:\tlearn: 0.5331511\ttotal: 12.7s\tremaining: 1m 1s\n",
      "6:\tlearn: 0.5125366\ttotal: 14.8s\tremaining: 59.2s\n",
      "7:\tlearn: 0.4927396\ttotal: 17s\tremaining: 57.4s\n",
      "8:\tlearn: 0.4739967\ttotal: 19.3s\tremaining: 55.8s\n",
      "9:\tlearn: 0.4568319\ttotal: 21.6s\tremaining: 54s\n",
      "10:\tlearn: 0.4413851\ttotal: 23.7s\tremaining: 51.7s\n",
      "11:\tlearn: 0.4271063\ttotal: 25.9s\tremaining: 49.6s\n",
      "12:\tlearn: 0.4138767\ttotal: 28s\tremaining: 47.4s\n",
      "13:\tlearn: 0.4001452\ttotal: 30.2s\tremaining: 45.2s\n",
      "14:\tlearn: 0.3890170\ttotal: 32.3s\tremaining: 43s\n",
      "15:\tlearn: 0.3774756\ttotal: 34.4s\tremaining: 40.9s\n",
      "16:\tlearn: 0.3677229\ttotal: 36.5s\tremaining: 38.7s\n",
      "17:\tlearn: 0.3583933\ttotal: 38.8s\tremaining: 36.6s\n",
      "18:\tlearn: 0.3497132\ttotal: 41s\tremaining: 34.5s\n",
      "19:\tlearn: 0.3416225\ttotal: 43.1s\tremaining: 32.3s\n",
      "20:\tlearn: 0.3346843\ttotal: 45.2s\tremaining: 30.2s\n",
      "21:\tlearn: 0.3274930\ttotal: 47.4s\tremaining: 28s\n",
      "22:\tlearn: 0.3200386\ttotal: 49.5s\tremaining: 25.8s\n",
      "23:\tlearn: 0.3139748\ttotal: 51.7s\tremaining: 23.7s\n",
      "24:\tlearn: 0.3082123\ttotal: 53.8s\tremaining: 21.5s\n",
      "25:\tlearn: 0.3022828\ttotal: 56s\tremaining: 19.4s\n",
      "26:\tlearn: 0.2971700\ttotal: 58.1s\tremaining: 17.2s\n",
      "27:\tlearn: 0.2923853\ttotal: 1m\tremaining: 15.1s\n",
      "28:\tlearn: 0.2880610\ttotal: 1m 2s\tremaining: 12.9s\n",
      "29:\tlearn: 0.2833677\ttotal: 1m 4s\tremaining: 10.8s\n",
      "30:\tlearn: 0.2795772\ttotal: 1m 6s\tremaining: 8.63s\n",
      "31:\tlearn: 0.2758236\ttotal: 1m 9s\tremaining: 6.48s\n",
      "32:\tlearn: 0.2724850\ttotal: 1m 11s\tremaining: 4.32s\n",
      "33:\tlearn: 0.2687254\ttotal: 1m 13s\tremaining: 2.16s\n",
      "34:\tlearn: 0.2656606\ttotal: 1m 15s\tremaining: 0us\n",
      "0:\tlearn: 0.6527384\ttotal: 2.1s\tremaining: 1m 11s\n",
      "1:\tlearn: 0.6144256\ttotal: 4.23s\tremaining: 1m 9s\n",
      "2:\tlearn: 0.5804531\ttotal: 6.29s\tremaining: 1m 7s\n",
      "3:\tlearn: 0.5487062\ttotal: 8.34s\tremaining: 1m 4s\n",
      "4:\tlearn: 0.5207403\ttotal: 10.4s\tremaining: 1m 2s\n",
      "5:\tlearn: 0.4941830\ttotal: 12.6s\tremaining: 1m 1s\n",
      "6:\tlearn: 0.4708213\ttotal: 14.8s\tremaining: 59.1s\n",
      "7:\tlearn: 0.4493024\ttotal: 16.9s\tremaining: 57.2s\n",
      "8:\tlearn: 0.4296879\ttotal: 19.1s\tremaining: 55.2s\n",
      "9:\tlearn: 0.4116933\ttotal: 21.3s\tremaining: 53.4s\n",
      "10:\tlearn: 0.3941942\ttotal: 23.6s\tremaining: 51.4s\n",
      "11:\tlearn: 0.3797068\ttotal: 25.8s\tremaining: 49.5s\n",
      "12:\tlearn: 0.3668382\ttotal: 28s\tremaining: 47.4s\n",
      "13:\tlearn: 0.3543503\ttotal: 30.3s\tremaining: 45.4s\n",
      "14:\tlearn: 0.3433403\ttotal: 32.5s\tremaining: 43.4s\n",
      "15:\tlearn: 0.3335635\ttotal: 34.7s\tremaining: 41.2s\n",
      "16:\tlearn: 0.3245282\ttotal: 36.9s\tremaining: 39s\n",
      "17:\tlearn: 0.3158797\ttotal: 39.2s\tremaining: 37s\n",
      "18:\tlearn: 0.3083919\ttotal: 41.5s\tremaining: 35s\n",
      "19:\tlearn: 0.3006518\ttotal: 43.8s\tremaining: 32.8s\n",
      "20:\tlearn: 0.2942904\ttotal: 45.9s\tremaining: 30.6s\n",
      "21:\tlearn: 0.2887667\ttotal: 48.1s\tremaining: 28.4s\n",
      "22:\tlearn: 0.2834421\ttotal: 50.2s\tremaining: 26.2s\n",
      "23:\tlearn: 0.2786506\ttotal: 52.3s\tremaining: 24s\n",
      "24:\tlearn: 0.2737408\ttotal: 54.4s\tremaining: 21.8s\n",
      "25:\tlearn: 0.2695986\ttotal: 56.6s\tremaining: 19.6s\n",
      "26:\tlearn: 0.2659585\ttotal: 58.8s\tremaining: 17.4s\n",
      "27:\tlearn: 0.2613238\ttotal: 1m 1s\tremaining: 15.3s\n",
      "28:\tlearn: 0.2578985\ttotal: 1m 3s\tremaining: 13.1s\n",
      "29:\tlearn: 0.2549800\ttotal: 1m 5s\tremaining: 10.9s\n",
      "30:\tlearn: 0.2517023\ttotal: 1m 7s\tremaining: 8.73s\n",
      "31:\tlearn: 0.2490788\ttotal: 1m 9s\tremaining: 6.54s\n",
      "32:\tlearn: 0.2464815\ttotal: 1m 11s\tremaining: 4.36s\n",
      "33:\tlearn: 0.2443358\ttotal: 1m 14s\tremaining: 2.18s\n",
      "34:\tlearn: 0.2422942\ttotal: 1m 16s\tremaining: 0us\n",
      "0:\tlearn: 0.6516849\ttotal: 2.06s\tremaining: 1m 10s\n",
      "1:\tlearn: 0.6130264\ttotal: 4.28s\tremaining: 1m 10s\n",
      "2:\tlearn: 0.5789525\ttotal: 6.47s\tremaining: 1m 9s\n",
      "3:\tlearn: 0.5460103\ttotal: 8.68s\tremaining: 1m 7s\n",
      "4:\tlearn: 0.5178008\ttotal: 10.8s\tremaining: 1m 5s\n",
      "5:\tlearn: 0.4933145\ttotal: 13s\tremaining: 1m 2s\n",
      "6:\tlearn: 0.4698683\ttotal: 15.1s\tremaining: 1m\n",
      "7:\tlearn: 0.4493508\ttotal: 17.4s\tremaining: 58.8s\n",
      "8:\tlearn: 0.4299097\ttotal: 19.7s\tremaining: 56.9s\n",
      "9:\tlearn: 0.4131491\ttotal: 21.9s\tremaining: 54.8s\n",
      "10:\tlearn: 0.3962057\ttotal: 24.1s\tremaining: 52.7s\n",
      "11:\tlearn: 0.3816477\ttotal: 26.3s\tremaining: 50.3s\n",
      "12:\tlearn: 0.3678816\ttotal: 28.5s\tremaining: 48.2s\n",
      "13:\tlearn: 0.3553358\ttotal: 30.7s\tremaining: 46.1s\n",
      "14:\tlearn: 0.3440197\ttotal: 32.9s\tremaining: 43.9s\n",
      "15:\tlearn: 0.3327919\ttotal: 35.2s\tremaining: 41.8s\n",
      "16:\tlearn: 0.3236745\ttotal: 37.4s\tremaining: 39.6s\n",
      "17:\tlearn: 0.3146773\ttotal: 39.7s\tremaining: 37.5s\n",
      "18:\tlearn: 0.3071620\ttotal: 41.9s\tremaining: 35.3s\n",
      "19:\tlearn: 0.2990469\ttotal: 44.2s\tremaining: 33.1s\n",
      "20:\tlearn: 0.2917621\ttotal: 46.4s\tremaining: 30.9s\n",
      "21:\tlearn: 0.2859038\ttotal: 48.5s\tremaining: 28.7s\n",
      "22:\tlearn: 0.2806483\ttotal: 50.7s\tremaining: 26.5s\n",
      "23:\tlearn: 0.2760645\ttotal: 52.8s\tremaining: 24.2s\n",
      "24:\tlearn: 0.2707932\ttotal: 55.1s\tremaining: 22s\n",
      "25:\tlearn: 0.2667247\ttotal: 57.4s\tremaining: 19.9s\n",
      "26:\tlearn: 0.2629862\ttotal: 59.8s\tremaining: 17.7s\n",
      "27:\tlearn: 0.2595302\ttotal: 1m 1s\tremaining: 15.5s\n",
      "28:\tlearn: 0.2562847\ttotal: 1m 4s\tremaining: 13.3s\n",
      "29:\tlearn: 0.2531889\ttotal: 1m 6s\tremaining: 11s\n",
      "30:\tlearn: 0.2497964\ttotal: 1m 8s\tremaining: 8.84s\n",
      "31:\tlearn: 0.2472876\ttotal: 1m 10s\tremaining: 6.63s\n",
      "32:\tlearn: 0.2449599\ttotal: 1m 12s\tremaining: 4.42s\n",
      "33:\tlearn: 0.2421090\ttotal: 1m 15s\tremaining: 2.21s\n",
      "34:\tlearn: 0.2393607\ttotal: 1m 17s\tremaining: 0us\n",
      "0:\tlearn: 0.6513929\ttotal: 2.01s\tremaining: 1m 8s\n",
      "1:\tlearn: 0.6132342\ttotal: 4.13s\tremaining: 1m 8s\n",
      "2:\tlearn: 0.5782724\ttotal: 6.35s\tremaining: 1m 7s\n",
      "3:\tlearn: 0.5470262\ttotal: 8.56s\tremaining: 1m 6s\n",
      "4:\tlearn: 0.5186046\ttotal: 10.7s\tremaining: 1m 4s\n",
      "5:\tlearn: 0.4925182\ttotal: 12.8s\tremaining: 1m 2s\n",
      "6:\tlearn: 0.4695042\ttotal: 15s\tremaining: 1m\n",
      "7:\tlearn: 0.4474896\ttotal: 17.3s\tremaining: 58.5s\n",
      "8:\tlearn: 0.4273210\ttotal: 19.6s\tremaining: 56.8s\n",
      "9:\tlearn: 0.4090128\ttotal: 21.9s\tremaining: 54.9s\n",
      "10:\tlearn: 0.3925858\ttotal: 24.1s\tremaining: 52.7s\n",
      "11:\tlearn: 0.3775342\ttotal: 26.5s\tremaining: 50.7s\n",
      "12:\tlearn: 0.3642979\ttotal: 28.7s\tremaining: 48.5s\n",
      "13:\tlearn: 0.3508276\ttotal: 31s\tremaining: 46.4s\n",
      "14:\tlearn: 0.3388728\ttotal: 33.2s\tremaining: 44.2s\n",
      "15:\tlearn: 0.3289618\ttotal: 35.5s\tremaining: 42.1s\n",
      "16:\tlearn: 0.3201738\ttotal: 37.9s\tremaining: 40.1s\n",
      "17:\tlearn: 0.3118737\ttotal: 40.1s\tremaining: 37.9s\n",
      "18:\tlearn: 0.3039091\ttotal: 42.3s\tremaining: 35.7s\n",
      "19:\tlearn: 0.2970038\ttotal: 44.5s\tremaining: 33.4s\n",
      "20:\tlearn: 0.2909015\ttotal: 46.8s\tremaining: 31.2s\n",
      "21:\tlearn: 0.2849081\ttotal: 49.2s\tremaining: 29.1s\n",
      "22:\tlearn: 0.2791772\ttotal: 51.6s\tremaining: 26.9s\n",
      "23:\tlearn: 0.2743213\ttotal: 53.9s\tremaining: 24.7s\n",
      "24:\tlearn: 0.2690939\ttotal: 56.3s\tremaining: 22.5s\n",
      "25:\tlearn: 0.2649514\ttotal: 58.6s\tremaining: 20.3s\n",
      "26:\tlearn: 0.2611437\ttotal: 1m\tremaining: 18s\n",
      "27:\tlearn: 0.2577121\ttotal: 1m 2s\tremaining: 15.7s\n",
      "28:\tlearn: 0.2545359\ttotal: 1m 5s\tremaining: 13.5s\n",
      "29:\tlearn: 0.2509649\ttotal: 1m 7s\tremaining: 11.2s\n",
      "30:\tlearn: 0.2484026\ttotal: 1m 9s\tremaining: 8.99s\n",
      "31:\tlearn: 0.2457022\ttotal: 1m 11s\tremaining: 6.74s\n",
      "32:\tlearn: 0.2426207\ttotal: 1m 14s\tremaining: 4.5s\n",
      "33:\tlearn: 0.2396418\ttotal: 1m 16s\tremaining: 2.25s\n",
      "34:\tlearn: 0.2375845\ttotal: 1m 19s\tremaining: 0us\n",
      "0:\tlearn: 0.6626231\ttotal: 2s\tremaining: 1m 17s\n",
      "1:\tlearn: 0.6327897\ttotal: 4.11s\tremaining: 1m 18s\n",
      "2:\tlearn: 0.6050665\ttotal: 6.29s\tremaining: 1m 17s\n",
      "3:\tlearn: 0.5793459\ttotal: 8.36s\tremaining: 1m 15s\n",
      "4:\tlearn: 0.5557944\ttotal: 10.5s\tremaining: 1m 13s\n",
      "5:\tlearn: 0.5337176\ttotal: 12.6s\tremaining: 1m 11s\n",
      "6:\tlearn: 0.5141096\ttotal: 14.7s\tremaining: 1m 9s\n",
      "7:\tlearn: 0.4950112\ttotal: 16.8s\tremaining: 1m 7s\n",
      "8:\tlearn: 0.4769225\ttotal: 18.9s\tremaining: 1m 5s\n",
      "9:\tlearn: 0.4603991\ttotal: 21.1s\tremaining: 1m 3s\n",
      "10:\tlearn: 0.4435343\ttotal: 23.3s\tremaining: 1m 1s\n",
      "11:\tlearn: 0.4288745\ttotal: 25.5s\tremaining: 59.6s\n",
      "12:\tlearn: 0.4157475\ttotal: 27.6s\tremaining: 57.4s\n",
      "13:\tlearn: 0.4034416\ttotal: 29.7s\tremaining: 55.2s\n",
      "14:\tlearn: 0.3919622\ttotal: 32s\tremaining: 53.4s\n",
      "15:\tlearn: 0.3813733\ttotal: 34.3s\tremaining: 51.5s\n",
      "16:\tlearn: 0.3711711\ttotal: 36.5s\tremaining: 49.4s\n",
      "17:\tlearn: 0.3615892\ttotal: 38.7s\tremaining: 47.3s\n",
      "18:\tlearn: 0.3531801\ttotal: 40.9s\tremaining: 45.2s\n",
      "19:\tlearn: 0.3442802\ttotal: 43s\tremaining: 43s\n",
      "20:\tlearn: 0.3362112\ttotal: 45.3s\tremaining: 40.9s\n",
      "21:\tlearn: 0.3296815\ttotal: 47.4s\tremaining: 38.8s\n",
      "22:\tlearn: 0.3229303\ttotal: 49.5s\tremaining: 36.6s\n",
      "23:\tlearn: 0.3168610\ttotal: 51.7s\tremaining: 34.5s\n",
      "24:\tlearn: 0.3106007\ttotal: 54.1s\tremaining: 32.5s\n",
      "25:\tlearn: 0.3053339\ttotal: 56.3s\tremaining: 30.3s\n",
      "26:\tlearn: 0.3005548\ttotal: 58.3s\tremaining: 28.1s\n",
      "27:\tlearn: 0.2949611\ttotal: 1m\tremaining: 25.9s\n",
      "28:\tlearn: 0.2906361\ttotal: 1m 2s\tremaining: 23.7s\n",
      "29:\tlearn: 0.2865918\ttotal: 1m 4s\tremaining: 21.6s\n",
      "30:\tlearn: 0.2827066\ttotal: 1m 6s\tremaining: 19.4s\n",
      "31:\tlearn: 0.2789469\ttotal: 1m 9s\tremaining: 17.2s\n",
      "32:\tlearn: 0.2751007\ttotal: 1m 11s\tremaining: 15.1s\n",
      "33:\tlearn: 0.2720381\ttotal: 1m 13s\tremaining: 12.9s\n",
      "34:\tlearn: 0.2691038\ttotal: 1m 15s\tremaining: 10.8s\n",
      "35:\tlearn: 0.2660261\ttotal: 1m 17s\tremaining: 8.65s\n",
      "36:\tlearn: 0.2633019\ttotal: 1m 20s\tremaining: 6.49s\n",
      "37:\tlearn: 0.2606470\ttotal: 1m 22s\tremaining: 4.33s\n",
      "38:\tlearn: 0.2581297\ttotal: 1m 24s\tremaining: 2.17s\n",
      "39:\tlearn: 0.2555099\ttotal: 1m 26s\tremaining: 0us\n",
      "0:\tlearn: 0.6617919\ttotal: 2.13s\tremaining: 1m 23s\n",
      "1:\tlearn: 0.6319302\ttotal: 4.36s\tremaining: 1m 22s\n",
      "2:\tlearn: 0.6045512\ttotal: 6.42s\tremaining: 1m 19s\n",
      "3:\tlearn: 0.5795506\ttotal: 8.53s\tremaining: 1m 16s\n",
      "4:\tlearn: 0.5563659\ttotal: 10.6s\tremaining: 1m 13s\n",
      "5:\tlearn: 0.5352555\ttotal: 12.7s\tremaining: 1m 11s\n",
      "6:\tlearn: 0.5144838\ttotal: 14.8s\tremaining: 1m 9s\n",
      "7:\tlearn: 0.4957699\ttotal: 16.9s\tremaining: 1m 7s\n",
      "8:\tlearn: 0.4778433\ttotal: 19s\tremaining: 1m 5s\n",
      "9:\tlearn: 0.4616381\ttotal: 21.2s\tremaining: 1m 3s\n",
      "10:\tlearn: 0.4462115\ttotal: 23.3s\tremaining: 1m 1s\n",
      "11:\tlearn: 0.4316894\ttotal: 25.5s\tremaining: 59.4s\n",
      "12:\tlearn: 0.4179233\ttotal: 27.7s\tremaining: 57.5s\n",
      "13:\tlearn: 0.4046665\ttotal: 29.8s\tremaining: 55.4s\n",
      "14:\tlearn: 0.3928292\ttotal: 32s\tremaining: 53.3s\n",
      "15:\tlearn: 0.3812201\ttotal: 34.1s\tremaining: 51.1s\n",
      "16:\tlearn: 0.3711611\ttotal: 36.3s\tremaining: 49.1s\n",
      "17:\tlearn: 0.3607714\ttotal: 38.5s\tremaining: 47s\n",
      "18:\tlearn: 0.3519396\ttotal: 40.7s\tremaining: 45s\n",
      "19:\tlearn: 0.3426580\ttotal: 43.1s\tremaining: 43.1s\n",
      "20:\tlearn: 0.3339768\ttotal: 45.6s\tremaining: 41.2s\n",
      "21:\tlearn: 0.3268745\ttotal: 47.7s\tremaining: 39.1s\n",
      "22:\tlearn: 0.3206729\ttotal: 49.9s\tremaining: 36.9s\n",
      "23:\tlearn: 0.3148203\ttotal: 52s\tremaining: 34.7s\n",
      "24:\tlearn: 0.3081578\ttotal: 54.2s\tremaining: 32.5s\n",
      "25:\tlearn: 0.3028857\ttotal: 56.3s\tremaining: 30.3s\n",
      "26:\tlearn: 0.2979261\ttotal: 58.6s\tremaining: 28.2s\n",
      "27:\tlearn: 0.2931952\ttotal: 1m\tremaining: 26s\n",
      "28:\tlearn: 0.2888900\ttotal: 1m 3s\tremaining: 24s\n",
      "29:\tlearn: 0.2847569\ttotal: 1m 5s\tremaining: 21.8s\n",
      "30:\tlearn: 0.2804774\ttotal: 1m 7s\tremaining: 19.6s\n",
      "31:\tlearn: 0.2768440\ttotal: 1m 9s\tremaining: 17.5s\n",
      "32:\tlearn: 0.2734899\ttotal: 1m 12s\tremaining: 15.3s\n",
      "33:\tlearn: 0.2698418\ttotal: 1m 14s\tremaining: 13.1s\n",
      "34:\tlearn: 0.2662328\ttotal: 1m 16s\tremaining: 11s\n",
      "35:\tlearn: 0.2628147\ttotal: 1m 18s\tremaining: 8.77s\n",
      "36:\tlearn: 0.2602252\ttotal: 1m 21s\tremaining: 6.58s\n",
      "37:\tlearn: 0.2576213\ttotal: 1m 23s\tremaining: 4.38s\n",
      "38:\tlearn: 0.2548099\ttotal: 1m 25s\tremaining: 2.19s\n",
      "39:\tlearn: 0.2526376\ttotal: 1m 27s\tremaining: 0us\n",
      "0:\tlearn: 0.6615820\ttotal: 1.96s\tremaining: 1m 16s\n",
      "1:\tlearn: 0.6320496\ttotal: 4.07s\tremaining: 1m 17s\n",
      "2:\tlearn: 0.6050526\ttotal: 6.25s\tremaining: 1m 17s\n",
      "3:\tlearn: 0.5795722\ttotal: 8.37s\tremaining: 1m 15s\n",
      "4:\tlearn: 0.5555410\ttotal: 10.7s\tremaining: 1m 14s\n",
      "5:\tlearn: 0.5331511\ttotal: 13s\tremaining: 1m 13s\n",
      "6:\tlearn: 0.5125366\ttotal: 15.2s\tremaining: 1m 11s\n",
      "7:\tlearn: 0.4927396\ttotal: 17.3s\tremaining: 1m 9s\n",
      "8:\tlearn: 0.4739967\ttotal: 19.4s\tremaining: 1m 6s\n",
      "9:\tlearn: 0.4568319\ttotal: 21.6s\tremaining: 1m 4s\n",
      "10:\tlearn: 0.4413851\ttotal: 23.8s\tremaining: 1m 2s\n",
      "11:\tlearn: 0.4271063\ttotal: 26s\tremaining: 1m\n",
      "12:\tlearn: 0.4138767\ttotal: 28.1s\tremaining: 58.4s\n",
      "13:\tlearn: 0.4001452\ttotal: 30.4s\tremaining: 56.5s\n",
      "14:\tlearn: 0.3890170\ttotal: 32.5s\tremaining: 54.1s\n",
      "15:\tlearn: 0.3774756\ttotal: 34.7s\tremaining: 52.1s\n",
      "16:\tlearn: 0.3677229\ttotal: 36.9s\tremaining: 49.9s\n",
      "17:\tlearn: 0.3583933\ttotal: 39.1s\tremaining: 47.8s\n",
      "18:\tlearn: 0.3497132\ttotal: 41.3s\tremaining: 45.6s\n",
      "19:\tlearn: 0.3416225\ttotal: 43.4s\tremaining: 43.4s\n",
      "20:\tlearn: 0.3346843\ttotal: 45.6s\tremaining: 41.2s\n",
      "21:\tlearn: 0.3274930\ttotal: 47.7s\tremaining: 39s\n",
      "22:\tlearn: 0.3200386\ttotal: 50s\tremaining: 36.9s\n",
      "23:\tlearn: 0.3139748\ttotal: 52.2s\tremaining: 34.8s\n",
      "24:\tlearn: 0.3082123\ttotal: 54.5s\tremaining: 32.7s\n",
      "25:\tlearn: 0.3022828\ttotal: 56.8s\tremaining: 30.6s\n",
      "26:\tlearn: 0.2971700\ttotal: 59s\tremaining: 28.4s\n",
      "27:\tlearn: 0.2923853\ttotal: 1m 1s\tremaining: 26.2s\n",
      "28:\tlearn: 0.2880610\ttotal: 1m 3s\tremaining: 24s\n",
      "29:\tlearn: 0.2833677\ttotal: 1m 5s\tremaining: 21.8s\n",
      "30:\tlearn: 0.2795772\ttotal: 1m 7s\tremaining: 19.7s\n",
      "31:\tlearn: 0.2758236\ttotal: 1m 9s\tremaining: 17.5s\n",
      "32:\tlearn: 0.2724850\ttotal: 1m 12s\tremaining: 15.4s\n",
      "33:\tlearn: 0.2687254\ttotal: 1m 14s\tremaining: 13.2s\n",
      "34:\tlearn: 0.2656606\ttotal: 1m 16s\tremaining: 11s\n",
      "35:\tlearn: 0.2620789\ttotal: 1m 19s\tremaining: 8.78s\n",
      "36:\tlearn: 0.2592526\ttotal: 1m 21s\tremaining: 6.58s\n",
      "37:\tlearn: 0.2567697\ttotal: 1m 23s\tremaining: 4.38s\n",
      "38:\tlearn: 0.2540234\ttotal: 1m 25s\tremaining: 2.19s\n",
      "39:\tlearn: 0.2514330\ttotal: 1m 27s\tremaining: 0us\n",
      "0:\tlearn: 0.6527384\ttotal: 2.18s\tremaining: 1m 24s\n",
      "1:\tlearn: 0.6144256\ttotal: 4.33s\tremaining: 1m 22s\n",
      "2:\tlearn: 0.5804531\ttotal: 6.45s\tremaining: 1m 19s\n",
      "3:\tlearn: 0.5487062\ttotal: 8.52s\tremaining: 1m 16s\n",
      "4:\tlearn: 0.5207403\ttotal: 10.6s\tremaining: 1m 14s\n",
      "5:\tlearn: 0.4941830\ttotal: 12.8s\tremaining: 1m 12s\n",
      "6:\tlearn: 0.4708213\ttotal: 14.9s\tremaining: 1m 10s\n",
      "7:\tlearn: 0.4493024\ttotal: 17s\tremaining: 1m 8s\n",
      "8:\tlearn: 0.4296879\ttotal: 19.3s\tremaining: 1m 6s\n",
      "9:\tlearn: 0.4116933\ttotal: 21.5s\tremaining: 1m 4s\n",
      "10:\tlearn: 0.3941942\ttotal: 23.8s\tremaining: 1m 2s\n",
      "11:\tlearn: 0.3797068\ttotal: 25.9s\tremaining: 1m\n",
      "12:\tlearn: 0.3668382\ttotal: 28.1s\tremaining: 58.3s\n",
      "13:\tlearn: 0.3543503\ttotal: 30.3s\tremaining: 56.3s\n",
      "14:\tlearn: 0.3433403\ttotal: 32.5s\tremaining: 54.2s\n",
      "15:\tlearn: 0.3335635\ttotal: 34.6s\tremaining: 52s\n",
      "16:\tlearn: 0.3245282\ttotal: 36.8s\tremaining: 49.7s\n",
      "17:\tlearn: 0.3158797\ttotal: 39s\tremaining: 47.6s\n",
      "18:\tlearn: 0.3083919\ttotal: 41.1s\tremaining: 45.4s\n",
      "19:\tlearn: 0.3006518\ttotal: 43.3s\tremaining: 43.3s\n",
      "20:\tlearn: 0.2942904\ttotal: 45.5s\tremaining: 41.2s\n",
      "21:\tlearn: 0.2887667\ttotal: 47.7s\tremaining: 39s\n",
      "22:\tlearn: 0.2834421\ttotal: 49.9s\tremaining: 36.8s\n",
      "23:\tlearn: 0.2786506\ttotal: 52s\tremaining: 34.6s\n",
      "24:\tlearn: 0.2737408\ttotal: 54.2s\tremaining: 32.5s\n",
      "25:\tlearn: 0.2695986\ttotal: 56.3s\tremaining: 30.3s\n",
      "26:\tlearn: 0.2659585\ttotal: 58.5s\tremaining: 28.2s\n",
      "27:\tlearn: 0.2613238\ttotal: 1m\tremaining: 26.1s\n",
      "28:\tlearn: 0.2578985\ttotal: 1m 3s\tremaining: 24s\n",
      "29:\tlearn: 0.2549800\ttotal: 1m 5s\tremaining: 21.8s\n",
      "30:\tlearn: 0.2517023\ttotal: 1m 7s\tremaining: 19.6s\n",
      "31:\tlearn: 0.2490788\ttotal: 1m 9s\tremaining: 17.4s\n",
      "32:\tlearn: 0.2464815\ttotal: 1m 11s\tremaining: 15.2s\n",
      "33:\tlearn: 0.2443358\ttotal: 1m 13s\tremaining: 13s\n",
      "34:\tlearn: 0.2422942\ttotal: 1m 15s\tremaining: 10.8s\n",
      "35:\tlearn: 0.2400901\ttotal: 1m 18s\tremaining: 8.68s\n",
      "36:\tlearn: 0.2374554\ttotal: 1m 20s\tremaining: 6.54s\n",
      "37:\tlearn: 0.2355347\ttotal: 1m 22s\tremaining: 4.36s\n",
      "38:\tlearn: 0.2336739\ttotal: 1m 24s\tremaining: 2.18s\n",
      "39:\tlearn: 0.2320157\ttotal: 1m 27s\tremaining: 0us\n",
      "0:\tlearn: 0.6516849\ttotal: 2.07s\tremaining: 1m 20s\n",
      "1:\tlearn: 0.6130264\ttotal: 4.18s\tremaining: 1m 19s\n",
      "2:\tlearn: 0.5789525\ttotal: 6.22s\tremaining: 1m 16s\n",
      "3:\tlearn: 0.5460103\ttotal: 8.52s\tremaining: 1m 16s\n",
      "4:\tlearn: 0.5178008\ttotal: 10.8s\tremaining: 1m 15s\n",
      "5:\tlearn: 0.4933145\ttotal: 13s\tremaining: 1m 13s\n",
      "6:\tlearn: 0.4698683\ttotal: 15.2s\tremaining: 1m 11s\n",
      "7:\tlearn: 0.4493508\ttotal: 17.3s\tremaining: 1m 9s\n",
      "8:\tlearn: 0.4299097\ttotal: 19.5s\tremaining: 1m 7s\n",
      "9:\tlearn: 0.4131491\ttotal: 21.6s\tremaining: 1m 4s\n",
      "10:\tlearn: 0.3962057\ttotal: 23.9s\tremaining: 1m 2s\n",
      "11:\tlearn: 0.3816477\ttotal: 26s\tremaining: 1m\n",
      "12:\tlearn: 0.3678816\ttotal: 28.4s\tremaining: 59s\n",
      "13:\tlearn: 0.3553358\ttotal: 30.7s\tremaining: 57.1s\n",
      "14:\tlearn: 0.3440197\ttotal: 32.9s\tremaining: 54.9s\n",
      "15:\tlearn: 0.3327919\ttotal: 35.2s\tremaining: 52.7s\n",
      "16:\tlearn: 0.3236745\ttotal: 37.3s\tremaining: 50.5s\n",
      "17:\tlearn: 0.3146773\ttotal: 39.6s\tremaining: 48.4s\n",
      "18:\tlearn: 0.3071620\ttotal: 41.9s\tremaining: 46.3s\n",
      "19:\tlearn: 0.2990469\ttotal: 44.1s\tremaining: 44.1s\n",
      "20:\tlearn: 0.2917621\ttotal: 46.3s\tremaining: 41.9s\n",
      "21:\tlearn: 0.2859038\ttotal: 48.5s\tremaining: 39.7s\n",
      "22:\tlearn: 0.2806483\ttotal: 50.6s\tremaining: 37.4s\n",
      "23:\tlearn: 0.2760645\ttotal: 52.7s\tremaining: 35.1s\n",
      "24:\tlearn: 0.2707932\ttotal: 54.9s\tremaining: 33s\n",
      "25:\tlearn: 0.2667247\ttotal: 57.1s\tremaining: 30.7s\n",
      "26:\tlearn: 0.2629862\ttotal: 59.2s\tremaining: 28.5s\n",
      "27:\tlearn: 0.2595302\ttotal: 1m 1s\tremaining: 26.3s\n",
      "28:\tlearn: 0.2562847\ttotal: 1m 3s\tremaining: 24.1s\n",
      "29:\tlearn: 0.2531889\ttotal: 1m 5s\tremaining: 21.9s\n",
      "30:\tlearn: 0.2497964\ttotal: 1m 8s\tremaining: 19.8s\n",
      "31:\tlearn: 0.2472876\ttotal: 1m 10s\tremaining: 17.6s\n",
      "32:\tlearn: 0.2449599\ttotal: 1m 12s\tremaining: 15.4s\n",
      "33:\tlearn: 0.2421090\ttotal: 1m 14s\tremaining: 13.2s\n",
      "34:\tlearn: 0.2393607\ttotal: 1m 17s\tremaining: 11s\n",
      "35:\tlearn: 0.2374865\ttotal: 1m 19s\tremaining: 8.8s\n",
      "36:\tlearn: 0.2355643\ttotal: 1m 21s\tremaining: 6.6s\n",
      "37:\tlearn: 0.2337576\ttotal: 1m 23s\tremaining: 4.4s\n",
      "38:\tlearn: 0.2314036\ttotal: 1m 25s\tremaining: 2.2s\n",
      "39:\tlearn: 0.2297913\ttotal: 1m 27s\tremaining: 0us\n",
      "0:\tlearn: 0.6513929\ttotal: 2s\tremaining: 1m 17s\n",
      "1:\tlearn: 0.6132342\ttotal: 4.11s\tremaining: 1m 18s\n",
      "2:\tlearn: 0.5782724\ttotal: 6.29s\tremaining: 1m 17s\n",
      "3:\tlearn: 0.5470262\ttotal: 8.4s\tremaining: 1m 15s\n",
      "4:\tlearn: 0.5186046\ttotal: 10.6s\tremaining: 1m 13s\n",
      "5:\tlearn: 0.4925182\ttotal: 12.7s\tremaining: 1m 11s\n",
      "6:\tlearn: 0.4695042\ttotal: 14.7s\tremaining: 1m 9s\n",
      "7:\tlearn: 0.4474896\ttotal: 17s\tremaining: 1m 7s\n",
      "8:\tlearn: 0.4273210\ttotal: 19.3s\tremaining: 1m 6s\n",
      "9:\tlearn: 0.4090128\ttotal: 21.6s\tremaining: 1m 4s\n",
      "10:\tlearn: 0.3925858\ttotal: 23.7s\tremaining: 1m 2s\n",
      "11:\tlearn: 0.3775342\ttotal: 25.9s\tremaining: 1m\n",
      "12:\tlearn: 0.3642979\ttotal: 28s\tremaining: 58.2s\n",
      "13:\tlearn: 0.3508276\ttotal: 30.2s\tremaining: 56.1s\n",
      "14:\tlearn: 0.3388728\ttotal: 32.4s\tremaining: 54.1s\n",
      "15:\tlearn: 0.3289618\ttotal: 34.5s\tremaining: 51.8s\n",
      "16:\tlearn: 0.3201738\ttotal: 36.8s\tremaining: 49.8s\n",
      "17:\tlearn: 0.3118737\ttotal: 39.1s\tremaining: 47.8s\n",
      "18:\tlearn: 0.3039091\ttotal: 41.3s\tremaining: 45.7s\n",
      "19:\tlearn: 0.2970038\ttotal: 43.5s\tremaining: 43.5s\n",
      "20:\tlearn: 0.2909015\ttotal: 45.6s\tremaining: 41.2s\n",
      "21:\tlearn: 0.2849081\ttotal: 47.7s\tremaining: 39s\n",
      "22:\tlearn: 0.2791772\ttotal: 49.8s\tremaining: 36.8s\n",
      "23:\tlearn: 0.2743213\ttotal: 52s\tremaining: 34.7s\n",
      "24:\tlearn: 0.2690939\ttotal: 54.2s\tremaining: 32.5s\n",
      "25:\tlearn: 0.2649514\ttotal: 56.3s\tremaining: 30.3s\n",
      "26:\tlearn: 0.2611437\ttotal: 58.5s\tremaining: 28.2s\n",
      "27:\tlearn: 0.2577121\ttotal: 1m\tremaining: 26s\n",
      "28:\tlearn: 0.2545359\ttotal: 1m 2s\tremaining: 23.8s\n",
      "29:\tlearn: 0.2509649\ttotal: 1m 4s\tremaining: 21.7s\n",
      "30:\tlearn: 0.2484026\ttotal: 1m 7s\tremaining: 19.5s\n",
      "31:\tlearn: 0.2457022\ttotal: 1m 9s\tremaining: 17.3s\n",
      "32:\tlearn: 0.2426207\ttotal: 1m 11s\tremaining: 15.1s\n",
      "33:\tlearn: 0.2396418\ttotal: 1m 13s\tremaining: 13s\n",
      "34:\tlearn: 0.2375845\ttotal: 1m 15s\tremaining: 10.8s\n",
      "35:\tlearn: 0.2355253\ttotal: 1m 17s\tremaining: 8.66s\n",
      "36:\tlearn: 0.2336049\ttotal: 1m 20s\tremaining: 6.51s\n",
      "37:\tlearn: 0.2314862\ttotal: 1m 22s\tremaining: 4.34s\n",
      "38:\tlearn: 0.2294885\ttotal: 1m 24s\tremaining: 2.17s\n",
      "39:\tlearn: 0.2275635\ttotal: 1m 26s\tremaining: 0us\n",
      "0:\tlearn: 0.6507496\ttotal: 2.75s\tremaining: 1m 47s\n",
      "1:\tlearn: 0.6109814\ttotal: 4.93s\tremaining: 1m 33s\n",
      "2:\tlearn: 0.5764624\ttotal: 7.1s\tremaining: 1m 27s\n",
      "3:\tlearn: 0.5449557\ttotal: 9.19s\tremaining: 1m 22s\n",
      "4:\tlearn: 0.5164844\ttotal: 11.5s\tremaining: 1m 20s\n",
      "5:\tlearn: 0.4909000\ttotal: 13.9s\tremaining: 1m 18s\n",
      "6:\tlearn: 0.4670109\ttotal: 16s\tremaining: 1m 15s\n",
      "7:\tlearn: 0.4454488\ttotal: 18.2s\tremaining: 1m 12s\n",
      "8:\tlearn: 0.4264450\ttotal: 20.4s\tremaining: 1m 10s\n",
      "9:\tlearn: 0.4084887\ttotal: 22.6s\tremaining: 1m 7s\n",
      "10:\tlearn: 0.3922747\ttotal: 26.5s\tremaining: 1m 9s\n",
      "11:\tlearn: 0.3776481\ttotal: 28.7s\tremaining: 1m 7s\n",
      "12:\tlearn: 0.3642448\ttotal: 31.1s\tremaining: 1m 4s\n",
      "13:\tlearn: 0.3508527\ttotal: 33.7s\tremaining: 1m 2s\n",
      "14:\tlearn: 0.3388749\ttotal: 36.1s\tremaining: 1m\n",
      "15:\tlearn: 0.3292108\ttotal: 38.2s\tremaining: 57.3s\n",
      "16:\tlearn: 0.3205150\ttotal: 40.4s\tremaining: 54.7s\n",
      "17:\tlearn: 0.3119893\ttotal: 42.7s\tremaining: 52.2s\n",
      "18:\tlearn: 0.3046229\ttotal: 45s\tremaining: 49.7s\n",
      "19:\tlearn: 0.2978011\ttotal: 47.2s\tremaining: 47.2s\n",
      "20:\tlearn: 0.2907849\ttotal: 49.5s\tremaining: 44.8s\n",
      "21:\tlearn: 0.2855412\ttotal: 51.8s\tremaining: 42.4s\n",
      "22:\tlearn: 0.2800943\ttotal: 54s\tremaining: 39.9s\n",
      "23:\tlearn: 0.2747344\ttotal: 56.3s\tremaining: 37.5s\n",
      "24:\tlearn: 0.2701841\ttotal: 58.5s\tremaining: 35.1s\n",
      "25:\tlearn: 0.2662710\ttotal: 1m 1s\tremaining: 33s\n",
      "26:\tlearn: 0.2624371\ttotal: 1m 3s\tremaining: 30.7s\n",
      "27:\tlearn: 0.2590983\ttotal: 1m 6s\tremaining: 28.5s\n",
      "28:\tlearn: 0.2555459\ttotal: 1m 8s\tremaining: 26.1s\n",
      "29:\tlearn: 0.2513259\ttotal: 1m 11s\tremaining: 23.7s\n",
      "30:\tlearn: 0.2485136\ttotal: 1m 13s\tremaining: 21.3s\n",
      "31:\tlearn: 0.2455917\ttotal: 1m 15s\tremaining: 19s\n",
      "32:\tlearn: 0.2427748\ttotal: 1m 18s\tremaining: 16.6s\n",
      "33:\tlearn: 0.2403388\ttotal: 1m 20s\tremaining: 14.2s\n",
      "34:\tlearn: 0.2382359\ttotal: 1m 22s\tremaining: 11.8s\n",
      "35:\tlearn: 0.2362039\ttotal: 1m 24s\tremaining: 9.43s\n",
      "36:\tlearn: 0.2343439\ttotal: 1m 27s\tremaining: 7.12s\n",
      "37:\tlearn: 0.2325874\ttotal: 1m 30s\tremaining: 4.74s\n",
      "38:\tlearn: 0.2306274\ttotal: 1m 32s\tremaining: 2.37s\n",
      "39:\tlearn: 0.2290902\ttotal: 1m 34s\tremaining: 0us\n",
      "52.92878977093602\n",
      "{'clf__depth': 6, 'clf__iterations': 40, 'clf__learning_rate': 0.04}\n",
      "CPU times: user 29min 23s, sys: 5min 29s, total: 34min 53s\n",
      "Wall time: 35min 17s\n"
     ]
    }
   ],
   "source": [
    "%%time\n",
    "# Обучим модель CatBoostClassifier\n",
    "\n",
    "pipe_CBC = Pipeline([('vect', CountVectorizer()),\n",
    "                   ('tfidf', TfidfTransformer()),\n",
    "            ('clf', CatBoostClassifier(random_state=12345))])\n",
    "\n",
    "params_CBC = [{\n",
    "    'clf__learning_rate' : [0.03, 0.04],\n",
    "    'clf__iterations': [35, 40],\n",
    "    'clf__depth': [4, 6]\n",
    "}]\n",
    "\n",
    "model_CBC = GridSearchCV(estimator=pipe_CBC,\n",
    "            param_grid=params_CBC,\n",
    "            scoring='f1',\n",
    "            cv=3, \n",
    "            n_jobs=-1)\n",
    "model_CBC.fit(features_train, target_train)\n",
    "\n",
    "print(model_CBC.best_score_*100)\n",
    "print(model_CBC.best_params_)"
   ]
  },
  {
   "cell_type": "code",
   "execution_count": 25,
   "id": "2a373f5b",
   "metadata": {
    "scrolled": true
   },
   "outputs": [
    {
     "data": {
      "text/html": [
       "<div>\n",
       "<style scoped>\n",
       "    .dataframe tbody tr th:only-of-type {\n",
       "        vertical-align: middle;\n",
       "    }\n",
       "\n",
       "    .dataframe tbody tr th {\n",
       "        vertical-align: top;\n",
       "    }\n",
       "\n",
       "    .dataframe thead th {\n",
       "        text-align: right;\n",
       "    }\n",
       "</style>\n",
       "<table border=\"1\" class=\"dataframe\">\n",
       "  <thead>\n",
       "    <tr style=\"text-align: right;\">\n",
       "      <th></th>\n",
       "      <th>Модель</th>\n",
       "      <th>Время работы модели, сек.</th>\n",
       "      <th>f1-мера</th>\n",
       "    </tr>\n",
       "  </thead>\n",
       "  <tbody>\n",
       "    <tr>\n",
       "      <th>0</th>\n",
       "      <td>Logistic Regression</td>\n",
       "      <td>185</td>\n",
       "      <td>78.45</td>\n",
       "    </tr>\n",
       "    <tr>\n",
       "      <th>1</th>\n",
       "      <td>LGBMClassifier</td>\n",
       "      <td>197</td>\n",
       "      <td>76.53</td>\n",
       "    </tr>\n",
       "    <tr>\n",
       "      <th>2</th>\n",
       "      <td>RandomForestClassifier</td>\n",
       "      <td>771</td>\n",
       "      <td>32.12</td>\n",
       "    </tr>\n",
       "    <tr>\n",
       "      <th>3</th>\n",
       "      <td>CatBoostClassifier</td>\n",
       "      <td>2272</td>\n",
       "      <td>52.92</td>\n",
       "    </tr>\n",
       "  </tbody>\n",
       "</table>\n",
       "</div>"
      ],
      "text/plain": [
       "                   Модель  Время работы модели, сек.  f1-мера\n",
       "0     Logistic Regression                        185    78.45\n",
       "1          LGBMClassifier                        197    76.53\n",
       "2  RandomForestClassifier                        771    32.12\n",
       "3      CatBoostClassifier                       2272    52.92"
      ]
     },
     "metadata": {},
     "output_type": "display_data"
    }
   ],
   "source": [
    "# создадим датафрейм для вывода результатов\n",
    "columns = ['Модель', 'Время работы модели, сек.', 'f1-мера']\n",
    "lr_model = ['Logistic Regression', 185, 78.45]\n",
    "lgbm_model = ['LGBMClassifier', 197, 76.53]\n",
    "rf_model = ['RandomForestClassifier', 771, 32.12]\n",
    "cbc_model = ['CatBoostClassifier', 2272, 52.92]\n",
    "table = pd.DataFrame([lr_model, lgbm_model, rf_model, cbc_model], columns = columns)\n",
    "\n",
    "\n",
    "display(table)"
   ]
  },
  {
   "cell_type": "code",
   "execution_count": 26,
   "id": "5091cead",
   "metadata": {},
   "outputs": [
    {
     "data": {
      "text/plain": [
       "0.8984004218667604"
      ]
     },
     "metadata": {},
     "output_type": "display_data"
    },
    {
     "name": "stdout",
     "output_type": "stream",
     "text": [
      "CPU times: user 8.45 ms, sys: 0 ns, total: 8.45 ms\n",
      "Wall time: 7.31 ms\n"
     ]
    }
   ],
   "source": [
    "%%time\n",
    "# проведем проверку на адекватность\n",
    "model_dc = DummyClassifier().fit(features_train, target_train)\n",
    "display(model_dc.score(features_test, target_test))"
   ]
  },
  {
   "cell_type": "code",
   "execution_count": 27,
   "id": "41d3baed",
   "metadata": {},
   "outputs": [
    {
     "name": "stdout",
     "output_type": "stream",
     "text": [
      "CPU times: user 1.63 s, sys: 9.65 ms, total: 1.64 s\n",
      "Wall time: 1.66 s\n"
     ]
    },
    {
     "data": {
      "text/plain": [
       "0.7869444444444444"
      ]
     },
     "execution_count": 27,
     "metadata": {},
     "output_type": "execute_result"
    }
   ],
   "source": [
    "%%time\n",
    "# проверим мадель с лучшими показателями на тестовой выборке\n",
    "pred_model_LR = model_LR.predict(features_test)\n",
    "score_model_LR = f1_score(target_test, pred_model_LR)\n",
    "score_model_LR"
   ]
  },
  {
   "cell_type": "markdown",
   "id": "9f4c8c5a",
   "metadata": {},
   "source": [
    "# Вывод\n",
    "Перед нами стояла задача предоставить магазину инструмент, который будет искать токсичные комментарии и отправлять их на модерацию.\n",
    "В нашем распоряжении оказался набор данных с разметкой о токсичности правок. Данные были загружены и подготовлены - мы произвели леммитизацию и очистку текса. \n",
    "Нами были обучены несколько моделей классификации. Модели с наилучшими показателями оказались: Логистическая регрессия и LGBMClassifier. Логистическая регрессия самая быстрая и самая лучшая по качеству."
   ]
  }
 ],
 "metadata": {
  "ExecuteTimeLog": [
   {
    "duration": 1760,
    "start_time": "2022-09-06T11:45:46.381Z"
   },
   {
    "duration": 3574,
    "start_time": "2022-09-06T11:45:48.143Z"
   },
   {
    "duration": 19,
    "start_time": "2022-09-06T11:45:51.719Z"
   },
   {
    "duration": 1988,
    "start_time": "2022-09-06T11:45:56.073Z"
   },
   {
    "duration": 2869,
    "start_time": "2022-09-06T11:46:30.281Z"
   },
   {
    "duration": 399,
    "start_time": "2022-09-06T11:47:15.832Z"
   },
   {
    "duration": 541,
    "start_time": "2022-09-06T11:48:32.436Z"
   },
   {
    "duration": 46,
    "start_time": "2022-09-06T11:51:52.364Z"
   },
   {
    "duration": 1547,
    "start_time": "2022-09-06T11:51:56.867Z"
   },
   {
    "duration": 3434,
    "start_time": "2022-09-06T11:51:58.415Z"
   },
   {
    "duration": 18,
    "start_time": "2022-09-06T11:52:01.851Z"
   },
   {
    "duration": 1838,
    "start_time": "2022-09-06T11:52:01.873Z"
   },
   {
    "duration": 26,
    "start_time": "2022-09-06T11:52:06.250Z"
   },
   {
    "duration": 94,
    "start_time": "2022-09-06T11:52:22.793Z"
   },
   {
    "duration": 2626,
    "start_time": "2022-09-06T11:52:27.438Z"
   },
   {
    "duration": 719,
    "start_time": "2022-09-06T11:52:35.428Z"
   },
   {
    "duration": 5,
    "start_time": "2022-09-06T11:52:54.686Z"
   },
   {
    "duration": 865,
    "start_time": "2022-09-06T11:52:55.333Z"
   },
   {
    "duration": 13,
    "start_time": "2022-09-06T11:52:56.200Z"
   },
   {
    "duration": 3350,
    "start_time": "2022-09-06T11:52:59.417Z"
   },
   {
    "duration": 741,
    "start_time": "2022-09-06T11:53:02.769Z"
   },
   {
    "duration": 688,
    "start_time": "2022-09-06T11:53:07.212Z"
   },
   {
    "duration": 3256,
    "start_time": "2022-09-06T11:53:08.236Z"
   },
   {
    "duration": 17,
    "start_time": "2022-09-06T11:53:11.495Z"
   },
   {
    "duration": 5,
    "start_time": "2022-09-06T11:53:14.856Z"
   },
   {
    "duration": 743,
    "start_time": "2022-09-06T11:53:15.639Z"
   },
   {
    "duration": 8,
    "start_time": "2022-09-06T11:53:17.799Z"
   },
   {
    "duration": 1771,
    "start_time": "2022-09-06T11:53:19.169Z"
   },
   {
    "duration": 5,
    "start_time": "2022-09-06T11:53:20.943Z"
   },
   {
    "duration": 557,
    "start_time": "2022-09-06T11:53:24.728Z"
   },
   {
    "duration": 418,
    "start_time": "2022-09-06T11:55:52.119Z"
   },
   {
    "duration": 4,
    "start_time": "2022-09-06T11:57:27.740Z"
   },
   {
    "duration": 9,
    "start_time": "2022-09-06T11:57:57.376Z"
   },
   {
    "duration": 67,
    "start_time": "2022-09-06T12:00:48.335Z"
   },
   {
    "duration": 3586,
    "start_time": "2022-09-06T12:00:54.018Z"
   },
   {
    "duration": 780,
    "start_time": "2022-09-06T12:00:58.682Z"
   },
   {
    "duration": 706,
    "start_time": "2022-09-06T12:01:03.655Z"
   },
   {
    "duration": 3379,
    "start_time": "2022-09-06T12:01:04.363Z"
   },
   {
    "duration": 15,
    "start_time": "2022-09-06T12:01:07.744Z"
   },
   {
    "duration": 1849,
    "start_time": "2022-09-06T12:01:07.761Z"
   },
   {
    "duration": 9,
    "start_time": "2022-09-06T12:01:09.612Z"
   },
   {
    "duration": 6,
    "start_time": "2022-09-06T12:01:09.622Z"
   },
   {
    "duration": 3242,
    "start_time": "2022-09-06T12:01:09.629Z"
   },
   {
    "duration": 1555,
    "start_time": "2022-09-06T13:16:50.590Z"
   },
   {
    "duration": 2649,
    "start_time": "2022-09-06T13:16:52.147Z"
   },
   {
    "duration": 13,
    "start_time": "2022-09-06T13:16:54.798Z"
   },
   {
    "duration": 5,
    "start_time": "2022-09-06T13:16:54.813Z"
   },
   {
    "duration": 2571,
    "start_time": "2022-09-06T13:16:55.883Z"
   },
   {
    "duration": 3737,
    "start_time": "2022-09-06T13:17:07.918Z"
   },
   {
    "duration": 10129,
    "start_time": "2022-09-06T13:18:33.590Z"
   },
   {
    "duration": 2,
    "start_time": "2022-09-06T13:18:43.722Z"
   },
   {
    "duration": 3042,
    "start_time": "2022-09-06T13:18:46.682Z"
   },
   {
    "duration": 98,
    "start_time": "2022-09-06T13:29:09.407Z"
   },
   {
    "duration": 75,
    "start_time": "2022-09-06T13:29:20.927Z"
   },
   {
    "duration": 5,
    "start_time": "2022-09-06T13:29:36.055Z"
   },
   {
    "duration": 121,
    "start_time": "2022-09-06T13:29:36.481Z"
   },
   {
    "duration": 1422,
    "start_time": "2022-09-07T07:15:18.880Z"
   },
   {
    "duration": 3002,
    "start_time": "2022-09-07T07:15:23.881Z"
   },
   {
    "duration": 13,
    "start_time": "2022-09-07T07:15:26.885Z"
   },
   {
    "duration": 7,
    "start_time": "2022-09-07T07:15:28.988Z"
   },
   {
    "duration": 8825,
    "start_time": "2022-09-07T07:15:31.275Z"
   },
   {
    "duration": 2256,
    "start_time": "2022-09-07T07:15:40.102Z"
   },
   {
    "duration": 81,
    "start_time": "2022-09-07T07:15:42.359Z"
   },
   {
    "duration": 216,
    "start_time": "2022-09-07T07:17:04.195Z"
   },
   {
    "duration": 2,
    "start_time": "2022-09-07T07:23:02.618Z"
   },
   {
    "duration": 77,
    "start_time": "2022-09-07T07:23:36.491Z"
   },
   {
    "duration": 58508,
    "start_time": "2022-09-07T07:28:10.698Z"
   },
   {
    "duration": 12104,
    "start_time": "2022-09-07T07:30:22.939Z"
   },
   {
    "duration": 54,
    "start_time": "2022-09-07T07:31:17.330Z"
   },
   {
    "duration": 3185,
    "start_time": "2022-09-07T07:31:35.095Z"
   },
   {
    "duration": 591,
    "start_time": "2022-09-07T07:31:49.071Z"
   },
   {
    "duration": 646,
    "start_time": "2022-09-07T07:31:51.683Z"
   },
   {
    "duration": 13,
    "start_time": "2022-09-07T07:31:53.761Z"
   },
   {
    "duration": 246,
    "start_time": "2022-09-07T07:31:57.255Z"
   },
   {
    "duration": 528,
    "start_time": "2022-09-07T07:32:37.524Z"
   },
   {
    "duration": 260,
    "start_time": "2022-09-07T07:33:19.948Z"
   },
   {
    "duration": 2,
    "start_time": "2022-09-07T07:35:16.104Z"
   },
   {
    "duration": 2,
    "start_time": "2022-09-07T07:35:30.529Z"
   },
   {
    "duration": 498,
    "start_time": "2022-09-07T07:35:50.789Z"
   },
   {
    "duration": 355,
    "start_time": "2022-09-07T07:49:20.323Z"
   },
   {
    "duration": 340,
    "start_time": "2022-09-07T07:49:47.979Z"
   },
   {
    "duration": 503,
    "start_time": "2022-09-07T07:49:57.322Z"
   },
   {
    "duration": 324,
    "start_time": "2022-09-07T07:49:58.269Z"
   },
   {
    "duration": 450,
    "start_time": "2022-09-07T07:51:11.131Z"
   },
   {
    "duration": 159422,
    "start_time": "2022-09-07T07:51:37.649Z"
   },
   {
    "duration": 3567,
    "start_time": "2022-09-07T07:55:13.619Z"
   },
   {
    "duration": 3,
    "start_time": "2022-09-07T07:56:45.563Z"
   },
   {
    "duration": 32,
    "start_time": "2022-09-07T07:56:50.993Z"
   },
   {
    "duration": 519,
    "start_time": "2022-09-07T07:57:40.650Z"
   },
   {
    "duration": 3084,
    "start_time": "2022-09-07T07:57:50.780Z"
   },
   {
    "duration": 4,
    "start_time": "2022-09-07T07:58:16.536Z"
   },
   {
    "duration": 58,
    "start_time": "2022-09-07T08:00:45.786Z"
   },
   {
    "duration": 1797938,
    "start_time": "2022-09-07T08:01:14.859Z"
   },
   {
    "duration": 50,
    "start_time": "2022-09-07T08:34:42.847Z"
   },
   {
    "duration": 8,
    "start_time": "2022-09-07T08:34:44.899Z"
   },
   {
    "duration": 23,
    "start_time": "2022-09-07T08:35:38.817Z"
   },
   {
    "duration": 19,
    "start_time": "2022-09-07T08:36:17.898Z"
   },
   {
    "duration": 20,
    "start_time": "2022-09-07T08:36:34.282Z"
   },
   {
    "duration": 6,
    "start_time": "2022-09-07T08:36:35.097Z"
   },
   {
    "duration": 6,
    "start_time": "2022-09-07T08:36:39.928Z"
   },
   {
    "duration": 19,
    "start_time": "2022-09-07T08:36:41.414Z"
   },
   {
    "duration": 49,
    "start_time": "2022-09-07T08:36:45.272Z"
   },
   {
    "duration": 5,
    "start_time": "2022-09-07T08:36:48.610Z"
   },
   {
    "duration": 4,
    "start_time": "2022-09-07T08:36:52.218Z"
   },
   {
    "duration": 232,
    "start_time": "2022-09-07T08:36:57.078Z"
   },
   {
    "duration": 9665,
    "start_time": "2022-09-07T08:36:58.857Z"
   },
   {
    "duration": 6,
    "start_time": "2022-09-07T08:37:27.157Z"
   },
   {
    "duration": 7,
    "start_time": "2022-09-07T08:37:48.677Z"
   },
   {
    "duration": 18,
    "start_time": "2022-09-07T08:37:52.390Z"
   },
   {
    "duration": 4,
    "start_time": "2022-09-07T08:38:23.131Z"
   },
   {
    "duration": 17,
    "start_time": "2022-09-07T08:38:24.153Z"
   },
   {
    "duration": 3,
    "start_time": "2022-09-07T08:38:52.645Z"
   },
   {
    "duration": 42,
    "start_time": "2022-09-07T08:38:53.378Z"
   },
   {
    "duration": 4,
    "start_time": "2022-09-07T08:39:12.603Z"
   },
   {
    "duration": 5,
    "start_time": "2022-09-07T08:39:33.412Z"
   },
   {
    "duration": 40,
    "start_time": "2022-09-07T08:40:23.471Z"
   },
   {
    "duration": 18,
    "start_time": "2022-09-07T08:46:10.767Z"
   },
   {
    "duration": 3,
    "start_time": "2022-09-07T08:46:30.302Z"
   },
   {
    "duration": 39,
    "start_time": "2022-09-07T08:46:31.865Z"
   },
   {
    "duration": 11974,
    "start_time": "2022-09-07T08:47:20.315Z"
   },
   {
    "duration": 19,
    "start_time": "2022-09-07T08:54:32.053Z"
   },
   {
    "duration": 3,
    "start_time": "2022-09-07T08:55:09.426Z"
   },
   {
    "duration": 21,
    "start_time": "2022-09-07T08:55:12.252Z"
   },
   {
    "duration": 23,
    "start_time": "2022-09-07T08:56:21.217Z"
   },
   {
    "duration": 19,
    "start_time": "2022-09-07T08:57:34.927Z"
   },
   {
    "duration": 3,
    "start_time": "2022-09-07T08:58:20.097Z"
   },
   {
    "duration": 1063,
    "start_time": "2022-09-07T08:58:20.773Z"
   },
   {
    "duration": 38,
    "start_time": "2022-09-07T09:01:50.212Z"
   },
   {
    "duration": 41,
    "start_time": "2022-09-07T09:02:56.678Z"
   },
   {
    "duration": 20374,
    "start_time": "2022-09-07T09:03:35.477Z"
   },
   {
    "duration": 5,
    "start_time": "2022-09-07T09:03:56.387Z"
   },
   {
    "duration": 46,
    "start_time": "2022-09-07T09:04:21.407Z"
   },
   {
    "duration": 1562,
    "start_time": "2022-09-07T12:04:07.145Z"
   },
   {
    "duration": 2469,
    "start_time": "2022-09-07T12:04:08.709Z"
   },
   {
    "duration": 13,
    "start_time": "2022-09-07T12:04:11.180Z"
   },
   {
    "duration": 224,
    "start_time": "2022-09-07T12:04:11.246Z"
   },
   {
    "duration": 3282,
    "start_time": "2022-09-07T12:04:17.483Z"
   },
   {
    "duration": 58217,
    "start_time": "2022-09-07T12:04:21.804Z"
   },
   {
    "duration": 14078,
    "start_time": "2022-09-07T12:05:20.023Z"
   },
   {
    "duration": 3,
    "start_time": "2022-09-07T12:05:34.103Z"
   },
   {
    "duration": 4070,
    "start_time": "2022-09-07T12:05:34.108Z"
   },
   {
    "duration": 77,
    "start_time": "2022-09-07T12:05:38.180Z"
   },
   {
    "duration": 3,
    "start_time": "2022-09-07T12:05:38.258Z"
   },
   {
    "duration": 705,
    "start_time": "2022-09-07T12:05:38.263Z"
   },
   {
    "duration": 0,
    "start_time": "2022-09-07T12:05:38.970Z"
   },
   {
    "duration": 1,
    "start_time": "2022-09-07T12:05:38.971Z"
   },
   {
    "duration": 0,
    "start_time": "2022-09-07T12:05:38.973Z"
   },
   {
    "duration": 0,
    "start_time": "2022-09-07T12:05:38.974Z"
   },
   {
    "duration": 0,
    "start_time": "2022-09-07T12:05:38.975Z"
   },
   {
    "duration": 0,
    "start_time": "2022-09-07T12:05:38.976Z"
   },
   {
    "duration": 0,
    "start_time": "2022-09-07T12:05:38.977Z"
   },
   {
    "duration": 0,
    "start_time": "2022-09-07T12:05:38.978Z"
   },
   {
    "duration": 0,
    "start_time": "2022-09-07T12:05:38.980Z"
   },
   {
    "duration": 0,
    "start_time": "2022-09-07T12:05:38.981Z"
   },
   {
    "duration": 0,
    "start_time": "2022-09-07T12:05:39.008Z"
   },
   {
    "duration": 3,
    "start_time": "2022-09-07T12:10:14.816Z"
   },
   {
    "duration": 416,
    "start_time": "2022-09-07T12:10:15.738Z"
   },
   {
    "duration": 3288,
    "start_time": "2022-09-07T12:10:36.244Z"
   },
   {
    "duration": 284,
    "start_time": "2022-09-07T12:10:39.534Z"
   },
   {
    "duration": 11993,
    "start_time": "2022-09-07T12:12:15.342Z"
   },
   {
    "duration": 11765,
    "start_time": "2022-09-07T12:12:27.338Z"
   },
   {
    "duration": 1464,
    "start_time": "2022-09-07T12:12:50.551Z"
   },
   {
    "duration": 908,
    "start_time": "2022-09-07T12:12:53.327Z"
   },
   {
    "duration": 13,
    "start_time": "2022-09-07T12:12:54.972Z"
   },
   {
    "duration": 256,
    "start_time": "2022-09-07T12:12:56.407Z"
   },
   {
    "duration": 3,
    "start_time": "2022-09-07T12:12:58.328Z"
   },
   {
    "duration": 4173,
    "start_time": "2022-09-07T12:13:00.032Z"
   },
   {
    "duration": 66,
    "start_time": "2022-09-07T12:13:06.237Z"
   },
   {
    "duration": 2771,
    "start_time": "2022-09-07T12:13:07.772Z"
   },
   {
    "duration": 621,
    "start_time": "2022-09-07T12:13:11.232Z"
   },
   {
    "duration": 548,
    "start_time": "2022-09-07T12:13:55.100Z"
   },
   {
    "duration": 69099,
    "start_time": "2022-09-07T14:23:21.136Z"
   },
   {
    "duration": 16413,
    "start_time": "2022-09-07T14:24:30.238Z"
   },
   {
    "duration": 1540,
    "start_time": "2022-09-07T14:24:59.659Z"
   },
   {
    "duration": 3575,
    "start_time": "2022-09-07T14:25:02.032Z"
   },
   {
    "duration": 15,
    "start_time": "2022-09-07T14:25:06.982Z"
   },
   {
    "duration": 289,
    "start_time": "2022-09-07T14:25:11.197Z"
   },
   {
    "duration": 3,
    "start_time": "2022-09-07T14:25:13.552Z"
   },
   {
    "duration": 4748,
    "start_time": "2022-09-07T14:25:14.787Z"
   },
   {
    "duration": 69,
    "start_time": "2022-09-07T14:25:20.816Z"
   },
   {
    "duration": 3025,
    "start_time": "2022-09-07T14:25:25.404Z"
   },
   {
    "duration": 641,
    "start_time": "2022-09-07T14:25:29.103Z"
   },
   {
    "duration": 2274650,
    "start_time": "2022-09-07T14:25:30.454Z"
   },
   {
    "duration": 64,
    "start_time": "2022-09-07T15:03:25.106Z"
   },
   {
    "duration": 47,
    "start_time": "2022-09-07T15:03:25.172Z"
   },
   {
    "duration": 9,
    "start_time": "2022-09-07T15:03:25.222Z"
   },
   {
    "duration": 8,
    "start_time": "2022-09-07T15:03:25.233Z"
   },
   {
    "duration": 47,
    "start_time": "2022-09-07T15:03:25.243Z"
   },
   {
    "duration": 66,
    "start_time": "2022-09-07T15:03:25.293Z"
   },
   {
    "duration": 6,
    "start_time": "2022-09-07T15:03:25.361Z"
   },
   {
    "duration": 8,
    "start_time": "2022-09-07T15:03:25.368Z"
   },
   {
    "duration": 205,
    "start_time": "2022-09-07T15:03:25.378Z"
   },
   {
    "duration": 3,
    "start_time": "2022-09-07T15:03:25.585Z"
   },
   {
    "duration": 18,
    "start_time": "2022-09-07T15:03:25.589Z"
   },
   {
    "duration": 0,
    "start_time": "2022-09-07T15:03:25.970Z"
   },
   {
    "duration": 22,
    "start_time": "2022-09-07T15:04:58.279Z"
   },
   {
    "duration": 4,
    "start_time": "2022-09-07T15:05:34.789Z"
   },
   {
    "duration": 21,
    "start_time": "2022-09-07T15:05:35.927Z"
   },
   {
    "duration": 3,
    "start_time": "2022-09-07T15:06:35.172Z"
   },
   {
    "duration": 20,
    "start_time": "2022-09-07T15:06:35.910Z"
   },
   {
    "duration": 3,
    "start_time": "2022-09-07T15:07:16.845Z"
   },
   {
    "duration": 23,
    "start_time": "2022-09-07T15:07:17.433Z"
   },
   {
    "duration": 3,
    "start_time": "2022-09-07T15:07:58.337Z"
   },
   {
    "duration": 25,
    "start_time": "2022-09-07T15:07:58.990Z"
   },
   {
    "duration": 50,
    "start_time": "2022-09-07T15:08:10.599Z"
   },
   {
    "duration": 2,
    "start_time": "2022-09-07T15:16:00.730Z"
   },
   {
    "duration": 22,
    "start_time": "2022-09-07T15:16:01.659Z"
   },
   {
    "duration": 4,
    "start_time": "2022-09-07T15:16:27.808Z"
   },
   {
    "duration": 51,
    "start_time": "2022-09-07T15:17:23.047Z"
   },
   {
    "duration": 49,
    "start_time": "2022-09-07T15:17:42.328Z"
   },
   {
    "duration": 5,
    "start_time": "2022-09-07T15:18:20.366Z"
   },
   {
    "duration": 48,
    "start_time": "2022-09-07T15:18:32.914Z"
   },
   {
    "duration": 21,
    "start_time": "2022-09-07T15:19:27.986Z"
   },
   {
    "duration": 3,
    "start_time": "2022-09-07T15:20:00.407Z"
   },
   {
    "duration": 77392,
    "start_time": "2022-09-07T15:20:02.692Z"
   },
   {
    "duration": 22,
    "start_time": "2022-09-07T15:21:22.516Z"
   },
   {
    "duration": 106319,
    "start_time": "2022-09-07T15:21:36.947Z"
   },
   {
    "duration": 187518,
    "start_time": "2022-09-07T15:23:30.153Z"
   },
   {
    "duration": 36,
    "start_time": "2022-09-07T17:41:36.903Z"
   },
   {
    "duration": 25,
    "start_time": "2022-09-07T17:41:53.754Z"
   },
   {
    "duration": 28,
    "start_time": "2022-09-07T17:42:20.424Z"
   },
   {
    "duration": 41,
    "start_time": "2022-09-07T17:42:26.461Z"
   },
   {
    "duration": 52,
    "start_time": "2022-09-07T17:44:59.938Z"
   },
   {
    "duration": 26,
    "start_time": "2022-09-07T17:45:33.240Z"
   },
   {
    "duration": 421,
    "start_time": "2022-09-07T17:48:02.244Z"
   },
   {
    "duration": 71,
    "start_time": "2022-09-07T17:50:28.521Z"
   },
   {
    "duration": 163966,
    "start_time": "2022-09-07T17:50:47.405Z"
   },
   {
    "duration": 66,
    "start_time": "2022-09-07T17:54:54.319Z"
   },
   {
    "duration": 71,
    "start_time": "2022-09-07T17:55:20.749Z"
   },
   {
    "duration": 124,
    "start_time": "2022-09-07T17:55:33.316Z"
   },
   {
    "duration": 71,
    "start_time": "2022-09-07T17:55:40.304Z"
   },
   {
    "duration": 50305,
    "start_time": "2022-09-07T17:55:47.685Z"
   },
   {
    "duration": 141580,
    "start_time": "2022-09-07T17:56:40.940Z"
   },
   {
    "duration": 1362,
    "start_time": "2022-09-08T07:11:34.080Z"
   },
   {
    "duration": 0,
    "start_time": "2022-09-08T07:11:35.443Z"
   },
   {
    "duration": 8,
    "start_time": "2022-09-08T07:11:35.562Z"
   },
   {
    "duration": 8,
    "start_time": "2022-09-08T07:11:36.562Z"
   },
   {
    "duration": 350,
    "start_time": "2022-09-08T07:11:45.407Z"
   },
   {
    "duration": 61138,
    "start_time": "2022-09-08T07:12:00.638Z"
   },
   {
    "duration": 14083,
    "start_time": "2022-09-08T07:13:01.778Z"
   },
   {
    "duration": 1416,
    "start_time": "2022-09-08T07:13:26.502Z"
   },
   {
    "duration": 2456,
    "start_time": "2022-09-08T07:13:27.920Z"
   },
   {
    "duration": 12,
    "start_time": "2022-09-08T07:13:31.077Z"
   },
   {
    "duration": 203,
    "start_time": "2022-09-08T07:13:32.256Z"
   },
   {
    "duration": 2,
    "start_time": "2022-09-08T07:13:33.345Z"
   },
   {
    "duration": 3936,
    "start_time": "2022-09-08T07:13:33.739Z"
   },
   {
    "duration": 64,
    "start_time": "2022-09-08T07:13:37.677Z"
   },
   {
    "duration": 2415,
    "start_time": "2022-09-08T07:13:37.742Z"
   },
   {
    "duration": 546,
    "start_time": "2022-09-08T07:13:40.159Z"
   },
   {
    "duration": 1792165,
    "start_time": "2022-09-08T07:13:40.707Z"
   },
   {
    "duration": 45,
    "start_time": "2022-09-08T07:43:32.873Z"
   },
   {
    "duration": 18,
    "start_time": "2022-09-08T07:43:32.920Z"
   },
   {
    "duration": 20,
    "start_time": "2022-09-08T07:43:32.939Z"
   },
   {
    "duration": 8,
    "start_time": "2022-09-08T07:43:32.960Z"
   },
   {
    "duration": 28,
    "start_time": "2022-09-08T07:43:32.971Z"
   },
   {
    "duration": 47,
    "start_time": "2022-09-08T07:43:33.000Z"
   },
   {
    "duration": 5,
    "start_time": "2022-09-08T07:43:33.049Z"
   },
   {
    "duration": 7,
    "start_time": "2022-09-08T07:43:33.056Z"
   },
   {
    "duration": 133,
    "start_time": "2022-09-08T07:43:33.064Z"
   },
   {
    "duration": 2,
    "start_time": "2022-09-08T07:43:33.199Z"
   },
   {
    "duration": 9,
    "start_time": "2022-09-08T07:43:33.202Z"
   },
   {
    "duration": 3,
    "start_time": "2022-09-08T07:43:33.213Z"
   },
   {
    "duration": 4,
    "start_time": "2022-09-08T07:43:33.217Z"
   },
   {
    "duration": 394,
    "start_time": "2022-09-08T07:43:33.222Z"
   },
   {
    "duration": 80,
    "start_time": "2022-09-08T07:43:33.620Z"
   },
   {
    "duration": 2,
    "start_time": "2022-09-08T07:44:53.840Z"
   },
   {
    "duration": 2,
    "start_time": "2022-09-08T07:44:54.674Z"
   },
   {
    "duration": 57,
    "start_time": "2022-09-08T07:44:55.435Z"
   },
   {
    "duration": 3,
    "start_time": "2022-09-08T07:45:49.101Z"
   },
   {
    "duration": 3,
    "start_time": "2022-09-08T07:45:49.911Z"
   },
   {
    "duration": 167055,
    "start_time": "2022-09-08T07:45:50.912Z"
   },
   {
    "duration": 2371630,
    "start_time": "2022-09-08T07:48:37.969Z"
   },
   {
    "duration": 97,
    "start_time": "2022-09-08T08:28:09.601Z"
   },
   {
    "duration": 53,
    "start_time": "2022-09-08T08:28:09.700Z"
   },
   {
    "duration": 10,
    "start_time": "2022-09-08T08:28:09.755Z"
   },
   {
    "duration": 58,
    "start_time": "2022-09-08T08:28:09.767Z"
   },
   {
    "duration": 90,
    "start_time": "2022-09-08T08:38:57.463Z"
   },
   {
    "duration": 131,
    "start_time": "2022-09-08T08:39:04.178Z"
   },
   {
    "duration": 111,
    "start_time": "2022-09-08T08:39:19.938Z"
   },
   {
    "duration": 90,
    "start_time": "2022-09-08T08:39:21.012Z"
   },
   {
    "duration": 96,
    "start_time": "2022-09-08T08:39:47.496Z"
   },
   {
    "duration": 1128683,
    "start_time": "2022-09-08T08:41:08.359Z"
   },
   {
    "duration": 183,
    "start_time": "2022-09-08T08:59:57.044Z"
   },
   {
    "duration": 123,
    "start_time": "2022-09-08T08:59:57.228Z"
   },
   {
    "duration": 208,
    "start_time": "2022-09-08T09:00:05.437Z"
   },
   {
    "duration": 4,
    "start_time": "2022-09-08T09:00:22.730Z"
   },
   {
    "duration": 185,
    "start_time": "2022-09-08T09:00:40.906Z"
   },
   {
    "duration": 1531,
    "start_time": "2022-09-08T09:05:49.214Z"
   },
   {
    "duration": 3,
    "start_time": "2022-09-09T07:02:31.698Z"
   },
   {
    "duration": 2,
    "start_time": "2022-09-09T07:02:32.607Z"
   },
   {
    "duration": 1518,
    "start_time": "2022-09-09T07:02:43.135Z"
   },
   {
    "duration": 2753,
    "start_time": "2022-09-09T07:02:46.824Z"
   },
   {
    "duration": 13,
    "start_time": "2022-09-09T07:02:49.579Z"
   },
   {
    "duration": 240,
    "start_time": "2022-09-09T07:02:51.895Z"
   },
   {
    "duration": 4,
    "start_time": "2022-09-09T07:02:58.905Z"
   },
   {
    "duration": 4,
    "start_time": "2022-09-09T07:08:14.010Z"
   },
   {
    "duration": 837,
    "start_time": "2022-09-09T07:08:15.442Z"
   },
   {
    "duration": 9,
    "start_time": "2022-09-09T07:08:16.281Z"
   },
   {
    "duration": 247,
    "start_time": "2022-09-09T07:08:17.431Z"
   },
   {
    "duration": 5,
    "start_time": "2022-09-09T07:08:19.149Z"
   },
   {
    "duration": 4524,
    "start_time": "2022-09-09T07:08:19.963Z"
   },
   {
    "duration": 63,
    "start_time": "2022-09-09T07:08:25.111Z"
   },
   {
    "duration": 2905,
    "start_time": "2022-09-09T07:08:26.741Z"
   },
   {
    "duration": 611,
    "start_time": "2022-09-09T07:08:30.334Z"
   },
   {
    "duration": 203,
    "start_time": "2022-09-09T07:08:31.856Z"
   },
   {
    "duration": 4,
    "start_time": "2022-09-09T07:08:33.209Z"
   },
   {
    "duration": 28,
    "start_time": "2022-09-09T07:08:34.063Z"
   },
   {
    "duration": 229,
    "start_time": "2022-09-09T07:09:45.592Z"
   },
   {
    "duration": 117,
    "start_time": "2022-09-09T07:10:24.047Z"
   },
   {
    "duration": 5,
    "start_time": "2022-09-09T07:10:35.468Z"
   },
   {
    "duration": 42,
    "start_time": "2022-09-09T07:12:47.043Z"
   },
   {
    "duration": 40486,
    "start_time": "2022-09-09T07:12:59.695Z"
   },
   {
    "duration": 63,
    "start_time": "2022-09-09T07:13:50.239Z"
   },
   {
    "duration": 162796,
    "start_time": "2022-09-09T07:15:04.707Z"
   },
   {
    "duration": 97,
    "start_time": "2022-09-09T07:17:56.498Z"
   },
   {
    "duration": 9,
    "start_time": "2022-09-09T07:19:35.852Z"
   },
   {
    "duration": 864,
    "start_time": "2022-09-09T07:19:36.848Z"
   },
   {
    "duration": 8,
    "start_time": "2022-09-09T07:19:37.714Z"
   },
   {
    "duration": 234,
    "start_time": "2022-09-09T07:19:38.577Z"
   },
   {
    "duration": 3,
    "start_time": "2022-09-09T07:19:44.264Z"
   },
   {
    "duration": 4557,
    "start_time": "2022-09-09T07:19:44.930Z"
   },
   {
    "duration": 77,
    "start_time": "2022-09-09T07:19:49.489Z"
   },
   {
    "duration": 2,
    "start_time": "2022-09-09T07:19:49.568Z"
   },
   {
    "duration": 574,
    "start_time": "2022-09-09T07:19:49.572Z"
   },
   {
    "duration": 12,
    "start_time": "2022-09-09T07:19:56.754Z"
   },
   {
    "duration": 4,
    "start_time": "2022-09-09T07:20:01.061Z"
   },
   {
    "duration": 36,
    "start_time": "2022-09-09T07:20:02.159Z"
   },
   {
    "duration": 28,
    "start_time": "2022-09-09T07:20:31.482Z"
   },
   {
    "duration": 49,
    "start_time": "2022-09-09T07:20:37.410Z"
   },
   {
    "duration": 106,
    "start_time": "2022-09-09T07:20:55.792Z"
   },
   {
    "duration": 50,
    "start_time": "2022-09-09T07:21:00.168Z"
   },
   {
    "duration": 51,
    "start_time": "2022-09-09T07:21:23.745Z"
   },
   {
    "duration": 33,
    "start_time": "2022-09-09T07:21:32.707Z"
   },
   {
    "duration": 33,
    "start_time": "2022-09-09T07:21:43.849Z"
   },
   {
    "duration": 33,
    "start_time": "2022-09-09T07:21:49.211Z"
   },
   {
    "duration": 27,
    "start_time": "2022-09-09T07:22:04.417Z"
   },
   {
    "duration": 295712,
    "start_time": "2022-09-09T07:22:14.095Z"
   },
   {
    "duration": 3,
    "start_time": "2022-09-09T07:27:09.809Z"
   },
   {
    "duration": 3,
    "start_time": "2022-09-09T07:27:12.687Z"
   },
   {
    "duration": 3,
    "start_time": "2022-09-09T07:27:44.262Z"
   },
   {
    "duration": 505,
    "start_time": "2022-09-09T07:28:29.420Z"
   },
   {
    "duration": 18,
    "start_time": "2022-09-09T07:28:44.635Z"
   },
   {
    "duration": 17,
    "start_time": "2022-09-09T07:30:20.416Z"
   },
   {
    "duration": 16,
    "start_time": "2022-09-09T07:30:28.413Z"
   },
   {
    "duration": 314,
    "start_time": "2022-09-09T07:30:41.244Z"
   },
   {
    "duration": 29,
    "start_time": "2022-09-09T07:41:41.558Z"
   },
   {
    "duration": 32,
    "start_time": "2022-09-09T07:42:04.338Z"
   },
   {
    "duration": 27,
    "start_time": "2022-09-09T07:42:36.979Z"
   },
   {
    "duration": 82913,
    "start_time": "2022-09-09T07:42:54.911Z"
   },
   {
    "duration": 29500,
    "start_time": "2022-09-09T07:44:20.038Z"
   },
   {
    "duration": 0,
    "start_time": "2022-09-09T07:44:49.540Z"
   },
   {
    "duration": 85716,
    "start_time": "2022-09-09T07:44:57.090Z"
   },
   {
    "duration": 391,
    "start_time": "2022-09-09T07:46:22.809Z"
   },
   {
    "duration": 364,
    "start_time": "2022-09-09T07:46:37.376Z"
   },
   {
    "duration": 5,
    "start_time": "2022-09-09T07:47:43.996Z"
   },
   {
    "duration": 3,
    "start_time": "2022-09-09T07:48:11.334Z"
   },
   {
    "duration": 826,
    "start_time": "2022-09-09T07:49:02.044Z"
   },
   {
    "duration": 774,
    "start_time": "2022-09-09T07:49:19.976Z"
   },
   {
    "duration": 67,
    "start_time": "2022-09-09T07:53:15.342Z"
   },
   {
    "duration": 26,
    "start_time": "2022-09-09T07:55:06.372Z"
   },
   {
    "duration": 26,
    "start_time": "2022-09-09T07:55:07.531Z"
   },
   {
    "duration": 85222,
    "start_time": "2022-09-09T07:55:19.535Z"
   },
   {
    "duration": 154,
    "start_time": "2022-09-09T07:58:08.595Z"
   },
   {
    "duration": 6,
    "start_time": "2022-09-09T07:58:27.769Z"
   },
   {
    "duration": 760,
    "start_time": "2022-09-09T07:58:28.905Z"
   },
   {
    "duration": 7,
    "start_time": "2022-09-09T07:58:29.667Z"
   },
   {
    "duration": 218,
    "start_time": "2022-09-09T07:58:30.973Z"
   },
   {
    "duration": 4,
    "start_time": "2022-09-09T07:58:37.294Z"
   },
   {
    "duration": 4099,
    "start_time": "2022-09-09T07:58:38.063Z"
   },
   {
    "duration": 3,
    "start_time": "2022-09-09T07:58:43.036Z"
   },
   {
    "duration": 178,
    "start_time": "2022-09-09T07:58:44.377Z"
   },
   {
    "duration": 3,
    "start_time": "2022-09-09T07:58:51.579Z"
   },
   {
    "duration": 435,
    "start_time": "2022-09-09T07:58:52.199Z"
   },
   {
    "duration": 3,
    "start_time": "2022-09-09T07:58:54.136Z"
   },
   {
    "duration": 0,
    "start_time": "2022-09-09T08:03:13.849Z"
   },
   {
    "duration": 0,
    "start_time": "2022-09-09T08:03:13.850Z"
   },
   {
    "duration": 0,
    "start_time": "2022-09-09T08:03:13.851Z"
   },
   {
    "duration": 0,
    "start_time": "2022-09-09T08:03:13.852Z"
   },
   {
    "duration": 0,
    "start_time": "2022-09-09T08:03:13.853Z"
   },
   {
    "duration": 0,
    "start_time": "2022-09-09T08:03:13.854Z"
   },
   {
    "duration": 0,
    "start_time": "2022-09-09T08:03:13.856Z"
   },
   {
    "duration": 0,
    "start_time": "2022-09-09T08:03:13.857Z"
   },
   {
    "duration": 0,
    "start_time": "2022-09-09T08:03:13.859Z"
   },
   {
    "duration": 0,
    "start_time": "2022-09-09T08:03:13.860Z"
   },
   {
    "duration": 0,
    "start_time": "2022-09-09T08:03:13.861Z"
   },
   {
    "duration": 0,
    "start_time": "2022-09-09T08:03:13.863Z"
   },
   {
    "duration": 5,
    "start_time": "2022-09-09T08:03:18.636Z"
   },
   {
    "duration": 799,
    "start_time": "2022-09-09T08:03:19.309Z"
   },
   {
    "duration": 7,
    "start_time": "2022-09-09T08:03:20.110Z"
   },
   {
    "duration": 230,
    "start_time": "2022-09-09T08:03:21.940Z"
   },
   {
    "duration": 3,
    "start_time": "2022-09-09T08:03:23.878Z"
   },
   {
    "duration": 4097,
    "start_time": "2022-09-09T08:03:24.337Z"
   },
   {
    "duration": 2,
    "start_time": "2022-09-09T08:03:29.135Z"
   },
   {
    "duration": 66,
    "start_time": "2022-09-09T08:03:30.720Z"
   },
   {
    "duration": 2,
    "start_time": "2022-09-09T08:03:31.640Z"
   },
   {
    "duration": 406,
    "start_time": "2022-09-09T08:03:32.652Z"
   },
   {
    "duration": 3,
    "start_time": "2022-09-09T08:03:34.570Z"
   },
   {
    "duration": 28,
    "start_time": "2022-09-09T08:03:35.647Z"
   },
   {
    "duration": 70,
    "start_time": "2022-09-09T08:03:59.982Z"
   },
   {
    "duration": 26505,
    "start_time": "2022-09-09T08:04:20.936Z"
   },
   {
    "duration": 37,
    "start_time": "2022-09-09T08:04:49.044Z"
   },
   {
    "duration": 2,
    "start_time": "2022-09-09T08:05:04.641Z"
   },
   {
    "duration": 26,
    "start_time": "2022-09-09T08:05:20.709Z"
   },
   {
    "duration": 42,
    "start_time": "2022-09-09T08:05:39.422Z"
   },
   {
    "duration": 59,
    "start_time": "2022-09-09T08:05:51.069Z"
   },
   {
    "duration": 356940,
    "start_time": "2022-09-09T08:06:00.114Z"
   },
   {
    "duration": 34,
    "start_time": "2022-09-09T08:11:57.788Z"
   },
   {
    "duration": 37,
    "start_time": "2022-09-09T08:13:07.950Z"
   },
   {
    "duration": 29,
    "start_time": "2022-09-09T08:13:17.151Z"
   },
   {
    "duration": 137552,
    "start_time": "2022-09-09T08:13:29.403Z"
   },
   {
    "duration": 0,
    "start_time": "2022-09-09T08:15:46.957Z"
   },
   {
    "duration": 4,
    "start_time": "2022-09-09T08:15:47.886Z"
   },
   {
    "duration": 33,
    "start_time": "2022-09-09T08:16:22.939Z"
   },
   {
    "duration": 30,
    "start_time": "2022-09-09T08:16:27.821Z"
   },
   {
    "duration": 46,
    "start_time": "2022-09-09T08:16:46.737Z"
   },
   {
    "duration": 32,
    "start_time": "2022-09-09T08:16:55.264Z"
   },
   {
    "duration": 57,
    "start_time": "2022-09-09T08:17:13.378Z"
   },
   {
    "duration": 0,
    "start_time": "2022-09-09T08:27:22.107Z"
   },
   {
    "duration": 0,
    "start_time": "2022-09-09T08:27:22.108Z"
   },
   {
    "duration": 3,
    "start_time": "2022-09-09T08:27:26.973Z"
   },
   {
    "duration": 75,
    "start_time": "2022-09-09T08:27:27.841Z"
   },
   {
    "duration": 9009,
    "start_time": "2022-09-09T08:27:43.995Z"
   },
   {
    "duration": 3,
    "start_time": "2022-09-09T08:28:14.096Z"
   },
   {
    "duration": 14,
    "start_time": "2022-09-09T08:28:14.101Z"
   },
   {
    "duration": 8,
    "start_time": "2022-09-09T08:28:14.117Z"
   },
   {
    "duration": 735,
    "start_time": "2022-09-09T08:28:14.126Z"
   },
   {
    "duration": 6,
    "start_time": "2022-09-09T08:28:14.864Z"
   },
   {
    "duration": 224,
    "start_time": "2022-09-09T08:28:14.871Z"
   },
   {
    "duration": 3,
    "start_time": "2022-09-09T08:28:15.096Z"
   },
   {
    "duration": 4198,
    "start_time": "2022-09-09T08:28:15.101Z"
   },
   {
    "duration": 81,
    "start_time": "2022-09-09T08:28:19.302Z"
   },
   {
    "duration": 2,
    "start_time": "2022-09-09T08:28:19.386Z"
   },
   {
    "duration": 458,
    "start_time": "2022-09-09T08:28:19.389Z"
   },
   {
    "duration": 3,
    "start_time": "2022-09-09T08:28:19.849Z"
   },
   {
    "duration": 2067209,
    "start_time": "2022-09-09T08:28:19.855Z"
   },
   {
    "duration": 53,
    "start_time": "2022-09-09T09:02:47.066Z"
   },
   {
    "duration": 38,
    "start_time": "2022-09-09T09:02:47.122Z"
   },
   {
    "duration": 21,
    "start_time": "2022-09-09T09:02:47.162Z"
   },
   {
    "duration": 18,
    "start_time": "2022-09-09T09:02:47.185Z"
   },
   {
    "duration": 47,
    "start_time": "2022-09-09T09:02:47.205Z"
   },
   {
    "duration": 57,
    "start_time": "2022-09-09T09:02:47.253Z"
   },
   {
    "duration": 6,
    "start_time": "2022-09-09T09:02:47.312Z"
   },
   {
    "duration": 11,
    "start_time": "2022-09-09T09:02:47.319Z"
   },
   {
    "duration": 224,
    "start_time": "2022-09-09T09:02:47.331Z"
   },
   {
    "duration": 4,
    "start_time": "2022-09-09T09:02:47.557Z"
   },
   {
    "duration": 29,
    "start_time": "2022-09-09T09:02:47.562Z"
   },
   {
    "duration": 176371,
    "start_time": "2022-09-09T09:02:47.593Z"
   },
   {
    "duration": 2568336,
    "start_time": "2022-09-09T09:05:43.966Z"
   },
   {
    "duration": 1379690,
    "start_time": "2022-09-09T09:48:32.304Z"
   },
   {
    "duration": 444,
    "start_time": "2022-09-09T10:13:09.000Z"
   },
   {
    "duration": 233,
    "start_time": "2022-09-09T10:13:09.446Z"
   },
   {
    "duration": 151,
    "start_time": "2022-09-09T10:13:09.680Z"
   },
   {
    "duration": 0,
    "start_time": "2022-09-09T10:13:09.833Z"
   },
   {
    "duration": 0,
    "start_time": "2022-09-09T10:13:09.834Z"
   },
   {
    "duration": 0,
    "start_time": "2022-09-09T10:13:09.835Z"
   },
   {
    "duration": 2604045,
    "start_time": "2022-09-09T10:13:26.924Z"
   },
   {
    "duration": 11698832,
    "start_time": "2022-09-09T10:56:50.971Z"
   },
   {
    "duration": 186,
    "start_time": "2022-09-09T14:11:49.805Z"
   },
   {
    "duration": 10,
    "start_time": "2022-09-09T14:11:49.993Z"
   },
   {
    "duration": 19,
    "start_time": "2022-09-09T14:11:50.004Z"
   },
   {
    "duration": 1812,
    "start_time": "2022-09-09T14:11:50.024Z"
   },
   {
    "duration": 71,
    "start_time": "2022-09-09T14:12:03.707Z"
   },
   {
    "duration": 19581,
    "start_time": "2022-09-09T14:15:33.378Z"
   },
   {
    "duration": 506,
    "start_time": "2022-09-09T14:15:52.960Z"
   },
   {
    "duration": 102,
    "start_time": "2022-09-09T14:18:38.467Z"
   },
   {
    "duration": 2,
    "start_time": "2022-09-09T14:18:51.174Z"
   },
   {
    "duration": 13,
    "start_time": "2022-09-09T14:18:51.178Z"
   },
   {
    "duration": 1485,
    "start_time": "2022-09-09T14:18:51.192Z"
   },
   {
    "duration": 2381,
    "start_time": "2022-09-09T14:18:52.678Z"
   },
   {
    "duration": 13,
    "start_time": "2022-09-09T14:18:55.061Z"
   },
   {
    "duration": 242,
    "start_time": "2022-09-09T14:18:55.075Z"
   },
   {
    "duration": 4,
    "start_time": "2022-09-09T14:18:55.318Z"
   },
   {
    "duration": 4072,
    "start_time": "2022-09-09T14:18:55.323Z"
   },
   {
    "duration": 73,
    "start_time": "2022-09-09T14:18:59.397Z"
   },
   {
    "duration": 2664,
    "start_time": "2022-09-09T14:18:59.471Z"
   },
   {
    "duration": 483,
    "start_time": "2022-09-09T14:19:02.138Z"
   },
   {
    "duration": 5,
    "start_time": "2022-09-09T14:19:02.623Z"
   },
   {
    "duration": 2071907,
    "start_time": "2022-09-09T14:19:02.629Z"
   },
   {
    "duration": 58,
    "start_time": "2022-09-09T14:53:34.539Z"
   },
   {
    "duration": 29,
    "start_time": "2022-09-09T14:53:34.598Z"
   },
   {
    "duration": 20,
    "start_time": "2022-09-09T14:53:34.629Z"
   },
   {
    "duration": 12,
    "start_time": "2022-09-09T14:53:34.650Z"
   },
   {
    "duration": 27,
    "start_time": "2022-09-09T14:53:34.664Z"
   },
   {
    "duration": 67,
    "start_time": "2022-09-09T14:53:34.693Z"
   },
   {
    "duration": 5,
    "start_time": "2022-09-09T14:53:34.761Z"
   },
   {
    "duration": 7,
    "start_time": "2022-09-09T14:53:34.768Z"
   },
   {
    "duration": 19,
    "start_time": "2022-09-09T14:53:34.776Z"
   },
   {
    "duration": 176046,
    "start_time": "2022-09-09T14:53:34.796Z"
   },
   {
    "duration": 2680370,
    "start_time": "2022-09-09T14:56:30.844Z"
   },
   {
    "duration": 13635537,
    "start_time": "2022-09-09T15:41:11.216Z"
   },
   {
    "duration": 4,
    "start_time": "2022-09-10T16:53:23.262Z"
   },
   {
    "duration": 8,
    "start_time": "2022-09-10T16:53:23.268Z"
   },
   {
    "duration": 1603,
    "start_time": "2022-09-10T16:53:23.278Z"
   },
   {
    "duration": 3525,
    "start_time": "2022-09-10T16:53:24.883Z"
   },
   {
    "duration": 16,
    "start_time": "2022-09-10T16:53:28.410Z"
   },
   {
    "duration": 252,
    "start_time": "2022-09-10T16:53:28.427Z"
   },
   {
    "duration": 3,
    "start_time": "2022-09-10T16:53:28.681Z"
   },
   {
    "duration": 4734,
    "start_time": "2022-09-10T16:53:28.691Z"
   },
   {
    "duration": 91,
    "start_time": "2022-09-10T16:53:33.427Z"
   },
   {
    "duration": 3120,
    "start_time": "2022-09-10T16:53:33.520Z"
   },
   {
    "duration": 628,
    "start_time": "2022-09-10T16:53:36.644Z"
   },
   {
    "duration": 6,
    "start_time": "2022-09-10T16:53:37.274Z"
   },
   {
    "duration": 2419252,
    "start_time": "2022-09-10T16:53:37.282Z"
   },
   {
    "duration": 84,
    "start_time": "2022-09-10T17:33:56.536Z"
   },
   {
    "duration": 45,
    "start_time": "2022-09-10T17:33:56.622Z"
   },
   {
    "duration": 24,
    "start_time": "2022-09-10T17:33:56.669Z"
   },
   {
    "duration": 11,
    "start_time": "2022-09-10T17:33:56.695Z"
   },
   {
    "duration": 46,
    "start_time": "2022-09-10T17:33:56.710Z"
   },
   {
    "duration": 76,
    "start_time": "2022-09-10T17:33:56.759Z"
   },
   {
    "duration": 7,
    "start_time": "2022-09-10T17:33:56.838Z"
   },
   {
    "duration": 15,
    "start_time": "2022-09-10T17:33:56.848Z"
   },
   {
    "duration": 13,
    "start_time": "2022-09-10T17:33:56.865Z"
   },
   {
    "duration": 193761,
    "start_time": "2022-09-10T17:33:56.893Z"
   },
   {
    "duration": 769247,
    "start_time": "2022-09-10T17:37:10.656Z"
   },
   {
    "duration": 1151794,
    "start_time": "2022-09-10T17:49:59.905Z"
   },
   {
    "duration": 4,
    "start_time": "2022-09-10T18:26:37.986Z"
   },
   {
    "duration": 7,
    "start_time": "2022-09-10T18:26:37.992Z"
   },
   {
    "duration": 1556,
    "start_time": "2022-09-10T18:26:38.001Z"
   },
   {
    "duration": 3490,
    "start_time": "2022-09-10T18:26:39.559Z"
   },
   {
    "duration": 14,
    "start_time": "2022-09-10T18:26:43.051Z"
   },
   {
    "duration": 266,
    "start_time": "2022-09-10T18:26:43.067Z"
   },
   {
    "duration": 3,
    "start_time": "2022-09-10T18:26:43.335Z"
   },
   {
    "duration": 4304,
    "start_time": "2022-09-10T18:26:43.340Z"
   },
   {
    "duration": 75,
    "start_time": "2022-09-10T18:26:47.646Z"
   },
   {
    "duration": 2882,
    "start_time": "2022-09-10T18:26:47.724Z"
   },
   {
    "duration": 506,
    "start_time": "2022-09-10T18:26:50.608Z"
   },
   {
    "duration": 5,
    "start_time": "2022-09-10T18:26:51.115Z"
   },
   {
    "duration": 2322981,
    "start_time": "2022-09-10T18:26:51.121Z"
   },
   {
    "duration": 67,
    "start_time": "2022-09-10T19:05:34.104Z"
   },
   {
    "duration": 49,
    "start_time": "2022-09-10T19:05:34.173Z"
   },
   {
    "duration": 9,
    "start_time": "2022-09-10T19:05:34.224Z"
   },
   {
    "duration": 20,
    "start_time": "2022-09-10T19:05:34.235Z"
   },
   {
    "duration": 44,
    "start_time": "2022-09-10T19:05:34.257Z"
   },
   {
    "duration": 62,
    "start_time": "2022-09-10T19:05:34.303Z"
   },
   {
    "duration": 6,
    "start_time": "2022-09-10T19:05:34.367Z"
   },
   {
    "duration": 4,
    "start_time": "2022-09-10T19:05:34.392Z"
   },
   {
    "duration": 15,
    "start_time": "2022-09-10T19:05:34.398Z"
   },
   {
    "duration": 185703,
    "start_time": "2022-09-10T19:05:34.415Z"
   },
   {
    "duration": 780762,
    "start_time": "2022-09-10T19:08:40.120Z"
   },
   {
    "duration": 1538,
    "start_time": "2022-09-10T19:57:54.253Z"
   },
   {
    "duration": 914,
    "start_time": "2022-09-10T19:57:57.077Z"
   },
   {
    "duration": 13,
    "start_time": "2022-09-10T19:57:58.890Z"
   },
   {
    "duration": 261,
    "start_time": "2022-09-10T19:58:02.347Z"
   },
   {
    "duration": 3,
    "start_time": "2022-09-10T19:58:06.371Z"
   },
   {
    "duration": 4389,
    "start_time": "2022-09-10T19:58:07.339Z"
   },
   {
    "duration": 68,
    "start_time": "2022-09-10T19:58:25.238Z"
   },
   {
    "duration": 2654,
    "start_time": "2022-09-10T19:58:26.789Z"
   },
   {
    "duration": 536,
    "start_time": "2022-09-10T19:58:29.445Z"
   },
   {
    "duration": 4,
    "start_time": "2022-09-10T19:58:32.144Z"
   },
   {
    "duration": 4,
    "start_time": "2022-09-10T19:58:33.206Z"
   },
   {
    "duration": 6,
    "start_time": "2022-09-10T19:58:43.091Z"
   },
   {
    "duration": 823,
    "start_time": "2022-09-10T19:58:47.193Z"
   },
   {
    "duration": 8,
    "start_time": "2022-09-10T19:58:48.721Z"
   },
   {
    "duration": 265,
    "start_time": "2022-09-10T19:58:49.879Z"
   },
   {
    "duration": 5,
    "start_time": "2022-09-10T19:58:52.617Z"
   },
   {
    "duration": 4391,
    "start_time": "2022-09-10T19:58:53.710Z"
   },
   {
    "duration": 82,
    "start_time": "2022-09-10T19:59:01.512Z"
   },
   {
    "duration": 3,
    "start_time": "2022-09-10T19:59:02.576Z"
   },
   {
    "duration": 462,
    "start_time": "2022-09-10T19:59:04.501Z"
   },
   {
    "duration": 3,
    "start_time": "2022-09-10T19:59:05.873Z"
   },
   {
    "duration": 4,
    "start_time": "2022-09-10T19:59:06.689Z"
   },
   {
    "duration": 1576,
    "start_time": "2022-09-11T05:55:32.183Z"
   },
   {
    "duration": 3270,
    "start_time": "2022-09-11T05:55:33.762Z"
   },
   {
    "duration": 16,
    "start_time": "2022-09-11T05:55:37.034Z"
   },
   {
    "duration": 243,
    "start_time": "2022-09-11T05:55:37.052Z"
   },
   {
    "duration": 3,
    "start_time": "2022-09-11T05:55:37.298Z"
   },
   {
    "duration": 4532,
    "start_time": "2022-09-11T05:55:37.303Z"
   },
   {
    "duration": 82,
    "start_time": "2022-09-11T05:55:41.838Z"
   },
   {
    "duration": 2843,
    "start_time": "2022-09-11T05:55:41.922Z"
   },
   {
    "duration": 516,
    "start_time": "2022-09-11T05:55:44.767Z"
   },
   {
    "duration": 6,
    "start_time": "2022-09-11T05:55:45.285Z"
   },
   {
    "duration": 2391936,
    "start_time": "2022-09-11T05:55:45.293Z"
   },
   {
    "duration": 66,
    "start_time": "2022-09-11T06:35:37.232Z"
   },
   {
    "duration": 30,
    "start_time": "2022-09-11T06:35:37.300Z"
   },
   {
    "duration": 9,
    "start_time": "2022-09-11T06:35:37.333Z"
   },
   {
    "duration": 3351,
    "start_time": "2022-09-11T06:35:37.344Z"
   },
   {
    "duration": 6,
    "start_time": "2022-09-11T06:35:40.697Z"
   },
   {
    "duration": 862,
    "start_time": "2022-09-11T06:35:40.704Z"
   },
   {
    "duration": 58,
    "start_time": "2022-09-11T06:35:41.568Z"
   },
   {
    "duration": 5,
    "start_time": "2022-09-11T06:35:41.627Z"
   },
   {
    "duration": 4,
    "start_time": "2022-09-11T06:35:41.633Z"
   },
   {
    "duration": 11,
    "start_time": "2022-09-11T06:35:41.639Z"
   },
   {
    "duration": 187079,
    "start_time": "2022-09-11T06:35:41.652Z"
   },
   {
    "duration": 771271,
    "start_time": "2022-09-11T06:38:48.733Z"
   },
   {
    "duration": 1115489,
    "start_time": "2022-09-11T06:51:40.006Z"
   },
   {
    "duration": 3309,
    "start_time": "2022-09-11T07:10:15.497Z"
   },
   {
    "duration": 216,
    "start_time": "2022-09-11T07:10:18.808Z"
   },
   {
    "duration": 0,
    "start_time": "2022-09-11T07:10:19.026Z"
   },
   {
    "duration": 0,
    "start_time": "2022-09-11T07:10:19.027Z"
   },
   {
    "duration": 0,
    "start_time": "2022-09-11T07:10:19.029Z"
   },
   {
    "duration": 506,
    "start_time": "2022-09-11T07:22:46.978Z"
   },
   {
    "duration": 1797,
    "start_time": "2022-09-11T12:17:46.883Z"
   },
   {
    "duration": 3289,
    "start_time": "2022-09-11T12:17:48.682Z"
   },
   {
    "duration": 16,
    "start_time": "2022-09-11T12:17:51.972Z"
   },
   {
    "duration": 228,
    "start_time": "2022-09-11T12:17:51.990Z"
   },
   {
    "duration": 3,
    "start_time": "2022-09-11T12:17:52.221Z"
   },
   {
    "duration": 4203,
    "start_time": "2022-09-11T12:17:52.226Z"
   },
   {
    "duration": 80,
    "start_time": "2022-09-11T12:17:56.430Z"
   },
   {
    "duration": 3396,
    "start_time": "2022-09-11T12:17:56.512Z"
   },
   {
    "duration": 635,
    "start_time": "2022-09-11T12:17:59.910Z"
   },
   {
    "duration": 7,
    "start_time": "2022-09-11T12:18:00.546Z"
   },
   {
    "duration": 2258256,
    "start_time": "2022-09-11T12:18:00.555Z"
   },
   {
    "duration": 69,
    "start_time": "2022-09-11T12:55:38.813Z"
   },
   {
    "duration": 31,
    "start_time": "2022-09-11T12:55:38.884Z"
   },
   {
    "duration": 9,
    "start_time": "2022-09-11T12:55:38.917Z"
   },
   {
    "duration": 8,
    "start_time": "2022-09-11T12:55:38.928Z"
   },
   {
    "duration": 45,
    "start_time": "2022-09-11T12:55:38.938Z"
   },
   {
    "duration": 60,
    "start_time": "2022-09-11T12:55:38.984Z"
   },
   {
    "duration": 5,
    "start_time": "2022-09-11T12:55:39.046Z"
   },
   {
    "duration": 22,
    "start_time": "2022-09-11T12:55:39.053Z"
   },
   {
    "duration": 9,
    "start_time": "2022-09-11T12:55:39.081Z"
   },
   {
    "duration": 184954,
    "start_time": "2022-09-11T12:55:39.092Z"
   },
   {
    "duration": 777253,
    "start_time": "2022-09-11T12:58:44.048Z"
   },
   {
    "duration": 2658523,
    "start_time": "2022-09-11T13:11:41.303Z"
   },
   {
    "duration": 2272999,
    "start_time": "2022-09-11T13:55:59.828Z"
   },
   {
    "duration": 10,
    "start_time": "2022-09-11T14:33:52.828Z"
   },
   {
    "duration": 12,
    "start_time": "2022-09-11T14:33:52.839Z"
   },
   {
    "duration": 1819,
    "start_time": "2022-09-11T14:33:52.853Z"
   },
   {
    "duration": 1609,
    "start_time": "2022-12-02T17:47:50.053Z"
   },
   {
    "duration": 3861,
    "start_time": "2022-12-02T17:47:51.665Z"
   },
   {
    "duration": 16,
    "start_time": "2022-12-02T17:47:55.528Z"
   },
   {
    "duration": 242,
    "start_time": "2022-12-02T17:47:55.546Z"
   },
   {
    "duration": 3,
    "start_time": "2022-12-02T17:47:55.791Z"
   },
   {
    "duration": 4013,
    "start_time": "2022-12-02T17:47:55.796Z"
   },
   {
    "duration": 77,
    "start_time": "2022-12-02T17:47:59.810Z"
   },
   {
    "duration": 2630,
    "start_time": "2022-12-02T17:47:59.889Z"
   },
   {
    "duration": 645,
    "start_time": "2022-12-02T17:48:02.520Z"
   },
   {
    "duration": 4,
    "start_time": "2022-12-02T17:48:03.168Z"
   },
   {
    "duration": 2201244,
    "start_time": "2022-12-02T17:48:03.173Z"
   },
   {
    "duration": 65,
    "start_time": "2022-12-02T18:24:44.419Z"
   },
   {
    "duration": 32,
    "start_time": "2022-12-02T18:24:44.485Z"
   },
   {
    "duration": 14,
    "start_time": "2022-12-02T18:24:44.518Z"
   },
   {
    "duration": 9,
    "start_time": "2022-12-02T18:24:44.533Z"
   },
   {
    "duration": 41,
    "start_time": "2022-12-02T18:24:44.544Z"
   },
   {
    "duration": 52,
    "start_time": "2022-12-02T18:24:44.586Z"
   },
   {
    "duration": 6,
    "start_time": "2022-12-02T18:24:44.640Z"
   },
   {
    "duration": 6,
    "start_time": "2022-12-02T18:24:44.647Z"
   },
   {
    "duration": 28,
    "start_time": "2022-12-02T18:24:44.654Z"
   },
   {
    "duration": 703109,
    "start_time": "2022-12-02T18:27:44.631Z"
   },
   {
    "duration": 1250244,
    "start_time": "2022-12-02T18:39:27.741Z"
   },
   {
    "duration": 2117016,
    "start_time": "2022-12-02T19:00:17.986Z"
   },
   {
    "duration": 10,
    "start_time": "2022-12-02T19:35:35.003Z"
   },
   {
    "duration": 17,
    "start_time": "2022-12-02T19:35:35.014Z"
   },
   {
    "duration": 1666,
    "start_time": "2022-12-02T19:35:35.033Z"
   }
  ],
  "kernelspec": {
   "display_name": "Python 3 (ipykernel)",
   "language": "python",
   "name": "python3"
  },
  "language_info": {
   "codemirror_mode": {
    "name": "ipython",
    "version": 3
   },
   "file_extension": ".py",
   "mimetype": "text/x-python",
   "name": "python",
   "nbconvert_exporter": "python",
   "pygments_lexer": "ipython3",
   "version": "3.9.7"
  },
  "toc": {
   "base_numbering": 1,
   "nav_menu": {},
   "number_sections": true,
   "sideBar": true,
   "skip_h1_title": true,
   "title_cell": "Table of Contents",
   "title_sidebar": "Contents",
   "toc_cell": false,
   "toc_position": {},
   "toc_section_display": true,
   "toc_window_display": false
  }
 },
 "nbformat": 4,
 "nbformat_minor": 5
}
