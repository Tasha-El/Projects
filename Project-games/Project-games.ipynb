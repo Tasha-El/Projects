{
 "cells": [
  {
   "cell_type": "markdown",
   "id": "cf66fd83",
   "metadata": {},
   "source": [
    "# Выявление опрееляющих успешность игры закономерности"
   ]
  },
  {
   "cell_type": "markdown",
   "id": "b5422ac8",
   "metadata": {},
   "source": [
    "## Обзор данных"
   ]
  },
  {
   "cell_type": "code",
   "execution_count": 1,
   "id": "023f4cb7",
   "metadata": {},
   "outputs": [],
   "source": [
    "import pandas as pd \n",
    "import numpy as np\n",
    "import scipy.stats as st\n",
    "import datetime\n",
    "from tqdm import tqdm\n",
    "import matplotlib.pyplot as plt\n",
    "import seaborn as sns"
   ]
  },
  {
   "cell_type": "code",
   "execution_count": 2,
   "id": "88c5032c",
   "metadata": {},
   "outputs": [],
   "source": [
    "df = pd.read_csv('/datasets/games.csv')"
   ]
  },
  {
   "cell_type": "code",
   "execution_count": 3,
   "id": "b26ae675",
   "metadata": {},
   "outputs": [
    {
     "data": {
      "text/html": [
       "<div>\n",
       "<style scoped>\n",
       "    .dataframe tbody tr th:only-of-type {\n",
       "        vertical-align: middle;\n",
       "    }\n",
       "\n",
       "    .dataframe tbody tr th {\n",
       "        vertical-align: top;\n",
       "    }\n",
       "\n",
       "    .dataframe thead th {\n",
       "        text-align: right;\n",
       "    }\n",
       "</style>\n",
       "<table border=\"1\" class=\"dataframe\">\n",
       "  <thead>\n",
       "    <tr style=\"text-align: right;\">\n",
       "      <th></th>\n",
       "      <th>Name</th>\n",
       "      <th>Platform</th>\n",
       "      <th>Year_of_Release</th>\n",
       "      <th>Genre</th>\n",
       "      <th>NA_sales</th>\n",
       "      <th>EU_sales</th>\n",
       "      <th>JP_sales</th>\n",
       "      <th>Other_sales</th>\n",
       "      <th>Critic_Score</th>\n",
       "      <th>User_Score</th>\n",
       "      <th>Rating</th>\n",
       "    </tr>\n",
       "  </thead>\n",
       "  <tbody>\n",
       "    <tr>\n",
       "      <th>0</th>\n",
       "      <td>Wii Sports</td>\n",
       "      <td>Wii</td>\n",
       "      <td>2006.0</td>\n",
       "      <td>Sports</td>\n",
       "      <td>41.36</td>\n",
       "      <td>28.96</td>\n",
       "      <td>3.77</td>\n",
       "      <td>8.45</td>\n",
       "      <td>76.0</td>\n",
       "      <td>8</td>\n",
       "      <td>E</td>\n",
       "    </tr>\n",
       "    <tr>\n",
       "      <th>1</th>\n",
       "      <td>Super Mario Bros.</td>\n",
       "      <td>NES</td>\n",
       "      <td>1985.0</td>\n",
       "      <td>Platform</td>\n",
       "      <td>29.08</td>\n",
       "      <td>3.58</td>\n",
       "      <td>6.81</td>\n",
       "      <td>0.77</td>\n",
       "      <td>NaN</td>\n",
       "      <td>NaN</td>\n",
       "      <td>NaN</td>\n",
       "    </tr>\n",
       "    <tr>\n",
       "      <th>2</th>\n",
       "      <td>Mario Kart Wii</td>\n",
       "      <td>Wii</td>\n",
       "      <td>2008.0</td>\n",
       "      <td>Racing</td>\n",
       "      <td>15.68</td>\n",
       "      <td>12.76</td>\n",
       "      <td>3.79</td>\n",
       "      <td>3.29</td>\n",
       "      <td>82.0</td>\n",
       "      <td>8.3</td>\n",
       "      <td>E</td>\n",
       "    </tr>\n",
       "    <tr>\n",
       "      <th>3</th>\n",
       "      <td>Wii Sports Resort</td>\n",
       "      <td>Wii</td>\n",
       "      <td>2009.0</td>\n",
       "      <td>Sports</td>\n",
       "      <td>15.61</td>\n",
       "      <td>10.93</td>\n",
       "      <td>3.28</td>\n",
       "      <td>2.95</td>\n",
       "      <td>80.0</td>\n",
       "      <td>8</td>\n",
       "      <td>E</td>\n",
       "    </tr>\n",
       "    <tr>\n",
       "      <th>4</th>\n",
       "      <td>Pokemon Red/Pokemon Blue</td>\n",
       "      <td>GB</td>\n",
       "      <td>1996.0</td>\n",
       "      <td>Role-Playing</td>\n",
       "      <td>11.27</td>\n",
       "      <td>8.89</td>\n",
       "      <td>10.22</td>\n",
       "      <td>1.00</td>\n",
       "      <td>NaN</td>\n",
       "      <td>NaN</td>\n",
       "      <td>NaN</td>\n",
       "    </tr>\n",
       "    <tr>\n",
       "      <th>5</th>\n",
       "      <td>Tetris</td>\n",
       "      <td>GB</td>\n",
       "      <td>1989.0</td>\n",
       "      <td>Puzzle</td>\n",
       "      <td>23.20</td>\n",
       "      <td>2.26</td>\n",
       "      <td>4.22</td>\n",
       "      <td>0.58</td>\n",
       "      <td>NaN</td>\n",
       "      <td>NaN</td>\n",
       "      <td>NaN</td>\n",
       "    </tr>\n",
       "    <tr>\n",
       "      <th>6</th>\n",
       "      <td>New Super Mario Bros.</td>\n",
       "      <td>DS</td>\n",
       "      <td>2006.0</td>\n",
       "      <td>Platform</td>\n",
       "      <td>11.28</td>\n",
       "      <td>9.14</td>\n",
       "      <td>6.50</td>\n",
       "      <td>2.88</td>\n",
       "      <td>89.0</td>\n",
       "      <td>8.5</td>\n",
       "      <td>E</td>\n",
       "    </tr>\n",
       "    <tr>\n",
       "      <th>7</th>\n",
       "      <td>Wii Play</td>\n",
       "      <td>Wii</td>\n",
       "      <td>2006.0</td>\n",
       "      <td>Misc</td>\n",
       "      <td>13.96</td>\n",
       "      <td>9.18</td>\n",
       "      <td>2.93</td>\n",
       "      <td>2.84</td>\n",
       "      <td>58.0</td>\n",
       "      <td>6.6</td>\n",
       "      <td>E</td>\n",
       "    </tr>\n",
       "    <tr>\n",
       "      <th>8</th>\n",
       "      <td>New Super Mario Bros. Wii</td>\n",
       "      <td>Wii</td>\n",
       "      <td>2009.0</td>\n",
       "      <td>Platform</td>\n",
       "      <td>14.44</td>\n",
       "      <td>6.94</td>\n",
       "      <td>4.70</td>\n",
       "      <td>2.24</td>\n",
       "      <td>87.0</td>\n",
       "      <td>8.4</td>\n",
       "      <td>E</td>\n",
       "    </tr>\n",
       "    <tr>\n",
       "      <th>9</th>\n",
       "      <td>Duck Hunt</td>\n",
       "      <td>NES</td>\n",
       "      <td>1984.0</td>\n",
       "      <td>Shooter</td>\n",
       "      <td>26.93</td>\n",
       "      <td>0.63</td>\n",
       "      <td>0.28</td>\n",
       "      <td>0.47</td>\n",
       "      <td>NaN</td>\n",
       "      <td>NaN</td>\n",
       "      <td>NaN</td>\n",
       "    </tr>\n",
       "  </tbody>\n",
       "</table>\n",
       "</div>"
      ],
      "text/plain": [
       "                        Name Platform  Year_of_Release         Genre  \\\n",
       "0                 Wii Sports      Wii           2006.0        Sports   \n",
       "1          Super Mario Bros.      NES           1985.0      Platform   \n",
       "2             Mario Kart Wii      Wii           2008.0        Racing   \n",
       "3          Wii Sports Resort      Wii           2009.0        Sports   \n",
       "4   Pokemon Red/Pokemon Blue       GB           1996.0  Role-Playing   \n",
       "5                     Tetris       GB           1989.0        Puzzle   \n",
       "6      New Super Mario Bros.       DS           2006.0      Platform   \n",
       "7                   Wii Play      Wii           2006.0          Misc   \n",
       "8  New Super Mario Bros. Wii      Wii           2009.0      Platform   \n",
       "9                  Duck Hunt      NES           1984.0       Shooter   \n",
       "\n",
       "   NA_sales  EU_sales  JP_sales  Other_sales  Critic_Score User_Score Rating  \n",
       "0     41.36     28.96      3.77         8.45          76.0          8      E  \n",
       "1     29.08      3.58      6.81         0.77           NaN        NaN    NaN  \n",
       "2     15.68     12.76      3.79         3.29          82.0        8.3      E  \n",
       "3     15.61     10.93      3.28         2.95          80.0          8      E  \n",
       "4     11.27      8.89     10.22         1.00           NaN        NaN    NaN  \n",
       "5     23.20      2.26      4.22         0.58           NaN        NaN    NaN  \n",
       "6     11.28      9.14      6.50         2.88          89.0        8.5      E  \n",
       "7     13.96      9.18      2.93         2.84          58.0        6.6      E  \n",
       "8     14.44      6.94      4.70         2.24          87.0        8.4      E  \n",
       "9     26.93      0.63      0.28         0.47           NaN        NaN    NaN  "
      ]
     },
     "execution_count": 3,
     "metadata": {},
     "output_type": "execute_result"
    }
   ],
   "source": [
    "df.head(10)"
   ]
  },
  {
   "cell_type": "code",
   "execution_count": 4,
   "id": "aec26ef9",
   "metadata": {},
   "outputs": [
    {
     "name": "stdout",
     "output_type": "stream",
     "text": [
      "<class 'pandas.core.frame.DataFrame'>\n",
      "RangeIndex: 16715 entries, 0 to 16714\n",
      "Data columns (total 11 columns):\n",
      " #   Column           Non-Null Count  Dtype  \n",
      "---  ------           --------------  -----  \n",
      " 0   Name             16713 non-null  object \n",
      " 1   Platform         16715 non-null  object \n",
      " 2   Year_of_Release  16446 non-null  float64\n",
      " 3   Genre            16713 non-null  object \n",
      " 4   NA_sales         16715 non-null  float64\n",
      " 5   EU_sales         16715 non-null  float64\n",
      " 6   JP_sales         16715 non-null  float64\n",
      " 7   Other_sales      16715 non-null  float64\n",
      " 8   Critic_Score     8137 non-null   float64\n",
      " 9   User_Score       10014 non-null  object \n",
      " 10  Rating           9949 non-null   object \n",
      "dtypes: float64(6), object(5)\n",
      "memory usage: 1.4+ MB\n"
     ]
    }
   ],
   "source": [
    "df.info()"
   ]
  },
  {
   "cell_type": "markdown",
   "id": "ff2cfb1d",
   "metadata": {},
   "source": [
    "В таблице 11 столбцов с двумя типами данных: object и float. \n",
    "Object столбцы:\n",
    "- name (название игры)  \n",
    "- platform (платформа) Нужно проверить на наличие неявных дубликатов. \n",
    "- genre (жанр игры) Так же лучше проверить на наличие неявных дубликатов. \n",
    "- user_score (оценка пользователей, максимум 10) Нужно изменить тип данных на float, так как оценка - число. \n",
    "- rating (рейтинг от организации ESRB) Оценка категорийная, используются буквы алфавита, также можно проверить на наличие неявнях дубликатов. \n",
    "\n",
    "Float столбцы:\n",
    "- year_of_release (год выпуска) Нужно изменить тип данных на int. \n",
    "- na_sales (продажи в Северной Америке (миллионы проданных копий))       \n",
    "- eu_sales (продажи в Европе (миллионы проданных копий))        \n",
    "- jp_sales (продажи в Японии (миллионы проданных копий))       \n",
    "- other_sales (продажи в других странах (миллионы проданных копий))    \n",
    "- critic_score (оценка критиков (максимум 100)) Нужно изменить тип данных на int.     \n",
    "Что касается продаж, то в столбцах указаны сокращенные цифры, поэтому тип float. \n",
    "Также необходимо привести названия столбцов к ниженму регистру. \n",
    "\n",
    "Количество значений в столбцах различается. Значит, в данных есть пропущенные значения."
   ]
  },
  {
   "cell_type": "code",
   "execution_count": 5,
   "id": "0269c03c",
   "metadata": {},
   "outputs": [
    {
     "data": {
      "text/plain": [
       "Name                  2\n",
       "Platform              0\n",
       "Year_of_Release     269\n",
       "Genre                 2\n",
       "NA_sales              0\n",
       "EU_sales              0\n",
       "JP_sales              0\n",
       "Other_sales           0\n",
       "Critic_Score       8578\n",
       "User_Score         6701\n",
       "Rating             6766\n",
       "dtype: int64"
      ]
     },
     "execution_count": 5,
     "metadata": {},
     "output_type": "execute_result"
    }
   ],
   "source": [
    "# подсчёт пропусков\n",
    "df.isna().sum()"
   ]
  },
  {
   "cell_type": "code",
   "execution_count": 6,
   "id": "795ae445",
   "metadata": {},
   "outputs": [
    {
     "data": {
      "text/plain": [
       "0"
      ]
     },
     "execution_count": 6,
     "metadata": {},
     "output_type": "execute_result"
    }
   ],
   "source": [
    "# проверка на дубликаты \n",
    "df.duplicated().sum()"
   ]
  },
  {
   "cell_type": "markdown",
   "id": "7e8dc021",
   "metadata": {},
   "source": [
    "Пропуски в названии игры скорее всего случайны. Лучше удалить эти две строки, они не повлияют на расчеты в дальнейшем. \n",
    "Пропуски в годах выпуска наверняка случайно образовались. \n",
    "Пропуски в рейтинге, оценке пользователей и оценке критиков возможны, если игры не оценивали, или еще нет данных. Пропуски в рейтинге можно заменить на \"unknown\". Пропуски в оценках критиков пока лучше оставить как есть. Стоит отметить, что в столбце с оценкой пользователей встречается аббревиатура 'tbd'. Даннаяя аббревиатура встречается в геймерском языке и расшифровывается как - To Be Determined или to be done, то есть \"Будет определено\". 'tbd' - можно заменить на NaN и привести у нужному типу.  "
   ]
  },
  {
   "cell_type": "markdown",
   "id": "bb9d39f0",
   "metadata": {},
   "source": [
    "Предварительно можно утверждать, что, данных достаточно для проверки гипотез. Но встречаются пропуски в данных, а в названиях колонок — расхождения с хорошим стилем.\n",
    "Чтобы двигаться дальше, нужно устранить проблемы в данных."
   ]
  },
  {
   "cell_type": "markdown",
   "id": "85232fc7",
   "metadata": {},
   "source": [
    "## Предобработка данных"
   ]
  },
  {
   "cell_type": "markdown",
   "id": "c9721b94",
   "metadata": {},
   "source": [
    "### Стиль заголовков"
   ]
  },
  {
   "cell_type": "code",
   "execution_count": 7,
   "id": "e0862f61",
   "metadata": {},
   "outputs": [
    {
     "data": {
      "text/plain": [
       "Index(['Name', 'Platform', 'Year_of_Release', 'Genre', 'NA_sales', 'EU_sales',\n",
       "       'JP_sales', 'Other_sales', 'Critic_Score', 'User_Score', 'Rating'],\n",
       "      dtype='object')"
      ]
     },
     "execution_count": 7,
     "metadata": {},
     "output_type": "execute_result"
    }
   ],
   "source": [
    "df.columns"
   ]
  },
  {
   "cell_type": "code",
   "execution_count": 8,
   "id": "f6b502a0",
   "metadata": {},
   "outputs": [],
   "source": [
    "df.columns = df.columns.str.lower()"
   ]
  },
  {
   "cell_type": "code",
   "execution_count": 9,
   "id": "ede507c8",
   "metadata": {
    "scrolled": true
   },
   "outputs": [
    {
     "data": {
      "text/plain": [
       "Index(['name', 'platform', 'year_of_release', 'genre', 'na_sales', 'eu_sales',\n",
       "       'jp_sales', 'other_sales', 'critic_score', 'user_score', 'rating'],\n",
       "      dtype='object')"
      ]
     },
     "execution_count": 9,
     "metadata": {},
     "output_type": "execute_result"
    }
   ],
   "source": [
    "df.columns"
   ]
  },
  {
   "cell_type": "markdown",
   "id": "75dbcd1a",
   "metadata": {},
   "source": [
    "### Устранение пропусков "
   ]
  },
  {
   "cell_type": "code",
   "execution_count": 10,
   "id": "e94abf81",
   "metadata": {},
   "outputs": [],
   "source": [
    "# заполнение пропусков в столбце rating\n",
    "df['rating'] = df['rating'].fillna('unknown')"
   ]
  },
  {
   "cell_type": "code",
   "execution_count": 11,
   "id": "818699e2",
   "metadata": {},
   "outputs": [],
   "source": [
    "# удаление 2-х строк по столбцу name\n",
    "df = df.dropna(subset=['name'])"
   ]
  },
  {
   "cell_type": "code",
   "execution_count": 12,
   "id": "51a71901",
   "metadata": {},
   "outputs": [
    {
     "data": {
      "text/plain": [
       "name                  0\n",
       "platform              0\n",
       "year_of_release     269\n",
       "genre                 0\n",
       "na_sales              0\n",
       "eu_sales              0\n",
       "jp_sales              0\n",
       "other_sales           0\n",
       "critic_score       8576\n",
       "user_score         6699\n",
       "rating                0\n",
       "dtype: int64"
      ]
     },
     "execution_count": 12,
     "metadata": {},
     "output_type": "execute_result"
    }
   ],
   "source": [
    "# проверка после устранения пропусков\n",
    "df.isna().sum()"
   ]
  },
  {
   "cell_type": "markdown",
   "id": "824abeb4",
   "metadata": {},
   "source": [
    "### Изменение типа данных "
   ]
  },
  {
   "cell_type": "code",
   "execution_count": 13,
   "id": "895708bb",
   "metadata": {},
   "outputs": [],
   "source": [
    "# изменение типа данных в столбце user_score\n",
    "df['user_score'] = pd.to_numeric(df['user_score'],errors='coerce')"
   ]
  },
  {
   "cell_type": "code",
   "execution_count": 14,
   "id": "4d8d6eb7",
   "metadata": {},
   "outputs": [],
   "source": [
    "# изменение типа данных с толбце year_of_release\n",
    "df['year_of_release'] = df['year_of_release'].astype('Int64')"
   ]
  },
  {
   "cell_type": "code",
   "execution_count": 15,
   "id": "6cb7ef25",
   "metadata": {},
   "outputs": [
    {
     "name": "stdout",
     "output_type": "stream",
     "text": [
      "<class 'pandas.core.frame.DataFrame'>\n",
      "Int64Index: 16713 entries, 0 to 16714\n",
      "Data columns (total 11 columns):\n",
      " #   Column           Non-Null Count  Dtype  \n",
      "---  ------           --------------  -----  \n",
      " 0   name             16713 non-null  object \n",
      " 1   platform         16713 non-null  object \n",
      " 2   year_of_release  16444 non-null  Int64  \n",
      " 3   genre            16713 non-null  object \n",
      " 4   na_sales         16713 non-null  float64\n",
      " 5   eu_sales         16713 non-null  float64\n",
      " 6   jp_sales         16713 non-null  float64\n",
      " 7   other_sales      16713 non-null  float64\n",
      " 8   critic_score     8137 non-null   float64\n",
      " 9   user_score       7590 non-null   float64\n",
      " 10  rating           16713 non-null  object \n",
      "dtypes: Int64(1), float64(6), object(4)\n",
      "memory usage: 1.5+ MB\n"
     ]
    }
   ],
   "source": [
    "# проверка после изменения типа данных\n",
    "df.info()"
   ]
  },
  {
   "cell_type": "markdown",
   "id": "33ed7896",
   "metadata": {},
   "source": [
    "## Исследовательский анализ"
   ]
  },
  {
   "cell_type": "code",
   "execution_count": 16,
   "id": "76e2ea89",
   "metadata": {},
   "outputs": [],
   "source": [
    "# создание столбца с общими продажами\n",
    "df['total_sales'] = df['na_sales']+df['eu_sales']+df['jp_sales']+df['other_sales']"
   ]
  },
  {
   "cell_type": "code",
   "execution_count": 17,
   "id": "343014e0",
   "metadata": {},
   "outputs": [
    {
     "data": {
      "text/html": [
       "<div>\n",
       "<style scoped>\n",
       "    .dataframe tbody tr th:only-of-type {\n",
       "        vertical-align: middle;\n",
       "    }\n",
       "\n",
       "    .dataframe tbody tr th {\n",
       "        vertical-align: top;\n",
       "    }\n",
       "\n",
       "    .dataframe thead th {\n",
       "        text-align: right;\n",
       "    }\n",
       "</style>\n",
       "<table border=\"1\" class=\"dataframe\">\n",
       "  <thead>\n",
       "    <tr style=\"text-align: right;\">\n",
       "      <th></th>\n",
       "      <th>name</th>\n",
       "      <th>platform</th>\n",
       "      <th>year_of_release</th>\n",
       "      <th>genre</th>\n",
       "      <th>na_sales</th>\n",
       "      <th>eu_sales</th>\n",
       "      <th>jp_sales</th>\n",
       "      <th>other_sales</th>\n",
       "      <th>critic_score</th>\n",
       "      <th>user_score</th>\n",
       "      <th>rating</th>\n",
       "      <th>total_sales</th>\n",
       "    </tr>\n",
       "  </thead>\n",
       "  <tbody>\n",
       "    <tr>\n",
       "      <th>0</th>\n",
       "      <td>Wii Sports</td>\n",
       "      <td>Wii</td>\n",
       "      <td>2006</td>\n",
       "      <td>Sports</td>\n",
       "      <td>41.36</td>\n",
       "      <td>28.96</td>\n",
       "      <td>3.77</td>\n",
       "      <td>8.45</td>\n",
       "      <td>76.0</td>\n",
       "      <td>8.0</td>\n",
       "      <td>E</td>\n",
       "      <td>82.54</td>\n",
       "    </tr>\n",
       "    <tr>\n",
       "      <th>1</th>\n",
       "      <td>Super Mario Bros.</td>\n",
       "      <td>NES</td>\n",
       "      <td>1985</td>\n",
       "      <td>Platform</td>\n",
       "      <td>29.08</td>\n",
       "      <td>3.58</td>\n",
       "      <td>6.81</td>\n",
       "      <td>0.77</td>\n",
       "      <td>NaN</td>\n",
       "      <td>NaN</td>\n",
       "      <td>unknown</td>\n",
       "      <td>40.24</td>\n",
       "    </tr>\n",
       "    <tr>\n",
       "      <th>2</th>\n",
       "      <td>Mario Kart Wii</td>\n",
       "      <td>Wii</td>\n",
       "      <td>2008</td>\n",
       "      <td>Racing</td>\n",
       "      <td>15.68</td>\n",
       "      <td>12.76</td>\n",
       "      <td>3.79</td>\n",
       "      <td>3.29</td>\n",
       "      <td>82.0</td>\n",
       "      <td>8.3</td>\n",
       "      <td>E</td>\n",
       "      <td>35.52</td>\n",
       "    </tr>\n",
       "    <tr>\n",
       "      <th>3</th>\n",
       "      <td>Wii Sports Resort</td>\n",
       "      <td>Wii</td>\n",
       "      <td>2009</td>\n",
       "      <td>Sports</td>\n",
       "      <td>15.61</td>\n",
       "      <td>10.93</td>\n",
       "      <td>3.28</td>\n",
       "      <td>2.95</td>\n",
       "      <td>80.0</td>\n",
       "      <td>8.0</td>\n",
       "      <td>E</td>\n",
       "      <td>32.77</td>\n",
       "    </tr>\n",
       "    <tr>\n",
       "      <th>4</th>\n",
       "      <td>Pokemon Red/Pokemon Blue</td>\n",
       "      <td>GB</td>\n",
       "      <td>1996</td>\n",
       "      <td>Role-Playing</td>\n",
       "      <td>11.27</td>\n",
       "      <td>8.89</td>\n",
       "      <td>10.22</td>\n",
       "      <td>1.00</td>\n",
       "      <td>NaN</td>\n",
       "      <td>NaN</td>\n",
       "      <td>unknown</td>\n",
       "      <td>31.38</td>\n",
       "    </tr>\n",
       "    <tr>\n",
       "      <th>...</th>\n",
       "      <td>...</td>\n",
       "      <td>...</td>\n",
       "      <td>...</td>\n",
       "      <td>...</td>\n",
       "      <td>...</td>\n",
       "      <td>...</td>\n",
       "      <td>...</td>\n",
       "      <td>...</td>\n",
       "      <td>...</td>\n",
       "      <td>...</td>\n",
       "      <td>...</td>\n",
       "      <td>...</td>\n",
       "    </tr>\n",
       "    <tr>\n",
       "      <th>16710</th>\n",
       "      <td>Samurai Warriors: Sanada Maru</td>\n",
       "      <td>PS3</td>\n",
       "      <td>2016</td>\n",
       "      <td>Action</td>\n",
       "      <td>0.00</td>\n",
       "      <td>0.00</td>\n",
       "      <td>0.01</td>\n",
       "      <td>0.00</td>\n",
       "      <td>NaN</td>\n",
       "      <td>NaN</td>\n",
       "      <td>unknown</td>\n",
       "      <td>0.01</td>\n",
       "    </tr>\n",
       "    <tr>\n",
       "      <th>16711</th>\n",
       "      <td>LMA Manager 2007</td>\n",
       "      <td>X360</td>\n",
       "      <td>2006</td>\n",
       "      <td>Sports</td>\n",
       "      <td>0.00</td>\n",
       "      <td>0.01</td>\n",
       "      <td>0.00</td>\n",
       "      <td>0.00</td>\n",
       "      <td>NaN</td>\n",
       "      <td>NaN</td>\n",
       "      <td>unknown</td>\n",
       "      <td>0.01</td>\n",
       "    </tr>\n",
       "    <tr>\n",
       "      <th>16712</th>\n",
       "      <td>Haitaka no Psychedelica</td>\n",
       "      <td>PSV</td>\n",
       "      <td>2016</td>\n",
       "      <td>Adventure</td>\n",
       "      <td>0.00</td>\n",
       "      <td>0.00</td>\n",
       "      <td>0.01</td>\n",
       "      <td>0.00</td>\n",
       "      <td>NaN</td>\n",
       "      <td>NaN</td>\n",
       "      <td>unknown</td>\n",
       "      <td>0.01</td>\n",
       "    </tr>\n",
       "    <tr>\n",
       "      <th>16713</th>\n",
       "      <td>Spirits &amp; Spells</td>\n",
       "      <td>GBA</td>\n",
       "      <td>2003</td>\n",
       "      <td>Platform</td>\n",
       "      <td>0.01</td>\n",
       "      <td>0.00</td>\n",
       "      <td>0.00</td>\n",
       "      <td>0.00</td>\n",
       "      <td>NaN</td>\n",
       "      <td>NaN</td>\n",
       "      <td>unknown</td>\n",
       "      <td>0.01</td>\n",
       "    </tr>\n",
       "    <tr>\n",
       "      <th>16714</th>\n",
       "      <td>Winning Post 8 2016</td>\n",
       "      <td>PSV</td>\n",
       "      <td>2016</td>\n",
       "      <td>Simulation</td>\n",
       "      <td>0.00</td>\n",
       "      <td>0.00</td>\n",
       "      <td>0.01</td>\n",
       "      <td>0.00</td>\n",
       "      <td>NaN</td>\n",
       "      <td>NaN</td>\n",
       "      <td>unknown</td>\n",
       "      <td>0.01</td>\n",
       "    </tr>\n",
       "  </tbody>\n",
       "</table>\n",
       "<p>16713 rows × 12 columns</p>\n",
       "</div>"
      ],
      "text/plain": [
       "                                name platform  year_of_release         genre  \\\n",
       "0                         Wii Sports      Wii             2006        Sports   \n",
       "1                  Super Mario Bros.      NES             1985      Platform   \n",
       "2                     Mario Kart Wii      Wii             2008        Racing   \n",
       "3                  Wii Sports Resort      Wii             2009        Sports   \n",
       "4           Pokemon Red/Pokemon Blue       GB             1996  Role-Playing   \n",
       "...                              ...      ...              ...           ...   \n",
       "16710  Samurai Warriors: Sanada Maru      PS3             2016        Action   \n",
       "16711               LMA Manager 2007     X360             2006        Sports   \n",
       "16712        Haitaka no Psychedelica      PSV             2016     Adventure   \n",
       "16713               Spirits & Spells      GBA             2003      Platform   \n",
       "16714            Winning Post 8 2016      PSV             2016    Simulation   \n",
       "\n",
       "       na_sales  eu_sales  jp_sales  other_sales  critic_score  user_score  \\\n",
       "0         41.36     28.96      3.77         8.45          76.0         8.0   \n",
       "1         29.08      3.58      6.81         0.77           NaN         NaN   \n",
       "2         15.68     12.76      3.79         3.29          82.0         8.3   \n",
       "3         15.61     10.93      3.28         2.95          80.0         8.0   \n",
       "4         11.27      8.89     10.22         1.00           NaN         NaN   \n",
       "...         ...       ...       ...          ...           ...         ...   \n",
       "16710      0.00      0.00      0.01         0.00           NaN         NaN   \n",
       "16711      0.00      0.01      0.00         0.00           NaN         NaN   \n",
       "16712      0.00      0.00      0.01         0.00           NaN         NaN   \n",
       "16713      0.01      0.00      0.00         0.00           NaN         NaN   \n",
       "16714      0.00      0.00      0.01         0.00           NaN         NaN   \n",
       "\n",
       "        rating  total_sales  \n",
       "0            E        82.54  \n",
       "1      unknown        40.24  \n",
       "2            E        35.52  \n",
       "3            E        32.77  \n",
       "4      unknown        31.38  \n",
       "...        ...          ...  \n",
       "16710  unknown         0.01  \n",
       "16711  unknown         0.01  \n",
       "16712  unknown         0.01  \n",
       "16713  unknown         0.01  \n",
       "16714  unknown         0.01  \n",
       "\n",
       "[16713 rows x 12 columns]"
      ]
     },
     "execution_count": 17,
     "metadata": {},
     "output_type": "execute_result"
    }
   ],
   "source": [
    "df"
   ]
  },
  {
   "cell_type": "markdown",
   "id": "e0bb29cd",
   "metadata": {},
   "source": [
    "### Cколько игр выпускалось в разные годы. Важны ли данные за все периоды?"
   ]
  },
  {
   "cell_type": "code",
   "execution_count": 18,
   "id": "154f4740",
   "metadata": {},
   "outputs": [
    {
     "data": {
      "text/plain": [
       "Text(0, 0.5, 'Количество выпущенных игр')"
      ]
     },
     "execution_count": 18,
     "metadata": {},
     "output_type": "execute_result"
    },
    {
     "data": {
      "image/png": "[encoded data removed]",
      "text/plain": [
       "<Figure size 432x288 with 1 Axes>"
      ]
     },
     "metadata": {
      "needs_background": "light"
     },
     "output_type": "display_data"
    }
   ],
   "source": [
    "# создание таблицы и графика с выпущенными играми по годам\n",
    "pivot_years = df.pivot_table(index='year_of_release',values='name',aggfunc='count').plot(grid=True)\n",
    "plt.title('Количество игр выпускаемые в разные года')\n",
    "plt.xlabel('Год выпуска')\n",
    "plt.ylabel('Количество выпущенных игр')"
   ]
  },
  {
   "cell_type": "markdown",
   "id": "388c1356",
   "metadata": {},
   "source": [
    "Из графика видно, что с 1990 года начался рост выпуска консольных игр и рост продолжался вплоть до 2007 года. И уже с где-то с 2008 года наблюдается спад. Стоит отметить, что в 1997 году начали внедрять игры на мобильные телефоны. И уже в 2008 году игры на мобильных начали набирать популярность, на смену кнопочным телефонам, пришли смартфоны, которые становились значительно мощнее, открыв новые возможности в создании игр для разработчиков. Первой популярной игрой стала Angry Birds. Через год релиза её скачали более миллиона раз. Это пришлось как раз на 2008-2009 года. \n",
    "Важными данными можно считать данные за период с 1995 по 2016 года. "
   ]
  },
  {
   "cell_type": "markdown",
   "id": "f2b3b2b2",
   "metadata": {},
   "source": [
    "### Проверим как менялись продажи по платформам. Выберим платформы с наибольшими суммарными продажами и построим распределение по годам. За какой характерный срок появляются новые и исчезают старые платформы?"
   ]
  },
  {
   "cell_type": "code",
   "execution_count": 19,
   "id": "60c3adae",
   "metadata": {},
   "outputs": [
    {
     "data": {
      "text/plain": [
       "Text(0, 0.5, 'Сумма продаж')"
      ]
     },
     "execution_count": 19,
     "metadata": {},
     "output_type": "execute_result"
    },
    {
     "data": {
      "image/png": "[encoded data removed]",
      "text/plain": [
       "<Figure size 720x360 with 1 Axes>"
      ]
     },
     "metadata": {
      "needs_background": "light"
     },
     "output_type": "display_data"
    }
   ],
   "source": [
    "# создание таблицы и построение графика по платформам\n",
    "pivot_platform = df.pivot_table(index='platform',values='total_sales',aggfunc='sum').sort_values(by='total_sales',ascending=False).plot(kind='bar',figsize=(10,5))\n",
    "plt.title('Платформы с сумарными продажами')\n",
    "plt.xlabel('Название платформы')\n",
    "plt.ylabel('Сумма продаж')"
   ]
  },
  {
   "cell_type": "markdown",
   "id": "fdb4dfa5",
   "metadata": {},
   "source": [
    "Платформы с наибольшими суммарными продажами в порядке убывания: PS2, X360, PS3, Wii, DS, PS."
   ]
  },
  {
   "cell_type": "code",
   "execution_count": 20,
   "id": "72b3da5b",
   "metadata": {},
   "outputs": [
    {
     "data": {
      "text/html": [
       "<div>\n",
       "<style scoped>\n",
       "    .dataframe tbody tr th:only-of-type {\n",
       "        vertical-align: middle;\n",
       "    }\n",
       "\n",
       "    .dataframe tbody tr th {\n",
       "        vertical-align: top;\n",
       "    }\n",
       "\n",
       "    .dataframe thead th {\n",
       "        text-align: right;\n",
       "    }\n",
       "</style>\n",
       "<table border=\"1\" class=\"dataframe\">\n",
       "  <thead>\n",
       "    <tr style=\"text-align: right;\">\n",
       "      <th></th>\n",
       "      <th>year_of_release</th>\n",
       "      <th>na_sales</th>\n",
       "      <th>eu_sales</th>\n",
       "      <th>jp_sales</th>\n",
       "      <th>other_sales</th>\n",
       "      <th>critic_score</th>\n",
       "      <th>user_score</th>\n",
       "      <th>total_sales</th>\n",
       "    </tr>\n",
       "  </thead>\n",
       "  <tbody>\n",
       "    <tr>\n",
       "      <th>count</th>\n",
       "      <td>9262.000000</td>\n",
       "      <td>9422.000000</td>\n",
       "      <td>9422.000000</td>\n",
       "      <td>9422.000000</td>\n",
       "      <td>9422.000000</td>\n",
       "      <td>4536.000000</td>\n",
       "      <td>4322.000000</td>\n",
       "      <td>9422.000000</td>\n",
       "    </tr>\n",
       "    <tr>\n",
       "      <th>mean</th>\n",
       "      <td>2006.758799</td>\n",
       "      <td>0.296712</td>\n",
       "      <td>0.170351</td>\n",
       "      <td>0.065436</td>\n",
       "      <td>0.063057</td>\n",
       "      <td>67.580908</td>\n",
       "      <td>7.055877</td>\n",
       "      <td>0.595556</td>\n",
       "    </tr>\n",
       "    <tr>\n",
       "      <th>std</th>\n",
       "      <td>4.514636</td>\n",
       "      <td>0.839197</td>\n",
       "      <td>0.589065</td>\n",
       "      <td>0.270931</td>\n",
       "      <td>0.233196</td>\n",
       "      <td>14.414530</td>\n",
       "      <td>1.517029</td>\n",
       "      <td>1.706487</td>\n",
       "    </tr>\n",
       "    <tr>\n",
       "      <th>min</th>\n",
       "      <td>1985.000000</td>\n",
       "      <td>0.000000</td>\n",
       "      <td>0.000000</td>\n",
       "      <td>0.000000</td>\n",
       "      <td>0.000000</td>\n",
       "      <td>13.000000</td>\n",
       "      <td>0.000000</td>\n",
       "      <td>0.000000</td>\n",
       "    </tr>\n",
       "    <tr>\n",
       "      <th>25%</th>\n",
       "      <td>2005.000000</td>\n",
       "      <td>0.020000</td>\n",
       "      <td>0.000000</td>\n",
       "      <td>0.000000</td>\n",
       "      <td>0.000000</td>\n",
       "      <td>58.000000</td>\n",
       "      <td>6.300000</td>\n",
       "      <td>0.080000</td>\n",
       "    </tr>\n",
       "    <tr>\n",
       "      <th>50%</th>\n",
       "      <td>2008.000000</td>\n",
       "      <td>0.100000</td>\n",
       "      <td>0.030000</td>\n",
       "      <td>0.000000</td>\n",
       "      <td>0.020000</td>\n",
       "      <td>69.000000</td>\n",
       "      <td>7.400000</td>\n",
       "      <td>0.200000</td>\n",
       "    </tr>\n",
       "    <tr>\n",
       "      <th>75%</th>\n",
       "      <td>2010.000000</td>\n",
       "      <td>0.280000</td>\n",
       "      <td>0.140000</td>\n",
       "      <td>0.030000</td>\n",
       "      <td>0.050000</td>\n",
       "      <td>78.000000</td>\n",
       "      <td>8.200000</td>\n",
       "      <td>0.540000</td>\n",
       "    </tr>\n",
       "    <tr>\n",
       "      <th>max</th>\n",
       "      <td>2016.000000</td>\n",
       "      <td>41.360000</td>\n",
       "      <td>28.960000</td>\n",
       "      <td>6.500000</td>\n",
       "      <td>10.570000</td>\n",
       "      <td>98.000000</td>\n",
       "      <td>9.500000</td>\n",
       "      <td>82.540000</td>\n",
       "    </tr>\n",
       "  </tbody>\n",
       "</table>\n",
       "</div>"
      ],
      "text/plain": [
       "       year_of_release     na_sales     eu_sales     jp_sales  other_sales  \\\n",
       "count      9262.000000  9422.000000  9422.000000  9422.000000  9422.000000   \n",
       "mean       2006.758799     0.296712     0.170351     0.065436     0.063057   \n",
       "std           4.514636     0.839197     0.589065     0.270931     0.233196   \n",
       "min        1985.000000     0.000000     0.000000     0.000000     0.000000   \n",
       "25%        2005.000000     0.020000     0.000000     0.000000     0.000000   \n",
       "50%        2008.000000     0.100000     0.030000     0.000000     0.020000   \n",
       "75%        2010.000000     0.280000     0.140000     0.030000     0.050000   \n",
       "max        2016.000000    41.360000    28.960000     6.500000    10.570000   \n",
       "\n",
       "       critic_score   user_score  total_sales  \n",
       "count   4536.000000  4322.000000  9422.000000  \n",
       "mean      67.580908     7.055877     0.595556  \n",
       "std       14.414530     1.517029     1.706487  \n",
       "min       13.000000     0.000000     0.000000  \n",
       "25%       58.000000     6.300000     0.080000  \n",
       "50%       69.000000     7.400000     0.200000  \n",
       "75%       78.000000     8.200000     0.540000  \n",
       "max       98.000000     9.500000    82.540000  "
      ]
     },
     "execution_count": 20,
     "metadata": {},
     "output_type": "execute_result"
    }
   ],
   "source": [
    "# создание таблицы с платформами, по которым самые большие суммарные продажи \n",
    "qw = df.query('platform == [\"PS2\",\"X360\",\"PS3\",\"Wii\",\"DS\",\"PS\"]')\n",
    "qw.describe()"
   ]
  },
  {
   "cell_type": "code",
   "execution_count": 21,
   "id": "216ca876",
   "metadata": {},
   "outputs": [
    {
     "data": {
      "text/plain": [
       "Text(0, 0.5, 'Сумма продаж')"
      ]
     },
     "execution_count": 21,
     "metadata": {},
     "output_type": "execute_result"
    },
    {
     "data": {
      "image/png": "[encoded data removed]",
      "text/plain": [
       "<Figure size 432x288 with 1 Axes>"
      ]
     },
     "metadata": {
      "needs_background": "light"
     },
     "output_type": "display_data"
    }
   ],
   "source": [
    "qw.pivot_table(index='year_of_release', columns='platform', values='total_sales',aggfunc='sum').plot(grid=True)\n",
    "plt.title('Платформы с самыми большими сумарными продажами')\n",
    "plt.xlabel('Года')\n",
    "plt.ylabel('Сумма продаж')"
   ]
  },
  {
   "cell_type": "markdown",
   "id": "a6700ea2",
   "metadata": {},
   "source": [
    " Согласно графику средняя продолжительность существования платформы около 10 лет. Первые 5 лет наблюдается рост, последующие 5 лет графики показывают падение -  и так абсолютно для каждой платформы. \n",
    " Соотвественно, для того, чтобы построить прогоноз на следующий год, нужно взять информацию за предыдущие 3 года, т.е. с 2013 года. \n",
    " Бросается в глазаа платформа Wii - на графике видет резкий рост, и такой же резкий спад. "
   ]
  },
  {
   "cell_type": "code",
   "execution_count": 22,
   "id": "ea95ff66",
   "metadata": {},
   "outputs": [],
   "source": [
    "# Заполню года -1, чтобы сделать срез таблицы с 2010 года \n",
    "df['year_of_release'] = df['year_of_release'].fillna(-1).astype(int)"
   ]
  },
  {
   "cell_type": "code",
   "execution_count": 23,
   "id": "53094bd9",
   "metadata": {},
   "outputs": [],
   "source": [
    "data = df.query('year_of_release >= 2013')"
   ]
  },
  {
   "cell_type": "code",
   "execution_count": 24,
   "id": "d25f97c8",
   "metadata": {},
   "outputs": [],
   "source": [
    "df['year_of_release'] = df['year_of_release'].astype(str).replace('-1', np.nan)"
   ]
  },
  {
   "cell_type": "markdown",
   "id": "e0b3c36d",
   "metadata": {},
   "source": [
    "### Проверим какие платформы лидируют по продажам, растут или падают? Выберим несколько потенциально прибыльных платформ."
   ]
  },
  {
   "cell_type": "code",
   "execution_count": 25,
   "id": "56108559",
   "metadata": {},
   "outputs": [
    {
     "data": {
      "text/plain": [
       "Text(0, 0.5, 'Сумма продаж')"
      ]
     },
     "execution_count": 25,
     "metadata": {},
     "output_type": "execute_result"
    },
    {
     "data": {
      "image/png": "[encoded data removed]",
      "text/plain": [
       "<Figure size 720x360 with 1 Axes>"
      ]
     },
     "metadata": {
      "needs_background": "light"
     },
     "output_type": "display_data"
    }
   ],
   "source": [
    "# Вычисление наиболее потенциально прибыльных платформ\n",
    "pivot_data = data.pivot_table(index='platform',values='total_sales',aggfunc='sum').sort_values(by='total_sales',ascending=False).plot(kind='bar',figsize=(10,5))\n",
    "plt.title('Платформы с сумарными продажами')\n",
    "plt.xlabel('Название платформы')\n",
    "plt.ylabel('Сумма продаж')"
   ]
  },
  {
   "cell_type": "code",
   "execution_count": 26,
   "id": "f17a2819",
   "metadata": {},
   "outputs": [
    {
     "data": {
      "text/plain": [
       "Text(0, 0.5, 'Сумма продаж')"
      ]
     },
     "execution_count": 26,
     "metadata": {},
     "output_type": "execute_result"
    },
    {
     "data": {
      "image/png": "[encoded data removed]",
      "text/plain": [
       "<Figure size 432x288 with 1 Axes>"
      ]
     },
     "metadata": {
      "needs_background": "light"
     },
     "output_type": "display_data"
    }
   ],
   "source": [
    "data.query('platform == [\"X360\",\"PS3\",\"PS4\",\"3DS\",\"XOne\"]').pivot_table(index='year_of_release', columns='platform', values='total_sales',aggfunc='sum').plot(grid=True)\n",
    "plt.title('Платформы с самыми большими суммарными продажами')\n",
    "plt.xlabel('Года')\n",
    "plt.ylabel('Сумма продаж')"
   ]
  },
  {
   "cell_type": "markdown",
   "id": "11888883",
   "metadata": {},
   "source": [
    "Платформы с самыми большими суммарными продажами за последние 5 лет это: PS4, PS3, XOne, 3DS, X360. На всех платформах продажи падают. Выделяется PS4 - на данной платформе продажи лидируют по сравнению с другими. "
   ]
  },
  {
   "cell_type": "markdown",
   "id": "f4122b5c",
   "metadata": {},
   "source": [
    "### Построим график «ящик с усами» по глобальным продажам игр в разбивке по платформам  и опишем результат."
   ]
  },
  {
   "cell_type": "code",
   "execution_count": 27,
   "id": "3be6f080",
   "metadata": {},
   "outputs": [
    {
     "data": {
      "text/plain": [
       "count    1473.000000\n",
       "mean        0.634718\n",
       "std         1.454708\n",
       "min         0.010000\n",
       "25%         0.050000\n",
       "50%         0.170000\n",
       "75%         0.580000\n",
       "max        21.050000\n",
       "Name: total_sales, dtype: float64"
      ]
     },
     "execution_count": 27,
     "metadata": {},
     "output_type": "execute_result"
    }
   ],
   "source": [
    "# создание таблицы с самыми большими суммарными продажами за последние 5 лет\n",
    "df_top_platforms = data[data['platform'].isin(['PS4', 'PS3', 'XOne', '3DS', 'X360'])]\n",
    "df_top_platforms['total_sales'].describe()"
   ]
  },
  {
   "cell_type": "code",
   "execution_count": 28,
   "id": "974d29da",
   "metadata": {},
   "outputs": [
    {
     "data": {
      "text/plain": [
       "Text(0, 0.5, 'Глобальные продажи')"
      ]
     },
     "execution_count": 28,
     "metadata": {},
     "output_type": "execute_result"
    },
    {
     "data": {
      "image/png": "[encoded data removed]",
      "text/plain": [
       "<Figure size 432x288 with 1 Axes>"
      ]
     },
     "metadata": {
      "needs_background": "light"
     },
     "output_type": "display_data"
    }
   ],
   "source": [
    "# построение ящика с усами\n",
    "plt.ylim(0, 1)\n",
    "sns.boxplot(data=df_top_platforms, x='platform', y='total_sales')\n",
    "plt.title('Ящик с усами')\n",
    "plt.xlabel('Платформа')\n",
    "plt.ylabel('Глобальные продажи')"
   ]
  },
  {
   "cell_type": "markdown",
   "id": "67d935b1",
   "metadata": {},
   "source": [
    "Медиана у всех разная. Больше всего продаж на платформах X360 и PS4, похуже обстоят дела у XOne, PS3 и 3DS. \n",
    "Стоит отметить, что стандартное отклонение равно 1,59 - говорит о том, что в данных большой разброс по глобальным продажам. "
   ]
  },
  {
   "cell_type": "markdown",
   "id": "04e6d901",
   "metadata": {},
   "source": [
    "### Посмотрим, как влияют на продажи внутри одной популярной платформы отзывы пользователей и критиков. Построим диаграмму рассеяния и посчитаем корреляцию между отзывами и продажами."
   ]
  },
  {
   "cell_type": "code",
   "execution_count": 29,
   "id": "937f9520",
   "metadata": {},
   "outputs": [],
   "source": [
    "# возьмем для примера платформу X360\n",
    "pl_x360 = df_top_platforms.query('platform == \"X360\"')"
   ]
  },
  {
   "cell_type": "code",
   "execution_count": 30,
   "id": "9008a152",
   "metadata": {},
   "outputs": [
    {
     "data": {
      "text/plain": [
       "('Корреляция между оценками пользователей и продажами', -0.011742185147181351)"
      ]
     },
     "execution_count": 30,
     "metadata": {},
     "output_type": "execute_result"
    },
    {
     "data": {
      "image/png": "[encoded data removed]",
      "text/plain": [
       "<Figure size 432x288 with 1 Axes>"
      ]
     },
     "metadata": {
      "needs_background": "light"
     },
     "output_type": "display_data"
    }
   ],
   "source": [
    "pl_x360.plot(x='user_score', y='total_sales', style = 'o')\n",
    "('Корреляция между оценками пользователей и продажами', pl_x360['user_score'].corr(pl_x360['total_sales']))"
   ]
  },
  {
   "cell_type": "markdown",
   "id": "a98095a6",
   "metadata": {},
   "source": [
    "Корреляция в -0.012 говорит о том, что зависимости нет.  "
   ]
  },
  {
   "cell_type": "code",
   "execution_count": 31,
   "id": "7a0a3df6",
   "metadata": {},
   "outputs": [
    {
     "data": {
      "text/plain": [
       "('Корреляция между оценками критиков и продажами', 0.3503445460228664)"
      ]
     },
     "execution_count": 31,
     "metadata": {},
     "output_type": "execute_result"
    },
    {
     "data": {
      "image/png": "[encoded data removed]",
      "text/plain": [
       "<Figure size 432x288 with 1 Axes>"
      ]
     },
     "metadata": {
      "needs_background": "light"
     },
     "output_type": "display_data"
    }
   ],
   "source": [
    "pl_x360.plot(x='critic_score', y='total_sales', style = 'o')\n",
    "('Корреляция между оценками критиков и продажами', pl_x360['critic_score'].corr(pl_x360['total_sales']))"
   ]
  },
  {
   "cell_type": "markdown",
   "id": "06f7d069",
   "metadata": {},
   "source": [
    "Корреляция в 0.35 говорит о том, что связь есть, но минимальная. "
   ]
  },
  {
   "cell_type": "markdown",
   "id": "53d02662",
   "metadata": {},
   "source": [
    "### Соотнесем выводы с продажами игр на других платформах"
   ]
  },
  {
   "cell_type": "code",
   "execution_count": 32,
   "id": "af9913da",
   "metadata": {},
   "outputs": [
    {
     "data": {
      "text/html": [
       "<div>\n",
       "<style scoped>\n",
       "    .dataframe tbody tr th:only-of-type {\n",
       "        vertical-align: middle;\n",
       "    }\n",
       "\n",
       "    .dataframe tbody tr th {\n",
       "        vertical-align: top;\n",
       "    }\n",
       "\n",
       "    .dataframe thead th {\n",
       "        text-align: right;\n",
       "    }\n",
       "</style>\n",
       "<table border=\"1\" class=\"dataframe\">\n",
       "  <thead>\n",
       "    <tr style=\"text-align: right;\">\n",
       "      <th></th>\n",
       "      <th>name</th>\n",
       "      <th>platform</th>\n",
       "      <th>year_of_release</th>\n",
       "      <th>genre</th>\n",
       "      <th>na_sales</th>\n",
       "      <th>eu_sales</th>\n",
       "      <th>jp_sales</th>\n",
       "      <th>other_sales</th>\n",
       "      <th>critic_score</th>\n",
       "      <th>user_score</th>\n",
       "      <th>rating</th>\n",
       "      <th>total_sales</th>\n",
       "    </tr>\n",
       "  </thead>\n",
       "  <tbody>\n",
       "    <tr>\n",
       "      <th>16</th>\n",
       "      <td>Grand Theft Auto V</td>\n",
       "      <td>PS3</td>\n",
       "      <td>2013</td>\n",
       "      <td>Action</td>\n",
       "      <td>7.02</td>\n",
       "      <td>9.09</td>\n",
       "      <td>0.98</td>\n",
       "      <td>3.96</td>\n",
       "      <td>97.0</td>\n",
       "      <td>8.2</td>\n",
       "      <td>M</td>\n",
       "      <td>21.05</td>\n",
       "    </tr>\n",
       "    <tr>\n",
       "      <th>23</th>\n",
       "      <td>Grand Theft Auto V</td>\n",
       "      <td>X360</td>\n",
       "      <td>2013</td>\n",
       "      <td>Action</td>\n",
       "      <td>9.66</td>\n",
       "      <td>5.14</td>\n",
       "      <td>0.06</td>\n",
       "      <td>1.41</td>\n",
       "      <td>97.0</td>\n",
       "      <td>8.1</td>\n",
       "      <td>M</td>\n",
       "      <td>16.27</td>\n",
       "    </tr>\n",
       "    <tr>\n",
       "      <th>31</th>\n",
       "      <td>Call of Duty: Black Ops 3</td>\n",
       "      <td>PS4</td>\n",
       "      <td>2015</td>\n",
       "      <td>Shooter</td>\n",
       "      <td>6.03</td>\n",
       "      <td>5.86</td>\n",
       "      <td>0.36</td>\n",
       "      <td>2.38</td>\n",
       "      <td>NaN</td>\n",
       "      <td>NaN</td>\n",
       "      <td>unknown</td>\n",
       "      <td>14.63</td>\n",
       "    </tr>\n",
       "    <tr>\n",
       "      <th>33</th>\n",
       "      <td>Pokemon X/Pokemon Y</td>\n",
       "      <td>3DS</td>\n",
       "      <td>2013</td>\n",
       "      <td>Role-Playing</td>\n",
       "      <td>5.28</td>\n",
       "      <td>4.19</td>\n",
       "      <td>4.35</td>\n",
       "      <td>0.78</td>\n",
       "      <td>NaN</td>\n",
       "      <td>NaN</td>\n",
       "      <td>unknown</td>\n",
       "      <td>14.60</td>\n",
       "    </tr>\n",
       "    <tr>\n",
       "      <th>42</th>\n",
       "      <td>Grand Theft Auto V</td>\n",
       "      <td>PS4</td>\n",
       "      <td>2014</td>\n",
       "      <td>Action</td>\n",
       "      <td>3.96</td>\n",
       "      <td>6.31</td>\n",
       "      <td>0.38</td>\n",
       "      <td>1.97</td>\n",
       "      <td>97.0</td>\n",
       "      <td>8.3</td>\n",
       "      <td>M</td>\n",
       "      <td>12.62</td>\n",
       "    </tr>\n",
       "    <tr>\n",
       "      <th>...</th>\n",
       "      <td>...</td>\n",
       "      <td>...</td>\n",
       "      <td>...</td>\n",
       "      <td>...</td>\n",
       "      <td>...</td>\n",
       "      <td>...</td>\n",
       "      <td>...</td>\n",
       "      <td>...</td>\n",
       "      <td>...</td>\n",
       "      <td>...</td>\n",
       "      <td>...</td>\n",
       "      <td>...</td>\n",
       "    </tr>\n",
       "    <tr>\n",
       "      <th>16672</th>\n",
       "      <td>Metal Gear Solid V: The Definitive Experience</td>\n",
       "      <td>XOne</td>\n",
       "      <td>2016</td>\n",
       "      <td>Action</td>\n",
       "      <td>0.01</td>\n",
       "      <td>0.00</td>\n",
       "      <td>0.00</td>\n",
       "      <td>0.00</td>\n",
       "      <td>NaN</td>\n",
       "      <td>NaN</td>\n",
       "      <td>M</td>\n",
       "      <td>0.01</td>\n",
       "    </tr>\n",
       "    <tr>\n",
       "      <th>16674</th>\n",
       "      <td>Tsukigime Ranko's Longest Day</td>\n",
       "      <td>PS3</td>\n",
       "      <td>2014</td>\n",
       "      <td>Action</td>\n",
       "      <td>0.00</td>\n",
       "      <td>0.01</td>\n",
       "      <td>0.00</td>\n",
       "      <td>0.00</td>\n",
       "      <td>NaN</td>\n",
       "      <td>NaN</td>\n",
       "      <td>unknown</td>\n",
       "      <td>0.01</td>\n",
       "    </tr>\n",
       "    <tr>\n",
       "      <th>16677</th>\n",
       "      <td>Aikatsu Stars! My Special Appeal</td>\n",
       "      <td>3DS</td>\n",
       "      <td>2016</td>\n",
       "      <td>Action</td>\n",
       "      <td>0.00</td>\n",
       "      <td>0.00</td>\n",
       "      <td>0.01</td>\n",
       "      <td>0.00</td>\n",
       "      <td>NaN</td>\n",
       "      <td>NaN</td>\n",
       "      <td>unknown</td>\n",
       "      <td>0.01</td>\n",
       "    </tr>\n",
       "    <tr>\n",
       "      <th>16691</th>\n",
       "      <td>Dynasty Warriors: Eiketsuden</td>\n",
       "      <td>PS3</td>\n",
       "      <td>2016</td>\n",
       "      <td>Action</td>\n",
       "      <td>0.00</td>\n",
       "      <td>0.00</td>\n",
       "      <td>0.01</td>\n",
       "      <td>0.00</td>\n",
       "      <td>NaN</td>\n",
       "      <td>NaN</td>\n",
       "      <td>unknown</td>\n",
       "      <td>0.01</td>\n",
       "    </tr>\n",
       "    <tr>\n",
       "      <th>16710</th>\n",
       "      <td>Samurai Warriors: Sanada Maru</td>\n",
       "      <td>PS3</td>\n",
       "      <td>2016</td>\n",
       "      <td>Action</td>\n",
       "      <td>0.00</td>\n",
       "      <td>0.00</td>\n",
       "      <td>0.01</td>\n",
       "      <td>0.00</td>\n",
       "      <td>NaN</td>\n",
       "      <td>NaN</td>\n",
       "      <td>unknown</td>\n",
       "      <td>0.01</td>\n",
       "    </tr>\n",
       "  </tbody>\n",
       "</table>\n",
       "<p>1473 rows × 12 columns</p>\n",
       "</div>"
      ],
      "text/plain": [
       "                                                name platform  \\\n",
       "16                                Grand Theft Auto V      PS3   \n",
       "23                                Grand Theft Auto V     X360   \n",
       "31                         Call of Duty: Black Ops 3      PS4   \n",
       "33                               Pokemon X/Pokemon Y      3DS   \n",
       "42                                Grand Theft Auto V      PS4   \n",
       "...                                              ...      ...   \n",
       "16672  Metal Gear Solid V: The Definitive Experience     XOne   \n",
       "16674                  Tsukigime Ranko's Longest Day      PS3   \n",
       "16677               Aikatsu Stars! My Special Appeal      3DS   \n",
       "16691                   Dynasty Warriors: Eiketsuden      PS3   \n",
       "16710                  Samurai Warriors: Sanada Maru      PS3   \n",
       "\n",
       "       year_of_release         genre  na_sales  eu_sales  jp_sales  \\\n",
       "16                2013        Action      7.02      9.09      0.98   \n",
       "23                2013        Action      9.66      5.14      0.06   \n",
       "31                2015       Shooter      6.03      5.86      0.36   \n",
       "33                2013  Role-Playing      5.28      4.19      4.35   \n",
       "42                2014        Action      3.96      6.31      0.38   \n",
       "...                ...           ...       ...       ...       ...   \n",
       "16672             2016        Action      0.01      0.00      0.00   \n",
       "16674             2014        Action      0.00      0.01      0.00   \n",
       "16677             2016        Action      0.00      0.00      0.01   \n",
       "16691             2016        Action      0.00      0.00      0.01   \n",
       "16710             2016        Action      0.00      0.00      0.01   \n",
       "\n",
       "       other_sales  critic_score  user_score   rating  total_sales  \n",
       "16            3.96          97.0         8.2        M        21.05  \n",
       "23            1.41          97.0         8.1        M        16.27  \n",
       "31            2.38           NaN         NaN  unknown        14.63  \n",
       "33            0.78           NaN         NaN  unknown        14.60  \n",
       "42            1.97          97.0         8.3        M        12.62  \n",
       "...            ...           ...         ...      ...          ...  \n",
       "16672         0.00           NaN         NaN        M         0.01  \n",
       "16674         0.00           NaN         NaN  unknown         0.01  \n",
       "16677         0.00           NaN         NaN  unknown         0.01  \n",
       "16691         0.00           NaN         NaN  unknown         0.01  \n",
       "16710         0.00           NaN         NaN  unknown         0.01  \n",
       "\n",
       "[1473 rows x 12 columns]"
      ]
     },
     "execution_count": 32,
     "metadata": {},
     "output_type": "execute_result"
    }
   ],
   "source": [
    "df_top_platforms"
   ]
  },
  {
   "cell_type": "code",
   "execution_count": 33,
   "id": "9533251c",
   "metadata": {},
   "outputs": [],
   "source": [
    "list_of_platforms = ['3DS','PS3','PS4','X360','XOne']\n",
    "def other_platform(name_of_platform):\n",
    "    platform = df_top_platforms[df_top_platforms['platform']==name_of_platform]\n",
    "    fig, ax = plt.subplots(1 ,2, figsize=(15,5))\n",
    "    platform.plot(x='user_score', y='total_sales', style = 'o', ax=ax[0])\n",
    "    platform.plot(x='critic_score', y='total_sales', style = 'o', ax=ax[1])\n",
    "    fig.suptitle(name_of_platform, fontsize=15)\n",
    "    ax[0].set(xlabel='Оценка пользователей')\n",
    "    ax[1].set(xlabel='Оценка критиков')\n",
    "    ax[0].set(ylabel='Количество продаж')\n",
    "    ax[1].set(ylabel='Количество продаж')\n",
    "    user_correl = platform['user_score'].corr(platform['total_sales'])\n",
    "    critic_correl = platform['critic_score'].corr(platform['total_sales'])\n",
    "    if 0 >= user_correl >= -1:\n",
    "        print('Корреляция между отзывами пользователей и продажами ', name_of_platform, ': Отрицательная', user_correl)\n",
    "    if 0.3 >= user_correl >= 0:\n",
    "        print('Корреляция между отзывами пользователей и продажами ', name_of_platform, ': Очень слабая', user_correl)\n",
    "    if 0.5 >= user_correl >= 0.3:\n",
    "        print('Корреляция между отзывами пользователей и продажами ', name_of_platform, ': Слабая', user_correl)\n",
    "    if 0.7 >= user_correl >= 0.5:\n",
    "        print('Корреляция между отзывами пользователей и продажами ', name_of_platform, ': Средняя', user_correl)\n",
    "    if 0.9 >= user_correl >= 0.7:\n",
    "        print('Корреляция между отзывами пользователей и продажами ', name_of_platform, ': Высокая', user_correl)\n",
    "    if 1 >= user_correl >= 0.9:\n",
    "        print('Корреляция между отзывами пользователей и продажами ', name_of_platform, ': Очень высокая', user_correl)\n",
    "    if 0 >= critic_correl >= -1:\n",
    "        print('Корреляция между отзывами критиков и продажами ', name_of_platform, ': Отрицательная', critic_correl)\n",
    "    if 0.3 >= critic_correl >= 0:\n",
    "        print('Корреляция между отзывами пользователей и продажами ', name_of_platform, ': Очень слабая', critic_correl)\n",
    "    if 0.5 >= critic_correl >= 0.3:\n",
    "        print('Корреляция между отзывами пользователей и продажами ', name_of_platform, ': Слабая', critic_correl)\n",
    "    if 0.7 >= critic_correl >= 0.5:\n",
    "        print('Корреляция между отзывами пользователей и продажами ', name_of_platform, ': Средняя', critic_correl)\n",
    "    if 0.9 >= critic_correl >= 0.7:\n",
    "        print('Корреляция между отзывами пользователей и продажами ', name_of_platform, ': Высокая', critic_correl)\n",
    "    if 1 >= critic_correl >= 0.9:\n",
    "        print('Корреляция между отзывами пользователей и продажами ', name_of_platform, ': Очень высокая', critic_correl)\n",
    "    "
   ]
  },
  {
   "cell_type": "code",
   "execution_count": 34,
   "id": "3f781137",
   "metadata": {},
   "outputs": [
    {
     "name": "stdout",
     "output_type": "stream",
     "text": [
      "Корреляция между отзывами пользователей и продажами  3DS : Очень слабая 0.2415041177356301\n",
      "Корреляция между отзывами пользователей и продажами  3DS : Слабая 0.35705661422881046\n",
      "Корреляция между отзывами пользователей и продажами  PS3 : Очень слабая 0.0023944027357566838\n",
      "Корреляция между отзывами пользователей и продажами  PS3 : Слабая 0.3342853393371919\n",
      "Корреляция между отзывами пользователей и продажами  PS4 : Отрицательная -0.03195711020455646\n",
      "Корреляция между отзывами пользователей и продажами  PS4 : Слабая 0.40656790206178145\n",
      "Корреляция между отзывами пользователей и продажами  X360 : Отрицательная -0.011742185147181351\n",
      "Корреляция между отзывами пользователей и продажами  X360 : Слабая 0.3503445460228664\n",
      "Корреляция между отзывами пользователей и продажами  XOne : Отрицательная -0.0689250532827942\n",
      "Корреляция между отзывами пользователей и продажами  XOne : Слабая 0.4169983280084016\n"
     ]
    },
    {
     "data": {
      "image/png": "[encoded data removed]",
      "text/plain": [
       "<Figure size 1080x360 with 2 Axes>"
      ]
     },
     "metadata": {
      "needs_background": "light"
     },
     "output_type": "display_data"
    },
    {
     "data": {
      "image/png": "[encoded data removed]",
      "text/plain": [
       "<Figure size 1080x360 with 2 Axes>"
      ]
     },
     "metadata": {
      "needs_background": "light"
     },
     "output_type": "display_data"
    },
    {
     "data": {
      "image/png": "[encoded data removed]",
      "text/plain": [
       "<Figure size 1080x360 with 2 Axes>"
      ]
     },
     "metadata": {
      "needs_background": "light"
     },
     "output_type": "display_data"
    },
    {
     "data": {
      "image/png": "[encoded data removed]",
      "text/plain": [
       "<Figure size 1080x360 with 2 Axes>"
      ]
     },
     "metadata": {
      "needs_background": "light"
     },
     "output_type": "display_data"
    },
    {
     "data": {
      "image/png": "[encoded data removed]",
      "text/plain": [
       "<Figure size 1080x360 with 2 Axes>"
      ]
     },
     "metadata": {
      "needs_background": "light"
     },
     "output_type": "display_data"
    }
   ],
   "source": [
    "for platform in list_of_platforms:\n",
    "    other_platform(platform)"
   ]
  },
  {
   "cell_type": "markdown",
   "id": "e6d2201f",
   "metadata": {},
   "source": [
    "Практически у всех платформ присутсвует корреляция между оценками пользователей и продажами и между оценками критиков и продажами. Но везде корреляция слабая. Пользователи не ориентируются ни на оценки пользователей, не на оценки критиков."
   ]
  },
  {
   "cell_type": "markdown",
   "id": "8fbc68e7",
   "metadata": {},
   "source": [
    "### Посмотрим на общее распределение игр по жанрам. Что можно сказать о самых прибыльных жанрах? Выделяются ли жанры с высокими и низкими продажами?"
   ]
  },
  {
   "cell_type": "code",
   "execution_count": 35,
   "id": "702111de",
   "metadata": {},
   "outputs": [
    {
     "data": {
      "text/html": [
       "<div>\n",
       "<style scoped>\n",
       "    .dataframe tbody tr th:only-of-type {\n",
       "        vertical-align: middle;\n",
       "    }\n",
       "\n",
       "    .dataframe tbody tr th {\n",
       "        vertical-align: top;\n",
       "    }\n",
       "\n",
       "    .dataframe thead th {\n",
       "        text-align: right;\n",
       "    }\n",
       "</style>\n",
       "<table border=\"1\" class=\"dataframe\">\n",
       "  <thead>\n",
       "    <tr style=\"text-align: right;\">\n",
       "      <th></th>\n",
       "      <th>genre</th>\n",
       "      <th>total_sales</th>\n",
       "    </tr>\n",
       "  </thead>\n",
       "  <tbody>\n",
       "    <tr>\n",
       "      <th>0</th>\n",
       "      <td>Shooter</td>\n",
       "      <td>0.450</td>\n",
       "    </tr>\n",
       "    <tr>\n",
       "      <th>1</th>\n",
       "      <td>Sports</td>\n",
       "      <td>0.240</td>\n",
       "    </tr>\n",
       "    <tr>\n",
       "      <th>2</th>\n",
       "      <td>Platform</td>\n",
       "      <td>0.225</td>\n",
       "    </tr>\n",
       "    <tr>\n",
       "      <th>3</th>\n",
       "      <td>Role-Playing</td>\n",
       "      <td>0.125</td>\n",
       "    </tr>\n",
       "    <tr>\n",
       "      <th>4</th>\n",
       "      <td>Fighting</td>\n",
       "      <td>0.125</td>\n",
       "    </tr>\n",
       "    <tr>\n",
       "      <th>5</th>\n",
       "      <td>Racing</td>\n",
       "      <td>0.120</td>\n",
       "    </tr>\n",
       "    <tr>\n",
       "      <th>6</th>\n",
       "      <td>Action</td>\n",
       "      <td>0.110</td>\n",
       "    </tr>\n",
       "    <tr>\n",
       "      <th>7</th>\n",
       "      <td>Simulation</td>\n",
       "      <td>0.100</td>\n",
       "    </tr>\n",
       "    <tr>\n",
       "      <th>8</th>\n",
       "      <td>Misc</td>\n",
       "      <td>0.100</td>\n",
       "    </tr>\n",
       "    <tr>\n",
       "      <th>9</th>\n",
       "      <td>Strategy</td>\n",
       "      <td>0.080</td>\n",
       "    </tr>\n",
       "    <tr>\n",
       "      <th>10</th>\n",
       "      <td>Puzzle</td>\n",
       "      <td>0.060</td>\n",
       "    </tr>\n",
       "    <tr>\n",
       "      <th>11</th>\n",
       "      <td>Adventure</td>\n",
       "      <td>0.030</td>\n",
       "    </tr>\n",
       "  </tbody>\n",
       "</table>\n",
       "</div>"
      ],
      "text/plain": [
       "           genre  total_sales\n",
       "0        Shooter        0.450\n",
       "1         Sports        0.240\n",
       "2       Platform        0.225\n",
       "3   Role-Playing        0.125\n",
       "4       Fighting        0.125\n",
       "5         Racing        0.120\n",
       "6         Action        0.110\n",
       "7     Simulation        0.100\n",
       "8           Misc        0.100\n",
       "9       Strategy        0.080\n",
       "10        Puzzle        0.060\n",
       "11     Adventure        0.030"
      ]
     },
     "execution_count": 35,
     "metadata": {},
     "output_type": "execute_result"
    }
   ],
   "source": [
    "# создание таблицы с жанрами и продажами\n",
    "genre_sales = data.pivot_table(index='genre', values='total_sales', aggfunc='median').sort_values(by='total_sales', ascending=False)\n",
    "genre_sales.reset_index(inplace=True)\n",
    "genre_sales"
   ]
  },
  {
   "cell_type": "code",
   "execution_count": 36,
   "id": "7d11455c",
   "metadata": {},
   "outputs": [
    {
     "data": {
      "text/plain": [
       "Text(0, 0.5, 'Сумма продаж')"
      ]
     },
     "execution_count": 36,
     "metadata": {},
     "output_type": "execute_result"
    },
    {
     "data": {
      "image/png": "[encoded data removed]",
      "text/plain": [
       "<Figure size 720x360 with 1 Axes>"
      ]
     },
     "metadata": {
      "needs_background": "light"
     },
     "output_type": "display_data"
    }
   ],
   "source": [
    "# создание столбчатой диаграммы для наглядности\n",
    "genre_sales.plot(x='genre', y='total_sales', kind='bar',grid=True, figsize=(10,5))\n",
    "plt.title('Распределение игр по жанрам')\n",
    "plt.xlabel('Жанры')\n",
    "plt.ylabel('Сумма продаж')"
   ]
  },
  {
   "cell_type": "markdown",
   "id": "9cf19a10",
   "metadata": {},
   "source": [
    "Самым прибыльным жанром оказался Шутер, 2-ое место занимает Спорт, а 3-ье Платформер. С самой низкой прибылью Приключения и Пазл."
   ]
  },
  {
   "cell_type": "markdown",
   "id": "452ad071",
   "metadata": {},
   "source": [
    "## Составим портрет пользователя каждого региона"
   ]
  },
  {
   "cell_type": "code",
   "execution_count": 37,
   "id": "07d0f363",
   "metadata": {},
   "outputs": [
    {
     "data": {
      "text/plain": [
       "('Доля продаж в Северной Америке:', 0.40131476404844635)"
      ]
     },
     "execution_count": 37,
     "metadata": {},
     "output_type": "execute_result"
    },
    {
     "data": {
      "image/png": "[encoded data removed]",
      "text/plain": [
       "<Figure size 720x360 with 1 Axes>"
      ]
     },
     "metadata": {
      "needs_background": "light"
     },
     "output_type": "display_data"
    },
    {
     "data": {
      "image/png": "[encoded data removed]",
      "text/plain": [
       "<Figure size 720x360 with 1 Axes>"
      ]
     },
     "metadata": {
      "needs_background": "light"
     },
     "output_type": "display_data"
    },
    {
     "data": {
      "image/png": "[encoded data removed]",
      "text/plain": [
       "<Figure size 720x360 with 1 Axes>"
      ]
     },
     "metadata": {
      "needs_background": "light"
     },
     "output_type": "display_data"
    }
   ],
   "source": [
    "# Портрет пользователя в Северной Америке\n",
    "na_sales_pivot = data.pivot_table(index='platform',values='na_sales',aggfunc='sum').sort_values(by='na_sales',ascending=False).plot(kind='bar',figsize=(10,5))\n",
    "plt.title('Платформы')\n",
    "plt.xlabel('Название платформы')\n",
    "plt.ylabel('Сумма продаж')\n",
    "na_genre_pivot = data.pivot_table(index='genre',values='na_sales',aggfunc='sum').sort_values(by='na_sales',ascending=False).plot(kind='bar',figsize=(10,5))\n",
    "plt.title('Жанры')\n",
    "plt.xlabel('Название жанра')\n",
    "plt.ylabel('Сумма продаж')\n",
    "na_rating_pivot = data.pivot_table(index='rating',values='na_sales',aggfunc='sum').sort_values(by='na_sales',ascending=False).plot(kind='bar',figsize=(10,5))\n",
    "plt.title('Рейтинг')\n",
    "plt.xlabel('Название рейтинга')\n",
    "plt.ylabel('Сумма продаж')\n",
    "('Доля продаж в Северной Америке:', (data['na_sales'].sum())/(data['total_sales'].sum()))"
   ]
  },
  {
   "cell_type": "markdown",
   "id": "5cdcb06e",
   "metadata": {},
   "source": [
    "Пользователи из Северной Америки предпочитают платформы: PS4, XOne, X360, PS3, 3DS. Самые популярные жанры: экшн, шутер, спорт, ролевая, аркада. Также пользователи основываются на рейтинг ESRB. "
   ]
  },
  {
   "cell_type": "code",
   "execution_count": 38,
   "id": "fa3c35fd",
   "metadata": {},
   "outputs": [
    {
     "data": {
      "text/plain": [
       "('Доля продаж в Европе:', 0.3596163896249163)"
      ]
     },
     "execution_count": 38,
     "metadata": {},
     "output_type": "execute_result"
    },
    {
     "data": {
      "image/png": "[encoded data removed]",
      "text/plain": [
       "<Figure size 720x360 with 1 Axes>"
      ]
     },
     "metadata": {
      "needs_background": "light"
     },
     "output_type": "display_data"
    },
    {
     "data": {
      "image/png": "[encoded data removed]",
      "text/plain": [
       "<Figure size 720x360 with 1 Axes>"
      ]
     },
     "metadata": {
      "needs_background": "light"
     },
     "output_type": "display_data"
    },
    {
     "data": {
      "image/png": "[encoded data removed]",
      "text/plain": [
       "<Figure size 720x360 with 1 Axes>"
      ]
     },
     "metadata": {
      "needs_background": "light"
     },
     "output_type": "display_data"
    }
   ],
   "source": [
    "# портрет пользователя в Европе\n",
    "eu_sales_pivot = data.pivot_table(index='platform',values='eu_sales',aggfunc='sum').sort_values(by='eu_sales',ascending=False).plot(kind='bar',figsize=(10,5))\n",
    "plt.title('Платформы')\n",
    "plt.xlabel('Название платформы')\n",
    "plt.ylabel('Сумма продаж')\n",
    "eu_genre_pivot = data.pivot_table(index='genre',values='eu_sales',aggfunc='sum').sort_values(by='eu_sales',ascending=False).plot(kind='bar',figsize=(10,5))\n",
    "plt.title('Жанры')\n",
    "plt.xlabel('Название жанра')\n",
    "plt.ylabel('Сумма продаж')\n",
    "eu_rating_pivot = data.pivot_table(index='rating',values='eu_sales',aggfunc='sum').sort_values(by='eu_sales',ascending=False).plot(kind='bar',figsize=(10,5))\n",
    "plt.title('Рейтинг')\n",
    "plt.xlabel('Название рейтинга')\n",
    "plt.ylabel('Сумма продаж')\n",
    "('Доля продаж в Европе:', (data['eu_sales'].sum())/(data['total_sales'].sum()))"
   ]
  },
  {
   "cell_type": "markdown",
   "id": "c7b5ddaf",
   "metadata": {},
   "source": [
    "Пользователи в Европе предпочитают PS4, PS3, XOne, X360, 3DS. По жанрам это экшн, шутер, спорт, ролевая и гонки. Пользователи также ориентируются на рейтинг ESRB."
   ]
  },
  {
   "cell_type": "code",
   "execution_count": 39,
   "id": "eb4eedf3",
   "metadata": {},
   "outputs": [
    {
     "data": {
      "text/plain": [
       "('Доля продаж в Японии:', 0.12907425574636242)"
      ]
     },
     "execution_count": 39,
     "metadata": {},
     "output_type": "execute_result"
    },
    {
     "data": {
      "image/png": "[encoded data removed]",
      "text/plain": [
       "<Figure size 720x360 with 1 Axes>"
      ]
     },
     "metadata": {
      "needs_background": "light"
     },
     "output_type": "display_data"
    },
    {
     "data": {
      "image/png": "[encoded data removed]",
      "text/plain": [
       "<Figure size 720x360 with 1 Axes>"
      ]
     },
     "metadata": {
      "needs_background": "light"
     },
     "output_type": "display_data"
    },
    {
     "data": {
      "image/png": "[encoded data removed]",
      "text/plain": [
       "<Figure size 720x360 with 1 Axes>"
      ]
     },
     "metadata": {
      "needs_background": "light"
     },
     "output_type": "display_data"
    }
   ],
   "source": [
    "# портрет пользователя в Японии\n",
    "jp_sales_pivot = data.pivot_table(index='platform',values='jp_sales',aggfunc='sum').sort_values(by='jp_sales',ascending=False).plot(kind='bar',figsize=(10,5))\n",
    "plt.title('Платформы')\n",
    "plt.xlabel('Название платформы')\n",
    "plt.ylabel('Сумма продаж')\n",
    "jp_genre_pivot = data.pivot_table(index='genre',values='jp_sales',aggfunc='sum').sort_values(by='jp_sales',ascending=False).plot(kind='bar',figsize=(10,5))\n",
    "plt.title('Жанры')\n",
    "plt.xlabel('Название жанра')\n",
    "plt.ylabel('Сумма продаж')\n",
    "jp_rating_pivot = data.pivot_table(index='rating',values='jp_sales',aggfunc='sum').sort_values(by='jp_sales',ascending=False).plot(kind='bar',figsize=(10,5))\n",
    "plt.title('Рейтинг')\n",
    "plt.xlabel('Название рейтинга')\n",
    "plt.ylabel('Сумма продаж')\n",
    "('Доля продаж в Японии:', (data['jp_sales'].sum())/(data['total_sales'].sum()))"
   ]
  },
  {
   "cell_type": "markdown",
   "id": "635bb256",
   "metadata": {},
   "source": [
    "Для пользователей в Японии самыми популярными платформами являются: 3DS, PS3, PSV, PS4, WiiU. Что касается жанров, то здесь отдают предпочтение ролевым и экшену. Если говорить о топ-5, то можно добавить еще аркаду, борьбу и шутер. А рейтинг ESRB вообще не влияет на продажи. "
   ]
  },
  {
   "cell_type": "markdown",
   "id": "f20471b9",
   "metadata": {},
   "source": [
    "## Проверка гипотез"
   ]
  },
  {
   "cell_type": "markdown",
   "id": "607285b5",
   "metadata": {},
   "source": [
    "Первая гипотеза для проверки:\n",
    "    Средние пользовательские рейтинги платформ Xbox One и PC одинаковые.\n",
    "    \n",
    "Сформулируем нулевые гипотезы:\n",
    "\n",
    "- Нулевая гипотеза H₀: Средние пользовательские рейтинги платформ Xbox One и PC равны;\n",
    "- Альтернативная гипотеза H₁: Средние пользовательские рейтинги платформ Xbox One и PC не равны. \n",
    "\n",
    "Данные две выборки независимы, поэтому следует применить метод st.ttest_ind. Дисперсии у генеральных совокупностей разные поэтому укажем equal_var = False при вызове метода."
   ]
  },
  {
   "cell_type": "code",
   "execution_count": 40,
   "id": "1b1b35f2",
   "metadata": {},
   "outputs": [],
   "source": [
    "xone = data[(data['platform']=='XOne')]['user_score']\n",
    "pc = data[(data['platform']=='PC')]['user_score']"
   ]
  },
  {
   "cell_type": "code",
   "execution_count": 41,
   "id": "e710632c",
   "metadata": {},
   "outputs": [
    {
     "data": {
      "text/plain": [
       "6.52142857142857"
      ]
     },
     "execution_count": 41,
     "metadata": {},
     "output_type": "execute_result"
    }
   ],
   "source": [
    "xone.mean()"
   ]
  },
  {
   "cell_type": "code",
   "execution_count": 42,
   "id": "b1a9d272",
   "metadata": {},
   "outputs": [
    {
     "data": {
      "text/plain": [
       "6.269677419354836"
      ]
     },
     "execution_count": 42,
     "metadata": {},
     "output_type": "execute_result"
    }
   ],
   "source": [
    "pc.mean()"
   ]
  },
  {
   "cell_type": "code",
   "execution_count": 43,
   "id": "4cef503e",
   "metadata": {},
   "outputs": [
    {
     "name": "stdout",
     "output_type": "stream",
     "text": [
      "p-значение: 0.14759594013430463\n",
      "Не получилось отвергнуть нулевую гипотезу\n"
     ]
    }
   ],
   "source": [
    "alpha = .05\n",
    "\n",
    "results = st.ttest_ind(xone.dropna(), pc.dropna(), equal_var=False)\n",
    "\n",
    "print('p-значение:', results.pvalue)\n",
    "\n",
    "\n",
    "if (results.pvalue < alpha):\n",
    "    print(\"Отвергаем нулевую гипотезу\")\n",
    "else:\n",
    "    print(\"Не получилось отвергнуть нулевую гипотезу\")"
   ]
  },
  {
   "cell_type": "markdown",
   "id": "7e9bf660",
   "metadata": {},
   "source": [
    "Значение p-value равно 98%, соотвественно не получилось отвергнуть нулевую гипотезу. То есть с вероятностью в 98% рейтинги двух платформ разные.  "
   ]
  },
  {
   "cell_type": "markdown",
   "id": "9671fc15",
   "metadata": {},
   "source": [
    "Вторая гипотеза для проверки: Средние пользовательские рейтинги жанров Action (англ. «действие», экшен-игры) и Sports (англ. «спортивные соревнования») разные.\n",
    "\n",
    "Сформулируем нулевые гипотезы:\n",
    "Нулевая гипотеза H₀: Средние пользовательские рейтинги жанров Action и Sports равны.\n",
    "Альтернативная гипотеза H₁: Средние пользовательские рейтинги жанров Action и Sports не равны. \n",
    "\n",
    "Данные две выборки независимы, поэтому следует применить метод st.ttest_ind. Дисперсии у генеральных совокупностей разные поэтому укажем equal_var = False при вызове метода."
   ]
  },
  {
   "cell_type": "code",
   "execution_count": 44,
   "id": "171e62d7",
   "metadata": {},
   "outputs": [],
   "source": [
    "action = data[(data['genre']=='Action')]['user_score']\n",
    "sports = data[(data['genre']=='Sports')]['user_score']"
   ]
  },
  {
   "cell_type": "code",
   "execution_count": 45,
   "id": "e68e9c16",
   "metadata": {},
   "outputs": [
    {
     "data": {
      "text/plain": [
       "6.837532133676097"
      ]
     },
     "execution_count": 45,
     "metadata": {},
     "output_type": "execute_result"
    }
   ],
   "source": [
    "action.mean()"
   ]
  },
  {
   "cell_type": "code",
   "execution_count": 46,
   "id": "9a5d4b5a",
   "metadata": {},
   "outputs": [
    {
     "data": {
      "text/plain": [
       "5.238124999999999"
      ]
     },
     "execution_count": 46,
     "metadata": {},
     "output_type": "execute_result"
    }
   ],
   "source": [
    "sports.mean()"
   ]
  },
  {
   "cell_type": "code",
   "execution_count": 47,
   "id": "b0237d05",
   "metadata": {},
   "outputs": [
    {
     "name": "stdout",
     "output_type": "stream",
     "text": [
      "p-значение: 1.4460039700704315e-20\n",
      "Отвергаем нулевую гипотезу\n"
     ]
    }
   ],
   "source": [
    "alpha = .05\n",
    "\n",
    "results = st.ttest_ind(action.dropna(), sports.dropna(), equal_var=False)\n",
    "\n",
    "print('p-значение:', results.pvalue)\n",
    "\n",
    "\n",
    "if (results.pvalue < alpha):\n",
    "    print(\"Отвергаем нулевую гипотезу\")\n",
    "else:\n",
    "    print(\"Не получилось отвергнуть нулевую гипотезу\")"
   ]
  },
  {
   "cell_type": "markdown",
   "id": "c81c7719",
   "metadata": {},
   "source": [
    "Мы отвергли нулевую гипотезу, соотвественно можно утверждать, что средние пользовательские рейтинги жанров Action и Sports не равны."
   ]
  },
  {
   "cell_type": "markdown",
   "id": "53812653",
   "metadata": {},
   "source": [
    "## Общий вывод"
   ]
  },
  {
   "cell_type": "markdown",
   "id": "be49927c",
   "metadata": {},
   "source": [
    "Перед анализом, данные были подготовлены. Приведены к правильным данным столбцы, приведены к нижнему регистру названия колонок и приведены к правильным типам данных необходимые столбцы. \n",
    "После изчения данных можно озвучить следующий вывод: средняя продолжительность существования платформы составляет 10 лет, при этом первые 5 лет можно увидеть рост по продажам, в последующие 5 лет продажи падают и платформа перестает существовать. Именно поэтому для анализа были выбраны последние 3 года. \n",
    "При анализе было выявлено, что пользователи Северной Америки, Европы и Японии предпочитают разные платформы. \n",
    "У пользователей Северной Америки и Европы топ-5 платформ совпадает, но разное распределение. \n",
    "Что касается жанра игр, то экшн, ролевые и аркада входят в топ-5 по всем регионам. В Северной Америке и Европе топ-5 жанров совпадает, отличается только распределение. На Америку приходится самая большая доля продаж и составляет около 40%, на Европу около 36% и на Японию около 13%. \n",
    "Стоит обратить внимание, что за последний год сумма продаж на платформе PS4 и 3DS самые большие.\n",
    "На продажи не особо влияют оценки пользователей и оценки критиков\n",
    "А рейтинг ESRB оказывает влияние только на пользователей в Северной Америке и Европе. А пользователи Японии не обращают никакого внимания на рейтинг ESRB.\n",
    "Исходя из всех данных лучше продавать игры на платформе PS4, XOne и 3DS, что касается жанра, то лучше отдать предпочтение экшену, шутеру и ролевой.  "
   ]
  }
 ],
 "metadata": {
  "ExecuteTimeLog": [
   {
    "duration": 6,
    "start_time": "2022-05-25T20:43:51.437Z"
   },
   {
    "duration": 5,
    "start_time": "2022-05-25T20:43:55.828Z"
   },
   {
    "duration": 1212,
    "start_time": "2022-05-25T20:44:16.162Z"
   },
   {
    "duration": 64,
    "start_time": "2022-05-25T20:44:17.376Z"
   },
   {
    "duration": 22,
    "start_time": "2022-05-25T20:44:17.442Z"
   },
   {
    "duration": 28,
    "start_time": "2022-05-25T20:44:17.467Z"
   },
   {
    "duration": 10,
    "start_time": "2022-05-25T20:44:17.496Z"
   },
   {
    "duration": 18,
    "start_time": "2022-05-25T20:44:17.507Z"
   },
   {
    "duration": 5,
    "start_time": "2022-05-25T20:44:17.527Z"
   },
   {
    "duration": 5,
    "start_time": "2022-05-25T20:44:17.534Z"
   },
   {
    "duration": 6,
    "start_time": "2022-05-25T20:44:17.541Z"
   },
   {
    "duration": 4,
    "start_time": "2022-05-25T20:44:17.551Z"
   },
   {
    "duration": 44,
    "start_time": "2022-05-25T20:44:17.556Z"
   },
   {
    "duration": 9,
    "start_time": "2022-05-25T20:44:17.601Z"
   },
   {
    "duration": 9,
    "start_time": "2022-05-25T20:44:17.612Z"
   },
   {
    "duration": 7,
    "start_time": "2022-05-25T20:44:17.622Z"
   },
   {
    "duration": 14,
    "start_time": "2022-05-25T20:44:17.630Z"
   },
   {
    "duration": 5,
    "start_time": "2022-05-25T20:44:17.646Z"
   },
   {
    "duration": 5,
    "start_time": "2022-05-25T20:44:17.653Z"
   },
   {
    "duration": 24,
    "start_time": "2022-05-25T20:44:17.695Z"
   },
   {
    "duration": 201,
    "start_time": "2022-05-25T20:44:17.720Z"
   },
   {
    "duration": 367,
    "start_time": "2022-05-25T20:44:17.923Z"
   },
   {
    "duration": 44,
    "start_time": "2022-05-25T20:44:18.294Z"
   },
   {
    "duration": 214,
    "start_time": "2022-05-25T20:44:18.340Z"
   },
   {
    "duration": 5,
    "start_time": "2022-05-25T20:44:18.555Z"
   },
   {
    "duration": 10,
    "start_time": "2022-05-25T20:44:18.561Z"
   },
   {
    "duration": 31,
    "start_time": "2022-05-25T20:44:18.573Z"
   },
   {
    "duration": 204,
    "start_time": "2022-05-25T20:44:18.606Z"
   },
   {
    "duration": 229,
    "start_time": "2022-05-25T20:44:18.812Z"
   },
   {
    "duration": 11,
    "start_time": "2022-05-25T20:44:19.045Z"
   },
   {
    "duration": 193,
    "start_time": "2022-05-25T20:44:19.058Z"
   },
   {
    "duration": 7,
    "start_time": "2022-05-25T20:44:19.253Z"
   },
   {
    "duration": 138,
    "start_time": "2022-05-25T20:44:19.262Z"
   },
   {
    "duration": 147,
    "start_time": "2022-05-25T20:44:19.402Z"
   },
   {
    "duration": 25,
    "start_time": "2022-05-25T20:44:19.551Z"
   },
   {
    "duration": 19,
    "start_time": "2022-05-25T20:44:19.578Z"
   },
   {
    "duration": 1186,
    "start_time": "2022-05-25T20:44:19.599Z"
   },
   {
    "duration": 20,
    "start_time": "2022-05-25T20:44:20.787Z"
   },
   {
    "duration": 218,
    "start_time": "2022-05-25T20:44:20.808Z"
   },
   {
    "duration": 547,
    "start_time": "2022-05-25T20:44:21.028Z"
   },
   {
    "duration": 563,
    "start_time": "2022-05-25T20:44:21.577Z"
   },
   {
    "duration": 565,
    "start_time": "2022-05-25T20:44:22.142Z"
   },
   {
    "duration": 6,
    "start_time": "2022-05-25T20:44:22.709Z"
   },
   {
    "duration": 7,
    "start_time": "2022-05-25T20:44:22.717Z"
   },
   {
    "duration": 5,
    "start_time": "2022-05-25T20:44:22.725Z"
   },
   {
    "duration": 10,
    "start_time": "2022-05-25T20:44:22.732Z"
   },
   {
    "duration": 8,
    "start_time": "2022-05-25T20:44:22.744Z"
   },
   {
    "duration": 4,
    "start_time": "2022-05-25T20:44:22.754Z"
   },
   {
    "duration": 16,
    "start_time": "2022-05-25T20:44:22.759Z"
   },
   {
    "duration": 6,
    "start_time": "2022-05-25T20:44:22.794Z"
   },
   {
    "duration": 1132,
    "start_time": "2022-05-25T20:45:10.584Z"
   },
   {
    "duration": 56,
    "start_time": "2022-05-25T20:45:11.718Z"
   },
   {
    "duration": 21,
    "start_time": "2022-05-25T20:45:11.775Z"
   },
   {
    "duration": 17,
    "start_time": "2022-05-25T20:45:11.798Z"
   },
   {
    "duration": 11,
    "start_time": "2022-05-25T20:45:11.817Z"
   },
   {
    "duration": 17,
    "start_time": "2022-05-25T20:45:11.829Z"
   },
   {
    "duration": 4,
    "start_time": "2022-05-25T20:45:11.847Z"
   },
   {
    "duration": 5,
    "start_time": "2022-05-25T20:45:11.853Z"
   },
   {
    "duration": 37,
    "start_time": "2022-05-25T20:45:11.859Z"
   },
   {
    "duration": 4,
    "start_time": "2022-05-25T20:45:11.899Z"
   },
   {
    "duration": 10,
    "start_time": "2022-05-25T20:45:11.905Z"
   },
   {
    "duration": 10,
    "start_time": "2022-05-25T20:45:11.917Z"
   },
   {
    "duration": 5,
    "start_time": "2022-05-25T20:45:11.929Z"
   },
   {
    "duration": 10,
    "start_time": "2022-05-25T20:45:11.936Z"
   },
   {
    "duration": 6,
    "start_time": "2022-05-25T20:45:11.948Z"
   },
   {
    "duration": 46,
    "start_time": "2022-05-25T20:45:11.955Z"
   },
   {
    "duration": 6,
    "start_time": "2022-05-25T20:45:12.002Z"
   },
   {
    "duration": 27,
    "start_time": "2022-05-25T20:45:12.009Z"
   },
   {
    "duration": 220,
    "start_time": "2022-05-25T20:45:12.038Z"
   },
   {
    "duration": 398,
    "start_time": "2022-05-25T20:45:12.260Z"
   },
   {
    "duration": 47,
    "start_time": "2022-05-25T20:45:12.660Z"
   },
   {
    "duration": 224,
    "start_time": "2022-05-25T20:45:12.709Z"
   },
   {
    "duration": 4,
    "start_time": "2022-05-25T20:45:12.935Z"
   },
   {
    "duration": 9,
    "start_time": "2022-05-25T20:45:12.941Z"
   },
   {
    "duration": 14,
    "start_time": "2022-05-25T20:45:12.952Z"
   },
   {
    "duration": 203,
    "start_time": "2022-05-25T20:45:12.967Z"
   },
   {
    "duration": 230,
    "start_time": "2022-05-25T20:45:13.172Z"
   },
   {
    "duration": 10,
    "start_time": "2022-05-25T20:45:13.405Z"
   },
   {
    "duration": 179,
    "start_time": "2022-05-25T20:45:13.416Z"
   },
   {
    "duration": 6,
    "start_time": "2022-05-25T20:45:13.597Z"
   },
   {
    "duration": 131,
    "start_time": "2022-05-25T20:45:13.605Z"
   },
   {
    "duration": 157,
    "start_time": "2022-05-25T20:45:13.738Z"
   },
   {
    "duration": 22,
    "start_time": "2022-05-25T20:45:13.896Z"
   },
   {
    "duration": 7,
    "start_time": "2022-05-25T20:45:13.920Z"
   },
   {
    "duration": 1214,
    "start_time": "2022-05-25T20:45:13.928Z"
   },
   {
    "duration": 16,
    "start_time": "2022-05-25T20:45:15.195Z"
   },
   {
    "duration": 399,
    "start_time": "2022-05-25T20:45:15.212Z"
   },
   {
    "duration": 534,
    "start_time": "2022-05-25T20:45:15.613Z"
   },
   {
    "duration": 534,
    "start_time": "2022-05-25T20:45:16.149Z"
   },
   {
    "duration": 563,
    "start_time": "2022-05-25T20:45:16.685Z"
   },
   {
    "duration": 7,
    "start_time": "2022-05-25T20:45:17.250Z"
   },
   {
    "duration": 11,
    "start_time": "2022-05-25T20:45:17.259Z"
   },
   {
    "duration": 22,
    "start_time": "2022-05-25T20:45:17.272Z"
   },
   {
    "duration": 6,
    "start_time": "2022-05-25T20:45:17.297Z"
   },
   {
    "duration": 11,
    "start_time": "2022-05-25T20:45:17.305Z"
   },
   {
    "duration": 8,
    "start_time": "2022-05-25T20:45:17.318Z"
   },
   {
    "duration": 9,
    "start_time": "2022-05-25T20:45:17.329Z"
   },
   {
    "duration": 11,
    "start_time": "2022-05-25T20:45:17.340Z"
   },
   {
    "duration": 1116,
    "start_time": "2022-05-25T20:46:58.401Z"
   },
   {
    "duration": 53,
    "start_time": "2022-05-25T20:46:59.519Z"
   },
   {
    "duration": 18,
    "start_time": "2022-05-25T20:46:59.574Z"
   },
   {
    "duration": 23,
    "start_time": "2022-05-25T20:46:59.594Z"
   },
   {
    "duration": 9,
    "start_time": "2022-05-25T20:46:59.619Z"
   },
   {
    "duration": 26,
    "start_time": "2022-05-25T20:46:59.629Z"
   },
   {
    "duration": 11,
    "start_time": "2022-05-25T20:46:59.657Z"
   },
   {
    "duration": 10,
    "start_time": "2022-05-25T20:46:59.669Z"
   },
   {
    "duration": 16,
    "start_time": "2022-05-25T20:46:59.681Z"
   },
   {
    "duration": 18,
    "start_time": "2022-05-25T20:46:59.701Z"
   },
   {
    "duration": 21,
    "start_time": "2022-05-25T20:46:59.721Z"
   },
   {
    "duration": 13,
    "start_time": "2022-05-25T20:46:59.744Z"
   },
   {
    "duration": 20,
    "start_time": "2022-05-25T20:46:59.758Z"
   },
   {
    "duration": 21,
    "start_time": "2022-05-25T20:46:59.779Z"
   },
   {
    "duration": 13,
    "start_time": "2022-05-25T20:46:59.802Z"
   },
   {
    "duration": 27,
    "start_time": "2022-05-25T20:46:59.816Z"
   },
   {
    "duration": 22,
    "start_time": "2022-05-25T20:46:59.845Z"
   },
   {
    "duration": 9,
    "start_time": "2022-05-25T20:46:59.869Z"
   },
   {
    "duration": 27,
    "start_time": "2022-05-25T20:46:59.879Z"
   },
   {
    "duration": 199,
    "start_time": "2022-05-25T20:46:59.908Z"
   },
   {
    "duration": 382,
    "start_time": "2022-05-25T20:47:00.109Z"
   },
   {
    "duration": 42,
    "start_time": "2022-05-25T20:47:00.495Z"
   },
   {
    "duration": 219,
    "start_time": "2022-05-25T20:47:00.539Z"
   },
   {
    "duration": 4,
    "start_time": "2022-05-25T20:47:00.760Z"
   },
   {
    "duration": 41,
    "start_time": "2022-05-25T20:47:00.765Z"
   },
   {
    "duration": 28,
    "start_time": "2022-05-25T20:47:00.808Z"
   },
   {
    "duration": 209,
    "start_time": "2022-05-25T20:47:00.838Z"
   },
   {
    "duration": 229,
    "start_time": "2022-05-25T20:47:01.050Z"
   },
   {
    "duration": 17,
    "start_time": "2022-05-25T20:47:01.281Z"
   },
   {
    "duration": 179,
    "start_time": "2022-05-25T20:47:01.300Z"
   },
   {
    "duration": 13,
    "start_time": "2022-05-25T20:47:01.481Z"
   },
   {
    "duration": 133,
    "start_time": "2022-05-25T20:47:01.496Z"
   },
   {
    "duration": 165,
    "start_time": "2022-05-25T20:47:01.631Z"
   },
   {
    "duration": 26,
    "start_time": "2022-05-25T20:47:01.799Z"
   },
   {
    "duration": 9,
    "start_time": "2022-05-25T20:47:01.827Z"
   },
   {
    "duration": 1158,
    "start_time": "2022-05-25T20:47:01.838Z"
   },
   {
    "duration": 15,
    "start_time": "2022-05-25T20:47:02.998Z"
   },
   {
    "duration": 220,
    "start_time": "2022-05-25T20:47:03.014Z"
   },
   {
    "duration": 550,
    "start_time": "2022-05-25T20:47:03.235Z"
   },
   {
    "duration": 532,
    "start_time": "2022-05-25T20:47:03.786Z"
   },
   {
    "duration": 541,
    "start_time": "2022-05-25T20:47:04.319Z"
   },
   {
    "duration": 5,
    "start_time": "2022-05-25T20:47:04.862Z"
   },
   {
    "duration": 7,
    "start_time": "2022-05-25T20:47:04.868Z"
   },
   {
    "duration": 20,
    "start_time": "2022-05-25T20:47:04.876Z"
   },
   {
    "duration": 7,
    "start_time": "2022-05-25T20:47:04.898Z"
   },
   {
    "duration": 9,
    "start_time": "2022-05-25T20:47:04.907Z"
   },
   {
    "duration": 7,
    "start_time": "2022-05-25T20:47:04.917Z"
   },
   {
    "duration": 6,
    "start_time": "2022-05-25T20:47:04.925Z"
   },
   {
    "duration": 7,
    "start_time": "2022-05-25T20:47:04.932Z"
   }
  ],
  "kernelspec": {
   "display_name": "Python 3 (ipykernel)",
   "language": "python",
   "name": "python3"
  },
  "language_info": {
   "codemirror_mode": {
    "name": "ipython",
    "version": 3
   },
   "file_extension": ".py",
   "mimetype": "text/x-python",
   "name": "python",
   "nbconvert_exporter": "python",
   "pygments_lexer": "ipython3",
   "version": "3.9.7"
  },
  "toc": {
   "base_numbering": 1,
   "nav_menu": {},
   "number_sections": true,
   "sideBar": true,
   "skip_h1_title": true,
   "title_cell": "Table of Contents",
   "title_sidebar": "Contents",
   "toc_cell": false,
   "toc_position": {},
   "toc_section_display": true,
   "toc_window_display": false
  }
 },
 "nbformat": 4,
 "nbformat_minor": 5
}
