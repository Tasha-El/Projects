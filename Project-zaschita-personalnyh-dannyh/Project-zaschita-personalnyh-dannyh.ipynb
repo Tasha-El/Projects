{
 "cells": [
  {
   "cell_type": "markdown",
   "id": "ba07ba3e",
   "metadata": {},
   "source": [
    "# Защита персональных данных "
   ]
  },
  {
   "cell_type": "code",
   "execution_count": 1,
   "id": "cad79efc",
   "metadata": {},
   "outputs": [],
   "source": [
    "import pandas as pd\n",
    "import numpy as np\n",
    "from sklearn.model_selection import train_test_split\n",
    "from sklearn.linear_model import LinearRegression\n",
    "from sklearn.metrics import r2_score"
   ]
  },
  {
   "cell_type": "code",
   "execution_count": 2,
   "id": "ba27c027",
   "metadata": {},
   "outputs": [],
   "source": [
    "df = pd.read_csv('/datasets/insurance.csv')"
   ]
  },
  {
   "cell_type": "code",
   "execution_count": 3,
   "id": "1472e745",
   "metadata": {},
   "outputs": [
    {
     "data": {
      "text/html": [
       "<div>\n",
       "<style scoped>\n",
       "    .dataframe tbody tr th:only-of-type {\n",
       "        vertical-align: middle;\n",
       "    }\n",
       "\n",
       "    .dataframe tbody tr th {\n",
       "        vertical-align: top;\n",
       "    }\n",
       "\n",
       "    .dataframe thead th {\n",
       "        text-align: right;\n",
       "    }\n",
       "</style>\n",
       "<table border=\"1\" class=\"dataframe\">\n",
       "  <thead>\n",
       "    <tr style=\"text-align: right;\">\n",
       "      <th></th>\n",
       "      <th>Пол</th>\n",
       "      <th>Возраст</th>\n",
       "      <th>Зарплата</th>\n",
       "      <th>Члены семьи</th>\n",
       "      <th>Страховые выплаты</th>\n",
       "    </tr>\n",
       "  </thead>\n",
       "  <tbody>\n",
       "    <tr>\n",
       "      <th>0</th>\n",
       "      <td>1</td>\n",
       "      <td>41.0</td>\n",
       "      <td>49600.0</td>\n",
       "      <td>1</td>\n",
       "      <td>0</td>\n",
       "    </tr>\n",
       "    <tr>\n",
       "      <th>1</th>\n",
       "      <td>0</td>\n",
       "      <td>46.0</td>\n",
       "      <td>38000.0</td>\n",
       "      <td>1</td>\n",
       "      <td>1</td>\n",
       "    </tr>\n",
       "    <tr>\n",
       "      <th>2</th>\n",
       "      <td>0</td>\n",
       "      <td>29.0</td>\n",
       "      <td>21000.0</td>\n",
       "      <td>0</td>\n",
       "      <td>0</td>\n",
       "    </tr>\n",
       "    <tr>\n",
       "      <th>3</th>\n",
       "      <td>0</td>\n",
       "      <td>21.0</td>\n",
       "      <td>41700.0</td>\n",
       "      <td>2</td>\n",
       "      <td>0</td>\n",
       "    </tr>\n",
       "    <tr>\n",
       "      <th>4</th>\n",
       "      <td>1</td>\n",
       "      <td>28.0</td>\n",
       "      <td>26100.0</td>\n",
       "      <td>0</td>\n",
       "      <td>0</td>\n",
       "    </tr>\n",
       "  </tbody>\n",
       "</table>\n",
       "</div>"
      ],
      "text/plain": [
       "   Пол  Возраст  Зарплата  Члены семьи  Страховые выплаты\n",
       "0    1     41.0   49600.0            1                  0\n",
       "1    0     46.0   38000.0            1                  1\n",
       "2    0     29.0   21000.0            0                  0\n",
       "3    0     21.0   41700.0            2                  0\n",
       "4    1     28.0   26100.0            0                  0"
      ]
     },
     "execution_count": 3,
     "metadata": {},
     "output_type": "execute_result"
    }
   ],
   "source": [
    "df.head()"
   ]
  },
  {
   "cell_type": "code",
   "execution_count": 4,
   "id": "3b9fcb0b",
   "metadata": {},
   "outputs": [
    {
     "name": "stdout",
     "output_type": "stream",
     "text": [
      "<class 'pandas.core.frame.DataFrame'>\n",
      "RangeIndex: 5000 entries, 0 to 4999\n",
      "Data columns (total 5 columns):\n",
      " #   Column             Non-Null Count  Dtype  \n",
      "---  ------             --------------  -----  \n",
      " 0   Пол                5000 non-null   int64  \n",
      " 1   Возраст            5000 non-null   float64\n",
      " 2   Зарплата           5000 non-null   float64\n",
      " 3   Члены семьи        5000 non-null   int64  \n",
      " 4   Страховые выплаты  5000 non-null   int64  \n",
      "dtypes: float64(2), int64(3)\n",
      "memory usage: 195.4 KB\n"
     ]
    }
   ],
   "source": [
    "df.info()"
   ]
  },
  {
   "cell_type": "code",
   "execution_count": 5,
   "id": "d6022f21",
   "metadata": {},
   "outputs": [
    {
     "name": "stdout",
     "output_type": "stream",
     "text": [
      "153\n"
     ]
    }
   ],
   "source": [
    "print(df.duplicated().sum()) "
   ]
  },
  {
   "cell_type": "code",
   "execution_count": 6,
   "id": "e0081242",
   "metadata": {},
   "outputs": [
    {
     "data": {
      "text/html": [
       "<div>\n",
       "<style scoped>\n",
       "    .dataframe tbody tr th:only-of-type {\n",
       "        vertical-align: middle;\n",
       "    }\n",
       "\n",
       "    .dataframe tbody tr th {\n",
       "        vertical-align: top;\n",
       "    }\n",
       "\n",
       "    .dataframe thead th {\n",
       "        text-align: right;\n",
       "    }\n",
       "</style>\n",
       "<table border=\"1\" class=\"dataframe\">\n",
       "  <thead>\n",
       "    <tr style=\"text-align: right;\">\n",
       "      <th></th>\n",
       "      <th>Пол</th>\n",
       "      <th>Возраст</th>\n",
       "      <th>Зарплата</th>\n",
       "      <th>Члены семьи</th>\n",
       "      <th>Страховые выплаты</th>\n",
       "    </tr>\n",
       "  </thead>\n",
       "  <tbody>\n",
       "    <tr>\n",
       "      <th>count</th>\n",
       "      <td>5000.000000</td>\n",
       "      <td>5000.000000</td>\n",
       "      <td>5000.000000</td>\n",
       "      <td>5000.000000</td>\n",
       "      <td>5000.000000</td>\n",
       "    </tr>\n",
       "    <tr>\n",
       "      <th>mean</th>\n",
       "      <td>0.499000</td>\n",
       "      <td>30.952800</td>\n",
       "      <td>39916.360000</td>\n",
       "      <td>1.194200</td>\n",
       "      <td>0.148000</td>\n",
       "    </tr>\n",
       "    <tr>\n",
       "      <th>std</th>\n",
       "      <td>0.500049</td>\n",
       "      <td>8.440807</td>\n",
       "      <td>9900.083569</td>\n",
       "      <td>1.091387</td>\n",
       "      <td>0.463183</td>\n",
       "    </tr>\n",
       "    <tr>\n",
       "      <th>min</th>\n",
       "      <td>0.000000</td>\n",
       "      <td>18.000000</td>\n",
       "      <td>5300.000000</td>\n",
       "      <td>0.000000</td>\n",
       "      <td>0.000000</td>\n",
       "    </tr>\n",
       "    <tr>\n",
       "      <th>25%</th>\n",
       "      <td>0.000000</td>\n",
       "      <td>24.000000</td>\n",
       "      <td>33300.000000</td>\n",
       "      <td>0.000000</td>\n",
       "      <td>0.000000</td>\n",
       "    </tr>\n",
       "    <tr>\n",
       "      <th>50%</th>\n",
       "      <td>0.000000</td>\n",
       "      <td>30.000000</td>\n",
       "      <td>40200.000000</td>\n",
       "      <td>1.000000</td>\n",
       "      <td>0.000000</td>\n",
       "    </tr>\n",
       "    <tr>\n",
       "      <th>75%</th>\n",
       "      <td>1.000000</td>\n",
       "      <td>37.000000</td>\n",
       "      <td>46600.000000</td>\n",
       "      <td>2.000000</td>\n",
       "      <td>0.000000</td>\n",
       "    </tr>\n",
       "    <tr>\n",
       "      <th>max</th>\n",
       "      <td>1.000000</td>\n",
       "      <td>65.000000</td>\n",
       "      <td>79000.000000</td>\n",
       "      <td>6.000000</td>\n",
       "      <td>5.000000</td>\n",
       "    </tr>\n",
       "  </tbody>\n",
       "</table>\n",
       "</div>"
      ],
      "text/plain": [
       "               Пол      Возраст      Зарплата  Члены семьи  Страховые выплаты\n",
       "count  5000.000000  5000.000000   5000.000000  5000.000000        5000.000000\n",
       "mean      0.499000    30.952800  39916.360000     1.194200           0.148000\n",
       "std       0.500049     8.440807   9900.083569     1.091387           0.463183\n",
       "min       0.000000    18.000000   5300.000000     0.000000           0.000000\n",
       "25%       0.000000    24.000000  33300.000000     0.000000           0.000000\n",
       "50%       0.000000    30.000000  40200.000000     1.000000           0.000000\n",
       "75%       1.000000    37.000000  46600.000000     2.000000           0.000000\n",
       "max       1.000000    65.000000  79000.000000     6.000000           5.000000"
      ]
     },
     "execution_count": 6,
     "metadata": {},
     "output_type": "execute_result"
    }
   ],
   "source": [
    "df.describe()"
   ]
  },
  {
   "cell_type": "markdown",
   "id": "0561b13e",
   "metadata": {},
   "source": [
    "Всего 5000 строк и 5 столбцов. Пропусков нет. Есть неверный тип данных в столбцах. Надо преобразовать float в int.\n",
    "Также есть дубликаты. Возможно просто совпадение. В связи с тем, что данные чистые, скорее всего просто совпдает возраст с заработной платой. "
   ]
  },
  {
   "cell_type": "code",
   "execution_count": 7,
   "id": "96adafe0",
   "metadata": {},
   "outputs": [],
   "source": [
    "# преобразовываем тип данных\n",
    "df['Возраст'] = df['Возраст'].astype(int)\n",
    "df['Зарплата'] = df['Зарплата'].astype(int)"
   ]
  },
  {
   "cell_type": "code",
   "execution_count": 8,
   "id": "592a928b",
   "metadata": {},
   "outputs": [
    {
     "name": "stdout",
     "output_type": "stream",
     "text": [
      "<class 'pandas.core.frame.DataFrame'>\n",
      "RangeIndex: 5000 entries, 0 to 4999\n",
      "Data columns (total 5 columns):\n",
      " #   Column             Non-Null Count  Dtype\n",
      "---  ------             --------------  -----\n",
      " 0   Пол                5000 non-null   int64\n",
      " 1   Возраст            5000 non-null   int64\n",
      " 2   Зарплата           5000 non-null   int64\n",
      " 3   Члены семьи        5000 non-null   int64\n",
      " 4   Страховые выплаты  5000 non-null   int64\n",
      "dtypes: int64(5)\n",
      "memory usage: 195.4 KB\n"
     ]
    }
   ],
   "source": [
    "df.info()"
   ]
  },
  {
   "cell_type": "code",
   "execution_count": 9,
   "id": "adc80d9b",
   "metadata": {},
   "outputs": [
    {
     "data": {
      "text/html": [
       "<div>\n",
       "<style scoped>\n",
       "    .dataframe tbody tr th:only-of-type {\n",
       "        vertical-align: middle;\n",
       "    }\n",
       "\n",
       "    .dataframe tbody tr th {\n",
       "        vertical-align: top;\n",
       "    }\n",
       "\n",
       "    .dataframe thead th {\n",
       "        text-align: right;\n",
       "    }\n",
       "</style>\n",
       "<table border=\"1\" class=\"dataframe\">\n",
       "  <thead>\n",
       "    <tr style=\"text-align: right;\">\n",
       "      <th></th>\n",
       "      <th>Пол</th>\n",
       "      <th>Возраст</th>\n",
       "      <th>Зарплата</th>\n",
       "      <th>Члены семьи</th>\n",
       "      <th>Страховые выплаты</th>\n",
       "    </tr>\n",
       "  </thead>\n",
       "  <tbody>\n",
       "    <tr>\n",
       "      <th>0</th>\n",
       "      <td>1</td>\n",
       "      <td>41</td>\n",
       "      <td>49600</td>\n",
       "      <td>1</td>\n",
       "      <td>0</td>\n",
       "    </tr>\n",
       "    <tr>\n",
       "      <th>1</th>\n",
       "      <td>0</td>\n",
       "      <td>46</td>\n",
       "      <td>38000</td>\n",
       "      <td>1</td>\n",
       "      <td>1</td>\n",
       "    </tr>\n",
       "    <tr>\n",
       "      <th>2</th>\n",
       "      <td>0</td>\n",
       "      <td>29</td>\n",
       "      <td>21000</td>\n",
       "      <td>0</td>\n",
       "      <td>0</td>\n",
       "    </tr>\n",
       "    <tr>\n",
       "      <th>3</th>\n",
       "      <td>0</td>\n",
       "      <td>21</td>\n",
       "      <td>41700</td>\n",
       "      <td>2</td>\n",
       "      <td>0</td>\n",
       "    </tr>\n",
       "    <tr>\n",
       "      <th>4</th>\n",
       "      <td>1</td>\n",
       "      <td>28</td>\n",
       "      <td>26100</td>\n",
       "      <td>0</td>\n",
       "      <td>0</td>\n",
       "    </tr>\n",
       "  </tbody>\n",
       "</table>\n",
       "</div>"
      ],
      "text/plain": [
       "   Пол  Возраст  Зарплата  Члены семьи  Страховые выплаты\n",
       "0    1       41     49600            1                  0\n",
       "1    0       46     38000            1                  1\n",
       "2    0       29     21000            0                  0\n",
       "3    0       21     41700            2                  0\n",
       "4    1       28     26100            0                  0"
      ]
     },
     "execution_count": 9,
     "metadata": {},
     "output_type": "execute_result"
    }
   ],
   "source": [
    "df.head()"
   ]
  },
  {
   "cell_type": "markdown",
   "id": "b53e8952",
   "metadata": {},
   "source": [
    "### Признаки умножают на обратимую матрицу. Изменится ли качество линейной регрессии? (Её можно обучить заново.)\n"
   ]
  },
  {
   "cell_type": "markdown",
   "id": "cda1e4f5",
   "metadata": {},
   "source": [
    "Обозначения:\n",
    "- X - матрица признаков (нулевой столбец состоит из единиц)\n",
    "- y - вектор целевого признака\n",
    "- P - обратимая квадратная матрица (матрица преобразования)\n",
    "- w - вектор весов линейной регрессии (нулевой элемент равен сдвигу)\n",
    "- a - вектор предсказаний \n",
    "- w’ - вектор весов после умножения на обратимую матрицу\n",
    "- a’ - вектор предсказаний после умножения на обратимую матрицу. "
   ]
  },
  {
   "cell_type": "markdown",
   "id": "227284ea",
   "metadata": {},
   "source": [
    "Формула предсказаний:\n",
    "$$\n",
    "a = Xw\n",
    "$$"
   ]
  },
  {
   "cell_type": "markdown",
   "id": "9ad35d5b",
   "metadata": {},
   "source": [
    "Задача обучения:\n",
    "$$\n",
    "w = \\arg\\min_w MSE(Xw, y)\n",
    "$$"
   ]
  },
  {
   "cell_type": "markdown",
   "id": "bb401353",
   "metadata": {},
   "source": [
    "Исходное уравнение весов:\n",
    "$$\n",
    "w = (X^{T}X)^{-1}X^{T}y\n",
    "$$"
   ]
  },
  {
   "cell_type": "markdown",
   "id": "76ede121",
   "metadata": {},
   "source": [
    "Формулы:\n",
    "- $AB \\neq BA$\n",
    "- $ (AB)^{-1} = B^{-1}A^{-1} $\n",
    "- $ (AB)^{T} = B^{T}A^{T} $\n",
    "- $ AA^{-1} = E $\n",
    "- $ АЕ = ЕА = А $"
   ]
  },
  {
   "cell_type": "markdown",
   "id": "1a69ee84",
   "metadata": {},
   "source": [
    "Запишем вместо Х произведение Х\\*Р и w’ вместо w."
   ]
  },
  {
   "cell_type": "markdown",
   "id": "f47b1e28",
   "metadata": {},
   "source": [
    "$ w'=((XP)^{T}(XP))^{-1}(XP)^{T}y = (P^{T}X^{T}XP)^{-1}P^{T}X^{T}y = P^{-1}(X^{T}X)^{-1}P^{T^{-1}}P^{T}X^{T}y$, где $P^{T^{-1}}P^{T} = E$, тогда $w'=P^{-1}*[(X^{T}X)^{-1}X^{T}y]=P^{-1}w$ \n",
    "\n",
    "связь между $w$ и $w'$ мы нашли, теперь подставим в \n",
    "$$\n",
    "a = Xw\n",
    "$$ \n",
    "\n",
    "Получаем: $a'= XP*w' = XPP^{-1}w = XEw = Xw = a$"
   ]
  },
  {
   "cell_type": "markdown",
   "id": "337e3e46",
   "metadata": {},
   "source": [
    "Таким образом получается, что если признаки умножить на обратимую матрицу, то качество линейной регрессии не изменится. "
   ]
  },
  {
   "cell_type": "markdown",
   "id": "b0c5ac47",
   "metadata": {},
   "source": [
    "Соотвественно, чтобы защитить данные клиентов страховой компании, можно преобразовать данные с помощью квадратной обратимой матрицы."
   ]
  },
  {
   "cell_type": "code",
   "execution_count": 10,
   "id": "97f3b8f4",
   "metadata": {},
   "outputs": [
    {
     "name": "stdout",
     "output_type": "stream",
     "text": [
      "[[-144.96202191   16.26483752  234.48403305]\n",
      " [  35.00979287   -2.54540249  -23.23419995]\n",
      " [ -67.27941477  257.28584219   27.59253369]]\n",
      "\n",
      "[[  82.80729122  968.76080405  598.82586486]\n",
      " [-454.5420903  -163.42369248  -27.4071581 ]\n",
      " [  93.22118729 -352.57639869  240.97380128]]\n"
     ]
    },
    {
     "data": {
      "text/plain": [
       "0.0"
      ]
     },
     "execution_count": 10,
     "metadata": {},
     "output_type": "execute_result"
    }
   ],
   "source": [
    "# проверим гипотезу на случайных матрицах\n",
    "np.random.seed(17894)\n",
    "check = []\n",
    "for i in range(1200):\n",
    "    P = np.random.normal(10, 200, size=(3,3))\n",
    "    A = np.random.normal(70, 500, size=(3,3))\n",
    "    check.append(np.linalg.det(np.rint(A @ P @ np.linalg.inv(P)) == A))\n",
    "print(P)\n",
    "print()\n",
    "print(A)\n",
    "np.prod(np.array(check))"
   ]
  },
  {
   "cell_type": "markdown",
   "id": "876ff3ad",
   "metadata": {},
   "source": [
    "## Алгоритм преобразования"
   ]
  },
  {
   "cell_type": "markdown",
   "id": "d89cea8a",
   "metadata": {},
   "source": [
    "**Алгоритм**\n",
    "\n",
    "Для шифрования воспользуемся квадратной обратимой матрицей - $P$, где $XP=X_{cripto}$ - процесс шифрования.\n",
    "\n",
    "Создадим случайную квадратную обратимую матрицу и умножим на нее признаки. Сравним качество линейной регрессии до шифрования и после. "
   ]
  },
  {
   "cell_type": "markdown",
   "id": "b9eb9541",
   "metadata": {},
   "source": [
    "## Проверка алгоритма"
   ]
  },
  {
   "cell_type": "code",
   "execution_count": 11,
   "id": "315c5498",
   "metadata": {},
   "outputs": [],
   "source": [
    "X = df.drop('Страховые выплаты', axis = 1)\n",
    "Y = df['Страховые выплаты']\n",
    "x_train, x_test, y_train, y_test = train_test_split(X, Y, test_size=0.25, random_state=12345)"
   ]
  },
  {
   "cell_type": "code",
   "execution_count": 12,
   "id": "33b38b8e",
   "metadata": {},
   "outputs": [],
   "source": [
    "class LinearRegression:\n",
    "    def fit(self, f_train, t_train):\n",
    "        X = np.concatenate((np.ones((f_train.shape[0], 1)), f_train), axis=1)\n",
    "        y = t_train\n",
    "        w = (np.linalg.inv(X.T.dot(X)).dot(X.T)).dot(y)\n",
    "        self.w = w[1:]\n",
    "        self.w0 = w[0]\n",
    "\n",
    "    def predict(self, f_test):\n",
    "        return f_test.dot(self.w) + self.w0"
   ]
  },
  {
   "cell_type": "code",
   "execution_count": 13,
   "id": "858d1cd7",
   "metadata": {},
   "outputs": [
    {
     "name": "stdout",
     "output_type": "stream",
     "text": [
      "0.43522756840833365\n"
     ]
    }
   ],
   "source": [
    "model = LinearRegression()\n",
    "model.fit(x_train, y_train)\n",
    "predictions = model.predict(x_test)\n",
    "print(r2_score(y_test, predictions))"
   ]
  },
  {
   "cell_type": "code",
   "execution_count": 14,
   "id": "38e47084",
   "metadata": {},
   "outputs": [
    {
     "name": "stdout",
     "output_type": "stream",
     "text": [
      "0.42494550308169177\n",
      "0.4249455030816731\n"
     ]
    }
   ],
   "source": [
    "model = LinearRegression()\n",
    "model.fit(X, Y)\n",
    "predictions = pd.Series(model.predict(X))\n",
    "r2_without_cripto = r2_score(Y, predictions)\n",
    "\n",
    "#Модель для шифрования\n",
    "model_cripto = LinearRegression()\n",
    "\n",
    "#Шифруем\n",
    "loc = np.random.randint(2,100)\n",
    "std = np.random.randint(2,100)\n",
    "P = np.random.normal(loc, std, size=(4,4)).astype('int64')\n",
    "X_cripto = pd.DataFrame(data = X.values @ P, columns = X.columns)\n",
    "\n",
    "#Проверка на шифрованных данных\n",
    "model_cripto.fit(X_cripto, Y)\n",
    "predictions = pd.Series(model_cripto.predict(X_cripto))\n",
    "r2_with_cripto = r2_score(Y, predictions)\n",
    "\n",
    "print(r2_without_cripto)\n",
    "print(r2_with_cripto)"
   ]
  },
  {
   "cell_type": "code",
   "execution_count": 15,
   "id": "7bcac3e6",
   "metadata": {},
   "outputs": [
    {
     "name": "stdout",
     "output_type": "stream",
     "text": [
      "[[-0.00814682  0.08995558 -0.03759981  0.01325129]\n",
      " [ 0.01640759 -0.06021253  0.03304891 -0.02740318]\n",
      " [ 0.00838055 -0.01489192 -0.00908432  0.02467419]\n",
      " [-0.00283582 -0.02431809  0.02625072 -0.00031466]]\n"
     ]
    }
   ],
   "source": [
    "# проверим созданную матрицу P на обратимость\n",
    "P_inv = np.linalg.inv(P)\n",
    "print(P_inv)"
   ]
  },
  {
   "cell_type": "code",
   "execution_count": 16,
   "id": "38a25023",
   "metadata": {},
   "outputs": [
    {
     "data": {
      "text/html": [
       "<div>\n",
       "<style scoped>\n",
       "    .dataframe tbody tr th:only-of-type {\n",
       "        vertical-align: middle;\n",
       "    }\n",
       "\n",
       "    .dataframe tbody tr th {\n",
       "        vertical-align: top;\n",
       "    }\n",
       "\n",
       "    .dataframe thead th {\n",
       "        text-align: right;\n",
       "    }\n",
       "</style>\n",
       "<table border=\"1\" class=\"dataframe\">\n",
       "  <thead>\n",
       "    <tr style=\"text-align: right;\">\n",
       "      <th></th>\n",
       "      <th>Пол</th>\n",
       "      <th>Возраст</th>\n",
       "      <th>Зарплата</th>\n",
       "      <th>Члены семьи</th>\n",
       "    </tr>\n",
       "  </thead>\n",
       "  <tbody>\n",
       "    <tr>\n",
       "      <th>0</th>\n",
       "      <td>1588413</td>\n",
       "      <td>1091918</td>\n",
       "      <td>396998</td>\n",
       "      <td>2927302</td>\n",
       "    </tr>\n",
       "    <tr>\n",
       "      <th>1</th>\n",
       "      <td>1217298</td>\n",
       "      <td>836731</td>\n",
       "      <td>304168</td>\n",
       "      <td>2242997</td>\n",
       "    </tr>\n",
       "    <tr>\n",
       "      <th>2</th>\n",
       "      <td>672812</td>\n",
       "      <td>462464</td>\n",
       "      <td>168087</td>\n",
       "      <td>1239609</td>\n",
       "    </tr>\n",
       "    <tr>\n",
       "      <th>3</th>\n",
       "      <td>1335008</td>\n",
       "      <td>917726</td>\n",
       "      <td>333723</td>\n",
       "      <td>2460803</td>\n",
       "    </tr>\n",
       "    <tr>\n",
       "      <th>4</th>\n",
       "      <td>836039</td>\n",
       "      <td>574715</td>\n",
       "      <td>208929</td>\n",
       "      <td>1540498</td>\n",
       "    </tr>\n",
       "  </tbody>\n",
       "</table>\n",
       "</div>"
      ],
      "text/plain": [
       "       Пол  Возраст  Зарплата  Члены семьи\n",
       "0  1588413  1091918    396998      2927302\n",
       "1  1217298   836731    304168      2242997\n",
       "2   672812   462464    168087      1239609\n",
       "3  1335008   917726    333723      2460803\n",
       "4   836039   574715    208929      1540498"
      ]
     },
     "execution_count": 16,
     "metadata": {},
     "output_type": "execute_result"
    }
   ],
   "source": [
    "X_cripto.head()"
   ]
  },
  {
   "cell_type": "markdown",
   "id": "aaf8c23a",
   "metadata": {},
   "source": [
    "## Вывод\n",
    "Данные были загружены и изучены. Не было обнаружено пропусков, однако были дубликаты, скорее всего связаны со схожестью информации по клиентам. \n",
    "Проверена и доказана гипотеза о том, что если признаки умножить на обратимую матрицу, то качество линейной регрессии не изменится. \n",
    "Был предложен алгоритм преобразования данных для защиты персональной информации. Алгоритм представляет собой преобразование данных за счет умножения на обратимую квадратную матрицу. "
   ]
  }
 ],
 "metadata": {
  "ExecuteTimeLog": [
   {
    "duration": 1225,
    "start_time": "2022-08-03T10:41:13.386Z"
   },
   {
    "duration": 77,
    "start_time": "2022-08-03T10:41:14.613Z"
   },
   {
    "duration": 15,
    "start_time": "2022-08-03T10:41:14.692Z"
   },
   {
    "duration": 17,
    "start_time": "2022-08-03T10:41:14.709Z"
   },
   {
    "duration": 20,
    "start_time": "2022-08-03T10:41:14.728Z"
   },
   {
    "duration": 30,
    "start_time": "2022-08-03T10:41:14.750Z"
   },
   {
    "duration": 4,
    "start_time": "2022-08-03T10:41:14.781Z"
   },
   {
    "duration": 15,
    "start_time": "2022-08-03T10:41:14.787Z"
   },
   {
    "duration": 11,
    "start_time": "2022-08-03T10:41:14.803Z"
   },
   {
    "duration": 131,
    "start_time": "2022-08-03T10:41:14.816Z"
   },
   {
    "duration": 10,
    "start_time": "2022-08-03T10:41:14.949Z"
   },
   {
    "duration": 80,
    "start_time": "2022-08-03T10:41:14.961Z"
   },
   {
    "duration": 14,
    "start_time": "2022-08-03T10:41:15.043Z"
   },
   {
    "duration": 107,
    "start_time": "2022-08-03T10:41:15.139Z"
   },
   {
    "duration": 204,
    "start_time": "2022-08-03T10:41:15.248Z"
   },
   {
    "duration": 4,
    "start_time": "2022-08-03T10:41:34.778Z"
   },
   {
    "duration": 9,
    "start_time": "2022-08-03T10:43:04.330Z"
   },
   {
    "duration": 4,
    "start_time": "2022-08-03T10:44:31.449Z"
   },
   {
    "duration": 3240,
    "start_time": "2022-08-03T10:45:29.520Z"
   },
   {
    "duration": 1390,
    "start_time": "2022-08-03T10:47:08.326Z"
   },
   {
    "duration": 46,
    "start_time": "2022-08-03T10:47:09.718Z"
   },
   {
    "duration": 17,
    "start_time": "2022-08-03T10:47:09.767Z"
   },
   {
    "duration": 14,
    "start_time": "2022-08-03T10:47:09.786Z"
   },
   {
    "duration": 13,
    "start_time": "2022-08-03T10:47:09.804Z"
   },
   {
    "duration": 38,
    "start_time": "2022-08-03T10:47:09.818Z"
   },
   {
    "duration": 5,
    "start_time": "2022-08-03T10:47:09.858Z"
   },
   {
    "duration": 14,
    "start_time": "2022-08-03T10:47:09.864Z"
   },
   {
    "duration": 23,
    "start_time": "2022-08-03T10:47:09.880Z"
   },
   {
    "duration": 142,
    "start_time": "2022-08-03T10:47:09.905Z"
   },
   {
    "duration": 9,
    "start_time": "2022-08-03T10:47:10.049Z"
   },
   {
    "duration": 79,
    "start_time": "2022-08-03T10:47:10.060Z"
   },
   {
    "duration": 17,
    "start_time": "2022-08-03T10:47:10.141Z"
   },
   {
    "duration": 187,
    "start_time": "2022-08-03T10:47:10.161Z"
   },
   {
    "duration": 196,
    "start_time": "2022-08-03T10:47:10.351Z"
   },
   {
    "duration": 3,
    "start_time": "2022-08-03T10:54:44.072Z"
   },
   {
    "duration": 40,
    "start_time": "2022-08-03T10:54:44.078Z"
   },
   {
    "duration": 9,
    "start_time": "2022-08-03T10:54:44.120Z"
   },
   {
    "duration": 30,
    "start_time": "2022-08-03T10:54:44.132Z"
   },
   {
    "duration": 6,
    "start_time": "2022-08-03T10:54:44.165Z"
   },
   {
    "duration": 36,
    "start_time": "2022-08-03T10:54:44.174Z"
   },
   {
    "duration": 6,
    "start_time": "2022-08-03T10:54:44.212Z"
   },
   {
    "duration": 24,
    "start_time": "2022-08-03T10:54:44.220Z"
   },
   {
    "duration": 9,
    "start_time": "2022-08-03T10:54:44.246Z"
   },
   {
    "duration": 197,
    "start_time": "2022-08-03T10:54:44.258Z"
   },
   {
    "duration": 10,
    "start_time": "2022-08-03T10:54:44.458Z"
   },
   {
    "duration": 5,
    "start_time": "2022-08-03T10:54:44.540Z"
   },
   {
    "duration": 91,
    "start_time": "2022-08-03T10:54:44.548Z"
   },
   {
    "duration": 4,
    "start_time": "2022-08-03T10:54:48.582Z"
   },
   {
    "duration": 5,
    "start_time": "2022-08-03T10:54:52.032Z"
   },
   {
    "duration": 5,
    "start_time": "2022-08-03T10:55:03.416Z"
   },
   {
    "duration": 5,
    "start_time": "2022-08-03T10:55:09.078Z"
   },
   {
    "duration": 4,
    "start_time": "2022-08-03T10:55:22.231Z"
   }
  ],
  "kernelspec": {
   "display_name": "Python 3 (ipykernel)",
   "language": "python",
   "name": "python3"
  },
  "language_info": {
   "codemirror_mode": {
    "name": "ipython",
    "version": 3
   },
   "file_extension": ".py",
   "mimetype": "text/x-python",
   "name": "python",
   "nbconvert_exporter": "python",
   "pygments_lexer": "ipython3",
   "version": "3.9.7"
  },
  "toc": {
   "base_numbering": 1,
   "nav_menu": {},
   "number_sections": true,
   "sideBar": true,
   "skip_h1_title": true,
   "title_cell": "Table of Contents",
   "title_sidebar": "Contents",
   "toc_cell": false,
   "toc_position": {},
   "toc_section_display": true,
   "toc_window_display": false
  }
 },
 "nbformat": 4,
 "nbformat_minor": 5
}
