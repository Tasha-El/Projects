{
 "cells": [
  {
   "cell_type": "markdown",
   "id": "b3173a23",
   "metadata": {},
   "source": [
    "# Исследование надежности заемщиков"
   ]
  },
  {
   "cell_type": "markdown",
   "id": "7b5225e1",
   "metadata": {},
   "source": [
    "## 1. Обзор данных"
   ]
  },
  {
   "cell_type": "code",
   "execution_count": 1,
   "id": "b35f0508",
   "metadata": {},
   "outputs": [],
   "source": [
    "import pandas as pd"
   ]
  },
  {
   "cell_type": "code",
   "execution_count": 2,
   "id": "a549ea92",
   "metadata": {},
   "outputs": [],
   "source": [
    "data = pd.read_csv(\"/datasets/data.csv\")"
   ]
  },
  {
   "cell_type": "code",
   "execution_count": 3,
   "id": "27d896d8",
   "metadata": {},
   "outputs": [
    {
     "data": {
      "text/html": [
       "<div>\n",
       "<style scoped>\n",
       "    .dataframe tbody tr th:only-of-type {\n",
       "        vertical-align: middle;\n",
       "    }\n",
       "\n",
       "    .dataframe tbody tr th {\n",
       "        vertical-align: top;\n",
       "    }\n",
       "\n",
       "    .dataframe thead th {\n",
       "        text-align: right;\n",
       "    }\n",
       "</style>\n",
       "<table border=\"1\" class=\"dataframe\">\n",
       "  <thead>\n",
       "    <tr style=\"text-align: right;\">\n",
       "      <th></th>\n",
       "      <th>children</th>\n",
       "      <th>days_employed</th>\n",
       "      <th>dob_years</th>\n",
       "      <th>education</th>\n",
       "      <th>education_id</th>\n",
       "      <th>family_status</th>\n",
       "      <th>family_status_id</th>\n",
       "      <th>gender</th>\n",
       "      <th>income_type</th>\n",
       "      <th>debt</th>\n",
       "      <th>total_income</th>\n",
       "      <th>purpose</th>\n",
       "    </tr>\n",
       "  </thead>\n",
       "  <tbody>\n",
       "    <tr>\n",
       "      <th>0</th>\n",
       "      <td>1</td>\n",
       "      <td>-8437.673028</td>\n",
       "      <td>42</td>\n",
       "      <td>высшее</td>\n",
       "      <td>0</td>\n",
       "      <td>женат / замужем</td>\n",
       "      <td>0</td>\n",
       "      <td>F</td>\n",
       "      <td>сотрудник</td>\n",
       "      <td>0</td>\n",
       "      <td>253875.639453</td>\n",
       "      <td>покупка жилья</td>\n",
       "    </tr>\n",
       "    <tr>\n",
       "      <th>1</th>\n",
       "      <td>1</td>\n",
       "      <td>-4024.803754</td>\n",
       "      <td>36</td>\n",
       "      <td>среднее</td>\n",
       "      <td>1</td>\n",
       "      <td>женат / замужем</td>\n",
       "      <td>0</td>\n",
       "      <td>F</td>\n",
       "      <td>сотрудник</td>\n",
       "      <td>0</td>\n",
       "      <td>112080.014102</td>\n",
       "      <td>приобретение автомобиля</td>\n",
       "    </tr>\n",
       "    <tr>\n",
       "      <th>2</th>\n",
       "      <td>0</td>\n",
       "      <td>-5623.422610</td>\n",
       "      <td>33</td>\n",
       "      <td>Среднее</td>\n",
       "      <td>1</td>\n",
       "      <td>женат / замужем</td>\n",
       "      <td>0</td>\n",
       "      <td>M</td>\n",
       "      <td>сотрудник</td>\n",
       "      <td>0</td>\n",
       "      <td>145885.952297</td>\n",
       "      <td>покупка жилья</td>\n",
       "    </tr>\n",
       "    <tr>\n",
       "      <th>3</th>\n",
       "      <td>3</td>\n",
       "      <td>-4124.747207</td>\n",
       "      <td>32</td>\n",
       "      <td>среднее</td>\n",
       "      <td>1</td>\n",
       "      <td>женат / замужем</td>\n",
       "      <td>0</td>\n",
       "      <td>M</td>\n",
       "      <td>сотрудник</td>\n",
       "      <td>0</td>\n",
       "      <td>267628.550329</td>\n",
       "      <td>дополнительное образование</td>\n",
       "    </tr>\n",
       "    <tr>\n",
       "      <th>4</th>\n",
       "      <td>0</td>\n",
       "      <td>340266.072047</td>\n",
       "      <td>53</td>\n",
       "      <td>среднее</td>\n",
       "      <td>1</td>\n",
       "      <td>гражданский брак</td>\n",
       "      <td>1</td>\n",
       "      <td>F</td>\n",
       "      <td>пенсионер</td>\n",
       "      <td>0</td>\n",
       "      <td>158616.077870</td>\n",
       "      <td>сыграть свадьбу</td>\n",
       "    </tr>\n",
       "    <tr>\n",
       "      <th>5</th>\n",
       "      <td>0</td>\n",
       "      <td>-926.185831</td>\n",
       "      <td>27</td>\n",
       "      <td>высшее</td>\n",
       "      <td>0</td>\n",
       "      <td>гражданский брак</td>\n",
       "      <td>1</td>\n",
       "      <td>M</td>\n",
       "      <td>компаньон</td>\n",
       "      <td>0</td>\n",
       "      <td>255763.565419</td>\n",
       "      <td>покупка жилья</td>\n",
       "    </tr>\n",
       "    <tr>\n",
       "      <th>6</th>\n",
       "      <td>0</td>\n",
       "      <td>-2879.202052</td>\n",
       "      <td>43</td>\n",
       "      <td>высшее</td>\n",
       "      <td>0</td>\n",
       "      <td>женат / замужем</td>\n",
       "      <td>0</td>\n",
       "      <td>F</td>\n",
       "      <td>компаньон</td>\n",
       "      <td>0</td>\n",
       "      <td>240525.971920</td>\n",
       "      <td>операции с жильем</td>\n",
       "    </tr>\n",
       "    <tr>\n",
       "      <th>7</th>\n",
       "      <td>0</td>\n",
       "      <td>-152.779569</td>\n",
       "      <td>50</td>\n",
       "      <td>СРЕДНЕЕ</td>\n",
       "      <td>1</td>\n",
       "      <td>женат / замужем</td>\n",
       "      <td>0</td>\n",
       "      <td>M</td>\n",
       "      <td>сотрудник</td>\n",
       "      <td>0</td>\n",
       "      <td>135823.934197</td>\n",
       "      <td>образование</td>\n",
       "    </tr>\n",
       "    <tr>\n",
       "      <th>8</th>\n",
       "      <td>2</td>\n",
       "      <td>-6929.865299</td>\n",
       "      <td>35</td>\n",
       "      <td>ВЫСШЕЕ</td>\n",
       "      <td>0</td>\n",
       "      <td>гражданский брак</td>\n",
       "      <td>1</td>\n",
       "      <td>F</td>\n",
       "      <td>сотрудник</td>\n",
       "      <td>0</td>\n",
       "      <td>95856.832424</td>\n",
       "      <td>на проведение свадьбы</td>\n",
       "    </tr>\n",
       "    <tr>\n",
       "      <th>9</th>\n",
       "      <td>0</td>\n",
       "      <td>-2188.756445</td>\n",
       "      <td>41</td>\n",
       "      <td>среднее</td>\n",
       "      <td>1</td>\n",
       "      <td>женат / замужем</td>\n",
       "      <td>0</td>\n",
       "      <td>M</td>\n",
       "      <td>сотрудник</td>\n",
       "      <td>0</td>\n",
       "      <td>144425.938277</td>\n",
       "      <td>покупка жилья для семьи</td>\n",
       "    </tr>\n",
       "    <tr>\n",
       "      <th>10</th>\n",
       "      <td>2</td>\n",
       "      <td>-4171.483647</td>\n",
       "      <td>36</td>\n",
       "      <td>высшее</td>\n",
       "      <td>0</td>\n",
       "      <td>женат / замужем</td>\n",
       "      <td>0</td>\n",
       "      <td>M</td>\n",
       "      <td>компаньон</td>\n",
       "      <td>0</td>\n",
       "      <td>113943.491460</td>\n",
       "      <td>покупка недвижимости</td>\n",
       "    </tr>\n",
       "    <tr>\n",
       "      <th>11</th>\n",
       "      <td>0</td>\n",
       "      <td>-792.701887</td>\n",
       "      <td>40</td>\n",
       "      <td>среднее</td>\n",
       "      <td>1</td>\n",
       "      <td>женат / замужем</td>\n",
       "      <td>0</td>\n",
       "      <td>F</td>\n",
       "      <td>сотрудник</td>\n",
       "      <td>0</td>\n",
       "      <td>77069.234271</td>\n",
       "      <td>покупка коммерческой недвижимости</td>\n",
       "    </tr>\n",
       "    <tr>\n",
       "      <th>12</th>\n",
       "      <td>0</td>\n",
       "      <td>NaN</td>\n",
       "      <td>65</td>\n",
       "      <td>среднее</td>\n",
       "      <td>1</td>\n",
       "      <td>гражданский брак</td>\n",
       "      <td>1</td>\n",
       "      <td>M</td>\n",
       "      <td>пенсионер</td>\n",
       "      <td>0</td>\n",
       "      <td>NaN</td>\n",
       "      <td>сыграть свадьбу</td>\n",
       "    </tr>\n",
       "    <tr>\n",
       "      <th>13</th>\n",
       "      <td>0</td>\n",
       "      <td>-1846.641941</td>\n",
       "      <td>54</td>\n",
       "      <td>неоконченное высшее</td>\n",
       "      <td>2</td>\n",
       "      <td>женат / замужем</td>\n",
       "      <td>0</td>\n",
       "      <td>F</td>\n",
       "      <td>сотрудник</td>\n",
       "      <td>0</td>\n",
       "      <td>130458.228857</td>\n",
       "      <td>приобретение автомобиля</td>\n",
       "    </tr>\n",
       "    <tr>\n",
       "      <th>14</th>\n",
       "      <td>0</td>\n",
       "      <td>-1844.956182</td>\n",
       "      <td>56</td>\n",
       "      <td>высшее</td>\n",
       "      <td>0</td>\n",
       "      <td>гражданский брак</td>\n",
       "      <td>1</td>\n",
       "      <td>F</td>\n",
       "      <td>компаньон</td>\n",
       "      <td>1</td>\n",
       "      <td>165127.911772</td>\n",
       "      <td>покупка жилой недвижимости</td>\n",
       "    </tr>\n",
       "  </tbody>\n",
       "</table>\n",
       "</div>"
      ],
      "text/plain": [
       "    children  days_employed  dob_years            education  education_id  \\\n",
       "0          1   -8437.673028         42               высшее             0   \n",
       "1          1   -4024.803754         36              среднее             1   \n",
       "2          0   -5623.422610         33              Среднее             1   \n",
       "3          3   -4124.747207         32              среднее             1   \n",
       "4          0  340266.072047         53              среднее             1   \n",
       "5          0    -926.185831         27               высшее             0   \n",
       "6          0   -2879.202052         43               высшее             0   \n",
       "7          0    -152.779569         50              СРЕДНЕЕ             1   \n",
       "8          2   -6929.865299         35               ВЫСШЕЕ             0   \n",
       "9          0   -2188.756445         41              среднее             1   \n",
       "10         2   -4171.483647         36               высшее             0   \n",
       "11         0    -792.701887         40              среднее             1   \n",
       "12         0            NaN         65              среднее             1   \n",
       "13         0   -1846.641941         54  неоконченное высшее             2   \n",
       "14         0   -1844.956182         56               высшее             0   \n",
       "\n",
       "       family_status  family_status_id gender income_type  debt  \\\n",
       "0    женат / замужем                 0      F   сотрудник     0   \n",
       "1    женат / замужем                 0      F   сотрудник     0   \n",
       "2    женат / замужем                 0      M   сотрудник     0   \n",
       "3    женат / замужем                 0      M   сотрудник     0   \n",
       "4   гражданский брак                 1      F   пенсионер     0   \n",
       "5   гражданский брак                 1      M   компаньон     0   \n",
       "6    женат / замужем                 0      F   компаньон     0   \n",
       "7    женат / замужем                 0      M   сотрудник     0   \n",
       "8   гражданский брак                 1      F   сотрудник     0   \n",
       "9    женат / замужем                 0      M   сотрудник     0   \n",
       "10   женат / замужем                 0      M   компаньон     0   \n",
       "11   женат / замужем                 0      F   сотрудник     0   \n",
       "12  гражданский брак                 1      M   пенсионер     0   \n",
       "13   женат / замужем                 0      F   сотрудник     0   \n",
       "14  гражданский брак                 1      F   компаньон     1   \n",
       "\n",
       "     total_income                            purpose  \n",
       "0   253875.639453                      покупка жилья  \n",
       "1   112080.014102            приобретение автомобиля  \n",
       "2   145885.952297                      покупка жилья  \n",
       "3   267628.550329         дополнительное образование  \n",
       "4   158616.077870                    сыграть свадьбу  \n",
       "5   255763.565419                      покупка жилья  \n",
       "6   240525.971920                  операции с жильем  \n",
       "7   135823.934197                        образование  \n",
       "8    95856.832424              на проведение свадьбы  \n",
       "9   144425.938277            покупка жилья для семьи  \n",
       "10  113943.491460               покупка недвижимости  \n",
       "11   77069.234271  покупка коммерческой недвижимости  \n",
       "12            NaN                    сыграть свадьбу  \n",
       "13  130458.228857            приобретение автомобиля  \n",
       "14  165127.911772         покупка жилой недвижимости  "
      ]
     },
     "execution_count": 3,
     "metadata": {},
     "output_type": "execute_result"
    }
   ],
   "source": [
    "data.head(15)"
   ]
  },
  {
   "cell_type": "code",
   "execution_count": 4,
   "id": "1c3b57fb",
   "metadata": {},
   "outputs": [
    {
     "name": "stdout",
     "output_type": "stream",
     "text": [
      "<class 'pandas.core.frame.DataFrame'>\n",
      "RangeIndex: 21525 entries, 0 to 21524\n",
      "Data columns (total 12 columns):\n",
      " #   Column            Non-Null Count  Dtype  \n",
      "---  ------            --------------  -----  \n",
      " 0   children          21525 non-null  int64  \n",
      " 1   days_employed     19351 non-null  float64\n",
      " 2   dob_years         21525 non-null  int64  \n",
      " 3   education         21525 non-null  object \n",
      " 4   education_id      21525 non-null  int64  \n",
      " 5   family_status     21525 non-null  object \n",
      " 6   family_status_id  21525 non-null  int64  \n",
      " 7   gender            21525 non-null  object \n",
      " 8   income_type       21525 non-null  object \n",
      " 9   debt              21525 non-null  int64  \n",
      " 10  total_income      19351 non-null  float64\n",
      " 11  purpose           21525 non-null  object \n",
      "dtypes: float64(2), int64(5), object(5)\n",
      "memory usage: 2.0+ MB\n"
     ]
    }
   ],
   "source": [
    "data.info()"
   ]
  },
  {
   "cell_type": "markdown",
   "id": "43524973",
   "metadata": {},
   "source": [
    "В таблцице 12 столбцов, типы данных int64, object, float64 \n",
    "\n",
    "Количество значений в столбцах различается. Значит, в данных есть пропущенные значения.\n",
    "\n",
    "Также необходимо изменить тип данных в столбцах: \n",
    "- days_employed (подсчет стажа идет кратно дню, поэтому должно быть целое число, а не вещественное. \n",
    "- total_income (ежемесячный доход лучше также записать как целые числа для удобства расчетов)\n",
    "\n",
    "Предварительно можно утверждать, что данных достаточно для проверки гипотез. Но встречаются пропуски в данных, а в колоноках — разный регистр и не верный тип данных.\n",
    "Чтобы двигаться дальше, нужно устранить проблемы в данных."
   ]
  },
  {
   "cell_type": "markdown",
   "id": "e8b2f2f0",
   "metadata": {},
   "source": [
    "## 2. Удаление дубликатов."
   ]
  },
  {
   "cell_type": "code",
   "execution_count": 5,
   "id": "7e308397",
   "metadata": {
    "scrolled": false
   },
   "outputs": [
    {
     "data": {
      "text/plain": [
       "54"
      ]
     },
     "execution_count": 5,
     "metadata": {},
     "output_type": "execute_result"
    }
   ],
   "source": [
    "data.duplicated().sum()"
   ]
  },
  {
   "cell_type": "code",
   "execution_count": 6,
   "id": "f5c1de9b",
   "metadata": {},
   "outputs": [],
   "source": [
    "data = data.drop_duplicates().reset_index(drop=True)"
   ]
  },
  {
   "cell_type": "markdown",
   "id": "2a5c10cf",
   "metadata": {},
   "source": [
    "## 3. Заполнение пропусков"
   ]
  },
  {
   "cell_type": "code",
   "execution_count": 7,
   "id": "f2f5c7fa",
   "metadata": {},
   "outputs": [
    {
     "data": {
      "text/plain": [
       "children               0\n",
       "days_employed       2120\n",
       "dob_years              0\n",
       "education              0\n",
       "education_id           0\n",
       "family_status          0\n",
       "family_status_id       0\n",
       "gender                 0\n",
       "income_type            0\n",
       "debt                   0\n",
       "total_income        2120\n",
       "purpose                0\n",
       "dtype: int64"
      ]
     },
     "execution_count": 7,
     "metadata": {},
     "output_type": "execute_result"
    }
   ],
   "source": [
    "data.isna().sum()"
   ]
  },
  {
   "cell_type": "markdown",
   "id": "c3ddae15",
   "metadata": {},
   "source": [
    "В двух столбцах есть пропущенные значения: days_employed и total_income. Необходимо заполнить эти пробелы, а также изменить тип данных на int.\n",
    "\n",
    "В столбце 'days_employed' пропуски не важны для работы. Достаточно заменить их медианными значениями.\n",
    "\n",
    "Ежемесячный доход имеет слишком большой разрыв и среднее значение может исказить данные, поэтому опять прибегну к медианному значению."
   ]
  },
  {
   "cell_type": "code",
   "execution_count": 8,
   "id": "ec3c05f2",
   "metadata": {},
   "outputs": [],
   "source": [
    "data['days_employed'] = data.groupby('dob_years')['days_employed'].transform(lambda x : x.fillna(x.median()))\n",
    "data.groupby('dob_years')['days_employed'].median()\n",
    "data.loc[data['days_employed'] == 0, 'days_employed'] = data.groupby('dob_years')['days_employed'].transform('median')"
   ]
  },
  {
   "cell_type": "code",
   "execution_count": 9,
   "id": "59a74895",
   "metadata": {},
   "outputs": [],
   "source": [
    "data['total_income'] = data.groupby('income_type')['total_income'].transform(lambda x : x.fillna(x.median()))\n",
    "data.groupby('income_type')['total_income'].median()\n",
    "data.loc[data['total_income'] == 0, 'total_income'] = data.groupby('income_type')['total_income'].transform('median')"
   ]
  },
  {
   "cell_type": "code",
   "execution_count": 10,
   "id": "73137066",
   "metadata": {
    "scrolled": true
   },
   "outputs": [
    {
     "data": {
      "text/plain": [
       "children            0\n",
       "days_employed       0\n",
       "dob_years           0\n",
       "education           0\n",
       "education_id        0\n",
       "family_status       0\n",
       "family_status_id    0\n",
       "gender              0\n",
       "income_type         0\n",
       "debt                0\n",
       "total_income        0\n",
       "purpose             0\n",
       "dtype: int64"
      ]
     },
     "execution_count": 10,
     "metadata": {},
     "output_type": "execute_result"
    }
   ],
   "source": [
    "data.isna().sum()"
   ]
  },
  {
   "cell_type": "markdown",
   "id": "fefb1848",
   "metadata": {},
   "source": [
    "## 4. Изменение типов данных."
   ]
  },
  {
   "cell_type": "markdown",
   "id": "29a88204",
   "metadata": {},
   "source": [
    "Изменяю тип данных в столбце 'total_income'. А в 'days_employed' уберу минусы. "
   ]
  },
  {
   "cell_type": "code",
   "execution_count": 11,
   "id": "38c3d230",
   "metadata": {},
   "outputs": [],
   "source": [
    "data['total_income'] = data[['total_income','days_employed']].astype('int')"
   ]
  },
  {
   "cell_type": "code",
   "execution_count": 12,
   "id": "1cfac745",
   "metadata": {},
   "outputs": [],
   "source": [
    "data['days_employed']=data['days_employed'].abs()"
   ]
  },
  {
   "cell_type": "code",
   "execution_count": 13,
   "id": "75cd80ac",
   "metadata": {},
   "outputs": [
    {
     "data": {
      "text/plain": [
       "array([ 1,  0,  3,  2, -1,  4, 20,  5])"
      ]
     },
     "execution_count": 13,
     "metadata": {},
     "output_type": "execute_result"
    }
   ],
   "source": [
    "data['children'].unique()"
   ]
  },
  {
   "cell_type": "markdown",
   "id": "00e1c5ca",
   "metadata": {},
   "source": [
    "Исправляю аномальные данные в столбце. "
   ]
  },
  {
   "cell_type": "code",
   "execution_count": 14,
   "id": "e5aee5fb",
   "metadata": {},
   "outputs": [],
   "source": [
    "data['children'] = data['children'].replace(20,2)"
   ]
  },
  {
   "cell_type": "code",
   "execution_count": 15,
   "id": "b0d3b528",
   "metadata": {},
   "outputs": [],
   "source": [
    "data['children'] = data['children'].replace(-1,1)"
   ]
  },
  {
   "cell_type": "markdown",
   "id": "52949369",
   "metadata": {},
   "source": [
    "## 5. Поиск и удаление неявных дубликатов."
   ]
  },
  {
   "cell_type": "markdown",
   "id": "f6f89f0f",
   "metadata": {},
   "source": [
    "Вывожу на экран список уникальных названий столбца 'education', отсортированный в алфавитном порядке."
   ]
  },
  {
   "cell_type": "code",
   "execution_count": 16,
   "id": "a48b7d73",
   "metadata": {},
   "outputs": [
    {
     "data": {
      "text/plain": [
       "['ВЫСШЕЕ',\n",
       " 'Высшее',\n",
       " 'НАЧАЛЬНОЕ',\n",
       " 'НЕОКОНЧЕННОЕ ВЫСШЕЕ',\n",
       " 'Начальное',\n",
       " 'Неоконченное высшее',\n",
       " 'СРЕДНЕЕ',\n",
       " 'Среднее',\n",
       " 'УЧЕНАЯ СТЕПЕНЬ',\n",
       " 'Ученая степень',\n",
       " 'высшее',\n",
       " 'начальное',\n",
       " 'неоконченное высшее',\n",
       " 'среднее',\n",
       " 'ученая степень']"
      ]
     },
     "execution_count": 16,
     "metadata": {},
     "output_type": "execute_result"
    }
   ],
   "source": [
    "sorted(data['education'].unique())"
   ]
  },
  {
   "cell_type": "markdown",
   "id": "26985c74",
   "metadata": {},
   "source": [
    "В столбце есть одни и те же значения, но записанные по-разному: с использованием заглавных и строчных букв. Нужно привести их к одному регистру. "
   ]
  },
  {
   "cell_type": "code",
   "execution_count": 17,
   "id": "65b85423",
   "metadata": {},
   "outputs": [],
   "source": [
    "data['education'] = data['education'].str.lower()"
   ]
  },
  {
   "cell_type": "code",
   "execution_count": 18,
   "id": "6a4e552b",
   "metadata": {
    "scrolled": true
   },
   "outputs": [
    {
     "data": {
      "text/plain": [
       "['высшее', 'начальное', 'неоконченное высшее', 'среднее', 'ученая степень']"
      ]
     },
     "execution_count": 18,
     "metadata": {},
     "output_type": "execute_result"
    }
   ],
   "source": [
    "sorted(data['education'].unique())"
   ]
  },
  {
   "cell_type": "markdown",
   "id": "2d352f02",
   "metadata": {},
   "source": [
    "## 6. Формирование дополнительных датафреймов словарей, декомпозиция исходного датафрейма."
   ]
  },
  {
   "cell_type": "markdown",
   "id": "864c97c7",
   "metadata": {},
   "source": [
    "Создаю новый датафрейм со столбцами education и education_id"
   ]
  },
  {
   "cell_type": "code",
   "execution_count": 19,
   "id": "86e5fff1",
   "metadata": {},
   "outputs": [],
   "source": [
    "data_pivot_education = data.pivot_table(index=['education','education_id'],values='debt',aggfunc=['count'])"
   ]
  },
  {
   "cell_type": "code",
   "execution_count": 20,
   "id": "44dca38c",
   "metadata": {},
   "outputs": [
    {
     "data": {
      "text/html": [
       "<div>\n",
       "<style scoped>\n",
       "    .dataframe tbody tr th:only-of-type {\n",
       "        vertical-align: middle;\n",
       "    }\n",
       "\n",
       "    .dataframe tbody tr th {\n",
       "        vertical-align: top;\n",
       "    }\n",
       "\n",
       "    .dataframe thead tr th {\n",
       "        text-align: left;\n",
       "    }\n",
       "\n",
       "    .dataframe thead tr:last-of-type th {\n",
       "        text-align: right;\n",
       "    }\n",
       "</style>\n",
       "<table border=\"1\" class=\"dataframe\">\n",
       "  <thead>\n",
       "    <tr>\n",
       "      <th></th>\n",
       "      <th></th>\n",
       "      <th>count</th>\n",
       "    </tr>\n",
       "    <tr>\n",
       "      <th></th>\n",
       "      <th></th>\n",
       "      <th>debt</th>\n",
       "    </tr>\n",
       "    <tr>\n",
       "      <th>education</th>\n",
       "      <th>education_id</th>\n",
       "      <th></th>\n",
       "    </tr>\n",
       "  </thead>\n",
       "  <tbody>\n",
       "    <tr>\n",
       "      <th>высшее</th>\n",
       "      <th>0</th>\n",
       "      <td>5251</td>\n",
       "    </tr>\n",
       "    <tr>\n",
       "      <th>начальное</th>\n",
       "      <th>3</th>\n",
       "      <td>282</td>\n",
       "    </tr>\n",
       "    <tr>\n",
       "      <th>неоконченное высшее</th>\n",
       "      <th>2</th>\n",
       "      <td>744</td>\n",
       "    </tr>\n",
       "    <tr>\n",
       "      <th>среднее</th>\n",
       "      <th>1</th>\n",
       "      <td>15188</td>\n",
       "    </tr>\n",
       "    <tr>\n",
       "      <th>ученая степень</th>\n",
       "      <th>4</th>\n",
       "      <td>6</td>\n",
       "    </tr>\n",
       "  </tbody>\n",
       "</table>\n",
       "</div>"
      ],
      "text/plain": [
       "                                  count\n",
       "                                   debt\n",
       "education           education_id       \n",
       "высшее              0              5251\n",
       "начальное           3               282\n",
       "неоконченное высшее 2               744\n",
       "среднее             1             15188\n",
       "ученая степень      4                 6"
      ]
     },
     "metadata": {},
     "output_type": "display_data"
    }
   ],
   "source": [
    "display(data_pivot_education)"
   ]
  },
  {
   "cell_type": "markdown",
   "id": "2303ddbb",
   "metadata": {},
   "source": [
    "Создаю новый датафрейм со столбцами family_status и family_status_id"
   ]
  },
  {
   "cell_type": "code",
   "execution_count": 21,
   "id": "72cac282",
   "metadata": {},
   "outputs": [],
   "source": [
    "data_pivot_family_status = data.pivot_table(index=['family_status','family_status_id'],values='debt',aggfunc=['count'])"
   ]
  },
  {
   "cell_type": "code",
   "execution_count": 22,
   "id": "63ddbe9e",
   "metadata": {},
   "outputs": [
    {
     "data": {
      "text/html": [
       "<div>\n",
       "<style scoped>\n",
       "    .dataframe tbody tr th:only-of-type {\n",
       "        vertical-align: middle;\n",
       "    }\n",
       "\n",
       "    .dataframe tbody tr th {\n",
       "        vertical-align: top;\n",
       "    }\n",
       "\n",
       "    .dataframe thead tr th {\n",
       "        text-align: left;\n",
       "    }\n",
       "\n",
       "    .dataframe thead tr:last-of-type th {\n",
       "        text-align: right;\n",
       "    }\n",
       "</style>\n",
       "<table border=\"1\" class=\"dataframe\">\n",
       "  <thead>\n",
       "    <tr>\n",
       "      <th></th>\n",
       "      <th></th>\n",
       "      <th>count</th>\n",
       "    </tr>\n",
       "    <tr>\n",
       "      <th></th>\n",
       "      <th></th>\n",
       "      <th>debt</th>\n",
       "    </tr>\n",
       "    <tr>\n",
       "      <th>family_status</th>\n",
       "      <th>family_status_id</th>\n",
       "      <th></th>\n",
       "    </tr>\n",
       "  </thead>\n",
       "  <tbody>\n",
       "    <tr>\n",
       "      <th>Не женат / не замужем</th>\n",
       "      <th>4</th>\n",
       "      <td>2810</td>\n",
       "    </tr>\n",
       "    <tr>\n",
       "      <th>в разводе</th>\n",
       "      <th>3</th>\n",
       "      <td>1195</td>\n",
       "    </tr>\n",
       "    <tr>\n",
       "      <th>вдовец / вдова</th>\n",
       "      <th>2</th>\n",
       "      <td>959</td>\n",
       "    </tr>\n",
       "    <tr>\n",
       "      <th>гражданский брак</th>\n",
       "      <th>1</th>\n",
       "      <td>4163</td>\n",
       "    </tr>\n",
       "    <tr>\n",
       "      <th>женат / замужем</th>\n",
       "      <th>0</th>\n",
       "      <td>12344</td>\n",
       "    </tr>\n",
       "  </tbody>\n",
       "</table>\n",
       "</div>"
      ],
      "text/plain": [
       "                                        count\n",
       "                                         debt\n",
       "family_status         family_status_id       \n",
       "Не женат / не замужем 4                  2810\n",
       "в разводе             3                  1195\n",
       "вдовец / вдова        2                   959\n",
       "гражданский брак      1                  4163\n",
       "женат / замужем       0                 12344"
      ]
     },
     "metadata": {},
     "output_type": "display_data"
    }
   ],
   "source": [
    "display(data_pivot_family_status)"
   ]
  },
  {
   "cell_type": "markdown",
   "id": "91e45235",
   "metadata": {},
   "source": [
    "Удаляю из исходного датафрейма столбцы education и family_status"
   ]
  },
  {
   "cell_type": "code",
   "execution_count": 23,
   "id": "8695f2ac",
   "metadata": {},
   "outputs": [],
   "source": [
    "data = data.drop(columns=['education','family_status'])\n"
   ]
  },
  {
   "cell_type": "code",
   "execution_count": 24,
   "id": "72ff7d4f",
   "metadata": {
    "scrolled": true
   },
   "outputs": [
    {
     "data": {
      "text/html": [
       "<div>\n",
       "<style scoped>\n",
       "    .dataframe tbody tr th:only-of-type {\n",
       "        vertical-align: middle;\n",
       "    }\n",
       "\n",
       "    .dataframe tbody tr th {\n",
       "        vertical-align: top;\n",
       "    }\n",
       "\n",
       "    .dataframe thead th {\n",
       "        text-align: right;\n",
       "    }\n",
       "</style>\n",
       "<table border=\"1\" class=\"dataframe\">\n",
       "  <thead>\n",
       "    <tr style=\"text-align: right;\">\n",
       "      <th></th>\n",
       "      <th>children</th>\n",
       "      <th>days_employed</th>\n",
       "      <th>dob_years</th>\n",
       "      <th>education_id</th>\n",
       "      <th>family_status_id</th>\n",
       "      <th>gender</th>\n",
       "      <th>income_type</th>\n",
       "      <th>debt</th>\n",
       "      <th>total_income</th>\n",
       "      <th>purpose</th>\n",
       "    </tr>\n",
       "  </thead>\n",
       "  <tbody>\n",
       "    <tr>\n",
       "      <th>0</th>\n",
       "      <td>1</td>\n",
       "      <td>8437.673028</td>\n",
       "      <td>42</td>\n",
       "      <td>0</td>\n",
       "      <td>0</td>\n",
       "      <td>F</td>\n",
       "      <td>сотрудник</td>\n",
       "      <td>0</td>\n",
       "      <td>253875</td>\n",
       "      <td>покупка жилья</td>\n",
       "    </tr>\n",
       "    <tr>\n",
       "      <th>1</th>\n",
       "      <td>1</td>\n",
       "      <td>4024.803754</td>\n",
       "      <td>36</td>\n",
       "      <td>1</td>\n",
       "      <td>0</td>\n",
       "      <td>F</td>\n",
       "      <td>сотрудник</td>\n",
       "      <td>0</td>\n",
       "      <td>112080</td>\n",
       "      <td>приобретение автомобиля</td>\n",
       "    </tr>\n",
       "    <tr>\n",
       "      <th>2</th>\n",
       "      <td>0</td>\n",
       "      <td>5623.422610</td>\n",
       "      <td>33</td>\n",
       "      <td>1</td>\n",
       "      <td>0</td>\n",
       "      <td>M</td>\n",
       "      <td>сотрудник</td>\n",
       "      <td>0</td>\n",
       "      <td>145885</td>\n",
       "      <td>покупка жилья</td>\n",
       "    </tr>\n",
       "    <tr>\n",
       "      <th>3</th>\n",
       "      <td>3</td>\n",
       "      <td>4124.747207</td>\n",
       "      <td>32</td>\n",
       "      <td>1</td>\n",
       "      <td>0</td>\n",
       "      <td>M</td>\n",
       "      <td>сотрудник</td>\n",
       "      <td>0</td>\n",
       "      <td>267628</td>\n",
       "      <td>дополнительное образование</td>\n",
       "    </tr>\n",
       "    <tr>\n",
       "      <th>4</th>\n",
       "      <td>0</td>\n",
       "      <td>340266.072047</td>\n",
       "      <td>53</td>\n",
       "      <td>1</td>\n",
       "      <td>1</td>\n",
       "      <td>F</td>\n",
       "      <td>пенсионер</td>\n",
       "      <td>0</td>\n",
       "      <td>158616</td>\n",
       "      <td>сыграть свадьбу</td>\n",
       "    </tr>\n",
       "    <tr>\n",
       "      <th>5</th>\n",
       "      <td>0</td>\n",
       "      <td>926.185831</td>\n",
       "      <td>27</td>\n",
       "      <td>0</td>\n",
       "      <td>1</td>\n",
       "      <td>M</td>\n",
       "      <td>компаньон</td>\n",
       "      <td>0</td>\n",
       "      <td>255763</td>\n",
       "      <td>покупка жилья</td>\n",
       "    </tr>\n",
       "    <tr>\n",
       "      <th>6</th>\n",
       "      <td>0</td>\n",
       "      <td>2879.202052</td>\n",
       "      <td>43</td>\n",
       "      <td>0</td>\n",
       "      <td>0</td>\n",
       "      <td>F</td>\n",
       "      <td>компаньон</td>\n",
       "      <td>0</td>\n",
       "      <td>240525</td>\n",
       "      <td>операции с жильем</td>\n",
       "    </tr>\n",
       "    <tr>\n",
       "      <th>7</th>\n",
       "      <td>0</td>\n",
       "      <td>152.779569</td>\n",
       "      <td>50</td>\n",
       "      <td>1</td>\n",
       "      <td>0</td>\n",
       "      <td>M</td>\n",
       "      <td>сотрудник</td>\n",
       "      <td>0</td>\n",
       "      <td>135823</td>\n",
       "      <td>образование</td>\n",
       "    </tr>\n",
       "    <tr>\n",
       "      <th>8</th>\n",
       "      <td>2</td>\n",
       "      <td>6929.865299</td>\n",
       "      <td>35</td>\n",
       "      <td>0</td>\n",
       "      <td>1</td>\n",
       "      <td>F</td>\n",
       "      <td>сотрудник</td>\n",
       "      <td>0</td>\n",
       "      <td>95856</td>\n",
       "      <td>на проведение свадьбы</td>\n",
       "    </tr>\n",
       "    <tr>\n",
       "      <th>9</th>\n",
       "      <td>0</td>\n",
       "      <td>2188.756445</td>\n",
       "      <td>41</td>\n",
       "      <td>1</td>\n",
       "      <td>0</td>\n",
       "      <td>M</td>\n",
       "      <td>сотрудник</td>\n",
       "      <td>0</td>\n",
       "      <td>144425</td>\n",
       "      <td>покупка жилья для семьи</td>\n",
       "    </tr>\n",
       "    <tr>\n",
       "      <th>10</th>\n",
       "      <td>2</td>\n",
       "      <td>4171.483647</td>\n",
       "      <td>36</td>\n",
       "      <td>0</td>\n",
       "      <td>0</td>\n",
       "      <td>M</td>\n",
       "      <td>компаньон</td>\n",
       "      <td>0</td>\n",
       "      <td>113943</td>\n",
       "      <td>покупка недвижимости</td>\n",
       "    </tr>\n",
       "    <tr>\n",
       "      <th>11</th>\n",
       "      <td>0</td>\n",
       "      <td>792.701887</td>\n",
       "      <td>40</td>\n",
       "      <td>1</td>\n",
       "      <td>0</td>\n",
       "      <td>F</td>\n",
       "      <td>сотрудник</td>\n",
       "      <td>0</td>\n",
       "      <td>77069</td>\n",
       "      <td>покупка коммерческой недвижимости</td>\n",
       "    </tr>\n",
       "    <tr>\n",
       "      <th>12</th>\n",
       "      <td>0</td>\n",
       "      <td>357103.967291</td>\n",
       "      <td>65</td>\n",
       "      <td>1</td>\n",
       "      <td>1</td>\n",
       "      <td>M</td>\n",
       "      <td>пенсионер</td>\n",
       "      <td>0</td>\n",
       "      <td>118514</td>\n",
       "      <td>сыграть свадьбу</td>\n",
       "    </tr>\n",
       "    <tr>\n",
       "      <th>13</th>\n",
       "      <td>0</td>\n",
       "      <td>1846.641941</td>\n",
       "      <td>54</td>\n",
       "      <td>2</td>\n",
       "      <td>0</td>\n",
       "      <td>F</td>\n",
       "      <td>сотрудник</td>\n",
       "      <td>0</td>\n",
       "      <td>130458</td>\n",
       "      <td>приобретение автомобиля</td>\n",
       "    </tr>\n",
       "    <tr>\n",
       "      <th>14</th>\n",
       "      <td>0</td>\n",
       "      <td>1844.956182</td>\n",
       "      <td>56</td>\n",
       "      <td>0</td>\n",
       "      <td>1</td>\n",
       "      <td>F</td>\n",
       "      <td>компаньон</td>\n",
       "      <td>1</td>\n",
       "      <td>165127</td>\n",
       "      <td>покупка жилой недвижимости</td>\n",
       "    </tr>\n",
       "  </tbody>\n",
       "</table>\n",
       "</div>"
      ],
      "text/plain": [
       "    children  days_employed  dob_years  education_id  family_status_id gender  \\\n",
       "0          1    8437.673028         42             0                 0      F   \n",
       "1          1    4024.803754         36             1                 0      F   \n",
       "2          0    5623.422610         33             1                 0      M   \n",
       "3          3    4124.747207         32             1                 0      M   \n",
       "4          0  340266.072047         53             1                 1      F   \n",
       "5          0     926.185831         27             0                 1      M   \n",
       "6          0    2879.202052         43             0                 0      F   \n",
       "7          0     152.779569         50             1                 0      M   \n",
       "8          2    6929.865299         35             0                 1      F   \n",
       "9          0    2188.756445         41             1                 0      M   \n",
       "10         2    4171.483647         36             0                 0      M   \n",
       "11         0     792.701887         40             1                 0      F   \n",
       "12         0  357103.967291         65             1                 1      M   \n",
       "13         0    1846.641941         54             2                 0      F   \n",
       "14         0    1844.956182         56             0                 1      F   \n",
       "\n",
       "   income_type  debt  total_income                            purpose  \n",
       "0    сотрудник     0        253875                      покупка жилья  \n",
       "1    сотрудник     0        112080            приобретение автомобиля  \n",
       "2    сотрудник     0        145885                      покупка жилья  \n",
       "3    сотрудник     0        267628         дополнительное образование  \n",
       "4    пенсионер     0        158616                    сыграть свадьбу  \n",
       "5    компаньон     0        255763                      покупка жилья  \n",
       "6    компаньон     0        240525                  операции с жильем  \n",
       "7    сотрудник     0        135823                        образование  \n",
       "8    сотрудник     0         95856              на проведение свадьбы  \n",
       "9    сотрудник     0        144425            покупка жилья для семьи  \n",
       "10   компаньон     0        113943               покупка недвижимости  \n",
       "11   сотрудник     0         77069  покупка коммерческой недвижимости  \n",
       "12   пенсионер     0        118514                    сыграть свадьбу  \n",
       "13   сотрудник     0        130458            приобретение автомобиля  \n",
       "14   компаньон     1        165127         покупка жилой недвижимости  "
      ]
     },
     "execution_count": 24,
     "metadata": {},
     "output_type": "execute_result"
    }
   ],
   "source": [
    "data.head(15)"
   ]
  },
  {
   "cell_type": "markdown",
   "id": "2f12b90a",
   "metadata": {},
   "source": [
    "## 7. Категоризация дохода."
   ]
  },
  {
   "cell_type": "markdown",
   "id": "c14a52c5",
   "metadata": {},
   "source": [
    "На основании диапазонов указанных ниже, создаю столбец total_income_category с категориями:\n",
    "- 0-30000 - \"Е\"\n",
    "- 30001-50000 - \"D\"\n",
    "- 50001 - 200000 - \"С\"\n",
    "- 200001 - 1000000 - \"В\"\n",
    "- 1000001 и выше - \"А\""
   ]
  },
  {
   "cell_type": "code",
   "execution_count": 25,
   "id": "a96213c3",
   "metadata": {},
   "outputs": [],
   "source": [
    "def total_income_category(total_income):\n",
    "    if total_income<30000:\n",
    "        return 'E'\n",
    "    if 30001<total_income<50000:\n",
    "        return 'D'\n",
    "    if 50001<total_income<200000:\n",
    "        return 'C'\n",
    "    if 200001<total_income<1000000:\n",
    "        return 'B'\n",
    "    return 'A'"
   ]
  },
  {
   "cell_type": "code",
   "execution_count": 26,
   "id": "8d86eec6",
   "metadata": {},
   "outputs": [],
   "source": [
    "data['total_income_category'] = data['total_income'].apply(total_income_category)"
   ]
  },
  {
   "cell_type": "markdown",
   "id": "0a8c4315",
   "metadata": {},
   "source": [
    "## 8. Категоризация целей кредита."
   ]
  },
  {
   "cell_type": "markdown",
   "id": "472e6eac",
   "metadata": {},
   "source": [
    "Создаю функцию, которая на основании данных из столбца purpose сформирует новый столбец purpose_category, в который войдут следующие категории:\n",
    "- ‘операции с автомобилем’,\n",
    "- ‘операции с недвижимостью’,\n",
    "- ‘проведение свадьбы’,\n",
    "- ‘получение образования’."
   ]
  },
  {
   "cell_type": "code",
   "execution_count": 27,
   "id": "01ba3188",
   "metadata": {},
   "outputs": [],
   "source": [
    "def purpose_category(purpose):\n",
    "    if purpose == 'автомобили' or purpose =='автомобиль' or purpose =='на покупку автомобиля' or purpose =='на покупку подержанного автомобиля' or purpose =='на покупку своего автомобиля' or purpose =='приобретение автомобиля' or purpose =='свой автомобиль' or purpose =='сделка с автомобилем' or purpose =='сделка с подержанным автомобилем':\n",
    "        return 'операции с автомобилем'\n",
    "    if purpose == 'высшее образование' or purpose =='дополнительное образование' or purpose =='заняться высшим образованием' or purpose =='заняться образованием' or purpose =='образование' or purpose =='получение высшего образования' or purpose =='получение дополнительного образования' or purpose =='получение образования' or purpose =='профильное образование':\n",
    "        return 'получение образования'\n",
    "    if purpose == 'на проведение свадьбы' or purpose =='свадьба' or purpose =='сыграть свадьбу':\n",
    "        return 'проведение свадьбы'\n",
    "    return 'операции с недвижимостью'"
   ]
  },
  {
   "cell_type": "code",
   "execution_count": 28,
   "id": "cf011617",
   "metadata": {},
   "outputs": [],
   "source": [
    "data['purpose_category'] = data['purpose'].apply(purpose_category)"
   ]
  },
  {
   "cell_type": "code",
   "execution_count": 29,
   "id": "8d8496b9",
   "metadata": {},
   "outputs": [
    {
     "data": {
      "text/html": [
       "<div>\n",
       "<style scoped>\n",
       "    .dataframe tbody tr th:only-of-type {\n",
       "        vertical-align: middle;\n",
       "    }\n",
       "\n",
       "    .dataframe tbody tr th {\n",
       "        vertical-align: top;\n",
       "    }\n",
       "\n",
       "    .dataframe thead th {\n",
       "        text-align: right;\n",
       "    }\n",
       "</style>\n",
       "<table border=\"1\" class=\"dataframe\">\n",
       "  <thead>\n",
       "    <tr style=\"text-align: right;\">\n",
       "      <th></th>\n",
       "      <th>children</th>\n",
       "      <th>days_employed</th>\n",
       "      <th>dob_years</th>\n",
       "      <th>education_id</th>\n",
       "      <th>family_status_id</th>\n",
       "      <th>gender</th>\n",
       "      <th>income_type</th>\n",
       "      <th>debt</th>\n",
       "      <th>total_income</th>\n",
       "      <th>purpose</th>\n",
       "      <th>total_income_category</th>\n",
       "      <th>purpose_category</th>\n",
       "    </tr>\n",
       "  </thead>\n",
       "  <tbody>\n",
       "    <tr>\n",
       "      <th>0</th>\n",
       "      <td>1</td>\n",
       "      <td>8437.673028</td>\n",
       "      <td>42</td>\n",
       "      <td>0</td>\n",
       "      <td>0</td>\n",
       "      <td>F</td>\n",
       "      <td>сотрудник</td>\n",
       "      <td>0</td>\n",
       "      <td>253875</td>\n",
       "      <td>покупка жилья</td>\n",
       "      <td>B</td>\n",
       "      <td>операции с недвижимостью</td>\n",
       "    </tr>\n",
       "    <tr>\n",
       "      <th>1</th>\n",
       "      <td>1</td>\n",
       "      <td>4024.803754</td>\n",
       "      <td>36</td>\n",
       "      <td>1</td>\n",
       "      <td>0</td>\n",
       "      <td>F</td>\n",
       "      <td>сотрудник</td>\n",
       "      <td>0</td>\n",
       "      <td>112080</td>\n",
       "      <td>приобретение автомобиля</td>\n",
       "      <td>C</td>\n",
       "      <td>операции с автомобилем</td>\n",
       "    </tr>\n",
       "    <tr>\n",
       "      <th>2</th>\n",
       "      <td>0</td>\n",
       "      <td>5623.422610</td>\n",
       "      <td>33</td>\n",
       "      <td>1</td>\n",
       "      <td>0</td>\n",
       "      <td>M</td>\n",
       "      <td>сотрудник</td>\n",
       "      <td>0</td>\n",
       "      <td>145885</td>\n",
       "      <td>покупка жилья</td>\n",
       "      <td>C</td>\n",
       "      <td>операции с недвижимостью</td>\n",
       "    </tr>\n",
       "    <tr>\n",
       "      <th>3</th>\n",
       "      <td>3</td>\n",
       "      <td>4124.747207</td>\n",
       "      <td>32</td>\n",
       "      <td>1</td>\n",
       "      <td>0</td>\n",
       "      <td>M</td>\n",
       "      <td>сотрудник</td>\n",
       "      <td>0</td>\n",
       "      <td>267628</td>\n",
       "      <td>дополнительное образование</td>\n",
       "      <td>B</td>\n",
       "      <td>получение образования</td>\n",
       "    </tr>\n",
       "    <tr>\n",
       "      <th>4</th>\n",
       "      <td>0</td>\n",
       "      <td>340266.072047</td>\n",
       "      <td>53</td>\n",
       "      <td>1</td>\n",
       "      <td>1</td>\n",
       "      <td>F</td>\n",
       "      <td>пенсионер</td>\n",
       "      <td>0</td>\n",
       "      <td>158616</td>\n",
       "      <td>сыграть свадьбу</td>\n",
       "      <td>C</td>\n",
       "      <td>проведение свадьбы</td>\n",
       "    </tr>\n",
       "    <tr>\n",
       "      <th>...</th>\n",
       "      <td>...</td>\n",
       "      <td>...</td>\n",
       "      <td>...</td>\n",
       "      <td>...</td>\n",
       "      <td>...</td>\n",
       "      <td>...</td>\n",
       "      <td>...</td>\n",
       "      <td>...</td>\n",
       "      <td>...</td>\n",
       "      <td>...</td>\n",
       "      <td>...</td>\n",
       "      <td>...</td>\n",
       "    </tr>\n",
       "    <tr>\n",
       "      <th>21466</th>\n",
       "      <td>1</td>\n",
       "      <td>4529.316663</td>\n",
       "      <td>43</td>\n",
       "      <td>1</td>\n",
       "      <td>1</td>\n",
       "      <td>F</td>\n",
       "      <td>компаньон</td>\n",
       "      <td>0</td>\n",
       "      <td>224791</td>\n",
       "      <td>операции с жильем</td>\n",
       "      <td>B</td>\n",
       "      <td>операции с недвижимостью</td>\n",
       "    </tr>\n",
       "    <tr>\n",
       "      <th>21467</th>\n",
       "      <td>0</td>\n",
       "      <td>343937.404131</td>\n",
       "      <td>67</td>\n",
       "      <td>1</td>\n",
       "      <td>0</td>\n",
       "      <td>F</td>\n",
       "      <td>пенсионер</td>\n",
       "      <td>0</td>\n",
       "      <td>155999</td>\n",
       "      <td>сделка с автомобилем</td>\n",
       "      <td>C</td>\n",
       "      <td>операции с автомобилем</td>\n",
       "    </tr>\n",
       "    <tr>\n",
       "      <th>21468</th>\n",
       "      <td>1</td>\n",
       "      <td>2113.346888</td>\n",
       "      <td>38</td>\n",
       "      <td>1</td>\n",
       "      <td>1</td>\n",
       "      <td>M</td>\n",
       "      <td>сотрудник</td>\n",
       "      <td>1</td>\n",
       "      <td>89672</td>\n",
       "      <td>недвижимость</td>\n",
       "      <td>C</td>\n",
       "      <td>операции с недвижимостью</td>\n",
       "    </tr>\n",
       "    <tr>\n",
       "      <th>21469</th>\n",
       "      <td>3</td>\n",
       "      <td>3112.481705</td>\n",
       "      <td>38</td>\n",
       "      <td>1</td>\n",
       "      <td>0</td>\n",
       "      <td>M</td>\n",
       "      <td>сотрудник</td>\n",
       "      <td>1</td>\n",
       "      <td>244093</td>\n",
       "      <td>на покупку своего автомобиля</td>\n",
       "      <td>B</td>\n",
       "      <td>операции с автомобилем</td>\n",
       "    </tr>\n",
       "    <tr>\n",
       "      <th>21470</th>\n",
       "      <td>2</td>\n",
       "      <td>1984.507589</td>\n",
       "      <td>40</td>\n",
       "      <td>1</td>\n",
       "      <td>0</td>\n",
       "      <td>F</td>\n",
       "      <td>сотрудник</td>\n",
       "      <td>0</td>\n",
       "      <td>82047</td>\n",
       "      <td>на покупку автомобиля</td>\n",
       "      <td>C</td>\n",
       "      <td>операции с автомобилем</td>\n",
       "    </tr>\n",
       "  </tbody>\n",
       "</table>\n",
       "<p>21471 rows × 12 columns</p>\n",
       "</div>"
      ],
      "text/plain": [
       "       children  days_employed  dob_years  education_id  family_status_id  \\\n",
       "0             1    8437.673028         42             0                 0   \n",
       "1             1    4024.803754         36             1                 0   \n",
       "2             0    5623.422610         33             1                 0   \n",
       "3             3    4124.747207         32             1                 0   \n",
       "4             0  340266.072047         53             1                 1   \n",
       "...         ...            ...        ...           ...               ...   \n",
       "21466         1    4529.316663         43             1                 1   \n",
       "21467         0  343937.404131         67             1                 0   \n",
       "21468         1    2113.346888         38             1                 1   \n",
       "21469         3    3112.481705         38             1                 0   \n",
       "21470         2    1984.507589         40             1                 0   \n",
       "\n",
       "      gender income_type  debt  total_income                       purpose  \\\n",
       "0          F   сотрудник     0        253875                 покупка жилья   \n",
       "1          F   сотрудник     0        112080       приобретение автомобиля   \n",
       "2          M   сотрудник     0        145885                 покупка жилья   \n",
       "3          M   сотрудник     0        267628    дополнительное образование   \n",
       "4          F   пенсионер     0        158616               сыграть свадьбу   \n",
       "...      ...         ...   ...           ...                           ...   \n",
       "21466      F   компаньон     0        224791             операции с жильем   \n",
       "21467      F   пенсионер     0        155999          сделка с автомобилем   \n",
       "21468      M   сотрудник     1         89672                  недвижимость   \n",
       "21469      M   сотрудник     1        244093  на покупку своего автомобиля   \n",
       "21470      F   сотрудник     0         82047         на покупку автомобиля   \n",
       "\n",
       "      total_income_category          purpose_category  \n",
       "0                         B  операции с недвижимостью  \n",
       "1                         C    операции с автомобилем  \n",
       "2                         C  операции с недвижимостью  \n",
       "3                         B     получение образования  \n",
       "4                         C        проведение свадьбы  \n",
       "...                     ...                       ...  \n",
       "21466                     B  операции с недвижимостью  \n",
       "21467                     C    операции с автомобилем  \n",
       "21468                     C  операции с недвижимостью  \n",
       "21469                     B    операции с автомобилем  \n",
       "21470                     C    операции с автомобилем  \n",
       "\n",
       "[21471 rows x 12 columns]"
      ]
     },
     "execution_count": 29,
     "metadata": {},
     "output_type": "execute_result"
    }
   ],
   "source": [
    "data"
   ]
  },
  {
   "cell_type": "markdown",
   "id": "7d4f7a81",
   "metadata": {},
   "source": [
    "## Ответы на вопросы."
   ]
  },
  {
   "cell_type": "markdown",
   "id": "24d83d54",
   "metadata": {},
   "source": [
    "### 1. Есть ли зависимость между количеством детей и возвратом кредита?"
   ]
  },
  {
   "cell_type": "code",
   "execution_count": 30,
   "id": "131373f4",
   "metadata": {},
   "outputs": [
    {
     "data": {
      "text/html": [
       "<style  type=\"text/css\" >\n",
       "</style><table id=\"T_7582a_\" ><thead>    <tr>        <th class=\"blank level0\" ></th>        <th class=\"col_heading level0 col0\" >число_клиентов</th>        <th class=\"col_heading level0 col1\" >число_должников</th>        <th class=\"col_heading level0 col2\" >доля_должников</th>    </tr>    <tr>        <th class=\"index_name level0\" >children</th>        <th class=\"blank\" ></th>        <th class=\"blank\" ></th>        <th class=\"blank\" ></th>    </tr></thead><tbody>\n",
       "                <tr>\n",
       "                        <th id=\"T_7582a_level0_row0\" class=\"row_heading level0 row0\" >0</th>\n",
       "                        <td id=\"T_7582a_row0_col0\" class=\"data row0 col0\" >14107</td>\n",
       "                        <td id=\"T_7582a_row0_col1\" class=\"data row0 col1\" >1063</td>\n",
       "                        <td id=\"T_7582a_row0_col2\" class=\"data row0 col2\" >7.54%</td>\n",
       "            </tr>\n",
       "            <tr>\n",
       "                        <th id=\"T_7582a_level0_row1\" class=\"row_heading level0 row1\" >1</th>\n",
       "                        <td id=\"T_7582a_row1_col0\" class=\"data row1 col0\" >4856</td>\n",
       "                        <td id=\"T_7582a_row1_col1\" class=\"data row1 col1\" >445</td>\n",
       "                        <td id=\"T_7582a_row1_col2\" class=\"data row1 col2\" >9.16%</td>\n",
       "            </tr>\n",
       "            <tr>\n",
       "                        <th id=\"T_7582a_level0_row2\" class=\"row_heading level0 row2\" >2</th>\n",
       "                        <td id=\"T_7582a_row2_col0\" class=\"data row2 col0\" >2128</td>\n",
       "                        <td id=\"T_7582a_row2_col1\" class=\"data row2 col1\" >202</td>\n",
       "                        <td id=\"T_7582a_row2_col2\" class=\"data row2 col2\" >9.49%</td>\n",
       "            </tr>\n",
       "            <tr>\n",
       "                        <th id=\"T_7582a_level0_row3\" class=\"row_heading level0 row3\" >3</th>\n",
       "                        <td id=\"T_7582a_row3_col0\" class=\"data row3 col0\" >330</td>\n",
       "                        <td id=\"T_7582a_row3_col1\" class=\"data row3 col1\" >27</td>\n",
       "                        <td id=\"T_7582a_row3_col2\" class=\"data row3 col2\" >8.18%</td>\n",
       "            </tr>\n",
       "            <tr>\n",
       "                        <th id=\"T_7582a_level0_row4\" class=\"row_heading level0 row4\" >4</th>\n",
       "                        <td id=\"T_7582a_row4_col0\" class=\"data row4 col0\" >41</td>\n",
       "                        <td id=\"T_7582a_row4_col1\" class=\"data row4 col1\" >4</td>\n",
       "                        <td id=\"T_7582a_row4_col2\" class=\"data row4 col2\" >9.76%</td>\n",
       "            </tr>\n",
       "            <tr>\n",
       "                        <th id=\"T_7582a_level0_row5\" class=\"row_heading level0 row5\" >5</th>\n",
       "                        <td id=\"T_7582a_row5_col0\" class=\"data row5 col0\" >9</td>\n",
       "                        <td id=\"T_7582a_row5_col1\" class=\"data row5 col1\" >0</td>\n",
       "                        <td id=\"T_7582a_row5_col2\" class=\"data row5 col2\" >0.00%</td>\n",
       "            </tr>\n",
       "    </tbody></table>"
      ],
      "text/plain": [
       "<pandas.io.formats.style.Styler at 0x7f84e1c0fa30>"
      ]
     },
     "execution_count": 30,
     "metadata": {},
     "output_type": "execute_result"
    }
   ],
   "source": [
    "data.groupby('children').agg(число_клиентов=('debt','count'), число_должников=('debt','sum'), доля_должников=('debt','mean')).\\\n",
    "                            style.format({'доля_должников' : '{:.2%}'.format})"
   ]
  },
  {
   "cell_type": "markdown",
   "id": "ca622ce8",
   "metadata": {},
   "source": [
    "### Вывод:\n",
    "Зависимость есть. При отсутсвии детей вероятность возврата кредита выше. "
   ]
  },
  {
   "cell_type": "markdown",
   "id": "fa2b9f2e",
   "metadata": {},
   "source": [
    "### 2. Есть ли зависимость между семейным положением и возвратом кредита в срок?"
   ]
  },
  {
   "cell_type": "code",
   "execution_count": 31,
   "id": "3272d7ab",
   "metadata": {},
   "outputs": [
    {
     "data": {
      "text/html": [
       "<style  type=\"text/css\" >\n",
       "</style><table id=\"T_8a2b1_\" ><thead>    <tr>        <th class=\"blank level0\" ></th>        <th class=\"col_heading level0 col0\" >число_клиентов</th>        <th class=\"col_heading level0 col1\" >число_должников</th>        <th class=\"col_heading level0 col2\" >доля_должников</th>    </tr>    <tr>        <th class=\"index_name level0\" >family_status_id</th>        <th class=\"blank\" ></th>        <th class=\"blank\" ></th>        <th class=\"blank\" ></th>    </tr></thead><tbody>\n",
       "                <tr>\n",
       "                        <th id=\"T_8a2b1_level0_row0\" class=\"row_heading level0 row0\" >0</th>\n",
       "                        <td id=\"T_8a2b1_row0_col0\" class=\"data row0 col0\" >12344</td>\n",
       "                        <td id=\"T_8a2b1_row0_col1\" class=\"data row0 col1\" >931</td>\n",
       "                        <td id=\"T_8a2b1_row0_col2\" class=\"data row0 col2\" >7.54%</td>\n",
       "            </tr>\n",
       "            <tr>\n",
       "                        <th id=\"T_8a2b1_level0_row1\" class=\"row_heading level0 row1\" >1</th>\n",
       "                        <td id=\"T_8a2b1_row1_col0\" class=\"data row1 col0\" >4163</td>\n",
       "                        <td id=\"T_8a2b1_row1_col1\" class=\"data row1 col1\" >388</td>\n",
       "                        <td id=\"T_8a2b1_row1_col2\" class=\"data row1 col2\" >9.32%</td>\n",
       "            </tr>\n",
       "            <tr>\n",
       "                        <th id=\"T_8a2b1_level0_row2\" class=\"row_heading level0 row2\" >2</th>\n",
       "                        <td id=\"T_8a2b1_row2_col0\" class=\"data row2 col0\" >959</td>\n",
       "                        <td id=\"T_8a2b1_row2_col1\" class=\"data row2 col1\" >63</td>\n",
       "                        <td id=\"T_8a2b1_row2_col2\" class=\"data row2 col2\" >6.57%</td>\n",
       "            </tr>\n",
       "            <tr>\n",
       "                        <th id=\"T_8a2b1_level0_row3\" class=\"row_heading level0 row3\" >3</th>\n",
       "                        <td id=\"T_8a2b1_row3_col0\" class=\"data row3 col0\" >1195</td>\n",
       "                        <td id=\"T_8a2b1_row3_col1\" class=\"data row3 col1\" >85</td>\n",
       "                        <td id=\"T_8a2b1_row3_col2\" class=\"data row3 col2\" >7.11%</td>\n",
       "            </tr>\n",
       "            <tr>\n",
       "                        <th id=\"T_8a2b1_level0_row4\" class=\"row_heading level0 row4\" >4</th>\n",
       "                        <td id=\"T_8a2b1_row4_col0\" class=\"data row4 col0\" >2810</td>\n",
       "                        <td id=\"T_8a2b1_row4_col1\" class=\"data row4 col1\" >274</td>\n",
       "                        <td id=\"T_8a2b1_row4_col2\" class=\"data row4 col2\" >9.75%</td>\n",
       "            </tr>\n",
       "    </tbody></table>"
      ],
      "text/plain": [
       "<pandas.io.formats.style.Styler at 0x7f851151fb20>"
      ]
     },
     "execution_count": 31,
     "metadata": {},
     "output_type": "execute_result"
    }
   ],
   "source": [
    "data.groupby('family_status_id').agg(число_клиентов=('debt','count'), число_должников=('debt','sum'), доля_должников=('debt','mean')).\\\n",
    "                            style.format({'доля_должников' : '{:.2%}'.format})"
   ]
  },
  {
   "cell_type": "code",
   "execution_count": 32,
   "id": "2de470cb",
   "metadata": {},
   "outputs": [
    {
     "data": {
      "text/html": [
       "<div>\n",
       "<style scoped>\n",
       "    .dataframe tbody tr th:only-of-type {\n",
       "        vertical-align: middle;\n",
       "    }\n",
       "\n",
       "    .dataframe tbody tr th {\n",
       "        vertical-align: top;\n",
       "    }\n",
       "\n",
       "    .dataframe thead tr th {\n",
       "        text-align: left;\n",
       "    }\n",
       "\n",
       "    .dataframe thead tr:last-of-type th {\n",
       "        text-align: right;\n",
       "    }\n",
       "</style>\n",
       "<table border=\"1\" class=\"dataframe\">\n",
       "  <thead>\n",
       "    <tr>\n",
       "      <th></th>\n",
       "      <th></th>\n",
       "      <th>count</th>\n",
       "    </tr>\n",
       "    <tr>\n",
       "      <th></th>\n",
       "      <th></th>\n",
       "      <th>debt</th>\n",
       "    </tr>\n",
       "    <tr>\n",
       "      <th>family_status</th>\n",
       "      <th>family_status_id</th>\n",
       "      <th></th>\n",
       "    </tr>\n",
       "  </thead>\n",
       "  <tbody>\n",
       "    <tr>\n",
       "      <th>Не женат / не замужем</th>\n",
       "      <th>4</th>\n",
       "      <td>2810</td>\n",
       "    </tr>\n",
       "    <tr>\n",
       "      <th>в разводе</th>\n",
       "      <th>3</th>\n",
       "      <td>1195</td>\n",
       "    </tr>\n",
       "    <tr>\n",
       "      <th>вдовец / вдова</th>\n",
       "      <th>2</th>\n",
       "      <td>959</td>\n",
       "    </tr>\n",
       "    <tr>\n",
       "      <th>гражданский брак</th>\n",
       "      <th>1</th>\n",
       "      <td>4163</td>\n",
       "    </tr>\n",
       "    <tr>\n",
       "      <th>женат / замужем</th>\n",
       "      <th>0</th>\n",
       "      <td>12344</td>\n",
       "    </tr>\n",
       "  </tbody>\n",
       "</table>\n",
       "</div>"
      ],
      "text/plain": [
       "                                        count\n",
       "                                         debt\n",
       "family_status         family_status_id       \n",
       "Не женат / не замужем 4                  2810\n",
       "в разводе             3                  1195\n",
       "вдовец / вдова        2                   959\n",
       "гражданский брак      1                  4163\n",
       "женат / замужем       0                 12344"
      ]
     },
     "metadata": {},
     "output_type": "display_data"
    }
   ],
   "source": [
    "display(data_pivot_family_status)"
   ]
  },
  {
   "cell_type": "markdown",
   "id": "905616e4",
   "metadata": {},
   "source": [
    "### Вывод:\n",
    "Вдовец/вдова с наибольшей вероятностью вернут кредит в срок. У тех кто в разводе вероятность возврата кредита в срок ниже. Еще ниже вероятность возврата кредита в срок у женатых и замужних, и хуже всего возвращают кредит в срок те кто не замужем и не женат. "
   ]
  },
  {
   "cell_type": "markdown",
   "id": "f2b3b7e9",
   "metadata": {},
   "source": [
    "### 3. Есть ли зависимость между уровнем дохода и возвратом кредита в срок?\n"
   ]
  },
  {
   "cell_type": "code",
   "execution_count": 33,
   "id": "6b2776b0",
   "metadata": {},
   "outputs": [
    {
     "data": {
      "text/html": [
       "<style  type=\"text/css\" >\n",
       "</style><table id=\"T_4dc21_\" ><thead>    <tr>        <th class=\"blank level0\" ></th>        <th class=\"col_heading level0 col0\" >число_клиентов</th>        <th class=\"col_heading level0 col1\" >число_должников</th>        <th class=\"col_heading level0 col2\" >доля_должников</th>    </tr>    <tr>        <th class=\"index_name level0\" >total_income_category</th>        <th class=\"blank\" ></th>        <th class=\"blank\" ></th>        <th class=\"blank\" ></th>    </tr></thead><tbody>\n",
       "                <tr>\n",
       "                        <th id=\"T_4dc21_level0_row0\" class=\"row_heading level0 row0\" >A</th>\n",
       "                        <td id=\"T_4dc21_row0_col0\" class=\"data row0 col0\" >26</td>\n",
       "                        <td id=\"T_4dc21_row0_col1\" class=\"data row0 col1\" >2</td>\n",
       "                        <td id=\"T_4dc21_row0_col2\" class=\"data row0 col2\" >7.69%</td>\n",
       "            </tr>\n",
       "            <tr>\n",
       "                        <th id=\"T_4dc21_level0_row1\" class=\"row_heading level0 row1\" >B</th>\n",
       "                        <td id=\"T_4dc21_row1_col0\" class=\"data row1 col0\" >5041</td>\n",
       "                        <td id=\"T_4dc21_row1_col1\" class=\"data row1 col1\" >356</td>\n",
       "                        <td id=\"T_4dc21_row1_col2\" class=\"data row1 col2\" >7.06%</td>\n",
       "            </tr>\n",
       "            <tr>\n",
       "                        <th id=\"T_4dc21_level0_row2\" class=\"row_heading level0 row2\" >C</th>\n",
       "                        <td id=\"T_4dc21_row2_col0\" class=\"data row2 col0\" >16032</td>\n",
       "                        <td id=\"T_4dc21_row2_col1\" class=\"data row2 col1\" >1360</td>\n",
       "                        <td id=\"T_4dc21_row2_col2\" class=\"data row2 col2\" >8.48%</td>\n",
       "            </tr>\n",
       "            <tr>\n",
       "                        <th id=\"T_4dc21_level0_row3\" class=\"row_heading level0 row3\" >D</th>\n",
       "                        <td id=\"T_4dc21_row3_col0\" class=\"data row3 col0\" >350</td>\n",
       "                        <td id=\"T_4dc21_row3_col1\" class=\"data row3 col1\" >21</td>\n",
       "                        <td id=\"T_4dc21_row3_col2\" class=\"data row3 col2\" >6.00%</td>\n",
       "            </tr>\n",
       "            <tr>\n",
       "                        <th id=\"T_4dc21_level0_row4\" class=\"row_heading level0 row4\" >E</th>\n",
       "                        <td id=\"T_4dc21_row4_col0\" class=\"data row4 col0\" >22</td>\n",
       "                        <td id=\"T_4dc21_row4_col1\" class=\"data row4 col1\" >2</td>\n",
       "                        <td id=\"T_4dc21_row4_col2\" class=\"data row4 col2\" >9.09%</td>\n",
       "            </tr>\n",
       "    </tbody></table>"
      ],
      "text/plain": [
       "<pandas.io.formats.style.Styler at 0x7f84e1c0f5e0>"
      ]
     },
     "execution_count": 33,
     "metadata": {},
     "output_type": "execute_result"
    }
   ],
   "source": [
    "data.groupby('total_income_category').agg(число_клиентов=('debt','count'), число_должников=('debt','sum'), доля_должников=('debt','mean')).\\\n",
    "                            style.format({'доля_должников' : '{:.2%}'.format})"
   ]
  },
  {
   "cell_type": "markdown",
   "id": "8060f34f",
   "metadata": {},
   "source": [
    "### Вывод:\n",
    "Люди с уровнем дохода от 30001 до 50000 вероятнее вернут кредит в срок. Также люди с зарабоком от 50001 до 200000 вероятнее вернут кредит в срок. Меньше вероятности что вернут кредит в срок люди с заработком от 200001 до 1000000. Хуже с выплатой кредита в срок у людей с заработком от 1000001 и выше. А люди сдоходом до 30000 вероятнее не смогут вернуть кредит в срок."
   ]
  },
  {
   "cell_type": "markdown",
   "id": "f9722055",
   "metadata": {},
   "source": [
    "### 4.Как разные цели кредита влияют на его возврат в срок?"
   ]
  },
  {
   "cell_type": "code",
   "execution_count": 34,
   "id": "ba4488f9",
   "metadata": {},
   "outputs": [
    {
     "data": {
      "text/html": [
       "<style  type=\"text/css\" >\n",
       "</style><table id=\"T_aa637_\" ><thead>    <tr>        <th class=\"blank level0\" ></th>        <th class=\"col_heading level0 col0\" >число_клиентов</th>        <th class=\"col_heading level0 col1\" >число_должников</th>        <th class=\"col_heading level0 col2\" >доля_должников</th>    </tr>    <tr>        <th class=\"index_name level0\" >purpose_category</th>        <th class=\"blank\" ></th>        <th class=\"blank\" ></th>        <th class=\"blank\" ></th>    </tr></thead><tbody>\n",
       "                <tr>\n",
       "                        <th id=\"T_aa637_level0_row0\" class=\"row_heading level0 row0\" >операции с автомобилем</th>\n",
       "                        <td id=\"T_aa637_row0_col0\" class=\"data row0 col0\" >4308</td>\n",
       "                        <td id=\"T_aa637_row0_col1\" class=\"data row0 col1\" >403</td>\n",
       "                        <td id=\"T_aa637_row0_col2\" class=\"data row0 col2\" >9.35%</td>\n",
       "            </tr>\n",
       "            <tr>\n",
       "                        <th id=\"T_aa637_level0_row1\" class=\"row_heading level0 row1\" >операции с недвижимостью</th>\n",
       "                        <td id=\"T_aa637_row1_col0\" class=\"data row1 col0\" >10814</td>\n",
       "                        <td id=\"T_aa637_row1_col1\" class=\"data row1 col1\" >782</td>\n",
       "                        <td id=\"T_aa637_row1_col2\" class=\"data row1 col2\" >7.23%</td>\n",
       "            </tr>\n",
       "            <tr>\n",
       "                        <th id=\"T_aa637_level0_row2\" class=\"row_heading level0 row2\" >получение образования</th>\n",
       "                        <td id=\"T_aa637_row2_col0\" class=\"data row2 col0\" >4014</td>\n",
       "                        <td id=\"T_aa637_row2_col1\" class=\"data row2 col1\" >370</td>\n",
       "                        <td id=\"T_aa637_row2_col2\" class=\"data row2 col2\" >9.22%</td>\n",
       "            </tr>\n",
       "            <tr>\n",
       "                        <th id=\"T_aa637_level0_row3\" class=\"row_heading level0 row3\" >проведение свадьбы</th>\n",
       "                        <td id=\"T_aa637_row3_col0\" class=\"data row3 col0\" >2335</td>\n",
       "                        <td id=\"T_aa637_row3_col1\" class=\"data row3 col1\" >186</td>\n",
       "                        <td id=\"T_aa637_row3_col2\" class=\"data row3 col2\" >7.97%</td>\n",
       "            </tr>\n",
       "    </tbody></table>"
      ],
      "text/plain": [
       "<pandas.io.formats.style.Styler at 0x7f85003ad340>"
      ]
     },
     "execution_count": 34,
     "metadata": {},
     "output_type": "execute_result"
    }
   ],
   "source": [
    "data.groupby('purpose_category').agg(число_клиентов=('debt','count'), число_должников=('debt','sum'), доля_должников=('debt','mean')).\\\n",
    "                            style.format({'доля_должников' : '{:.2%}'.format})"
   ]
  },
  {
   "cell_type": "markdown",
   "id": "ffbdc846",
   "metadata": {},
   "source": [
    "### Вывод:\n",
    "При операциях с недвижимостью и с проведением свадьбы вероятность возврата кредита в срок возрастает, а вот при операциях с автомобилем и получением образования вероятность возврата кредита в срок падает. "
   ]
  },
  {
   "cell_type": "markdown",
   "id": "f5f6b130",
   "metadata": {},
   "source": [
    "## Общий вывод:"
   ]
  },
  {
   "cell_type": "markdown",
   "id": "b53ab41d",
   "metadata": {},
   "source": [
    "Из проведенного анализа следует, что количество детей влияет на погашение кредита в срок. Категория клиентов без детей вероятнее возвращает кредит в срок. Что касается семейного положения, то самыми надежными оказались категории:\n",
    "- вдовец/вдова\n",
    "- в разводе\n",
    "\n",
    "Хуже всего с возвратом в срок обстоят дела с незамужними и неженатыми. \n",
    "\n",
    "Также уровень дохода влияет на выплату в срок. Самыми надежными оказались категории с уровнем дохода от 30001 до 200000. Все, кто получает меньше или больше данного диапазона заработка с большей вероятность не вернут кредит в срок. \n",
    "\n",
    "На возврат кредита в срок также влияет и цель кредита. При операциях с недвижимостью и проведением свадьбы вероятность погашения в срок возростает. А вот операции с автомобилем самые рискованные.\n"
   ]
  }
 ],
 "metadata": {
  "ExecuteTimeLog": [
   {
    "duration": 473,
    "start_time": "2022-04-22T13:35:29.704Z"
   },
   {
    "duration": 109,
    "start_time": "2022-04-22T13:35:30.180Z"
   },
   {
    "duration": 0,
    "start_time": "2022-04-22T13:35:30.292Z"
   },
   {
    "duration": 0,
    "start_time": "2022-04-22T13:35:30.293Z"
   },
   {
    "duration": 0,
    "start_time": "2022-04-22T13:35:30.295Z"
   },
   {
    "duration": 0,
    "start_time": "2022-04-22T13:35:30.296Z"
   },
   {
    "duration": 0,
    "start_time": "2022-04-22T13:35:30.298Z"
   },
   {
    "duration": 0,
    "start_time": "2022-04-22T13:35:30.299Z"
   },
   {
    "duration": 0,
    "start_time": "2022-04-22T13:35:30.300Z"
   },
   {
    "duration": 0,
    "start_time": "2022-04-22T13:35:30.301Z"
   },
   {
    "duration": 0,
    "start_time": "2022-04-22T13:35:30.302Z"
   },
   {
    "duration": 0,
    "start_time": "2022-04-22T13:35:30.303Z"
   },
   {
    "duration": 0,
    "start_time": "2022-04-22T13:35:30.303Z"
   },
   {
    "duration": 0,
    "start_time": "2022-04-22T13:35:30.304Z"
   },
   {
    "duration": 0,
    "start_time": "2022-04-22T13:35:30.305Z"
   },
   {
    "duration": 0,
    "start_time": "2022-04-22T13:35:30.306Z"
   },
   {
    "duration": 0,
    "start_time": "2022-04-22T13:35:30.307Z"
   },
   {
    "duration": 0,
    "start_time": "2022-04-22T13:35:30.309Z"
   },
   {
    "duration": 0,
    "start_time": "2022-04-22T13:35:30.309Z"
   },
   {
    "duration": 0,
    "start_time": "2022-04-22T13:35:30.310Z"
   },
   {
    "duration": 0,
    "start_time": "2022-04-22T13:35:30.311Z"
   },
   {
    "duration": 0,
    "start_time": "2022-04-22T13:35:30.312Z"
   },
   {
    "duration": 0,
    "start_time": "2022-04-22T13:35:30.348Z"
   },
   {
    "duration": 0,
    "start_time": "2022-04-22T13:35:30.349Z"
   },
   {
    "duration": 0,
    "start_time": "2022-04-22T13:35:30.350Z"
   },
   {
    "duration": 0,
    "start_time": "2022-04-22T13:35:30.351Z"
   },
   {
    "duration": 0,
    "start_time": "2022-04-22T13:35:30.352Z"
   },
   {
    "duration": 0,
    "start_time": "2022-04-22T13:35:30.354Z"
   },
   {
    "duration": 0,
    "start_time": "2022-04-22T13:35:30.356Z"
   },
   {
    "duration": 0,
    "start_time": "2022-04-22T13:35:30.357Z"
   },
   {
    "duration": 0,
    "start_time": "2022-04-22T13:35:30.358Z"
   },
   {
    "duration": 0,
    "start_time": "2022-04-22T13:35:30.359Z"
   },
   {
    "duration": 0,
    "start_time": "2022-04-22T13:35:30.360Z"
   },
   {
    "duration": 0,
    "start_time": "2022-04-22T13:35:30.361Z"
   },
   {
    "duration": 449,
    "start_time": "2022-04-22T13:36:05.084Z"
   },
   {
    "duration": 57,
    "start_time": "2022-04-22T13:36:05.536Z"
   },
   {
    "duration": 32,
    "start_time": "2022-04-22T13:36:05.595Z"
   },
   {
    "duration": 32,
    "start_time": "2022-04-22T13:36:05.629Z"
   },
   {
    "duration": 17,
    "start_time": "2022-04-22T13:36:05.663Z"
   },
   {
    "duration": 19,
    "start_time": "2022-04-22T13:36:05.681Z"
   },
   {
    "duration": 11,
    "start_time": "2022-04-22T13:36:05.702Z"
   },
   {
    "duration": 35,
    "start_time": "2022-04-22T13:36:05.747Z"
   },
   {
    "duration": 17,
    "start_time": "2022-04-22T13:36:05.784Z"
   },
   {
    "duration": 10,
    "start_time": "2022-04-22T13:36:05.804Z"
   },
   {
    "duration": 4,
    "start_time": "2022-04-22T13:36:05.816Z"
   },
   {
    "duration": 4,
    "start_time": "2022-04-22T13:36:05.848Z"
   },
   {
    "duration": 9,
    "start_time": "2022-04-22T13:36:05.855Z"
   },
   {
    "duration": 6,
    "start_time": "2022-04-22T13:36:05.866Z"
   },
   {
    "duration": 6,
    "start_time": "2022-04-22T13:36:05.874Z"
   },
   {
    "duration": 5,
    "start_time": "2022-04-22T13:36:05.881Z"
   },
   {
    "duration": 11,
    "start_time": "2022-04-22T13:36:05.887Z"
   },
   {
    "duration": 48,
    "start_time": "2022-04-22T13:36:05.900Z"
   },
   {
    "duration": 20,
    "start_time": "2022-04-22T13:36:05.950Z"
   },
   {
    "duration": 10,
    "start_time": "2022-04-22T13:36:05.972Z"
   },
   {
    "duration": 13,
    "start_time": "2022-04-22T13:36:05.984Z"
   },
   {
    "duration": 8,
    "start_time": "2022-04-22T13:36:05.999Z"
   },
   {
    "duration": 40,
    "start_time": "2022-04-22T13:36:06.009Z"
   },
   {
    "duration": 18,
    "start_time": "2022-04-22T13:36:06.052Z"
   },
   {
    "duration": 4,
    "start_time": "2022-04-22T13:36:06.073Z"
   },
   {
    "duration": 15,
    "start_time": "2022-04-22T13:36:06.078Z"
   },
   {
    "duration": 5,
    "start_time": "2022-04-22T13:36:06.095Z"
   },
   {
    "duration": 53,
    "start_time": "2022-04-22T13:36:06.104Z"
   },
   {
    "duration": 22,
    "start_time": "2022-04-22T13:36:06.158Z"
   },
   {
    "duration": 433,
    "start_time": "2022-04-22T13:36:06.182Z"
   },
   {
    "duration": 18,
    "start_time": "2022-04-22T13:36:06.617Z"
   },
   {
    "duration": 10,
    "start_time": "2022-04-22T13:36:06.647Z"
   },
   {
    "duration": 24,
    "start_time": "2022-04-22T13:36:06.659Z"
   },
   {
    "duration": 20,
    "start_time": "2022-04-22T13:36:06.685Z"
   },
   {
    "duration": 52,
    "start_time": "2022-05-06T08:46:52.323Z"
   },
   {
    "duration": 385,
    "start_time": "2022-05-06T08:46:58.861Z"
   },
   {
    "duration": 67,
    "start_time": "2022-05-06T08:46:59.249Z"
   },
   {
    "duration": 21,
    "start_time": "2022-05-06T08:46:59.318Z"
   },
   {
    "duration": 17,
    "start_time": "2022-05-06T08:46:59.342Z"
   },
   {
    "duration": 20,
    "start_time": "2022-05-06T08:46:59.361Z"
   },
   {
    "duration": 53,
    "start_time": "2022-05-06T08:46:59.383Z"
   },
   {
    "duration": 12,
    "start_time": "2022-05-06T08:46:59.438Z"
   },
   {
    "duration": 38,
    "start_time": "2022-05-06T08:46:59.452Z"
   },
   {
    "duration": 41,
    "start_time": "2022-05-06T08:46:59.492Z"
   },
   {
    "duration": 12,
    "start_time": "2022-05-06T08:46:59.536Z"
   },
   {
    "duration": 3439,
    "start_time": "2022-05-06T08:46:59.550Z"
   },
   {
    "duration": 0,
    "start_time": "2022-05-06T08:47:02.991Z"
   },
   {
    "duration": 0,
    "start_time": "2022-05-06T08:47:02.993Z"
   },
   {
    "duration": 0,
    "start_time": "2022-05-06T08:47:02.994Z"
   },
   {
    "duration": 0,
    "start_time": "2022-05-06T08:47:02.995Z"
   },
   {
    "duration": 0,
    "start_time": "2022-05-06T08:47:02.996Z"
   },
   {
    "duration": 0,
    "start_time": "2022-05-06T08:47:02.997Z"
   },
   {
    "duration": 0,
    "start_time": "2022-05-06T08:47:02.998Z"
   },
   {
    "duration": 0,
    "start_time": "2022-05-06T08:47:02.999Z"
   },
   {
    "duration": 0,
    "start_time": "2022-05-06T08:47:03.000Z"
   },
   {
    "duration": 0,
    "start_time": "2022-05-06T08:47:03.002Z"
   },
   {
    "duration": 0,
    "start_time": "2022-05-06T08:47:03.003Z"
   },
   {
    "duration": 0,
    "start_time": "2022-05-06T08:47:03.004Z"
   },
   {
    "duration": 0,
    "start_time": "2022-05-06T08:47:03.005Z"
   },
   {
    "duration": 0,
    "start_time": "2022-05-06T08:47:03.006Z"
   },
   {
    "duration": 0,
    "start_time": "2022-05-06T08:47:03.007Z"
   },
   {
    "duration": 0,
    "start_time": "2022-05-06T08:47:03.007Z"
   },
   {
    "duration": 0,
    "start_time": "2022-05-06T08:47:03.008Z"
   },
   {
    "duration": 0,
    "start_time": "2022-05-06T08:47:03.009Z"
   },
   {
    "duration": 0,
    "start_time": "2022-05-06T08:47:03.010Z"
   },
   {
    "duration": 0,
    "start_time": "2022-05-06T08:47:03.011Z"
   },
   {
    "duration": 0,
    "start_time": "2022-05-06T08:47:03.013Z"
   },
   {
    "duration": 0,
    "start_time": "2022-05-06T08:47:03.014Z"
   },
   {
    "duration": 0,
    "start_time": "2022-05-06T08:47:03.015Z"
   },
   {
    "duration": 6,
    "start_time": "2022-05-06T08:49:27.399Z"
   },
   {
    "duration": 8,
    "start_time": "2022-05-06T08:52:12.644Z"
   },
   {
    "duration": 192,
    "start_time": "2022-05-06T08:53:58.993Z"
   },
   {
    "duration": 3,
    "start_time": "2022-05-06T08:56:10.911Z"
   },
   {
    "duration": 72,
    "start_time": "2022-05-06T08:56:10.916Z"
   },
   {
    "duration": 33,
    "start_time": "2022-05-06T08:56:10.991Z"
   },
   {
    "duration": 30,
    "start_time": "2022-05-06T08:56:11.026Z"
   },
   {
    "duration": 30,
    "start_time": "2022-05-06T08:56:11.059Z"
   },
   {
    "duration": 51,
    "start_time": "2022-05-06T08:56:11.091Z"
   },
   {
    "duration": 16,
    "start_time": "2022-05-06T08:56:11.145Z"
   },
   {
    "duration": 58,
    "start_time": "2022-05-06T08:56:11.164Z"
   },
   {
    "duration": 20,
    "start_time": "2022-05-06T08:56:11.225Z"
   },
   {
    "duration": 13,
    "start_time": "2022-05-06T08:56:11.247Z"
   },
   {
    "duration": 5,
    "start_time": "2022-05-06T08:56:11.263Z"
   },
   {
    "duration": 4,
    "start_time": "2022-05-06T08:56:11.271Z"
   },
   {
    "duration": 48,
    "start_time": "2022-05-06T08:56:11.277Z"
   },
   {
    "duration": 5,
    "start_time": "2022-05-06T08:56:11.327Z"
   },
   {
    "duration": 6,
    "start_time": "2022-05-06T08:56:11.334Z"
   },
   {
    "duration": 8,
    "start_time": "2022-05-06T08:56:11.342Z"
   },
   {
    "duration": 19,
    "start_time": "2022-05-06T08:56:11.352Z"
   },
   {
    "duration": 50,
    "start_time": "2022-05-06T08:56:11.373Z"
   },
   {
    "duration": 16,
    "start_time": "2022-05-06T08:56:11.425Z"
   },
   {
    "duration": 9,
    "start_time": "2022-05-06T08:56:11.442Z"
   },
   {
    "duration": 17,
    "start_time": "2022-05-06T08:56:11.454Z"
   },
   {
    "duration": 8,
    "start_time": "2022-05-06T08:56:11.474Z"
   },
   {
    "duration": 42,
    "start_time": "2022-05-06T08:56:11.484Z"
   },
   {
    "duration": 21,
    "start_time": "2022-05-06T08:56:11.528Z"
   },
   {
    "duration": 6,
    "start_time": "2022-05-06T08:56:11.552Z"
   },
   {
    "duration": 13,
    "start_time": "2022-05-06T08:56:11.561Z"
   },
   {
    "duration": 12,
    "start_time": "2022-05-06T08:56:11.576Z"
   },
   {
    "duration": 39,
    "start_time": "2022-05-06T08:56:11.589Z"
   },
   {
    "duration": 21,
    "start_time": "2022-05-06T08:56:11.633Z"
   },
   {
    "duration": 561,
    "start_time": "2022-05-06T08:56:11.656Z"
   },
   {
    "duration": 18,
    "start_time": "2022-05-06T08:56:12.223Z"
   },
   {
    "duration": 10,
    "start_time": "2022-05-06T08:56:12.243Z"
   },
   {
    "duration": 17,
    "start_time": "2022-05-06T08:56:12.255Z"
   },
   {
    "duration": 57,
    "start_time": "2022-05-06T08:56:12.274Z"
   },
   {
    "duration": 3345,
    "start_time": "2022-05-06T08:56:57.361Z"
   },
   {
    "duration": 3234,
    "start_time": "2022-05-06T08:57:01.150Z"
   },
   {
    "duration": 7,
    "start_time": "2022-05-06T08:57:09.453Z"
   },
   {
    "duration": 741,
    "start_time": "2022-05-06T08:57:09.463Z"
   },
   {
    "duration": 23,
    "start_time": "2022-05-06T08:57:10.206Z"
   },
   {
    "duration": 17,
    "start_time": "2022-05-06T08:57:10.231Z"
   },
   {
    "duration": 28,
    "start_time": "2022-05-06T08:57:10.251Z"
   },
   {
    "duration": 58,
    "start_time": "2022-05-06T08:57:10.281Z"
   },
   {
    "duration": 18,
    "start_time": "2022-05-06T08:57:10.341Z"
   },
   {
    "duration": 78,
    "start_time": "2022-05-06T08:57:10.361Z"
   },
   {
    "duration": 28,
    "start_time": "2022-05-06T08:57:10.443Z"
   },
   {
    "duration": 17,
    "start_time": "2022-05-06T08:57:10.473Z"
   },
   {
    "duration": 6,
    "start_time": "2022-05-06T08:57:10.492Z"
   },
   {
    "duration": 5,
    "start_time": "2022-05-06T08:57:10.523Z"
   },
   {
    "duration": 9,
    "start_time": "2022-05-06T08:57:10.530Z"
   },
   {
    "duration": 5,
    "start_time": "2022-05-06T08:57:10.541Z"
   },
   {
    "duration": 5,
    "start_time": "2022-05-06T08:57:10.549Z"
   },
   {
    "duration": 9,
    "start_time": "2022-05-06T08:57:10.557Z"
   },
   {
    "duration": 56,
    "start_time": "2022-05-06T08:57:10.568Z"
   },
   {
    "duration": 10,
    "start_time": "2022-05-06T08:57:10.626Z"
   },
   {
    "duration": 19,
    "start_time": "2022-05-06T08:57:10.638Z"
   },
   {
    "duration": 10,
    "start_time": "2022-05-06T08:57:10.659Z"
   },
   {
    "duration": 18,
    "start_time": "2022-05-06T08:57:10.672Z"
   },
   {
    "duration": 40,
    "start_time": "2022-05-06T08:57:10.692Z"
   },
   {
    "duration": 9,
    "start_time": "2022-05-06T08:57:10.735Z"
   },
   {
    "duration": 18,
    "start_time": "2022-05-06T08:57:10.748Z"
   },
   {
    "duration": 5,
    "start_time": "2022-05-06T08:57:10.768Z"
   },
   {
    "duration": 52,
    "start_time": "2022-05-06T08:57:10.775Z"
   },
   {
    "duration": 6,
    "start_time": "2022-05-06T08:57:10.830Z"
   },
   {
    "duration": 66,
    "start_time": "2022-05-06T08:57:10.839Z"
   },
   {
    "duration": 30,
    "start_time": "2022-05-06T08:57:10.907Z"
   },
   {
    "duration": 49,
    "start_time": "2022-05-06T08:57:10.941Z"
   },
   {
    "duration": 20,
    "start_time": "2022-05-06T08:57:10.995Z"
   },
   {
    "duration": 29,
    "start_time": "2022-05-06T08:57:11.018Z"
   },
   {
    "duration": 27,
    "start_time": "2022-05-06T08:57:11.049Z"
   },
   {
    "duration": 23,
    "start_time": "2022-05-06T08:57:11.078Z"
   },
   {
    "duration": 206,
    "start_time": "2022-05-06T08:58:14.949Z"
   },
   {
    "duration": 3,
    "start_time": "2022-05-06T08:58:18.750Z"
   },
   {
    "duration": 73,
    "start_time": "2022-05-06T08:58:18.755Z"
   },
   {
    "duration": 15,
    "start_time": "2022-05-06T08:58:18.831Z"
   },
   {
    "duration": 22,
    "start_time": "2022-05-06T08:58:18.848Z"
   },
   {
    "duration": 20,
    "start_time": "2022-05-06T08:58:18.873Z"
   },
   {
    "duration": 42,
    "start_time": "2022-05-06T08:58:18.895Z"
   },
   {
    "duration": 13,
    "start_time": "2022-05-06T08:58:18.939Z"
   },
   {
    "duration": 36,
    "start_time": "2022-05-06T08:58:18.955Z"
   },
   {
    "duration": 45,
    "start_time": "2022-05-06T08:58:18.993Z"
   },
   {
    "duration": 12,
    "start_time": "2022-05-06T08:58:19.040Z"
   },
   {
    "duration": 7,
    "start_time": "2022-05-06T08:58:19.056Z"
   },
   {
    "duration": 14,
    "start_time": "2022-05-06T08:58:19.064Z"
   },
   {
    "duration": 16,
    "start_time": "2022-05-06T08:58:19.080Z"
   },
   {
    "duration": 24,
    "start_time": "2022-05-06T08:58:19.098Z"
   },
   {
    "duration": 7,
    "start_time": "2022-05-06T08:58:19.123Z"
   },
   {
    "duration": 24,
    "start_time": "2022-05-06T08:58:19.132Z"
   },
   {
    "duration": 14,
    "start_time": "2022-05-06T08:58:19.157Z"
   },
   {
    "duration": 27,
    "start_time": "2022-05-06T08:58:19.173Z"
   },
   {
    "duration": 202,
    "start_time": "2022-05-06T08:58:19.203Z"
   },
   {
    "duration": 0,
    "start_time": "2022-05-06T08:58:19.408Z"
   },
   {
    "duration": 0,
    "start_time": "2022-05-06T08:58:19.409Z"
   },
   {
    "duration": 0,
    "start_time": "2022-05-06T08:58:19.410Z"
   },
   {
    "duration": 0,
    "start_time": "2022-05-06T08:58:19.412Z"
   },
   {
    "duration": 0,
    "start_time": "2022-05-06T08:58:19.414Z"
   },
   {
    "duration": 0,
    "start_time": "2022-05-06T08:58:19.416Z"
   },
   {
    "duration": 0,
    "start_time": "2022-05-06T08:58:19.418Z"
   },
   {
    "duration": 0,
    "start_time": "2022-05-06T08:58:19.420Z"
   },
   {
    "duration": 0,
    "start_time": "2022-05-06T08:58:19.422Z"
   },
   {
    "duration": 0,
    "start_time": "2022-05-06T08:58:19.424Z"
   },
   {
    "duration": 0,
    "start_time": "2022-05-06T08:58:19.425Z"
   },
   {
    "duration": 0,
    "start_time": "2022-05-06T08:58:19.426Z"
   },
   {
    "duration": 0,
    "start_time": "2022-05-06T08:58:19.428Z"
   },
   {
    "duration": 0,
    "start_time": "2022-05-06T08:58:19.429Z"
   },
   {
    "duration": 0,
    "start_time": "2022-05-06T08:58:19.430Z"
   },
   {
    "duration": 0,
    "start_time": "2022-05-06T08:58:19.432Z"
   },
   {
    "duration": 8,
    "start_time": "2022-05-06T08:59:24.642Z"
   },
   {
    "duration": 14,
    "start_time": "2022-05-06T09:00:39.267Z"
   },
   {
    "duration": 3,
    "start_time": "2022-05-06T09:00:46.419Z"
   },
   {
    "duration": 65,
    "start_time": "2022-05-06T09:00:46.425Z"
   },
   {
    "duration": 27,
    "start_time": "2022-05-06T09:00:46.495Z"
   },
   {
    "duration": 24,
    "start_time": "2022-05-06T09:00:46.525Z"
   },
   {
    "duration": 28,
    "start_time": "2022-05-06T09:00:46.552Z"
   },
   {
    "duration": 55,
    "start_time": "2022-05-06T09:00:46.582Z"
   },
   {
    "duration": 16,
    "start_time": "2022-05-06T09:00:46.640Z"
   },
   {
    "duration": 74,
    "start_time": "2022-05-06T09:00:46.659Z"
   },
   {
    "duration": 30,
    "start_time": "2022-05-06T09:00:46.736Z"
   },
   {
    "duration": 12,
    "start_time": "2022-05-06T09:00:46.768Z"
   },
   {
    "duration": 7,
    "start_time": "2022-05-06T09:00:46.783Z"
   },
   {
    "duration": 31,
    "start_time": "2022-05-06T09:00:46.792Z"
   },
   {
    "duration": 8,
    "start_time": "2022-05-06T09:00:46.825Z"
   },
   {
    "duration": 5,
    "start_time": "2022-05-06T09:00:46.835Z"
   },
   {
    "duration": 5,
    "start_time": "2022-05-06T09:00:46.842Z"
   },
   {
    "duration": 7,
    "start_time": "2022-05-06T09:00:46.850Z"
   },
   {
    "duration": 19,
    "start_time": "2022-05-06T09:00:46.859Z"
   },
   {
    "duration": 52,
    "start_time": "2022-05-06T09:00:46.880Z"
   },
   {
    "duration": 18,
    "start_time": "2022-05-06T09:00:46.936Z"
   },
   {
    "duration": 11,
    "start_time": "2022-05-06T09:00:46.956Z"
   },
   {
    "duration": 14,
    "start_time": "2022-05-06T09:00:46.968Z"
   },
   {
    "duration": 38,
    "start_time": "2022-05-06T09:00:46.984Z"
   },
   {
    "duration": 6,
    "start_time": "2022-05-06T09:00:47.025Z"
   },
   {
    "duration": 20,
    "start_time": "2022-05-06T09:00:47.032Z"
   },
   {
    "duration": 181,
    "start_time": "2022-05-06T09:07:33.524Z"
   },
   {
    "duration": 26,
    "start_time": "2022-05-06T09:09:26.498Z"
   },
   {
    "duration": 3,
    "start_time": "2022-05-06T09:11:40.067Z"
   },
   {
    "duration": 92,
    "start_time": "2022-05-06T09:11:40.073Z"
   },
   {
    "duration": 23,
    "start_time": "2022-05-06T09:11:40.168Z"
   },
   {
    "duration": 24,
    "start_time": "2022-05-06T09:11:40.192Z"
   },
   {
    "duration": 24,
    "start_time": "2022-05-06T09:11:40.223Z"
   },
   {
    "duration": 29,
    "start_time": "2022-05-06T09:11:40.249Z"
   },
   {
    "duration": 44,
    "start_time": "2022-05-06T09:11:40.280Z"
   },
   {
    "duration": 57,
    "start_time": "2022-05-06T09:11:40.326Z"
   },
   {
    "duration": 45,
    "start_time": "2022-05-06T09:11:40.387Z"
   },
   {
    "duration": 15,
    "start_time": "2022-05-06T09:11:40.435Z"
   },
   {
    "duration": 9,
    "start_time": "2022-05-06T09:11:40.452Z"
   },
   {
    "duration": 8,
    "start_time": "2022-05-06T09:11:40.463Z"
   },
   {
    "duration": 7,
    "start_time": "2022-05-06T09:11:40.473Z"
   },
   {
    "duration": 4,
    "start_time": "2022-05-06T09:11:40.482Z"
   },
   {
    "duration": 35,
    "start_time": "2022-05-06T09:11:40.487Z"
   },
   {
    "duration": 7,
    "start_time": "2022-05-06T09:11:40.524Z"
   },
   {
    "duration": 12,
    "start_time": "2022-05-06T09:11:40.533Z"
   },
   {
    "duration": 12,
    "start_time": "2022-05-06T09:11:40.547Z"
   },
   {
    "duration": 15,
    "start_time": "2022-05-06T09:11:40.562Z"
   },
   {
    "duration": 9,
    "start_time": "2022-05-06T09:11:40.579Z"
   },
   {
    "duration": 14,
    "start_time": "2022-05-06T09:11:40.622Z"
   },
   {
    "duration": 11,
    "start_time": "2022-05-06T09:11:40.638Z"
   },
   {
    "duration": 12,
    "start_time": "2022-05-06T09:11:40.651Z"
   },
   {
    "duration": 19,
    "start_time": "2022-05-06T09:11:40.666Z"
   },
   {
    "duration": 6,
    "start_time": "2022-05-06T09:11:40.687Z"
   },
   {
    "duration": 31,
    "start_time": "2022-05-06T09:11:40.695Z"
   },
   {
    "duration": 9,
    "start_time": "2022-05-06T09:11:40.728Z"
   },
   {
    "duration": 26,
    "start_time": "2022-05-06T09:11:40.738Z"
   },
   {
    "duration": 24,
    "start_time": "2022-05-06T09:11:40.766Z"
   },
   {
    "duration": 34,
    "start_time": "2022-05-06T09:11:40.792Z"
   },
   {
    "duration": 17,
    "start_time": "2022-05-06T09:11:40.828Z"
   },
   {
    "duration": 10,
    "start_time": "2022-05-06T09:11:40.847Z"
   },
   {
    "duration": 22,
    "start_time": "2022-05-06T09:11:40.859Z"
   },
   {
    "duration": 46,
    "start_time": "2022-05-06T09:11:40.882Z"
   }
  ],
  "kernelspec": {
   "display_name": "Python 3 (ipykernel)",
   "language": "python",
   "name": "python3"
  },
  "language_info": {
   "codemirror_mode": {
    "name": "ipython",
    "version": 3
   },
   "file_extension": ".py",
   "mimetype": "text/x-python",
   "name": "python",
   "nbconvert_exporter": "python",
   "pygments_lexer": "ipython3",
   "version": "3.9.7"
  },
  "toc": {
   "base_numbering": 1,
   "nav_menu": {},
   "number_sections": false,
   "sideBar": true,
   "skip_h1_title": false,
   "title_cell": "Table of Contents",
   "title_sidebar": "Contents",
   "toc_cell": false,
   "toc_position": {},
   "toc_section_display": true,
   "toc_window_display": true
  }
 },
 "nbformat": 4,
 "nbformat_minor": 5
}
