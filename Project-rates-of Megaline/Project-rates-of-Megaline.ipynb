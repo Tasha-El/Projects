{
 "cells": [
  {
   "cell_type": "markdown",
   "id": "da45590d",
   "metadata": {},
   "source": [
    "# Анализ тарифов"
   ]
  },
  {
   "cell_type": "markdown",
   "id": "e3c25fbc",
   "metadata": {},
   "source": [
    "# Изучение данных"
   ]
  },
  {
   "cell_type": "code",
   "execution_count": 2,
   "id": "e2a83817",
   "metadata": {},
   "outputs": [],
   "source": [
    "import pandas as pd\n",
    "import numpy as np\n",
    "import math \n",
    "import matplotlib.pyplot as plt\n",
    "from scipy import stats as st"
   ]
  },
  {
   "cell_type": "code",
   "execution_count": 3,
   "id": "5f740b1e",
   "metadata": {},
   "outputs": [],
   "source": [
    "users = pd.read_csv('/datasets/users.csv')\n",
    "calls = pd.read_csv('/datasets/calls.csv')\n",
    "messages = pd.read_csv('/datasets/messages.csv')\n",
    "tariffs = pd.read_csv('/datasets/tariffs.csv')\n",
    "internet = pd.read_csv('/datasets/internet.csv')"
   ]
  },
  {
   "cell_type": "markdown",
   "id": "81f0c834",
   "metadata": {},
   "source": [
    "### Обработка таблицы users"
   ]
  },
  {
   "cell_type": "code",
   "execution_count": 4,
   "id": "dadd0955",
   "metadata": {},
   "outputs": [
    {
     "data": {
      "text/html": [
       "<div>\n",
       "<style scoped>\n",
       "    .dataframe tbody tr th:only-of-type {\n",
       "        vertical-align: middle;\n",
       "    }\n",
       "\n",
       "    .dataframe tbody tr th {\n",
       "        vertical-align: top;\n",
       "    }\n",
       "\n",
       "    .dataframe thead th {\n",
       "        text-align: right;\n",
       "    }\n",
       "</style>\n",
       "<table border=\"1\" class=\"dataframe\">\n",
       "  <thead>\n",
       "    <tr style=\"text-align: right;\">\n",
       "      <th></th>\n",
       "      <th>user_id</th>\n",
       "      <th>age</th>\n",
       "      <th>churn_date</th>\n",
       "      <th>city</th>\n",
       "      <th>first_name</th>\n",
       "      <th>last_name</th>\n",
       "      <th>reg_date</th>\n",
       "      <th>tariff</th>\n",
       "    </tr>\n",
       "  </thead>\n",
       "  <tbody>\n",
       "    <tr>\n",
       "      <th>0</th>\n",
       "      <td>1000</td>\n",
       "      <td>52</td>\n",
       "      <td>NaN</td>\n",
       "      <td>Краснодар</td>\n",
       "      <td>Рафаил</td>\n",
       "      <td>Верещагин</td>\n",
       "      <td>2018-05-25</td>\n",
       "      <td>ultra</td>\n",
       "    </tr>\n",
       "    <tr>\n",
       "      <th>1</th>\n",
       "      <td>1001</td>\n",
       "      <td>41</td>\n",
       "      <td>NaN</td>\n",
       "      <td>Москва</td>\n",
       "      <td>Иван</td>\n",
       "      <td>Ежов</td>\n",
       "      <td>2018-11-01</td>\n",
       "      <td>smart</td>\n",
       "    </tr>\n",
       "    <tr>\n",
       "      <th>2</th>\n",
       "      <td>1002</td>\n",
       "      <td>59</td>\n",
       "      <td>NaN</td>\n",
       "      <td>Стерлитамак</td>\n",
       "      <td>Евгений</td>\n",
       "      <td>Абрамович</td>\n",
       "      <td>2018-06-17</td>\n",
       "      <td>smart</td>\n",
       "    </tr>\n",
       "    <tr>\n",
       "      <th>3</th>\n",
       "      <td>1003</td>\n",
       "      <td>23</td>\n",
       "      <td>NaN</td>\n",
       "      <td>Москва</td>\n",
       "      <td>Белла</td>\n",
       "      <td>Белякова</td>\n",
       "      <td>2018-08-17</td>\n",
       "      <td>ultra</td>\n",
       "    </tr>\n",
       "    <tr>\n",
       "      <th>4</th>\n",
       "      <td>1004</td>\n",
       "      <td>68</td>\n",
       "      <td>NaN</td>\n",
       "      <td>Новокузнецк</td>\n",
       "      <td>Татьяна</td>\n",
       "      <td>Авдеенко</td>\n",
       "      <td>2018-05-14</td>\n",
       "      <td>ultra</td>\n",
       "    </tr>\n",
       "  </tbody>\n",
       "</table>\n",
       "</div>"
      ],
      "text/plain": [
       "   user_id  age churn_date         city first_name  last_name    reg_date  \\\n",
       "0     1000   52        NaN    Краснодар     Рафаил  Верещагин  2018-05-25   \n",
       "1     1001   41        NaN       Москва       Иван       Ежов  2018-11-01   \n",
       "2     1002   59        NaN  Стерлитамак    Евгений  Абрамович  2018-06-17   \n",
       "3     1003   23        NaN       Москва      Белла   Белякова  2018-08-17   \n",
       "4     1004   68        NaN  Новокузнецк    Татьяна   Авдеенко  2018-05-14   \n",
       "\n",
       "  tariff  \n",
       "0  ultra  \n",
       "1  smart  \n",
       "2  smart  \n",
       "3  ultra  \n",
       "4  ultra  "
      ]
     },
     "execution_count": 4,
     "metadata": {},
     "output_type": "execute_result"
    }
   ],
   "source": [
    "users.head()"
   ]
  },
  {
   "cell_type": "code",
   "execution_count": 5,
   "id": "7374b5c1",
   "metadata": {},
   "outputs": [
    {
     "name": "stdout",
     "output_type": "stream",
     "text": [
      "<class 'pandas.core.frame.DataFrame'>\n",
      "RangeIndex: 500 entries, 0 to 499\n",
      "Data columns (total 8 columns):\n",
      " #   Column      Non-Null Count  Dtype \n",
      "---  ------      --------------  ----- \n",
      " 0   user_id     500 non-null    int64 \n",
      " 1   age         500 non-null    int64 \n",
      " 2   churn_date  38 non-null     object\n",
      " 3   city        500 non-null    object\n",
      " 4   first_name  500 non-null    object\n",
      " 5   last_name   500 non-null    object\n",
      " 6   reg_date    500 non-null    object\n",
      " 7   tariff      500 non-null    object\n",
      "dtypes: int64(2), object(6)\n",
      "memory usage: 31.4+ KB\n"
     ]
    }
   ],
   "source": [
    "users.info()"
   ]
  },
  {
   "cell_type": "code",
   "execution_count": 6,
   "id": "fd297a13",
   "metadata": {},
   "outputs": [
    {
     "data": {
      "text/plain": [
       "user_id         0\n",
       "age             0\n",
       "churn_date    462\n",
       "city            0\n",
       "first_name      0\n",
       "last_name       0\n",
       "reg_date        0\n",
       "tariff          0\n",
       "dtype: int64"
      ]
     },
     "execution_count": 6,
     "metadata": {},
     "output_type": "execute_result"
    }
   ],
   "source": [
    "users.isna().sum()"
   ]
  },
  {
   "cell_type": "code",
   "execution_count": 7,
   "id": "b1ba613b",
   "metadata": {},
   "outputs": [
    {
     "data": {
      "text/plain": [
       "0"
      ]
     },
     "execution_count": 7,
     "metadata": {},
     "output_type": "execute_result"
    }
   ],
   "source": [
    "users.duplicated().sum()"
   ]
  },
  {
   "cell_type": "code",
   "execution_count": 8,
   "id": "ae3c5f92",
   "metadata": {},
   "outputs": [],
   "source": [
    "users['reg_date'] = pd.to_datetime(users['reg_date'], format='%Y-%m-%d')"
   ]
  },
  {
   "cell_type": "markdown",
   "id": "4856a48d",
   "metadata": {},
   "source": [
    "### Обработка таблицы calls"
   ]
  },
  {
   "cell_type": "code",
   "execution_count": 9,
   "id": "ccc3d860",
   "metadata": {},
   "outputs": [
    {
     "data": {
      "text/html": [
       "<div>\n",
       "<style scoped>\n",
       "    .dataframe tbody tr th:only-of-type {\n",
       "        vertical-align: middle;\n",
       "    }\n",
       "\n",
       "    .dataframe tbody tr th {\n",
       "        vertical-align: top;\n",
       "    }\n",
       "\n",
       "    .dataframe thead th {\n",
       "        text-align: right;\n",
       "    }\n",
       "</style>\n",
       "<table border=\"1\" class=\"dataframe\">\n",
       "  <thead>\n",
       "    <tr style=\"text-align: right;\">\n",
       "      <th></th>\n",
       "      <th>id</th>\n",
       "      <th>call_date</th>\n",
       "      <th>duration</th>\n",
       "      <th>user_id</th>\n",
       "    </tr>\n",
       "  </thead>\n",
       "  <tbody>\n",
       "    <tr>\n",
       "      <th>0</th>\n",
       "      <td>1000_0</td>\n",
       "      <td>2018-07-25</td>\n",
       "      <td>0.00</td>\n",
       "      <td>1000</td>\n",
       "    </tr>\n",
       "    <tr>\n",
       "      <th>1</th>\n",
       "      <td>1000_1</td>\n",
       "      <td>2018-08-17</td>\n",
       "      <td>0.00</td>\n",
       "      <td>1000</td>\n",
       "    </tr>\n",
       "    <tr>\n",
       "      <th>2</th>\n",
       "      <td>1000_2</td>\n",
       "      <td>2018-06-11</td>\n",
       "      <td>2.85</td>\n",
       "      <td>1000</td>\n",
       "    </tr>\n",
       "    <tr>\n",
       "      <th>3</th>\n",
       "      <td>1000_3</td>\n",
       "      <td>2018-09-21</td>\n",
       "      <td>13.80</td>\n",
       "      <td>1000</td>\n",
       "    </tr>\n",
       "    <tr>\n",
       "      <th>4</th>\n",
       "      <td>1000_4</td>\n",
       "      <td>2018-12-15</td>\n",
       "      <td>5.18</td>\n",
       "      <td>1000</td>\n",
       "    </tr>\n",
       "  </tbody>\n",
       "</table>\n",
       "</div>"
      ],
      "text/plain": [
       "       id   call_date  duration  user_id\n",
       "0  1000_0  2018-07-25      0.00     1000\n",
       "1  1000_1  2018-08-17      0.00     1000\n",
       "2  1000_2  2018-06-11      2.85     1000\n",
       "3  1000_3  2018-09-21     13.80     1000\n",
       "4  1000_4  2018-12-15      5.18     1000"
      ]
     },
     "execution_count": 9,
     "metadata": {},
     "output_type": "execute_result"
    }
   ],
   "source": [
    "calls.head()"
   ]
  },
  {
   "cell_type": "code",
   "execution_count": 10,
   "id": "9c5f5eab",
   "metadata": {},
   "outputs": [
    {
     "name": "stdout",
     "output_type": "stream",
     "text": [
      "<class 'pandas.core.frame.DataFrame'>\n",
      "RangeIndex: 202607 entries, 0 to 202606\n",
      "Data columns (total 4 columns):\n",
      " #   Column     Non-Null Count   Dtype  \n",
      "---  ------     --------------   -----  \n",
      " 0   id         202607 non-null  object \n",
      " 1   call_date  202607 non-null  object \n",
      " 2   duration   202607 non-null  float64\n",
      " 3   user_id    202607 non-null  int64  \n",
      "dtypes: float64(1), int64(1), object(2)\n",
      "memory usage: 6.2+ MB\n"
     ]
    }
   ],
   "source": [
    "calls.info()"
   ]
  },
  {
   "cell_type": "code",
   "execution_count": 11,
   "id": "368d5632",
   "metadata": {},
   "outputs": [
    {
     "data": {
      "text/plain": [
       "id           0\n",
       "call_date    0\n",
       "duration     0\n",
       "user_id      0\n",
       "dtype: int64"
      ]
     },
     "execution_count": 11,
     "metadata": {},
     "output_type": "execute_result"
    }
   ],
   "source": [
    "calls.isna().sum()"
   ]
  },
  {
   "cell_type": "code",
   "execution_count": 12,
   "id": "f476931d",
   "metadata": {},
   "outputs": [],
   "source": [
    "calls['call_date'] = pd.to_datetime(calls['call_date'], format='%Y-%m-%d')"
   ]
  },
  {
   "cell_type": "code",
   "execution_count": 13,
   "id": "2a26bf7d",
   "metadata": {},
   "outputs": [],
   "source": [
    "calls['month'] = calls['call_date'].dt.month"
   ]
  },
  {
   "cell_type": "code",
   "execution_count": 14,
   "id": "5fa689ca",
   "metadata": {},
   "outputs": [],
   "source": [
    "calls['duration'] = calls['duration'].apply(np.ceil)"
   ]
  },
  {
   "cell_type": "code",
   "execution_count": 15,
   "id": "ce7d6b42",
   "metadata": {},
   "outputs": [
    {
     "data": {
      "text/html": [
       "<div>\n",
       "<style scoped>\n",
       "    .dataframe tbody tr th:only-of-type {\n",
       "        vertical-align: middle;\n",
       "    }\n",
       "\n",
       "    .dataframe tbody tr th {\n",
       "        vertical-align: top;\n",
       "    }\n",
       "\n",
       "    .dataframe thead th {\n",
       "        text-align: right;\n",
       "    }\n",
       "</style>\n",
       "<table border=\"1\" class=\"dataframe\">\n",
       "  <thead>\n",
       "    <tr style=\"text-align: right;\">\n",
       "      <th></th>\n",
       "      <th></th>\n",
       "      <th>calls_count</th>\n",
       "      <th>calls_duration</th>\n",
       "    </tr>\n",
       "    <tr>\n",
       "      <th>user_id</th>\n",
       "      <th>month</th>\n",
       "      <th></th>\n",
       "      <th></th>\n",
       "    </tr>\n",
       "  </thead>\n",
       "  <tbody>\n",
       "    <tr>\n",
       "      <th rowspan=\"5\" valign=\"top\">1000</th>\n",
       "      <th>5</th>\n",
       "      <td>22</td>\n",
       "      <td>159.0</td>\n",
       "    </tr>\n",
       "    <tr>\n",
       "      <th>6</th>\n",
       "      <td>43</td>\n",
       "      <td>172.0</td>\n",
       "    </tr>\n",
       "    <tr>\n",
       "      <th>7</th>\n",
       "      <td>47</td>\n",
       "      <td>340.0</td>\n",
       "    </tr>\n",
       "    <tr>\n",
       "      <th>8</th>\n",
       "      <td>52</td>\n",
       "      <td>408.0</td>\n",
       "    </tr>\n",
       "    <tr>\n",
       "      <th>9</th>\n",
       "      <td>58</td>\n",
       "      <td>466.0</td>\n",
       "    </tr>\n",
       "  </tbody>\n",
       "</table>\n",
       "</div>"
      ],
      "text/plain": [
       "               calls_count  calls_duration\n",
       "user_id month                             \n",
       "1000    5               22           159.0\n",
       "        6               43           172.0\n",
       "        7               47           340.0\n",
       "        8               52           408.0\n",
       "        9               58           466.0"
      ]
     },
     "execution_count": 15,
     "metadata": {},
     "output_type": "execute_result"
    }
   ],
   "source": [
    "calls_pivot = calls.pivot_table(index=['user_id','month'],aggfunc={'call_date':'count', 'duration':'sum'})\n",
    "calls_pivot.columns = ['calls_count', 'calls_duration']\n",
    "calls_pivot.head()"
   ]
  },
  {
   "cell_type": "markdown",
   "id": "32462a94",
   "metadata": {},
   "source": [
    "### Обработка таблицы messages"
   ]
  },
  {
   "cell_type": "code",
   "execution_count": 16,
   "id": "9225e177",
   "metadata": {},
   "outputs": [
    {
     "data": {
      "text/html": [
       "<div>\n",
       "<style scoped>\n",
       "    .dataframe tbody tr th:only-of-type {\n",
       "        vertical-align: middle;\n",
       "    }\n",
       "\n",
       "    .dataframe tbody tr th {\n",
       "        vertical-align: top;\n",
       "    }\n",
       "\n",
       "    .dataframe thead th {\n",
       "        text-align: right;\n",
       "    }\n",
       "</style>\n",
       "<table border=\"1\" class=\"dataframe\">\n",
       "  <thead>\n",
       "    <tr style=\"text-align: right;\">\n",
       "      <th></th>\n",
       "      <th>id</th>\n",
       "      <th>message_date</th>\n",
       "      <th>user_id</th>\n",
       "    </tr>\n",
       "  </thead>\n",
       "  <tbody>\n",
       "    <tr>\n",
       "      <th>0</th>\n",
       "      <td>1000_0</td>\n",
       "      <td>2018-06-27</td>\n",
       "      <td>1000</td>\n",
       "    </tr>\n",
       "    <tr>\n",
       "      <th>1</th>\n",
       "      <td>1000_1</td>\n",
       "      <td>2018-10-08</td>\n",
       "      <td>1000</td>\n",
       "    </tr>\n",
       "    <tr>\n",
       "      <th>2</th>\n",
       "      <td>1000_2</td>\n",
       "      <td>2018-08-04</td>\n",
       "      <td>1000</td>\n",
       "    </tr>\n",
       "    <tr>\n",
       "      <th>3</th>\n",
       "      <td>1000_3</td>\n",
       "      <td>2018-06-16</td>\n",
       "      <td>1000</td>\n",
       "    </tr>\n",
       "    <tr>\n",
       "      <th>4</th>\n",
       "      <td>1000_4</td>\n",
       "      <td>2018-12-05</td>\n",
       "      <td>1000</td>\n",
       "    </tr>\n",
       "  </tbody>\n",
       "</table>\n",
       "</div>"
      ],
      "text/plain": [
       "       id message_date  user_id\n",
       "0  1000_0   2018-06-27     1000\n",
       "1  1000_1   2018-10-08     1000\n",
       "2  1000_2   2018-08-04     1000\n",
       "3  1000_3   2018-06-16     1000\n",
       "4  1000_4   2018-12-05     1000"
      ]
     },
     "execution_count": 16,
     "metadata": {},
     "output_type": "execute_result"
    }
   ],
   "source": [
    "messages.head()"
   ]
  },
  {
   "cell_type": "code",
   "execution_count": 17,
   "id": "95e20388",
   "metadata": {},
   "outputs": [
    {
     "name": "stdout",
     "output_type": "stream",
     "text": [
      "<class 'pandas.core.frame.DataFrame'>\n",
      "RangeIndex: 123036 entries, 0 to 123035\n",
      "Data columns (total 3 columns):\n",
      " #   Column        Non-Null Count   Dtype \n",
      "---  ------        --------------   ----- \n",
      " 0   id            123036 non-null  object\n",
      " 1   message_date  123036 non-null  object\n",
      " 2   user_id       123036 non-null  int64 \n",
      "dtypes: int64(1), object(2)\n",
      "memory usage: 2.8+ MB\n"
     ]
    }
   ],
   "source": [
    "messages.info()"
   ]
  },
  {
   "cell_type": "code",
   "execution_count": 18,
   "id": "f18eeb4c",
   "metadata": {},
   "outputs": [
    {
     "data": {
      "text/plain": [
       "id              0\n",
       "message_date    0\n",
       "user_id         0\n",
       "dtype: int64"
      ]
     },
     "execution_count": 18,
     "metadata": {},
     "output_type": "execute_result"
    }
   ],
   "source": [
    "messages.isna().sum()"
   ]
  },
  {
   "cell_type": "code",
   "execution_count": 19,
   "id": "3a044a28",
   "metadata": {},
   "outputs": [],
   "source": [
    "messages['message_date'] = pd.to_datetime(messages['message_date'], format='%Y-%m-%d')"
   ]
  },
  {
   "cell_type": "code",
   "execution_count": 20,
   "id": "5a265d4f",
   "metadata": {},
   "outputs": [],
   "source": [
    "messages['month'] = messages['message_date'].dt.month"
   ]
  },
  {
   "cell_type": "code",
   "execution_count": 21,
   "id": "bc9f2ca5",
   "metadata": {},
   "outputs": [
    {
     "data": {
      "text/html": [
       "<div>\n",
       "<style scoped>\n",
       "    .dataframe tbody tr th:only-of-type {\n",
       "        vertical-align: middle;\n",
       "    }\n",
       "\n",
       "    .dataframe tbody tr th {\n",
       "        vertical-align: top;\n",
       "    }\n",
       "\n",
       "    .dataframe thead th {\n",
       "        text-align: right;\n",
       "    }\n",
       "</style>\n",
       "<table border=\"1\" class=\"dataframe\">\n",
       "  <thead>\n",
       "    <tr style=\"text-align: right;\">\n",
       "      <th></th>\n",
       "      <th></th>\n",
       "      <th>messages_count</th>\n",
       "    </tr>\n",
       "    <tr>\n",
       "      <th>user_id</th>\n",
       "      <th>month</th>\n",
       "      <th></th>\n",
       "    </tr>\n",
       "  </thead>\n",
       "  <tbody>\n",
       "    <tr>\n",
       "      <th rowspan=\"5\" valign=\"top\">1000</th>\n",
       "      <th>5</th>\n",
       "      <td>22</td>\n",
       "    </tr>\n",
       "    <tr>\n",
       "      <th>6</th>\n",
       "      <td>60</td>\n",
       "    </tr>\n",
       "    <tr>\n",
       "      <th>7</th>\n",
       "      <td>75</td>\n",
       "    </tr>\n",
       "    <tr>\n",
       "      <th>8</th>\n",
       "      <td>81</td>\n",
       "    </tr>\n",
       "    <tr>\n",
       "      <th>9</th>\n",
       "      <td>57</td>\n",
       "    </tr>\n",
       "  </tbody>\n",
       "</table>\n",
       "</div>"
      ],
      "text/plain": [
       "               messages_count\n",
       "user_id month                \n",
       "1000    5                  22\n",
       "        6                  60\n",
       "        7                  75\n",
       "        8                  81\n",
       "        9                  57"
      ]
     },
     "execution_count": 21,
     "metadata": {},
     "output_type": "execute_result"
    }
   ],
   "source": [
    "messages_pivot = messages.pivot_table(index=['user_id','month'], values='id', aggfunc='count')\n",
    "messages_pivot.columns = ['messages_count']\n",
    "messages_pivot.head()"
   ]
  },
  {
   "cell_type": "markdown",
   "id": "6d8b355e",
   "metadata": {},
   "source": [
    "### Обработка таблицы internet"
   ]
  },
  {
   "cell_type": "code",
   "execution_count": 22,
   "id": "dd85e03b",
   "metadata": {},
   "outputs": [
    {
     "data": {
      "text/html": [
       "<div>\n",
       "<style scoped>\n",
       "    .dataframe tbody tr th:only-of-type {\n",
       "        vertical-align: middle;\n",
       "    }\n",
       "\n",
       "    .dataframe tbody tr th {\n",
       "        vertical-align: top;\n",
       "    }\n",
       "\n",
       "    .dataframe thead th {\n",
       "        text-align: right;\n",
       "    }\n",
       "</style>\n",
       "<table border=\"1\" class=\"dataframe\">\n",
       "  <thead>\n",
       "    <tr style=\"text-align: right;\">\n",
       "      <th></th>\n",
       "      <th>Unnamed: 0</th>\n",
       "      <th>id</th>\n",
       "      <th>mb_used</th>\n",
       "      <th>session_date</th>\n",
       "      <th>user_id</th>\n",
       "    </tr>\n",
       "  </thead>\n",
       "  <tbody>\n",
       "    <tr>\n",
       "      <th>0</th>\n",
       "      <td>0</td>\n",
       "      <td>1000_0</td>\n",
       "      <td>112.95</td>\n",
       "      <td>2018-11-25</td>\n",
       "      <td>1000</td>\n",
       "    </tr>\n",
       "    <tr>\n",
       "      <th>1</th>\n",
       "      <td>1</td>\n",
       "      <td>1000_1</td>\n",
       "      <td>1052.81</td>\n",
       "      <td>2018-09-07</td>\n",
       "      <td>1000</td>\n",
       "    </tr>\n",
       "    <tr>\n",
       "      <th>2</th>\n",
       "      <td>2</td>\n",
       "      <td>1000_2</td>\n",
       "      <td>1197.26</td>\n",
       "      <td>2018-06-25</td>\n",
       "      <td>1000</td>\n",
       "    </tr>\n",
       "    <tr>\n",
       "      <th>3</th>\n",
       "      <td>3</td>\n",
       "      <td>1000_3</td>\n",
       "      <td>550.27</td>\n",
       "      <td>2018-08-22</td>\n",
       "      <td>1000</td>\n",
       "    </tr>\n",
       "    <tr>\n",
       "      <th>4</th>\n",
       "      <td>4</td>\n",
       "      <td>1000_4</td>\n",
       "      <td>302.56</td>\n",
       "      <td>2018-09-24</td>\n",
       "      <td>1000</td>\n",
       "    </tr>\n",
       "  </tbody>\n",
       "</table>\n",
       "</div>"
      ],
      "text/plain": [
       "   Unnamed: 0      id  mb_used session_date  user_id\n",
       "0           0  1000_0   112.95   2018-11-25     1000\n",
       "1           1  1000_1  1052.81   2018-09-07     1000\n",
       "2           2  1000_2  1197.26   2018-06-25     1000\n",
       "3           3  1000_3   550.27   2018-08-22     1000\n",
       "4           4  1000_4   302.56   2018-09-24     1000"
      ]
     },
     "execution_count": 22,
     "metadata": {},
     "output_type": "execute_result"
    }
   ],
   "source": [
    "internet.head()"
   ]
  },
  {
   "cell_type": "code",
   "execution_count": 23,
   "id": "974c397f",
   "metadata": {},
   "outputs": [
    {
     "name": "stdout",
     "output_type": "stream",
     "text": [
      "<class 'pandas.core.frame.DataFrame'>\n",
      "RangeIndex: 149396 entries, 0 to 149395\n",
      "Data columns (total 5 columns):\n",
      " #   Column        Non-Null Count   Dtype  \n",
      "---  ------        --------------   -----  \n",
      " 0   Unnamed: 0    149396 non-null  int64  \n",
      " 1   id            149396 non-null  object \n",
      " 2   mb_used       149396 non-null  float64\n",
      " 3   session_date  149396 non-null  object \n",
      " 4   user_id       149396 non-null  int64  \n",
      "dtypes: float64(1), int64(2), object(2)\n",
      "memory usage: 5.7+ MB\n"
     ]
    }
   ],
   "source": [
    "internet.info()"
   ]
  },
  {
   "cell_type": "code",
   "execution_count": 24,
   "id": "cac2e2ea",
   "metadata": {},
   "outputs": [
    {
     "data": {
      "text/plain": [
       "Unnamed: 0      0\n",
       "id              0\n",
       "mb_used         0\n",
       "session_date    0\n",
       "user_id         0\n",
       "dtype: int64"
      ]
     },
     "execution_count": 24,
     "metadata": {},
     "output_type": "execute_result"
    }
   ],
   "source": [
    "internet.isna().sum()"
   ]
  },
  {
   "cell_type": "code",
   "execution_count": 25,
   "id": "2dd3f028",
   "metadata": {},
   "outputs": [],
   "source": [
    "# удаление лишнего столбца \n",
    "internet = internet.drop(columns='Unnamed: 0') "
   ]
  },
  {
   "cell_type": "code",
   "execution_count": 26,
   "id": "e08f6a46",
   "metadata": {},
   "outputs": [],
   "source": [
    "internet['session_date'] = pd.to_datetime(internet['session_date'], format='%Y-%m-%d')"
   ]
  },
  {
   "cell_type": "code",
   "execution_count": 27,
   "id": "922fe491",
   "metadata": {},
   "outputs": [],
   "source": [
    "internet['month'] = internet['session_date'].dt.month"
   ]
  },
  {
   "cell_type": "code",
   "execution_count": 28,
   "id": "b42c37f3",
   "metadata": {},
   "outputs": [
    {
     "data": {
      "text/html": [
       "<div>\n",
       "<style scoped>\n",
       "    .dataframe tbody tr th:only-of-type {\n",
       "        vertical-align: middle;\n",
       "    }\n",
       "\n",
       "    .dataframe tbody tr th {\n",
       "        vertical-align: top;\n",
       "    }\n",
       "\n",
       "    .dataframe thead th {\n",
       "        text-align: right;\n",
       "    }\n",
       "</style>\n",
       "<table border=\"1\" class=\"dataframe\">\n",
       "  <thead>\n",
       "    <tr style=\"text-align: right;\">\n",
       "      <th></th>\n",
       "      <th></th>\n",
       "      <th>traffic</th>\n",
       "    </tr>\n",
       "    <tr>\n",
       "      <th>user_id</th>\n",
       "      <th>month</th>\n",
       "      <th></th>\n",
       "    </tr>\n",
       "  </thead>\n",
       "  <tbody>\n",
       "    <tr>\n",
       "      <th rowspan=\"5\" valign=\"top\">1000</th>\n",
       "      <th>5</th>\n",
       "      <td>2253.49</td>\n",
       "    </tr>\n",
       "    <tr>\n",
       "      <th>6</th>\n",
       "      <td>23233.77</td>\n",
       "    </tr>\n",
       "    <tr>\n",
       "      <th>7</th>\n",
       "      <td>14003.64</td>\n",
       "    </tr>\n",
       "    <tr>\n",
       "      <th>8</th>\n",
       "      <td>14055.93</td>\n",
       "    </tr>\n",
       "    <tr>\n",
       "      <th>9</th>\n",
       "      <td>14568.91</td>\n",
       "    </tr>\n",
       "  </tbody>\n",
       "</table>\n",
       "</div>"
      ],
      "text/plain": [
       "                traffic\n",
       "user_id month          \n",
       "1000    5       2253.49\n",
       "        6      23233.77\n",
       "        7      14003.64\n",
       "        8      14055.93\n",
       "        9      14568.91"
      ]
     },
     "execution_count": 28,
     "metadata": {},
     "output_type": "execute_result"
    }
   ],
   "source": [
    "internet_pivot = internet.pivot_table(index=['user_id', 'month'], values='mb_used', aggfunc='sum')\n",
    "internet_pivot.columns = ['traffic']\n",
    "internet_pivot.head()"
   ]
  },
  {
   "cell_type": "markdown",
   "id": "5da413a1",
   "metadata": {},
   "source": [
    "### Объединение датафреймов"
   ]
  },
  {
   "cell_type": "code",
   "execution_count": 29,
   "id": "f0e18349",
   "metadata": {},
   "outputs": [
    {
     "data": {
      "text/html": [
       "<div>\n",
       "<style scoped>\n",
       "    .dataframe tbody tr th:only-of-type {\n",
       "        vertical-align: middle;\n",
       "    }\n",
       "\n",
       "    .dataframe tbody tr th {\n",
       "        vertical-align: top;\n",
       "    }\n",
       "\n",
       "    .dataframe thead th {\n",
       "        text-align: right;\n",
       "    }\n",
       "</style>\n",
       "<table border=\"1\" class=\"dataframe\">\n",
       "  <thead>\n",
       "    <tr style=\"text-align: right;\">\n",
       "      <th></th>\n",
       "      <th>month</th>\n",
       "      <th>traffic</th>\n",
       "      <th>calls_count</th>\n",
       "      <th>calls_duration</th>\n",
       "      <th>messages_count</th>\n",
       "    </tr>\n",
       "    <tr>\n",
       "      <th>user_id</th>\n",
       "      <th></th>\n",
       "      <th></th>\n",
       "      <th></th>\n",
       "      <th></th>\n",
       "      <th></th>\n",
       "    </tr>\n",
       "  </thead>\n",
       "  <tbody>\n",
       "    <tr>\n",
       "      <th>1000</th>\n",
       "      <td>5</td>\n",
       "      <td>2253.49</td>\n",
       "      <td>22.0</td>\n",
       "      <td>159.0</td>\n",
       "      <td>22.0</td>\n",
       "    </tr>\n",
       "    <tr>\n",
       "      <th>1000</th>\n",
       "      <td>6</td>\n",
       "      <td>23233.77</td>\n",
       "      <td>43.0</td>\n",
       "      <td>172.0</td>\n",
       "      <td>60.0</td>\n",
       "    </tr>\n",
       "    <tr>\n",
       "      <th>1000</th>\n",
       "      <td>7</td>\n",
       "      <td>14003.64</td>\n",
       "      <td>47.0</td>\n",
       "      <td>340.0</td>\n",
       "      <td>75.0</td>\n",
       "    </tr>\n",
       "    <tr>\n",
       "      <th>1000</th>\n",
       "      <td>8</td>\n",
       "      <td>14055.93</td>\n",
       "      <td>52.0</td>\n",
       "      <td>408.0</td>\n",
       "      <td>81.0</td>\n",
       "    </tr>\n",
       "    <tr>\n",
       "      <th>1000</th>\n",
       "      <td>9</td>\n",
       "      <td>14568.91</td>\n",
       "      <td>58.0</td>\n",
       "      <td>466.0</td>\n",
       "      <td>57.0</td>\n",
       "    </tr>\n",
       "  </tbody>\n",
       "</table>\n",
       "</div>"
      ],
      "text/plain": [
       "         month   traffic  calls_count  calls_duration  messages_count\n",
       "user_id                                                              \n",
       "1000         5   2253.49         22.0           159.0            22.0\n",
       "1000         6  23233.77         43.0           172.0            60.0\n",
       "1000         7  14003.64         47.0           340.0            75.0\n",
       "1000         8  14055.93         52.0           408.0            81.0\n",
       "1000         9  14568.91         58.0           466.0            57.0"
      ]
     },
     "execution_count": 29,
     "metadata": {},
     "output_type": "execute_result"
    }
   ],
   "source": [
    "data = internet_pivot.join([calls_pivot,messages_pivot],how='outer').reset_index(level='month')\n",
    "data.head()    \n"
   ]
  },
  {
   "cell_type": "code",
   "execution_count": 30,
   "id": "ae4870fb",
   "metadata": {},
   "outputs": [
    {
     "data": {
      "text/html": [
       "<div>\n",
       "<style scoped>\n",
       "    .dataframe tbody tr th:only-of-type {\n",
       "        vertical-align: middle;\n",
       "    }\n",
       "\n",
       "    .dataframe tbody tr th {\n",
       "        vertical-align: top;\n",
       "    }\n",
       "\n",
       "    .dataframe thead th {\n",
       "        text-align: right;\n",
       "    }\n",
       "</style>\n",
       "<table border=\"1\" class=\"dataframe\">\n",
       "  <thead>\n",
       "    <tr style=\"text-align: right;\">\n",
       "      <th></th>\n",
       "      <th>user_id</th>\n",
       "      <th>age</th>\n",
       "      <th>churn_date</th>\n",
       "      <th>city</th>\n",
       "      <th>first_name</th>\n",
       "      <th>last_name</th>\n",
       "      <th>reg_date</th>\n",
       "      <th>tariff</th>\n",
       "      <th>month</th>\n",
       "      <th>traffic</th>\n",
       "      <th>calls_count</th>\n",
       "      <th>calls_duration</th>\n",
       "      <th>messages_count</th>\n",
       "    </tr>\n",
       "  </thead>\n",
       "  <tbody>\n",
       "    <tr>\n",
       "      <th>0</th>\n",
       "      <td>1000</td>\n",
       "      <td>52</td>\n",
       "      <td>NaN</td>\n",
       "      <td>Краснодар</td>\n",
       "      <td>Рафаил</td>\n",
       "      <td>Верещагин</td>\n",
       "      <td>2018-05-25</td>\n",
       "      <td>ultra</td>\n",
       "      <td>5.0</td>\n",
       "      <td>2253.49</td>\n",
       "      <td>22.0</td>\n",
       "      <td>159.0</td>\n",
       "      <td>22.0</td>\n",
       "    </tr>\n",
       "    <tr>\n",
       "      <th>0</th>\n",
       "      <td>1000</td>\n",
       "      <td>52</td>\n",
       "      <td>NaN</td>\n",
       "      <td>Краснодар</td>\n",
       "      <td>Рафаил</td>\n",
       "      <td>Верещагин</td>\n",
       "      <td>2018-05-25</td>\n",
       "      <td>ultra</td>\n",
       "      <td>6.0</td>\n",
       "      <td>23233.77</td>\n",
       "      <td>43.0</td>\n",
       "      <td>172.0</td>\n",
       "      <td>60.0</td>\n",
       "    </tr>\n",
       "    <tr>\n",
       "      <th>0</th>\n",
       "      <td>1000</td>\n",
       "      <td>52</td>\n",
       "      <td>NaN</td>\n",
       "      <td>Краснодар</td>\n",
       "      <td>Рафаил</td>\n",
       "      <td>Верещагин</td>\n",
       "      <td>2018-05-25</td>\n",
       "      <td>ultra</td>\n",
       "      <td>7.0</td>\n",
       "      <td>14003.64</td>\n",
       "      <td>47.0</td>\n",
       "      <td>340.0</td>\n",
       "      <td>75.0</td>\n",
       "    </tr>\n",
       "    <tr>\n",
       "      <th>0</th>\n",
       "      <td>1000</td>\n",
       "      <td>52</td>\n",
       "      <td>NaN</td>\n",
       "      <td>Краснодар</td>\n",
       "      <td>Рафаил</td>\n",
       "      <td>Верещагин</td>\n",
       "      <td>2018-05-25</td>\n",
       "      <td>ultra</td>\n",
       "      <td>8.0</td>\n",
       "      <td>14055.93</td>\n",
       "      <td>52.0</td>\n",
       "      <td>408.0</td>\n",
       "      <td>81.0</td>\n",
       "    </tr>\n",
       "    <tr>\n",
       "      <th>0</th>\n",
       "      <td>1000</td>\n",
       "      <td>52</td>\n",
       "      <td>NaN</td>\n",
       "      <td>Краснодар</td>\n",
       "      <td>Рафаил</td>\n",
       "      <td>Верещагин</td>\n",
       "      <td>2018-05-25</td>\n",
       "      <td>ultra</td>\n",
       "      <td>9.0</td>\n",
       "      <td>14568.91</td>\n",
       "      <td>58.0</td>\n",
       "      <td>466.0</td>\n",
       "      <td>57.0</td>\n",
       "    </tr>\n",
       "  </tbody>\n",
       "</table>\n",
       "</div>"
      ],
      "text/plain": [
       "   user_id  age churn_date       city first_name  last_name   reg_date tariff  \\\n",
       "0     1000   52        NaN  Краснодар     Рафаил  Верещагин 2018-05-25  ultra   \n",
       "0     1000   52        NaN  Краснодар     Рафаил  Верещагин 2018-05-25  ultra   \n",
       "0     1000   52        NaN  Краснодар     Рафаил  Верещагин 2018-05-25  ultra   \n",
       "0     1000   52        NaN  Краснодар     Рафаил  Верещагин 2018-05-25  ultra   \n",
       "0     1000   52        NaN  Краснодар     Рафаил  Верещагин 2018-05-25  ultra   \n",
       "\n",
       "   month   traffic  calls_count  calls_duration  messages_count  \n",
       "0    5.0   2253.49         22.0           159.0            22.0  \n",
       "0    6.0  23233.77         43.0           172.0            60.0  \n",
       "0    7.0  14003.64         47.0           340.0            75.0  \n",
       "0    8.0  14055.93         52.0           408.0            81.0  \n",
       "0    9.0  14568.91         58.0           466.0            57.0  "
      ]
     },
     "execution_count": 30,
     "metadata": {},
     "output_type": "execute_result"
    }
   ],
   "source": [
    "df = users.join(data, on='user_id')\n",
    "df.head()"
   ]
  },
  {
   "cell_type": "code",
   "execution_count": 31,
   "id": "0854bcc3",
   "metadata": {},
   "outputs": [],
   "source": [
    "# удаление ненужных столбцов, столбец city понадобится для дальнейшего исследования\n",
    "df = df.drop(['churn_date', 'first_name', 'last_name', 'reg_date'], axis='columns')\n"
   ]
  },
  {
   "cell_type": "code",
   "execution_count": 32,
   "id": "f3463033",
   "metadata": {},
   "outputs": [
    {
     "data": {
      "text/html": [
       "<div>\n",
       "<style scoped>\n",
       "    .dataframe tbody tr th:only-of-type {\n",
       "        vertical-align: middle;\n",
       "    }\n",
       "\n",
       "    .dataframe tbody tr th {\n",
       "        vertical-align: top;\n",
       "    }\n",
       "\n",
       "    .dataframe thead th {\n",
       "        text-align: right;\n",
       "    }\n",
       "</style>\n",
       "<table border=\"1\" class=\"dataframe\">\n",
       "  <thead>\n",
       "    <tr style=\"text-align: right;\">\n",
       "      <th></th>\n",
       "      <th>messages_included</th>\n",
       "      <th>mb_per_month_included</th>\n",
       "      <th>minutes_included</th>\n",
       "      <th>rub_monthly_fee</th>\n",
       "      <th>rub_per_gb</th>\n",
       "      <th>rub_per_message</th>\n",
       "      <th>rub_per_minute</th>\n",
       "      <th>tariff</th>\n",
       "    </tr>\n",
       "  </thead>\n",
       "  <tbody>\n",
       "    <tr>\n",
       "      <th>0</th>\n",
       "      <td>50</td>\n",
       "      <td>15360</td>\n",
       "      <td>500</td>\n",
       "      <td>550</td>\n",
       "      <td>200</td>\n",
       "      <td>3</td>\n",
       "      <td>3</td>\n",
       "      <td>smart</td>\n",
       "    </tr>\n",
       "    <tr>\n",
       "      <th>1</th>\n",
       "      <td>1000</td>\n",
       "      <td>30720</td>\n",
       "      <td>3000</td>\n",
       "      <td>1950</td>\n",
       "      <td>150</td>\n",
       "      <td>1</td>\n",
       "      <td>1</td>\n",
       "      <td>ultra</td>\n",
       "    </tr>\n",
       "  </tbody>\n",
       "</table>\n",
       "</div>"
      ],
      "text/plain": [
       "   messages_included  mb_per_month_included  minutes_included  \\\n",
       "0                 50                  15360               500   \n",
       "1               1000                  30720              3000   \n",
       "\n",
       "   rub_monthly_fee  rub_per_gb  rub_per_message  rub_per_minute tariff  \n",
       "0              550         200                3               3  smart  \n",
       "1             1950         150                1               1  ultra  "
      ]
     },
     "execution_count": 32,
     "metadata": {},
     "output_type": "execute_result"
    }
   ],
   "source": [
    "# добавление информации о тарифах\n",
    "tariffs.columns = ['messages_included', 'mb_per_month_included', 'minutes_included', 'rub_monthly_fee',\\\n",
    "                      'rub_per_gb', 'rub_per_message', 'rub_per_minute', 'tariff']\n",
    "tariffs"
   ]
  },
  {
   "cell_type": "code",
   "execution_count": 33,
   "id": "15ff168a",
   "metadata": {},
   "outputs": [
    {
     "name": "stdout",
     "output_type": "stream",
     "text": [
      "<class 'pandas.core.frame.DataFrame'>\n",
      "Int64Index: 3216 entries, 0 to 3215\n",
      "Data columns (total 16 columns):\n",
      " #   Column                 Non-Null Count  Dtype  \n",
      "---  ------                 --------------  -----  \n",
      " 0   user_id                3216 non-null   int64  \n",
      " 1   age                    3216 non-null   int64  \n",
      " 2   city                   3216 non-null   object \n",
      " 3   tariff                 3216 non-null   object \n",
      " 4   month                  3214 non-null   float64\n",
      " 5   traffic                3203 non-null   float64\n",
      " 6   calls_count            3174 non-null   float64\n",
      " 7   calls_duration         3174 non-null   float64\n",
      " 8   messages_count         2717 non-null   float64\n",
      " 9   messages_included      3216 non-null   int64  \n",
      " 10  mb_per_month_included  3216 non-null   int64  \n",
      " 11  minutes_included       3216 non-null   int64  \n",
      " 12  rub_monthly_fee        3216 non-null   int64  \n",
      " 13  rub_per_gb             3216 non-null   int64  \n",
      " 14  rub_per_message        3216 non-null   int64  \n",
      " 15  rub_per_minute         3216 non-null   int64  \n",
      "dtypes: float64(5), int64(9), object(2)\n",
      "memory usage: 427.1+ KB\n"
     ]
    }
   ],
   "source": [
    "# объединение датафреймов по 'tariff'\n",
    "df = df.merge(tariffs, on='tariff')\n",
    "df.head()\n",
    "df.info()"
   ]
  },
  {
   "cell_type": "code",
   "execution_count": 34,
   "id": "dcff0a7a",
   "metadata": {},
   "outputs": [
    {
     "data": {
      "text/plain": [
       "user_id                    0\n",
       "age                        0\n",
       "city                       0\n",
       "tariff                     0\n",
       "month                      2\n",
       "traffic                   13\n",
       "calls_count               42\n",
       "calls_duration            42\n",
       "messages_count           499\n",
       "messages_included          0\n",
       "mb_per_month_included      0\n",
       "minutes_included           0\n",
       "rub_monthly_fee            0\n",
       "rub_per_gb                 0\n",
       "rub_per_message            0\n",
       "rub_per_minute             0\n",
       "dtype: int64"
      ]
     },
     "execution_count": 34,
     "metadata": {},
     "output_type": "execute_result"
    }
   ],
   "source": [
    "# проверка на пропуски получившийся датафрейм\n",
    "df.isna().sum()"
   ]
  },
  {
   "cell_type": "markdown",
   "id": "38d13f19",
   "metadata": {},
   "source": [
    "При проверке созданного датафрейма выявлены пропуски в столбцах:\n",
    "- month (лучше удалить, так как их всего 2, и нет смысла заполнять средним или медианным значением. ОТсутствие 2-х месяцев не повлияет на дальнейшее исследование.)\n",
    "- traffic (лучше заполнить нулевым значением, так как это логичнее, возможно у потребителя телефон, которы не поддерживает мобильный интернет, соответственно и отсутсвует интернет трафик)\n",
    "- messages_count (также лучше заполнить нулевыми значениями, потому что потребитель может просто не писать смс, пользуется мессенджерами). "
   ]
  },
  {
   "cell_type": "code",
   "execution_count": 35,
   "id": "574f84b4",
   "metadata": {},
   "outputs": [],
   "source": [
    "# пропуске в month невозможно заполнить, поэтому лучше их удалить\n",
    "df = df.dropna(subset=['month'])"
   ]
  },
  {
   "cell_type": "code",
   "execution_count": 36,
   "id": "7e8ccb88",
   "metadata": {},
   "outputs": [],
   "source": [
    "# оставшиеся пропуски лучше заменить нулевыми значениями\n",
    "df = df.fillna(0)"
   ]
  },
  {
   "cell_type": "code",
   "execution_count": 37,
   "id": "a9bc3063",
   "metadata": {},
   "outputs": [
    {
     "data": {
      "text/plain": [
       "user_id                  0\n",
       "age                      0\n",
       "city                     0\n",
       "tariff                   0\n",
       "month                    0\n",
       "traffic                  0\n",
       "calls_count              0\n",
       "calls_duration           0\n",
       "messages_count           0\n",
       "messages_included        0\n",
       "mb_per_month_included    0\n",
       "minutes_included         0\n",
       "rub_monthly_fee          0\n",
       "rub_per_gb               0\n",
       "rub_per_message          0\n",
       "rub_per_minute           0\n",
       "dtype: int64"
      ]
     },
     "execution_count": 37,
     "metadata": {},
     "output_type": "execute_result"
    }
   ],
   "source": [
    "# проверка на отсутствие пропусков \n",
    "df.isna().sum()"
   ]
  },
  {
   "cell_type": "markdown",
   "id": "a6af865c",
   "metadata": {},
   "source": [
    "### Расчет помесячной выручки "
   ]
  },
  {
   "cell_type": "code",
   "execution_count": 38,
   "id": "7a32a87c",
   "metadata": {},
   "outputs": [],
   "source": [
    "# функция для расчета помесячной выручки\n",
    "def bill_month(row):\n",
    "    bill_minutes = 0\n",
    "    bill_sms = 0\n",
    "    bill_traffic = 0\n",
    "    minutes = row['calls_duration']\n",
    "    sms = row['messages_count']\n",
    "    traffic = row['traffic']\n",
    "    tariff = row['tariff']\n",
    "    minutes_limit = row['minutes_included']\n",
    "    sms_limit = row['messages_included']\n",
    "    traffic_limit = row['mb_per_month_included']\n",
    "    monthly_fee = row['rub_monthly_fee']\n",
    "    rub_per_gb = row['rub_per_gb']\n",
    "    rub_per_message = row['rub_per_message']\n",
    "    rub_per_minute = row['rub_per_minute']\n",
    "    \n",
    "    if minutes > minutes_limit:\n",
    "        bill_minutes += (minutes - minutes_limit) * rub_per_minute\n",
    "    if minutes < minutes_limit:\n",
    "        bill_minutes = 0\n",
    "    if sms > sms_limit:\n",
    "        bill_sms += (sms - sms_limit) * rub_per_message\n",
    "    if sms < sms_limit:\n",
    "        bill_sms = 0\n",
    "    if traffic > traffic_limit:\n",
    "        bill_traffic += (np.ceil((traffic - traffic_limit) / 1024 )) * rub_per_gb\n",
    "    if traffic < traffic_limit:\n",
    "        bill_traffic = 0\n",
    "    return bill_minutes + bill_sms + bill_traffic + monthly_fee\n",
    "        \n",
    "\n",
    "        "
   ]
  },
  {
   "cell_type": "code",
   "execution_count": 39,
   "id": "37386c84",
   "metadata": {
    "scrolled": false
   },
   "outputs": [
    {
     "data": {
      "text/html": [
       "<div>\n",
       "<style scoped>\n",
       "    .dataframe tbody tr th:only-of-type {\n",
       "        vertical-align: middle;\n",
       "    }\n",
       "\n",
       "    .dataframe tbody tr th {\n",
       "        vertical-align: top;\n",
       "    }\n",
       "\n",
       "    .dataframe thead th {\n",
       "        text-align: right;\n",
       "    }\n",
       "</style>\n",
       "<table border=\"1\" class=\"dataframe\">\n",
       "  <thead>\n",
       "    <tr style=\"text-align: right;\">\n",
       "      <th></th>\n",
       "      <th>user_id</th>\n",
       "      <th>age</th>\n",
       "      <th>city</th>\n",
       "      <th>tariff</th>\n",
       "      <th>month</th>\n",
       "      <th>traffic</th>\n",
       "      <th>calls_count</th>\n",
       "      <th>calls_duration</th>\n",
       "      <th>messages_count</th>\n",
       "      <th>messages_included</th>\n",
       "      <th>mb_per_month_included</th>\n",
       "      <th>minutes_included</th>\n",
       "      <th>rub_monthly_fee</th>\n",
       "      <th>rub_per_gb</th>\n",
       "      <th>rub_per_message</th>\n",
       "      <th>rub_per_minute</th>\n",
       "      <th>total_bill</th>\n",
       "    </tr>\n",
       "  </thead>\n",
       "  <tbody>\n",
       "    <tr>\n",
       "      <th>0</th>\n",
       "      <td>1000</td>\n",
       "      <td>52</td>\n",
       "      <td>Краснодар</td>\n",
       "      <td>ultra</td>\n",
       "      <td>5.0</td>\n",
       "      <td>2253.49</td>\n",
       "      <td>22.0</td>\n",
       "      <td>159.0</td>\n",
       "      <td>22.0</td>\n",
       "      <td>1000</td>\n",
       "      <td>30720</td>\n",
       "      <td>3000</td>\n",
       "      <td>1950</td>\n",
       "      <td>150</td>\n",
       "      <td>1</td>\n",
       "      <td>1</td>\n",
       "      <td>1950.0</td>\n",
       "    </tr>\n",
       "    <tr>\n",
       "      <th>1</th>\n",
       "      <td>1000</td>\n",
       "      <td>52</td>\n",
       "      <td>Краснодар</td>\n",
       "      <td>ultra</td>\n",
       "      <td>6.0</td>\n",
       "      <td>23233.77</td>\n",
       "      <td>43.0</td>\n",
       "      <td>172.0</td>\n",
       "      <td>60.0</td>\n",
       "      <td>1000</td>\n",
       "      <td>30720</td>\n",
       "      <td>3000</td>\n",
       "      <td>1950</td>\n",
       "      <td>150</td>\n",
       "      <td>1</td>\n",
       "      <td>1</td>\n",
       "      <td>1950.0</td>\n",
       "    </tr>\n",
       "    <tr>\n",
       "      <th>2</th>\n",
       "      <td>1000</td>\n",
       "      <td>52</td>\n",
       "      <td>Краснодар</td>\n",
       "      <td>ultra</td>\n",
       "      <td>7.0</td>\n",
       "      <td>14003.64</td>\n",
       "      <td>47.0</td>\n",
       "      <td>340.0</td>\n",
       "      <td>75.0</td>\n",
       "      <td>1000</td>\n",
       "      <td>30720</td>\n",
       "      <td>3000</td>\n",
       "      <td>1950</td>\n",
       "      <td>150</td>\n",
       "      <td>1</td>\n",
       "      <td>1</td>\n",
       "      <td>1950.0</td>\n",
       "    </tr>\n",
       "    <tr>\n",
       "      <th>3</th>\n",
       "      <td>1000</td>\n",
       "      <td>52</td>\n",
       "      <td>Краснодар</td>\n",
       "      <td>ultra</td>\n",
       "      <td>8.0</td>\n",
       "      <td>14055.93</td>\n",
       "      <td>52.0</td>\n",
       "      <td>408.0</td>\n",
       "      <td>81.0</td>\n",
       "      <td>1000</td>\n",
       "      <td>30720</td>\n",
       "      <td>3000</td>\n",
       "      <td>1950</td>\n",
       "      <td>150</td>\n",
       "      <td>1</td>\n",
       "      <td>1</td>\n",
       "      <td>1950.0</td>\n",
       "    </tr>\n",
       "    <tr>\n",
       "      <th>4</th>\n",
       "      <td>1000</td>\n",
       "      <td>52</td>\n",
       "      <td>Краснодар</td>\n",
       "      <td>ultra</td>\n",
       "      <td>9.0</td>\n",
       "      <td>14568.91</td>\n",
       "      <td>58.0</td>\n",
       "      <td>466.0</td>\n",
       "      <td>57.0</td>\n",
       "      <td>1000</td>\n",
       "      <td>30720</td>\n",
       "      <td>3000</td>\n",
       "      <td>1950</td>\n",
       "      <td>150</td>\n",
       "      <td>1</td>\n",
       "      <td>1</td>\n",
       "      <td>1950.0</td>\n",
       "    </tr>\n",
       "    <tr>\n",
       "      <th>...</th>\n",
       "      <td>...</td>\n",
       "      <td>...</td>\n",
       "      <td>...</td>\n",
       "      <td>...</td>\n",
       "      <td>...</td>\n",
       "      <td>...</td>\n",
       "      <td>...</td>\n",
       "      <td>...</td>\n",
       "      <td>...</td>\n",
       "      <td>...</td>\n",
       "      <td>...</td>\n",
       "      <td>...</td>\n",
       "      <td>...</td>\n",
       "      <td>...</td>\n",
       "      <td>...</td>\n",
       "      <td>...</td>\n",
       "      <td>...</td>\n",
       "    </tr>\n",
       "    <tr>\n",
       "      <th>3211</th>\n",
       "      <td>1498</td>\n",
       "      <td>68</td>\n",
       "      <td>Владикавказ</td>\n",
       "      <td>smart</td>\n",
       "      <td>10.0</td>\n",
       "      <td>20579.36</td>\n",
       "      <td>41.0</td>\n",
       "      <td>247.0</td>\n",
       "      <td>42.0</td>\n",
       "      <td>50</td>\n",
       "      <td>15360</td>\n",
       "      <td>500</td>\n",
       "      <td>550</td>\n",
       "      <td>200</td>\n",
       "      <td>3</td>\n",
       "      <td>3</td>\n",
       "      <td>1750.0</td>\n",
       "    </tr>\n",
       "    <tr>\n",
       "      <th>3212</th>\n",
       "      <td>1499</td>\n",
       "      <td>35</td>\n",
       "      <td>Пермь</td>\n",
       "      <td>smart</td>\n",
       "      <td>9.0</td>\n",
       "      <td>1845.75</td>\n",
       "      <td>9.0</td>\n",
       "      <td>70.0</td>\n",
       "      <td>11.0</td>\n",
       "      <td>50</td>\n",
       "      <td>15360</td>\n",
       "      <td>500</td>\n",
       "      <td>550</td>\n",
       "      <td>200</td>\n",
       "      <td>3</td>\n",
       "      <td>3</td>\n",
       "      <td>550.0</td>\n",
       "    </tr>\n",
       "    <tr>\n",
       "      <th>3213</th>\n",
       "      <td>1499</td>\n",
       "      <td>35</td>\n",
       "      <td>Пермь</td>\n",
       "      <td>smart</td>\n",
       "      <td>10.0</td>\n",
       "      <td>17788.51</td>\n",
       "      <td>68.0</td>\n",
       "      <td>449.0</td>\n",
       "      <td>48.0</td>\n",
       "      <td>50</td>\n",
       "      <td>15360</td>\n",
       "      <td>500</td>\n",
       "      <td>550</td>\n",
       "      <td>200</td>\n",
       "      <td>3</td>\n",
       "      <td>3</td>\n",
       "      <td>1150.0</td>\n",
       "    </tr>\n",
       "    <tr>\n",
       "      <th>3214</th>\n",
       "      <td>1499</td>\n",
       "      <td>35</td>\n",
       "      <td>Пермь</td>\n",
       "      <td>smart</td>\n",
       "      <td>11.0</td>\n",
       "      <td>17963.31</td>\n",
       "      <td>74.0</td>\n",
       "      <td>612.0</td>\n",
       "      <td>59.0</td>\n",
       "      <td>50</td>\n",
       "      <td>15360</td>\n",
       "      <td>500</td>\n",
       "      <td>550</td>\n",
       "      <td>200</td>\n",
       "      <td>3</td>\n",
       "      <td>3</td>\n",
       "      <td>1513.0</td>\n",
       "    </tr>\n",
       "    <tr>\n",
       "      <th>3215</th>\n",
       "      <td>1499</td>\n",
       "      <td>35</td>\n",
       "      <td>Пермь</td>\n",
       "      <td>smart</td>\n",
       "      <td>12.0</td>\n",
       "      <td>13055.58</td>\n",
       "      <td>69.0</td>\n",
       "      <td>492.0</td>\n",
       "      <td>66.0</td>\n",
       "      <td>50</td>\n",
       "      <td>15360</td>\n",
       "      <td>500</td>\n",
       "      <td>550</td>\n",
       "      <td>200</td>\n",
       "      <td>3</td>\n",
       "      <td>3</td>\n",
       "      <td>598.0</td>\n",
       "    </tr>\n",
       "  </tbody>\n",
       "</table>\n",
       "<p>3214 rows × 17 columns</p>\n",
       "</div>"
      ],
      "text/plain": [
       "      user_id  age         city tariff  month   traffic  calls_count  \\\n",
       "0        1000   52    Краснодар  ultra    5.0   2253.49         22.0   \n",
       "1        1000   52    Краснодар  ultra    6.0  23233.77         43.0   \n",
       "2        1000   52    Краснодар  ultra    7.0  14003.64         47.0   \n",
       "3        1000   52    Краснодар  ultra    8.0  14055.93         52.0   \n",
       "4        1000   52    Краснодар  ultra    9.0  14568.91         58.0   \n",
       "...       ...  ...          ...    ...    ...       ...          ...   \n",
       "3211     1498   68  Владикавказ  smart   10.0  20579.36         41.0   \n",
       "3212     1499   35        Пермь  smart    9.0   1845.75          9.0   \n",
       "3213     1499   35        Пермь  smart   10.0  17788.51         68.0   \n",
       "3214     1499   35        Пермь  smart   11.0  17963.31         74.0   \n",
       "3215     1499   35        Пермь  smart   12.0  13055.58         69.0   \n",
       "\n",
       "      calls_duration  messages_count  messages_included  \\\n",
       "0              159.0            22.0               1000   \n",
       "1              172.0            60.0               1000   \n",
       "2              340.0            75.0               1000   \n",
       "3              408.0            81.0               1000   \n",
       "4              466.0            57.0               1000   \n",
       "...              ...             ...                ...   \n",
       "3211           247.0            42.0                 50   \n",
       "3212            70.0            11.0                 50   \n",
       "3213           449.0            48.0                 50   \n",
       "3214           612.0            59.0                 50   \n",
       "3215           492.0            66.0                 50   \n",
       "\n",
       "      mb_per_month_included  minutes_included  rub_monthly_fee  rub_per_gb  \\\n",
       "0                     30720              3000             1950         150   \n",
       "1                     30720              3000             1950         150   \n",
       "2                     30720              3000             1950         150   \n",
       "3                     30720              3000             1950         150   \n",
       "4                     30720              3000             1950         150   \n",
       "...                     ...               ...              ...         ...   \n",
       "3211                  15360               500              550         200   \n",
       "3212                  15360               500              550         200   \n",
       "3213                  15360               500              550         200   \n",
       "3214                  15360               500              550         200   \n",
       "3215                  15360               500              550         200   \n",
       "\n",
       "      rub_per_message  rub_per_minute  total_bill  \n",
       "0                   1               1      1950.0  \n",
       "1                   1               1      1950.0  \n",
       "2                   1               1      1950.0  \n",
       "3                   1               1      1950.0  \n",
       "4                   1               1      1950.0  \n",
       "...               ...             ...         ...  \n",
       "3211                3               3      1750.0  \n",
       "3212                3               3       550.0  \n",
       "3213                3               3      1150.0  \n",
       "3214                3               3      1513.0  \n",
       "3215                3               3       598.0  \n",
       "\n",
       "[3214 rows x 17 columns]"
      ]
     },
     "execution_count": 39,
     "metadata": {},
     "output_type": "execute_result"
    }
   ],
   "source": [
    "# Применение функции ко всему датафрейму\n",
    "df['total_bill'] = df.apply(bill_month, axis=1)\n",
    "df"
   ]
  },
  {
   "cell_type": "markdown",
   "id": "8629730b",
   "metadata": {},
   "source": [
    "## Анализ данных"
   ]
  },
  {
   "cell_type": "markdown",
   "id": "f26cdf73",
   "metadata": {},
   "source": [
    "Анализ поведения клиентов оператора, исходя из выборки. Сколько минут разговора, сколько сообщений и какой объём интернет-трафика требуется пользователям каждого тарифа в месяц? "
   ]
  },
  {
   "cell_type": "code",
   "execution_count": 40,
   "id": "e217d87b",
   "metadata": {},
   "outputs": [
    {
     "data": {
      "text/html": [
       "<div>\n",
       "<style scoped>\n",
       "    .dataframe tbody tr th:only-of-type {\n",
       "        vertical-align: middle;\n",
       "    }\n",
       "\n",
       "    .dataframe tbody tr th {\n",
       "        vertical-align: top;\n",
       "    }\n",
       "\n",
       "    .dataframe thead th {\n",
       "        text-align: right;\n",
       "    }\n",
       "</style>\n",
       "<table border=\"1\" class=\"dataframe\">\n",
       "  <thead>\n",
       "    <tr style=\"text-align: right;\">\n",
       "      <th></th>\n",
       "      <th>month</th>\n",
       "      <th>calls_duration</th>\n",
       "      <th>messages_count</th>\n",
       "      <th>total_bill</th>\n",
       "      <th>traffic</th>\n",
       "    </tr>\n",
       "    <tr>\n",
       "      <th>tariff</th>\n",
       "      <th></th>\n",
       "      <th></th>\n",
       "      <th></th>\n",
       "      <th></th>\n",
       "      <th></th>\n",
       "    </tr>\n",
       "  </thead>\n",
       "  <tbody>\n",
       "    <tr>\n",
       "      <th>smart</th>\n",
       "      <td>1.0</td>\n",
       "      <td>6931.0</td>\n",
       "      <td>620.0</td>\n",
       "      <td>24525.0</td>\n",
       "      <td>289466.40</td>\n",
       "    </tr>\n",
       "    <tr>\n",
       "      <th>smart</th>\n",
       "      <td>2.0</td>\n",
       "      <td>17324.0</td>\n",
       "      <td>1397.0</td>\n",
       "      <td>48001.0</td>\n",
       "      <td>672629.15</td>\n",
       "    </tr>\n",
       "    <tr>\n",
       "      <th>smart</th>\n",
       "      <td>3.0</td>\n",
       "      <td>30034.0</td>\n",
       "      <td>2453.0</td>\n",
       "      <td>89676.0</td>\n",
       "      <td>1163020.25</td>\n",
       "    </tr>\n",
       "    <tr>\n",
       "      <th>smart</th>\n",
       "      <td>4.0</td>\n",
       "      <td>41119.0</td>\n",
       "      <td>3443.0</td>\n",
       "      <td>107866.0</td>\n",
       "      <td>1507764.23</td>\n",
       "    </tr>\n",
       "    <tr>\n",
       "      <th>smart</th>\n",
       "      <td>5.0</td>\n",
       "      <td>54618.0</td>\n",
       "      <td>4762.0</td>\n",
       "      <td>168849.0</td>\n",
       "      <td>2228530.99</td>\n",
       "    </tr>\n",
       "    <tr>\n",
       "      <th>smart</th>\n",
       "      <td>6.0</td>\n",
       "      <td>64885.0</td>\n",
       "      <td>5478.0</td>\n",
       "      <td>197459.0</td>\n",
       "      <td>2590322.27</td>\n",
       "    </tr>\n",
       "    <tr>\n",
       "      <th>smart</th>\n",
       "      <td>7.0</td>\n",
       "      <td>82079.0</td>\n",
       "      <td>6784.0</td>\n",
       "      <td>246014.0</td>\n",
       "      <td>3164373.22</td>\n",
       "    </tr>\n",
       "    <tr>\n",
       "      <th>smart</th>\n",
       "      <td>8.0</td>\n",
       "      <td>99045.0</td>\n",
       "      <td>7905.0</td>\n",
       "      <td>310340.0</td>\n",
       "      <td>3903519.22</td>\n",
       "    </tr>\n",
       "    <tr>\n",
       "      <th>smart</th>\n",
       "      <td>9.0</td>\n",
       "      <td>111439.0</td>\n",
       "      <td>8746.0</td>\n",
       "      <td>324986.0</td>\n",
       "      <td>4238930.49</td>\n",
       "    </tr>\n",
       "    <tr>\n",
       "      <th>smart</th>\n",
       "      <td>10.0</td>\n",
       "      <td>125284.0</td>\n",
       "      <td>9927.0</td>\n",
       "      <td>401267.0</td>\n",
       "      <td>4926594.13</td>\n",
       "    </tr>\n",
       "    <tr>\n",
       "      <th>smart</th>\n",
       "      <td>11.0</td>\n",
       "      <td>137544.0</td>\n",
       "      <td>10768.0</td>\n",
       "      <td>424403.0</td>\n",
       "      <td>5339040.14</td>\n",
       "    </tr>\n",
       "    <tr>\n",
       "      <th>smart</th>\n",
       "      <td>12.0</td>\n",
       "      <td>161275.0</td>\n",
       "      <td>12130.0</td>\n",
       "      <td>531965.0</td>\n",
       "      <td>6104304.11</td>\n",
       "    </tr>\n",
       "    <tr>\n",
       "      <th>ultra</th>\n",
       "      <td>1.0</td>\n",
       "      <td>3853.0</td>\n",
       "      <td>304.0</td>\n",
       "      <td>17550.0</td>\n",
       "      <td>118266.13</td>\n",
       "    </tr>\n",
       "    <tr>\n",
       "      <th>ultra</th>\n",
       "      <td>2.0</td>\n",
       "      <td>7131.0</td>\n",
       "      <td>527.0</td>\n",
       "      <td>47400.0</td>\n",
       "      <td>282622.50</td>\n",
       "    </tr>\n",
       "    <tr>\n",
       "      <th>ultra</th>\n",
       "      <td>3.0</td>\n",
       "      <td>18117.0</td>\n",
       "      <td>1195.0</td>\n",
       "      <td>74550.0</td>\n",
       "      <td>648815.36</td>\n",
       "    </tr>\n",
       "    <tr>\n",
       "      <th>ultra</th>\n",
       "      <td>4.0</td>\n",
       "      <td>25191.0</td>\n",
       "      <td>1736.0</td>\n",
       "      <td>110100.0</td>\n",
       "      <td>925547.39</td>\n",
       "    </tr>\n",
       "    <tr>\n",
       "      <th>ultra</th>\n",
       "      <td>5.0</td>\n",
       "      <td>34192.0</td>\n",
       "      <td>2536.0</td>\n",
       "      <td>138000.0</td>\n",
       "      <td>1297331.25</td>\n",
       "    </tr>\n",
       "    <tr>\n",
       "      <th>ultra</th>\n",
       "      <td>6.0</td>\n",
       "      <td>40295.0</td>\n",
       "      <td>3505.0</td>\n",
       "      <td>171300.0</td>\n",
       "      <td>1589694.90</td>\n",
       "    </tr>\n",
       "    <tr>\n",
       "      <th>ultra</th>\n",
       "      <td>7.0</td>\n",
       "      <td>49667.0</td>\n",
       "      <td>4536.0</td>\n",
       "      <td>192750.0</td>\n",
       "      <td>1865105.53</td>\n",
       "    </tr>\n",
       "    <tr>\n",
       "      <th>ultra</th>\n",
       "      <td>8.0</td>\n",
       "      <td>54653.0</td>\n",
       "      <td>5183.0</td>\n",
       "      <td>222900.0</td>\n",
       "      <td>2094637.85</td>\n",
       "    </tr>\n",
       "    <tr>\n",
       "      <th>ultra</th>\n",
       "      <td>9.0</td>\n",
       "      <td>62036.0</td>\n",
       "      <td>6013.0</td>\n",
       "      <td>232800.0</td>\n",
       "      <td>2208491.87</td>\n",
       "    </tr>\n",
       "    <tr>\n",
       "      <th>ultra</th>\n",
       "      <td>10.0</td>\n",
       "      <td>68644.0</td>\n",
       "      <td>7187.0</td>\n",
       "      <td>254100.0</td>\n",
       "      <td>2465576.49</td>\n",
       "    </tr>\n",
       "    <tr>\n",
       "      <th>ultra</th>\n",
       "      <td>11.0</td>\n",
       "      <td>72545.0</td>\n",
       "      <td>7476.0</td>\n",
       "      <td>280350.0</td>\n",
       "      <td>2651432.87</td>\n",
       "    </tr>\n",
       "    <tr>\n",
       "      <th>ultra</th>\n",
       "      <td>12.0</td>\n",
       "      <td>82400.0</td>\n",
       "      <td>8425.0</td>\n",
       "      <td>297300.0</td>\n",
       "      <td>3029250.99</td>\n",
       "    </tr>\n",
       "  </tbody>\n",
       "</table>\n",
       "</div>"
      ],
      "text/plain": [
       "        month  calls_duration  messages_count  total_bill     traffic\n",
       "tariff                                                               \n",
       "smart     1.0          6931.0           620.0     24525.0   289466.40\n",
       "smart     2.0         17324.0          1397.0     48001.0   672629.15\n",
       "smart     3.0         30034.0          2453.0     89676.0  1163020.25\n",
       "smart     4.0         41119.0          3443.0    107866.0  1507764.23\n",
       "smart     5.0         54618.0          4762.0    168849.0  2228530.99\n",
       "smart     6.0         64885.0          5478.0    197459.0  2590322.27\n",
       "smart     7.0         82079.0          6784.0    246014.0  3164373.22\n",
       "smart     8.0         99045.0          7905.0    310340.0  3903519.22\n",
       "smart     9.0        111439.0          8746.0    324986.0  4238930.49\n",
       "smart    10.0        125284.0          9927.0    401267.0  4926594.13\n",
       "smart    11.0        137544.0         10768.0    424403.0  5339040.14\n",
       "smart    12.0        161275.0         12130.0    531965.0  6104304.11\n",
       "ultra     1.0          3853.0           304.0     17550.0   118266.13\n",
       "ultra     2.0          7131.0           527.0     47400.0   282622.50\n",
       "ultra     3.0         18117.0          1195.0     74550.0   648815.36\n",
       "ultra     4.0         25191.0          1736.0    110100.0   925547.39\n",
       "ultra     5.0         34192.0          2536.0    138000.0  1297331.25\n",
       "ultra     6.0         40295.0          3505.0    171300.0  1589694.90\n",
       "ultra     7.0         49667.0          4536.0    192750.0  1865105.53\n",
       "ultra     8.0         54653.0          5183.0    222900.0  2094637.85\n",
       "ultra     9.0         62036.0          6013.0    232800.0  2208491.87\n",
       "ultra    10.0         68644.0          7187.0    254100.0  2465576.49\n",
       "ultra    11.0         72545.0          7476.0    280350.0  2651432.87\n",
       "ultra    12.0         82400.0          8425.0    297300.0  3029250.99"
      ]
     },
     "execution_count": 40,
     "metadata": {},
     "output_type": "execute_result"
    }
   ],
   "source": [
    "month_tariff = df.pivot_table(index=['tariff','month'], values=['calls_duration','messages_count','traffic','total_bill'],aggfunc='sum')\n",
    "month_tariff = month_tariff.reset_index(level='month')\n",
    "month_tariff"
   ]
  },
  {
   "cell_type": "markdown",
   "id": "c7a7c301",
   "metadata": {},
   "source": [
    "Сколько минут разговора требуется пользователям каждого тарифа в месяц?"
   ]
  },
  {
   "cell_type": "code",
   "execution_count": 41,
   "id": "6b75c7f4",
   "metadata": {
    "scrolled": false
   },
   "outputs": [
    {
     "data": {
      "text/html": [
       "<div>\n",
       "<style scoped>\n",
       "    .dataframe tbody tr th:only-of-type {\n",
       "        vertical-align: middle;\n",
       "    }\n",
       "\n",
       "    .dataframe tbody tr th {\n",
       "        vertical-align: top;\n",
       "    }\n",
       "\n",
       "    .dataframe thead tr th {\n",
       "        text-align: left;\n",
       "    }\n",
       "\n",
       "    .dataframe thead tr:last-of-type th {\n",
       "        text-align: right;\n",
       "    }\n",
       "</style>\n",
       "<table border=\"1\" class=\"dataframe\">\n",
       "  <thead>\n",
       "    <tr>\n",
       "      <th></th>\n",
       "      <th>median</th>\n",
       "      <th>mean</th>\n",
       "      <th>var</th>\n",
       "      <th>std</th>\n",
       "    </tr>\n",
       "    <tr>\n",
       "      <th></th>\n",
       "      <th>calls_duration</th>\n",
       "      <th>calls_duration</th>\n",
       "      <th>calls_duration</th>\n",
       "      <th>calls_duration</th>\n",
       "    </tr>\n",
       "    <tr>\n",
       "      <th>tariff</th>\n",
       "      <th></th>\n",
       "      <th></th>\n",
       "      <th></th>\n",
       "      <th></th>\n",
       "    </tr>\n",
       "  </thead>\n",
       "  <tbody>\n",
       "    <tr>\n",
       "      <th>smart</th>\n",
       "      <td>73482.0</td>\n",
       "      <td>77631.416667</td>\n",
       "      <td>2.491282e+09</td>\n",
       "      <td>49912.744923</td>\n",
       "    </tr>\n",
       "    <tr>\n",
       "      <th>ultra</th>\n",
       "      <td>44981.0</td>\n",
       "      <td>43227.000000</td>\n",
       "      <td>6.786517e+08</td>\n",
       "      <td>26050.944558</td>\n",
       "    </tr>\n",
       "  </tbody>\n",
       "</table>\n",
       "</div>"
      ],
      "text/plain": [
       "               median           mean            var            std\n",
       "       calls_duration calls_duration calls_duration calls_duration\n",
       "tariff                                                            \n",
       "smart         73482.0   77631.416667   2.491282e+09   49912.744923\n",
       "ultra         44981.0   43227.000000   6.786517e+08   26050.944558"
      ]
     },
     "execution_count": 41,
     "metadata": {},
     "output_type": "execute_result"
    },
    {
     "data": {
      "image/png": "[encoded data removed]",
      "text/plain": [
       "<Figure size 720x360 with 1 Axes>"
      ]
     },
     "metadata": {
      "needs_background": "light"
     },
     "output_type": "display_data"
    }
   ],
   "source": [
    "ax = month_tariff[month_tariff.index=='smart'].plot(x='month',y='calls_duration',kind = 'bar', figsize=(10,5), label='smart', alpha=0.5)\n",
    "month_tariff[month_tariff.index=='ultra'].plot(x='month',y='calls_duration',kind = 'bar', figsize=(10,5), label='ultra', alpha=0.5, ax=ax)\n",
    "plt.xlabel('месяц')\n",
    "plt.ylabel('количество минут')\n",
    "month_tariff.pivot_table(index = 'tariff', values = 'calls_duration', aggfunc = ['median','mean','var','std'])"
   ]
  },
  {
   "cell_type": "markdown",
   "id": "4a283b9b",
   "metadata": {},
   "source": [
    "На протяжении года наблюдается постепенный рост кол-ва минут разговоров клиентов независимо от тарифа. "
   ]
  },
  {
   "cell_type": "markdown",
   "id": "4899f6b3",
   "metadata": {},
   "source": [
    "Сколько сообщений требуется пользователям каждого тарифа в месяц?"
   ]
  },
  {
   "cell_type": "code",
   "execution_count": 42,
   "id": "7c3dc683",
   "metadata": {},
   "outputs": [
    {
     "data": {
      "text/html": [
       "<div>\n",
       "<style scoped>\n",
       "    .dataframe tbody tr th:only-of-type {\n",
       "        vertical-align: middle;\n",
       "    }\n",
       "\n",
       "    .dataframe tbody tr th {\n",
       "        vertical-align: top;\n",
       "    }\n",
       "\n",
       "    .dataframe thead tr th {\n",
       "        text-align: left;\n",
       "    }\n",
       "\n",
       "    .dataframe thead tr:last-of-type th {\n",
       "        text-align: right;\n",
       "    }\n",
       "</style>\n",
       "<table border=\"1\" class=\"dataframe\">\n",
       "  <thead>\n",
       "    <tr>\n",
       "      <th></th>\n",
       "      <th>median</th>\n",
       "      <th>mean</th>\n",
       "      <th>var</th>\n",
       "      <th>std</th>\n",
       "    </tr>\n",
       "    <tr>\n",
       "      <th></th>\n",
       "      <th>messages_count</th>\n",
       "      <th>messages_count</th>\n",
       "      <th>messages_count</th>\n",
       "      <th>messages_count</th>\n",
       "    </tr>\n",
       "    <tr>\n",
       "      <th>tariff</th>\n",
       "      <th></th>\n",
       "      <th></th>\n",
       "      <th></th>\n",
       "      <th></th>\n",
       "    </tr>\n",
       "  </thead>\n",
       "  <tbody>\n",
       "    <tr>\n",
       "      <th>smart</th>\n",
       "      <td>6131.0</td>\n",
       "      <td>6201.083333</td>\n",
       "      <td>1.437160e+07</td>\n",
       "      <td>3790.989687</td>\n",
       "    </tr>\n",
       "    <tr>\n",
       "      <th>ultra</th>\n",
       "      <td>4020.5</td>\n",
       "      <td>4051.916667</td>\n",
       "      <td>8.057361e+06</td>\n",
       "      <td>2838.549036</td>\n",
       "    </tr>\n",
       "  </tbody>\n",
       "</table>\n",
       "</div>"
      ],
      "text/plain": [
       "               median           mean            var            std\n",
       "       messages_count messages_count messages_count messages_count\n",
       "tariff                                                            \n",
       "smart          6131.0    6201.083333   1.437160e+07    3790.989687\n",
       "ultra          4020.5    4051.916667   8.057361e+06    2838.549036"
      ]
     },
     "execution_count": 42,
     "metadata": {},
     "output_type": "execute_result"
    },
    {
     "data": {
      "image/png": "[encoded data removed]",
      "text/plain": [
       "<Figure size 720x360 with 1 Axes>"
      ]
     },
     "metadata": {
      "needs_background": "light"
     },
     "output_type": "display_data"
    }
   ],
   "source": [
    "ax = month_tariff[month_tariff.index=='smart'].plot(x='month',y='messages_count',kind = 'bar', figsize=(10,5), label='smart', alpha=0.5)\n",
    "month_tariff[month_tariff.index=='ultra'].plot(x='month',y='messages_count',kind = 'bar', figsize=(10,5), label='ultra', alpha=0.5, ax=ax)\n",
    "plt.xlabel('месяц')\n",
    "plt.ylabel('количество смс')\n",
    "month_tariff.pivot_table(index = 'tariff', values = 'messages_count', aggfunc = ['median','mean','var','std'])"
   ]
  },
  {
   "cell_type": "markdown",
   "id": "6600bbcd",
   "metadata": {},
   "source": [
    "Аналогичная ситуация. Клиенты с тарифным планом Smart используют больше смс."
   ]
  },
  {
   "cell_type": "markdown",
   "id": "ee8dc307",
   "metadata": {},
   "source": [
    "Какой объём интернет-трафика требуется пользователям каждого тарифа в месяц?"
   ]
  },
  {
   "cell_type": "code",
   "execution_count": 43,
   "id": "6bf46a56",
   "metadata": {},
   "outputs": [
    {
     "data": {
      "text/html": [
       "<div>\n",
       "<style scoped>\n",
       "    .dataframe tbody tr th:only-of-type {\n",
       "        vertical-align: middle;\n",
       "    }\n",
       "\n",
       "    .dataframe tbody tr th {\n",
       "        vertical-align: top;\n",
       "    }\n",
       "\n",
       "    .dataframe thead tr th {\n",
       "        text-align: left;\n",
       "    }\n",
       "\n",
       "    .dataframe thead tr:last-of-type th {\n",
       "        text-align: right;\n",
       "    }\n",
       "</style>\n",
       "<table border=\"1\" class=\"dataframe\">\n",
       "  <thead>\n",
       "    <tr>\n",
       "      <th></th>\n",
       "      <th>median</th>\n",
       "      <th>mean</th>\n",
       "      <th>var</th>\n",
       "      <th>std</th>\n",
       "    </tr>\n",
       "    <tr>\n",
       "      <th></th>\n",
       "      <th>traffic</th>\n",
       "      <th>traffic</th>\n",
       "      <th>traffic</th>\n",
       "      <th>traffic</th>\n",
       "    </tr>\n",
       "    <tr>\n",
       "      <th>tariff</th>\n",
       "      <th></th>\n",
       "      <th></th>\n",
       "      <th></th>\n",
       "      <th></th>\n",
       "    </tr>\n",
       "  </thead>\n",
       "  <tbody>\n",
       "    <tr>\n",
       "      <th>smart</th>\n",
       "      <td>2877347.745</td>\n",
       "      <td>3.010708e+06</td>\n",
       "      <td>3.665857e+12</td>\n",
       "      <td>1.914643e+06</td>\n",
       "    </tr>\n",
       "    <tr>\n",
       "      <th>ultra</th>\n",
       "      <td>1727400.215</td>\n",
       "      <td>1.598064e+06</td>\n",
       "      <td>9.059117e+11</td>\n",
       "      <td>9.517939e+05</td>\n",
       "    </tr>\n",
       "  </tbody>\n",
       "</table>\n",
       "</div>"
      ],
      "text/plain": [
       "             median          mean           var           std\n",
       "            traffic       traffic       traffic       traffic\n",
       "tariff                                                       \n",
       "smart   2877347.745  3.010708e+06  3.665857e+12  1.914643e+06\n",
       "ultra   1727400.215  1.598064e+06  9.059117e+11  9.517939e+05"
      ]
     },
     "execution_count": 43,
     "metadata": {},
     "output_type": "execute_result"
    },
    {
     "data": {
      "image/png": "[encoded data removed]",
      "text/plain": [
       "<Figure size 720x360 with 1 Axes>"
      ]
     },
     "metadata": {
      "needs_background": "light"
     },
     "output_type": "display_data"
    }
   ],
   "source": [
    "ax = month_tariff[month_tariff.index=='smart'].plot(x='month',y='traffic',kind = 'bar', figsize=(10,5), label='smart', alpha=0.5)\n",
    "month_tariff[month_tariff.index=='ultra'].plot(x='month',y='traffic',kind = 'bar', figsize=(10,5), label='ultra', alpha=0.5, ax=ax)\n",
    "plt.xlabel('месяц')\n",
    "plt.ylabel('объем интернет трафика')\n",
    "month_tariff.pivot_table(index = 'tariff', values = 'traffic', aggfunc = ['median','mean','var','std'])"
   ]
  },
  {
   "cell_type": "code",
   "execution_count": 44,
   "id": "36063f3d",
   "metadata": {},
   "outputs": [
    {
     "data": {
      "text/html": [
       "<div>\n",
       "<style scoped>\n",
       "    .dataframe tbody tr th:only-of-type {\n",
       "        vertical-align: middle;\n",
       "    }\n",
       "\n",
       "    .dataframe tbody tr th {\n",
       "        vertical-align: top;\n",
       "    }\n",
       "\n",
       "    .dataframe thead tr th {\n",
       "        text-align: left;\n",
       "    }\n",
       "\n",
       "    .dataframe thead tr:last-of-type th {\n",
       "        text-align: right;\n",
       "    }\n",
       "</style>\n",
       "<table border=\"1\" class=\"dataframe\">\n",
       "  <thead>\n",
       "    <tr>\n",
       "      <th></th>\n",
       "      <th>median</th>\n",
       "      <th>mean</th>\n",
       "      <th>var</th>\n",
       "      <th>std</th>\n",
       "    </tr>\n",
       "    <tr>\n",
       "      <th></th>\n",
       "      <th>total_bill</th>\n",
       "      <th>total_bill</th>\n",
       "      <th>total_bill</th>\n",
       "      <th>total_bill</th>\n",
       "    </tr>\n",
       "    <tr>\n",
       "      <th>tariff</th>\n",
       "      <th></th>\n",
       "      <th></th>\n",
       "      <th></th>\n",
       "      <th></th>\n",
       "    </tr>\n",
       "  </thead>\n",
       "  <tbody>\n",
       "    <tr>\n",
       "      <th>smart</th>\n",
       "      <td>221736.5</td>\n",
       "      <td>239612.583333</td>\n",
       "      <td>2.615289e+10</td>\n",
       "      <td>161718.545587</td>\n",
       "    </tr>\n",
       "    <tr>\n",
       "      <th>ultra</th>\n",
       "      <td>182025.0</td>\n",
       "      <td>169925.000000</td>\n",
       "      <td>8.610103e+09</td>\n",
       "      <td>92790.640447</td>\n",
       "    </tr>\n",
       "  </tbody>\n",
       "</table>\n",
       "</div>"
      ],
      "text/plain": [
       "           median           mean           var            std\n",
       "       total_bill     total_bill    total_bill     total_bill\n",
       "tariff                                                       \n",
       "smart    221736.5  239612.583333  2.615289e+10  161718.545587\n",
       "ultra    182025.0  169925.000000  8.610103e+09   92790.640447"
      ]
     },
     "execution_count": 44,
     "metadata": {},
     "output_type": "execute_result"
    },
    {
     "data": {
      "image/png": "[encoded data removed]",
      "text/plain": [
       "<Figure size 720x360 with 1 Axes>"
      ]
     },
     "metadata": {
      "needs_background": "light"
     },
     "output_type": "display_data"
    }
   ],
   "source": [
    "ax = month_tariff[month_tariff.index=='smart'].plot(x='month',y='total_bill',kind = 'bar', figsize=(10,5), label='smart', alpha=0.5)\n",
    "month_tariff[month_tariff.index=='ultra'].plot(x='month',y='total_bill',kind = 'bar', figsize=(10,5), label='ultra', alpha=0.5, ax=ax)\n",
    "plt.xlabel('месяц')\n",
    "plt.ylabel('количество минут')\n",
    "month_tariff.pivot_table(index = 'tariff', values = 'total_bill', aggfunc = ['median','mean','var','std'])"
   ]
  },
  {
   "cell_type": "markdown",
   "id": "24b01679",
   "metadata": {},
   "source": [
    "Аналогичная ситуация и с интернет трафиком. "
   ]
  },
  {
   "cell_type": "markdown",
   "id": "f26ff6f0",
   "metadata": {},
   "source": [
    "Проверка повышения кол-ва использования услуг к концу года. С чем связано? С кол-вом пользователей или с их возрастающей активностью?"
   ]
  },
  {
   "cell_type": "code",
   "execution_count": 45,
   "id": "f2b2ef22",
   "metadata": {},
   "outputs": [
    {
     "data": {
      "text/plain": [
       "<AxesSubplot:xlabel='month'>"
      ]
     },
     "execution_count": 45,
     "metadata": {},
     "output_type": "execute_result"
    },
    {
     "data": {
      "image/png": "[encoded data removed]",
      "text/plain": [
       "<Figure size 720x360 with 1 Axes>"
      ]
     },
     "metadata": {
      "needs_background": "light"
     },
     "output_type": "display_data"
    }
   ],
   "source": [
    "users_per_month = df.pivot_table(index='month', values='user_id', aggfunc='count')\n",
    "users_per_month = users_per_month.reset_index(level='month')\n",
    "users_per_month.plot(x='month',y='user_id',kind = 'bar', figsize=(10,5))"
   ]
  },
  {
   "cell_type": "markdown",
   "id": "251619a7",
   "metadata": {},
   "source": [
    "По графику видно, что число клиентов ежемесячно растет. С этим и связан рост потребления услуг по тарифам. "
   ]
  },
  {
   "cell_type": "code",
   "execution_count": 46,
   "id": "0616d8b7",
   "metadata": {
    "scrolled": false
   },
   "outputs": [
    {
     "data": {
      "image/png": "[encoded data removed]",
      "text/plain": [
       "<Figure size 720x360 with 1 Axes>"
      ]
     },
     "metadata": {
      "needs_background": "light"
     },
     "output_type": "display_data"
    },
    {
     "data": {
      "image/png": "[encoded data removed]",
      "text/plain": [
       "<Figure size 720x360 with 1 Axes>"
      ]
     },
     "metadata": {
      "needs_background": "light"
     },
     "output_type": "display_data"
    },
    {
     "data": {
      "image/png": "[encoded data removed]",
      "text/plain": [
       "<Figure size 720x360 with 1 Axes>"
      ]
     },
     "metadata": {
      "needs_background": "light"
     },
     "output_type": "display_data"
    },
    {
     "data": {
      "image/png": "[encoded data removed]",
      "text/plain": [
       "<Figure size 720x360 with 1 Axes>"
      ]
     },
     "metadata": {
      "needs_background": "light"
     },
     "output_type": "display_data"
    }
   ],
   "source": [
    "list_of_columns=['calls_duration','messages_count','traffic', 'total_bill']\n",
    "tariff = ['ultra','smart']\n",
    "for column in list_of_columns:\n",
    "        df.loc[df.loc[:,'tariff'] == 'smart'][column].plot(\n",
    "                                                                            kind = 'hist',\n",
    "                                                                            bins = 30,\n",
    "                                                                            label = 'smart', figsize = (10,5)\n",
    "                                                                           )\n",
    "        df.loc[df.loc[:,'tariff'] == 'ultra'][column].plot(\n",
    "                                                                            kind = 'hist',\n",
    "                                                                            bins = 30,\n",
    "                                                                            alpha = 0.7,\n",
    "                                                                            label = 'ultra',figsize = (10,5)\n",
    "                                                                           )\n",
    "        plt.title(column)\n",
    "        plt.legend()\n",
    "        plt.show()"
   ]
  },
  {
   "cell_type": "markdown",
   "id": "db72796f",
   "metadata": {},
   "source": [
    "Изучив графики, можно сделать вывод:\n",
    "Что касается длительности звонков, то клиенты с тарифным планом \"Ультра\" в большинстве не выговаривают минуты по тарифному плану. А пользователи тарифного плана \"Смарт\" зачастую выываливаются за рамки тарифа.\n",
    "Что касается колличества сообщений, то есть маленькая доля пользователей тарифа \"Смарт\", которым нужны дополнительные смс вне тарифа. Что же касается пользователей тарифа \"Ультра\", то они используют не больше 200 смс. \n",
    "Что касается интернет трафика, то в среднем пользователям нужно от 38 до 43 Гб. в месяц. Пользователи обоих тарифов прибегают к дополнительным Гб, но в большей степени это пользователи тарифа \"Смарт\" - большинству нужно около 43 ГБ, что в 2,5 раза больше тарифного плана. \n",
    "На основании вышеизложенного, можно с уверенностью сказать, что пользователи тарифного плана \"Ультра\" укладываются в тарифный план, очень редко переплачивают, и в основном за интернет трафик. А пользователи тарифного плана \"Смарт\" переплачивают и за мобильный интерент, и за звонки и реже за смс. "
   ]
  },
  {
   "cell_type": "code",
   "execution_count": 47,
   "id": "6fa0b448",
   "metadata": {
    "scrolled": true
   },
   "outputs": [
    {
     "data": {
      "text/plain": [
       "count     985.000000\n",
       "mean     2070.152284\n",
       "std       376.187114\n",
       "min      1950.000000\n",
       "25%      1950.000000\n",
       "50%      1950.000000\n",
       "75%      1950.000000\n",
       "max      4800.000000\n",
       "Name: total_bill, dtype: float64"
      ]
     },
     "execution_count": 47,
     "metadata": {},
     "output_type": "execute_result"
    }
   ],
   "source": [
    "df.query('tariff == \"ultra\"')['total_bill'].describe()"
   ]
  },
  {
   "cell_type": "code",
   "execution_count": 48,
   "id": "8a7cdbaf",
   "metadata": {},
   "outputs": [
    {
     "data": {
      "text/plain": [
       "count    2229.000000\n",
       "mean     1289.973531\n",
       "std       818.404367\n",
       "min       550.000000\n",
       "25%       550.000000\n",
       "50%      1023.000000\n",
       "75%      1750.000000\n",
       "max      6770.000000\n",
       "Name: total_bill, dtype: float64"
      ]
     },
     "execution_count": 48,
     "metadata": {},
     "output_type": "execute_result"
    }
   ],
   "source": [
    "df.query('tariff == \"smart\"')['total_bill'].describe()"
   ]
  },
  {
   "cell_type": "code",
   "execution_count": 49,
   "id": "ea625f7f",
   "metadata": {},
   "outputs": [
    {
     "data": {
      "text/html": [
       "<div>\n",
       "<style scoped>\n",
       "    .dataframe tbody tr th:only-of-type {\n",
       "        vertical-align: middle;\n",
       "    }\n",
       "\n",
       "    .dataframe tbody tr th {\n",
       "        vertical-align: top;\n",
       "    }\n",
       "\n",
       "    .dataframe thead tr th {\n",
       "        text-align: left;\n",
       "    }\n",
       "\n",
       "    .dataframe thead tr:last-of-type th {\n",
       "        text-align: right;\n",
       "    }\n",
       "</style>\n",
       "<table border=\"1\" class=\"dataframe\">\n",
       "  <thead>\n",
       "    <tr>\n",
       "      <th></th>\n",
       "      <th colspan=\"4\" halign=\"left\">median</th>\n",
       "      <th colspan=\"4\" halign=\"left\">mean</th>\n",
       "      <th colspan=\"4\" halign=\"left\">var</th>\n",
       "      <th colspan=\"4\" halign=\"left\">std</th>\n",
       "    </tr>\n",
       "    <tr>\n",
       "      <th></th>\n",
       "      <th>calls_duration</th>\n",
       "      <th>messages_count</th>\n",
       "      <th>total_bill</th>\n",
       "      <th>traffic</th>\n",
       "      <th>calls_duration</th>\n",
       "      <th>messages_count</th>\n",
       "      <th>total_bill</th>\n",
       "      <th>traffic</th>\n",
       "      <th>calls_duration</th>\n",
       "      <th>messages_count</th>\n",
       "      <th>total_bill</th>\n",
       "      <th>traffic</th>\n",
       "      <th>calls_duration</th>\n",
       "      <th>messages_count</th>\n",
       "      <th>total_bill</th>\n",
       "      <th>traffic</th>\n",
       "    </tr>\n",
       "    <tr>\n",
       "      <th>tariff</th>\n",
       "      <th></th>\n",
       "      <th></th>\n",
       "      <th></th>\n",
       "      <th></th>\n",
       "      <th></th>\n",
       "      <th></th>\n",
       "      <th></th>\n",
       "      <th></th>\n",
       "      <th></th>\n",
       "      <th></th>\n",
       "      <th></th>\n",
       "      <th></th>\n",
       "      <th></th>\n",
       "      <th></th>\n",
       "      <th></th>\n",
       "      <th></th>\n",
       "    </tr>\n",
       "  </thead>\n",
       "  <tbody>\n",
       "    <tr>\n",
       "      <th>smart</th>\n",
       "      <td>422.0</td>\n",
       "      <td>28.0</td>\n",
       "      <td>1023.0</td>\n",
       "      <td>16506.84</td>\n",
       "      <td>417.934948</td>\n",
       "      <td>33.384029</td>\n",
       "      <td>1289.973531</td>\n",
       "      <td>16208.386990</td>\n",
       "      <td>36219.315784</td>\n",
       "      <td>796.812958</td>\n",
       "      <td>669785.708006</td>\n",
       "      <td>3.446250e+07</td>\n",
       "      <td>190.313730</td>\n",
       "      <td>28.227876</td>\n",
       "      <td>818.404367</td>\n",
       "      <td>5870.476681</td>\n",
       "    </tr>\n",
       "    <tr>\n",
       "      <th>ultra</th>\n",
       "      <td>518.0</td>\n",
       "      <td>38.0</td>\n",
       "      <td>1950.0</td>\n",
       "      <td>19308.01</td>\n",
       "      <td>526.623350</td>\n",
       "      <td>49.363452</td>\n",
       "      <td>2070.152284</td>\n",
       "      <td>19468.805208</td>\n",
       "      <td>100873.633397</td>\n",
       "      <td>2285.266143</td>\n",
       "      <td>141516.745079</td>\n",
       "      <td>1.017510e+08</td>\n",
       "      <td>317.606098</td>\n",
       "      <td>47.804457</td>\n",
       "      <td>376.187114</td>\n",
       "      <td>10087.170752</td>\n",
       "    </tr>\n",
       "  </tbody>\n",
       "</table>\n",
       "</div>"
      ],
      "text/plain": [
       "               median                                               mean  \\\n",
       "       calls_duration messages_count total_bill   traffic calls_duration   \n",
       "tariff                                                                     \n",
       "smart           422.0           28.0     1023.0  16506.84     417.934948   \n",
       "ultra           518.0           38.0     1950.0  19308.01     526.623350   \n",
       "\n",
       "                                                            var  \\\n",
       "       messages_count   total_bill       traffic calls_duration   \n",
       "tariff                                                            \n",
       "smart       33.384029  1289.973531  16208.386990   36219.315784   \n",
       "ultra       49.363452  2070.152284  19468.805208  100873.633397   \n",
       "\n",
       "                                                              std  \\\n",
       "       messages_count     total_bill       traffic calls_duration   \n",
       "tariff                                                              \n",
       "smart      796.812958  669785.708006  3.446250e+07     190.313730   \n",
       "ultra     2285.266143  141516.745079  1.017510e+08     317.606098   \n",
       "\n",
       "                                                 \n",
       "       messages_count  total_bill       traffic  \n",
       "tariff                                           \n",
       "smart       28.227876  818.404367   5870.476681  \n",
       "ultra       47.804457  376.187114  10087.170752  "
      ]
     },
     "execution_count": 49,
     "metadata": {},
     "output_type": "execute_result"
    }
   ],
   "source": [
    "df.pivot_table(index = 'tariff', values = ['calls_duration',\n",
    "                                                        'messages_count',\n",
    "                                                        'traffic','total_bill'], aggfunc = ['median',\n",
    "                                                                                     'mean',\n",
    "                                                                                     'var',\n",
    "                                                                                     'std'])"
   ]
  },
  {
   "cell_type": "markdown",
   "id": "deac6c31",
   "metadata": {},
   "source": [
    "# Проверка гипотез"
   ]
  },
  {
   "cell_type": "markdown",
   "id": "989a1904",
   "metadata": {},
   "source": [
    "Первая гипотеза для проверки:\n",
    "    \"Средняя выручка пользователей тарифов «Ультра» и «Смарт» различаются.\"\n",
    "\n",
    "Нулевая гипотеза:\n",
    "Средняя выручка поьзователей тарифов «Ультра» и «Смарт» одинаковы.\n",
    "\n",
    "Альтернативная гипотеза:\n",
    "Средняя выручка пользователей тарифов «Ультра» и «Смарт» различаются."
   ]
  },
  {
   "cell_type": "code",
   "execution_count": 50,
   "id": "a21ea8eb",
   "metadata": {},
   "outputs": [
    {
     "name": "stdout",
     "output_type": "stream",
     "text": [
      "p-значение: 4.2606313931076085e-250\n",
      "Отвергаем нулевую гипотезу\n"
     ]
    }
   ],
   "source": [
    "# проверка гипотезы \n",
    "smart = df[df['tariff']=='smart']['total_bill']\n",
    "ultra = df[df['tariff']=='ultra']['total_bill']\n",
    "\n",
    "\n",
    "alpha = 0.05\n",
    "\n",
    "results = st.ttest_ind(smart, ultra, equal_var=False)\n",
    "\n",
    "print('p-значение:', results.pvalue)\n",
    "\n",
    "if (results.pvalue < alpha):\n",
    "    print(\"Отвергаем нулевую гипотезу\")\n",
    "else:\n",
    "    print(\"Не получилось отвергнуть нулевую гипотезу\")"
   ]
  },
  {
   "cell_type": "markdown",
   "id": "a3d82d10",
   "metadata": {},
   "source": [
    "p-значение меньше 5%, соответственно средняя выручка пользователей smart и ultra различаются. "
   ]
  },
  {
   "cell_type": "markdown",
   "id": "8a1061f4",
   "metadata": {},
   "source": [
    "Вторая гипотеза для проверки: \"Средняя выручка пользователей из Москвы отличается от выручки пользователей из других регионов.\"\n",
    "\n",
    "Нулевая гипотеза:\n",
    "Средняя выручка пользователей из Москвы такая же как и выручка пользователей из других регионов. \n",
    "\n",
    "Альтернативная гипотеза:\n",
    "Средняя выручка пользователей из Москвы отличается от выручки пользователей из других регионов."
   ]
  },
  {
   "cell_type": "code",
   "execution_count": 51,
   "id": "881b9858",
   "metadata": {},
   "outputs": [
    {
     "name": "stdout",
     "output_type": "stream",
     "text": [
      "p-значение:  0.4744239730695693\n",
      "Не получилось отвергнуть нулевую гипотезу\n"
     ]
    }
   ],
   "source": [
    "# проверка гипотезы\n",
    "moscow = df[df['city']=='Москва']['total_bill']\n",
    "regions = df[df['city']!='Москва']['total_bill'].mean()\n",
    "\n",
    "alpha = 0.05\n",
    "\n",
    "results = st.ttest_1samp(moscow,regions)\n",
    "\n",
    "print('p-значение: ', results.pvalue)\n",
    "\n",
    "if results.pvalue < alpha:\n",
    "    print(\"Отвергаем нулевую гипотезу\")\n",
    "else:\n",
    "    print(\"Не получилось отвергнуть нулевую гипотезу\")"
   ]
  },
  {
   "cell_type": "markdown",
   "id": "0516d410",
   "metadata": {},
   "source": [
    "p-значение гораздо больше 5%, значит средняя выручка пользователей из Москвы такая же как и выручка пользователей из других регионов."
   ]
  },
  {
   "cell_type": "markdown",
   "id": "578da6bf",
   "metadata": {},
   "source": [
    "# Общий вывод\n",
    "\n",
    "Было проведено исследование тарифных планов смарт и ультра. \n",
    "Средние чеки данных планов различаются. Пользователи тарифного плана смарт платят меньше. Что качается средней выручки, то она не отличается в зависимости от региона. Клиенты к концу года увеливают потребление услуг тарифных планов. Для компании более выгодный тариф ультра.\n"
   ]
  }
 ],
 "metadata": {
  "ExecuteTimeLog": [
   {
    "duration": 39,
    "start_time": "2022-05-18T14:46:30.474Z"
   },
   {
    "duration": 4,
    "start_time": "2022-05-18T14:46:57.962Z"
   },
   {
    "duration": 33,
    "start_time": "2022-05-18T14:47:09.422Z"
   },
   {
    "duration": 34,
    "start_time": "2022-05-18T14:47:33.345Z"
   },
   {
    "duration": 36,
    "start_time": "2022-05-18T14:50:10.846Z"
   },
   {
    "duration": 37,
    "start_time": "2022-05-18T14:50:53.790Z"
   },
   {
    "duration": 33,
    "start_time": "2022-05-18T14:51:57.234Z"
   },
   {
    "duration": 40,
    "start_time": "2022-05-18T14:52:14.168Z"
   },
   {
    "duration": 31,
    "start_time": "2022-05-18T14:54:26.034Z"
   },
   {
    "duration": 39,
    "start_time": "2022-05-18T14:54:29.918Z"
   },
   {
    "duration": 6,
    "start_time": "2022-05-18T14:54:33.722Z"
   },
   {
    "duration": 440,
    "start_time": "2022-05-18T14:54:33.730Z"
   },
   {
    "duration": 9,
    "start_time": "2022-05-18T14:54:34.172Z"
   },
   {
    "duration": 39,
    "start_time": "2022-05-18T14:54:34.182Z"
   },
   {
    "duration": 15,
    "start_time": "2022-05-18T14:54:34.224Z"
   },
   {
    "duration": 9,
    "start_time": "2022-05-18T14:54:34.240Z"
   },
   {
    "duration": 5,
    "start_time": "2022-05-18T14:54:34.250Z"
   },
   {
    "duration": 10,
    "start_time": "2022-05-18T14:54:34.257Z"
   },
   {
    "duration": 25,
    "start_time": "2022-05-18T14:54:34.268Z"
   },
   {
    "duration": 34,
    "start_time": "2022-05-18T14:54:34.297Z"
   },
   {
    "duration": 31,
    "start_time": "2022-05-18T14:54:34.332Z"
   },
   {
    "duration": 21,
    "start_time": "2022-05-18T14:54:34.365Z"
   },
   {
    "duration": 35,
    "start_time": "2022-05-18T14:54:34.398Z"
   },
   {
    "duration": 6,
    "start_time": "2022-05-18T14:54:34.436Z"
   },
   {
    "duration": 20,
    "start_time": "2022-05-18T14:54:34.443Z"
   },
   {
    "duration": 40,
    "start_time": "2022-05-18T14:54:34.465Z"
   },
   {
    "duration": 24,
    "start_time": "2022-05-18T14:54:34.509Z"
   },
   {
    "duration": 14,
    "start_time": "2022-05-18T14:54:34.535Z"
   },
   {
    "duration": 29,
    "start_time": "2022-05-18T14:54:34.551Z"
   },
   {
    "duration": 30,
    "start_time": "2022-05-18T14:54:34.582Z"
   },
   {
    "duration": 27,
    "start_time": "2022-05-18T14:54:34.620Z"
   },
   {
    "duration": 26,
    "start_time": "2022-05-18T14:54:34.649Z"
   },
   {
    "duration": 9,
    "start_time": "2022-05-18T14:54:34.677Z"
   },
   {
    "duration": 41,
    "start_time": "2022-05-18T14:54:34.688Z"
   },
   {
    "duration": 21,
    "start_time": "2022-05-18T14:54:34.731Z"
   },
   {
    "duration": 27,
    "start_time": "2022-05-18T14:54:34.753Z"
   },
   {
    "duration": 52,
    "start_time": "2022-05-18T14:54:34.782Z"
   },
   {
    "duration": 16,
    "start_time": "2022-05-18T14:54:34.836Z"
   },
   {
    "duration": 8,
    "start_time": "2022-05-18T14:54:34.853Z"
   },
   {
    "duration": 7,
    "start_time": "2022-05-18T14:54:34.862Z"
   },
   {
    "duration": 86,
    "start_time": "2022-05-18T14:54:34.871Z"
   },
   {
    "duration": 0,
    "start_time": "2022-05-18T14:54:34.958Z"
   },
   {
    "duration": 0,
    "start_time": "2022-05-18T14:54:34.960Z"
   },
   {
    "duration": 0,
    "start_time": "2022-05-18T14:54:34.961Z"
   },
   {
    "duration": 0,
    "start_time": "2022-05-18T14:54:34.962Z"
   },
   {
    "duration": 0,
    "start_time": "2022-05-18T14:54:34.963Z"
   },
   {
    "duration": 0,
    "start_time": "2022-05-18T14:54:34.963Z"
   },
   {
    "duration": 0,
    "start_time": "2022-05-18T14:54:34.964Z"
   },
   {
    "duration": 0,
    "start_time": "2022-05-18T14:54:34.965Z"
   },
   {
    "duration": 0,
    "start_time": "2022-05-18T14:54:34.967Z"
   },
   {
    "duration": 0,
    "start_time": "2022-05-18T14:54:34.968Z"
   },
   {
    "duration": 0,
    "start_time": "2022-05-18T14:54:34.968Z"
   },
   {
    "duration": 0,
    "start_time": "2022-05-18T14:54:34.969Z"
   },
   {
    "duration": 0,
    "start_time": "2022-05-18T14:54:34.970Z"
   },
   {
    "duration": 0,
    "start_time": "2022-05-18T14:54:34.971Z"
   },
   {
    "duration": 0,
    "start_time": "2022-05-18T14:54:34.972Z"
   },
   {
    "duration": 0,
    "start_time": "2022-05-18T14:54:34.973Z"
   },
   {
    "duration": 0,
    "start_time": "2022-05-18T14:54:34.974Z"
   },
   {
    "duration": 0,
    "start_time": "2022-05-18T14:54:34.975Z"
   },
   {
    "duration": 24,
    "start_time": "2022-05-18T14:54:57.768Z"
   },
   {
    "duration": 31,
    "start_time": "2022-05-18T14:54:59.321Z"
   },
   {
    "duration": 30,
    "start_time": "2022-05-18T14:55:19.347Z"
   },
   {
    "duration": 30,
    "start_time": "2022-05-18T14:55:41.031Z"
   },
   {
    "duration": 3,
    "start_time": "2022-05-18T14:56:01.048Z"
   },
   {
    "duration": 499,
    "start_time": "2022-05-18T14:56:01.056Z"
   },
   {
    "duration": 9,
    "start_time": "2022-05-18T14:56:01.557Z"
   },
   {
    "duration": 37,
    "start_time": "2022-05-18T14:56:01.568Z"
   },
   {
    "duration": 40,
    "start_time": "2022-05-18T14:56:01.608Z"
   },
   {
    "duration": 26,
    "start_time": "2022-05-18T14:56:01.649Z"
   },
   {
    "duration": 55,
    "start_time": "2022-05-18T14:56:01.676Z"
   },
   {
    "duration": 30,
    "start_time": "2022-05-18T14:56:01.732Z"
   },
   {
    "duration": 51,
    "start_time": "2022-05-18T14:56:01.763Z"
   },
   {
    "duration": 42,
    "start_time": "2022-05-18T14:56:01.820Z"
   },
   {
    "duration": 34,
    "start_time": "2022-05-18T14:56:01.865Z"
   },
   {
    "duration": 59,
    "start_time": "2022-05-18T14:56:01.908Z"
   },
   {
    "duration": 48,
    "start_time": "2022-05-18T14:56:01.969Z"
   },
   {
    "duration": 30,
    "start_time": "2022-05-18T14:56:02.019Z"
   },
   {
    "duration": 64,
    "start_time": "2022-05-18T14:56:02.051Z"
   },
   {
    "duration": 51,
    "start_time": "2022-05-18T14:56:02.117Z"
   },
   {
    "duration": 43,
    "start_time": "2022-05-18T14:56:02.170Z"
   },
   {
    "duration": 36,
    "start_time": "2022-05-18T14:56:02.216Z"
   },
   {
    "duration": 48,
    "start_time": "2022-05-18T14:56:02.254Z"
   },
   {
    "duration": 20,
    "start_time": "2022-05-18T14:56:02.310Z"
   },
   {
    "duration": 32,
    "start_time": "2022-05-18T14:56:02.332Z"
   },
   {
    "duration": 15,
    "start_time": "2022-05-18T14:56:02.366Z"
   },
   {
    "duration": 43,
    "start_time": "2022-05-18T14:56:02.382Z"
   },
   {
    "duration": 37,
    "start_time": "2022-05-18T14:56:02.427Z"
   },
   {
    "duration": 59,
    "start_time": "2022-05-18T14:56:02.466Z"
   },
   {
    "duration": 39,
    "start_time": "2022-05-18T14:56:02.527Z"
   },
   {
    "duration": 53,
    "start_time": "2022-05-18T14:56:02.568Z"
   },
   {
    "duration": 17,
    "start_time": "2022-05-18T14:56:02.628Z"
   },
   {
    "duration": 14,
    "start_time": "2022-05-18T14:56:02.649Z"
   },
   {
    "duration": 13,
    "start_time": "2022-05-18T14:56:02.664Z"
   },
   {
    "duration": 58,
    "start_time": "2022-05-18T14:56:02.678Z"
   },
   {
    "duration": 0,
    "start_time": "2022-05-18T14:56:02.738Z"
   },
   {
    "duration": 0,
    "start_time": "2022-05-18T14:56:02.739Z"
   },
   {
    "duration": 0,
    "start_time": "2022-05-18T14:56:02.741Z"
   },
   {
    "duration": 0,
    "start_time": "2022-05-18T14:56:02.742Z"
   },
   {
    "duration": 0,
    "start_time": "2022-05-18T14:56:02.743Z"
   },
   {
    "duration": 0,
    "start_time": "2022-05-18T14:56:02.744Z"
   },
   {
    "duration": 0,
    "start_time": "2022-05-18T14:56:02.745Z"
   },
   {
    "duration": 0,
    "start_time": "2022-05-18T14:56:02.747Z"
   },
   {
    "duration": 0,
    "start_time": "2022-05-18T14:56:02.748Z"
   },
   {
    "duration": 0,
    "start_time": "2022-05-18T14:56:02.749Z"
   },
   {
    "duration": 0,
    "start_time": "2022-05-18T14:56:02.750Z"
   },
   {
    "duration": 0,
    "start_time": "2022-05-18T14:56:02.752Z"
   },
   {
    "duration": 0,
    "start_time": "2022-05-18T14:56:02.753Z"
   },
   {
    "duration": 0,
    "start_time": "2022-05-18T14:56:02.754Z"
   },
   {
    "duration": 0,
    "start_time": "2022-05-18T14:56:02.756Z"
   },
   {
    "duration": 0,
    "start_time": "2022-05-18T14:56:02.757Z"
   },
   {
    "duration": 0,
    "start_time": "2022-05-18T14:56:02.758Z"
   },
   {
    "duration": 0,
    "start_time": "2022-05-18T14:56:02.759Z"
   },
   {
    "duration": 54,
    "start_time": "2022-05-18T14:56:57.402Z"
   },
   {
    "duration": 18,
    "start_time": "2022-05-18T15:03:40.384Z"
   },
   {
    "duration": 16,
    "start_time": "2022-05-18T15:03:47.257Z"
   },
   {
    "duration": 44,
    "start_time": "2022-05-18T15:04:02.790Z"
   },
   {
    "duration": 30,
    "start_time": "2022-05-18T15:04:36.111Z"
   },
   {
    "duration": 50,
    "start_time": "2022-05-18T15:06:35.133Z"
   },
   {
    "duration": 18,
    "start_time": "2022-05-18T15:06:57.862Z"
   },
   {
    "duration": 5,
    "start_time": "2022-05-18T15:06:59.628Z"
   },
   {
    "duration": 4,
    "start_time": "2022-05-18T15:07:00.549Z"
   },
   {
    "duration": 34,
    "start_time": "2022-05-18T15:09:32.486Z"
   },
   {
    "duration": 42,
    "start_time": "2022-05-18T15:11:41.367Z"
   },
   {
    "duration": 9,
    "start_time": "2022-05-18T15:14:08.539Z"
   },
   {
    "duration": 21,
    "start_time": "2022-05-18T15:14:16.922Z"
   },
   {
    "duration": 6,
    "start_time": "2022-05-18T15:14:24.553Z"
   },
   {
    "duration": 94,
    "start_time": "2022-05-18T15:21:59.551Z"
   },
   {
    "duration": 6,
    "start_time": "2022-05-18T15:22:30.317Z"
   },
   {
    "duration": 746,
    "start_time": "2022-05-18T15:22:30.331Z"
   },
   {
    "duration": 11,
    "start_time": "2022-05-18T15:22:31.079Z"
   },
   {
    "duration": 68,
    "start_time": "2022-05-18T15:22:31.091Z"
   },
   {
    "duration": 27,
    "start_time": "2022-05-18T15:22:31.161Z"
   },
   {
    "duration": 24,
    "start_time": "2022-05-18T15:22:31.189Z"
   },
   {
    "duration": 50,
    "start_time": "2022-05-18T15:22:31.216Z"
   },
   {
    "duration": 37,
    "start_time": "2022-05-18T15:22:31.268Z"
   },
   {
    "duration": 103,
    "start_time": "2022-05-18T15:22:31.309Z"
   },
   {
    "duration": 38,
    "start_time": "2022-05-18T15:22:31.421Z"
   },
   {
    "duration": 58,
    "start_time": "2022-05-18T15:22:31.463Z"
   },
   {
    "duration": 51,
    "start_time": "2022-05-18T15:22:31.523Z"
   },
   {
    "duration": 44,
    "start_time": "2022-05-18T15:22:31.576Z"
   },
   {
    "duration": 42,
    "start_time": "2022-05-18T15:22:31.623Z"
   },
   {
    "duration": 36,
    "start_time": "2022-05-18T15:22:31.667Z"
   },
   {
    "duration": 60,
    "start_time": "2022-05-18T15:22:31.710Z"
   },
   {
    "duration": 40,
    "start_time": "2022-05-18T15:22:31.772Z"
   },
   {
    "duration": 53,
    "start_time": "2022-05-18T15:22:31.814Z"
   },
   {
    "duration": 61,
    "start_time": "2022-05-18T15:22:31.871Z"
   },
   {
    "duration": 12,
    "start_time": "2022-05-18T15:22:31.945Z"
   },
   {
    "duration": 46,
    "start_time": "2022-05-18T15:22:31.958Z"
   },
   {
    "duration": 48,
    "start_time": "2022-05-18T15:22:32.015Z"
   },
   {
    "duration": 41,
    "start_time": "2022-05-18T15:22:32.065Z"
   },
   {
    "duration": 98,
    "start_time": "2022-05-18T15:22:32.112Z"
   },
   {
    "duration": 32,
    "start_time": "2022-05-18T15:22:32.220Z"
   },
   {
    "duration": 61,
    "start_time": "2022-05-18T15:22:32.259Z"
   },
   {
    "duration": 49,
    "start_time": "2022-05-18T15:22:32.326Z"
   },
   {
    "duration": 23,
    "start_time": "2022-05-18T15:22:32.377Z"
   },
   {
    "duration": 42,
    "start_time": "2022-05-18T15:22:32.402Z"
   },
   {
    "duration": 29,
    "start_time": "2022-05-18T15:22:32.446Z"
   },
   {
    "duration": 38,
    "start_time": "2022-05-18T15:22:32.477Z"
   },
   {
    "duration": 34,
    "start_time": "2022-05-18T15:22:32.516Z"
   },
   {
    "duration": 11,
    "start_time": "2022-05-18T15:22:32.552Z"
   },
   {
    "duration": 7,
    "start_time": "2022-05-18T15:22:32.564Z"
   },
   {
    "duration": 9,
    "start_time": "2022-05-18T15:22:32.573Z"
   },
   {
    "duration": 7,
    "start_time": "2022-05-18T15:22:32.584Z"
   },
   {
    "duration": 196,
    "start_time": "2022-05-18T15:22:32.593Z"
   },
   {
    "duration": 15,
    "start_time": "2022-05-18T15:22:32.790Z"
   },
   {
    "duration": 1,
    "start_time": "2022-05-18T15:22:32.807Z"
   },
   {
    "duration": 0,
    "start_time": "2022-05-18T15:22:32.809Z"
   },
   {
    "duration": 0,
    "start_time": "2022-05-18T15:22:32.810Z"
   },
   {
    "duration": 0,
    "start_time": "2022-05-18T15:22:32.811Z"
   },
   {
    "duration": 0,
    "start_time": "2022-05-18T15:22:32.812Z"
   },
   {
    "duration": 0,
    "start_time": "2022-05-18T15:22:32.813Z"
   },
   {
    "duration": 0,
    "start_time": "2022-05-18T15:22:32.814Z"
   },
   {
    "duration": 0,
    "start_time": "2022-05-18T15:22:32.816Z"
   },
   {
    "duration": 0,
    "start_time": "2022-05-18T15:22:32.817Z"
   },
   {
    "duration": 0,
    "start_time": "2022-05-18T15:22:32.818Z"
   },
   {
    "duration": 39,
    "start_time": "2022-05-18T15:23:44.932Z"
   },
   {
    "duration": 907,
    "start_time": "2022-05-18T15:24:00.044Z"
   },
   {
    "duration": 292,
    "start_time": "2022-05-18T15:24:17.564Z"
   },
   {
    "duration": 355,
    "start_time": "2022-05-18T15:24:23.026Z"
   },
   {
    "duration": 19,
    "start_time": "2022-05-18T15:25:22.221Z"
   },
   {
    "duration": 24,
    "start_time": "2022-05-18T15:25:51.227Z"
   },
   {
    "duration": 1005,
    "start_time": "2022-05-18T15:29:19.321Z"
   },
   {
    "duration": 888,
    "start_time": "2022-05-18T15:30:12.319Z"
   },
   {
    "duration": 175,
    "start_time": "2022-05-18T15:31:24.570Z"
   },
   {
    "duration": 65,
    "start_time": "2022-05-18T18:32:35.659Z"
   },
   {
    "duration": 1575,
    "start_time": "2022-05-18T18:32:41.107Z"
   },
   {
    "duration": 1365,
    "start_time": "2022-05-18T18:32:42.684Z"
   },
   {
    "duration": 14,
    "start_time": "2022-05-18T18:32:44.051Z"
   },
   {
    "duration": 13,
    "start_time": "2022-05-18T18:32:44.067Z"
   },
   {
    "duration": 14,
    "start_time": "2022-05-18T18:32:44.082Z"
   },
   {
    "duration": 17,
    "start_time": "2022-05-18T18:32:44.098Z"
   },
   {
    "duration": 7,
    "start_time": "2022-05-18T18:32:44.117Z"
   },
   {
    "duration": 15,
    "start_time": "2022-05-18T18:32:44.125Z"
   },
   {
    "duration": 32,
    "start_time": "2022-05-18T18:32:44.142Z"
   },
   {
    "duration": 21,
    "start_time": "2022-05-18T18:32:44.175Z"
   },
   {
    "duration": 29,
    "start_time": "2022-05-18T18:32:44.198Z"
   },
   {
    "duration": 23,
    "start_time": "2022-05-18T18:32:44.228Z"
   },
   {
    "duration": 46,
    "start_time": "2022-05-18T18:32:44.253Z"
   },
   {
    "duration": 6,
    "start_time": "2022-05-18T18:32:44.303Z"
   },
   {
    "duration": 21,
    "start_time": "2022-05-18T18:32:44.311Z"
   },
   {
    "duration": 13,
    "start_time": "2022-05-18T18:32:44.334Z"
   },
   {
    "duration": 44,
    "start_time": "2022-05-18T18:32:44.349Z"
   },
   {
    "duration": 13,
    "start_time": "2022-05-18T18:32:44.395Z"
   },
   {
    "duration": 32,
    "start_time": "2022-05-18T18:32:44.409Z"
   },
   {
    "duration": 8,
    "start_time": "2022-05-18T18:32:44.442Z"
   },
   {
    "duration": 44,
    "start_time": "2022-05-18T18:32:44.452Z"
   },
   {
    "duration": 16,
    "start_time": "2022-05-18T18:32:44.498Z"
   },
   {
    "duration": 8,
    "start_time": "2022-05-18T18:32:44.515Z"
   },
   {
    "duration": 31,
    "start_time": "2022-05-18T18:32:44.524Z"
   },
   {
    "duration": 36,
    "start_time": "2022-05-18T18:32:44.557Z"
   },
   {
    "duration": 28,
    "start_time": "2022-05-18T18:32:44.595Z"
   },
   {
    "duration": 108,
    "start_time": "2022-05-18T18:32:44.624Z"
   },
   {
    "duration": 17,
    "start_time": "2022-05-18T18:32:44.734Z"
   },
   {
    "duration": 5,
    "start_time": "2022-05-18T18:32:44.753Z"
   },
   {
    "duration": 29,
    "start_time": "2022-05-18T18:32:44.760Z"
   },
   {
    "duration": 23,
    "start_time": "2022-05-18T18:32:44.793Z"
   },
   {
    "duration": 7,
    "start_time": "2022-05-18T18:32:44.818Z"
   },
   {
    "duration": 7,
    "start_time": "2022-05-18T18:32:44.827Z"
   },
   {
    "duration": 4,
    "start_time": "2022-05-18T18:32:44.836Z"
   },
   {
    "duration": 9,
    "start_time": "2022-05-18T18:32:44.841Z"
   },
   {
    "duration": 37,
    "start_time": "2022-05-18T18:32:44.851Z"
   },
   {
    "duration": 137,
    "start_time": "2022-05-18T18:32:44.890Z"
   },
   {
    "duration": 24,
    "start_time": "2022-05-18T18:32:45.029Z"
   },
   {
    "duration": 280,
    "start_time": "2022-05-18T18:32:45.055Z"
   },
   {
    "duration": 262,
    "start_time": "2022-05-18T18:32:45.337Z"
   },
   {
    "duration": 263,
    "start_time": "2022-05-18T18:32:45.603Z"
   },
   {
    "duration": 31,
    "start_time": "2022-05-18T18:32:45.868Z"
   },
   {
    "duration": 8,
    "start_time": "2022-05-18T18:32:45.900Z"
   },
   {
    "duration": 0,
    "start_time": "2022-05-18T18:32:45.910Z"
   },
   {
    "duration": 0,
    "start_time": "2022-05-18T18:32:45.912Z"
   },
   {
    "duration": 0,
    "start_time": "2022-05-18T18:32:45.913Z"
   },
   {
    "duration": 0,
    "start_time": "2022-05-18T18:32:45.914Z"
   },
   {
    "duration": 0,
    "start_time": "2022-05-18T18:32:45.915Z"
   },
   {
    "duration": 29,
    "start_time": "2022-05-18T18:34:54.784Z"
   },
   {
    "duration": 190,
    "start_time": "2022-05-18T18:36:12.811Z"
   },
   {
    "duration": 3,
    "start_time": "2022-05-18T18:36:37.597Z"
   },
   {
    "duration": 463,
    "start_time": "2022-05-18T18:36:37.602Z"
   },
   {
    "duration": 15,
    "start_time": "2022-05-18T18:36:38.068Z"
   },
   {
    "duration": 14,
    "start_time": "2022-05-18T18:36:38.086Z"
   },
   {
    "duration": 13,
    "start_time": "2022-05-18T18:36:38.102Z"
   },
   {
    "duration": 7,
    "start_time": "2022-05-18T18:36:38.116Z"
   },
   {
    "duration": 4,
    "start_time": "2022-05-18T18:36:38.125Z"
   },
   {
    "duration": 20,
    "start_time": "2022-05-18T18:36:38.131Z"
   },
   {
    "duration": 45,
    "start_time": "2022-05-18T18:36:38.152Z"
   },
   {
    "duration": 20,
    "start_time": "2022-05-18T18:36:38.200Z"
   },
   {
    "duration": 29,
    "start_time": "2022-05-18T18:36:38.221Z"
   },
   {
    "duration": 41,
    "start_time": "2022-05-18T18:36:38.252Z"
   },
   {
    "duration": 26,
    "start_time": "2022-05-18T18:36:38.295Z"
   },
   {
    "duration": 7,
    "start_time": "2022-05-18T18:36:38.322Z"
   },
   {
    "duration": 23,
    "start_time": "2022-05-18T18:36:38.330Z"
   },
   {
    "duration": 33,
    "start_time": "2022-05-18T18:36:38.355Z"
   },
   {
    "duration": 18,
    "start_time": "2022-05-18T18:36:38.390Z"
   },
   {
    "duration": 15,
    "start_time": "2022-05-18T18:36:38.409Z"
   },
   {
    "duration": 29,
    "start_time": "2022-05-18T18:36:38.425Z"
   },
   {
    "duration": 34,
    "start_time": "2022-05-18T18:36:38.456Z"
   },
   {
    "duration": 25,
    "start_time": "2022-05-18T18:36:38.491Z"
   },
   {
    "duration": 16,
    "start_time": "2022-05-18T18:36:38.518Z"
   },
   {
    "duration": 8,
    "start_time": "2022-05-18T18:36:38.535Z"
   },
   {
    "duration": 50,
    "start_time": "2022-05-18T18:36:38.544Z"
   },
   {
    "duration": 17,
    "start_time": "2022-05-18T18:36:38.596Z"
   },
   {
    "duration": 26,
    "start_time": "2022-05-18T18:36:38.615Z"
   },
   {
    "duration": 81,
    "start_time": "2022-05-18T18:36:38.642Z"
   },
   {
    "duration": 0,
    "start_time": "2022-05-18T18:36:38.725Z"
   },
   {
    "duration": 0,
    "start_time": "2022-05-18T18:36:38.726Z"
   },
   {
    "duration": 0,
    "start_time": "2022-05-18T18:36:38.728Z"
   },
   {
    "duration": 0,
    "start_time": "2022-05-18T18:36:38.729Z"
   },
   {
    "duration": 0,
    "start_time": "2022-05-18T18:36:38.730Z"
   },
   {
    "duration": 0,
    "start_time": "2022-05-18T18:36:38.732Z"
   },
   {
    "duration": 0,
    "start_time": "2022-05-18T18:36:38.733Z"
   },
   {
    "duration": 0,
    "start_time": "2022-05-18T18:36:38.734Z"
   },
   {
    "duration": 0,
    "start_time": "2022-05-18T18:36:38.735Z"
   },
   {
    "duration": 0,
    "start_time": "2022-05-18T18:36:38.736Z"
   },
   {
    "duration": 0,
    "start_time": "2022-05-18T18:36:38.737Z"
   },
   {
    "duration": 0,
    "start_time": "2022-05-18T18:36:38.738Z"
   },
   {
    "duration": 0,
    "start_time": "2022-05-18T18:36:38.739Z"
   },
   {
    "duration": 0,
    "start_time": "2022-05-18T18:36:38.740Z"
   },
   {
    "duration": 0,
    "start_time": "2022-05-18T18:36:38.741Z"
   },
   {
    "duration": 0,
    "start_time": "2022-05-18T18:36:38.742Z"
   },
   {
    "duration": 0,
    "start_time": "2022-05-18T18:36:38.743Z"
   },
   {
    "duration": 0,
    "start_time": "2022-05-18T18:36:38.744Z"
   },
   {
    "duration": 0,
    "start_time": "2022-05-18T18:36:38.783Z"
   },
   {
    "duration": 0,
    "start_time": "2022-05-18T18:36:38.784Z"
   },
   {
    "duration": 0,
    "start_time": "2022-05-18T18:36:38.785Z"
   },
   {
    "duration": 5,
    "start_time": "2022-05-18T18:39:38.199Z"
   },
   {
    "duration": 14,
    "start_time": "2022-05-18T18:39:38.786Z"
   },
   {
    "duration": 17,
    "start_time": "2022-05-18T18:39:40.247Z"
   },
   {
    "duration": 27,
    "start_time": "2022-05-18T18:39:48.955Z"
   },
   {
    "duration": 26,
    "start_time": "2022-05-18T18:39:54.051Z"
   },
   {
    "duration": 18,
    "start_time": "2022-05-18T18:40:20.615Z"
   },
   {
    "duration": 6,
    "start_time": "2022-05-18T18:40:50.983Z"
   },
   {
    "duration": 9,
    "start_time": "2022-05-18T18:40:54.701Z"
   },
   {
    "duration": 23,
    "start_time": "2022-05-18T18:41:16.312Z"
   },
   {
    "duration": 9,
    "start_time": "2022-05-18T18:42:05.380Z"
   },
   {
    "duration": 6,
    "start_time": "2022-05-18T18:42:13.511Z"
   },
   {
    "duration": 5,
    "start_time": "2022-05-18T18:42:14.074Z"
   },
   {
    "duration": 8,
    "start_time": "2022-05-18T18:42:14.980Z"
   },
   {
    "duration": 8,
    "start_time": "2022-05-18T18:42:43.345Z"
   },
   {
    "duration": 125,
    "start_time": "2022-05-18T18:42:48.356Z"
   },
   {
    "duration": 26,
    "start_time": "2022-05-18T18:48:30.935Z"
   },
   {
    "duration": 270,
    "start_time": "2022-05-18T18:48:36.028Z"
   },
   {
    "duration": 235,
    "start_time": "2022-05-18T18:48:41.029Z"
   },
   {
    "duration": 374,
    "start_time": "2022-05-18T18:48:43.514Z"
   },
   {
    "duration": 200,
    "start_time": "2022-05-18T18:52:28.379Z"
   },
   {
    "duration": 14,
    "start_time": "2022-05-18T18:52:52.382Z"
   },
   {
    "duration": 620,
    "start_time": "2022-05-18T18:54:52.354Z"
   },
   {
    "duration": 650,
    "start_time": "2022-05-18T18:55:15.594Z"
   },
   {
    "duration": 12,
    "start_time": "2022-05-18T18:55:28.629Z"
   },
   {
    "duration": 178,
    "start_time": "2022-05-18T18:57:24.582Z"
   },
   {
    "duration": 174,
    "start_time": "2022-05-18T18:57:41.887Z"
   },
   {
    "duration": 170,
    "start_time": "2022-05-18T18:57:49.036Z"
   },
   {
    "duration": 171,
    "start_time": "2022-05-18T19:00:14.323Z"
   },
   {
    "duration": 1036,
    "start_time": "2022-05-18T19:30:59.880Z"
   },
   {
    "duration": 985,
    "start_time": "2022-05-18T19:31:30.794Z"
   },
   {
    "duration": 1179,
    "start_time": "2022-05-18T19:33:21.464Z"
   },
   {
    "duration": 1097,
    "start_time": "2022-05-18T19:35:43.200Z"
   },
   {
    "duration": 1209,
    "start_time": "2022-05-18T19:37:02.090Z"
   },
   {
    "duration": 920,
    "start_time": "2022-05-18T19:37:16.463Z"
   },
   {
    "duration": 1017,
    "start_time": "2022-05-18T19:37:46.150Z"
   },
   {
    "duration": 1107,
    "start_time": "2022-05-18T19:37:59.903Z"
   },
   {
    "duration": 886,
    "start_time": "2022-05-18T19:38:33.418Z"
   },
   {
    "duration": 22,
    "start_time": "2022-05-18T19:43:45.450Z"
   },
   {
    "duration": 248,
    "start_time": "2022-05-18T19:43:51.943Z"
   },
   {
    "duration": 247,
    "start_time": "2022-05-18T19:43:54.225Z"
   },
   {
    "duration": 272,
    "start_time": "2022-05-18T19:43:56.752Z"
   },
   {
    "duration": 175,
    "start_time": "2022-05-18T19:44:00.081Z"
   },
   {
    "duration": 997,
    "start_time": "2022-05-18T19:44:01.605Z"
   },
   {
    "duration": 139,
    "start_time": "2022-05-18T19:47:53.195Z"
   },
   {
    "duration": 151,
    "start_time": "2022-05-18T19:48:16.569Z"
   },
   {
    "duration": 1217,
    "start_time": "2022-05-18T19:52:17.734Z"
   },
   {
    "duration": 1148,
    "start_time": "2022-05-18T19:52:36.662Z"
   },
   {
    "duration": 45,
    "start_time": "2022-05-18T19:55:07.687Z"
   },
   {
    "duration": 6,
    "start_time": "2022-05-18T19:57:39.613Z"
   },
   {
    "duration": 142,
    "start_time": "2022-05-18T19:57:41.682Z"
   },
   {
    "duration": 4,
    "start_time": "2022-05-18T19:57:43.739Z"
   },
   {
    "duration": 477,
    "start_time": "2022-05-18T19:57:43.745Z"
   },
   {
    "duration": 11,
    "start_time": "2022-05-18T19:57:44.223Z"
   },
   {
    "duration": 23,
    "start_time": "2022-05-18T19:57:44.235Z"
   },
   {
    "duration": 50,
    "start_time": "2022-05-18T19:57:44.260Z"
   },
   {
    "duration": 7,
    "start_time": "2022-05-18T19:57:44.312Z"
   },
   {
    "duration": 11,
    "start_time": "2022-05-18T19:57:44.320Z"
   },
   {
    "duration": 18,
    "start_time": "2022-05-18T19:57:44.332Z"
   },
   {
    "duration": 29,
    "start_time": "2022-05-18T19:57:44.352Z"
   },
   {
    "duration": 36,
    "start_time": "2022-05-18T19:57:44.382Z"
   },
   {
    "duration": 29,
    "start_time": "2022-05-18T19:57:44.419Z"
   },
   {
    "duration": 43,
    "start_time": "2022-05-18T19:57:44.450Z"
   },
   {
    "duration": 36,
    "start_time": "2022-05-18T19:57:44.494Z"
   },
   {
    "duration": 13,
    "start_time": "2022-05-18T19:57:44.531Z"
   },
   {
    "duration": 19,
    "start_time": "2022-05-18T19:57:44.546Z"
   },
   {
    "duration": 39,
    "start_time": "2022-05-18T19:57:44.567Z"
   },
   {
    "duration": 21,
    "start_time": "2022-05-18T19:57:44.607Z"
   },
   {
    "duration": 15,
    "start_time": "2022-05-18T19:57:44.630Z"
   },
   {
    "duration": 65,
    "start_time": "2022-05-18T19:57:44.646Z"
   },
   {
    "duration": 9,
    "start_time": "2022-05-18T19:57:44.712Z"
   },
   {
    "duration": 21,
    "start_time": "2022-05-18T19:57:44.722Z"
   },
   {
    "duration": 15,
    "start_time": "2022-05-18T19:57:44.745Z"
   },
   {
    "duration": 30,
    "start_time": "2022-05-18T19:57:44.762Z"
   },
   {
    "duration": 5,
    "start_time": "2022-05-18T19:57:44.803Z"
   },
   {
    "duration": 31,
    "start_time": "2022-05-18T19:57:44.810Z"
   },
   {
    "duration": 17,
    "start_time": "2022-05-18T19:57:44.843Z"
   },
   {
    "duration": 46,
    "start_time": "2022-05-18T19:57:44.861Z"
   },
   {
    "duration": 130,
    "start_time": "2022-05-18T19:57:44.909Z"
   },
   {
    "duration": 17,
    "start_time": "2022-05-18T19:57:45.040Z"
   },
   {
    "duration": 5,
    "start_time": "2022-05-18T19:57:45.058Z"
   },
   {
    "duration": 33,
    "start_time": "2022-05-18T19:57:45.064Z"
   },
   {
    "duration": 18,
    "start_time": "2022-05-18T19:57:45.103Z"
   },
   {
    "duration": 8,
    "start_time": "2022-05-18T19:57:45.122Z"
   },
   {
    "duration": 8,
    "start_time": "2022-05-18T19:57:45.132Z"
   },
   {
    "duration": 5,
    "start_time": "2022-05-18T19:57:45.141Z"
   },
   {
    "duration": 7,
    "start_time": "2022-05-18T19:57:45.148Z"
   },
   {
    "duration": 4,
    "start_time": "2022-05-18T19:57:45.157Z"
   },
   {
    "duration": 154,
    "start_time": "2022-05-18T19:57:45.163Z"
   },
   {
    "duration": 23,
    "start_time": "2022-05-18T19:57:45.318Z"
   },
   {
    "duration": 306,
    "start_time": "2022-05-18T19:57:45.342Z"
   },
   {
    "duration": 285,
    "start_time": "2022-05-18T19:57:45.650Z"
   },
   {
    "duration": 295,
    "start_time": "2022-05-18T19:57:45.937Z"
   },
   {
    "duration": 204,
    "start_time": "2022-05-18T19:57:46.234Z"
   },
   {
    "duration": 1282,
    "start_time": "2022-05-18T19:57:46.441Z"
   },
   {
    "duration": 40,
    "start_time": "2022-05-18T19:57:47.726Z"
   },
   {
    "duration": 44,
    "start_time": "2022-05-18T19:57:47.768Z"
   },
   {
    "duration": 38,
    "start_time": "2022-05-18T19:57:47.814Z"
   },
   {
    "duration": 0,
    "start_time": "2022-05-18T19:57:47.853Z"
   },
   {
    "duration": 0,
    "start_time": "2022-05-18T19:57:47.854Z"
   },
   {
    "duration": 0,
    "start_time": "2022-05-18T19:57:47.856Z"
   },
   {
    "duration": 0,
    "start_time": "2022-05-18T19:57:47.857Z"
   },
   {
    "duration": 0,
    "start_time": "2022-05-18T19:57:47.858Z"
   },
   {
    "duration": 26,
    "start_time": "2022-05-18T20:01:01.552Z"
   },
   {
    "duration": 3,
    "start_time": "2022-05-18T20:01:48.549Z"
   },
   {
    "duration": 447,
    "start_time": "2022-05-18T20:01:48.553Z"
   },
   {
    "duration": 11,
    "start_time": "2022-05-18T20:01:49.002Z"
   },
   {
    "duration": 13,
    "start_time": "2022-05-18T20:01:49.015Z"
   },
   {
    "duration": 7,
    "start_time": "2022-05-18T20:01:49.030Z"
   },
   {
    "duration": 10,
    "start_time": "2022-05-18T20:01:49.038Z"
   },
   {
    "duration": 5,
    "start_time": "2022-05-18T20:01:49.050Z"
   },
   {
    "duration": 42,
    "start_time": "2022-05-18T20:01:49.056Z"
   },
   {
    "duration": 28,
    "start_time": "2022-05-18T20:01:49.108Z"
   },
   {
    "duration": 35,
    "start_time": "2022-05-18T20:01:49.138Z"
   },
   {
    "duration": 37,
    "start_time": "2022-05-18T20:01:49.183Z"
   },
   {
    "duration": 21,
    "start_time": "2022-05-18T20:01:49.222Z"
   },
   {
    "duration": 52,
    "start_time": "2022-05-18T20:01:49.245Z"
   },
   {
    "duration": 7,
    "start_time": "2022-05-18T20:01:49.298Z"
   },
   {
    "duration": 21,
    "start_time": "2022-05-18T20:01:49.307Z"
   },
   {
    "duration": 14,
    "start_time": "2022-05-18T20:01:49.329Z"
   },
   {
    "duration": 18,
    "start_time": "2022-05-18T20:01:49.345Z"
   },
   {
    "duration": 36,
    "start_time": "2022-05-18T20:01:49.365Z"
   },
   {
    "duration": 28,
    "start_time": "2022-05-18T20:01:49.403Z"
   },
   {
    "duration": 8,
    "start_time": "2022-05-18T20:01:49.433Z"
   },
   {
    "duration": 57,
    "start_time": "2022-05-18T20:01:49.443Z"
   },
   {
    "duration": 19,
    "start_time": "2022-05-18T20:01:49.502Z"
   },
   {
    "duration": 7,
    "start_time": "2022-05-18T20:01:49.523Z"
   },
   {
    "duration": 5,
    "start_time": "2022-05-18T20:01:49.532Z"
   },
   {
    "duration": 24,
    "start_time": "2022-05-18T20:01:49.539Z"
   },
   {
    "duration": 21,
    "start_time": "2022-05-18T20:01:49.584Z"
   },
   {
    "duration": 28,
    "start_time": "2022-05-18T20:01:49.606Z"
   },
   {
    "duration": 57,
    "start_time": "2022-05-18T20:01:49.635Z"
   },
   {
    "duration": 29,
    "start_time": "2022-05-18T20:01:49.701Z"
   },
   {
    "duration": 8,
    "start_time": "2022-05-18T20:01:49.731Z"
   },
   {
    "duration": 9,
    "start_time": "2022-05-18T20:01:49.741Z"
   },
   {
    "duration": 28,
    "start_time": "2022-05-18T20:01:49.752Z"
   },
   {
    "duration": 18,
    "start_time": "2022-05-18T20:01:49.782Z"
   },
   {
    "duration": 5,
    "start_time": "2022-05-18T20:01:49.802Z"
   },
   {
    "duration": 4,
    "start_time": "2022-05-18T20:01:49.809Z"
   },
   {
    "duration": 7,
    "start_time": "2022-05-18T20:01:49.815Z"
   },
   {
    "duration": 5,
    "start_time": "2022-05-18T20:01:49.824Z"
   },
   {
    "duration": 149,
    "start_time": "2022-05-18T20:01:49.830Z"
   },
   {
    "duration": 33,
    "start_time": "2022-05-18T20:01:49.985Z"
   },
   {
    "duration": 279,
    "start_time": "2022-05-18T20:01:50.020Z"
   },
   {
    "duration": 257,
    "start_time": "2022-05-18T20:01:50.301Z"
   },
   {
    "duration": 271,
    "start_time": "2022-05-18T20:01:50.560Z"
   },
   {
    "duration": 226,
    "start_time": "2022-05-18T20:01:50.833Z"
   },
   {
    "duration": 1207,
    "start_time": "2022-05-18T20:01:51.061Z"
   },
   {
    "duration": 60,
    "start_time": "2022-05-18T20:01:52.270Z"
   },
   {
    "duration": 25,
    "start_time": "2022-05-18T20:01:52.332Z"
   },
   {
    "duration": 43,
    "start_time": "2022-05-18T20:01:52.358Z"
   },
   {
    "duration": 0,
    "start_time": "2022-05-18T20:01:52.403Z"
   },
   {
    "duration": 0,
    "start_time": "2022-05-18T20:01:52.404Z"
   },
   {
    "duration": 0,
    "start_time": "2022-05-18T20:01:52.406Z"
   },
   {
    "duration": 0,
    "start_time": "2022-05-18T20:01:52.407Z"
   },
   {
    "duration": 0,
    "start_time": "2022-05-18T20:01:52.408Z"
   },
   {
    "duration": 40,
    "start_time": "2022-05-18T20:05:50.588Z"
   },
   {
    "duration": 249,
    "start_time": "2022-05-18T20:19:55.109Z"
   },
   {
    "duration": 838,
    "start_time": "2022-05-18T20:21:58.661Z"
   },
   {
    "duration": 1204,
    "start_time": "2022-05-18T20:22:30.497Z"
   },
   {
    "duration": 3,
    "start_time": "2022-05-18T20:22:34.258Z"
   },
   {
    "duration": 457,
    "start_time": "2022-05-18T20:22:34.264Z"
   },
   {
    "duration": 11,
    "start_time": "2022-05-18T20:22:34.722Z"
   },
   {
    "duration": 11,
    "start_time": "2022-05-18T20:22:34.735Z"
   },
   {
    "duration": 7,
    "start_time": "2022-05-18T20:22:34.748Z"
   },
   {
    "duration": 7,
    "start_time": "2022-05-18T20:22:34.757Z"
   },
   {
    "duration": 32,
    "start_time": "2022-05-18T20:22:34.765Z"
   },
   {
    "duration": 10,
    "start_time": "2022-05-18T20:22:34.799Z"
   },
   {
    "duration": 25,
    "start_time": "2022-05-18T20:22:34.811Z"
   },
   {
    "duration": 19,
    "start_time": "2022-05-18T20:22:34.837Z"
   },
   {
    "duration": 48,
    "start_time": "2022-05-18T20:22:34.858Z"
   },
   {
    "duration": 23,
    "start_time": "2022-05-18T20:22:34.907Z"
   },
   {
    "duration": 29,
    "start_time": "2022-05-18T20:22:34.931Z"
   },
   {
    "duration": 7,
    "start_time": "2022-05-18T20:22:34.963Z"
   },
   {
    "duration": 40,
    "start_time": "2022-05-18T20:22:34.972Z"
   },
   {
    "duration": 15,
    "start_time": "2022-05-18T20:22:35.014Z"
   },
   {
    "duration": 19,
    "start_time": "2022-05-18T20:22:35.031Z"
   },
   {
    "duration": 36,
    "start_time": "2022-05-18T20:22:35.052Z"
   },
   {
    "duration": 33,
    "start_time": "2022-05-18T20:22:35.092Z"
   },
   {
    "duration": 8,
    "start_time": "2022-05-18T20:22:35.126Z"
   },
   {
    "duration": 22,
    "start_time": "2022-05-18T20:22:35.136Z"
   },
   {
    "duration": 37,
    "start_time": "2022-05-18T20:22:35.160Z"
   },
   {
    "duration": 7,
    "start_time": "2022-05-18T20:22:35.199Z"
   },
   {
    "duration": 6,
    "start_time": "2022-05-18T20:22:35.207Z"
   },
   {
    "duration": 23,
    "start_time": "2022-05-18T20:22:35.214Z"
   },
   {
    "duration": 17,
    "start_time": "2022-05-18T20:22:35.238Z"
   },
   {
    "duration": 58,
    "start_time": "2022-05-18T20:22:35.257Z"
   },
   {
    "duration": 30,
    "start_time": "2022-05-18T20:22:35.316Z"
   },
   {
    "duration": 15,
    "start_time": "2022-05-18T20:22:35.347Z"
   },
   {
    "duration": 28,
    "start_time": "2022-05-18T20:22:35.364Z"
   },
   {
    "duration": 10,
    "start_time": "2022-05-18T20:22:35.394Z"
   },
   {
    "duration": 18,
    "start_time": "2022-05-18T20:22:35.405Z"
   },
   {
    "duration": 7,
    "start_time": "2022-05-18T20:22:35.425Z"
   },
   {
    "duration": 10,
    "start_time": "2022-05-18T20:22:35.434Z"
   },
   {
    "duration": 10,
    "start_time": "2022-05-18T20:22:35.445Z"
   },
   {
    "duration": 8,
    "start_time": "2022-05-18T20:22:35.456Z"
   },
   {
    "duration": 29,
    "start_time": "2022-05-18T20:22:35.466Z"
   },
   {
    "duration": 131,
    "start_time": "2022-05-18T20:22:35.497Z"
   },
   {
    "duration": 25,
    "start_time": "2022-05-18T20:22:35.630Z"
   },
   {
    "duration": 290,
    "start_time": "2022-05-18T20:22:35.656Z"
   },
   {
    "duration": 269,
    "start_time": "2022-05-18T20:22:35.950Z"
   },
   {
    "duration": 273,
    "start_time": "2022-05-18T20:22:36.221Z"
   },
   {
    "duration": 255,
    "start_time": "2022-05-18T20:22:36.496Z"
   },
   {
    "duration": 308,
    "start_time": "2022-05-18T20:22:36.753Z"
   },
   {
    "duration": 1065,
    "start_time": "2022-05-18T20:22:37.062Z"
   },
   {
    "duration": 72,
    "start_time": "2022-05-18T20:22:38.129Z"
   },
   {
    "duration": 22,
    "start_time": "2022-05-18T20:22:38.203Z"
   },
   {
    "duration": 37,
    "start_time": "2022-05-18T20:22:38.227Z"
   },
   {
    "duration": 0,
    "start_time": "2022-05-18T20:22:38.265Z"
   },
   {
    "duration": 0,
    "start_time": "2022-05-18T20:22:38.266Z"
   },
   {
    "duration": 0,
    "start_time": "2022-05-18T20:22:38.267Z"
   },
   {
    "duration": 0,
    "start_time": "2022-05-18T20:22:38.269Z"
   },
   {
    "duration": 0,
    "start_time": "2022-05-18T20:22:38.270Z"
   },
   {
    "duration": 1325,
    "start_time": "2022-05-18T20:32:27.280Z"
   },
   {
    "duration": 1172,
    "start_time": "2022-05-18T20:32:56.833Z"
   },
   {
    "duration": 644,
    "start_time": "2022-05-18T20:38:19.578Z"
   },
   {
    "duration": 3,
    "start_time": "2022-05-18T20:38:30.469Z"
   },
   {
    "duration": 480,
    "start_time": "2022-05-18T20:38:30.473Z"
   },
   {
    "duration": 11,
    "start_time": "2022-05-18T20:38:30.955Z"
   },
   {
    "duration": 30,
    "start_time": "2022-05-18T20:38:30.967Z"
   },
   {
    "duration": 7,
    "start_time": "2022-05-18T20:38:31.000Z"
   },
   {
    "duration": 19,
    "start_time": "2022-05-18T20:38:31.009Z"
   },
   {
    "duration": 6,
    "start_time": "2022-05-18T20:38:31.029Z"
   },
   {
    "duration": 39,
    "start_time": "2022-05-18T20:38:31.036Z"
   },
   {
    "duration": 41,
    "start_time": "2022-05-18T20:38:31.076Z"
   },
   {
    "duration": 21,
    "start_time": "2022-05-18T20:38:31.118Z"
   },
   {
    "duration": 29,
    "start_time": "2022-05-18T20:38:31.141Z"
   },
   {
    "duration": 33,
    "start_time": "2022-05-18T20:38:31.172Z"
   },
   {
    "duration": 27,
    "start_time": "2022-05-18T20:38:31.207Z"
   },
   {
    "duration": 7,
    "start_time": "2022-05-18T20:38:31.236Z"
   },
   {
    "duration": 57,
    "start_time": "2022-05-18T20:38:31.244Z"
   },
   {
    "duration": 14,
    "start_time": "2022-05-18T20:38:31.303Z"
   },
   {
    "duration": 19,
    "start_time": "2022-05-18T20:38:31.319Z"
   },
   {
    "duration": 15,
    "start_time": "2022-05-18T20:38:31.340Z"
   },
   {
    "duration": 45,
    "start_time": "2022-05-18T20:38:31.357Z"
   },
   {
    "duration": 8,
    "start_time": "2022-05-18T20:38:31.403Z"
   },
   {
    "duration": 31,
    "start_time": "2022-05-18T20:38:31.414Z"
   },
   {
    "duration": 17,
    "start_time": "2022-05-18T20:38:31.447Z"
   },
   {
    "duration": 31,
    "start_time": "2022-05-18T20:38:31.466Z"
   },
   {
    "duration": 6,
    "start_time": "2022-05-18T20:38:31.499Z"
   },
   {
    "duration": 25,
    "start_time": "2022-05-18T20:38:31.508Z"
   },
   {
    "duration": 19,
    "start_time": "2022-05-18T20:38:31.534Z"
   },
   {
    "duration": 60,
    "start_time": "2022-05-18T20:38:31.555Z"
   },
   {
    "duration": 30,
    "start_time": "2022-05-18T20:38:31.616Z"
   },
   {
    "duration": 17,
    "start_time": "2022-05-18T20:38:31.650Z"
   },
   {
    "duration": 9,
    "start_time": "2022-05-18T20:38:31.683Z"
   },
   {
    "duration": 26,
    "start_time": "2022-05-18T20:38:31.693Z"
   },
   {
    "duration": 21,
    "start_time": "2022-05-18T20:38:31.721Z"
   },
   {
    "duration": 6,
    "start_time": "2022-05-18T20:38:31.744Z"
   },
   {
    "duration": 8,
    "start_time": "2022-05-18T20:38:31.752Z"
   },
   {
    "duration": 11,
    "start_time": "2022-05-18T20:38:31.762Z"
   },
   {
    "duration": 14,
    "start_time": "2022-05-18T20:38:31.775Z"
   },
   {
    "duration": 10,
    "start_time": "2022-05-18T20:38:31.791Z"
   },
   {
    "duration": 141,
    "start_time": "2022-05-18T20:38:31.803Z"
   },
   {
    "duration": 51,
    "start_time": "2022-05-18T20:38:31.946Z"
   },
   {
    "duration": 263,
    "start_time": "2022-05-18T20:38:31.999Z"
   },
   {
    "duration": 268,
    "start_time": "2022-05-18T20:38:32.263Z"
   },
   {
    "duration": 281,
    "start_time": "2022-05-18T20:38:32.533Z"
   },
   {
    "duration": 248,
    "start_time": "2022-05-18T20:38:32.816Z"
   },
   {
    "duration": 199,
    "start_time": "2022-05-18T20:38:33.066Z"
   },
   {
    "duration": 1184,
    "start_time": "2022-05-18T20:38:33.267Z"
   },
   {
    "duration": 58,
    "start_time": "2022-05-18T20:38:34.453Z"
   },
   {
    "duration": 1158,
    "start_time": "2022-05-18T20:38:34.513Z"
   },
   {
    "duration": 0,
    "start_time": "2022-05-18T20:38:35.674Z"
   },
   {
    "duration": 0,
    "start_time": "2022-05-18T20:38:35.676Z"
   },
   {
    "duration": 0,
    "start_time": "2022-05-18T20:38:35.677Z"
   },
   {
    "duration": 0,
    "start_time": "2022-05-18T20:38:35.679Z"
   },
   {
    "duration": 0,
    "start_time": "2022-05-18T20:38:35.681Z"
   },
   {
    "duration": 0,
    "start_time": "2022-05-18T20:38:35.682Z"
   },
   {
    "duration": 0,
    "start_time": "2022-05-18T20:38:35.684Z"
   },
   {
    "duration": 658,
    "start_time": "2022-05-18T20:39:19.531Z"
   },
   {
    "duration": 654,
    "start_time": "2022-05-18T20:39:31.331Z"
   },
   {
    "duration": 267,
    "start_time": "2022-05-18T20:39:55.366Z"
   },
   {
    "duration": 618,
    "start_time": "2022-05-18T20:41:46.954Z"
   },
   {
    "duration": 288,
    "start_time": "2022-05-18T20:49:52.270Z"
   },
   {
    "duration": 609,
    "start_time": "2022-05-18T20:51:05.518Z"
   },
   {
    "duration": 241,
    "start_time": "2022-05-18T20:51:50.566Z"
   },
   {
    "duration": 11821,
    "start_time": "2022-05-18T20:55:07.101Z"
   },
   {
    "duration": 340,
    "start_time": "2022-05-18T20:55:41.984Z"
   },
   {
    "duration": 26,
    "start_time": "2022-05-18T20:57:23.626Z"
   },
   {
    "duration": 147,
    "start_time": "2022-05-18T20:57:32.010Z"
   },
   {
    "duration": 26,
    "start_time": "2022-05-18T20:58:50.303Z"
   },
   {
    "duration": 304,
    "start_time": "2022-05-18T20:58:57.845Z"
   },
   {
    "duration": 27,
    "start_time": "2022-05-18T20:59:11.787Z"
   },
   {
    "duration": 771,
    "start_time": "2022-05-18T20:59:15.963Z"
   },
   {
    "duration": 27,
    "start_time": "2022-05-18T20:59:29.516Z"
   },
   {
    "duration": 270,
    "start_time": "2022-05-18T21:00:37.234Z"
   },
   {
    "duration": 590,
    "start_time": "2022-05-18T21:00:44.336Z"
   },
   {
    "duration": 250,
    "start_time": "2022-05-18T21:00:46.052Z"
   },
   {
    "duration": 255,
    "start_time": "2022-05-18T21:00:46.603Z"
   },
   {
    "duration": 164,
    "start_time": "2022-05-18T21:00:50.402Z"
   },
   {
    "duration": 954,
    "start_time": "2022-05-18T21:03:12.095Z"
   },
   {
    "duration": 920,
    "start_time": "2022-05-18T21:03:25.753Z"
   },
   {
    "duration": 946,
    "start_time": "2022-05-18T21:03:50.412Z"
   },
   {
    "duration": 5,
    "start_time": "2022-05-18T21:04:58.531Z"
   },
   {
    "duration": 3,
    "start_time": "2022-05-18T21:24:22.321Z"
   },
   {
    "duration": 439,
    "start_time": "2022-05-18T21:24:22.328Z"
   },
   {
    "duration": 15,
    "start_time": "2022-05-18T21:24:22.769Z"
   },
   {
    "duration": 15,
    "start_time": "2022-05-18T21:24:22.785Z"
   },
   {
    "duration": 12,
    "start_time": "2022-05-18T21:24:22.803Z"
   },
   {
    "duration": 9,
    "start_time": "2022-05-18T21:24:22.816Z"
   },
   {
    "duration": 5,
    "start_time": "2022-05-18T21:24:22.827Z"
   },
   {
    "duration": 19,
    "start_time": "2022-05-18T21:24:22.833Z"
   },
   {
    "duration": 38,
    "start_time": "2022-05-18T21:24:22.854Z"
   },
   {
    "duration": 20,
    "start_time": "2022-05-18T21:24:22.893Z"
   },
   {
    "duration": 32,
    "start_time": "2022-05-18T21:24:22.915Z"
   },
   {
    "duration": 41,
    "start_time": "2022-05-18T21:24:22.949Z"
   },
   {
    "duration": 28,
    "start_time": "2022-05-18T21:24:22.993Z"
   },
   {
    "duration": 7,
    "start_time": "2022-05-18T21:24:23.024Z"
   },
   {
    "duration": 30,
    "start_time": "2022-05-18T21:24:23.032Z"
   },
   {
    "duration": 16,
    "start_time": "2022-05-18T21:24:23.083Z"
   },
   {
    "duration": 22,
    "start_time": "2022-05-18T21:24:23.100Z"
   },
   {
    "duration": 15,
    "start_time": "2022-05-18T21:24:23.124Z"
   },
   {
    "duration": 51,
    "start_time": "2022-05-18T21:24:23.141Z"
   },
   {
    "duration": 8,
    "start_time": "2022-05-18T21:24:23.193Z"
   },
   {
    "duration": 33,
    "start_time": "2022-05-18T21:24:23.203Z"
   },
   {
    "duration": 18,
    "start_time": "2022-05-18T21:24:23.238Z"
   },
   {
    "duration": 27,
    "start_time": "2022-05-18T21:24:23.258Z"
   },
   {
    "duration": 7,
    "start_time": "2022-05-18T21:24:23.287Z"
   },
   {
    "duration": 23,
    "start_time": "2022-05-18T21:24:23.296Z"
   },
   {
    "duration": 16,
    "start_time": "2022-05-18T21:24:23.321Z"
   },
   {
    "duration": 50,
    "start_time": "2022-05-18T21:24:23.339Z"
   },
   {
    "duration": 27,
    "start_time": "2022-05-18T21:24:23.391Z"
   },
   {
    "duration": 16,
    "start_time": "2022-05-18T21:24:23.421Z"
   },
   {
    "duration": 4,
    "start_time": "2022-05-18T21:24:23.439Z"
   },
   {
    "duration": 10,
    "start_time": "2022-05-18T21:24:23.444Z"
   },
   {
    "duration": 42,
    "start_time": "2022-05-18T21:24:23.455Z"
   },
   {
    "duration": 8,
    "start_time": "2022-05-18T21:24:23.498Z"
   },
   {
    "duration": 10,
    "start_time": "2022-05-18T21:24:23.507Z"
   },
   {
    "duration": 5,
    "start_time": "2022-05-18T21:24:23.519Z"
   },
   {
    "duration": 8,
    "start_time": "2022-05-18T21:24:23.525Z"
   },
   {
    "duration": 5,
    "start_time": "2022-05-18T21:24:23.534Z"
   },
   {
    "duration": 147,
    "start_time": "2022-05-18T21:24:23.541Z"
   },
   {
    "duration": 26,
    "start_time": "2022-05-18T21:24:23.690Z"
   },
   {
    "duration": 260,
    "start_time": "2022-05-18T21:24:23.718Z"
   },
   {
    "duration": 236,
    "start_time": "2022-05-18T21:24:23.983Z"
   },
   {
    "duration": 247,
    "start_time": "2022-05-18T21:24:24.221Z"
   },
   {
    "duration": 241,
    "start_time": "2022-05-18T21:24:24.470Z"
   },
   {
    "duration": 174,
    "start_time": "2022-05-18T21:24:24.713Z"
   },
   {
    "duration": 1391,
    "start_time": "2022-05-18T21:24:24.888Z"
   },
   {
    "duration": 40,
    "start_time": "2022-05-18T21:24:26.283Z"
   },
   {
    "duration": 8,
    "start_time": "2022-05-18T21:24:26.324Z"
   },
   {
    "duration": 11,
    "start_time": "2022-05-18T21:24:26.334Z"
   },
   {
    "duration": 1335,
    "start_time": "2022-05-19T17:15:48.048Z"
   },
   {
    "duration": 1280,
    "start_time": "2022-05-19T17:15:49.385Z"
   },
   {
    "duration": 14,
    "start_time": "2022-05-19T17:15:50.667Z"
   },
   {
    "duration": 15,
    "start_time": "2022-05-19T17:15:50.683Z"
   },
   {
    "duration": 13,
    "start_time": "2022-05-19T17:15:50.699Z"
   },
   {
    "duration": 11,
    "start_time": "2022-05-19T17:15:50.714Z"
   },
   {
    "duration": 5,
    "start_time": "2022-05-19T17:15:50.727Z"
   },
   {
    "duration": 10,
    "start_time": "2022-05-19T17:15:50.734Z"
   },
   {
    "duration": 28,
    "start_time": "2022-05-19T17:15:50.746Z"
   },
   {
    "duration": 36,
    "start_time": "2022-05-19T17:15:50.776Z"
   },
   {
    "duration": 32,
    "start_time": "2022-05-19T17:15:50.814Z"
   },
   {
    "duration": 24,
    "start_time": "2022-05-19T17:15:50.847Z"
   },
   {
    "duration": 50,
    "start_time": "2022-05-19T17:15:50.873Z"
   },
   {
    "duration": 8,
    "start_time": "2022-05-19T17:15:50.924Z"
   },
   {
    "duration": 34,
    "start_time": "2022-05-19T17:15:50.933Z"
   },
   {
    "duration": 14,
    "start_time": "2022-05-19T17:15:50.969Z"
   },
   {
    "duration": 25,
    "start_time": "2022-05-19T17:15:50.995Z"
   },
   {
    "duration": 18,
    "start_time": "2022-05-19T17:15:51.022Z"
   },
   {
    "duration": 34,
    "start_time": "2022-05-19T17:15:51.042Z"
   },
   {
    "duration": 25,
    "start_time": "2022-05-19T17:15:51.077Z"
   },
   {
    "duration": 23,
    "start_time": "2022-05-19T17:15:51.105Z"
   },
   {
    "duration": 19,
    "start_time": "2022-05-19T17:15:51.130Z"
   },
   {
    "duration": 7,
    "start_time": "2022-05-19T17:15:51.151Z"
   },
   {
    "duration": 37,
    "start_time": "2022-05-19T17:15:51.160Z"
   },
   {
    "duration": 32,
    "start_time": "2022-05-19T17:15:51.198Z"
   },
   {
    "duration": 17,
    "start_time": "2022-05-19T17:15:51.232Z"
   },
   {
    "duration": 45,
    "start_time": "2022-05-19T17:15:51.251Z"
   },
   {
    "duration": 104,
    "start_time": "2022-05-19T17:15:51.299Z"
   },
   {
    "duration": 16,
    "start_time": "2022-05-19T17:15:51.405Z"
   },
   {
    "duration": 6,
    "start_time": "2022-05-19T17:15:51.423Z"
   },
   {
    "duration": 12,
    "start_time": "2022-05-19T17:15:51.431Z"
   },
   {
    "duration": 24,
    "start_time": "2022-05-19T17:15:51.444Z"
   },
   {
    "duration": 26,
    "start_time": "2022-05-19T17:15:51.470Z"
   },
   {
    "duration": 7,
    "start_time": "2022-05-19T17:15:51.497Z"
   },
   {
    "duration": 9,
    "start_time": "2022-05-19T17:15:51.505Z"
   },
   {
    "duration": 18,
    "start_time": "2022-05-19T17:15:51.515Z"
   },
   {
    "duration": 6,
    "start_time": "2022-05-19T17:15:51.535Z"
   },
   {
    "duration": 152,
    "start_time": "2022-05-19T17:15:51.542Z"
   },
   {
    "duration": 32,
    "start_time": "2022-05-19T17:15:51.696Z"
   },
   {
    "duration": 289,
    "start_time": "2022-05-19T17:15:51.730Z"
   },
   {
    "duration": 277,
    "start_time": "2022-05-19T17:15:52.021Z"
   },
   {
    "duration": 273,
    "start_time": "2022-05-19T17:15:52.300Z"
   },
   {
    "duration": 264,
    "start_time": "2022-05-19T17:15:52.575Z"
   },
   {
    "duration": 191,
    "start_time": "2022-05-19T17:15:52.841Z"
   },
   {
    "duration": 1093,
    "start_time": "2022-05-19T17:15:53.034Z"
   },
   {
    "duration": 39,
    "start_time": "2022-05-19T17:15:54.129Z"
   },
   {
    "duration": 8,
    "start_time": "2022-05-19T17:15:54.170Z"
   },
   {
    "duration": 11,
    "start_time": "2022-05-19T17:15:54.194Z"
   },
   {
    "duration": 128,
    "start_time": "2022-05-19T17:17:56.534Z"
   },
   {
    "duration": 25,
    "start_time": "2022-05-19T17:18:01.793Z"
   },
   {
    "duration": 11,
    "start_time": "2022-05-19T17:18:19.373Z"
   },
   {
    "duration": 1125,
    "start_time": "2022-05-19T17:23:43.716Z"
   },
   {
    "duration": 1054,
    "start_time": "2022-05-19T17:24:05.567Z"
   },
   {
    "duration": 5,
    "start_time": "2022-05-19T17:24:58.783Z"
   },
   {
    "duration": 1122,
    "start_time": "2022-05-19T17:25:07.515Z"
   },
   {
    "duration": 1129,
    "start_time": "2022-05-19T17:26:03.233Z"
   },
   {
    "duration": 1052,
    "start_time": "2022-05-19T17:26:38.304Z"
   },
   {
    "duration": 1269,
    "start_time": "2022-05-19T17:26:56.330Z"
   },
   {
    "duration": 1157,
    "start_time": "2022-05-19T17:27:04.463Z"
   },
   {
    "duration": 1384,
    "start_time": "2022-05-19T17:27:27.760Z"
   },
   {
    "duration": 1056,
    "start_time": "2022-05-19T17:28:10.649Z"
   },
   {
    "duration": 56,
    "start_time": "2022-05-19T17:36:49.756Z"
   },
   {
    "duration": 1425,
    "start_time": "2022-05-19T17:36:52.638Z"
   },
   {
    "duration": 1316,
    "start_time": "2022-05-19T17:36:54.065Z"
   },
   {
    "duration": 14,
    "start_time": "2022-05-19T17:36:55.383Z"
   },
   {
    "duration": 11,
    "start_time": "2022-05-19T17:36:55.399Z"
   },
   {
    "duration": 8,
    "start_time": "2022-05-19T17:36:55.412Z"
   },
   {
    "duration": 8,
    "start_time": "2022-05-19T17:36:55.421Z"
   },
   {
    "duration": 5,
    "start_time": "2022-05-19T17:36:55.430Z"
   },
   {
    "duration": 10,
    "start_time": "2022-05-19T17:36:55.436Z"
   },
   {
    "duration": 45,
    "start_time": "2022-05-19T17:36:55.448Z"
   },
   {
    "duration": 19,
    "start_time": "2022-05-19T17:36:55.495Z"
   },
   {
    "duration": 29,
    "start_time": "2022-05-19T17:36:55.516Z"
   },
   {
    "duration": 41,
    "start_time": "2022-05-19T17:36:55.547Z"
   },
   {
    "duration": 5,
    "start_time": "2022-05-19T17:36:55.590Z"
   },
   {
    "duration": 63,
    "start_time": "2022-05-19T17:36:55.596Z"
   },
   {
    "duration": 0,
    "start_time": "2022-05-19T17:36:55.675Z"
   },
   {
    "duration": 0,
    "start_time": "2022-05-19T17:36:55.676Z"
   },
   {
    "duration": 0,
    "start_time": "2022-05-19T17:36:55.677Z"
   },
   {
    "duration": 0,
    "start_time": "2022-05-19T17:36:55.679Z"
   },
   {
    "duration": 0,
    "start_time": "2022-05-19T17:36:55.680Z"
   },
   {
    "duration": 0,
    "start_time": "2022-05-19T17:36:55.681Z"
   },
   {
    "duration": 0,
    "start_time": "2022-05-19T17:36:55.682Z"
   },
   {
    "duration": 0,
    "start_time": "2022-05-19T17:36:55.683Z"
   },
   {
    "duration": 0,
    "start_time": "2022-05-19T17:36:55.684Z"
   },
   {
    "duration": 0,
    "start_time": "2022-05-19T17:36:55.685Z"
   },
   {
    "duration": 0,
    "start_time": "2022-05-19T17:36:55.686Z"
   },
   {
    "duration": 0,
    "start_time": "2022-05-19T17:36:55.687Z"
   },
   {
    "duration": 0,
    "start_time": "2022-05-19T17:36:55.688Z"
   },
   {
    "duration": 0,
    "start_time": "2022-05-19T17:36:55.690Z"
   },
   {
    "duration": 0,
    "start_time": "2022-05-19T17:36:55.691Z"
   },
   {
    "duration": 0,
    "start_time": "2022-05-19T17:36:55.692Z"
   },
   {
    "duration": 0,
    "start_time": "2022-05-19T17:36:55.692Z"
   },
   {
    "duration": 0,
    "start_time": "2022-05-19T17:36:55.693Z"
   },
   {
    "duration": 0,
    "start_time": "2022-05-19T17:36:55.695Z"
   },
   {
    "duration": 0,
    "start_time": "2022-05-19T17:36:55.696Z"
   },
   {
    "duration": 0,
    "start_time": "2022-05-19T17:36:55.697Z"
   },
   {
    "duration": 0,
    "start_time": "2022-05-19T17:36:55.698Z"
   },
   {
    "duration": 0,
    "start_time": "2022-05-19T17:36:55.700Z"
   },
   {
    "duration": 0,
    "start_time": "2022-05-19T17:36:55.701Z"
   },
   {
    "duration": 0,
    "start_time": "2022-05-19T17:36:55.702Z"
   },
   {
    "duration": 0,
    "start_time": "2022-05-19T17:36:55.703Z"
   },
   {
    "duration": 0,
    "start_time": "2022-05-19T17:36:55.706Z"
   },
   {
    "duration": 0,
    "start_time": "2022-05-19T17:36:55.707Z"
   },
   {
    "duration": 0,
    "start_time": "2022-05-19T17:36:55.709Z"
   },
   {
    "duration": 0,
    "start_time": "2022-05-19T17:36:55.710Z"
   },
   {
    "duration": 0,
    "start_time": "2022-05-19T17:36:55.711Z"
   },
   {
    "duration": 0,
    "start_time": "2022-05-19T17:36:55.713Z"
   },
   {
    "duration": 0,
    "start_time": "2022-05-19T17:36:55.714Z"
   },
   {
    "duration": 0,
    "start_time": "2022-05-19T17:36:55.716Z"
   },
   {
    "duration": 0,
    "start_time": "2022-05-19T17:36:55.775Z"
   },
   {
    "duration": 0,
    "start_time": "2022-05-19T17:36:55.777Z"
   },
   {
    "duration": 5,
    "start_time": "2022-05-19T17:37:20.365Z"
   },
   {
    "duration": 14,
    "start_time": "2022-05-19T17:37:34.201Z"
   },
   {
    "duration": 12,
    "start_time": "2022-05-19T17:38:03.074Z"
   },
   {
    "duration": 4,
    "start_time": "2022-05-19T17:38:06.716Z"
   },
   {
    "duration": 465,
    "start_time": "2022-05-19T17:38:06.722Z"
   },
   {
    "duration": 10,
    "start_time": "2022-05-19T17:38:07.188Z"
   },
   {
    "duration": 13,
    "start_time": "2022-05-19T17:38:07.199Z"
   },
   {
    "duration": 7,
    "start_time": "2022-05-19T17:38:07.214Z"
   },
   {
    "duration": 8,
    "start_time": "2022-05-19T17:38:07.223Z"
   },
   {
    "duration": 4,
    "start_time": "2022-05-19T17:38:07.232Z"
   },
   {
    "duration": 44,
    "start_time": "2022-05-19T17:38:07.238Z"
   },
   {
    "duration": 27,
    "start_time": "2022-05-19T17:38:07.284Z"
   },
   {
    "duration": 20,
    "start_time": "2022-05-19T17:38:07.313Z"
   },
   {
    "duration": 55,
    "start_time": "2022-05-19T17:38:07.335Z"
   },
   {
    "duration": 22,
    "start_time": "2022-05-19T17:38:07.392Z"
   },
   {
    "duration": 5,
    "start_time": "2022-05-19T17:38:07.416Z"
   },
   {
    "duration": 13,
    "start_time": "2022-05-19T17:38:07.423Z"
   },
   {
    "duration": 0,
    "start_time": "2022-05-19T17:38:07.438Z"
   },
   {
    "duration": 0,
    "start_time": "2022-05-19T17:38:07.439Z"
   },
   {
    "duration": 0,
    "start_time": "2022-05-19T17:38:07.441Z"
   },
   {
    "duration": 0,
    "start_time": "2022-05-19T17:38:07.442Z"
   },
   {
    "duration": 0,
    "start_time": "2022-05-19T17:38:07.443Z"
   },
   {
    "duration": 0,
    "start_time": "2022-05-19T17:38:07.444Z"
   },
   {
    "duration": 0,
    "start_time": "2022-05-19T17:38:07.445Z"
   },
   {
    "duration": 0,
    "start_time": "2022-05-19T17:38:07.475Z"
   },
   {
    "duration": 0,
    "start_time": "2022-05-19T17:38:07.477Z"
   },
   {
    "duration": 0,
    "start_time": "2022-05-19T17:38:07.478Z"
   },
   {
    "duration": 0,
    "start_time": "2022-05-19T17:38:07.479Z"
   },
   {
    "duration": 0,
    "start_time": "2022-05-19T17:38:07.480Z"
   },
   {
    "duration": 0,
    "start_time": "2022-05-19T17:38:07.481Z"
   },
   {
    "duration": 0,
    "start_time": "2022-05-19T17:38:07.482Z"
   },
   {
    "duration": 0,
    "start_time": "2022-05-19T17:38:07.483Z"
   },
   {
    "duration": 0,
    "start_time": "2022-05-19T17:38:07.484Z"
   },
   {
    "duration": 0,
    "start_time": "2022-05-19T17:38:07.485Z"
   },
   {
    "duration": 0,
    "start_time": "2022-05-19T17:38:07.486Z"
   },
   {
    "duration": 0,
    "start_time": "2022-05-19T17:38:07.487Z"
   },
   {
    "duration": 0,
    "start_time": "2022-05-19T17:38:07.488Z"
   },
   {
    "duration": 0,
    "start_time": "2022-05-19T17:38:07.489Z"
   },
   {
    "duration": 0,
    "start_time": "2022-05-19T17:38:07.490Z"
   },
   {
    "duration": 0,
    "start_time": "2022-05-19T17:38:07.491Z"
   },
   {
    "duration": 0,
    "start_time": "2022-05-19T17:38:07.492Z"
   },
   {
    "duration": 0,
    "start_time": "2022-05-19T17:38:07.493Z"
   },
   {
    "duration": 0,
    "start_time": "2022-05-19T17:38:07.494Z"
   },
   {
    "duration": 0,
    "start_time": "2022-05-19T17:38:07.495Z"
   },
   {
    "duration": 0,
    "start_time": "2022-05-19T17:38:07.496Z"
   },
   {
    "duration": 0,
    "start_time": "2022-05-19T17:38:07.497Z"
   },
   {
    "duration": 0,
    "start_time": "2022-05-19T17:38:07.498Z"
   },
   {
    "duration": 0,
    "start_time": "2022-05-19T17:38:07.499Z"
   },
   {
    "duration": 0,
    "start_time": "2022-05-19T17:38:07.500Z"
   },
   {
    "duration": 0,
    "start_time": "2022-05-19T17:38:07.501Z"
   },
   {
    "duration": 0,
    "start_time": "2022-05-19T17:38:07.501Z"
   },
   {
    "duration": 0,
    "start_time": "2022-05-19T17:38:07.503Z"
   },
   {
    "duration": 0,
    "start_time": "2022-05-19T17:38:07.503Z"
   },
   {
    "duration": 14,
    "start_time": "2022-05-19T17:38:41.783Z"
   },
   {
    "duration": 11,
    "start_time": "2022-05-19T17:41:34.431Z"
   },
   {
    "duration": 4,
    "start_time": "2022-05-19T17:41:51.130Z"
   },
   {
    "duration": 428,
    "start_time": "2022-05-19T17:41:51.137Z"
   },
   {
    "duration": 13,
    "start_time": "2022-05-19T17:41:51.567Z"
   },
   {
    "duration": 16,
    "start_time": "2022-05-19T17:41:51.582Z"
   },
   {
    "duration": 10,
    "start_time": "2022-05-19T17:41:51.601Z"
   },
   {
    "duration": 8,
    "start_time": "2022-05-19T17:41:51.613Z"
   },
   {
    "duration": 7,
    "start_time": "2022-05-19T17:41:51.623Z"
   },
   {
    "duration": 12,
    "start_time": "2022-05-19T17:41:51.631Z"
   },
   {
    "duration": 50,
    "start_time": "2022-05-19T17:41:51.645Z"
   },
   {
    "duration": 18,
    "start_time": "2022-05-19T17:41:51.697Z"
   },
   {
    "duration": 27,
    "start_time": "2022-05-19T17:41:51.718Z"
   },
   {
    "duration": 39,
    "start_time": "2022-05-19T17:41:51.747Z"
   },
   {
    "duration": 5,
    "start_time": "2022-05-19T17:41:51.787Z"
   },
   {
    "duration": 12,
    "start_time": "2022-05-19T17:41:51.794Z"
   },
   {
    "duration": 0,
    "start_time": "2022-05-19T17:41:51.808Z"
   },
   {
    "duration": 0,
    "start_time": "2022-05-19T17:41:51.809Z"
   },
   {
    "duration": 0,
    "start_time": "2022-05-19T17:41:51.810Z"
   },
   {
    "duration": 0,
    "start_time": "2022-05-19T17:41:51.812Z"
   },
   {
    "duration": 0,
    "start_time": "2022-05-19T17:41:51.813Z"
   },
   {
    "duration": 0,
    "start_time": "2022-05-19T17:41:51.814Z"
   },
   {
    "duration": 0,
    "start_time": "2022-05-19T17:41:51.815Z"
   },
   {
    "duration": 0,
    "start_time": "2022-05-19T17:41:51.816Z"
   },
   {
    "duration": 0,
    "start_time": "2022-05-19T17:41:51.817Z"
   },
   {
    "duration": 0,
    "start_time": "2022-05-19T17:41:51.818Z"
   },
   {
    "duration": 0,
    "start_time": "2022-05-19T17:41:51.819Z"
   },
   {
    "duration": 0,
    "start_time": "2022-05-19T17:41:51.820Z"
   },
   {
    "duration": 0,
    "start_time": "2022-05-19T17:41:51.821Z"
   },
   {
    "duration": 0,
    "start_time": "2022-05-19T17:41:51.822Z"
   },
   {
    "duration": 0,
    "start_time": "2022-05-19T17:41:51.824Z"
   },
   {
    "duration": 0,
    "start_time": "2022-05-19T17:41:51.825Z"
   },
   {
    "duration": 0,
    "start_time": "2022-05-19T17:41:51.826Z"
   },
   {
    "duration": 0,
    "start_time": "2022-05-19T17:41:51.827Z"
   },
   {
    "duration": 0,
    "start_time": "2022-05-19T17:41:51.874Z"
   },
   {
    "duration": 0,
    "start_time": "2022-05-19T17:41:51.876Z"
   },
   {
    "duration": 0,
    "start_time": "2022-05-19T17:41:51.877Z"
   },
   {
    "duration": 0,
    "start_time": "2022-05-19T17:41:51.878Z"
   },
   {
    "duration": 0,
    "start_time": "2022-05-19T17:41:51.880Z"
   },
   {
    "duration": 0,
    "start_time": "2022-05-19T17:41:51.881Z"
   },
   {
    "duration": 0,
    "start_time": "2022-05-19T17:41:51.882Z"
   },
   {
    "duration": 0,
    "start_time": "2022-05-19T17:41:51.884Z"
   },
   {
    "duration": 0,
    "start_time": "2022-05-19T17:41:51.885Z"
   },
   {
    "duration": 0,
    "start_time": "2022-05-19T17:41:51.886Z"
   },
   {
    "duration": 0,
    "start_time": "2022-05-19T17:41:51.888Z"
   },
   {
    "duration": 0,
    "start_time": "2022-05-19T17:41:51.889Z"
   },
   {
    "duration": 0,
    "start_time": "2022-05-19T17:41:51.890Z"
   },
   {
    "duration": 0,
    "start_time": "2022-05-19T17:41:51.891Z"
   },
   {
    "duration": 0,
    "start_time": "2022-05-19T17:41:51.892Z"
   },
   {
    "duration": 0,
    "start_time": "2022-05-19T17:41:51.894Z"
   },
   {
    "duration": 0,
    "start_time": "2022-05-19T17:41:51.895Z"
   },
   {
    "duration": 0,
    "start_time": "2022-05-19T17:41:51.896Z"
   },
   {
    "duration": 5,
    "start_time": "2022-05-19T17:42:33.226Z"
   },
   {
    "duration": 14,
    "start_time": "2022-05-19T17:42:41.724Z"
   },
   {
    "duration": 13,
    "start_time": "2022-05-19T17:42:51.365Z"
   },
   {
    "duration": 3,
    "start_time": "2022-05-19T17:42:59.321Z"
   },
   {
    "duration": 407,
    "start_time": "2022-05-19T17:42:59.327Z"
   },
   {
    "duration": 11,
    "start_time": "2022-05-19T17:42:59.736Z"
   },
   {
    "duration": 12,
    "start_time": "2022-05-19T17:42:59.748Z"
   },
   {
    "duration": 6,
    "start_time": "2022-05-19T17:42:59.774Z"
   },
   {
    "duration": 14,
    "start_time": "2022-05-19T17:42:59.781Z"
   },
   {
    "duration": 9,
    "start_time": "2022-05-19T17:42:59.796Z"
   },
   {
    "duration": 14,
    "start_time": "2022-05-19T17:42:59.807Z"
   },
   {
    "duration": 28,
    "start_time": "2022-05-19T17:42:59.823Z"
   },
   {
    "duration": 38,
    "start_time": "2022-05-19T17:42:59.853Z"
   },
   {
    "duration": 29,
    "start_time": "2022-05-19T17:42:59.892Z"
   },
   {
    "duration": 27,
    "start_time": "2022-05-19T17:42:59.924Z"
   },
   {
    "duration": 4,
    "start_time": "2022-05-19T17:43:18.520Z"
   },
   {
    "duration": 9,
    "start_time": "2022-05-19T17:43:20.463Z"
   },
   {
    "duration": 342,
    "start_time": "2022-05-19T17:43:22.011Z"
   },
   {
    "duration": 5,
    "start_time": "2022-05-19T17:46:42.464Z"
   },
   {
    "duration": 8,
    "start_time": "2022-05-19T17:46:54.175Z"
   },
   {
    "duration": 28,
    "start_time": "2022-05-19T17:46:55.612Z"
   },
   {
    "duration": 22,
    "start_time": "2022-05-19T17:46:56.386Z"
   },
   {
    "duration": 28,
    "start_time": "2022-05-19T17:46:57.055Z"
   },
   {
    "duration": 19,
    "start_time": "2022-05-19T17:46:58.764Z"
   },
   {
    "duration": 33,
    "start_time": "2022-05-19T17:46:59.392Z"
   },
   {
    "duration": 9,
    "start_time": "2022-05-19T17:47:01.587Z"
   },
   {
    "duration": 23,
    "start_time": "2022-05-19T17:47:02.212Z"
   },
   {
    "duration": 19,
    "start_time": "2022-05-19T17:47:03.281Z"
   },
   {
    "duration": 7,
    "start_time": "2022-05-19T17:47:05.048Z"
   },
   {
    "duration": 38,
    "start_time": "2022-05-19T17:48:02.048Z"
   },
   {
    "duration": 21,
    "start_time": "2022-05-19T17:48:02.578Z"
   },
   {
    "duration": 47,
    "start_time": "2022-05-19T17:48:03.162Z"
   },
   {
    "duration": 606,
    "start_time": "2022-05-19T17:48:19.098Z"
   },
   {
    "duration": 633,
    "start_time": "2022-05-19T17:48:55.450Z"
   },
   {
    "duration": 12,
    "start_time": "2022-05-19T17:48:59.542Z"
   },
   {
    "duration": 4,
    "start_time": "2022-05-19T17:49:03.301Z"
   },
   {
    "duration": 494,
    "start_time": "2022-05-19T17:49:03.307Z"
   },
   {
    "duration": 11,
    "start_time": "2022-05-19T17:49:03.803Z"
   },
   {
    "duration": 12,
    "start_time": "2022-05-19T17:49:03.816Z"
   },
   {
    "duration": 8,
    "start_time": "2022-05-19T17:49:03.831Z"
   },
   {
    "duration": 8,
    "start_time": "2022-05-19T17:49:03.841Z"
   },
   {
    "duration": 4,
    "start_time": "2022-05-19T17:49:03.851Z"
   },
   {
    "duration": 10,
    "start_time": "2022-05-19T17:49:03.875Z"
   },
   {
    "duration": 40,
    "start_time": "2022-05-19T17:49:03.886Z"
   },
   {
    "duration": 53,
    "start_time": "2022-05-19T17:49:03.928Z"
   },
   {
    "duration": 31,
    "start_time": "2022-05-19T17:49:03.983Z"
   },
   {
    "duration": 22,
    "start_time": "2022-05-19T17:49:04.015Z"
   },
   {
    "duration": 5,
    "start_time": "2022-05-19T17:49:04.038Z"
   },
   {
    "duration": 54,
    "start_time": "2022-05-19T17:49:04.046Z"
   },
   {
    "duration": 6,
    "start_time": "2022-05-19T17:49:04.102Z"
   },
   {
    "duration": 22,
    "start_time": "2022-05-19T17:49:04.110Z"
   },
   {
    "duration": 14,
    "start_time": "2022-05-19T17:49:04.133Z"
   },
   {
    "duration": 18,
    "start_time": "2022-05-19T17:49:04.175Z"
   },
   {
    "duration": 18,
    "start_time": "2022-05-19T17:49:04.195Z"
   },
   {
    "duration": 36,
    "start_time": "2022-05-19T17:49:04.215Z"
   },
   {
    "duration": 11,
    "start_time": "2022-05-19T17:49:04.276Z"
   },
   {
    "duration": 22,
    "start_time": "2022-05-19T17:49:04.289Z"
   },
   {
    "duration": 15,
    "start_time": "2022-05-19T17:49:04.313Z"
   },
   {
    "duration": 7,
    "start_time": "2022-05-19T17:49:04.329Z"
   },
   {
    "duration": 13,
    "start_time": "2022-05-19T17:49:07.010Z"
   },
   {
    "duration": 3,
    "start_time": "2022-05-19T17:49:15.439Z"
   },
   {
    "duration": 462,
    "start_time": "2022-05-19T17:49:15.444Z"
   },
   {
    "duration": 9,
    "start_time": "2022-05-19T17:49:15.909Z"
   },
   {
    "duration": 12,
    "start_time": "2022-05-19T17:49:15.920Z"
   },
   {
    "duration": 6,
    "start_time": "2022-05-19T17:49:15.934Z"
   },
   {
    "duration": 8,
    "start_time": "2022-05-19T17:49:15.942Z"
   },
   {
    "duration": 23,
    "start_time": "2022-05-19T17:49:15.952Z"
   },
   {
    "duration": 14,
    "start_time": "2022-05-19T17:49:15.977Z"
   },
   {
    "duration": 41,
    "start_time": "2022-05-19T17:49:15.992Z"
   },
   {
    "duration": 20,
    "start_time": "2022-05-19T17:49:16.035Z"
   },
   {
    "duration": 53,
    "start_time": "2022-05-19T17:49:16.057Z"
   },
   {
    "duration": 21,
    "start_time": "2022-05-19T17:49:16.112Z"
   },
   {
    "duration": 4,
    "start_time": "2022-05-19T17:49:16.135Z"
   },
   {
    "duration": 54,
    "start_time": "2022-05-19T17:49:16.141Z"
   },
   {
    "duration": 9,
    "start_time": "2022-05-19T17:49:16.197Z"
   },
   {
    "duration": 37,
    "start_time": "2022-05-19T17:49:16.207Z"
   },
   {
    "duration": 27,
    "start_time": "2022-05-19T17:49:16.247Z"
   },
   {
    "duration": 27,
    "start_time": "2022-05-19T17:49:16.276Z"
   },
   {
    "duration": 17,
    "start_time": "2022-05-19T17:49:16.305Z"
   },
   {
    "duration": 52,
    "start_time": "2022-05-19T17:49:16.324Z"
   },
   {
    "duration": 9,
    "start_time": "2022-05-19T17:49:16.378Z"
   },
   {
    "duration": 35,
    "start_time": "2022-05-19T17:49:16.389Z"
   },
   {
    "duration": 26,
    "start_time": "2022-05-19T17:49:16.426Z"
   },
   {
    "duration": 8,
    "start_time": "2022-05-19T17:49:16.474Z"
   },
   {
    "duration": 37,
    "start_time": "2022-05-19T17:49:16.483Z"
   },
   {
    "duration": 16,
    "start_time": "2022-05-19T17:49:16.521Z"
   },
   {
    "duration": 692,
    "start_time": "2022-05-19T17:49:16.539Z"
   },
   {
    "duration": 0,
    "start_time": "2022-05-19T17:49:17.234Z"
   },
   {
    "duration": 0,
    "start_time": "2022-05-19T17:49:17.235Z"
   },
   {
    "duration": 0,
    "start_time": "2022-05-19T17:49:17.237Z"
   },
   {
    "duration": 0,
    "start_time": "2022-05-19T17:49:17.238Z"
   },
   {
    "duration": 0,
    "start_time": "2022-05-19T17:49:17.239Z"
   },
   {
    "duration": 0,
    "start_time": "2022-05-19T17:49:17.240Z"
   },
   {
    "duration": 0,
    "start_time": "2022-05-19T17:49:17.242Z"
   },
   {
    "duration": 0,
    "start_time": "2022-05-19T17:49:17.243Z"
   },
   {
    "duration": 0,
    "start_time": "2022-05-19T17:49:17.244Z"
   },
   {
    "duration": 0,
    "start_time": "2022-05-19T17:49:17.245Z"
   },
   {
    "duration": 0,
    "start_time": "2022-05-19T17:49:17.246Z"
   },
   {
    "duration": 0,
    "start_time": "2022-05-19T17:49:17.248Z"
   },
   {
    "duration": 0,
    "start_time": "2022-05-19T17:49:17.249Z"
   },
   {
    "duration": 0,
    "start_time": "2022-05-19T17:49:17.250Z"
   },
   {
    "duration": 0,
    "start_time": "2022-05-19T17:49:17.251Z"
   },
   {
    "duration": 0,
    "start_time": "2022-05-19T17:49:17.253Z"
   },
   {
    "duration": 0,
    "start_time": "2022-05-19T17:49:17.254Z"
   },
   {
    "duration": 0,
    "start_time": "2022-05-19T17:49:17.255Z"
   },
   {
    "duration": 0,
    "start_time": "2022-05-19T17:49:17.256Z"
   },
   {
    "duration": 0,
    "start_time": "2022-05-19T17:49:17.257Z"
   },
   {
    "duration": 0,
    "start_time": "2022-05-19T17:49:17.258Z"
   },
   {
    "duration": 0,
    "start_time": "2022-05-19T17:49:17.260Z"
   },
   {
    "duration": 16,
    "start_time": "2022-05-19T17:49:27.468Z"
   },
   {
    "duration": 556,
    "start_time": "2022-05-19T17:51:58.418Z"
   },
   {
    "duration": 589,
    "start_time": "2022-05-19T17:52:39.792Z"
   },
   {
    "duration": 3,
    "start_time": "2022-05-19T17:52:53.018Z"
   },
   {
    "duration": 402,
    "start_time": "2022-05-19T17:52:53.023Z"
   },
   {
    "duration": 10,
    "start_time": "2022-05-19T17:52:53.427Z"
   },
   {
    "duration": 13,
    "start_time": "2022-05-19T17:52:53.439Z"
   },
   {
    "duration": 7,
    "start_time": "2022-05-19T17:52:53.454Z"
   },
   {
    "duration": 7,
    "start_time": "2022-05-19T17:52:53.475Z"
   },
   {
    "duration": 4,
    "start_time": "2022-05-19T17:52:53.483Z"
   },
   {
    "duration": 13,
    "start_time": "2022-05-19T17:52:53.489Z"
   },
   {
    "duration": 26,
    "start_time": "2022-05-19T17:52:53.504Z"
   },
   {
    "duration": 20,
    "start_time": "2022-05-19T17:52:53.531Z"
   },
   {
    "duration": 45,
    "start_time": "2022-05-19T17:52:53.575Z"
   },
   {
    "duration": 26,
    "start_time": "2022-05-19T17:52:53.622Z"
   },
   {
    "duration": 4,
    "start_time": "2022-05-19T17:52:53.649Z"
   },
   {
    "duration": 31,
    "start_time": "2022-05-19T17:52:53.674Z"
   },
   {
    "duration": 7,
    "start_time": "2022-05-19T17:52:53.706Z"
   },
   {
    "duration": 30,
    "start_time": "2022-05-19T17:52:53.715Z"
   },
   {
    "duration": 33,
    "start_time": "2022-05-19T17:52:53.747Z"
   },
   {
    "duration": 17,
    "start_time": "2022-05-19T17:52:53.782Z"
   },
   {
    "duration": 13,
    "start_time": "2022-05-19T17:52:53.801Z"
   },
   {
    "duration": 36,
    "start_time": "2022-05-19T17:52:53.816Z"
   },
   {
    "duration": 11,
    "start_time": "2022-05-19T17:52:53.875Z"
   },
   {
    "duration": 21,
    "start_time": "2022-05-19T17:52:53.887Z"
   },
   {
    "duration": 17,
    "start_time": "2022-05-19T17:52:53.910Z"
   },
   {
    "duration": 7,
    "start_time": "2022-05-19T17:52:53.929Z"
   },
   {
    "duration": 54,
    "start_time": "2022-05-19T17:52:53.938Z"
   },
   {
    "duration": 17,
    "start_time": "2022-05-19T17:52:53.993Z"
   },
   {
    "duration": 616,
    "start_time": "2022-05-19T17:52:54.011Z"
   },
   {
    "duration": 628,
    "start_time": "2022-05-19T17:53:33.742Z"
   },
   {
    "duration": 642,
    "start_time": "2022-05-19T17:54:32.356Z"
   },
   {
    "duration": 28,
    "start_time": "2022-05-19T17:54:47.414Z"
   },
   {
    "duration": 34,
    "start_time": "2022-05-19T17:56:34.705Z"
   },
   {
    "duration": 46,
    "start_time": "2022-05-19T17:57:08.903Z"
   },
   {
    "duration": 119,
    "start_time": "2022-05-19T17:57:44.807Z"
   },
   {
    "duration": 24,
    "start_time": "2022-05-19T17:57:53.266Z"
   },
   {
    "duration": 8,
    "start_time": "2022-05-19T17:57:54.175Z"
   },
   {
    "duration": 11,
    "start_time": "2022-05-19T17:57:57.318Z"
   },
   {
    "duration": 28,
    "start_time": "2022-05-19T17:57:58.243Z"
   },
   {
    "duration": 9,
    "start_time": "2022-05-19T17:57:59.046Z"
   },
   {
    "duration": 8,
    "start_time": "2022-05-19T18:00:17.052Z"
   },
   {
    "duration": 5,
    "start_time": "2022-05-19T18:00:17.580Z"
   },
   {
    "duration": 9,
    "start_time": "2022-05-19T18:00:27.124Z"
   },
   {
    "duration": 7,
    "start_time": "2022-05-19T18:00:32.092Z"
   },
   {
    "duration": 128,
    "start_time": "2022-05-19T18:00:33.227Z"
   },
   {
    "duration": 9,
    "start_time": "2022-05-19T18:01:14.655Z"
   },
   {
    "duration": 28,
    "start_time": "2022-05-19T18:01:38.498Z"
   },
   {
    "duration": 617,
    "start_time": "2022-05-19T18:01:41.010Z"
   },
   {
    "duration": 269,
    "start_time": "2022-05-19T18:01:43.768Z"
   },
   {
    "duration": 230,
    "start_time": "2022-05-19T18:01:45.263Z"
   },
   {
    "duration": 245,
    "start_time": "2022-05-19T18:01:45.495Z"
   },
   {
    "duration": 160,
    "start_time": "2022-05-19T18:01:49.351Z"
   },
   {
    "duration": 1049,
    "start_time": "2022-05-19T18:01:56.220Z"
   },
   {
    "duration": 11,
    "start_time": "2022-05-19T18:01:58.531Z"
   },
   {
    "duration": 50,
    "start_time": "2022-05-19T18:01:59.356Z"
   },
   {
    "duration": 28,
    "start_time": "2022-05-19T18:10:55.797Z"
   },
   {
    "duration": 3,
    "start_time": "2022-05-19T18:11:53.091Z"
   },
   {
    "duration": 508,
    "start_time": "2022-05-19T18:11:53.097Z"
   },
   {
    "duration": 12,
    "start_time": "2022-05-19T18:11:53.607Z"
   },
   {
    "duration": 18,
    "start_time": "2022-05-19T18:11:53.621Z"
   },
   {
    "duration": 7,
    "start_time": "2022-05-19T18:11:53.641Z"
   },
   {
    "duration": 25,
    "start_time": "2022-05-19T18:11:53.650Z"
   },
   {
    "duration": 5,
    "start_time": "2022-05-19T18:11:53.677Z"
   },
   {
    "duration": 16,
    "start_time": "2022-05-19T18:11:53.683Z"
   },
   {
    "duration": 40,
    "start_time": "2022-05-19T18:11:53.701Z"
   },
   {
    "duration": 36,
    "start_time": "2022-05-19T18:11:53.743Z"
   },
   {
    "duration": 47,
    "start_time": "2022-05-19T18:11:53.781Z"
   },
   {
    "duration": 46,
    "start_time": "2022-05-19T18:11:53.829Z"
   },
   {
    "duration": 5,
    "start_time": "2022-05-19T18:11:53.877Z"
   },
   {
    "duration": 41,
    "start_time": "2022-05-19T18:11:53.884Z"
   },
   {
    "duration": 6,
    "start_time": "2022-05-19T18:11:53.927Z"
   },
   {
    "duration": 50,
    "start_time": "2022-05-19T18:11:53.935Z"
   },
   {
    "duration": 16,
    "start_time": "2022-05-19T18:11:53.986Z"
   },
   {
    "duration": 19,
    "start_time": "2022-05-19T18:11:54.004Z"
   },
   {
    "duration": 18,
    "start_time": "2022-05-19T18:11:54.025Z"
   },
   {
    "duration": 51,
    "start_time": "2022-05-19T18:11:54.046Z"
   },
   {
    "duration": 10,
    "start_time": "2022-05-19T18:11:54.098Z"
   },
   {
    "duration": 32,
    "start_time": "2022-05-19T18:11:54.109Z"
   },
   {
    "duration": 19,
    "start_time": "2022-05-19T18:11:54.142Z"
   },
   {
    "duration": 13,
    "start_time": "2022-05-19T18:11:54.176Z"
   },
   {
    "duration": 39,
    "start_time": "2022-05-19T18:11:54.191Z"
   },
   {
    "duration": 16,
    "start_time": "2022-05-19T18:11:54.232Z"
   },
   {
    "duration": 39,
    "start_time": "2022-05-19T18:11:54.250Z"
   },
   {
    "duration": 28,
    "start_time": "2022-05-19T18:11:54.293Z"
   },
   {
    "duration": 24,
    "start_time": "2022-05-19T18:11:54.323Z"
   },
   {
    "duration": 26,
    "start_time": "2022-05-19T18:11:54.349Z"
   },
   {
    "duration": 14,
    "start_time": "2022-05-19T18:11:54.377Z"
   },
   {
    "duration": 19,
    "start_time": "2022-05-19T18:11:54.393Z"
   },
   {
    "duration": 7,
    "start_time": "2022-05-19T18:11:54.414Z"
   },
   {
    "duration": 7,
    "start_time": "2022-05-19T18:11:54.423Z"
   },
   {
    "duration": 7,
    "start_time": "2022-05-19T18:11:54.432Z"
   },
   {
    "duration": 39,
    "start_time": "2022-05-19T18:11:54.441Z"
   },
   {
    "duration": 6,
    "start_time": "2022-05-19T18:11:54.482Z"
   },
   {
    "duration": 198,
    "start_time": "2022-05-19T18:11:54.490Z"
   },
   {
    "duration": 8,
    "start_time": "2022-05-19T18:11:54.689Z"
   },
   {
    "duration": 32,
    "start_time": "2022-05-19T18:11:54.700Z"
   },
   {
    "duration": 271,
    "start_time": "2022-05-19T18:11:54.734Z"
   },
   {
    "duration": 293,
    "start_time": "2022-05-19T18:11:55.006Z"
   },
   {
    "duration": 294,
    "start_time": "2022-05-19T18:11:55.301Z"
   },
   {
    "duration": 333,
    "start_time": "2022-05-19T18:11:55.597Z"
   },
   {
    "duration": 206,
    "start_time": "2022-05-19T18:11:55.932Z"
   },
   {
    "duration": 1069,
    "start_time": "2022-05-19T18:11:56.140Z"
   },
   {
    "duration": 11,
    "start_time": "2022-05-19T18:11:57.211Z"
   },
   {
    "duration": 52,
    "start_time": "2022-05-19T18:11:57.224Z"
   },
   {
    "duration": 10,
    "start_time": "2022-05-19T18:11:57.277Z"
   },
   {
    "duration": 14,
    "start_time": "2022-05-19T18:11:57.289Z"
   },
   {
    "duration": 7,
    "start_time": "2022-05-19T18:13:20.270Z"
   },
   {
    "duration": 193,
    "start_time": "2022-05-19T18:13:23.288Z"
   },
   {
    "duration": 11,
    "start_time": "2022-05-19T18:13:29.056Z"
   },
   {
    "duration": 35,
    "start_time": "2022-05-19T18:14:00.778Z"
   },
   {
    "duration": 331,
    "start_time": "2022-05-19T18:14:02.632Z"
   },
   {
    "duration": 334,
    "start_time": "2022-05-19T18:14:05.058Z"
   },
   {
    "duration": 324,
    "start_time": "2022-05-19T18:14:06.772Z"
   },
   {
    "duration": 228,
    "start_time": "2022-05-19T18:14:07.233Z"
   },
   {
    "duration": 218,
    "start_time": "2022-05-19T18:14:10.447Z"
   },
   {
    "duration": 1157,
    "start_time": "2022-05-19T18:14:12.699Z"
   },
   {
    "duration": 13,
    "start_time": "2022-05-19T18:14:14.919Z"
   },
   {
    "duration": 52,
    "start_time": "2022-05-19T18:14:26.232Z"
   },
   {
    "duration": 4,
    "start_time": "2022-05-19T18:16:07.420Z"
   },
   {
    "duration": 402,
    "start_time": "2022-05-19T18:16:07.426Z"
   },
   {
    "duration": 15,
    "start_time": "2022-05-19T18:16:07.829Z"
   },
   {
    "duration": 11,
    "start_time": "2022-05-19T18:16:07.846Z"
   },
   {
    "duration": 18,
    "start_time": "2022-05-19T18:16:07.859Z"
   },
   {
    "duration": 7,
    "start_time": "2022-05-19T18:16:07.878Z"
   },
   {
    "duration": 5,
    "start_time": "2022-05-19T18:16:07.886Z"
   },
   {
    "duration": 9,
    "start_time": "2022-05-19T18:16:07.892Z"
   },
   {
    "duration": 27,
    "start_time": "2022-05-19T18:16:07.903Z"
   },
   {
    "duration": 44,
    "start_time": "2022-05-19T18:16:07.932Z"
   },
   {
    "duration": 27,
    "start_time": "2022-05-19T18:16:07.977Z"
   },
   {
    "duration": 26,
    "start_time": "2022-05-19T18:16:08.006Z"
   },
   {
    "duration": 4,
    "start_time": "2022-05-19T18:16:08.034Z"
   },
   {
    "duration": 51,
    "start_time": "2022-05-19T18:16:08.041Z"
   },
   {
    "duration": 8,
    "start_time": "2022-05-19T18:16:08.093Z"
   },
   {
    "duration": 18,
    "start_time": "2022-05-19T18:16:08.103Z"
   },
   {
    "duration": 13,
    "start_time": "2022-05-19T18:16:08.122Z"
   },
   {
    "duration": 39,
    "start_time": "2022-05-19T18:16:08.137Z"
   },
   {
    "duration": 14,
    "start_time": "2022-05-19T18:16:08.177Z"
   },
   {
    "duration": 31,
    "start_time": "2022-05-19T18:16:08.193Z"
   },
   {
    "duration": 9,
    "start_time": "2022-05-19T18:16:08.225Z"
   },
   {
    "duration": 47,
    "start_time": "2022-05-19T18:16:08.244Z"
   },
   {
    "duration": 15,
    "start_time": "2022-05-19T18:16:08.293Z"
   },
   {
    "duration": 6,
    "start_time": "2022-05-19T18:16:08.310Z"
   },
   {
    "duration": 23,
    "start_time": "2022-05-19T18:16:08.317Z"
   },
   {
    "duration": 39,
    "start_time": "2022-05-19T18:16:08.341Z"
   },
   {
    "duration": 27,
    "start_time": "2022-05-19T18:16:08.381Z"
   },
   {
    "duration": 28,
    "start_time": "2022-05-19T18:16:08.410Z"
   },
   {
    "duration": 36,
    "start_time": "2022-05-19T18:16:08.440Z"
   },
   {
    "duration": 5,
    "start_time": "2022-05-19T18:16:08.477Z"
   },
   {
    "duration": 10,
    "start_time": "2022-05-19T18:16:08.484Z"
   },
   {
    "duration": 17,
    "start_time": "2022-05-19T18:16:08.495Z"
   },
   {
    "duration": 6,
    "start_time": "2022-05-19T18:16:08.513Z"
   },
   {
    "duration": 5,
    "start_time": "2022-05-19T18:16:08.520Z"
   },
   {
    "duration": 6,
    "start_time": "2022-05-19T18:16:08.527Z"
   },
   {
    "duration": 44,
    "start_time": "2022-05-19T18:16:08.534Z"
   },
   {
    "duration": 5,
    "start_time": "2022-05-19T18:16:08.580Z"
   },
   {
    "duration": 125,
    "start_time": "2022-05-19T18:16:08.587Z"
   },
   {
    "duration": 8,
    "start_time": "2022-05-19T18:16:08.713Z"
   },
   {
    "duration": 22,
    "start_time": "2022-05-19T18:16:08.722Z"
   },
   {
    "duration": 252,
    "start_time": "2022-05-19T18:16:08.747Z"
   },
   {
    "duration": 227,
    "start_time": "2022-05-19T18:16:09.001Z"
   },
   {
    "duration": 229,
    "start_time": "2022-05-19T18:16:09.230Z"
   },
   {
    "duration": 234,
    "start_time": "2022-05-19T18:16:09.461Z"
   },
   {
    "duration": 179,
    "start_time": "2022-05-19T18:16:09.696Z"
   },
   {
    "duration": 1045,
    "start_time": "2022-05-19T18:16:09.877Z"
   },
   {
    "duration": 13,
    "start_time": "2022-05-19T18:16:10.924Z"
   },
   {
    "duration": 53,
    "start_time": "2022-05-19T18:16:10.938Z"
   },
   {
    "duration": 8,
    "start_time": "2022-05-19T18:16:10.992Z"
   },
   {
    "duration": 10,
    "start_time": "2022-05-19T18:16:11.001Z"
   },
   {
    "duration": 13,
    "start_time": "2022-05-19T18:19:06.088Z"
   },
   {
    "duration": 39,
    "start_time": "2022-05-19T18:19:06.983Z"
   },
   {
    "duration": 3,
    "start_time": "2022-05-19T18:20:59.470Z"
   },
   {
    "duration": 529,
    "start_time": "2022-05-19T18:20:59.476Z"
   },
   {
    "duration": 13,
    "start_time": "2022-05-19T18:21:00.007Z"
   },
   {
    "duration": 25,
    "start_time": "2022-05-19T18:21:00.022Z"
   },
   {
    "duration": 9,
    "start_time": "2022-05-19T18:21:00.049Z"
   },
   {
    "duration": 20,
    "start_time": "2022-05-19T18:21:00.061Z"
   },
   {
    "duration": 6,
    "start_time": "2022-05-19T18:21:00.083Z"
   },
   {
    "duration": 13,
    "start_time": "2022-05-19T18:21:00.091Z"
   },
   {
    "duration": 55,
    "start_time": "2022-05-19T18:21:00.105Z"
   },
   {
    "duration": 49,
    "start_time": "2022-05-19T18:21:00.162Z"
   },
   {
    "duration": 50,
    "start_time": "2022-05-19T18:21:00.216Z"
   },
   {
    "duration": 29,
    "start_time": "2022-05-19T18:21:00.275Z"
   },
   {
    "duration": 5,
    "start_time": "2022-05-19T18:21:00.306Z"
   },
   {
    "duration": 63,
    "start_time": "2022-05-19T18:21:00.313Z"
   },
   {
    "duration": 9,
    "start_time": "2022-05-19T18:21:00.378Z"
   },
   {
    "duration": 35,
    "start_time": "2022-05-19T18:21:00.389Z"
   },
   {
    "duration": 32,
    "start_time": "2022-05-19T18:21:00.426Z"
   },
   {
    "duration": 43,
    "start_time": "2022-05-19T18:21:00.460Z"
   },
   {
    "duration": 20,
    "start_time": "2022-05-19T18:21:00.505Z"
   },
   {
    "duration": 59,
    "start_time": "2022-05-19T18:21:00.527Z"
   },
   {
    "duration": 12,
    "start_time": "2022-05-19T18:21:00.588Z"
   },
   {
    "duration": 40,
    "start_time": "2022-05-19T18:21:00.602Z"
   },
   {
    "duration": 36,
    "start_time": "2022-05-19T18:21:00.649Z"
   },
   {
    "duration": 10,
    "start_time": "2022-05-19T18:21:00.688Z"
   },
   {
    "duration": 33,
    "start_time": "2022-05-19T18:21:00.700Z"
   },
   {
    "duration": 39,
    "start_time": "2022-05-19T18:21:00.736Z"
   },
   {
    "duration": 38,
    "start_time": "2022-05-19T18:21:00.777Z"
   },
   {
    "duration": 59,
    "start_time": "2022-05-19T18:21:00.817Z"
   },
   {
    "duration": 23,
    "start_time": "2022-05-19T18:21:00.883Z"
   },
   {
    "duration": 7,
    "start_time": "2022-05-19T18:21:00.908Z"
   },
   {
    "duration": 31,
    "start_time": "2022-05-19T18:21:00.919Z"
   },
   {
    "duration": 33,
    "start_time": "2022-05-19T18:21:00.952Z"
   },
   {
    "duration": 10,
    "start_time": "2022-05-19T18:21:00.988Z"
   },
   {
    "duration": 12,
    "start_time": "2022-05-19T18:21:00.999Z"
   },
   {
    "duration": 13,
    "start_time": "2022-05-19T18:21:01.013Z"
   },
   {
    "duration": 17,
    "start_time": "2022-05-19T18:21:01.029Z"
   },
   {
    "duration": 17,
    "start_time": "2022-05-19T18:21:01.049Z"
   },
   {
    "duration": 201,
    "start_time": "2022-05-19T18:21:01.068Z"
   },
   {
    "duration": 13,
    "start_time": "2022-05-19T18:21:01.271Z"
   },
   {
    "duration": 39,
    "start_time": "2022-05-19T18:21:01.286Z"
   },
   {
    "duration": 363,
    "start_time": "2022-05-19T18:21:01.327Z"
   },
   {
    "duration": 342,
    "start_time": "2022-05-19T18:21:01.693Z"
   },
   {
    "duration": 511,
    "start_time": "2022-05-19T18:21:02.037Z"
   },
   {
    "duration": 330,
    "start_time": "2022-05-19T18:21:02.550Z"
   },
   {
    "duration": 257,
    "start_time": "2022-05-19T18:21:02.882Z"
   },
   {
    "duration": 1470,
    "start_time": "2022-05-19T18:21:03.142Z"
   },
   {
    "duration": 17,
    "start_time": "2022-05-19T18:21:04.614Z"
   },
   {
    "duration": 188,
    "start_time": "2022-05-19T18:21:04.634Z"
   },
   {
    "duration": 11,
    "start_time": "2022-05-19T18:21:04.824Z"
   },
   {
    "duration": 15,
    "start_time": "2022-05-19T18:21:04.837Z"
   },
   {
    "duration": 11,
    "start_time": "2022-05-19T18:22:31.672Z"
   },
   {
    "duration": 4,
    "start_time": "2022-05-19T18:23:26.612Z"
   },
   {
    "duration": 454,
    "start_time": "2022-05-19T18:23:26.618Z"
   },
   {
    "duration": 14,
    "start_time": "2022-05-19T18:23:27.074Z"
   },
   {
    "duration": 16,
    "start_time": "2022-05-19T18:23:27.092Z"
   },
   {
    "duration": 7,
    "start_time": "2022-05-19T18:23:27.110Z"
   },
   {
    "duration": 9,
    "start_time": "2022-05-19T18:23:27.119Z"
   },
   {
    "duration": 4,
    "start_time": "2022-05-19T18:23:27.129Z"
   },
   {
    "duration": 14,
    "start_time": "2022-05-19T18:23:27.135Z"
   },
   {
    "duration": 48,
    "start_time": "2022-05-19T18:23:27.150Z"
   },
   {
    "duration": 32,
    "start_time": "2022-05-19T18:23:27.200Z"
   },
   {
    "duration": 59,
    "start_time": "2022-05-19T18:23:27.236Z"
   },
   {
    "duration": 28,
    "start_time": "2022-05-19T18:23:27.297Z"
   },
   {
    "duration": 4,
    "start_time": "2022-05-19T18:23:27.327Z"
   },
   {
    "duration": 52,
    "start_time": "2022-05-19T18:23:27.333Z"
   },
   {
    "duration": 6,
    "start_time": "2022-05-19T18:23:27.387Z"
   },
   {
    "duration": 19,
    "start_time": "2022-05-19T18:23:27.395Z"
   },
   {
    "duration": 13,
    "start_time": "2022-05-19T18:23:27.416Z"
   },
   {
    "duration": 46,
    "start_time": "2022-05-19T18:23:27.431Z"
   },
   {
    "duration": 14,
    "start_time": "2022-05-19T18:23:27.479Z"
   },
   {
    "duration": 35,
    "start_time": "2022-05-19T18:23:27.494Z"
   },
   {
    "duration": 8,
    "start_time": "2022-05-19T18:23:27.530Z"
   },
   {
    "duration": 43,
    "start_time": "2022-05-19T18:23:27.540Z"
   },
   {
    "duration": 16,
    "start_time": "2022-05-19T18:23:27.585Z"
   },
   {
    "duration": 13,
    "start_time": "2022-05-19T18:23:27.603Z"
   },
   {
    "duration": 23,
    "start_time": "2022-05-19T18:23:27.618Z"
   },
   {
    "duration": 35,
    "start_time": "2022-05-19T18:23:27.642Z"
   },
   {
    "duration": 27,
    "start_time": "2022-05-19T18:23:27.678Z"
   },
   {
    "duration": 36,
    "start_time": "2022-05-19T18:23:27.707Z"
   },
   {
    "duration": 40,
    "start_time": "2022-05-19T18:23:27.746Z"
   },
   {
    "duration": 8,
    "start_time": "2022-05-19T18:23:27.789Z"
   },
   {
    "duration": 12,
    "start_time": "2022-05-19T18:23:27.801Z"
   },
   {
    "duration": 24,
    "start_time": "2022-05-19T18:23:27.814Z"
   },
   {
    "duration": 7,
    "start_time": "2022-05-19T18:23:27.840Z"
   },
   {
    "duration": 5,
    "start_time": "2022-05-19T18:23:27.849Z"
   },
   {
    "duration": 5,
    "start_time": "2022-05-19T18:23:27.874Z"
   },
   {
    "duration": 11,
    "start_time": "2022-05-19T18:23:27.880Z"
   },
   {
    "duration": 6,
    "start_time": "2022-05-19T18:23:27.892Z"
   },
   {
    "duration": 150,
    "start_time": "2022-05-19T18:23:27.899Z"
   },
   {
    "duration": 39,
    "start_time": "2022-05-19T18:23:28.050Z"
   },
   {
    "duration": 279,
    "start_time": "2022-05-19T18:23:28.091Z"
   },
   {
    "duration": 287,
    "start_time": "2022-05-19T18:23:28.371Z"
   },
   {
    "duration": 257,
    "start_time": "2022-05-19T18:23:28.660Z"
   },
   {
    "duration": 254,
    "start_time": "2022-05-19T18:23:28.919Z"
   },
   {
    "duration": 175,
    "start_time": "2022-05-19T18:23:29.175Z"
   },
   {
    "duration": 1118,
    "start_time": "2022-05-19T18:23:29.351Z"
   },
   {
    "duration": 14,
    "start_time": "2022-05-19T18:23:30.471Z"
   },
   {
    "duration": 17,
    "start_time": "2022-05-19T18:23:30.487Z"
   },
   {
    "duration": 54,
    "start_time": "2022-05-19T18:23:30.506Z"
   },
   {
    "duration": 15,
    "start_time": "2022-05-19T18:23:30.562Z"
   },
   {
    "duration": 15,
    "start_time": "2022-05-19T18:23:30.579Z"
   },
   {
    "duration": 57,
    "start_time": "2022-05-20T13:03:09.423Z"
   },
   {
    "duration": 1540,
    "start_time": "2022-05-20T13:03:15.088Z"
   },
   {
    "duration": 1597,
    "start_time": "2022-05-20T13:03:16.630Z"
   },
   {
    "duration": 14,
    "start_time": "2022-05-20T13:03:18.228Z"
   },
   {
    "duration": 13,
    "start_time": "2022-05-20T13:03:18.245Z"
   },
   {
    "duration": 7,
    "start_time": "2022-05-20T13:03:18.260Z"
   },
   {
    "duration": 13,
    "start_time": "2022-05-20T13:03:18.269Z"
   },
   {
    "duration": 7,
    "start_time": "2022-05-20T13:03:18.284Z"
   },
   {
    "duration": 37,
    "start_time": "2022-05-20T13:03:18.294Z"
   },
   {
    "duration": 42,
    "start_time": "2022-05-20T13:03:18.333Z"
   },
   {
    "duration": 24,
    "start_time": "2022-05-20T13:03:18.379Z"
   },
   {
    "duration": 42,
    "start_time": "2022-05-20T13:03:18.407Z"
   },
   {
    "duration": 23,
    "start_time": "2022-05-20T13:03:18.451Z"
   },
   {
    "duration": 6,
    "start_time": "2022-05-20T13:03:18.475Z"
   },
   {
    "duration": 47,
    "start_time": "2022-05-20T13:03:18.483Z"
   },
   {
    "duration": 7,
    "start_time": "2022-05-20T13:03:18.532Z"
   },
   {
    "duration": 21,
    "start_time": "2022-05-20T13:03:18.542Z"
   },
   {
    "duration": 36,
    "start_time": "2022-05-20T13:03:18.564Z"
   },
   {
    "duration": 21,
    "start_time": "2022-05-20T13:03:18.604Z"
   },
   {
    "duration": 18,
    "start_time": "2022-05-20T13:03:18.627Z"
   },
   {
    "duration": 58,
    "start_time": "2022-05-20T13:03:18.647Z"
   },
   {
    "duration": 11,
    "start_time": "2022-05-20T13:03:18.706Z"
   },
   {
    "duration": 23,
    "start_time": "2022-05-20T13:03:18.721Z"
   },
   {
    "duration": 16,
    "start_time": "2022-05-20T13:03:18.746Z"
   },
   {
    "duration": 6,
    "start_time": "2022-05-20T13:03:18.764Z"
   },
   {
    "duration": 55,
    "start_time": "2022-05-20T13:03:18.772Z"
   },
   {
    "duration": 16,
    "start_time": "2022-05-20T13:03:18.829Z"
   },
   {
    "duration": 47,
    "start_time": "2022-05-20T13:03:18.847Z"
   },
   {
    "duration": 110,
    "start_time": "2022-05-20T13:03:18.897Z"
   },
   {
    "duration": 32,
    "start_time": "2022-05-20T13:03:19.009Z"
   },
   {
    "duration": 11,
    "start_time": "2022-05-20T13:03:19.043Z"
   },
   {
    "duration": 12,
    "start_time": "2022-05-20T13:03:19.056Z"
   },
   {
    "duration": 28,
    "start_time": "2022-05-20T13:03:19.070Z"
   },
   {
    "duration": 17,
    "start_time": "2022-05-20T13:03:19.100Z"
   },
   {
    "duration": 9,
    "start_time": "2022-05-20T13:03:19.119Z"
   },
   {
    "duration": 5,
    "start_time": "2022-05-20T13:03:19.130Z"
   },
   {
    "duration": 12,
    "start_time": "2022-05-20T13:03:19.136Z"
   },
   {
    "duration": 7,
    "start_time": "2022-05-20T13:03:19.149Z"
   },
   {
    "duration": 159,
    "start_time": "2022-05-20T13:03:19.157Z"
   },
   {
    "duration": 24,
    "start_time": "2022-05-20T13:03:19.317Z"
   },
   {
    "duration": 297,
    "start_time": "2022-05-20T13:03:19.343Z"
   },
   {
    "duration": 278,
    "start_time": "2022-05-20T13:03:19.642Z"
   },
   {
    "duration": 295,
    "start_time": "2022-05-20T13:03:19.923Z"
   },
   {
    "duration": 254,
    "start_time": "2022-05-20T13:03:20.220Z"
   },
   {
    "duration": 200,
    "start_time": "2022-05-20T13:03:20.476Z"
   },
   {
    "duration": 1162,
    "start_time": "2022-05-20T13:03:20.678Z"
   },
   {
    "duration": 12,
    "start_time": "2022-05-20T13:03:21.841Z"
   },
   {
    "duration": 14,
    "start_time": "2022-05-20T13:03:21.855Z"
   },
   {
    "duration": 67,
    "start_time": "2022-05-20T13:03:21.871Z"
   },
   {
    "duration": 9,
    "start_time": "2022-05-20T13:03:21.940Z"
   },
   {
    "duration": 21,
    "start_time": "2022-05-20T13:03:21.951Z"
   },
   {
    "duration": 3,
    "start_time": "2022-05-20T13:37:36.462Z"
   },
   {
    "duration": 500,
    "start_time": "2022-05-20T13:37:36.492Z"
   },
   {
    "duration": 11,
    "start_time": "2022-05-20T13:37:36.995Z"
   },
   {
    "duration": 16,
    "start_time": "2022-05-20T13:37:37.008Z"
   },
   {
    "duration": 17,
    "start_time": "2022-05-20T13:37:37.025Z"
   },
   {
    "duration": 13,
    "start_time": "2022-05-20T13:37:37.045Z"
   },
   {
    "duration": 12,
    "start_time": "2022-05-20T13:37:37.064Z"
   },
   {
    "duration": 17,
    "start_time": "2022-05-20T13:37:37.078Z"
   },
   {
    "duration": 26,
    "start_time": "2022-05-20T13:37:37.097Z"
   },
   {
    "duration": 22,
    "start_time": "2022-05-20T13:37:37.124Z"
   },
   {
    "duration": 54,
    "start_time": "2022-05-20T13:37:37.147Z"
   },
   {
    "duration": 27,
    "start_time": "2022-05-20T13:37:37.204Z"
   },
   {
    "duration": 5,
    "start_time": "2022-05-20T13:37:37.233Z"
   },
   {
    "duration": 61,
    "start_time": "2022-05-20T13:37:37.241Z"
   },
   {
    "duration": 9,
    "start_time": "2022-05-20T13:37:37.306Z"
   },
   {
    "duration": 40,
    "start_time": "2022-05-20T13:37:37.317Z"
   },
   {
    "duration": 26,
    "start_time": "2022-05-20T13:37:37.359Z"
   },
   {
    "duration": 39,
    "start_time": "2022-05-20T13:37:37.387Z"
   },
   {
    "duration": 19,
    "start_time": "2022-05-20T13:37:37.428Z"
   },
   {
    "duration": 69,
    "start_time": "2022-05-20T13:37:37.449Z"
   },
   {
    "duration": 13,
    "start_time": "2022-05-20T13:37:37.520Z"
   },
   {
    "duration": 55,
    "start_time": "2022-05-20T13:37:37.535Z"
   },
   {
    "duration": 18,
    "start_time": "2022-05-20T13:37:37.592Z"
   },
   {
    "duration": 12,
    "start_time": "2022-05-20T13:37:37.612Z"
   },
   {
    "duration": 24,
    "start_time": "2022-05-20T13:37:37.626Z"
   },
   {
    "duration": 18,
    "start_time": "2022-05-20T13:37:37.652Z"
   },
   {
    "duration": 54,
    "start_time": "2022-05-20T13:37:37.671Z"
   },
   {
    "duration": 34,
    "start_time": "2022-05-20T13:37:37.727Z"
   },
   {
    "duration": 44,
    "start_time": "2022-05-20T13:37:37.763Z"
   },
   {
    "duration": 51,
    "start_time": "2022-05-20T13:38:09.662Z"
   },
   {
    "duration": 27,
    "start_time": "2022-05-20T13:38:19.653Z"
   },
   {
    "duration": 1077,
    "start_time": "2022-05-20T13:39:49.573Z"
   },
   {
    "duration": 3,
    "start_time": "2022-05-20T13:39:55.625Z"
   },
   {
    "duration": 417,
    "start_time": "2022-05-20T13:39:55.629Z"
   },
   {
    "duration": 10,
    "start_time": "2022-05-20T13:39:56.048Z"
   },
   {
    "duration": 13,
    "start_time": "2022-05-20T13:39:56.059Z"
   },
   {
    "duration": 22,
    "start_time": "2022-05-20T13:39:56.074Z"
   },
   {
    "duration": 10,
    "start_time": "2022-05-20T13:39:56.097Z"
   },
   {
    "duration": 5,
    "start_time": "2022-05-20T13:39:56.109Z"
   },
   {
    "duration": 12,
    "start_time": "2022-05-20T13:39:56.116Z"
   },
   {
    "duration": 29,
    "start_time": "2022-05-20T13:39:56.129Z"
   },
   {
    "duration": 46,
    "start_time": "2022-05-20T13:39:56.160Z"
   },
   {
    "duration": 50,
    "start_time": "2022-05-20T13:39:56.210Z"
   },
   {
    "duration": 38,
    "start_time": "2022-05-20T13:39:56.263Z"
   },
   {
    "duration": 5,
    "start_time": "2022-05-20T13:39:56.303Z"
   },
   {
    "duration": 35,
    "start_time": "2022-05-20T13:39:56.310Z"
   },
   {
    "duration": 9,
    "start_time": "2022-05-20T13:39:56.347Z"
   },
   {
    "duration": 51,
    "start_time": "2022-05-20T13:39:56.358Z"
   },
   {
    "duration": 22,
    "start_time": "2022-05-20T13:39:56.411Z"
   },
   {
    "duration": 26,
    "start_time": "2022-05-20T13:39:56.435Z"
   },
   {
    "duration": 16,
    "start_time": "2022-05-20T13:39:56.463Z"
   },
   {
    "duration": 32,
    "start_time": "2022-05-20T13:39:56.494Z"
   },
   {
    "duration": 8,
    "start_time": "2022-05-20T13:39:56.527Z"
   },
   {
    "duration": 26,
    "start_time": "2022-05-20T13:39:56.537Z"
   },
   {
    "duration": 38,
    "start_time": "2022-05-20T13:39:56.565Z"
   },
   {
    "duration": 8,
    "start_time": "2022-05-20T13:39:56.605Z"
   },
   {
    "duration": 42,
    "start_time": "2022-05-20T13:39:56.615Z"
   },
   {
    "duration": 39,
    "start_time": "2022-05-20T13:39:56.659Z"
   },
   {
    "duration": 30,
    "start_time": "2022-05-20T13:39:56.699Z"
   },
   {
    "duration": 127,
    "start_time": "2022-05-20T13:39:56.730Z"
   },
   {
    "duration": 18,
    "start_time": "2022-05-20T13:39:56.861Z"
   },
   {
    "duration": 17,
    "start_time": "2022-05-20T13:39:56.880Z"
   },
   {
    "duration": 17,
    "start_time": "2022-05-20T13:39:56.898Z"
   },
   {
    "duration": 18,
    "start_time": "2022-05-20T13:39:56.917Z"
   },
   {
    "duration": 7,
    "start_time": "2022-05-20T13:39:56.936Z"
   },
   {
    "duration": 8,
    "start_time": "2022-05-20T13:39:56.945Z"
   },
   {
    "duration": 8,
    "start_time": "2022-05-20T13:39:56.955Z"
   },
   {
    "duration": 33,
    "start_time": "2022-05-20T13:39:56.965Z"
   },
   {
    "duration": 5,
    "start_time": "2022-05-20T13:39:57.000Z"
   },
   {
    "duration": 127,
    "start_time": "2022-05-20T13:39:57.006Z"
   },
   {
    "duration": 121,
    "start_time": "2022-05-20T13:40:18.846Z"
   },
   {
    "duration": 124,
    "start_time": "2022-05-20T13:40:25.024Z"
   }
  ],
  "kernelspec": {
   "display_name": "Python 3 (ipykernel)",
   "language": "python",
   "name": "python3"
  },
  "language_info": {
   "codemirror_mode": {
    "name": "ipython",
    "version": 3
   },
   "file_extension": ".py",
   "mimetype": "text/x-python",
   "name": "python",
   "nbconvert_exporter": "python",
   "pygments_lexer": "ipython3",
   "version": "3.9.7"
  },
  "toc": {
   "base_numbering": 1,
   "nav_menu": {
    "height": "299px",
    "width": "260px"
   },
   "number_sections": true,
   "sideBar": true,
   "skip_h1_title": true,
   "title_cell": "Table of Contents",
   "title_sidebar": "Contents",
   "toc_cell": false,
   "toc_position": {},
   "toc_section_display": true,
   "toc_window_display": true
  }
 },
 "nbformat": 4,
 "nbformat_minor": 5
}
